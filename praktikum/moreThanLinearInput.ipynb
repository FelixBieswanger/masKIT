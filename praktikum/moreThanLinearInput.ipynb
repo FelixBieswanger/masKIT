{
 "cells": [
  {
   "cell_type": "code",
   "execution_count": 1,
   "metadata": {},
   "outputs": [],
   "source": [
    "from myutils import Datasets\n",
    "import tensorflow as tf\n",
    "from matplotlib import pyplot as plt\n",
    "from myutils import Helpers as h\n",
    "import numpy as np\n",
    "import os\n",
    "from sklearn.decomposition import PCA\n",
    "from myutils import Preprocessing as pp\n",
    "from myutils import Complexity_Measures as cm\n",
    "import itertools\n",
    "\n",
    "\n",
    "#Magic Command, so changes in myutils module are reloaded\n",
    "%load_ext autoreload\n",
    "%autoreload 1\n",
    "%aimport myutils"
   ]
  },
  {
   "cell_type": "markdown",
   "metadata": {},
   "source": [
    "# PCA"
   ]
  },
  {
   "cell_type": "code",
   "execution_count": 2,
   "metadata": {},
   "outputs": [],
   "source": [
    "pca = Datasets.get_preprocessed_datasets(\"PCA\")[\"PCA\"]"
   ]
  },
  {
   "cell_type": "code",
   "execution_count": 6,
   "metadata": {},
   "outputs": [
    {
     "name": "stdout",
     "output_type": "stream",
     "text": [
      "working on subset: 4,6\n",
      "Epoch 1/10\n",
      " 25/368 [=>............................] - ETA: 1s - loss: 0.8685 - accuracy: 0.4825"
     ]
    },
    {
     "name": "stderr",
     "output_type": "stream",
     "text": [
      "2022-01-02 18:23:25.776527: I tensorflow/core/grappler/optimizers/custom_graph_optimizer_registry.cc:112] Plugin optimizer for device_type GPU is enabled.\n"
     ]
    },
    {
     "name": "stdout",
     "output_type": "stream",
     "text": [
      "368/368 [==============================] - 2s 4ms/step - loss: 0.7682 - accuracy: 0.5032\n",
      "Epoch 2/10\n",
      "368/368 [==============================] - 2s 4ms/step - loss: 0.6770 - accuracy: 0.5168\n",
      "Epoch 3/10\n",
      "368/368 [==============================] - 2s 4ms/step - loss: 0.6272 - accuracy: 0.6587\n",
      "Epoch 4/10\n",
      "368/368 [==============================] - 1s 4ms/step - loss: 0.5871 - accuracy: 0.8247\n",
      "Epoch 5/10\n",
      "368/368 [==============================] - 1s 4ms/step - loss: 0.5519 - accuracy: 0.9086\n",
      "Epoch 6/10\n",
      "368/368 [==============================] - 1s 4ms/step - loss: 0.5201 - accuracy: 0.9431\n",
      "Epoch 7/10\n",
      "368/368 [==============================] - 1s 4ms/step - loss: 0.4909 - accuracy: 0.9588\n",
      "Epoch 8/10\n",
      "368/368 [==============================] - 1s 4ms/step - loss: 0.4641 - accuracy: 0.9632\n",
      "Epoch 9/10\n",
      "368/368 [==============================] - 1s 4ms/step - loss: 0.4393 - accuracy: 0.9673\n",
      "Epoch 10/10\n",
      "368/368 [==============================] - 1s 4ms/step - loss: 0.4164 - accuracy: 0.9702\n",
      "working on subset: 4,8\n",
      "Epoch 1/10\n",
      " 27/366 [=>............................] - ETA: 1s - loss: 0.9323 - accuracy: 0.4653"
     ]
    },
    {
     "name": "stderr",
     "output_type": "stream",
     "text": [
      "2022-01-02 18:23:40.615953: I tensorflow/core/grappler/optimizers/custom_graph_optimizer_registry.cc:112] Plugin optimizer for device_type GPU is enabled.\n"
     ]
    },
    {
     "name": "stdout",
     "output_type": "stream",
     "text": [
      "366/366 [==============================] - 2s 4ms/step - loss: 0.8162 - accuracy: 0.4913\n",
      "Epoch 2/10\n",
      "366/366 [==============================] - 2s 4ms/step - loss: 0.7299 - accuracy: 0.4108\n",
      "Epoch 3/10\n",
      "366/366 [==============================] - 2s 4ms/step - loss: 0.7041 - accuracy: 0.4696\n",
      "Epoch 4/10\n",
      "366/366 [==============================] - 1s 4ms/step - loss: 0.6833 - accuracy: 0.5293\n",
      "Epoch 5/10\n",
      "366/366 [==============================] - 1s 4ms/step - loss: 0.6618 - accuracy: 0.5960\n",
      "Epoch 6/10\n",
      "366/366 [==============================] - 1s 4ms/step - loss: 0.6402 - accuracy: 0.6629\n",
      "Epoch 7/10\n",
      "366/366 [==============================] - 1s 4ms/step - loss: 0.6186 - accuracy: 0.7234\n",
      "Epoch 8/10\n",
      "366/366 [==============================] - 2s 4ms/step - loss: 0.5973 - accuracy: 0.7782\n",
      "Epoch 9/10\n",
      "366/366 [==============================] - 2s 4ms/step - loss: 0.5767 - accuracy: 0.8185\n",
      "Epoch 10/10\n",
      "366/366 [==============================] - 1s 4ms/step - loss: 0.5568 - accuracy: 0.8445\n",
      "working on subset: 0,7\n",
      "Epoch 1/10\n",
      " 23/381 [>.............................] - ETA: 1s - loss: 0.8553 - accuracy: 0.5231"
     ]
    },
    {
     "name": "stderr",
     "output_type": "stream",
     "text": [
      "2022-01-02 18:23:55.919324: I tensorflow/core/grappler/optimizers/custom_graph_optimizer_registry.cc:112] Plugin optimizer for device_type GPU is enabled.\n"
     ]
    },
    {
     "name": "stdout",
     "output_type": "stream",
     "text": [
      "381/381 [==============================] - 2s 5ms/step - loss: 0.8158 - accuracy: 0.4230\n",
      "Epoch 2/10\n",
      "381/381 [==============================] - 2s 4ms/step - loss: 0.7590 - accuracy: 0.3325\n",
      "Epoch 3/10\n",
      "381/381 [==============================] - 2s 4ms/step - loss: 0.7141 - accuracy: 0.4510\n",
      "Epoch 4/10\n",
      "381/381 [==============================] - 1s 4ms/step - loss: 0.6711 - accuracy: 0.6846\n",
      "Epoch 5/10\n",
      "381/381 [==============================] - 1s 4ms/step - loss: 0.6305 - accuracy: 0.8190\n",
      "Epoch 6/10\n",
      "381/381 [==============================] - 2s 4ms/step - loss: 0.5925 - accuracy: 0.8715\n",
      "Epoch 7/10\n",
      "381/381 [==============================] - 1s 4ms/step - loss: 0.5570 - accuracy: 0.9089\n",
      "Epoch 8/10\n",
      "381/381 [==============================] - 2s 4ms/step - loss: 0.5238 - accuracy: 0.9362\n",
      "Epoch 9/10\n",
      "381/381 [==============================] - 1s 4ms/step - loss: 0.4929 - accuracy: 0.9492\n",
      "Epoch 10/10\n",
      "381/381 [==============================] - 2s 4ms/step - loss: 0.4641 - accuracy: 0.9596\n",
      "working on subset: 2,3\n",
      "Epoch 1/10\n",
      " 26/378 [=>............................] - ETA: 1s - loss: 0.7508 - accuracy: 0.4712"
     ]
    },
    {
     "name": "stderr",
     "output_type": "stream",
     "text": [
      "2022-01-02 18:24:11.654878: I tensorflow/core/grappler/optimizers/custom_graph_optimizer_registry.cc:112] Plugin optimizer for device_type GPU is enabled.\n"
     ]
    },
    {
     "name": "stdout",
     "output_type": "stream",
     "text": [
      "378/378 [==============================] - 2s 5ms/step - loss: 0.6956 - accuracy: 0.4975\n",
      "Epoch 2/10\n",
      "378/378 [==============================] - 2s 4ms/step - loss: 0.6435 - accuracy: 0.6996\n",
      "Epoch 3/10\n",
      "378/378 [==============================] - 1s 4ms/step - loss: 0.6086 - accuracy: 0.8335\n",
      "Epoch 4/10\n",
      "378/378 [==============================] - 1s 4ms/step - loss: 0.5781 - accuracy: 0.8878\n",
      "Epoch 5/10\n",
      "378/378 [==============================] - 1s 4ms/step - loss: 0.5504 - accuracy: 0.9050\n",
      "Epoch 6/10\n",
      "378/378 [==============================] - 2s 4ms/step - loss: 0.5250 - accuracy: 0.9155\n",
      "Epoch 7/10\n",
      "378/378 [==============================] - 2s 4ms/step - loss: 0.5017 - accuracy: 0.9213\n",
      "Epoch 8/10\n",
      "378/378 [==============================] - 2s 4ms/step - loss: 0.4801 - accuracy: 0.9243\n",
      "Epoch 9/10\n",
      "378/378 [==============================] - 1s 4ms/step - loss: 0.4601 - accuracy: 0.9284\n",
      "Epoch 10/10\n",
      "378/378 [==============================] - 1s 4ms/step - loss: 0.4415 - accuracy: 0.9303\n",
      "working on subset: 0,9\n",
      "Epoch 1/10\n",
      " 48/371 [==>...........................] - ETA: 1s - loss: 0.6715 - accuracy: 0.5033"
     ]
    },
    {
     "name": "stderr",
     "output_type": "stream",
     "text": [
      "2022-01-02 18:24:27.478763: I tensorflow/core/grappler/optimizers/custom_graph_optimizer_registry.cc:112] Plugin optimizer for device_type GPU is enabled.\n"
     ]
    },
    {
     "name": "stdout",
     "output_type": "stream",
     "text": [
      "371/371 [==============================] - 1s 4ms/step - loss: 0.6307 - accuracy: 0.6020\n",
      "Epoch 2/10\n",
      "371/371 [==============================] - 1s 3ms/step - loss: 0.5702 - accuracy: 0.8389\n",
      "Epoch 3/10\n",
      "371/371 [==============================] - 1s 3ms/step - loss: 0.5297 - accuracy: 0.9244\n",
      "Epoch 4/10\n",
      "371/371 [==============================] - 1s 3ms/step - loss: 0.4953 - accuracy: 0.9565\n",
      "Epoch 5/10\n",
      "371/371 [==============================] - 1s 3ms/step - loss: 0.4646 - accuracy: 0.9662\n",
      "Epoch 6/10\n",
      "371/371 [==============================] - 1s 3ms/step - loss: 0.4368 - accuracy: 0.9693\n",
      "Epoch 7/10\n",
      "371/371 [==============================] - 1s 3ms/step - loss: 0.4114 - accuracy: 0.9715\n",
      "Epoch 8/10\n",
      "371/371 [==============================] - 1s 4ms/step - loss: 0.3881 - accuracy: 0.9727\n",
      "Epoch 9/10\n",
      "371/371 [==============================] - 1s 3ms/step - loss: 0.3667 - accuracy: 0.9729\n",
      "Epoch 10/10\n",
      "371/371 [==============================] - 1s 4ms/step - loss: 0.3469 - accuracy: 0.9736\n",
      "working on subset: 2,4\n",
      "Epoch 1/10\n",
      " 26/369 [=>............................] - ETA: 1s - loss: 0.6299 - accuracy: 0.6719"
     ]
    },
    {
     "name": "stderr",
     "output_type": "stream",
     "text": [
      "2022-01-02 18:24:40.596143: I tensorflow/core/grappler/optimizers/custom_graph_optimizer_registry.cc:112] Plugin optimizer for device_type GPU is enabled.\n"
     ]
    },
    {
     "name": "stdout",
     "output_type": "stream",
     "text": [
      "369/369 [==============================] - 2s 5ms/step - loss: 0.6133 - accuracy: 0.7855\n",
      "Epoch 2/10\n",
      "369/369 [==============================] - 1s 4ms/step - loss: 0.5836 - accuracy: 0.8886\n",
      "Epoch 3/10\n",
      "369/369 [==============================] - 1s 4ms/step - loss: 0.5565 - accuracy: 0.9297\n",
      "Epoch 4/10\n",
      "369/369 [==============================] - 1s 4ms/step - loss: 0.5316 - accuracy: 0.9411\n",
      "Epoch 5/10\n",
      "369/369 [==============================] - 1s 4ms/step - loss: 0.5083 - accuracy: 0.9466\n",
      "Epoch 6/10\n",
      "369/369 [==============================] - 2s 4ms/step - loss: 0.4866 - accuracy: 0.9486\n",
      "Epoch 7/10\n",
      "369/369 [==============================] - 2s 4ms/step - loss: 0.4663 - accuracy: 0.9509\n",
      "Epoch 8/10\n",
      "369/369 [==============================] - 1s 4ms/step - loss: 0.4473 - accuracy: 0.9525\n",
      "Epoch 9/10\n",
      "369/369 [==============================] - 2s 4ms/step - loss: 0.4294 - accuracy: 0.9539\n",
      "Epoch 10/10\n",
      "369/369 [==============================] - 1s 4ms/step - loss: 0.4125 - accuracy: 0.9542\n",
      "working on subset: 4,9\n",
      "Epoch 1/10\n",
      " 27/369 [=>............................] - ETA: 1s - loss: 0.7303 - accuracy: 0.4954"
     ]
    },
    {
     "name": "stderr",
     "output_type": "stream",
     "text": [
      "2022-01-02 18:24:55.837607: I tensorflow/core/grappler/optimizers/custom_graph_optimizer_registry.cc:112] Plugin optimizer for device_type GPU is enabled.\n"
     ]
    },
    {
     "name": "stdout",
     "output_type": "stream",
     "text": [
      "369/369 [==============================] - 2s 5ms/step - loss: 0.7023 - accuracy: 0.5245\n",
      "Epoch 2/10\n",
      "369/369 [==============================] - 1s 4ms/step - loss: 0.6808 - accuracy: 0.5685\n",
      "Epoch 3/10\n",
      "369/369 [==============================] - 1s 4ms/step - loss: 0.6684 - accuracy: 0.6016\n",
      "Epoch 4/10\n",
      "369/369 [==============================] - 1s 4ms/step - loss: 0.6569 - accuracy: 0.6364\n",
      "Epoch 5/10\n",
      "369/369 [==============================] - 2s 4ms/step - loss: 0.6464 - accuracy: 0.6644\n",
      "Epoch 6/10\n",
      "369/369 [==============================] - 2s 4ms/step - loss: 0.6370 - accuracy: 0.6820\n",
      "Epoch 7/10\n",
      "369/369 [==============================] - 2s 4ms/step - loss: 0.6285 - accuracy: 0.6923\n",
      "Epoch 8/10\n",
      "369/369 [==============================] - 2s 4ms/step - loss: 0.6207 - accuracy: 0.6993\n",
      "Epoch 9/10\n",
      "369/369 [==============================] - 2s 4ms/step - loss: 0.6138 - accuracy: 0.7032\n",
      "Epoch 10/10\n",
      "369/369 [==============================] - 2s 4ms/step - loss: 0.6077 - accuracy: 0.7063\n",
      "working on subset: 4,7\n",
      "Epoch 1/10\n",
      " 24/379 [>.............................] - ETA: 1s - loss: 0.6503 - accuracy: 0.6354"
     ]
    },
    {
     "name": "stderr",
     "output_type": "stream",
     "text": [
      "2022-01-02 18:25:11.215620: I tensorflow/core/grappler/optimizers/custom_graph_optimizer_registry.cc:112] Plugin optimizer for device_type GPU is enabled.\n"
     ]
    },
    {
     "name": "stdout",
     "output_type": "stream",
     "text": [
      "379/379 [==============================] - 2s 5ms/step - loss: 0.6341 - accuracy: 0.6815\n",
      "Epoch 2/10\n",
      "379/379 [==============================] - 2s 4ms/step - loss: 0.5970 - accuracy: 0.7733\n",
      "Epoch 3/10\n",
      "379/379 [==============================] - 2s 4ms/step - loss: 0.5649 - accuracy: 0.8422\n",
      "Epoch 4/10\n",
      "379/379 [==============================] - 2s 4ms/step - loss: 0.5354 - accuracy: 0.8904\n",
      "Epoch 5/10\n",
      "379/379 [==============================] - 2s 4ms/step - loss: 0.5082 - accuracy: 0.9212\n",
      "Epoch 6/10\n",
      "379/379 [==============================] - 2s 4ms/step - loss: 0.4828 - accuracy: 0.9347\n",
      "Epoch 7/10\n",
      "379/379 [==============================] - 2s 4ms/step - loss: 0.4593 - accuracy: 0.9457\n",
      "Epoch 8/10\n",
      "379/379 [==============================] - 2s 4ms/step - loss: 0.4374 - accuracy: 0.9522\n",
      "Epoch 9/10\n",
      "379/379 [==============================] - 2s 4ms/step - loss: 0.4170 - accuracy: 0.9561\n",
      "Epoch 10/10\n",
      "379/379 [==============================] - 2s 4ms/step - loss: 0.3980 - accuracy: 0.9584\n",
      "working on subset: 0,8\n",
      "Epoch 1/10\n",
      " 19/368 [>.............................] - ETA: 2s - loss: 0.6782 - accuracy: 0.4720"
     ]
    },
    {
     "name": "stderr",
     "output_type": "stream",
     "text": [
      "2022-01-02 18:25:27.808362: I tensorflow/core/grappler/optimizers/custom_graph_optimizer_registry.cc:112] Plugin optimizer for device_type GPU is enabled.\n"
     ]
    },
    {
     "name": "stdout",
     "output_type": "stream",
     "text": [
      "368/368 [==============================] - 2s 5ms/step - loss: 0.6247 - accuracy: 0.6992\n",
      "Epoch 2/10\n",
      "368/368 [==============================] - 1s 4ms/step - loss: 0.5806 - accuracy: 0.8915\n",
      "Epoch 3/10\n",
      "368/368 [==============================] - 2s 5ms/step - loss: 0.5487 - accuracy: 0.9242\n",
      "Epoch 4/10\n",
      "368/368 [==============================] - 2s 5ms/step - loss: 0.5180 - accuracy: 0.9433\n",
      "Epoch 5/10\n",
      "368/368 [==============================] - 2s 4ms/step - loss: 0.4889 - accuracy: 0.9518\n",
      "Epoch 6/10\n",
      "368/368 [==============================] - 1s 4ms/step - loss: 0.4615 - accuracy: 0.9572\n",
      "Epoch 7/10\n",
      "368/368 [==============================] - 1s 4ms/step - loss: 0.4360 - accuracy: 0.9617\n",
      "Epoch 8/10\n",
      "368/368 [==============================] - 1s 4ms/step - loss: 0.4122 - accuracy: 0.9635\n",
      "Epoch 9/10\n",
      "368/368 [==============================] - 2s 4ms/step - loss: 0.3899 - accuracy: 0.9650\n",
      "Epoch 10/10\n",
      "368/368 [==============================] - 1s 4ms/step - loss: 0.3692 - accuracy: 0.9660\n",
      "working on subset: 2,5\n",
      "Epoch 1/10\n",
      " 15/356 [>.............................] - ETA: 2s - loss: 0.7696 - accuracy: 0.5354"
     ]
    },
    {
     "name": "stderr",
     "output_type": "stream",
     "text": [
      "2022-01-02 18:25:43.448586: I tensorflow/core/grappler/optimizers/custom_graph_optimizer_registry.cc:112] Plugin optimizer for device_type GPU is enabled.\n"
     ]
    },
    {
     "name": "stdout",
     "output_type": "stream",
     "text": [
      "356/356 [==============================] - 2s 6ms/step - loss: 0.7180 - accuracy: 0.5236\n",
      "Epoch 2/10\n",
      "356/356 [==============================] - 1s 4ms/step - loss: 0.6380 - accuracy: 0.5376\n",
      "Epoch 3/10\n",
      "356/356 [==============================] - 1s 4ms/step - loss: 0.5961 - accuracy: 0.6823\n",
      "Epoch 4/10\n",
      "356/356 [==============================] - 1s 4ms/step - loss: 0.5652 - accuracy: 0.8283\n",
      "Epoch 5/10\n",
      "356/356 [==============================] - 1s 4ms/step - loss: 0.5393 - accuracy: 0.8792\n",
      "Epoch 6/10\n",
      "356/356 [==============================] - 2s 4ms/step - loss: 0.5165 - accuracy: 0.9032\n",
      "Epoch 7/10\n",
      "356/356 [==============================] - 1s 4ms/step - loss: 0.4959 - accuracy: 0.9118\n",
      "Epoch 8/10\n",
      "356/356 [==============================] - 1s 4ms/step - loss: 0.4771 - accuracy: 0.9132\n",
      "Epoch 9/10\n",
      "356/356 [==============================] - 1s 4ms/step - loss: 0.4597 - accuracy: 0.9168\n",
      "Epoch 10/10\n",
      "356/356 [==============================] - 1s 4ms/step - loss: 0.4437 - accuracy: 0.9194\n",
      "working on subset: 0,6\n",
      "Epoch 1/10\n",
      " 27/371 [=>............................] - ETA: 1s - loss: 0.7943 - accuracy: 0.5185"
     ]
    },
    {
     "name": "stderr",
     "output_type": "stream",
     "text": [
      "2022-01-02 18:25:58.390009: I tensorflow/core/grappler/optimizers/custom_graph_optimizer_registry.cc:112] Plugin optimizer for device_type GPU is enabled.\n"
     ]
    },
    {
     "name": "stdout",
     "output_type": "stream",
     "text": [
      "371/371 [==============================] - 2s 5ms/step - loss: 0.7609 - accuracy: 0.4654\n",
      "Epoch 2/10\n",
      "371/371 [==============================] - 1s 4ms/step - loss: 0.7158 - accuracy: 0.4584\n",
      "Epoch 3/10\n",
      "371/371 [==============================] - 1s 4ms/step - loss: 0.6815 - accuracy: 0.5422\n",
      "Epoch 4/10\n",
      "371/371 [==============================] - 1s 4ms/step - loss: 0.6483 - accuracy: 0.6445\n",
      "Epoch 5/10\n",
      "371/371 [==============================] - 1s 4ms/step - loss: 0.6165 - accuracy: 0.7423\n",
      "Epoch 6/10\n",
      "371/371 [==============================] - 1s 4ms/step - loss: 0.5865 - accuracy: 0.8183\n",
      "Epoch 7/10\n",
      "371/371 [==============================] - 2s 4ms/step - loss: 0.5581 - accuracy: 0.8704\n",
      "Epoch 8/10\n",
      "371/371 [==============================] - 2s 4ms/step - loss: 0.5313 - accuracy: 0.8992\n",
      "Epoch 9/10\n",
      "371/371 [==============================] - 2s 5ms/step - loss: 0.5061 - accuracy: 0.9167\n",
      "Epoch 10/10\n",
      "371/371 [==============================] - 1s 4ms/step - loss: 0.4825 - accuracy: 0.9265\n",
      "working on subset: 0,1\n",
      "Epoch 1/10\n",
      " 27/396 [=>............................] - ETA: 1s - loss: 0.7257 - accuracy: 0.5590"
     ]
    },
    {
     "name": "stderr",
     "output_type": "stream",
     "text": [
      "2022-01-02 18:26:13.783580: I tensorflow/core/grappler/optimizers/custom_graph_optimizer_registry.cc:112] Plugin optimizer for device_type GPU is enabled.\n"
     ]
    },
    {
     "name": "stdout",
     "output_type": "stream",
     "text": [
      "396/396 [==============================] - 2s 4ms/step - loss: 0.6965 - accuracy: 0.6754\n",
      "Epoch 2/10\n",
      "396/396 [==============================] - 2s 4ms/step - loss: 0.6462 - accuracy: 0.7979\n",
      "Epoch 3/10\n",
      "396/396 [==============================] - 1s 4ms/step - loss: 0.6009 - accuracy: 0.8502\n",
      "Epoch 4/10\n",
      "396/396 [==============================] - 2s 4ms/step - loss: 0.5587 - accuracy: 0.8914\n",
      "Epoch 5/10\n",
      "396/396 [==============================] - 2s 4ms/step - loss: 0.5198 - accuracy: 0.9224\n",
      "Epoch 6/10\n",
      "396/396 [==============================] - 2s 4ms/step - loss: 0.4839 - accuracy: 0.9492\n",
      "Epoch 7/10\n",
      "396/396 [==============================] - 2s 4ms/step - loss: 0.4508 - accuracy: 0.9618\n",
      "Epoch 8/10\n",
      "396/396 [==============================] - 2s 4ms/step - loss: 0.4202 - accuracy: 0.9714\n",
      "Epoch 9/10\n",
      "396/396 [==============================] - 2s 4ms/step - loss: 0.3920 - accuracy: 0.9777\n",
      "Epoch 10/10\n",
      "396/396 [==============================] - 2s 4ms/step - loss: 0.3659 - accuracy: 0.9805\n",
      "working on subset: 3,7\n",
      "Epoch 1/10\n",
      " 27/388 [=>............................] - ETA: 1s - loss: 0.7138 - accuracy: 0.5012"
     ]
    },
    {
     "name": "stderr",
     "output_type": "stream",
     "text": [
      "2022-01-02 18:26:29.625312: I tensorflow/core/grappler/optimizers/custom_graph_optimizer_registry.cc:112] Plugin optimizer for device_type GPU is enabled.\n"
     ]
    },
    {
     "name": "stdout",
     "output_type": "stream",
     "text": [
      "388/388 [==============================] - 2s 4ms/step - loss: 0.6683 - accuracy: 0.5747\n",
      "Epoch 2/10\n",
      "388/388 [==============================] - 1s 4ms/step - loss: 0.6255 - accuracy: 0.7716\n",
      "Epoch 3/10\n",
      "388/388 [==============================] - 1s 4ms/step - loss: 0.5967 - accuracy: 0.8260\n",
      "Epoch 4/10\n",
      "388/388 [==============================] - 2s 4ms/step - loss: 0.5684 - accuracy: 0.8621\n",
      "Epoch 5/10\n",
      "388/388 [==============================] - 1s 4ms/step - loss: 0.5411 - accuracy: 0.8846\n",
      "Epoch 6/10\n",
      "388/388 [==============================] - 1s 4ms/step - loss: 0.5152 - accuracy: 0.9033\n",
      "Epoch 7/10\n",
      "388/388 [==============================] - 1s 4ms/step - loss: 0.4909 - accuracy: 0.9094\n",
      "Epoch 8/10\n",
      "388/388 [==============================] - 1s 4ms/step - loss: 0.4680 - accuracy: 0.9194\n",
      "Epoch 9/10\n",
      "388/388 [==============================] - 1s 4ms/step - loss: 0.4464 - accuracy: 0.9276\n",
      "Epoch 10/10\n",
      "388/388 [==============================] - 1s 4ms/step - loss: 0.4263 - accuracy: 0.9307\n",
      "working on subset: 1,3\n",
      "Epoch 1/10\n",
      " 24/403 [>.............................] - ETA: 1s - loss: 0.6871 - accuracy: 0.4674"
     ]
    },
    {
     "name": "stderr",
     "output_type": "stream",
     "text": [
      "2022-01-02 18:26:44.665317: I tensorflow/core/grappler/optimizers/custom_graph_optimizer_registry.cc:112] Plugin optimizer for device_type GPU is enabled.\n"
     ]
    },
    {
     "name": "stdout",
     "output_type": "stream",
     "text": [
      "403/403 [==============================] - 2s 4ms/step - loss: 0.6414 - accuracy: 0.6581\n",
      "Epoch 2/10\n",
      "403/403 [==============================] - 2s 4ms/step - loss: 0.5840 - accuracy: 0.8688\n",
      "Epoch 3/10\n",
      "403/403 [==============================] - 2s 4ms/step - loss: 0.5442 - accuracy: 0.9210\n",
      "Epoch 4/10\n",
      "403/403 [==============================] - 2s 4ms/step - loss: 0.5098 - accuracy: 0.9427\n",
      "Epoch 5/10\n",
      "403/403 [==============================] - 2s 4ms/step - loss: 0.4790 - accuracy: 0.9521\n",
      "Epoch 6/10\n",
      "403/403 [==============================] - 2s 4ms/step - loss: 0.4511 - accuracy: 0.9564\n",
      "Epoch 7/10\n",
      "403/403 [==============================] - 2s 4ms/step - loss: 0.4257 - accuracy: 0.9595\n",
      "Epoch 8/10\n",
      "403/403 [==============================] - 2s 4ms/step - loss: 0.4023 - accuracy: 0.9596\n",
      "Epoch 9/10\n",
      "403/403 [==============================] - 2s 4ms/step - loss: 0.3808 - accuracy: 0.9612\n",
      "Epoch 10/10\n",
      "403/403 [==============================] - 2s 4ms/step - loss: 0.3609 - accuracy: 0.9612\n",
      "working on subset: 1,4\n",
      "Epoch 1/10\n",
      " 26/394 [>.............................] - ETA: 1s - loss: 0.6191 - accuracy: 0.5974"
     ]
    },
    {
     "name": "stderr",
     "output_type": "stream",
     "text": [
      "2022-01-02 18:27:00.547549: I tensorflow/core/grappler/optimizers/custom_graph_optimizer_registry.cc:112] Plugin optimizer for device_type GPU is enabled.\n"
     ]
    },
    {
     "name": "stdout",
     "output_type": "stream",
     "text": [
      "394/394 [==============================] - 2s 4ms/step - loss: 0.5953 - accuracy: 0.7584\n",
      "Epoch 2/10\n",
      "394/394 [==============================] - 2s 4ms/step - loss: 0.5599 - accuracy: 0.8782\n",
      "Epoch 3/10\n",
      "394/394 [==============================] - 1s 4ms/step - loss: 0.5286 - accuracy: 0.9167\n",
      "Epoch 4/10\n",
      "394/394 [==============================] - 1s 4ms/step - loss: 0.4990 - accuracy: 0.9360\n",
      "Epoch 5/10\n",
      "394/394 [==============================] - 2s 4ms/step - loss: 0.4713 - accuracy: 0.9474\n",
      "Epoch 6/10\n",
      "394/394 [==============================] - 2s 5ms/step - loss: 0.4455 - accuracy: 0.9559\n",
      "Epoch 7/10\n",
      "394/394 [==============================] - 2s 4ms/step - loss: 0.4215 - accuracy: 0.9615\n",
      "Epoch 8/10\n",
      "394/394 [==============================] - 2s 4ms/step - loss: 0.3991 - accuracy: 0.9652\n",
      "Epoch 9/10\n",
      "394/394 [==============================] - 2s 4ms/step - loss: 0.3782 - accuracy: 0.9677\n",
      "Epoch 10/10\n",
      "394/394 [==============================] - 2s 4ms/step - loss: 0.3587 - accuracy: 0.9701\n",
      "working on subset: 3,9\n",
      "Epoch 1/10\n",
      " 26/378 [=>............................] - ETA: 1s - loss: 0.6442 - accuracy: 0.7837"
     ]
    },
    {
     "name": "stderr",
     "output_type": "stream",
     "text": [
      "2022-01-02 18:27:16.963783: I tensorflow/core/grappler/optimizers/custom_graph_optimizer_registry.cc:112] Plugin optimizer for device_type GPU is enabled.\n"
     ]
    },
    {
     "name": "stdout",
     "output_type": "stream",
     "text": [
      "378/378 [==============================] - 2s 4ms/step - loss: 0.6299 - accuracy: 0.8910\n",
      "Epoch 2/10\n",
      "378/378 [==============================] - 2s 4ms/step - loss: 0.5999 - accuracy: 0.9070\n",
      "Epoch 3/10\n",
      "378/378 [==============================] - 1s 4ms/step - loss: 0.5718 - accuracy: 0.9252\n",
      "Epoch 4/10\n",
      "378/378 [==============================] - 1s 4ms/step - loss: 0.5454 - accuracy: 0.9320\n",
      "Epoch 5/10\n",
      "378/378 [==============================] - 2s 4ms/step - loss: 0.5208 - accuracy: 0.9372\n",
      "Epoch 6/10\n",
      "378/378 [==============================] - 2s 5ms/step - loss: 0.4978 - accuracy: 0.9385\n",
      "Epoch 7/10\n",
      "378/378 [==============================] - 2s 4ms/step - loss: 0.4764 - accuracy: 0.9409\n",
      "Epoch 8/10\n",
      "378/378 [==============================] - 2s 4ms/step - loss: 0.4563 - accuracy: 0.9425\n",
      "Epoch 9/10\n",
      "378/378 [==============================] - 2s 4ms/step - loss: 0.4376 - accuracy: 0.9440\n",
      "Epoch 10/10\n",
      "378/378 [==============================] - 2s 4ms/step - loss: 0.4202 - accuracy: 0.9441\n",
      "working on subset: 7,8\n",
      "Epoch 1/10\n",
      " 22/379 [>.............................] - ETA: 1s - loss: 0.7331 - accuracy: 0.4432"
     ]
    },
    {
     "name": "stderr",
     "output_type": "stream",
     "text": [
      "2022-01-02 18:27:33.031230: I tensorflow/core/grappler/optimizers/custom_graph_optimizer_registry.cc:112] Plugin optimizer for device_type GPU is enabled.\n"
     ]
    },
    {
     "name": "stdout",
     "output_type": "stream",
     "text": [
      "379/379 [==============================] - 2s 5ms/step - loss: 0.7120 - accuracy: 0.4658\n",
      "Epoch 2/10\n",
      "379/379 [==============================] - 2s 4ms/step - loss: 0.6730 - accuracy: 0.5903\n",
      "Epoch 3/10\n",
      "379/379 [==============================] - 2s 4ms/step - loss: 0.6378 - accuracy: 0.7151\n",
      "Epoch 4/10\n",
      "379/379 [==============================] - 2s 6ms/step - loss: 0.6043 - accuracy: 0.8198\n",
      "Epoch 5/10\n",
      "379/379 [==============================] - 2s 4ms/step - loss: 0.5729 - accuracy: 0.8829\n",
      "Epoch 6/10\n",
      "379/379 [==============================] - 2s 4ms/step - loss: 0.5435 - accuracy: 0.9143\n",
      "Epoch 7/10\n",
      "379/379 [==============================] - 2s 4ms/step - loss: 0.5162 - accuracy: 0.9294\n",
      "Epoch 8/10\n",
      "379/379 [==============================] - 2s 4ms/step - loss: 0.4907 - accuracy: 0.9351\n",
      "Epoch 9/10\n",
      "379/379 [==============================] - 2s 4ms/step - loss: 0.4669 - accuracy: 0.9383\n",
      "Epoch 10/10\n",
      "379/379 [==============================] - 2s 4ms/step - loss: 0.4449 - accuracy: 0.9414\n",
      "working on subset: 1,5\n",
      "Epoch 1/10\n",
      " 24/381 [>.............................] - ETA: 1s - loss: 0.7637 - accuracy: 0.5729"
     ]
    },
    {
     "name": "stderr",
     "output_type": "stream",
     "text": [
      "2022-01-02 18:27:49.917430: I tensorflow/core/grappler/optimizers/custom_graph_optimizer_registry.cc:112] Plugin optimizer for device_type GPU is enabled.\n"
     ]
    },
    {
     "name": "stdout",
     "output_type": "stream",
     "text": [
      "381/381 [==============================] - 2s 5ms/step - loss: 0.7436 - accuracy: 0.5068\n",
      "Epoch 2/10\n",
      "381/381 [==============================] - 2s 4ms/step - loss: 0.7028 - accuracy: 0.4547\n",
      "Epoch 3/10\n",
      "381/381 [==============================] - 2s 4ms/step - loss: 0.6668 - accuracy: 0.6136\n",
      "Epoch 4/10\n",
      "381/381 [==============================] - 2s 4ms/step - loss: 0.6326 - accuracy: 0.7195\n",
      "Epoch 5/10\n",
      "381/381 [==============================] - 2s 4ms/step - loss: 0.6003 - accuracy: 0.7912\n",
      "Epoch 6/10\n",
      "381/381 [==============================] - 2s 4ms/step - loss: 0.5701 - accuracy: 0.8364\n",
      "Epoch 7/10\n",
      "381/381 [==============================] - 2s 5ms/step - loss: 0.5419 - accuracy: 0.8741\n",
      "Epoch 8/10\n",
      "381/381 [==============================] - 2s 7ms/step - loss: 0.5156 - accuracy: 0.8944\n",
      "Epoch 9/10\n",
      "381/381 [==============================] - 2s 4ms/step - loss: 0.4910 - accuracy: 0.9115\n",
      "Epoch 10/10\n",
      "381/381 [==============================] - 2s 4ms/step - loss: 0.4681 - accuracy: 0.9185\n",
      "working on subset: 3,8\n",
      "Epoch 1/10\n",
      " 24/375 [>.............................] - ETA: 1s - loss: 0.6989 - accuracy: 0.5078"
     ]
    },
    {
     "name": "stderr",
     "output_type": "stream",
     "text": [
      "2022-01-02 18:28:07.038661: I tensorflow/core/grappler/optimizers/custom_graph_optimizer_registry.cc:112] Plugin optimizer for device_type GPU is enabled.\n"
     ]
    },
    {
     "name": "stdout",
     "output_type": "stream",
     "text": [
      "375/375 [==============================] - 2s 4ms/step - loss: 0.6691 - accuracy: 0.5876\n",
      "Epoch 2/10\n",
      "375/375 [==============================] - 2s 4ms/step - loss: 0.6390 - accuracy: 0.7851\n",
      "Epoch 3/10\n",
      "375/375 [==============================] - 2s 4ms/step - loss: 0.6158 - accuracy: 0.8384\n",
      "Epoch 4/10\n",
      "375/375 [==============================] - 1s 4ms/step - loss: 0.5941 - accuracy: 0.8515\n",
      "Epoch 5/10\n",
      "375/375 [==============================] - 2s 4ms/step - loss: 0.5738 - accuracy: 0.8572\n",
      "Epoch 6/10\n",
      "375/375 [==============================] - 2s 4ms/step - loss: 0.5550 - accuracy: 0.8596\n",
      "Epoch 7/10\n",
      "375/375 [==============================] - 2s 4ms/step - loss: 0.5377 - accuracy: 0.8615\n",
      "Epoch 8/10\n",
      "375/375 [==============================] - 2s 4ms/step - loss: 0.5215 - accuracy: 0.8621\n",
      "Epoch 9/10\n",
      "375/375 [==============================] - 2s 4ms/step - loss: 0.5066 - accuracy: 0.8619\n",
      "Epoch 10/10\n",
      "375/375 [==============================] - 2s 4ms/step - loss: 0.4928 - accuracy: 0.8614\n",
      "working on subset: 1,2\n",
      "Epoch 1/10\n",
      " 25/397 [>.............................] - ETA: 1s - loss: 0.7960 - accuracy: 0.4675"
     ]
    },
    {
     "name": "stderr",
     "output_type": "stream",
     "text": [
      "2022-01-02 18:28:22.866687: I tensorflow/core/grappler/optimizers/custom_graph_optimizer_registry.cc:112] Plugin optimizer for device_type GPU is enabled.\n"
     ]
    },
    {
     "name": "stdout",
     "output_type": "stream",
     "text": [
      "397/397 [==============================] - 2s 5ms/step - loss: 0.7351 - accuracy: 0.5078\n",
      "Epoch 2/10\n",
      "397/397 [==============================] - 2s 4ms/step - loss: 0.6563 - accuracy: 0.6101\n",
      "Epoch 3/10\n",
      "397/397 [==============================] - 2s 4ms/step - loss: 0.6098 - accuracy: 0.8072\n",
      "Epoch 4/10\n",
      "397/397 [==============================] - 2s 5ms/step - loss: 0.5717 - accuracy: 0.8647\n",
      "Epoch 5/10\n",
      "397/397 [==============================] - 2s 4ms/step - loss: 0.5380 - accuracy: 0.8880\n",
      "Epoch 6/10\n",
      "397/397 [==============================] - 2s 4ms/step - loss: 0.5078 - accuracy: 0.9016\n",
      "Epoch 7/10\n",
      "397/397 [==============================] - 2s 4ms/step - loss: 0.4802 - accuracy: 0.9136\n",
      "Epoch 8/10\n",
      "397/397 [==============================] - 2s 4ms/step - loss: 0.4550 - accuracy: 0.9220\n",
      "Epoch 9/10\n",
      "397/397 [==============================] - 2s 4ms/step - loss: 0.4320 - accuracy: 0.9276\n",
      "Epoch 10/10\n",
      "397/397 [==============================] - 2s 4ms/step - loss: 0.4108 - accuracy: 0.9324\n",
      "working on subset: 3,6\n",
      "Epoch 1/10\n",
      " 26/377 [=>............................] - ETA: 1s - loss: 0.6476 - accuracy: 0.6418"
     ]
    },
    {
     "name": "stderr",
     "output_type": "stream",
     "text": [
      "2022-01-02 18:28:40.313956: I tensorflow/core/grappler/optimizers/custom_graph_optimizer_registry.cc:112] Plugin optimizer for device_type GPU is enabled.\n"
     ]
    },
    {
     "name": "stdout",
     "output_type": "stream",
     "text": [
      "377/377 [==============================] - 2s 4ms/step - loss: 0.6239 - accuracy: 0.7273\n",
      "Epoch 2/10\n",
      "377/377 [==============================] - 2s 4ms/step - loss: 0.5892 - accuracy: 0.8312\n",
      "Epoch 3/10\n",
      "377/377 [==============================] - 2s 4ms/step - loss: 0.5578 - accuracy: 0.8840\n",
      "Epoch 4/10\n",
      "377/377 [==============================] - 1s 4ms/step - loss: 0.5288 - accuracy: 0.9143\n",
      "Epoch 5/10\n",
      "377/377 [==============================] - 2s 4ms/step - loss: 0.5019 - accuracy: 0.9303\n",
      "Epoch 6/10\n",
      "377/377 [==============================] - 2s 4ms/step - loss: 0.4771 - accuracy: 0.9409\n",
      "Epoch 7/10\n",
      "377/377 [==============================] - 2s 4ms/step - loss: 0.4540 - accuracy: 0.9472\n",
      "Epoch 8/10\n",
      "377/377 [==============================] - 2s 4ms/step - loss: 0.4326 - accuracy: 0.9498\n",
      "Epoch 9/10\n",
      "377/377 [==============================] - 2s 4ms/step - loss: 0.4127 - accuracy: 0.9550\n",
      "Epoch 10/10\n",
      "377/377 [==============================] - 2s 4ms/step - loss: 0.3941 - accuracy: 0.9558\n",
      "working on subset: 7,9\n",
      "Epoch 1/10\n",
      " 14/382 [>.............................] - ETA: 2s - loss: 0.6853 - accuracy: 0.5022"
     ]
    },
    {
     "name": "stderr",
     "output_type": "stream",
     "text": [
      "2022-01-02 18:28:56.207058: I tensorflow/core/grappler/optimizers/custom_graph_optimizer_registry.cc:112] Plugin optimizer for device_type GPU is enabled.\n"
     ]
    },
    {
     "name": "stdout",
     "output_type": "stream",
     "text": [
      "382/382 [==============================] - 3s 6ms/step - loss: 0.6544 - accuracy: 0.6000\n",
      "Epoch 2/10\n",
      "382/382 [==============================] - 2s 4ms/step - loss: 0.6204 - accuracy: 0.7499\n",
      "Epoch 3/10\n",
      "382/382 [==============================] - 2s 4ms/step - loss: 0.5949 - accuracy: 0.7965\n",
      "Epoch 4/10\n",
      "382/382 [==============================] - 2s 4ms/step - loss: 0.5714 - accuracy: 0.8244\n",
      "Epoch 5/10\n",
      "382/382 [==============================] - 2s 4ms/step - loss: 0.5497 - accuracy: 0.8407\n",
      "Epoch 6/10\n",
      "382/382 [==============================] - 2s 4ms/step - loss: 0.5296 - accuracy: 0.8525\n",
      "Epoch 7/10\n",
      "382/382 [==============================] - 2s 4ms/step - loss: 0.5109 - accuracy: 0.8616\n",
      "Epoch 8/10\n",
      "382/382 [==============================] - 2s 4ms/step - loss: 0.4935 - accuracy: 0.8694\n",
      "Epoch 9/10\n",
      "382/382 [==============================] - 2s 4ms/step - loss: 0.4774 - accuracy: 0.8749\n",
      "Epoch 10/10\n",
      "382/382 [==============================] - 2s 4ms/step - loss: 0.4624 - accuracy: 0.8798\n",
      "working on subset: 2,9\n",
      "Epoch 1/10\n",
      " 26/373 [=>............................] - ETA: 1s - loss: 0.7305 - accuracy: 0.4279"
     ]
    },
    {
     "name": "stderr",
     "output_type": "stream",
     "text": [
      "2022-01-02 18:29:13.276822: I tensorflow/core/grappler/optimizers/custom_graph_optimizer_registry.cc:112] Plugin optimizer for device_type GPU is enabled.\n"
     ]
    },
    {
     "name": "stdout",
     "output_type": "stream",
     "text": [
      "373/373 [==============================] - 2s 4ms/step - loss: 0.7133 - accuracy: 0.4764\n",
      "Epoch 2/10\n",
      "373/373 [==============================] - 2s 4ms/step - loss: 0.6784 - accuracy: 0.5607\n",
      "Epoch 3/10\n",
      "373/373 [==============================] - 2s 4ms/step - loss: 0.6460 - accuracy: 0.6413\n",
      "Epoch 4/10\n",
      "373/373 [==============================] - 2s 4ms/step - loss: 0.6152 - accuracy: 0.7307\n",
      "Epoch 5/10\n",
      "373/373 [==============================] - 2s 4ms/step - loss: 0.5865 - accuracy: 0.8164\n",
      "Epoch 6/10\n",
      "373/373 [==============================] - 2s 4ms/step - loss: 0.5595 - accuracy: 0.8705\n",
      "Epoch 7/10\n",
      "373/373 [==============================] - 2s 4ms/step - loss: 0.5341 - accuracy: 0.9052\n",
      "Epoch 8/10\n",
      "373/373 [==============================] - 2s 4ms/step - loss: 0.5103 - accuracy: 0.9253\n",
      "Epoch 9/10\n",
      "373/373 [==============================] - 2s 4ms/step - loss: 0.4879 - accuracy: 0.9378\n",
      "Epoch 10/10\n",
      "373/373 [==============================] - 2s 4ms/step - loss: 0.4669 - accuracy: 0.9468\n",
      "working on subset: 0,4\n",
      "Epoch 1/10\n",
      " 24/368 [>.............................] - ETA: 1s - loss: 0.6708 - accuracy: 0.5143"
     ]
    },
    {
     "name": "stderr",
     "output_type": "stream",
     "text": [
      "2022-01-02 18:29:29.285234: I tensorflow/core/grappler/optimizers/custom_graph_optimizer_registry.cc:112] Plugin optimizer for device_type GPU is enabled.\n"
     ]
    },
    {
     "name": "stdout",
     "output_type": "stream",
     "text": [
      "368/368 [==============================] - 2s 5ms/step - loss: 0.6227 - accuracy: 0.5512\n",
      "Epoch 2/10\n",
      "368/368 [==============================] - 2s 4ms/step - loss: 0.5489 - accuracy: 0.8294\n",
      "Epoch 3/10\n",
      "368/368 [==============================] - 2s 4ms/step - loss: 0.5060 - accuracy: 0.9210\n",
      "Epoch 4/10\n",
      "368/368 [==============================] - 2s 4ms/step - loss: 0.4711 - accuracy: 0.9458\n",
      "Epoch 5/10\n",
      "368/368 [==============================] - 2s 4ms/step - loss: 0.4406 - accuracy: 0.9553\n",
      "Epoch 6/10\n",
      "368/368 [==============================] - 2s 5ms/step - loss: 0.4131 - accuracy: 0.9636\n",
      "Epoch 7/10\n",
      "368/368 [==============================] - 2s 4ms/step - loss: 0.3880 - accuracy: 0.9672\n",
      "Epoch 8/10\n",
      "368/368 [==============================] - 1s 4ms/step - loss: 0.3650 - accuracy: 0.9699\n",
      "Epoch 9/10\n",
      "368/368 [==============================] - 2s 4ms/step - loss: 0.3437 - accuracy: 0.9731\n",
      "Epoch 10/10\n",
      "368/368 [==============================] - 2s 4ms/step - loss: 0.3242 - accuracy: 0.9764\n",
      "working on subset: 0,3\n",
      "Epoch 1/10\n",
      " 24/377 [>.............................] - ETA: 1s - loss: 0.6970 - accuracy: 0.5260"
     ]
    },
    {
     "name": "stderr",
     "output_type": "stream",
     "text": [
      "2022-01-02 18:29:45.231461: I tensorflow/core/grappler/optimizers/custom_graph_optimizer_registry.cc:112] Plugin optimizer for device_type GPU is enabled.\n"
     ]
    },
    {
     "name": "stdout",
     "output_type": "stream",
     "text": [
      "377/377 [==============================] - 2s 5ms/step - loss: 0.6493 - accuracy: 0.6394\n",
      "Epoch 2/10\n",
      "377/377 [==============================] - 2s 4ms/step - loss: 0.6087 - accuracy: 0.7707\n",
      "Epoch 3/10\n",
      "377/377 [==============================] - 2s 4ms/step - loss: 0.5827 - accuracy: 0.8336\n",
      "Epoch 4/10\n",
      "377/377 [==============================] - 2s 4ms/step - loss: 0.5570 - accuracy: 0.8741\n",
      "Epoch 5/10\n",
      "377/377 [==============================] - 2s 4ms/step - loss: 0.5322 - accuracy: 0.9019\n",
      "Epoch 6/10\n",
      "377/377 [==============================] - 2s 4ms/step - loss: 0.5085 - accuracy: 0.9173\n",
      "Epoch 7/10\n",
      "377/377 [==============================] - 2s 4ms/step - loss: 0.4860 - accuracy: 0.9273\n",
      "Epoch 8/10\n",
      "377/377 [==============================] - 2s 4ms/step - loss: 0.4647 - accuracy: 0.9345\n",
      "Epoch 9/10\n",
      "377/377 [==============================] - 2s 4ms/step - loss: 0.4446 - accuracy: 0.9408\n",
      "Epoch 10/10\n",
      "377/377 [==============================] - 2s 4ms/step - loss: 0.4256 - accuracy: 0.9435\n",
      "working on subset: 2,7\n",
      "Epoch 1/10\n",
      " 24/382 [>.............................] - ETA: 1s - loss: 0.7721 - accuracy: 0.4518"
     ]
    },
    {
     "name": "stderr",
     "output_type": "stream",
     "text": [
      "2022-01-02 18:30:01.206796: I tensorflow/core/grappler/optimizers/custom_graph_optimizer_registry.cc:112] Plugin optimizer for device_type GPU is enabled.\n"
     ]
    },
    {
     "name": "stdout",
     "output_type": "stream",
     "text": [
      "382/382 [==============================] - 2s 5ms/step - loss: 0.7343 - accuracy: 0.4326\n",
      "Epoch 2/10\n",
      "382/382 [==============================] - 2s 4ms/step - loss: 0.6833 - accuracy: 0.5657\n",
      "Epoch 3/10\n",
      "382/382 [==============================] - 2s 4ms/step - loss: 0.6436 - accuracy: 0.7628\n",
      "Epoch 4/10\n",
      "382/382 [==============================] - 2s 4ms/step - loss: 0.6084 - accuracy: 0.8752\n",
      "Epoch 5/10\n",
      "382/382 [==============================] - 2s 4ms/step - loss: 0.5763 - accuracy: 0.9193\n",
      "Epoch 6/10\n",
      "382/382 [==============================] - 2s 4ms/step - loss: 0.5468 - accuracy: 0.9381\n",
      "Epoch 7/10\n",
      "382/382 [==============================] - 2s 4ms/step - loss: 0.5195 - accuracy: 0.9459\n",
      "Epoch 8/10\n",
      "382/382 [==============================] - 2s 4ms/step - loss: 0.4942 - accuracy: 0.9507\n",
      "Epoch 9/10\n",
      "382/382 [==============================] - 2s 4ms/step - loss: 0.4708 - accuracy: 0.9521\n",
      "Epoch 10/10\n",
      "382/382 [==============================] - 2s 4ms/step - loss: 0.4489 - accuracy: 0.9527\n",
      "working on subset: 8,9\n",
      "Epoch 1/10\n",
      " 25/369 [=>............................] - ETA: 1s - loss: 0.6105 - accuracy: 0.7362"
     ]
    },
    {
     "name": "stderr",
     "output_type": "stream",
     "text": [
      "2022-01-02 18:30:16.841763: I tensorflow/core/grappler/optimizers/custom_graph_optimizer_registry.cc:112] Plugin optimizer for device_type GPU is enabled.\n"
     ]
    },
    {
     "name": "stdout",
     "output_type": "stream",
     "text": [
      "369/369 [==============================] - 2s 4ms/step - loss: 0.5933 - accuracy: 0.7895\n",
      "Epoch 2/10\n",
      "369/369 [==============================] - 1s 4ms/step - loss: 0.5670 - accuracy: 0.8362\n",
      "Epoch 3/10\n",
      "369/369 [==============================] - 1s 4ms/step - loss: 0.5428 - accuracy: 0.8629\n",
      "Epoch 4/10\n",
      "369/369 [==============================] - 1s 4ms/step - loss: 0.5206 - accuracy: 0.8770\n",
      "Epoch 5/10\n",
      "369/369 [==============================] - 2s 4ms/step - loss: 0.5001 - accuracy: 0.8887\n",
      "Epoch 6/10\n",
      "369/369 [==============================] - 2s 4ms/step - loss: 0.4811 - accuracy: 0.8955\n",
      "Epoch 7/10\n",
      "369/369 [==============================] - 2s 4ms/step - loss: 0.4636 - accuracy: 0.9005\n",
      "Epoch 8/10\n",
      "369/369 [==============================] - 2s 4ms/step - loss: 0.4473 - accuracy: 0.9055\n",
      "Epoch 9/10\n",
      "369/369 [==============================] - 2s 6ms/step - loss: 0.4323 - accuracy: 0.9102\n",
      "Epoch 10/10\n",
      "369/369 [==============================] - 2s 4ms/step - loss: 0.4182 - accuracy: 0.9134\n",
      "working on subset: 4,5\n",
      "Epoch 1/10\n",
      " 25/352 [=>............................] - ETA: 1s - loss: 0.7458 - accuracy: 0.4750"
     ]
    },
    {
     "name": "stderr",
     "output_type": "stream",
     "text": [
      "2022-01-02 18:30:32.717013: I tensorflow/core/grappler/optimizers/custom_graph_optimizer_registry.cc:112] Plugin optimizer for device_type GPU is enabled.\n"
     ]
    },
    {
     "name": "stdout",
     "output_type": "stream",
     "text": [
      "352/352 [==============================] - 2s 5ms/step - loss: 0.6965 - accuracy: 0.4866\n",
      "Epoch 2/10\n",
      "352/352 [==============================] - 1s 4ms/step - loss: 0.6420 - accuracy: 0.6942\n",
      "Epoch 3/10\n",
      "352/352 [==============================] - 1s 4ms/step - loss: 0.6086 - accuracy: 0.8769\n",
      "Epoch 4/10\n",
      "352/352 [==============================] - 1s 4ms/step - loss: 0.5810 - accuracy: 0.9034\n",
      "Epoch 5/10\n",
      "352/352 [==============================] - 2s 4ms/step - loss: 0.5564 - accuracy: 0.9138\n",
      "Epoch 6/10\n",
      "352/352 [==============================] - 2s 4ms/step - loss: 0.5340 - accuracy: 0.9188\n",
      "Epoch 7/10\n",
      "352/352 [==============================] - 2s 4ms/step - loss: 0.5133 - accuracy: 0.9233\n",
      "Epoch 8/10\n",
      "352/352 [==============================] - 1s 4ms/step - loss: 0.4943 - accuracy: 0.9252\n",
      "Epoch 9/10\n",
      "352/352 [==============================] - 1s 4ms/step - loss: 0.4766 - accuracy: 0.9268\n",
      "Epoch 10/10\n",
      "352/352 [==============================] - 1s 4ms/step - loss: 0.4601 - accuracy: 0.9274\n",
      "working on subset: 6,8\n",
      "Epoch 1/10\n",
      " 23/368 [>.............................] - ETA: 1s - loss: 0.6233 - accuracy: 0.7663"
     ]
    },
    {
     "name": "stderr",
     "output_type": "stream",
     "text": [
      "2022-01-02 18:30:47.792469: I tensorflow/core/grappler/optimizers/custom_graph_optimizer_registry.cc:112] Plugin optimizer for device_type GPU is enabled.\n"
     ]
    },
    {
     "name": "stdout",
     "output_type": "stream",
     "text": [
      "368/368 [==============================] - 2s 5ms/step - loss: 0.6110 - accuracy: 0.8061\n",
      "Epoch 2/10\n",
      "368/368 [==============================] - 1s 4ms/step - loss: 0.5791 - accuracy: 0.8612\n",
      "Epoch 3/10\n",
      "368/368 [==============================] - 2s 4ms/step - loss: 0.5497 - accuracy: 0.9013\n",
      "Epoch 4/10\n",
      "368/368 [==============================] - 1s 4ms/step - loss: 0.5225 - accuracy: 0.9224\n",
      "Epoch 5/10\n",
      "368/368 [==============================] - 1s 4ms/step - loss: 0.4973 - accuracy: 0.9373\n",
      "Epoch 6/10\n",
      "368/368 [==============================] - 1s 4ms/step - loss: 0.4739 - accuracy: 0.9432\n",
      "Epoch 7/10\n",
      "368/368 [==============================] - 1s 4ms/step - loss: 0.4521 - accuracy: 0.9505\n",
      "Epoch 8/10\n",
      "368/368 [==============================] - 1s 4ms/step - loss: 0.4319 - accuracy: 0.9534\n",
      "Epoch 9/10\n",
      "368/368 [==============================] - 2s 4ms/step - loss: 0.4129 - accuracy: 0.9561\n",
      "Epoch 10/10\n",
      "368/368 [==============================] - 2s 4ms/step - loss: 0.3951 - accuracy: 0.9576\n",
      "working on subset: 2,6\n",
      "Epoch 1/10\n",
      " 24/372 [>.............................] - ETA: 1s - loss: 0.8125 - accuracy: 0.4831"
     ]
    },
    {
     "name": "stderr",
     "output_type": "stream",
     "text": [
      "2022-01-02 18:31:03.107671: I tensorflow/core/grappler/optimizers/custom_graph_optimizer_registry.cc:112] Plugin optimizer for device_type GPU is enabled.\n"
     ]
    },
    {
     "name": "stdout",
     "output_type": "stream",
     "text": [
      "372/372 [==============================] - 2s 5ms/step - loss: 0.7258 - accuracy: 0.5004\n",
      "Epoch 2/10\n",
      "372/372 [==============================] - 2s 4ms/step - loss: 0.6589 - accuracy: 0.6633\n",
      "Epoch 3/10\n",
      "372/372 [==============================] - 2s 4ms/step - loss: 0.6363 - accuracy: 0.7813\n",
      "Epoch 4/10\n",
      "372/372 [==============================] - 2s 4ms/step - loss: 0.6162 - accuracy: 0.8142\n",
      "Epoch 5/10\n",
      "372/372 [==============================] - 2s 4ms/step - loss: 0.5959 - accuracy: 0.8363\n",
      "Epoch 6/10\n",
      "372/372 [==============================] - 2s 4ms/step - loss: 0.5757 - accuracy: 0.8481\n",
      "Epoch 7/10\n",
      "372/372 [==============================] - 2s 4ms/step - loss: 0.5560 - accuracy: 0.8697\n",
      "Epoch 8/10\n",
      "372/372 [==============================] - 2s 4ms/step - loss: 0.5370 - accuracy: 0.8771\n",
      "Epoch 9/10\n",
      "372/372 [==============================] - 1s 4ms/step - loss: 0.5189 - accuracy: 0.8819\n",
      "Epoch 10/10\n",
      "372/372 [==============================] - 1s 4ms/step - loss: 0.5015 - accuracy: 0.8899\n",
      "working on subset: 0,2\n",
      "Epoch 1/10\n",
      " 24/372 [>.............................] - ETA: 1s - loss: 0.7846 - accuracy: 0.1406"
     ]
    },
    {
     "name": "stderr",
     "output_type": "stream",
     "text": [
      "2022-01-02 18:31:18.643155: I tensorflow/core/grappler/optimizers/custom_graph_optimizer_registry.cc:112] Plugin optimizer for device_type GPU is enabled.\n"
     ]
    },
    {
     "name": "stdout",
     "output_type": "stream",
     "text": [
      "372/372 [==============================] - 2s 5ms/step - loss: 0.7677 - accuracy: 0.1552\n",
      "Epoch 2/10\n",
      "372/372 [==============================] - 1s 4ms/step - loss: 0.7256 - accuracy: 0.2599\n",
      "Epoch 3/10\n",
      "372/372 [==============================] - 1s 4ms/step - loss: 0.6860 - accuracy: 0.5145\n",
      "Epoch 4/10\n",
      "372/372 [==============================] - 1s 4ms/step - loss: 0.6491 - accuracy: 0.8557\n",
      "Epoch 5/10\n",
      "372/372 [==============================] - 1s 4ms/step - loss: 0.6147 - accuracy: 0.9444\n",
      "Epoch 6/10\n",
      "372/372 [==============================] - 1s 4ms/step - loss: 0.5825 - accuracy: 0.9624\n",
      "Epoch 7/10\n",
      "372/372 [==============================] - 2s 4ms/step - loss: 0.5526 - accuracy: 0.9656\n",
      "Epoch 8/10\n",
      "372/372 [==============================] - 1s 4ms/step - loss: 0.5246 - accuracy: 0.9661\n",
      "Epoch 9/10\n",
      "372/372 [==============================] - 1s 4ms/step - loss: 0.4985 - accuracy: 0.9670\n",
      "Epoch 10/10\n",
      "372/372 [==============================] - 2s 4ms/step - loss: 0.4742 - accuracy: 0.9682\n",
      "working on subset: 2,8\n",
      "Epoch 1/10\n",
      " 24/370 [>.............................] - ETA: 1s - loss: 0.7507 - accuracy: 0.1966"
     ]
    },
    {
     "name": "stderr",
     "output_type": "stream",
     "text": [
      "2022-01-02 18:31:33.922150: I tensorflow/core/grappler/optimizers/custom_graph_optimizer_registry.cc:112] Plugin optimizer for device_type GPU is enabled.\n"
     ]
    },
    {
     "name": "stdout",
     "output_type": "stream",
     "text": [
      "370/370 [==============================] - 2s 5ms/step - loss: 0.7325 - accuracy: 0.2071\n",
      "Epoch 2/10\n",
      "370/370 [==============================] - 2s 4ms/step - loss: 0.7010 - accuracy: 0.4608\n",
      "Epoch 3/10\n",
      "370/370 [==============================] - 2s 5ms/step - loss: 0.6722 - accuracy: 0.7452\n",
      "Epoch 4/10\n",
      "370/370 [==============================] - 2s 4ms/step - loss: 0.6452 - accuracy: 0.8466\n",
      "Epoch 5/10\n",
      "370/370 [==============================] - 1s 4ms/step - loss: 0.6199 - accuracy: 0.8868\n",
      "Epoch 6/10\n",
      "370/370 [==============================] - 1s 4ms/step - loss: 0.5961 - accuracy: 0.9029\n",
      "Epoch 7/10\n",
      "370/370 [==============================] - 2s 4ms/step - loss: 0.5737 - accuracy: 0.9090\n",
      "Epoch 8/10\n",
      "370/370 [==============================] - 2s 4ms/step - loss: 0.5527 - accuracy: 0.9128\n",
      "Epoch 9/10\n",
      "370/370 [==============================] - 1s 4ms/step - loss: 0.5329 - accuracy: 0.9175\n",
      "Epoch 10/10\n",
      "370/370 [==============================] - 1s 4ms/step - loss: 0.5143 - accuracy: 0.9216\n",
      "working on subset: 0,5\n",
      "Epoch 1/10\n",
      " 25/355 [=>............................] - ETA: 1s - loss: 0.6730 - accuracy: 0.5425"
     ]
    },
    {
     "name": "stderr",
     "output_type": "stream",
     "text": [
      "2022-01-02 18:31:49.469086: I tensorflow/core/grappler/optimizers/custom_graph_optimizer_registry.cc:112] Plugin optimizer for device_type GPU is enabled.\n"
     ]
    },
    {
     "name": "stdout",
     "output_type": "stream",
     "text": [
      "355/355 [==============================] - 2s 5ms/step - loss: 0.6428 - accuracy: 0.6517\n",
      "Epoch 2/10\n",
      "355/355 [==============================] - 2s 4ms/step - loss: 0.6153 - accuracy: 0.7113\n",
      "Epoch 3/10\n",
      "355/355 [==============================] - 1s 4ms/step - loss: 0.5961 - accuracy: 0.7320\n",
      "Epoch 4/10\n",
      "355/355 [==============================] - 1s 4ms/step - loss: 0.5772 - accuracy: 0.7533\n",
      "Epoch 5/10\n",
      "355/355 [==============================] - 2s 5ms/step - loss: 0.5592 - accuracy: 0.7738\n",
      "Epoch 6/10\n",
      "355/355 [==============================] - 2s 4ms/step - loss: 0.5419 - accuracy: 0.7954\n",
      "Epoch 7/10\n",
      "355/355 [==============================] - 1s 4ms/step - loss: 0.5255 - accuracy: 0.8095\n",
      "Epoch 8/10\n",
      "355/355 [==============================] - 1s 4ms/step - loss: 0.5102 - accuracy: 0.8285\n",
      "Epoch 9/10\n",
      "355/355 [==============================] - 2s 4ms/step - loss: 0.4958 - accuracy: 0.8373\n",
      "Epoch 10/10\n",
      "355/355 [==============================] - 2s 6ms/step - loss: 0.4820 - accuracy: 0.8476\n",
      "working on subset: 6,7\n",
      "Epoch 1/10\n",
      "  6/381 [..............................] - ETA: 3s - loss: 0.8039 - accuracy: 0.4844  "
     ]
    },
    {
     "name": "stderr",
     "output_type": "stream",
     "text": [
      "2022-01-02 18:32:05.818943: I tensorflow/core/grappler/optimizers/custom_graph_optimizer_registry.cc:112] Plugin optimizer for device_type GPU is enabled.\n"
     ]
    },
    {
     "name": "stdout",
     "output_type": "stream",
     "text": [
      "381/381 [==============================] - 3s 6ms/step - loss: 0.7704 - accuracy: 0.3988\n",
      "Epoch 2/10\n",
      "381/381 [==============================] - 2s 4ms/step - loss: 0.7230 - accuracy: 0.4553\n",
      "Epoch 3/10\n",
      "381/381 [==============================] - 1s 4ms/step - loss: 0.6838 - accuracy: 0.5807\n",
      "Epoch 4/10\n",
      "381/381 [==============================] - 2s 4ms/step - loss: 0.6461 - accuracy: 0.7153\n",
      "Epoch 5/10\n",
      "381/381 [==============================] - 2s 4ms/step - loss: 0.6104 - accuracy: 0.8193\n",
      "Epoch 6/10\n",
      "381/381 [==============================] - 2s 4ms/step - loss: 0.5766 - accuracy: 0.8873\n",
      "Epoch 7/10\n",
      "381/381 [==============================] - 2s 5ms/step - loss: 0.5449 - accuracy: 0.9237\n",
      "Epoch 8/10\n",
      "381/381 [==============================] - 2s 4ms/step - loss: 0.5151 - accuracy: 0.9434\n",
      "Epoch 9/10\n",
      "381/381 [==============================] - 2s 5ms/step - loss: 0.4871 - accuracy: 0.9572\n",
      "Epoch 10/10\n",
      "381/381 [==============================] - 2s 5ms/step - loss: 0.4609 - accuracy: 0.9646\n",
      "working on subset: 6,9\n",
      "Epoch 1/10\n",
      " 23/371 [>.............................] - ETA: 1s - loss: 0.8492 - accuracy: 0.5122"
     ]
    },
    {
     "name": "stderr",
     "output_type": "stream",
     "text": [
      "2022-01-02 18:32:23.676551: I tensorflow/core/grappler/optimizers/custom_graph_optimizer_registry.cc:112] Plugin optimizer for device_type GPU is enabled.\n"
     ]
    },
    {
     "name": "stdout",
     "output_type": "stream",
     "text": [
      "371/371 [==============================] - 2s 5ms/step - loss: 0.7836 - accuracy: 0.4973\n",
      "Epoch 2/10\n",
      "371/371 [==============================] - 2s 4ms/step - loss: 0.7134 - accuracy: 0.4318\n",
      "Epoch 3/10\n",
      "371/371 [==============================] - 2s 4ms/step - loss: 0.6788 - accuracy: 0.5912\n",
      "Epoch 4/10\n",
      "371/371 [==============================] - 1s 4ms/step - loss: 0.6452 - accuracy: 0.7304\n",
      "Epoch 5/10\n",
      "371/371 [==============================] - 1s 4ms/step - loss: 0.6120 - accuracy: 0.8393\n",
      "Epoch 6/10\n",
      "371/371 [==============================] - 1s 4ms/step - loss: 0.5800 - accuracy: 0.9006\n",
      "Epoch 7/10\n",
      "371/371 [==============================] - 2s 4ms/step - loss: 0.5493 - accuracy: 0.9333\n",
      "Epoch 8/10\n",
      "371/371 [==============================] - 2s 5ms/step - loss: 0.5201 - accuracy: 0.9509\n",
      "Epoch 9/10\n",
      "371/371 [==============================] - 2s 5ms/step - loss: 0.4926 - accuracy: 0.9606\n",
      "Epoch 10/10\n",
      "371/371 [==============================] - 2s 4ms/step - loss: 0.4666 - accuracy: 0.9675\n",
      "working on subset: 5,8\n",
      "Epoch 1/10\n",
      " 24/353 [=>............................] - ETA: 1s - loss: 0.7189 - accuracy: 0.4961"
     ]
    },
    {
     "name": "stderr",
     "output_type": "stream",
     "text": [
      "2022-01-02 18:32:39.862273: I tensorflow/core/grappler/optimizers/custom_graph_optimizer_registry.cc:112] Plugin optimizer for device_type GPU is enabled.\n"
     ]
    },
    {
     "name": "stdout",
     "output_type": "stream",
     "text": [
      "353/353 [==============================] - 2s 4ms/step - loss: 0.7027 - accuracy: 0.5075\n",
      "Epoch 2/10\n",
      "353/353 [==============================] - 2s 4ms/step - loss: 0.6720 - accuracy: 0.5675\n",
      "Epoch 3/10\n",
      "353/353 [==============================] - 1s 4ms/step - loss: 0.6451 - accuracy: 0.6379\n",
      "Epoch 4/10\n",
      "353/353 [==============================] - 2s 4ms/step - loss: 0.6200 - accuracy: 0.7015\n",
      "Epoch 5/10\n",
      "353/353 [==============================] - 1s 4ms/step - loss: 0.5965 - accuracy: 0.7644\n",
      "Epoch 6/10\n",
      "353/353 [==============================] - 1s 4ms/step - loss: 0.5742 - accuracy: 0.8106\n",
      "Epoch 7/10\n",
      "353/353 [==============================] - 1s 4ms/step - loss: 0.5533 - accuracy: 0.8400\n",
      "Epoch 8/10\n",
      "353/353 [==============================] - 1s 4ms/step - loss: 0.5336 - accuracy: 0.8612\n",
      "Epoch 9/10\n",
      "353/353 [==============================] - 1s 4ms/step - loss: 0.5151 - accuracy: 0.8754\n",
      "Epoch 10/10\n",
      "353/353 [==============================] - 1s 4ms/step - loss: 0.4977 - accuracy: 0.8876\n",
      "working on subset: 5,6\n",
      "Epoch 1/10\n",
      " 23/355 [>.............................] - ETA: 1s - loss: 0.6518 - accuracy: 0.5367"
     ]
    },
    {
     "name": "stderr",
     "output_type": "stream",
     "text": [
      "2022-01-02 18:32:54.664028: I tensorflow/core/grappler/optimizers/custom_graph_optimizer_registry.cc:112] Plugin optimizer for device_type GPU is enabled.\n"
     ]
    },
    {
     "name": "stdout",
     "output_type": "stream",
     "text": [
      "355/355 [==============================] - 2s 5ms/step - loss: 0.6224 - accuracy: 0.5694\n",
      "Epoch 2/10\n",
      "355/355 [==============================] - 1s 4ms/step - loss: 0.5767 - accuracy: 0.8689\n",
      "Epoch 3/10\n",
      "355/355 [==============================] - 1s 4ms/step - loss: 0.5465 - accuracy: 0.9307\n",
      "Epoch 4/10\n",
      "355/355 [==============================] - 1s 4ms/step - loss: 0.5207 - accuracy: 0.9402\n",
      "Epoch 5/10\n",
      "355/355 [==============================] - 2s 4ms/step - loss: 0.4976 - accuracy: 0.9450\n",
      "Epoch 6/10\n",
      "355/355 [==============================] - 2s 4ms/step - loss: 0.4763 - accuracy: 0.9459\n",
      "Epoch 7/10\n",
      "355/355 [==============================] - 2s 4ms/step - loss: 0.4567 - accuracy: 0.9478\n",
      "Epoch 8/10\n",
      "355/355 [==============================] - 1s 4ms/step - loss: 0.4385 - accuracy: 0.9480\n",
      "Epoch 9/10\n",
      "355/355 [==============================] - 2s 5ms/step - loss: 0.4217 - accuracy: 0.9486\n",
      "Epoch 10/10\n",
      "355/355 [==============================] - 1s 4ms/step - loss: 0.4060 - accuracy: 0.9494\n",
      "working on subset: 3,4\n",
      "Epoch 1/10\n",
      " 25/375 [=>............................] - ETA: 1s - loss: 0.8120 - accuracy: 0.2137"
     ]
    },
    {
     "name": "stderr",
     "output_type": "stream",
     "text": [
      "2022-01-02 18:33:10.388211: I tensorflow/core/grappler/optimizers/custom_graph_optimizer_registry.cc:112] Plugin optimizer for device_type GPU is enabled.\n"
     ]
    },
    {
     "name": "stdout",
     "output_type": "stream",
     "text": [
      "375/375 [==============================] - 2s 4ms/step - loss: 0.7895 - accuracy: 0.1901\n",
      "Epoch 2/10\n",
      "375/375 [==============================] - 2s 4ms/step - loss: 0.7508 - accuracy: 0.2658\n",
      "Epoch 3/10\n",
      "375/375 [==============================] - 1s 4ms/step - loss: 0.7148 - accuracy: 0.3829\n",
      "Epoch 4/10\n",
      "375/375 [==============================] - 2s 4ms/step - loss: 0.6803 - accuracy: 0.5168\n",
      "Epoch 5/10\n",
      "375/375 [==============================] - 2s 4ms/step - loss: 0.6478 - accuracy: 0.6801\n",
      "Epoch 6/10\n",
      "375/375 [==============================] - 2s 4ms/step - loss: 0.6169 - accuracy: 0.8452\n",
      "Epoch 7/10\n",
      "375/375 [==============================] - 2s 4ms/step - loss: 0.5877 - accuracy: 0.9070\n",
      "Epoch 8/10\n",
      "375/375 [==============================] - 1s 4ms/step - loss: 0.5602 - accuracy: 0.9325\n",
      "Epoch 9/10\n",
      "375/375 [==============================] - 1s 4ms/step - loss: 0.5343 - accuracy: 0.9480\n",
      "Epoch 10/10\n",
      "375/375 [==============================] - 2s 5ms/step - loss: 0.5099 - accuracy: 0.9504\n",
      "working on subset: 1,9\n",
      "Epoch 1/10\n",
      "  7/397 [..............................] - ETA: 3s - loss: 0.7659 - accuracy: 0.2946  "
     ]
    },
    {
     "name": "stderr",
     "output_type": "stream",
     "text": [
      "2022-01-02 18:33:26.617616: I tensorflow/core/grappler/optimizers/custom_graph_optimizer_registry.cc:112] Plugin optimizer for device_type GPU is enabled.\n"
     ]
    },
    {
     "name": "stdout",
     "output_type": "stream",
     "text": [
      "397/397 [==============================] - 3s 6ms/step - loss: 0.7377 - accuracy: 0.3353\n",
      "Epoch 2/10\n",
      "397/397 [==============================] - 2s 4ms/step - loss: 0.6902 - accuracy: 0.4691\n",
      "Epoch 3/10\n",
      "397/397 [==============================] - 2s 4ms/step - loss: 0.6482 - accuracy: 0.7493\n",
      "Epoch 4/10\n",
      "397/397 [==============================] - 2s 4ms/step - loss: 0.6100 - accuracy: 0.8516\n",
      "Epoch 5/10\n",
      "397/397 [==============================] - 2s 4ms/step - loss: 0.5746 - accuracy: 0.9075\n",
      "Epoch 6/10\n",
      "397/397 [==============================] - 2s 4ms/step - loss: 0.5419 - accuracy: 0.9320\n",
      "Epoch 7/10\n",
      "397/397 [==============================] - 2s 4ms/step - loss: 0.5115 - accuracy: 0.9481\n",
      "Epoch 8/10\n",
      "397/397 [==============================] - 2s 4ms/step - loss: 0.4832 - accuracy: 0.9537\n",
      "Epoch 9/10\n",
      "397/397 [==============================] - 2s 4ms/step - loss: 0.4569 - accuracy: 0.9590\n",
      "Epoch 10/10\n",
      "397/397 [==============================] - 2s 4ms/step - loss: 0.4324 - accuracy: 0.9636\n",
      "working on subset: 1,7\n",
      "Epoch 1/10\n",
      " 24/407 [>.............................] - ETA: 1s - loss: 0.6257 - accuracy: 0.4740"
     ]
    },
    {
     "name": "stderr",
     "output_type": "stream",
     "text": [
      "2022-01-02 18:33:44.414443: I tensorflow/core/grappler/optimizers/custom_graph_optimizer_registry.cc:112] Plugin optimizer for device_type GPU is enabled.\n"
     ]
    },
    {
     "name": "stdout",
     "output_type": "stream",
     "text": [
      "407/407 [==============================] - 2s 5ms/step - loss: 0.5840 - accuracy: 0.7478\n",
      "Epoch 2/10\n",
      "407/407 [==============================] - 2s 4ms/step - loss: 0.5331 - accuracy: 0.9661\n",
      "Epoch 3/10\n",
      "407/407 [==============================] - 2s 4ms/step - loss: 0.4956 - accuracy: 0.9704\n",
      "Epoch 4/10\n",
      "407/407 [==============================] - 2s 4ms/step - loss: 0.4629 - accuracy: 0.9723\n",
      "Epoch 5/10\n",
      "407/407 [==============================] - 2s 4ms/step - loss: 0.4338 - accuracy: 0.9692\n",
      "Epoch 6/10\n",
      "407/407 [==============================] - 2s 4ms/step - loss: 0.4075 - accuracy: 0.9692\n",
      "Epoch 7/10\n",
      "407/407 [==============================] - 2s 5ms/step - loss: 0.3839 - accuracy: 0.9702\n",
      "Epoch 8/10\n",
      "407/407 [==============================] - 2s 4ms/step - loss: 0.3621 - accuracy: 0.9704\n",
      "Epoch 9/10\n",
      "407/407 [==============================] - 2s 4ms/step - loss: 0.3422 - accuracy: 0.9687\n",
      "Epoch 10/10\n",
      "407/407 [==============================] - 2s 4ms/step - loss: 0.3238 - accuracy: 0.9689\n",
      "working on subset: 5,7\n",
      "Epoch 1/10\n",
      " 24/366 [>.............................] - ETA: 1s - loss: 0.8076 - accuracy: 0.5260"
     ]
    },
    {
     "name": "stderr",
     "output_type": "stream",
     "text": [
      "2022-01-02 18:34:02.135750: I tensorflow/core/grappler/optimizers/custom_graph_optimizer_registry.cc:112] Plugin optimizer for device_type GPU is enabled.\n"
     ]
    },
    {
     "name": "stdout",
     "output_type": "stream",
     "text": [
      "366/366 [==============================] - 2s 5ms/step - loss: 0.7358 - accuracy: 0.5337\n",
      "Epoch 2/10\n",
      "366/366 [==============================] - 2s 6ms/step - loss: 0.6766 - accuracy: 0.5260\n",
      "Epoch 3/10\n",
      "366/366 [==============================] - 2s 4ms/step - loss: 0.6472 - accuracy: 0.6916\n",
      "Epoch 4/10\n",
      "366/366 [==============================] - 1s 4ms/step - loss: 0.6191 - accuracy: 0.8136\n",
      "Epoch 5/10\n",
      "366/366 [==============================] - 1s 4ms/step - loss: 0.5918 - accuracy: 0.8851\n",
      "Epoch 6/10\n",
      "366/366 [==============================] - 1s 4ms/step - loss: 0.5654 - accuracy: 0.9124\n",
      "Epoch 7/10\n",
      "366/366 [==============================] - 1s 4ms/step - loss: 0.5403 - accuracy: 0.9271\n",
      "Epoch 8/10\n",
      "366/366 [==============================] - 1s 4ms/step - loss: 0.5163 - accuracy: 0.9386\n",
      "Epoch 9/10\n",
      "366/366 [==============================] - 1s 4ms/step - loss: 0.4935 - accuracy: 0.9446\n",
      "Epoch 10/10\n",
      "366/366 [==============================] - 2s 4ms/step - loss: 0.4719 - accuracy: 0.9493\n",
      "working on subset: 5,9\n",
      "Epoch 1/10\n",
      " 25/356 [=>............................] - ETA: 1s - loss: 0.7260 - accuracy: 0.4462"
     ]
    },
    {
     "name": "stderr",
     "output_type": "stream",
     "text": [
      "2022-01-02 18:34:17.910117: I tensorflow/core/grappler/optimizers/custom_graph_optimizer_registry.cc:112] Plugin optimizer for device_type GPU is enabled.\n"
     ]
    },
    {
     "name": "stdout",
     "output_type": "stream",
     "text": [
      "356/356 [==============================] - 2s 4ms/step - loss: 0.6622 - accuracy: 0.5906\n",
      "Epoch 2/10\n",
      "356/356 [==============================] - 1s 4ms/step - loss: 0.6211 - accuracy: 0.8412\n",
      "Epoch 3/10\n",
      "356/356 [==============================] - 1s 4ms/step - loss: 0.5998 - accuracy: 0.8250\n",
      "Epoch 4/10\n",
      "356/356 [==============================] - 1s 4ms/step - loss: 0.5794 - accuracy: 0.8442\n",
      "Epoch 5/10\n",
      "356/356 [==============================] - 1s 4ms/step - loss: 0.5595 - accuracy: 0.8507\n",
      "Epoch 6/10\n",
      "356/356 [==============================] - 1s 4ms/step - loss: 0.5404 - accuracy: 0.8661\n",
      "Epoch 7/10\n",
      "356/356 [==============================] - 1s 4ms/step - loss: 0.5223 - accuracy: 0.8736\n",
      "Epoch 8/10\n",
      "356/356 [==============================] - 1s 4ms/step - loss: 0.5052 - accuracy: 0.8805\n",
      "Epoch 9/10\n",
      "356/356 [==============================] - 2s 4ms/step - loss: 0.4889 - accuracy: 0.8862\n",
      "Epoch 10/10\n",
      "356/356 [==============================] - 1s 4ms/step - loss: 0.4735 - accuracy: 0.8919\n",
      "working on subset: 1,6\n",
      "Epoch 1/10\n",
      " 25/396 [>.............................] - ETA: 1s - loss: 0.7370 - accuracy: 0.5400"
     ]
    },
    {
     "name": "stderr",
     "output_type": "stream",
     "text": [
      "2022-01-02 18:34:32.650704: I tensorflow/core/grappler/optimizers/custom_graph_optimizer_registry.cc:112] Plugin optimizer for device_type GPU is enabled.\n"
     ]
    },
    {
     "name": "stdout",
     "output_type": "stream",
     "text": [
      "396/396 [==============================] - 2s 4ms/step - loss: 0.6976 - accuracy: 0.5585\n",
      "Epoch 2/10\n",
      "396/396 [==============================] - 2s 4ms/step - loss: 0.6453 - accuracy: 0.6642\n",
      "Epoch 3/10\n",
      "396/396 [==============================] - 2s 4ms/step - loss: 0.6083 - accuracy: 0.7823\n",
      "Epoch 4/10\n",
      "396/396 [==============================] - 2s 4ms/step - loss: 0.5726 - accuracy: 0.8591\n",
      "Epoch 5/10\n",
      "396/396 [==============================] - 2s 4ms/step - loss: 0.5389 - accuracy: 0.9034\n",
      "Epoch 6/10\n",
      "396/396 [==============================] - 2s 4ms/step - loss: 0.5073 - accuracy: 0.9239\n",
      "Epoch 7/10\n",
      "396/396 [==============================] - 2s 4ms/step - loss: 0.4777 - accuracy: 0.9340\n",
      "Epoch 8/10\n",
      "396/396 [==============================] - 2s 4ms/step - loss: 0.4503 - accuracy: 0.9491\n",
      "Epoch 9/10\n",
      "396/396 [==============================] - 2s 4ms/step - loss: 0.4247 - accuracy: 0.9547\n",
      "Epoch 10/10\n",
      "396/396 [==============================] - 2s 4ms/step - loss: 0.4010 - accuracy: 0.9614\n",
      "working on subset: 3,5\n",
      "Epoch 1/10\n",
      " 48/361 [==>...........................] - ETA: 1s - loss: 0.7340 - accuracy: 0.5475"
     ]
    },
    {
     "name": "stderr",
     "output_type": "stream",
     "text": [
      "2022-01-02 18:34:49.295484: I tensorflow/core/grappler/optimizers/custom_graph_optimizer_registry.cc:112] Plugin optimizer for device_type GPU is enabled.\n"
     ]
    },
    {
     "name": "stdout",
     "output_type": "stream",
     "text": [
      "361/361 [==============================] - 1s 4ms/step - loss: 0.7195 - accuracy: 0.5586\n",
      "Epoch 2/10\n",
      "361/361 [==============================] - 1s 3ms/step - loss: 0.6870 - accuracy: 0.5659\n",
      "Epoch 3/10\n",
      "361/361 [==============================] - 1s 3ms/step - loss: 0.6648 - accuracy: 0.6174\n",
      "Epoch 4/10\n",
      "361/361 [==============================] - 1s 4ms/step - loss: 0.6439 - accuracy: 0.6722\n",
      "Epoch 5/10\n",
      "361/361 [==============================] - 2s 6ms/step - loss: 0.6241 - accuracy: 0.7091\n",
      "Epoch 6/10\n",
      "361/361 [==============================] - 1s 3ms/step - loss: 0.6057 - accuracy: 0.7396\n",
      "Epoch 7/10\n",
      "361/361 [==============================] - 1s 4ms/step - loss: 0.5885 - accuracy: 0.7640\n",
      "Epoch 8/10\n",
      "361/361 [==============================] - 1s 3ms/step - loss: 0.5722 - accuracy: 0.7813\n",
      "Epoch 9/10\n",
      "361/361 [==============================] - 1s 3ms/step - loss: 0.5569 - accuracy: 0.7989\n",
      "Epoch 10/10\n",
      "361/361 [==============================] - 1s 3ms/step - loss: 0.5424 - accuracy: 0.8090\n",
      "working on subset: 1,8\n",
      "Epoch 1/10\n",
      " 25/394 [>.............................] - ETA: 1s - loss: 0.7495 - accuracy: 0.5650"
     ]
    },
    {
     "name": "stderr",
     "output_type": "stream",
     "text": [
      "2022-01-02 18:35:02.797824: I tensorflow/core/grappler/optimizers/custom_graph_optimizer_registry.cc:112] Plugin optimizer for device_type GPU is enabled.\n"
     ]
    },
    {
     "name": "stdout",
     "output_type": "stream",
     "text": [
      "394/394 [==============================] - 2s 4ms/step - loss: 0.7390 - accuracy: 0.5369\n",
      "Epoch 2/10\n",
      "394/394 [==============================] - 2s 4ms/step - loss: 0.7019 - accuracy: 0.5821\n",
      "Epoch 3/10\n",
      "394/394 [==============================] - 2s 4ms/step - loss: 0.6685 - accuracy: 0.7117\n",
      "Epoch 4/10\n",
      "394/394 [==============================] - 2s 4ms/step - loss: 0.6367 - accuracy: 0.7751\n",
      "Epoch 5/10\n",
      "394/394 [==============================] - 2s 4ms/step - loss: 0.6067 - accuracy: 0.8166\n",
      "Epoch 6/10\n",
      "394/394 [==============================] - 2s 4ms/step - loss: 0.5784 - accuracy: 0.8383\n",
      "Epoch 7/10\n",
      "394/394 [==============================] - 2s 4ms/step - loss: 0.5520 - accuracy: 0.8684\n",
      "Epoch 8/10\n",
      "394/394 [==============================] - 2s 4ms/step - loss: 0.5272 - accuracy: 0.8879\n",
      "Epoch 9/10\n",
      "394/394 [==============================] - 2s 4ms/step - loss: 0.5039 - accuracy: 0.8973\n",
      "Epoch 10/10\n",
      "394/394 [==============================] - 2s 4ms/step - loss: 0.4820 - accuracy: 0.9080\n"
     ]
    }
   ],
   "source": [
    "for subset_name in pca:\n",
    "\n",
    "    print(\"working on subset:\",subset_name)\n",
    "    subset = pca[subset_name]\n",
    "\n",
    "    with tf.device('/gpu:0'):\n",
    "        tf.compat.v1.reset_default_graph()\n",
    "        tf.keras.backend.clear_session()\n",
    "        \n",
    "        model  = tf.keras.models.Sequential([\n",
    "            tf.keras.layers.Dense(1, activation='sigmoid', input_shape=(4,))])\n",
    "\n",
    "\n",
    "        model.compile(optimizer='adam',loss=\"binary_crossentropy\", metrics=['accuracy'])\n",
    "\n",
    "        hist = model.fit(\n",
    "            x=subset[\"x_train\"],\n",
    "            y=subset[\"y_train_binary\"],\n",
    "            epochs=10,\n",
    "            batch_size = 32)\n",
    "\n",
    "        weights = model.trainable_weights[0].numpy()\n",
    "        bias = model.trainable_weights[1].numpy()\n",
    "\n",
    "        if not os.path.isdir(\"measure/nncheck/PCA/\"+subset_name):\n",
    "            os.mkdir(\"measure/nncheck/PCA/\"+subset_name)\n",
    "\n",
    "        np.save(\"measure/nncheck/PCA/\"+subset_name+\"/weights.npy\",weights)\n",
    "        np.save(\"measure/nncheck/PCA/\"+subset_name+\"/bias.npy\",bias)\n",
    "\n",
    "        del model\n",
    "    "
   ]
  },
  {
   "cell_type": "markdown",
   "metadata": {},
   "source": [
    "# Autoencoder"
   ]
  },
  {
   "cell_type": "code",
   "execution_count": 148,
   "metadata": {},
   "outputs": [],
   "source": [
    "autoencoder = Datasets.get_preprocessed_datasets(\"Autoencoder\")[\"Autoencoder\"]"
   ]
  },
  {
   "cell_type": "code",
   "execution_count": 150,
   "metadata": {},
   "outputs": [
    {
     "name": "stdout",
     "output_type": "stream",
     "text": [
      "working on subset: 4,6\n",
      "Epoch 1/10\n",
      " 22/368 [>.............................] - ETA: 1s - loss: 0.6754 - accuracy: 0.4943"
     ]
    },
    {
     "name": "stderr",
     "output_type": "stream",
     "text": [
      "2022-01-03 12:25:11.228147: I tensorflow/core/grappler/optimizers/custom_graph_optimizer_registry.cc:112] Plugin optimizer for device_type GPU is enabled.\n"
     ]
    },
    {
     "name": "stdout",
     "output_type": "stream",
     "text": [
      "368/368 [==============================] - 2s 4ms/step - loss: 0.6652 - accuracy: 0.6260\n",
      "Epoch 2/10\n",
      "368/368 [==============================] - 1s 4ms/step - loss: 0.6550 - accuracy: 0.6937\n",
      "Epoch 3/10\n",
      "368/368 [==============================] - 2s 4ms/step - loss: 0.6467 - accuracy: 0.6895\n",
      "Epoch 4/10\n",
      "368/368 [==============================] - 1s 4ms/step - loss: 0.6395 - accuracy: 0.6899\n",
      "Epoch 5/10\n",
      "368/368 [==============================] - 1s 4ms/step - loss: 0.6332 - accuracy: 0.6889\n",
      "Epoch 6/10\n",
      "368/368 [==============================] - 1s 4ms/step - loss: 0.6278 - accuracy: 0.6874\n",
      "Epoch 7/10\n",
      "368/368 [==============================] - 1s 4ms/step - loss: 0.6231 - accuracy: 0.6866\n",
      "Epoch 8/10\n",
      "368/368 [==============================] - 1s 4ms/step - loss: 0.6190 - accuracy: 0.6860\n",
      "Epoch 9/10\n",
      "368/368 [==============================] - 2s 4ms/step - loss: 0.6155 - accuracy: 0.6865\n",
      "Epoch 10/10\n",
      "368/368 [==============================] - 1s 4ms/step - loss: 0.6125 - accuracy: 0.6879\n",
      "working on subset: 4,8\n",
      "Epoch 1/10\n",
      " 24/366 [>.............................] - ETA: 1s - loss: 0.9080 - accuracy: 0.3620"
     ]
    },
    {
     "name": "stderr",
     "output_type": "stream",
     "text": [
      "2022-01-03 12:25:26.261849: I tensorflow/core/grappler/optimizers/custom_graph_optimizer_registry.cc:112] Plugin optimizer for device_type GPU is enabled.\n"
     ]
    },
    {
     "name": "stdout",
     "output_type": "stream",
     "text": [
      "366/366 [==============================] - 2s 5ms/step - loss: 0.8594 - accuracy: 0.3254\n",
      "Epoch 2/10\n",
      "366/366 [==============================] - 1s 4ms/step - loss: 0.7883 - accuracy: 0.3191\n",
      "Epoch 3/10\n",
      "366/366 [==============================] - 1s 4ms/step - loss: 0.7424 - accuracy: 0.3180\n",
      "Epoch 4/10\n",
      "366/366 [==============================] - 1s 4ms/step - loss: 0.7066 - accuracy: 0.3743\n",
      "Epoch 5/10\n",
      "366/366 [==============================] - 1s 4ms/step - loss: 0.6779 - accuracy: 0.5918\n",
      "Epoch 6/10\n",
      "366/366 [==============================] - 1s 4ms/step - loss: 0.6549 - accuracy: 0.6757\n",
      "Epoch 7/10\n",
      "366/366 [==============================] - 1s 4ms/step - loss: 0.6368 - accuracy: 0.6769\n",
      "Epoch 8/10\n",
      "366/366 [==============================] - 1s 4ms/step - loss: 0.6225 - accuracy: 0.6781\n",
      "Epoch 9/10\n",
      "366/366 [==============================] - 1s 4ms/step - loss: 0.6113 - accuracy: 0.6782\n",
      "Epoch 10/10\n",
      "366/366 [==============================] - 1s 4ms/step - loss: 0.6026 - accuracy: 0.6802\n",
      "working on subset: 0,7\n",
      "Epoch 1/10\n",
      " 21/381 [>.............................] - ETA: 1s - loss: 0.9876 - accuracy: 0.4926"
     ]
    },
    {
     "name": "stderr",
     "output_type": "stream",
     "text": [
      "2022-01-03 12:25:41.320077: I tensorflow/core/grappler/optimizers/custom_graph_optimizer_registry.cc:112] Plugin optimizer for device_type GPU is enabled.\n"
     ]
    },
    {
     "name": "stdout",
     "output_type": "stream",
     "text": [
      "381/381 [==============================] - 2s 5ms/step - loss: 0.8309 - accuracy: 0.5140\n",
      "Epoch 2/10\n",
      "381/381 [==============================] - 2s 4ms/step - loss: 0.6257 - accuracy: 0.7174\n",
      "Epoch 3/10\n",
      "381/381 [==============================] - 2s 4ms/step - loss: 0.4984 - accuracy: 0.9719\n",
      "Epoch 4/10\n",
      "381/381 [==============================] - 2s 4ms/step - loss: 0.4114 - accuracy: 0.9733\n",
      "Epoch 5/10\n",
      "381/381 [==============================] - 2s 4ms/step - loss: 0.3484 - accuracy: 0.9729\n",
      "Epoch 6/10\n",
      "381/381 [==============================] - 2s 4ms/step - loss: 0.3015 - accuracy: 0.9728\n",
      "Epoch 7/10\n",
      "381/381 [==============================] - 2s 4ms/step - loss: 0.2654 - accuracy: 0.9733\n",
      "Epoch 8/10\n",
      "381/381 [==============================] - 2s 4ms/step - loss: 0.2370 - accuracy: 0.9731\n",
      "Epoch 9/10\n",
      "381/381 [==============================] - 2s 4ms/step - loss: 0.2142 - accuracy: 0.9729\n",
      "Epoch 10/10\n",
      "381/381 [==============================] - 2s 4ms/step - loss: 0.1955 - accuracy: 0.9729\n",
      "working on subset: 2,3\n",
      "Epoch 1/10\n",
      " 24/378 [>.............................] - ETA: 1s - loss: 0.7998 - accuracy: 0.4766"
     ]
    },
    {
     "name": "stderr",
     "output_type": "stream",
     "text": [
      "2022-01-03 12:25:57.296971: I tensorflow/core/grappler/optimizers/custom_graph_optimizer_registry.cc:112] Plugin optimizer for device_type GPU is enabled.\n"
     ]
    },
    {
     "name": "stdout",
     "output_type": "stream",
     "text": [
      "378/378 [==============================] - 2s 5ms/step - loss: 0.7320 - accuracy: 0.5072\n",
      "Epoch 2/10\n",
      "378/378 [==============================] - 2s 4ms/step - loss: 0.6420 - accuracy: 0.5264\n",
      "Epoch 3/10\n",
      "378/378 [==============================] - 2s 5ms/step - loss: 0.5697 - accuracy: 0.7677\n",
      "Epoch 4/10\n",
      "378/378 [==============================] - 1s 4ms/step - loss: 0.5123 - accuracy: 0.8379\n",
      "Epoch 5/10\n",
      "378/378 [==============================] - 1s 4ms/step - loss: 0.4672 - accuracy: 0.8552\n",
      "Epoch 6/10\n",
      "378/378 [==============================] - 1s 4ms/step - loss: 0.4318 - accuracy: 0.8662\n",
      "Epoch 7/10\n",
      "378/378 [==============================] - 1s 4ms/step - loss: 0.4038 - accuracy: 0.8689\n",
      "Epoch 8/10\n",
      "378/378 [==============================] - 1s 4ms/step - loss: 0.3815 - accuracy: 0.8715\n",
      "Epoch 9/10\n",
      "378/378 [==============================] - 1s 4ms/step - loss: 0.3635 - accuracy: 0.8735\n",
      "Epoch 10/10\n",
      "378/378 [==============================] - 2s 4ms/step - loss: 0.3491 - accuracy: 0.8750\n",
      "working on subset: 0,9\n",
      "Epoch 1/10\n",
      " 46/371 [==>...........................] - ETA: 1s - loss: 0.8819 - accuracy: 0.5143"
     ]
    },
    {
     "name": "stderr",
     "output_type": "stream",
     "text": [
      "2022-01-03 12:26:12.816285: I tensorflow/core/grappler/optimizers/custom_graph_optimizer_registry.cc:112] Plugin optimizer for device_type GPU is enabled.\n"
     ]
    },
    {
     "name": "stdout",
     "output_type": "stream",
     "text": [
      "371/371 [==============================] - 1s 4ms/step - loss: 0.8049 - accuracy: 0.4989\n",
      "Epoch 2/10\n",
      "371/371 [==============================] - 1s 3ms/step - loss: 0.6299 - accuracy: 0.5396\n",
      "Epoch 3/10\n",
      "371/371 [==============================] - 1s 3ms/step - loss: 0.5051 - accuracy: 0.7780\n",
      "Epoch 4/10\n",
      "371/371 [==============================] - 1s 3ms/step - loss: 0.4171 - accuracy: 0.8736\n",
      "Epoch 5/10\n",
      "371/371 [==============================] - 1s 3ms/step - loss: 0.3543 - accuracy: 0.9325\n",
      "Epoch 6/10\n",
      "371/371 [==============================] - 1s 3ms/step - loss: 0.3083 - accuracy: 0.9543\n",
      "Epoch 7/10\n",
      "371/371 [==============================] - 1s 3ms/step - loss: 0.2735 - accuracy: 0.9607\n",
      "Epoch 8/10\n",
      "371/371 [==============================] - 1s 3ms/step - loss: 0.2466 - accuracy: 0.9613\n",
      "Epoch 9/10\n",
      "371/371 [==============================] - 1s 3ms/step - loss: 0.2252 - accuracy: 0.9620\n",
      "Epoch 10/10\n",
      "371/371 [==============================] - 1s 3ms/step - loss: 0.2079 - accuracy: 0.9615\n",
      "working on subset: 2,4\n",
      "Epoch 1/10\n",
      " 24/369 [>.............................] - ETA: 1s - loss: 0.8273 - accuracy: 0.5104"
     ]
    },
    {
     "name": "stderr",
     "output_type": "stream",
     "text": [
      "2022-01-03 12:26:25.051267: I tensorflow/core/grappler/optimizers/custom_graph_optimizer_registry.cc:112] Plugin optimizer for device_type GPU is enabled.\n"
     ]
    },
    {
     "name": "stdout",
     "output_type": "stream",
     "text": [
      "369/369 [==============================] - 2s 5ms/step - loss: 0.7585 - accuracy: 0.4951\n",
      "Epoch 2/10\n",
      "369/369 [==============================] - 2s 4ms/step - loss: 0.6977 - accuracy: 0.4951\n",
      "Epoch 3/10\n",
      "369/369 [==============================] - 2s 4ms/step - loss: 0.6936 - accuracy: 0.4900\n",
      "Epoch 4/10\n",
      "369/369 [==============================] - 1s 4ms/step - loss: 0.6934 - accuracy: 0.4764\n",
      "Epoch 5/10\n",
      "369/369 [==============================] - 1s 4ms/step - loss: 0.6931 - accuracy: 0.4984\n",
      "Epoch 6/10\n",
      "369/369 [==============================] - 1s 4ms/step - loss: 0.6929 - accuracy: 0.5153\n",
      "Epoch 7/10\n",
      "369/369 [==============================] - 1s 4ms/step - loss: 0.6927 - accuracy: 0.5222\n",
      "Epoch 8/10\n",
      "369/369 [==============================] - 1s 4ms/step - loss: 0.6924 - accuracy: 0.5294\n",
      "Epoch 9/10\n",
      "369/369 [==============================] - 1s 4ms/step - loss: 0.6921 - accuracy: 0.5398\n",
      "Epoch 10/10\n",
      "369/369 [==============================] - 1s 4ms/step - loss: 0.6919 - accuracy: 0.5393\n",
      "working on subset: 4,9\n",
      "Epoch 1/10\n",
      " 22/369 [>.............................] - ETA: 1s - loss: 0.7348 - accuracy: 0.4957"
     ]
    },
    {
     "name": "stderr",
     "output_type": "stream",
     "text": [
      "2022-01-03 12:26:40.466334: I tensorflow/core/grappler/optimizers/custom_graph_optimizer_registry.cc:112] Plugin optimizer for device_type GPU is enabled.\n"
     ]
    },
    {
     "name": "stdout",
     "output_type": "stream",
     "text": [
      "369/369 [==============================] - 2s 5ms/step - loss: 0.7087 - accuracy: 0.4955\n",
      "Epoch 2/10\n",
      "369/369 [==============================] - 1s 4ms/step - loss: 0.6880 - accuracy: 0.5442\n",
      "Epoch 3/10\n",
      "369/369 [==============================] - 1s 4ms/step - loss: 0.6837 - accuracy: 0.5709\n",
      "Epoch 4/10\n",
      "369/369 [==============================] - 2s 4ms/step - loss: 0.6827 - accuracy: 0.5699\n",
      "Epoch 5/10\n",
      "369/369 [==============================] - 1s 4ms/step - loss: 0.6826 - accuracy: 0.5701\n",
      "Epoch 6/10\n",
      "369/369 [==============================] - 1s 4ms/step - loss: 0.6826 - accuracy: 0.5701\n",
      "Epoch 7/10\n",
      "369/369 [==============================] - 1s 4ms/step - loss: 0.6826 - accuracy: 0.5698\n",
      "Epoch 8/10\n",
      "369/369 [==============================] - 1s 4ms/step - loss: 0.6826 - accuracy: 0.5698\n",
      "Epoch 9/10\n",
      "369/369 [==============================] - 1s 4ms/step - loss: 0.6826 - accuracy: 0.5700\n",
      "Epoch 10/10\n",
      "369/369 [==============================] - 1s 4ms/step - loss: 0.6826 - accuracy: 0.5699\n",
      "working on subset: 4,7\n",
      "Epoch 1/10\n",
      " 24/379 [>.............................] - ETA: 1s - loss: 1.0736 - accuracy: 0.5000"
     ]
    },
    {
     "name": "stderr",
     "output_type": "stream",
     "text": [
      "2022-01-03 12:26:55.762157: I tensorflow/core/grappler/optimizers/custom_graph_optimizer_registry.cc:112] Plugin optimizer for device_type GPU is enabled.\n"
     ]
    },
    {
     "name": "stdout",
     "output_type": "stream",
     "text": [
      "379/379 [==============================] - 2s 5ms/step - loss: 0.8578 - accuracy: 0.5175\n",
      "Epoch 2/10\n",
      "379/379 [==============================] - 1s 4ms/step - loss: 0.6185 - accuracy: 0.6726\n",
      "Epoch 3/10\n",
      "379/379 [==============================] - 2s 4ms/step - loss: 0.5257 - accuracy: 0.8158\n",
      "Epoch 4/10\n",
      "379/379 [==============================] - 2s 4ms/step - loss: 0.4891 - accuracy: 0.8158\n",
      "Epoch 5/10\n",
      "379/379 [==============================] - 2s 4ms/step - loss: 0.4739 - accuracy: 0.8158\n",
      "Epoch 6/10\n",
      "379/379 [==============================] - 2s 4ms/step - loss: 0.4675 - accuracy: 0.8156\n",
      "Epoch 7/10\n",
      "379/379 [==============================] - 2s 4ms/step - loss: 0.4650 - accuracy: 0.8156\n",
      "Epoch 8/10\n",
      "379/379 [==============================] - 2s 4ms/step - loss: 0.4640 - accuracy: 0.8157\n",
      "Epoch 9/10\n",
      "379/379 [==============================] - 2s 4ms/step - loss: 0.4637 - accuracy: 0.8157\n",
      "Epoch 10/10\n",
      "379/379 [==============================] - 2s 4ms/step - loss: 0.4636 - accuracy: 0.8156\n",
      "working on subset: 0,8\n",
      "Epoch 1/10\n",
      " 24/368 [>.............................] - ETA: 1s - loss: 0.4942 - accuracy: 0.9609"
     ]
    },
    {
     "name": "stderr",
     "output_type": "stream",
     "text": [
      "2022-01-03 12:27:11.423917: I tensorflow/core/grappler/optimizers/custom_graph_optimizer_registry.cc:112] Plugin optimizer for device_type GPU is enabled.\n"
     ]
    },
    {
     "name": "stdout",
     "output_type": "stream",
     "text": [
      "368/368 [==============================] - 2s 5ms/step - loss: 0.4127 - accuracy: 0.9535\n",
      "Epoch 2/10\n",
      "368/368 [==============================] - 1s 4ms/step - loss: 0.2994 - accuracy: 0.9528\n",
      "Epoch 3/10\n",
      "368/368 [==============================] - 1s 4ms/step - loss: 0.2432 - accuracy: 0.9529\n",
      "Epoch 4/10\n",
      "368/368 [==============================] - 1s 4ms/step - loss: 0.2131 - accuracy: 0.9531\n",
      "Epoch 5/10\n",
      "368/368 [==============================] - 1s 4ms/step - loss: 0.1966 - accuracy: 0.9531\n",
      "Epoch 6/10\n",
      "368/368 [==============================] - 1s 4ms/step - loss: 0.1872 - accuracy: 0.9534\n",
      "Epoch 7/10\n",
      "368/368 [==============================] - 1s 4ms/step - loss: 0.1815 - accuracy: 0.9535\n",
      "Epoch 8/10\n",
      "368/368 [==============================] - 1s 4ms/step - loss: 0.1781 - accuracy: 0.9535\n",
      "Epoch 9/10\n",
      "368/368 [==============================] - 1s 4ms/step - loss: 0.1760 - accuracy: 0.9535\n",
      "Epoch 10/10\n",
      "368/368 [==============================] - 2s 4ms/step - loss: 0.1747 - accuracy: 0.9536\n",
      "working on subset: 2,5\n",
      "Epoch 1/10\n",
      " 24/356 [=>............................] - ETA: 1s - loss: 0.7102 - accuracy: 0.4805"
     ]
    },
    {
     "name": "stderr",
     "output_type": "stream",
     "text": [
      "2022-01-03 12:27:26.506588: I tensorflow/core/grappler/optimizers/custom_graph_optimizer_registry.cc:112] Plugin optimizer for device_type GPU is enabled.\n"
     ]
    },
    {
     "name": "stdout",
     "output_type": "stream",
     "text": [
      "356/356 [==============================] - 2s 5ms/step - loss: 0.6877 - accuracy: 0.4788\n",
      "Epoch 2/10\n",
      "356/356 [==============================] - 1s 4ms/step - loss: 0.6534 - accuracy: 0.7613\n",
      "Epoch 3/10\n",
      "356/356 [==============================] - 1s 4ms/step - loss: 0.6248 - accuracy: 0.8784\n",
      "Epoch 4/10\n",
      "356/356 [==============================] - 1s 4ms/step - loss: 0.5986 - accuracy: 0.8802\n",
      "Epoch 5/10\n",
      "356/356 [==============================] - 1s 4ms/step - loss: 0.5743 - accuracy: 0.8807\n",
      "Epoch 6/10\n",
      "356/356 [==============================] - 1s 4ms/step - loss: 0.5517 - accuracy: 0.8800\n",
      "Epoch 7/10\n",
      "356/356 [==============================] - 1s 4ms/step - loss: 0.5308 - accuracy: 0.8804\n",
      "Epoch 8/10\n",
      "356/356 [==============================] - 1s 4ms/step - loss: 0.5116 - accuracy: 0.8813\n",
      "Epoch 9/10\n",
      "356/356 [==============================] - 1s 4ms/step - loss: 0.4939 - accuracy: 0.8803\n",
      "Epoch 10/10\n",
      "356/356 [==============================] - 1s 4ms/step - loss: 0.4775 - accuracy: 0.8822\n",
      "working on subset: 0,6\n",
      "Epoch 1/10\n",
      " 24/371 [>.............................] - ETA: 1s - loss: 0.6919 - accuracy: 0.4883"
     ]
    },
    {
     "name": "stderr",
     "output_type": "stream",
     "text": [
      "2022-01-03 12:27:41.108930: I tensorflow/core/grappler/optimizers/custom_graph_optimizer_registry.cc:112] Plugin optimizer for device_type GPU is enabled.\n"
     ]
    },
    {
     "name": "stdout",
     "output_type": "stream",
     "text": [
      "371/371 [==============================] - 2s 5ms/step - loss: 0.6142 - accuracy: 0.5822\n",
      "Epoch 2/10\n",
      "371/371 [==============================] - 1s 4ms/step - loss: 0.4934 - accuracy: 0.8574\n",
      "Epoch 3/10\n",
      "371/371 [==============================] - 1s 4ms/step - loss: 0.4124 - accuracy: 0.9372\n",
      "Epoch 4/10\n",
      "371/371 [==============================] - 1s 4ms/step - loss: 0.3570 - accuracy: 0.9456\n",
      "Epoch 5/10\n",
      "371/371 [==============================] - 2s 4ms/step - loss: 0.3176 - accuracy: 0.9469\n",
      "Epoch 6/10\n",
      "371/371 [==============================] - 1s 4ms/step - loss: 0.2884 - accuracy: 0.9476\n",
      "Epoch 7/10\n",
      "371/371 [==============================] - 2s 4ms/step - loss: 0.2661 - accuracy: 0.9470\n",
      "Epoch 8/10\n",
      "371/371 [==============================] - 1s 4ms/step - loss: 0.2487 - accuracy: 0.9477\n",
      "Epoch 9/10\n",
      "371/371 [==============================] - 1s 4ms/step - loss: 0.2346 - accuracy: 0.9473\n",
      "Epoch 10/10\n",
      "371/371 [==============================] - 1s 4ms/step - loss: 0.2231 - accuracy: 0.9477\n",
      "working on subset: 0,1\n",
      "Epoch 1/10\n",
      " 23/396 [>.............................] - ETA: 1s - loss: 0.8528 - accuracy: 0.4389"
     ]
    },
    {
     "name": "stderr",
     "output_type": "stream",
     "text": [
      "2022-01-03 12:27:56.514431: I tensorflow/core/grappler/optimizers/custom_graph_optimizer_registry.cc:112] Plugin optimizer for device_type GPU is enabled.\n"
     ]
    },
    {
     "name": "stdout",
     "output_type": "stream",
     "text": [
      "396/396 [==============================] - 2s 5ms/step - loss: 0.7176 - accuracy: 0.4677\n",
      "Epoch 2/10\n",
      "396/396 [==============================] - 2s 4ms/step - loss: 0.5249 - accuracy: 0.7049\n",
      "Epoch 3/10\n",
      "396/396 [==============================] - 2s 4ms/step - loss: 0.3941 - accuracy: 0.9780\n",
      "Epoch 4/10\n",
      "396/396 [==============================] - 2s 4ms/step - loss: 0.3055 - accuracy: 0.9932\n",
      "Epoch 5/10\n",
      "396/396 [==============================] - 2s 4ms/step - loss: 0.2439 - accuracy: 0.9946\n",
      "Epoch 6/10\n",
      "396/396 [==============================] - 2s 4ms/step - loss: 0.1998 - accuracy: 0.9950\n",
      "Epoch 7/10\n",
      "396/396 [==============================] - 2s 4ms/step - loss: 0.1670 - accuracy: 0.9952\n",
      "Epoch 8/10\n",
      "396/396 [==============================] - 2s 4ms/step - loss: 0.1420 - accuracy: 0.9952\n",
      "Epoch 9/10\n",
      "396/396 [==============================] - 2s 4ms/step - loss: 0.1224 - accuracy: 0.9953\n",
      "Epoch 10/10\n",
      "396/396 [==============================] - 2s 4ms/step - loss: 0.1067 - accuracy: 0.9953\n",
      "working on subset: 3,7\n",
      "Epoch 1/10\n",
      " 24/388 [>.............................] - ETA: 1s - loss: 0.6233 - accuracy: 0.7409"
     ]
    },
    {
     "name": "stderr",
     "output_type": "stream",
     "text": [
      "2022-01-03 12:28:12.819189: I tensorflow/core/grappler/optimizers/custom_graph_optimizer_registry.cc:112] Plugin optimizer for device_type GPU is enabled.\n"
     ]
    },
    {
     "name": "stdout",
     "output_type": "stream",
     "text": [
      "388/388 [==============================] - 2s 5ms/step - loss: 0.5346 - accuracy: 0.8897\n",
      "Epoch 2/10\n",
      "388/388 [==============================] - 2s 4ms/step - loss: 0.3937 - accuracy: 0.9220\n",
      "Epoch 3/10\n",
      "388/388 [==============================] - 2s 4ms/step - loss: 0.3077 - accuracy: 0.9323\n",
      "Epoch 4/10\n",
      "388/388 [==============================] - 2s 4ms/step - loss: 0.2529 - accuracy: 0.9402\n",
      "Epoch 5/10\n",
      "388/388 [==============================] - 2s 4ms/step - loss: 0.2163 - accuracy: 0.9450\n",
      "Epoch 6/10\n",
      "388/388 [==============================] - 2s 4ms/step - loss: 0.1908 - accuracy: 0.9477\n",
      "Epoch 7/10\n",
      "388/388 [==============================] - 2s 4ms/step - loss: 0.1723 - accuracy: 0.9492\n",
      "Epoch 8/10\n",
      "388/388 [==============================] - 2s 4ms/step - loss: 0.1583 - accuracy: 0.9522\n",
      "Epoch 9/10\n",
      "388/388 [==============================] - 2s 4ms/step - loss: 0.1476 - accuracy: 0.9544\n",
      "Epoch 10/10\n",
      "388/388 [==============================] - 2s 4ms/step - loss: 0.1391 - accuracy: 0.9546\n",
      "working on subset: 1,3\n",
      "Epoch 1/10\n",
      " 21/403 [>.............................] - ETA: 2s - loss: 0.6950 - accuracy: 0.5268"
     ]
    },
    {
     "name": "stderr",
     "output_type": "stream",
     "text": [
      "2022-01-03 12:28:28.850277: I tensorflow/core/grappler/optimizers/custom_graph_optimizer_registry.cc:112] Plugin optimizer for device_type GPU is enabled.\n"
     ]
    },
    {
     "name": "stdout",
     "output_type": "stream",
     "text": [
      "403/403 [==============================] - 2s 5ms/step - loss: 0.5826 - accuracy: 0.6141\n",
      "Epoch 2/10\n",
      "403/403 [==============================] - 2s 4ms/step - loss: 0.4230 - accuracy: 0.9640\n",
      "Epoch 3/10\n",
      "403/403 [==============================] - 2s 4ms/step - loss: 0.3377 - accuracy: 0.9741\n",
      "Epoch 4/10\n",
      "403/403 [==============================] - 2s 4ms/step - loss: 0.2833 - accuracy: 0.9745\n",
      "Epoch 5/10\n",
      "403/403 [==============================] - 2s 4ms/step - loss: 0.2450 - accuracy: 0.9743\n",
      "Epoch 6/10\n",
      "403/403 [==============================] - 2s 4ms/step - loss: 0.2165 - accuracy: 0.9741\n",
      "Epoch 7/10\n",
      "403/403 [==============================] - 2s 4ms/step - loss: 0.1945 - accuracy: 0.9746\n",
      "Epoch 8/10\n",
      "403/403 [==============================] - 2s 4ms/step - loss: 0.1770 - accuracy: 0.9742\n",
      "Epoch 9/10\n",
      "403/403 [==============================] - 2s 4ms/step - loss: 0.1627 - accuracy: 0.9744\n",
      "Epoch 10/10\n",
      "403/403 [==============================] - 2s 4ms/step - loss: 0.1509 - accuracy: 0.9745\n",
      "working on subset: 1,4\n",
      "Epoch 1/10\n",
      " 23/394 [>.............................] - ETA: 1s - loss: 0.6872 - accuracy: 0.5462"
     ]
    },
    {
     "name": "stderr",
     "output_type": "stream",
     "text": [
      "2022-01-03 12:28:45.478658: I tensorflow/core/grappler/optimizers/custom_graph_optimizer_registry.cc:112] Plugin optimizer for device_type GPU is enabled.\n"
     ]
    },
    {
     "name": "stdout",
     "output_type": "stream",
     "text": [
      "394/394 [==============================] - 2s 5ms/step - loss: 0.6182 - accuracy: 0.7677\n",
      "Epoch 2/10\n",
      "394/394 [==============================] - 2s 4ms/step - loss: 0.4998 - accuracy: 0.9774\n",
      "Epoch 3/10\n",
      "394/394 [==============================] - 2s 4ms/step - loss: 0.4175 - accuracy: 0.9743\n",
      "Epoch 4/10\n",
      "394/394 [==============================] - 2s 4ms/step - loss: 0.3580 - accuracy: 0.9747\n",
      "Epoch 5/10\n",
      "394/394 [==============================] - 2s 4ms/step - loss: 0.3137 - accuracy: 0.9745\n",
      "Epoch 6/10\n",
      "394/394 [==============================] - 2s 4ms/step - loss: 0.2796 - accuracy: 0.9749\n",
      "Epoch 7/10\n",
      "394/394 [==============================] - 2s 4ms/step - loss: 0.2524 - accuracy: 0.9766\n",
      "Epoch 8/10\n",
      "394/394 [==============================] - 2s 4ms/step - loss: 0.2303 - accuracy: 0.9761\n",
      "Epoch 9/10\n",
      "394/394 [==============================] - 2s 4ms/step - loss: 0.2118 - accuracy: 0.9773\n",
      "Epoch 10/10\n",
      "394/394 [==============================] - 2s 4ms/step - loss: 0.1962 - accuracy: 0.9770\n",
      "working on subset: 3,9\n",
      "Epoch 1/10\n",
      " 24/378 [>.............................] - ETA: 1s - loss: 0.3140 - accuracy: 0.9323"
     ]
    },
    {
     "name": "stderr",
     "output_type": "stream",
     "text": [
      "2022-01-03 12:29:01.796023: I tensorflow/core/grappler/optimizers/custom_graph_optimizer_registry.cc:112] Plugin optimizer for device_type GPU is enabled.\n"
     ]
    },
    {
     "name": "stdout",
     "output_type": "stream",
     "text": [
      "378/378 [==============================] - 2s 5ms/step - loss: 0.2590 - accuracy: 0.9444\n",
      "Epoch 2/10\n",
      "378/378 [==============================] - 2s 4ms/step - loss: 0.2198 - accuracy: 0.9440\n",
      "Epoch 3/10\n",
      "378/378 [==============================] - 2s 4ms/step - loss: 0.2048 - accuracy: 0.9435\n",
      "Epoch 4/10\n",
      "378/378 [==============================] - 2s 4ms/step - loss: 0.1989 - accuracy: 0.9432\n",
      "Epoch 5/10\n",
      "378/378 [==============================] - 2s 4ms/step - loss: 0.1965 - accuracy: 0.9432\n",
      "Epoch 6/10\n",
      "378/378 [==============================] - 2s 4ms/step - loss: 0.1956 - accuracy: 0.9432\n",
      "Epoch 7/10\n",
      "378/378 [==============================] - 2s 4ms/step - loss: 0.1952 - accuracy: 0.9431\n",
      "Epoch 8/10\n",
      "378/378 [==============================] - 2s 4ms/step - loss: 0.1950 - accuracy: 0.9431\n",
      "Epoch 9/10\n",
      "378/378 [==============================] - 2s 4ms/step - loss: 0.1950 - accuracy: 0.9432\n",
      "Epoch 10/10\n",
      "378/378 [==============================] - 2s 4ms/step - loss: 0.1950 - accuracy: 0.9432\n",
      "working on subset: 7,8\n",
      "Epoch 1/10\n",
      " 22/379 [>.............................] - ETA: 1s - loss: 1.6595 - accuracy: 0.0384   "
     ]
    },
    {
     "name": "stderr",
     "output_type": "stream",
     "text": [
      "2022-01-03 12:29:17.496447: I tensorflow/core/grappler/optimizers/custom_graph_optimizer_registry.cc:112] Plugin optimizer for device_type GPU is enabled.\n"
     ]
    },
    {
     "name": "stdout",
     "output_type": "stream",
     "text": [
      "379/379 [==============================] - 2s 5ms/step - loss: 1.3493 - accuracy: 0.0521\n",
      "Epoch 2/10\n",
      "379/379 [==============================] - 2s 4ms/step - loss: 0.8965 - accuracy: 0.0509\n",
      "Epoch 3/10\n",
      "379/379 [==============================] - 2s 4ms/step - loss: 0.6235 - accuracy: 0.8264\n",
      "Epoch 4/10\n",
      "379/379 [==============================] - 2s 4ms/step - loss: 0.4600 - accuracy: 0.9520\n",
      "Epoch 5/10\n",
      "379/379 [==============================] - 2s 4ms/step - loss: 0.3576 - accuracy: 0.9521\n",
      "Epoch 6/10\n",
      "379/379 [==============================] - 2s 4ms/step - loss: 0.2919 - accuracy: 0.9523\n",
      "Epoch 7/10\n",
      "379/379 [==============================] - 2s 4ms/step - loss: 0.2493 - accuracy: 0.9527\n",
      "Epoch 8/10\n",
      "379/379 [==============================] - 2s 4ms/step - loss: 0.2210 - accuracy: 0.9530\n",
      "Epoch 9/10\n",
      "379/379 [==============================] - 2s 4ms/step - loss: 0.2019 - accuracy: 0.9531\n",
      "Epoch 10/10\n",
      "379/379 [==============================] - 2s 4ms/step - loss: 0.1887 - accuracy: 0.9533\n",
      "working on subset: 1,5\n",
      "Epoch 1/10\n",
      " 23/381 [>.............................] - ETA: 1s - loss: 0.9709 - accuracy: 0.1848"
     ]
    },
    {
     "name": "stderr",
     "output_type": "stream",
     "text": [
      "2022-01-03 12:29:33.353979: I tensorflow/core/grappler/optimizers/custom_graph_optimizer_registry.cc:112] Plugin optimizer for device_type GPU is enabled.\n"
     ]
    },
    {
     "name": "stdout",
     "output_type": "stream",
     "text": [
      "381/381 [==============================] - 2s 5ms/step - loss: 0.8676 - accuracy: 0.2134\n",
      "Epoch 2/10\n",
      "381/381 [==============================] - 2s 4ms/step - loss: 0.6773 - accuracy: 0.5811\n",
      "Epoch 3/10\n",
      "381/381 [==============================] - 2s 4ms/step - loss: 0.5456 - accuracy: 0.8547\n",
      "Epoch 4/10\n",
      "381/381 [==============================] - 2s 4ms/step - loss: 0.4565 - accuracy: 0.9093\n",
      "Epoch 5/10\n",
      "381/381 [==============================] - 2s 4ms/step - loss: 0.3951 - accuracy: 0.9163\n",
      "Epoch 6/10\n",
      "381/381 [==============================] - 2s 4ms/step - loss: 0.3517 - accuracy: 0.9180\n",
      "Epoch 7/10\n",
      "381/381 [==============================] - 2s 4ms/step - loss: 0.3201 - accuracy: 0.9199\n",
      "Epoch 8/10\n",
      "381/381 [==============================] - 2s 4ms/step - loss: 0.2963 - accuracy: 0.9206\n",
      "Epoch 9/10\n",
      "381/381 [==============================] - 2s 4ms/step - loss: 0.2781 - accuracy: 0.9198\n",
      "Epoch 10/10\n",
      "381/381 [==============================] - 2s 4ms/step - loss: 0.2638 - accuracy: 0.9205\n",
      "working on subset: 3,8\n",
      "Epoch 1/10\n",
      " 22/375 [>.............................] - ETA: 1s - loss: 1.0411 - accuracy: 0.4815"
     ]
    },
    {
     "name": "stderr",
     "output_type": "stream",
     "text": [
      "2022-01-03 12:29:49.225262: I tensorflow/core/grappler/optimizers/custom_graph_optimizer_registry.cc:112] Plugin optimizer for device_type GPU is enabled.\n"
     ]
    },
    {
     "name": "stdout",
     "output_type": "stream",
     "text": [
      "375/375 [==============================] - 2s 5ms/step - loss: 0.8815 - accuracy: 0.4883\n",
      "Epoch 2/10\n",
      "375/375 [==============================] - 1s 4ms/step - loss: 0.7225 - accuracy: 0.4883\n",
      "Epoch 3/10\n",
      "375/375 [==============================] - 2s 4ms/step - loss: 0.6954 - accuracy: 0.4872\n",
      "Epoch 4/10\n",
      "375/375 [==============================] - 1s 4ms/step - loss: 0.6929 - accuracy: 0.5117\n",
      "Epoch 5/10\n",
      "375/375 [==============================] - 2s 4ms/step - loss: 0.6922 - accuracy: 0.5117\n",
      "Epoch 6/10\n",
      "375/375 [==============================] - 2s 4ms/step - loss: 0.6915 - accuracy: 0.5117\n",
      "Epoch 7/10\n",
      "375/375 [==============================] - 2s 4ms/step - loss: 0.6907 - accuracy: 0.5117\n",
      "Epoch 8/10\n",
      "375/375 [==============================] - 2s 4ms/step - loss: 0.6898 - accuracy: 0.5117\n",
      "Epoch 9/10\n",
      "375/375 [==============================] - 2s 4ms/step - loss: 0.6889 - accuracy: 0.5117\n",
      "Epoch 10/10\n",
      "375/375 [==============================] - 2s 4ms/step - loss: 0.6879 - accuracy: 0.5117\n",
      "working on subset: 1,2\n",
      "Epoch 1/10\n",
      " 23/397 [>.............................] - ETA: 1s - loss: 0.8164 - accuracy: 0.1440"
     ]
    },
    {
     "name": "stderr",
     "output_type": "stream",
     "text": [
      "2022-01-03 12:30:04.817537: I tensorflow/core/grappler/optimizers/custom_graph_optimizer_registry.cc:112] Plugin optimizer for device_type GPU is enabled.\n"
     ]
    },
    {
     "name": "stdout",
     "output_type": "stream",
     "text": [
      "397/397 [==============================] - 2s 5ms/step - loss: 0.7291 - accuracy: 0.3111\n",
      "Epoch 2/10\n",
      "397/397 [==============================] - 2s 4ms/step - loss: 0.5873 - accuracy: 0.8351\n",
      "Epoch 3/10\n",
      "397/397 [==============================] - 2s 4ms/step - loss: 0.4918 - accuracy: 0.8776\n",
      "Epoch 4/10\n",
      "397/397 [==============================] - 2s 4ms/step - loss: 0.4262 - accuracy: 0.8895\n",
      "Epoch 5/10\n",
      "397/397 [==============================] - 2s 4ms/step - loss: 0.3798 - accuracy: 0.8958\n",
      "Epoch 6/10\n",
      "397/397 [==============================] - 2s 4ms/step - loss: 0.3459 - accuracy: 0.8983\n",
      "Epoch 7/10\n",
      "397/397 [==============================] - 2s 4ms/step - loss: 0.3202 - accuracy: 0.9005\n",
      "Epoch 8/10\n",
      "397/397 [==============================] - 2s 4ms/step - loss: 0.3002 - accuracy: 0.9032\n",
      "Epoch 9/10\n",
      "397/397 [==============================] - 2s 4ms/step - loss: 0.2842 - accuracy: 0.9035\n",
      "Epoch 10/10\n",
      "397/397 [==============================] - 2s 4ms/step - loss: 0.2712 - accuracy: 0.9052\n",
      "working on subset: 3,6\n",
      "Epoch 1/10\n",
      " 22/377 [>.............................] - ETA: 1s - loss: 0.9631 - accuracy: 0.4886"
     ]
    },
    {
     "name": "stderr",
     "output_type": "stream",
     "text": [
      "2022-01-03 12:30:21.241526: I tensorflow/core/grappler/optimizers/custom_graph_optimizer_registry.cc:112] Plugin optimizer for device_type GPU is enabled.\n"
     ]
    },
    {
     "name": "stdout",
     "output_type": "stream",
     "text": [
      "377/377 [==============================] - 2s 5ms/step - loss: 0.7907 - accuracy: 0.5019\n",
      "Epoch 2/10\n",
      "377/377 [==============================] - 1s 4ms/step - loss: 0.5562 - accuracy: 0.9441\n",
      "Epoch 3/10\n",
      "377/377 [==============================] - 1s 4ms/step - loss: 0.4246 - accuracy: 0.9431\n",
      "Epoch 4/10\n",
      "377/377 [==============================] - 1s 4ms/step - loss: 0.3399 - accuracy: 0.9439\n",
      "Epoch 5/10\n",
      "377/377 [==============================] - 2s 4ms/step - loss: 0.2836 - accuracy: 0.9442\n",
      "Epoch 6/10\n",
      "377/377 [==============================] - 2s 4ms/step - loss: 0.2457 - accuracy: 0.9446\n",
      "Epoch 7/10\n",
      "377/377 [==============================] - 2s 4ms/step - loss: 0.2199 - accuracy: 0.9446\n",
      "Epoch 8/10\n",
      "377/377 [==============================] - 2s 4ms/step - loss: 0.2022 - accuracy: 0.9446\n",
      "Epoch 9/10\n",
      "377/377 [==============================] - 2s 4ms/step - loss: 0.1900 - accuracy: 0.9446\n",
      "Epoch 10/10\n",
      "377/377 [==============================] - 2s 4ms/step - loss: 0.1817 - accuracy: 0.9446\n",
      "working on subset: 7,9\n",
      "Epoch 1/10\n",
      " 23/382 [>.............................] - ETA: 1s - loss: 0.7806 - accuracy: 0.4728"
     ]
    },
    {
     "name": "stderr",
     "output_type": "stream",
     "text": [
      "2022-01-03 12:30:36.838635: I tensorflow/core/grappler/optimizers/custom_graph_optimizer_registry.cc:112] Plugin optimizer for device_type GPU is enabled.\n"
     ]
    },
    {
     "name": "stdout",
     "output_type": "stream",
     "text": [
      "382/382 [==============================] - 2s 5ms/step - loss: 0.7308 - accuracy: 0.4871\n",
      "Epoch 2/10\n",
      "382/382 [==============================] - 2s 4ms/step - loss: 0.6967 - accuracy: 0.4949\n",
      "Epoch 3/10\n",
      "382/382 [==============================] - 1s 4ms/step - loss: 0.6879 - accuracy: 0.5585\n",
      "Epoch 4/10\n",
      "382/382 [==============================] - 1s 4ms/step - loss: 0.6862 - accuracy: 0.5589\n",
      "Epoch 5/10\n",
      "382/382 [==============================] - 2s 4ms/step - loss: 0.6860 - accuracy: 0.5594\n",
      "Epoch 6/10\n",
      "382/382 [==============================] - 2s 4ms/step - loss: 0.6860 - accuracy: 0.5595\n",
      "Epoch 7/10\n",
      "382/382 [==============================] - 2s 4ms/step - loss: 0.6860 - accuracy: 0.5593\n",
      "Epoch 8/10\n",
      "382/382 [==============================] - 2s 4ms/step - loss: 0.6860 - accuracy: 0.5595\n",
      "Epoch 9/10\n",
      "382/382 [==============================] - 2s 4ms/step - loss: 0.6860 - accuracy: 0.5593\n",
      "Epoch 10/10\n",
      "382/382 [==============================] - 2s 4ms/step - loss: 0.6860 - accuracy: 0.5590\n",
      "working on subset: 2,9\n",
      "Epoch 1/10\n",
      " 23/373 [>.............................] - ETA: 1s - loss: 1.1676 - accuracy: 0.0448"
     ]
    },
    {
     "name": "stderr",
     "output_type": "stream",
     "text": [
      "2022-01-03 12:30:52.507311: I tensorflow/core/grappler/optimizers/custom_graph_optimizer_registry.cc:112] Plugin optimizer for device_type GPU is enabled.\n"
     ]
    },
    {
     "name": "stdout",
     "output_type": "stream",
     "text": [
      "373/373 [==============================] - 2s 5ms/step - loss: 0.9820 - accuracy: 0.1071\n",
      "Epoch 2/10\n",
      "373/373 [==============================] - 2s 4ms/step - loss: 0.6728 - accuracy: 0.5206\n",
      "Epoch 3/10\n",
      "373/373 [==============================] - 1s 4ms/step - loss: 0.4787 - accuracy: 0.9538\n",
      "Epoch 4/10\n",
      "373/373 [==============================] - 1s 4ms/step - loss: 0.3605 - accuracy: 0.9546\n",
      "Epoch 5/10\n",
      "373/373 [==============================] - 2s 4ms/step - loss: 0.2887 - accuracy: 0.9549\n",
      "Epoch 6/10\n",
      "373/373 [==============================] - 1s 4ms/step - loss: 0.2447 - accuracy: 0.9550\n",
      "Epoch 7/10\n",
      "373/373 [==============================] - 1s 4ms/step - loss: 0.2174 - accuracy: 0.9550\n",
      "Epoch 8/10\n",
      "373/373 [==============================] - 2s 4ms/step - loss: 0.2000 - accuracy: 0.9550\n",
      "Epoch 9/10\n",
      "373/373 [==============================] - 2s 4ms/step - loss: 0.1890 - accuracy: 0.9550\n",
      "Epoch 10/10\n",
      "373/373 [==============================] - 2s 4ms/step - loss: 0.1820 - accuracy: 0.9552\n",
      "working on subset: 0,4\n",
      "Epoch 1/10\n",
      " 23/368 [>.............................] - ETA: 1s - loss: 0.8390 - accuracy: 0.4497"
     ]
    },
    {
     "name": "stderr",
     "output_type": "stream",
     "text": [
      "2022-01-03 12:31:08.033984: I tensorflow/core/grappler/optimizers/custom_graph_optimizer_registry.cc:112] Plugin optimizer for device_type GPU is enabled.\n"
     ]
    },
    {
     "name": "stdout",
     "output_type": "stream",
     "text": [
      "368/368 [==============================] - 2s 5ms/step - loss: 0.6727 - accuracy: 0.5942\n",
      "Epoch 2/10\n",
      "368/368 [==============================] - 1s 4ms/step - loss: 0.4650 - accuracy: 0.9240\n",
      "Epoch 3/10\n",
      "368/368 [==============================] - 1s 4ms/step - loss: 0.3446 - accuracy: 0.9817\n",
      "Epoch 4/10\n",
      "368/368 [==============================] - 1s 4ms/step - loss: 0.2675 - accuracy: 0.9841\n",
      "Epoch 5/10\n",
      "368/368 [==============================] - 1s 4ms/step - loss: 0.2153 - accuracy: 0.9847\n",
      "Epoch 6/10\n",
      "368/368 [==============================] - 1s 4ms/step - loss: 0.1784 - accuracy: 0.9849\n",
      "Epoch 7/10\n",
      "368/368 [==============================] - 1s 4ms/step - loss: 0.1516 - accuracy: 0.9851\n",
      "Epoch 8/10\n",
      "368/368 [==============================] - 1s 4ms/step - loss: 0.1316 - accuracy: 0.9851\n",
      "Epoch 9/10\n",
      "368/368 [==============================] - 1s 4ms/step - loss: 0.1164 - accuracy: 0.9853\n",
      "Epoch 10/10\n",
      "368/368 [==============================] - 1s 4ms/step - loss: 0.1047 - accuracy: 0.9856\n",
      "working on subset: 0,3\n",
      "Epoch 1/10\n",
      " 24/377 [>.............................] - ETA: 1s - loss: 0.5518 - accuracy: 0.8685"
     ]
    },
    {
     "name": "stderr",
     "output_type": "stream",
     "text": [
      "2022-01-03 12:31:23.241472: I tensorflow/core/grappler/optimizers/custom_graph_optimizer_registry.cc:112] Plugin optimizer for device_type GPU is enabled.\n"
     ]
    },
    {
     "name": "stdout",
     "output_type": "stream",
     "text": [
      "377/377 [==============================] - 2s 5ms/step - loss: 0.4905 - accuracy: 0.8614\n",
      "Epoch 2/10\n",
      "377/377 [==============================] - 1s 4ms/step - loss: 0.4070 - accuracy: 0.8647\n",
      "Epoch 3/10\n",
      "377/377 [==============================] - 1s 4ms/step - loss: 0.3663 - accuracy: 0.8664\n",
      "Epoch 4/10\n",
      "377/377 [==============================] - 2s 4ms/step - loss: 0.3442 - accuracy: 0.8690\n",
      "Epoch 5/10\n",
      "377/377 [==============================] - 2s 4ms/step - loss: 0.3305 - accuracy: 0.8711\n",
      "Epoch 6/10\n",
      "377/377 [==============================] - 2s 4ms/step - loss: 0.3212 - accuracy: 0.8738\n",
      "Epoch 7/10\n",
      "377/377 [==============================] - 2s 4ms/step - loss: 0.3143 - accuracy: 0.8751\n",
      "Epoch 8/10\n",
      "377/377 [==============================] - 2s 4ms/step - loss: 0.3089 - accuracy: 0.8769\n",
      "Epoch 9/10\n",
      "377/377 [==============================] - 2s 4ms/step - loss: 0.3044 - accuracy: 0.8787\n",
      "Epoch 10/10\n",
      "377/377 [==============================] - 1s 4ms/step - loss: 0.3007 - accuracy: 0.8810\n",
      "working on subset: 2,7\n",
      "Epoch 1/10\n",
      " 24/382 [>.............................] - ETA: 1s - loss: 0.6875 - accuracy: 0.6602"
     ]
    },
    {
     "name": "stderr",
     "output_type": "stream",
     "text": [
      "2022-01-03 12:31:38.751305: I tensorflow/core/grappler/optimizers/custom_graph_optimizer_registry.cc:112] Plugin optimizer for device_type GPU is enabled.\n"
     ]
    },
    {
     "name": "stdout",
     "output_type": "stream",
     "text": [
      "382/382 [==============================] - 2s 5ms/step - loss: 0.5660 - accuracy: 0.9367\n",
      "Epoch 2/10\n",
      "382/382 [==============================] - 2s 4ms/step - loss: 0.3880 - accuracy: 0.9507\n",
      "Epoch 3/10\n",
      "382/382 [==============================] - 2s 4ms/step - loss: 0.2939 - accuracy: 0.9504\n",
      "Epoch 4/10\n",
      "382/382 [==============================] - 2s 4ms/step - loss: 0.2428 - accuracy: 0.9498\n",
      "Epoch 5/10\n",
      "382/382 [==============================] - 2s 4ms/step - loss: 0.2139 - accuracy: 0.9496\n",
      "Epoch 6/10\n",
      "382/382 [==============================] - 2s 4ms/step - loss: 0.1971 - accuracy: 0.9492\n",
      "Epoch 7/10\n",
      "382/382 [==============================] - 2s 4ms/step - loss: 0.1870 - accuracy: 0.9492\n",
      "Epoch 8/10\n",
      "382/382 [==============================] - 2s 4ms/step - loss: 0.1807 - accuracy: 0.9491\n",
      "Epoch 9/10\n",
      "382/382 [==============================] - 2s 4ms/step - loss: 0.1768 - accuracy: 0.9494\n",
      "Epoch 10/10\n",
      "382/382 [==============================] - 2s 4ms/step - loss: 0.1742 - accuracy: 0.9494\n",
      "working on subset: 8,9\n",
      "Epoch 1/10\n",
      " 24/369 [>.............................] - ETA: 1s - loss: 0.6785 - accuracy: 0.5091"
     ]
    },
    {
     "name": "stderr",
     "output_type": "stream",
     "text": [
      "2022-01-03 12:31:54.632146: I tensorflow/core/grappler/optimizers/custom_graph_optimizer_registry.cc:112] Plugin optimizer for device_type GPU is enabled.\n"
     ]
    },
    {
     "name": "stdout",
     "output_type": "stream",
     "text": [
      "369/369 [==============================] - 2s 5ms/step - loss: 0.5932 - accuracy: 0.6700\n",
      "Epoch 2/10\n",
      "369/369 [==============================] - 1s 4ms/step - loss: 0.5192 - accuracy: 0.7858\n",
      "Epoch 3/10\n",
      "369/369 [==============================] - 1s 4ms/step - loss: 0.5030 - accuracy: 0.7875\n",
      "Epoch 4/10\n",
      "369/369 [==============================] - 1s 4ms/step - loss: 0.4986 - accuracy: 0.7875\n",
      "Epoch 5/10\n",
      "369/369 [==============================] - 1s 4ms/step - loss: 0.4971 - accuracy: 0.7875\n",
      "Epoch 6/10\n",
      "369/369 [==============================] - 2s 4ms/step - loss: 0.4968 - accuracy: 0.7871\n",
      "Epoch 7/10\n",
      "369/369 [==============================] - 2s 4ms/step - loss: 0.4966 - accuracy: 0.7874\n",
      "Epoch 8/10\n",
      "369/369 [==============================] - 1s 4ms/step - loss: 0.4964 - accuracy: 0.7870\n",
      "Epoch 9/10\n",
      "369/369 [==============================] - 1s 4ms/step - loss: 0.4966 - accuracy: 0.7873\n",
      "Epoch 10/10\n",
      "369/369 [==============================] - 1s 4ms/step - loss: 0.4965 - accuracy: 0.7870\n",
      "working on subset: 4,5\n",
      "Epoch 1/10\n",
      " 23/352 [>.............................] - ETA: 1s - loss: 0.7644 - accuracy: 0.5082"
     ]
    },
    {
     "name": "stderr",
     "output_type": "stream",
     "text": [
      "2022-01-03 12:32:09.938697: I tensorflow/core/grappler/optimizers/custom_graph_optimizer_registry.cc:112] Plugin optimizer for device_type GPU is enabled.\n"
     ]
    },
    {
     "name": "stdout",
     "output_type": "stream",
     "text": [
      "352/352 [==============================] - 2s 5ms/step - loss: 0.6851 - accuracy: 0.5731\n",
      "Epoch 2/10\n",
      "352/352 [==============================] - 1s 4ms/step - loss: 0.5922 - accuracy: 0.7811\n",
      "Epoch 3/10\n",
      "352/352 [==============================] - 1s 4ms/step - loss: 0.5471 - accuracy: 0.7738\n",
      "Epoch 4/10\n",
      "352/352 [==============================] - 1s 4ms/step - loss: 0.5214 - accuracy: 0.7724\n",
      "Epoch 5/10\n",
      "352/352 [==============================] - 1s 4ms/step - loss: 0.5064 - accuracy: 0.7729\n",
      "Epoch 6/10\n",
      "352/352 [==============================] - 1s 4ms/step - loss: 0.4977 - accuracy: 0.7724\n",
      "Epoch 7/10\n",
      "352/352 [==============================] - 1s 4ms/step - loss: 0.4928 - accuracy: 0.7719\n",
      "Epoch 8/10\n",
      "352/352 [==============================] - 1s 4ms/step - loss: 0.4902 - accuracy: 0.7732\n",
      "Epoch 9/10\n",
      "352/352 [==============================] - 1s 4ms/step - loss: 0.4887 - accuracy: 0.7721\n",
      "Epoch 10/10\n",
      "352/352 [==============================] - 1s 4ms/step - loss: 0.4879 - accuracy: 0.7736\n",
      "working on subset: 6,8\n",
      "Epoch 1/10\n",
      " 23/368 [>.............................] - ETA: 1s - loss: 0.7721 - accuracy: 0.4783"
     ]
    },
    {
     "name": "stderr",
     "output_type": "stream",
     "text": [
      "2022-01-03 12:32:24.490453: I tensorflow/core/grappler/optimizers/custom_graph_optimizer_registry.cc:112] Plugin optimizer for device_type GPU is enabled.\n"
     ]
    },
    {
     "name": "stdout",
     "output_type": "stream",
     "text": [
      "368/368 [==============================] - 2s 5ms/step - loss: 0.7277 - accuracy: 0.4815\n",
      "Epoch 2/10\n",
      "368/368 [==============================] - 1s 4ms/step - loss: 0.7018 - accuracy: 0.2728\n",
      "Epoch 3/10\n",
      "368/368 [==============================] - 1s 4ms/step - loss: 0.6852 - accuracy: 0.5146\n",
      "Epoch 4/10\n",
      "368/368 [==============================] - 1s 4ms/step - loss: 0.6683 - accuracy: 0.6837\n",
      "Epoch 5/10\n",
      "368/368 [==============================] - 1s 4ms/step - loss: 0.6515 - accuracy: 0.8968\n",
      "Epoch 6/10\n",
      "368/368 [==============================] - 1s 4ms/step - loss: 0.6347 - accuracy: 0.9382\n",
      "Epoch 7/10\n",
      "368/368 [==============================] - 1s 4ms/step - loss: 0.6187 - accuracy: 0.9314\n",
      "Epoch 8/10\n",
      "368/368 [==============================] - 1s 4ms/step - loss: 0.6029 - accuracy: 0.9376\n",
      "Epoch 9/10\n",
      "368/368 [==============================] - 2s 4ms/step - loss: 0.5876 - accuracy: 0.9487\n",
      "Epoch 10/10\n",
      "368/368 [==============================] - 1s 4ms/step - loss: 0.5725 - accuracy: 0.9526\n",
      "working on subset: 2,6\n",
      "Epoch 1/10\n",
      " 24/372 [>.............................] - ETA: 1s - loss: 0.8730 - accuracy: 0.5169"
     ]
    },
    {
     "name": "stderr",
     "output_type": "stream",
     "text": [
      "2022-01-03 12:32:39.752914: I tensorflow/core/grappler/optimizers/custom_graph_optimizer_registry.cc:112] Plugin optimizer for device_type GPU is enabled.\n"
     ]
    },
    {
     "name": "stdout",
     "output_type": "stream",
     "text": [
      "372/372 [==============================] - 2s 5ms/step - loss: 0.7883 - accuracy: 0.5017\n",
      "Epoch 2/10\n",
      "372/372 [==============================] - 1s 4ms/step - loss: 0.6996 - accuracy: 0.5017\n",
      "Epoch 3/10\n",
      "372/372 [==============================] - 1s 4ms/step - loss: 0.6906 - accuracy: 0.5017\n",
      "Epoch 4/10\n",
      "372/372 [==============================] - 1s 4ms/step - loss: 0.6888 - accuracy: 0.5689\n",
      "Epoch 5/10\n",
      "372/372 [==============================] - 1s 4ms/step - loss: 0.6872 - accuracy: 0.6708\n",
      "Epoch 6/10\n",
      "372/372 [==============================] - 2s 4ms/step - loss: 0.6856 - accuracy: 0.6561\n",
      "Epoch 7/10\n",
      "372/372 [==============================] - 2s 4ms/step - loss: 0.6838 - accuracy: 0.6633\n",
      "Epoch 8/10\n",
      "372/372 [==============================] - 2s 4ms/step - loss: 0.6819 - accuracy: 0.6631\n",
      "Epoch 9/10\n",
      "372/372 [==============================] - 2s 4ms/step - loss: 0.6801 - accuracy: 0.6669\n",
      "Epoch 10/10\n",
      "372/372 [==============================] - 1s 4ms/step - loss: 0.6783 - accuracy: 0.6659\n",
      "working on subset: 0,2\n",
      "Epoch 1/10\n",
      " 23/372 [>.............................] - ETA: 1s - loss: 1.2241 - accuracy: 0.0394"
     ]
    },
    {
     "name": "stderr",
     "output_type": "stream",
     "text": [
      "2022-01-03 12:32:55.218542: I tensorflow/core/grappler/optimizers/custom_graph_optimizer_registry.cc:112] Plugin optimizer for device_type GPU is enabled.\n"
     ]
    },
    {
     "name": "stdout",
     "output_type": "stream",
     "text": [
      "372/372 [==============================] - 2s 5ms/step - loss: 1.0218 - accuracy: 0.0396\n",
      "Epoch 2/10\n",
      "372/372 [==============================] - 1s 4ms/step - loss: 0.6882 - accuracy: 0.4981\n",
      "Epoch 3/10\n",
      "372/372 [==============================] - 2s 4ms/step - loss: 0.4906 - accuracy: 0.9604\n",
      "Epoch 4/10\n",
      "372/372 [==============================] - 1s 4ms/step - loss: 0.3680 - accuracy: 0.9605\n",
      "Epoch 5/10\n",
      "372/372 [==============================] - 2s 4ms/step - loss: 0.2907 - accuracy: 0.9608\n",
      "Epoch 6/10\n",
      "372/372 [==============================] - 2s 4ms/step - loss: 0.2416 - accuracy: 0.9609\n",
      "Epoch 7/10\n",
      "372/372 [==============================] - 2s 4ms/step - loss: 0.2099 - accuracy: 0.9607\n",
      "Epoch 8/10\n",
      "372/372 [==============================] - 2s 4ms/step - loss: 0.1891 - accuracy: 0.9607\n",
      "Epoch 9/10\n",
      "372/372 [==============================] - 2s 4ms/step - loss: 0.1753 - accuracy: 0.9607\n",
      "Epoch 10/10\n",
      "372/372 [==============================] - 2s 4ms/step - loss: 0.1661 - accuracy: 0.9605\n",
      "working on subset: 2,8\n",
      "Epoch 1/10\n",
      " 24/370 [>.............................] - ETA: 1s - loss: 0.7096 - accuracy: 0.4948"
     ]
    },
    {
     "name": "stderr",
     "output_type": "stream",
     "text": [
      "2022-01-03 12:33:10.811056: I tensorflow/core/grappler/optimizers/custom_graph_optimizer_registry.cc:112] Plugin optimizer for device_type GPU is enabled.\n"
     ]
    },
    {
     "name": "stdout",
     "output_type": "stream",
     "text": [
      "370/370 [==============================] - 2s 5ms/step - loss: 0.6960 - accuracy: 0.5027\n",
      "Epoch 2/10\n",
      "370/370 [==============================] - 1s 4ms/step - loss: 0.6864 - accuracy: 0.6578\n",
      "Epoch 3/10\n",
      "370/370 [==============================] - 1s 4ms/step - loss: 0.6796 - accuracy: 0.6978\n",
      "Epoch 4/10\n",
      "370/370 [==============================] - 2s 4ms/step - loss: 0.6729 - accuracy: 0.7202\n",
      "Epoch 5/10\n",
      "370/370 [==============================] - 1s 4ms/step - loss: 0.6664 - accuracy: 0.7434\n",
      "Epoch 6/10\n",
      "370/370 [==============================] - 1s 4ms/step - loss: 0.6601 - accuracy: 0.7598\n",
      "Epoch 7/10\n",
      "370/370 [==============================] - 2s 4ms/step - loss: 0.6541 - accuracy: 0.7643\n",
      "Epoch 8/10\n",
      "370/370 [==============================] - 2s 4ms/step - loss: 0.6482 - accuracy: 0.7713\n",
      "Epoch 9/10\n",
      "370/370 [==============================] - 1s 4ms/step - loss: 0.6425 - accuracy: 0.7758\n",
      "Epoch 10/10\n",
      "370/370 [==============================] - 1s 4ms/step - loss: 0.6368 - accuracy: 0.7788\n",
      "working on subset: 0,5\n",
      "Epoch 1/10\n",
      " 24/355 [=>............................] - ETA: 1s - loss: 0.8135 - accuracy: 0.4974"
     ]
    },
    {
     "name": "stderr",
     "output_type": "stream",
     "text": [
      "2022-01-03 12:33:26.182731: I tensorflow/core/grappler/optimizers/custom_graph_optimizer_registry.cc:112] Plugin optimizer for device_type GPU is enabled.\n"
     ]
    },
    {
     "name": "stdout",
     "output_type": "stream",
     "text": [
      "355/355 [==============================] - 2s 5ms/step - loss: 0.7679 - accuracy: 0.4376\n",
      "Epoch 2/10\n",
      "355/355 [==============================] - 1s 4ms/step - loss: 0.7217 - accuracy: 0.3167\n",
      "Epoch 3/10\n",
      "355/355 [==============================] - 1s 4ms/step - loss: 0.7001 - accuracy: 0.3970\n",
      "Epoch 4/10\n",
      "355/355 [==============================] - 1s 4ms/step - loss: 0.6791 - accuracy: 0.5324\n",
      "Epoch 5/10\n",
      "355/355 [==============================] - 1s 4ms/step - loss: 0.6585 - accuracy: 0.6236\n",
      "Epoch 6/10\n",
      "355/355 [==============================] - 1s 4ms/step - loss: 0.6386 - accuracy: 0.7381\n",
      "Epoch 7/10\n",
      "355/355 [==============================] - 1s 4ms/step - loss: 0.6192 - accuracy: 0.7920\n",
      "Epoch 8/10\n",
      "355/355 [==============================] - 1s 4ms/step - loss: 0.6007 - accuracy: 0.8290\n",
      "Epoch 9/10\n",
      "355/355 [==============================] - 1s 4ms/step - loss: 0.5832 - accuracy: 0.8653\n",
      "Epoch 10/10\n",
      "355/355 [==============================] - 1s 4ms/step - loss: 0.5664 - accuracy: 0.8689\n",
      "working on subset: 6,7\n",
      "Epoch 1/10\n",
      " 23/381 [>.............................] - ETA: 1s - loss: 0.9041 - accuracy: 0.0095   "
     ]
    },
    {
     "name": "stderr",
     "output_type": "stream",
     "text": [
      "2022-01-03 12:33:40.936491: I tensorflow/core/grappler/optimizers/custom_graph_optimizer_registry.cc:112] Plugin optimizer for device_type GPU is enabled.\n"
     ]
    },
    {
     "name": "stdout",
     "output_type": "stream",
     "text": [
      "381/381 [==============================] - 2s 5ms/step - loss: 0.7349 - accuracy: 0.3824\n",
      "Epoch 2/10\n",
      "381/381 [==============================] - 2s 4ms/step - loss: 0.4732 - accuracy: 0.9916\n",
      "Epoch 3/10\n",
      "381/381 [==============================] - 2s 4ms/step - loss: 0.3185 - accuracy: 0.9919\n",
      "Epoch 4/10\n",
      "381/381 [==============================] - 2s 4ms/step - loss: 0.2247 - accuracy: 0.9915\n",
      "Epoch 5/10\n",
      "381/381 [==============================] - 2s 4ms/step - loss: 0.1661 - accuracy: 0.9915\n",
      "Epoch 6/10\n",
      "381/381 [==============================] - 2s 4ms/step - loss: 0.1280 - accuracy: 0.9913\n",
      "Epoch 7/10\n",
      "381/381 [==============================] - 2s 4ms/step - loss: 0.1023 - accuracy: 0.9915\n",
      "Epoch 8/10\n",
      "381/381 [==============================] - 2s 4ms/step - loss: 0.0844 - accuracy: 0.9915\n",
      "Epoch 9/10\n",
      "381/381 [==============================] - 2s 4ms/step - loss: 0.0717 - accuracy: 0.9914\n",
      "Epoch 10/10\n",
      "381/381 [==============================] - 2s 4ms/step - loss: 0.0624 - accuracy: 0.9914\n",
      "working on subset: 6,9\n",
      "Epoch 1/10\n",
      " 24/371 [>.............................] - ETA: 1s - loss: 1.3934 - accuracy: 0.4648"
     ]
    },
    {
     "name": "stderr",
     "output_type": "stream",
     "text": [
      "2022-01-03 12:33:56.836036: I tensorflow/core/grappler/optimizers/custom_graph_optimizer_registry.cc:112] Plugin optimizer for device_type GPU is enabled.\n"
     ]
    },
    {
     "name": "stdout",
     "output_type": "stream",
     "text": [
      "371/371 [==============================] - 2s 5ms/step - loss: 1.1124 - accuracy: 0.5013\n",
      "Epoch 2/10\n",
      "371/371 [==============================] - 1s 4ms/step - loss: 0.7550 - accuracy: 0.5653\n",
      "Epoch 3/10\n",
      "371/371 [==============================] - 1s 4ms/step - loss: 0.5492 - accuracy: 0.9599\n",
      "Epoch 4/10\n",
      "371/371 [==============================] - 1s 4ms/step - loss: 0.4212 - accuracy: 0.9600\n",
      "Epoch 5/10\n",
      "371/371 [==============================] - 1s 4ms/step - loss: 0.3350 - accuracy: 0.9604\n",
      "Epoch 6/10\n",
      "371/371 [==============================] - 1s 4ms/step - loss: 0.2755 - accuracy: 0.9601\n",
      "Epoch 7/10\n",
      "371/371 [==============================] - 2s 4ms/step - loss: 0.2339 - accuracy: 0.9601\n",
      "Epoch 8/10\n",
      "371/371 [==============================] - 1s 4ms/step - loss: 0.2044 - accuracy: 0.9606\n",
      "Epoch 9/10\n",
      "371/371 [==============================] - 1s 4ms/step - loss: 0.1834 - accuracy: 0.9607\n",
      "Epoch 10/10\n",
      "371/371 [==============================] - 1s 4ms/step - loss: 0.1681 - accuracy: 0.9606\n",
      "working on subset: 5,8\n",
      "Epoch 1/10\n",
      " 19/353 [>.............................] - ETA: 1s - loss: 0.6950 - accuracy: 0.5888"
     ]
    },
    {
     "name": "stderr",
     "output_type": "stream",
     "text": [
      "2022-01-03 12:34:12.117822: I tensorflow/core/grappler/optimizers/custom_graph_optimizer_registry.cc:112] Plugin optimizer for device_type GPU is enabled.\n"
     ]
    },
    {
     "name": "stdout",
     "output_type": "stream",
     "text": [
      "353/353 [==============================] - 2s 5ms/step - loss: 0.6999 - accuracy: 0.4928\n",
      "Epoch 2/10\n",
      "353/353 [==============================] - 1s 4ms/step - loss: 0.6958 - accuracy: 0.5130\n",
      "Epoch 3/10\n",
      "353/353 [==============================] - 1s 4ms/step - loss: 0.6916 - accuracy: 0.5685\n",
      "Epoch 4/10\n",
      "353/353 [==============================] - 1s 4ms/step - loss: 0.6877 - accuracy: 0.6033\n",
      "Epoch 5/10\n",
      "353/353 [==============================] - 1s 4ms/step - loss: 0.6837 - accuracy: 0.6469\n",
      "Epoch 6/10\n",
      "353/353 [==============================] - 1s 4ms/step - loss: 0.6799 - accuracy: 0.6420\n",
      "Epoch 7/10\n",
      "353/353 [==============================] - 1s 4ms/step - loss: 0.6763 - accuracy: 0.7069\n",
      "Epoch 8/10\n",
      "353/353 [==============================] - 1s 4ms/step - loss: 0.6726 - accuracy: 0.7133\n",
      "Epoch 9/10\n",
      "353/353 [==============================] - 1s 4ms/step - loss: 0.6690 - accuracy: 0.7224\n",
      "Epoch 10/10\n",
      "353/353 [==============================] - 1s 4ms/step - loss: 0.6655 - accuracy: 0.7200\n",
      "working on subset: 5,6\n",
      "Epoch 1/10\n",
      " 22/355 [>.............................] - ETA: 1s - loss: 0.9771 - accuracy: 0.5469"
     ]
    },
    {
     "name": "stderr",
     "output_type": "stream",
     "text": [
      "2022-01-03 12:34:26.799860: I tensorflow/core/grappler/optimizers/custom_graph_optimizer_registry.cc:112] Plugin optimizer for device_type GPU is enabled.\n"
     ]
    },
    {
     "name": "stdout",
     "output_type": "stream",
     "text": [
      "355/355 [==============================] - 2s 5ms/step - loss: 0.8641 - accuracy: 0.5219\n",
      "Epoch 2/10\n",
      "355/355 [==============================] - 1s 4ms/step - loss: 0.6535 - accuracy: 0.5716\n",
      "Epoch 3/10\n",
      "355/355 [==============================] - 1s 4ms/step - loss: 0.5420 - accuracy: 0.8934\n",
      "Epoch 4/10\n",
      "355/355 [==============================] - 1s 4ms/step - loss: 0.4731 - accuracy: 0.8991\n",
      "Epoch 5/10\n",
      "355/355 [==============================] - 1s 4ms/step - loss: 0.4234 - accuracy: 0.8991\n",
      "Epoch 6/10\n",
      "355/355 [==============================] - 1s 4ms/step - loss: 0.3854 - accuracy: 0.8978\n",
      "Epoch 7/10\n",
      "355/355 [==============================] - 1s 4ms/step - loss: 0.3558 - accuracy: 0.8980\n",
      "Epoch 8/10\n",
      "355/355 [==============================] - 1s 4ms/step - loss: 0.3327 - accuracy: 0.8981\n",
      "Epoch 9/10\n",
      "355/355 [==============================] - 1s 4ms/step - loss: 0.3146 - accuracy: 0.8975\n",
      "Epoch 10/10\n",
      "355/355 [==============================] - 1s 4ms/step - loss: 0.3006 - accuracy: 0.8979\n",
      "working on subset: 3,4\n",
      "Epoch 1/10\n",
      " 22/375 [>.............................] - ETA: 1s - loss: 1.0230 - accuracy: 0.0284"
     ]
    },
    {
     "name": "stderr",
     "output_type": "stream",
     "text": [
      "2022-01-03 12:34:41.481401: I tensorflow/core/grappler/optimizers/custom_graph_optimizer_registry.cc:112] Plugin optimizer for device_type GPU is enabled.\n"
     ]
    },
    {
     "name": "stdout",
     "output_type": "stream",
     "text": [
      "375/375 [==============================] - 2s 5ms/step - loss: 0.8557 - accuracy: 0.0276\n",
      "Epoch 2/10\n",
      "375/375 [==============================] - 1s 4ms/step - loss: 0.6190 - accuracy: 0.7900\n",
      "Epoch 3/10\n",
      "375/375 [==============================] - 2s 4ms/step - loss: 0.4686 - accuracy: 0.9730\n",
      "Epoch 4/10\n",
      "375/375 [==============================] - 1s 4ms/step - loss: 0.3643 - accuracy: 0.9712\n",
      "Epoch 5/10\n",
      "375/375 [==============================] - 1s 4ms/step - loss: 0.2908 - accuracy: 0.9709\n",
      "Epoch 6/10\n",
      "375/375 [==============================] - 1s 4ms/step - loss: 0.2386 - accuracy: 0.9704\n",
      "Epoch 7/10\n",
      "375/375 [==============================] - 2s 4ms/step - loss: 0.2011 - accuracy: 0.9703\n",
      "Epoch 8/10\n",
      "375/375 [==============================] - 2s 4ms/step - loss: 0.1736 - accuracy: 0.9698\n",
      "Epoch 9/10\n",
      "375/375 [==============================] - 2s 4ms/step - loss: 0.1533 - accuracy: 0.9698\n",
      "Epoch 10/10\n",
      "375/375 [==============================] - 2s 4ms/step - loss: 0.1381 - accuracy: 0.9699\n",
      "working on subset: 1,9\n",
      "Epoch 1/10\n",
      " 22/397 [>.............................] - ETA: 1s - loss: 1.0265 - accuracy: 0.2315"
     ]
    },
    {
     "name": "stderr",
     "output_type": "stream",
     "text": [
      "2022-01-03 12:34:56.897782: I tensorflow/core/grappler/optimizers/custom_graph_optimizer_registry.cc:112] Plugin optimizer for device_type GPU is enabled.\n"
     ]
    },
    {
     "name": "stdout",
     "output_type": "stream",
     "text": [
      "397/397 [==============================] - 2s 5ms/step - loss: 0.9042 - accuracy: 0.2183\n",
      "Epoch 2/10\n",
      "397/397 [==============================] - 2s 4ms/step - loss: 0.6988 - accuracy: 0.4812\n",
      "Epoch 3/10\n",
      "397/397 [==============================] - 2s 4ms/step - loss: 0.5570 - accuracy: 0.8846\n",
      "Epoch 4/10\n",
      "397/397 [==============================] - 2s 4ms/step - loss: 0.4568 - accuracy: 0.9430\n",
      "Epoch 5/10\n",
      "397/397 [==============================] - 2s 4ms/step - loss: 0.3850 - accuracy: 0.9584\n",
      "Epoch 6/10\n",
      "397/397 [==============================] - 2s 4ms/step - loss: 0.3325 - accuracy: 0.9652\n",
      "Epoch 7/10\n",
      "397/397 [==============================] - 2s 4ms/step - loss: 0.2930 - accuracy: 0.9687\n",
      "Epoch 8/10\n",
      "397/397 [==============================] - 2s 4ms/step - loss: 0.2624 - accuracy: 0.9701\n",
      "Epoch 9/10\n",
      "397/397 [==============================] - 2s 4ms/step - loss: 0.2382 - accuracy: 0.9708\n",
      "Epoch 10/10\n",
      "397/397 [==============================] - 2s 4ms/step - loss: 0.2185 - accuracy: 0.9716\n",
      "working on subset: 1,7\n",
      "Epoch 1/10\n",
      " 24/407 [>.............................] - ETA: 1s - loss: 0.5502 - accuracy: 0.9297"
     ]
    },
    {
     "name": "stderr",
     "output_type": "stream",
     "text": [
      "2022-01-03 12:35:13.366636: I tensorflow/core/grappler/optimizers/custom_graph_optimizer_registry.cc:112] Plugin optimizer for device_type GPU is enabled.\n"
     ]
    },
    {
     "name": "stdout",
     "output_type": "stream",
     "text": [
      "407/407 [==============================] - 2s 5ms/step - loss: 0.4936 - accuracy: 0.9527\n",
      "Epoch 2/10\n",
      "407/407 [==============================] - 2s 4ms/step - loss: 0.4054 - accuracy: 0.9543\n",
      "Epoch 3/10\n",
      "407/407 [==============================] - 2s 4ms/step - loss: 0.3480 - accuracy: 0.9602\n",
      "Epoch 4/10\n",
      "407/407 [==============================] - 2s 4ms/step - loss: 0.3083 - accuracy: 0.9612\n",
      "Epoch 5/10\n",
      "407/407 [==============================] - 2s 4ms/step - loss: 0.2791 - accuracy: 0.9622\n",
      "Epoch 6/10\n",
      "407/407 [==============================] - 2s 4ms/step - loss: 0.2569 - accuracy: 0.9616\n",
      "Epoch 7/10\n",
      "407/407 [==============================] - 2s 4ms/step - loss: 0.2394 - accuracy: 0.9624\n",
      "Epoch 8/10\n",
      "407/407 [==============================] - 2s 4ms/step - loss: 0.2252 - accuracy: 0.9616\n",
      "Epoch 9/10\n",
      "407/407 [==============================] - 2s 4ms/step - loss: 0.2135 - accuracy: 0.9613\n",
      "Epoch 10/10\n",
      "407/407 [==============================] - 2s 4ms/step - loss: 0.2037 - accuracy: 0.9614\n",
      "working on subset: 5,7\n",
      "Epoch 1/10\n",
      " 23/366 [>.............................] - ETA: 1s - loss: 0.8972 - accuracy: 0.4579"
     ]
    },
    {
     "name": "stderr",
     "output_type": "stream",
     "text": [
      "2022-01-03 12:35:30.666982: I tensorflow/core/grappler/optimizers/custom_graph_optimizer_registry.cc:112] Plugin optimizer for device_type GPU is enabled.\n"
     ]
    },
    {
     "name": "stdout",
     "output_type": "stream",
     "text": [
      "366/366 [==============================] - 2s 5ms/step - loss: 0.7748 - accuracy: 0.4639\n",
      "Epoch 2/10\n",
      "366/366 [==============================] - 1s 4ms/step - loss: 0.5922 - accuracy: 0.5951\n",
      "Epoch 3/10\n",
      "366/366 [==============================] - 1s 4ms/step - loss: 0.4924 - accuracy: 0.8532\n",
      "Epoch 4/10\n",
      "366/366 [==============================] - 1s 4ms/step - loss: 0.4417 - accuracy: 0.8538\n",
      "Epoch 5/10\n",
      "366/366 [==============================] - 1s 4ms/step - loss: 0.4173 - accuracy: 0.8527\n",
      "Epoch 6/10\n",
      "366/366 [==============================] - 1s 4ms/step - loss: 0.4061 - accuracy: 0.8532\n",
      "Epoch 7/10\n",
      "366/366 [==============================] - 2s 4ms/step - loss: 0.4013 - accuracy: 0.8533\n",
      "Epoch 8/10\n",
      "366/366 [==============================] - 1s 4ms/step - loss: 0.3995 - accuracy: 0.8532\n",
      "Epoch 9/10\n",
      "366/366 [==============================] - 1s 4ms/step - loss: 0.3986 - accuracy: 0.8532\n",
      "Epoch 10/10\n",
      "366/366 [==============================] - 2s 4ms/step - loss: 0.3983 - accuracy: 0.8531\n",
      "working on subset: 5,9\n",
      "Epoch 1/10\n",
      " 22/356 [>.............................] - ETA: 1s - loss: 0.6808 - accuracy: 0.4830"
     ]
    },
    {
     "name": "stderr",
     "output_type": "stream",
     "text": [
      "2022-01-03 12:35:46.036378: I tensorflow/core/grappler/optimizers/custom_graph_optimizer_registry.cc:112] Plugin optimizer for device_type GPU is enabled.\n"
     ]
    },
    {
     "name": "stdout",
     "output_type": "stream",
     "text": [
      "356/356 [==============================] - 2s 5ms/step - loss: 0.6612 - accuracy: 0.6458\n",
      "Epoch 2/10\n",
      "356/356 [==============================] - 1s 4ms/step - loss: 0.6425 - accuracy: 0.6593\n",
      "Epoch 3/10\n",
      "356/356 [==============================] - 1s 4ms/step - loss: 0.6369 - accuracy: 0.6594\n",
      "Epoch 4/10\n",
      "356/356 [==============================] - 1s 4ms/step - loss: 0.6355 - accuracy: 0.6604\n",
      "Epoch 5/10\n",
      "356/356 [==============================] - 1s 4ms/step - loss: 0.6351 - accuracy: 0.6602\n",
      "Epoch 6/10\n",
      "356/356 [==============================] - 1s 4ms/step - loss: 0.6351 - accuracy: 0.6604\n",
      "Epoch 7/10\n",
      "356/356 [==============================] - 1s 4ms/step - loss: 0.6350 - accuracy: 0.6605\n",
      "Epoch 8/10\n",
      "356/356 [==============================] - 1s 4ms/step - loss: 0.6350 - accuracy: 0.6604\n",
      "Epoch 9/10\n",
      "356/356 [==============================] - 1s 4ms/step - loss: 0.6350 - accuracy: 0.6604\n",
      "Epoch 10/10\n",
      "356/356 [==============================] - 1s 4ms/step - loss: 0.6350 - accuracy: 0.6600\n",
      "working on subset: 1,6\n",
      "Epoch 1/10\n",
      " 17/396 [>.............................] - ETA: 2s - loss: 0.5003 - accuracy: 0.9559"
     ]
    },
    {
     "name": "stderr",
     "output_type": "stream",
     "text": [
      "2022-01-03 12:36:01.125885: I tensorflow/core/grappler/optimizers/custom_graph_optimizer_registry.cc:112] Plugin optimizer for device_type GPU is enabled.\n"
     ]
    },
    {
     "name": "stdout",
     "output_type": "stream",
     "text": [
      "396/396 [==============================] - 2s 5ms/step - loss: 0.4521 - accuracy: 0.9560\n",
      "Epoch 2/10\n",
      "396/396 [==============================] - 2s 4ms/step - loss: 0.3783 - accuracy: 0.9622\n",
      "Epoch 3/10\n",
      "396/396 [==============================] - 2s 4ms/step - loss: 0.3281 - accuracy: 0.9651\n",
      "Epoch 4/10\n",
      "396/396 [==============================] - 2s 4ms/step - loss: 0.2915 - accuracy: 0.9674\n",
      "Epoch 5/10\n",
      "396/396 [==============================] - 2s 4ms/step - loss: 0.2636 - accuracy: 0.9679\n",
      "Epoch 6/10\n",
      "396/396 [==============================] - 2s 4ms/step - loss: 0.2416 - accuracy: 0.9686\n",
      "Epoch 7/10\n",
      "396/396 [==============================] - 2s 4ms/step - loss: 0.2237 - accuracy: 0.9694\n",
      "Epoch 8/10\n",
      "396/396 [==============================] - 2s 4ms/step - loss: 0.2087 - accuracy: 0.9697\n",
      "Epoch 9/10\n",
      "396/396 [==============================] - 2s 4ms/step - loss: 0.1959 - accuracy: 0.9699\n",
      "Epoch 10/10\n",
      "396/396 [==============================] - 2s 4ms/step - loss: 0.1850 - accuracy: 0.9700\n",
      "working on subset: 3,5\n",
      "Epoch 1/10\n",
      " 30/361 [=>............................] - ETA: 1s - loss: 0.7075 - accuracy: 0.5094"
     ]
    },
    {
     "name": "stderr",
     "output_type": "stream",
     "text": [
      "2022-01-03 12:36:17.444605: I tensorflow/core/grappler/optimizers/custom_graph_optimizer_registry.cc:112] Plugin optimizer for device_type GPU is enabled.\n"
     ]
    },
    {
     "name": "stdout",
     "output_type": "stream",
     "text": [
      "361/361 [==============================] - 1s 4ms/step - loss: 0.6882 - accuracy: 0.5307\n",
      "Epoch 2/10\n",
      "361/361 [==============================] - 1s 3ms/step - loss: 0.6828 - accuracy: 0.5307\n",
      "Epoch 3/10\n",
      "361/361 [==============================] - 1s 3ms/step - loss: 0.6798 - accuracy: 0.5309\n",
      "Epoch 4/10\n",
      "361/361 [==============================] - 1s 3ms/step - loss: 0.6768 - accuracy: 0.5403\n",
      "Epoch 5/10\n",
      "361/361 [==============================] - 1s 3ms/step - loss: 0.6740 - accuracy: 0.5677\n",
      "Epoch 6/10\n",
      "361/361 [==============================] - 1s 3ms/step - loss: 0.6712 - accuracy: 0.5950\n",
      "Epoch 7/10\n",
      "361/361 [==============================] - 1s 3ms/step - loss: 0.6685 - accuracy: 0.6380\n",
      "Epoch 8/10\n",
      "361/361 [==============================] - 1s 3ms/step - loss: 0.6659 - accuracy: 0.6627\n",
      "Epoch 9/10\n",
      "361/361 [==============================] - 1s 3ms/step - loss: 0.6634 - accuracy: 0.6812\n",
      "Epoch 10/10\n",
      "361/361 [==============================] - 1s 3ms/step - loss: 0.6609 - accuracy: 0.6781\n",
      "working on subset: 1,8\n",
      "Epoch 1/10\n",
      " 23/394 [>.............................] - ETA: 1s - loss: 0.7176 - accuracy: 0.1916"
     ]
    },
    {
     "name": "stderr",
     "output_type": "stream",
     "text": [
      "2022-01-03 12:36:29.430839: I tensorflow/core/grappler/optimizers/custom_graph_optimizer_registry.cc:112] Plugin optimizer for device_type GPU is enabled.\n"
     ]
    },
    {
     "name": "stdout",
     "output_type": "stream",
     "text": [
      "394/394 [==============================] - 2s 5ms/step - loss: 0.6416 - accuracy: 0.7474\n",
      "Epoch 2/10\n",
      "394/394 [==============================] - 2s 4ms/step - loss: 0.5164 - accuracy: 0.9150\n",
      "Epoch 3/10\n",
      "394/394 [==============================] - 2s 4ms/step - loss: 0.4333 - accuracy: 0.9215\n",
      "Epoch 4/10\n",
      "394/394 [==============================] - 2s 4ms/step - loss: 0.3764 - accuracy: 0.9238\n",
      "Epoch 5/10\n",
      "394/394 [==============================] - 2s 4ms/step - loss: 0.3361 - accuracy: 0.9235\n",
      "Epoch 6/10\n",
      "394/394 [==============================] - 2s 4ms/step - loss: 0.3063 - accuracy: 0.9244\n",
      "Epoch 7/10\n",
      "394/394 [==============================] - 2s 4ms/step - loss: 0.2835 - accuracy: 0.9249\n",
      "Epoch 8/10\n",
      "394/394 [==============================] - 2s 4ms/step - loss: 0.2656 - accuracy: 0.9257\n",
      "Epoch 9/10\n",
      "394/394 [==============================] - 2s 4ms/step - loss: 0.2512 - accuracy: 0.9270\n",
      "Epoch 10/10\n",
      "394/394 [==============================] - 2s 4ms/step - loss: 0.2394 - accuracy: 0.9268\n"
     ]
    }
   ],
   "source": [
    "for subset_name in autoencoder:\n",
    "\n",
    "    print(\"working on subset:\",subset_name)\n",
    "    subset = autoencoder[subset_name]\n",
    "\n",
    "    with tf.device('/gpu:0'):\n",
    "        tf.compat.v1.reset_default_graph()\n",
    "        tf.keras.backend.clear_session()\n",
    "        \n",
    "        model  = tf.keras.models.Sequential([\n",
    "            tf.keras.layers.Dense(1, activation='sigmoid', input_shape=(4,))])\n",
    "\n",
    "\n",
    "        model.compile(optimizer='adam',loss=\"binary_crossentropy\", metrics=['accuracy'])\n",
    "\n",
    "        hist = model.fit(\n",
    "            x=subset[\"x_train\"],\n",
    "            y=subset[\"y_train_binary\"],\n",
    "            epochs=10,\n",
    "            batch_size = 32)\n",
    "\n",
    "        weights = model.trainable_weights[0].numpy()\n",
    "        bias = model.trainable_weights[1].numpy()\n",
    "\n",
    "        if not os.path.isdir(\"measure/nncheck/Autoencoder/\"+subset_name):\n",
    "            os.mkdir(\"measure/nncheck/Autoencoder/\"+subset_name)\n",
    "\n",
    "        np.save(\"measure/nncheck/Autoencoder/\"+subset_name+\"/weights.npy\",weights)\n",
    "        np.save(\"measure/nncheck/Autoencoder/\"+subset_name+\"/bias.npy\",bias)\n",
    "\n",
    "        del model\n",
    "    "
   ]
  },
  {
   "cell_type": "code",
   "execution_count": 102,
   "metadata": {},
   "outputs": [
    {
     "data": {
      "image/png": "[encoded data removed]",
      "text/plain": [
       "<Figure size 720x360 with 2 Axes>"
      ]
     },
     "metadata": {
      "needs_background": "light"
     },
     "output_type": "display_data"
    }
   ],
   "source": [
    "i=0\n",
    "fig, ax = plt.subplots(1,2,figsize=(10,5),sharex=True,sharey=True)\n",
    "\n",
    "for preprocessing_type in [\"PCA\",\"Autoencoder\"]:\n",
    "\n",
    "    l = list()\n",
    "    for subset in os.listdir(\"measure/nncheck/\"+preprocessing_type):\n",
    "        w = np.load(\"measure/nncheck/\"+preprocessing_type+\"/\"+subset+\"/weights.npy\")\n",
    "        l.append(np.abs(pca[subset][\"x_train\"].mean(axis=0).reshape(4,1)*w))\n",
    "\n",
    "\n",
    "\n",
    "    arr = np.array(l)\n",
    "    arr_mean = arr.mean(axis=0)\n",
    "    \n",
    "    ax[i].set_title(preprocessing_type)\n",
    "    ax[i].imshow(arr_mean.reshape(2,2),cmap=\"gray\",vmin=0,vmax=1)\n",
    "    #annotate plot with values in arr_mean\n",
    "    for x in range(2):\n",
    "        for y in range(2):\n",
    "            ax[i].text(y,x,\"{:.3f}\".format(arr_mean[x*2+y][0]),ha=\"center\",va=\"center\",c=\"red\")\n",
    "\n",
    "    i+=1\n",
    "\n",
    "\n",
    "plt.show()\n",
    "    \n",
    "\n",
    "\n"
   ]
  },
  {
   "cell_type": "code",
   "execution_count": 177,
   "metadata": {},
   "outputs": [
    {
     "data": {
      "image/png": "[encoded data removed]",
      "text/plain": [
       "<Figure size 720x360 with 2 Axes>"
      ]
     },
     "metadata": {
      "needs_background": "light"
     },
     "output_type": "display_data"
    }
   ],
   "source": [
    "i=0\n",
    "fig, ax = plt.subplots(1,2,figsize=(10,5),sharex=True,sharey=True)\n",
    "\n",
    "for preprocessing_type in [\"PCA\",\"Autoencoder\"]:\n",
    "\n",
    "    l = list()\n",
    "    for subset in os.listdir(\"measure/nncheck/\"+preprocessing_type):\n",
    "        w = np.load(\"measure/nncheck/\"+preprocessing_type+\"/\"+subset+\"/weights.npy\")\n",
    "        l.append(w)\n",
    "\n",
    "\n",
    "\n",
    "    arr = np.array(l)\n",
    "    arr_mean = np.abs(arr.mean(axis=0))\n",
    "    \n",
    "    ax[i].set_title(preprocessing_type)\n",
    "    ax[i].imshow(arr_mean.reshape(2,2),cmap=\"gray\",vmin=0,vmax=1)\n",
    "    #annotate plot with values in arr_mean\n",
    "    for x in range(2):\n",
    "        for y in range(2):\n",
    "            ax[i].text(y,x,\"{:.3f}\".format(arr_mean[x*2+y][0]),ha=\"center\",va=\"center\",c=\"red\")\n",
    "\n",
    "    i+=1\n",
    "\n",
    "\n",
    "plt.show()\n",
    "    \n",
    "\n",
    "\n"
   ]
  },
  {
   "cell_type": "code",
   "execution_count": 299,
   "metadata": {},
   "outputs": [
    {
     "data": {
      "image/png": "[encoded data removed]",
      "text/plain": [
       "<Figure size 720x360 with 2 Axes>"
      ]
     },
     "metadata": {
      "needs_background": "light"
     },
     "output_type": "display_data"
    }
   ],
   "source": [
    "i=0\n",
    "fig, ax = plt.subplots(1,2,figsize=(10,5),sharex=True,sharey=True)\n",
    "\n",
    "\n",
    "d=dict()\n",
    "for preprocessing_type in [\"PCA\",\"Autoencoder\"]:\n",
    "\n",
    "    l = list()\n",
    "    d[preprocessing_type] = dict()\n",
    "   \n",
    "    for subset in os.listdir(\"measure/nncheck/\"+preprocessing_type):\n",
    "        w = np.load(\"measure/nncheck/\"+preprocessing_type+\"/\"+subset+\"/weights.npy\")\n",
    "        importance = np.abs(pca[subset][\"x_train\"].mean(axis=0).reshape(4,1)*w)\n",
    "\n",
    "        #nur die jenigen, die noch halb so \"wichtig\" sind wie das wichnigste\n",
    "        num_important= len(np.where(np.any(importance> importance.max()-importance.max()/4, axis=1))[0])\n",
    "\n",
    "        d[preprocessing_type][subset] = dict()\n",
    "        d[preprocessing_type][subset][\"num\"] = num_important\n",
    "        d[preprocessing_type][subset][\"importance\"] = importance\n",
    "        d[preprocessing_type][subset][\"index\"] = np.where(np.any(importance> importance.max()-importance.max()/4, axis=1))[0]\n",
    "\n",
    "        l.append(num_important)\n",
    "\n",
    "    ax[i].set_title(preprocessing_type)\n",
    "    ax[i].set_xticks(np.arange(len(l)))\n",
    "    ax[i].hist(l)\n",
    "    \n",
    "\n",
    "\n",
    "\n",
    "    i+=1\n",
    "\n",
    "\n",
    "plt.show()"
   ]
  },
  {
   "cell_type": "code",
   "execution_count": 311,
   "metadata": {},
   "outputs": [
    {
     "name": "stdout",
     "output_type": "stream",
     "text": [
      "6,9 pca\n",
      "Epoch 1/15\n",
      "  1/371 [..............................] - ETA: 1:34 - loss: 0.8014 - accuracy: 0.4375"
     ]
    },
    {
     "name": "stderr",
     "output_type": "stream",
     "text": [
      "2022-01-07 11:37:00.140427: I tensorflow/core/grappler/optimizers/custom_graph_optimizer_registry.cc:112] Plugin optimizer for device_type GPU is enabled.\n"
     ]
    },
    {
     "name": "stdout",
     "output_type": "stream",
     "text": [
      "371/371 [==============================] - ETA: 0s - loss: 0.6673 - accuracy: 0.5219"
     ]
    },
    {
     "name": "stderr",
     "output_type": "stream",
     "text": [
      "2022-01-07 11:37:02.054826: I tensorflow/core/grappler/optimizers/custom_graph_optimizer_registry.cc:112] Plugin optimizer for device_type GPU is enabled.\n"
     ]
    },
    {
     "name": "stdout",
     "output_type": "stream",
     "text": [
      "371/371 [==============================] - 2s 6ms/step - loss: 0.6673 - accuracy: 0.5219 - val_loss: 0.6160 - val_accuracy: 0.6050\n",
      "Epoch 2/15\n",
      "371/371 [==============================] - 2s 5ms/step - loss: 0.6040 - accuracy: 0.8579 - val_loss: 0.5806 - val_accuracy: 0.9339\n",
      "Epoch 3/15\n",
      "371/371 [==============================] - 2s 5ms/step - loss: 0.5752 - accuracy: 0.9197 - val_loss: 0.5515 - val_accuracy: 0.9532\n",
      "Epoch 4/15\n",
      "371/371 [==============================] - 2s 5ms/step - loss: 0.5470 - accuracy: 0.9367 - val_loss: 0.5223 - val_accuracy: 0.9619\n",
      "Epoch 5/15\n",
      "371/371 [==============================] - 2s 5ms/step - loss: 0.5191 - accuracy: 0.9463 - val_loss: 0.4942 - val_accuracy: 0.9731\n",
      "Epoch 6/15\n",
      "371/371 [==============================] - 2s 5ms/step - loss: 0.4921 - accuracy: 0.9563 - val_loss: 0.4672 - val_accuracy: 0.9786\n",
      "Epoch 7/15\n",
      "371/371 [==============================] - 2s 5ms/step - loss: 0.4664 - accuracy: 0.9646 - val_loss: 0.4413 - val_accuracy: 0.9797\n",
      "Epoch 8/15\n",
      "371/371 [==============================] - 2s 5ms/step - loss: 0.4420 - accuracy: 0.9680 - val_loss: 0.4173 - val_accuracy: 0.9822\n",
      "Epoch 9/15\n",
      "371/371 [==============================] - 2s 5ms/step - loss: 0.4189 - accuracy: 0.9722 - val_loss: 0.3944 - val_accuracy: 0.9827\n",
      "Epoch 10/15\n",
      "371/371 [==============================] - 2s 5ms/step - loss: 0.3971 - accuracy: 0.9745 - val_loss: 0.3737 - val_accuracy: 0.9832\n",
      "Epoch 11/15\n",
      "371/371 [==============================] - 2s 5ms/step - loss: 0.3766 - accuracy: 0.9765 - val_loss: 0.3532 - val_accuracy: 0.9842\n",
      "Epoch 12/15\n",
      "371/371 [==============================] - 2s 5ms/step - loss: 0.3573 - accuracy: 0.9788 - val_loss: 0.3345 - val_accuracy: 0.9847\n",
      "Epoch 13/15\n",
      "371/371 [==============================] - 2s 5ms/step - loss: 0.3392 - accuracy: 0.9803 - val_loss: 0.3166 - val_accuracy: 0.9853\n",
      "Epoch 14/15\n",
      "371/371 [==============================] - 2s 5ms/step - loss: 0.3222 - accuracy: 0.9814 - val_loss: 0.3004 - val_accuracy: 0.9858\n",
      "Epoch 15/15\n",
      "371/371 [==============================] - 2s 5ms/step - loss: 0.3062 - accuracy: 0.9830 - val_loss: 0.2851 - val_accuracy: 0.9863\n",
      "6,9 mostimportant\n",
      "Epoch 1/15\n",
      "  1/371 [..............................] - ETA: 1:34 - loss: 0.5650 - accuracy: 0.5625"
     ]
    },
    {
     "name": "stderr",
     "output_type": "stream",
     "text": [
      "2022-01-07 11:37:26.590588: I tensorflow/core/grappler/optimizers/custom_graph_optimizer_registry.cc:112] Plugin optimizer for device_type GPU is enabled.\n"
     ]
    },
    {
     "name": "stdout",
     "output_type": "stream",
     "text": [
      "371/371 [==============================] - ETA: 0s - loss: 0.5686 - accuracy: 0.5429"
     ]
    },
    {
     "name": "stderr",
     "output_type": "stream",
     "text": [
      "2022-01-07 11:37:28.514210: I tensorflow/core/grappler/optimizers/custom_graph_optimizer_registry.cc:112] Plugin optimizer for device_type GPU is enabled.\n"
     ]
    },
    {
     "name": "stdout",
     "output_type": "stream",
     "text": [
      "371/371 [==============================] - 2s 6ms/step - loss: 0.5686 - accuracy: 0.5429 - val_loss: 0.5358 - val_accuracy: 0.7199\n",
      "Epoch 2/15\n",
      "371/371 [==============================] - 2s 5ms/step - loss: 0.5239 - accuracy: 0.7703 - val_loss: 0.4937 - val_accuracy: 0.8815\n",
      "Epoch 3/15\n",
      "371/371 [==============================] - 2s 5ms/step - loss: 0.4873 - accuracy: 0.8935 - val_loss: 0.4585 - val_accuracy: 0.9380\n",
      "Epoch 4/15\n",
      "371/371 [==============================] - 2s 5ms/step - loss: 0.4561 - accuracy: 0.9403 - val_loss: 0.4283 - val_accuracy: 0.9522\n",
      "Epoch 5/15\n",
      "371/371 [==============================] - 2s 5ms/step - loss: 0.4288 - accuracy: 0.9560 - val_loss: 0.4018 - val_accuracy: 0.9598\n",
      "Epoch 6/15\n",
      "371/371 [==============================] - 2s 5ms/step - loss: 0.4046 - accuracy: 0.9636 - val_loss: 0.3783 - val_accuracy: 0.9639\n",
      "Epoch 7/15\n",
      "371/371 [==============================] - 2s 5ms/step - loss: 0.3829 - accuracy: 0.9693 - val_loss: 0.3573 - val_accuracy: 0.9639\n",
      "Epoch 8/15\n",
      "371/371 [==============================] - 2s 5ms/step - loss: 0.3632 - accuracy: 0.9714 - val_loss: 0.3384 - val_accuracy: 0.9654\n",
      "Epoch 9/15\n",
      "371/371 [==============================] - 2s 5ms/step - loss: 0.3452 - accuracy: 0.9738 - val_loss: 0.3211 - val_accuracy: 0.9675\n",
      "Epoch 10/15\n",
      "371/371 [==============================] - 2s 5ms/step - loss: 0.3288 - accuracy: 0.9733 - val_loss: 0.3054 - val_accuracy: 0.9685\n",
      "Epoch 11/15\n",
      "371/371 [==============================] - 2s 5ms/step - loss: 0.3136 - accuracy: 0.9741 - val_loss: 0.2909 - val_accuracy: 0.9670\n",
      "Epoch 12/15\n",
      "371/371 [==============================] - 2s 5ms/step - loss: 0.2996 - accuracy: 0.9745 - val_loss: 0.2777 - val_accuracy: 0.9670\n",
      "Epoch 13/15\n",
      "371/371 [==============================] - 2s 5ms/step - loss: 0.2866 - accuracy: 0.9746 - val_loss: 0.2655 - val_accuracy: 0.9675\n",
      "Epoch 14/15\n",
      "371/371 [==============================] - 2s 5ms/step - loss: 0.2746 - accuracy: 0.9742 - val_loss: 0.2543 - val_accuracy: 0.9680\n",
      "Epoch 15/15\n",
      "371/371 [==============================] - 2s 5ms/step - loss: 0.2634 - accuracy: 0.9749 - val_loss: 0.2438 - val_accuracy: 0.9675\n",
      "4,6 pca\n",
      "Epoch 1/15\n",
      "  1/368 [..............................] - ETA: 1:39 - loss: 0.7887 - accuracy: 0.3750"
     ]
    },
    {
     "name": "stderr",
     "output_type": "stream",
     "text": [
      "2022-01-07 11:37:53.002919: I tensorflow/core/grappler/optimizers/custom_graph_optimizer_registry.cc:112] Plugin optimizer for device_type GPU is enabled.\n"
     ]
    },
    {
     "name": "stdout",
     "output_type": "stream",
     "text": [
      "368/368 [==============================] - ETA: 0s - loss: 0.6550 - accuracy: 0.5170"
     ]
    },
    {
     "name": "stderr",
     "output_type": "stream",
     "text": [
      "2022-01-07 11:37:54.927507: I tensorflow/core/grappler/optimizers/custom_graph_optimizer_registry.cc:112] Plugin optimizer for device_type GPU is enabled.\n"
     ]
    },
    {
     "name": "stdout",
     "output_type": "stream",
     "text": [
      "368/368 [==============================] - 2s 6ms/step - loss: 0.6550 - accuracy: 0.5170 - val_loss: 0.6329 - val_accuracy: 0.5794\n",
      "Epoch 2/15\n",
      "368/368 [==============================] - 2s 5ms/step - loss: 0.5955 - accuracy: 0.7352 - val_loss: 0.5828 - val_accuracy: 0.8294\n",
      "Epoch 3/15\n",
      "368/368 [==============================] - 2s 5ms/step - loss: 0.5549 - accuracy: 0.8764 - val_loss: 0.5427 - val_accuracy: 0.8969\n",
      "Epoch 4/15\n",
      "368/368 [==============================] - 2s 5ms/step - loss: 0.5202 - accuracy: 0.9203 - val_loss: 0.5073 - val_accuracy: 0.9289\n",
      "Epoch 5/15\n",
      "368/368 [==============================] - 2s 5ms/step - loss: 0.4892 - accuracy: 0.9435 - val_loss: 0.4758 - val_accuracy: 0.9459\n",
      "Epoch 6/15\n",
      "368/368 [==============================] - 2s 5ms/step - loss: 0.4614 - accuracy: 0.9545 - val_loss: 0.4475 - val_accuracy: 0.9541\n",
      "Epoch 7/15\n",
      "368/368 [==============================] - 2s 5ms/step - loss: 0.4361 - accuracy: 0.9605 - val_loss: 0.4217 - val_accuracy: 0.9608\n",
      "Epoch 8/15\n",
      "368/368 [==============================] - 2s 5ms/step - loss: 0.4129 - accuracy: 0.9639 - val_loss: 0.3980 - val_accuracy: 0.9634\n",
      "Epoch 9/15\n",
      "368/368 [==============================] - 2s 5ms/step - loss: 0.3915 - accuracy: 0.9668 - val_loss: 0.3765 - val_accuracy: 0.9670\n",
      "Epoch 10/15\n",
      "368/368 [==============================] - 2s 5ms/step - loss: 0.3718 - accuracy: 0.9692 - val_loss: 0.3566 - val_accuracy: 0.9686\n",
      "Epoch 11/15\n",
      "368/368 [==============================] - 2s 5ms/step - loss: 0.3537 - accuracy: 0.9703 - val_loss: 0.3386 - val_accuracy: 0.9701\n",
      "Epoch 12/15\n",
      "368/368 [==============================] - 2s 5ms/step - loss: 0.3369 - accuracy: 0.9711 - val_loss: 0.3219 - val_accuracy: 0.9701\n",
      "Epoch 13/15\n",
      "368/368 [==============================] - 2s 5ms/step - loss: 0.3214 - accuracy: 0.9715 - val_loss: 0.3067 - val_accuracy: 0.9706\n",
      "Epoch 14/15\n",
      "368/368 [==============================] - 2s 5ms/step - loss: 0.3071 - accuracy: 0.9721 - val_loss: 0.2928 - val_accuracy: 0.9722\n",
      "Epoch 15/15\n",
      "368/368 [==============================] - 2s 5ms/step - loss: 0.2938 - accuracy: 0.9725 - val_loss: 0.2798 - val_accuracy: 0.9716\n",
      "4,6 mostimportant\n",
      "Epoch 1/15\n",
      "  1/368 [..............................] - ETA: 1:37 - loss: 0.7587 - accuracy: 0.6250"
     ]
    },
    {
     "name": "stderr",
     "output_type": "stream",
     "text": [
      "2022-01-07 11:38:19.389366: I tensorflow/core/grappler/optimizers/custom_graph_optimizer_registry.cc:112] Plugin optimizer for device_type GPU is enabled.\n"
     ]
    },
    {
     "name": "stdout",
     "output_type": "stream",
     "text": [
      "368/368 [==============================] - ETA: 0s - loss: 0.7755 - accuracy: 0.3969"
     ]
    },
    {
     "name": "stderr",
     "output_type": "stream",
     "text": [
      "2022-01-07 11:38:21.524215: I tensorflow/core/grappler/optimizers/custom_graph_optimizer_registry.cc:112] Plugin optimizer for device_type GPU is enabled.\n"
     ]
    },
    {
     "name": "stdout",
     "output_type": "stream",
     "text": [
      "368/368 [==============================] - 2s 6ms/step - loss: 0.7755 - accuracy: 0.3969 - val_loss: 0.7510 - val_accuracy: 0.1866\n",
      "Epoch 2/15\n",
      "368/368 [==============================] - 2s 5ms/step - loss: 0.7365 - accuracy: 0.1439 - val_loss: 0.7239 - val_accuracy: 0.2500\n",
      "Epoch 3/15\n",
      "368/368 [==============================] - 2s 5ms/step - loss: 0.7107 - accuracy: 0.4396 - val_loss: 0.6998 - val_accuracy: 0.4938\n",
      "Epoch 4/15\n",
      "368/368 [==============================] - 2s 5ms/step - loss: 0.6869 - accuracy: 0.5032 - val_loss: 0.6758 - val_accuracy: 0.4938\n",
      "Epoch 5/15\n",
      "368/368 [==============================] - 2s 5ms/step - loss: 0.6634 - accuracy: 0.5335 - val_loss: 0.6523 - val_accuracy: 0.6763\n",
      "Epoch 6/15\n",
      "368/368 [==============================] - 2s 5ms/step - loss: 0.6406 - accuracy: 0.7047 - val_loss: 0.6296 - val_accuracy: 0.7928\n",
      "Epoch 7/15\n",
      "368/368 [==============================] - 2s 5ms/step - loss: 0.6186 - accuracy: 0.7855 - val_loss: 0.6077 - val_accuracy: 0.8278\n",
      "Epoch 8/15\n",
      "368/368 [==============================] - 2s 5ms/step - loss: 0.5974 - accuracy: 0.8282 - val_loss: 0.5868 - val_accuracy: 0.8345\n",
      "Epoch 9/15\n",
      "368/368 [==============================] - 2s 5ms/step - loss: 0.5770 - accuracy: 0.8434 - val_loss: 0.5669 - val_accuracy: 0.8495\n",
      "Epoch 10/15\n",
      "368/368 [==============================] - 2s 5ms/step - loss: 0.5577 - accuracy: 0.8582 - val_loss: 0.5481 - val_accuracy: 0.8515\n",
      "Epoch 11/15\n",
      "368/368 [==============================] - 2s 5ms/step - loss: 0.5393 - accuracy: 0.8639 - val_loss: 0.5305 - val_accuracy: 0.8577\n",
      "Epoch 12/15\n",
      "368/368 [==============================] - 2s 5ms/step - loss: 0.5220 - accuracy: 0.8692 - val_loss: 0.5139 - val_accuracy: 0.8588\n",
      "Epoch 13/15\n",
      "368/368 [==============================] - 2s 5ms/step - loss: 0.5056 - accuracy: 0.8730 - val_loss: 0.4983 - val_accuracy: 0.8593\n",
      "Epoch 14/15\n",
      "368/368 [==============================] - 2s 5ms/step - loss: 0.4902 - accuracy: 0.8747 - val_loss: 0.4838 - val_accuracy: 0.8613\n",
      "Epoch 15/15\n",
      "368/368 [==============================] - 2s 5ms/step - loss: 0.4757 - accuracy: 0.8775 - val_loss: 0.4702 - val_accuracy: 0.8634\n",
      "4,8 pca\n",
      "Epoch 1/15\n",
      "  1/366 [..............................] - ETA: 1:25 - loss: 0.6467 - accuracy: 0.6562"
     ]
    },
    {
     "name": "stderr",
     "output_type": "stream",
     "text": [
      "2022-01-07 11:38:45.637914: I tensorflow/core/grappler/optimizers/custom_graph_optimizer_registry.cc:112] Plugin optimizer for device_type GPU is enabled.\n"
     ]
    },
    {
     "name": "stdout",
     "output_type": "stream",
     "text": [
      "366/366 [==============================] - ETA: 0s - loss: 0.6265 - accuracy: 0.7321"
     ]
    },
    {
     "name": "stderr",
     "output_type": "stream",
     "text": [
      "2022-01-07 11:38:47.682526: I tensorflow/core/grappler/optimizers/custom_graph_optimizer_registry.cc:112] Plugin optimizer for device_type GPU is enabled.\n"
     ]
    },
    {
     "name": "stdout",
     "output_type": "stream",
     "text": [
      "366/366 [==============================] - 2s 6ms/step - loss: 0.6265 - accuracy: 0.7321 - val_loss: 0.6081 - val_accuracy: 0.7306\n",
      "Epoch 2/15\n",
      "366/366 [==============================] - 2s 5ms/step - loss: 0.6029 - accuracy: 0.7609 - val_loss: 0.5853 - val_accuracy: 0.7531\n",
      "Epoch 3/15\n",
      "366/366 [==============================] - 2s 5ms/step - loss: 0.5806 - accuracy: 0.7976 - val_loss: 0.5629 - val_accuracy: 0.7858\n",
      "Epoch 4/15\n",
      "366/366 [==============================] - 2s 5ms/step - loss: 0.5593 - accuracy: 0.8228 - val_loss: 0.5415 - val_accuracy: 0.8139\n",
      "Epoch 5/15\n",
      "366/366 [==============================] - 2s 5ms/step - loss: 0.5392 - accuracy: 0.8513 - val_loss: 0.5218 - val_accuracy: 0.8313\n",
      "Epoch 6/15\n",
      "366/366 [==============================] - 2s 5ms/step - loss: 0.5203 - accuracy: 0.8679 - val_loss: 0.5034 - val_accuracy: 0.8461\n",
      "Epoch 7/15\n",
      "366/366 [==============================] - 2s 5ms/step - loss: 0.5025 - accuracy: 0.8782 - val_loss: 0.4856 - val_accuracy: 0.8620\n",
      "Epoch 8/15\n",
      "366/366 [==============================] - 2s 5ms/step - loss: 0.4855 - accuracy: 0.8881 - val_loss: 0.4689 - val_accuracy: 0.8701\n",
      "Epoch 9/15\n",
      "366/366 [==============================] - 2s 5ms/step - loss: 0.4693 - accuracy: 0.8953 - val_loss: 0.4527 - val_accuracy: 0.8839\n",
      "Epoch 10/15\n",
      "366/366 [==============================] - 2s 5ms/step - loss: 0.4540 - accuracy: 0.9034 - val_loss: 0.4374 - val_accuracy: 0.8931\n",
      "Epoch 11/15\n",
      "366/366 [==============================] - 2s 5ms/step - loss: 0.4395 - accuracy: 0.9076 - val_loss: 0.4231 - val_accuracy: 0.9013\n",
      "Epoch 12/15\n",
      "366/366 [==============================] - 2s 5ms/step - loss: 0.4256 - accuracy: 0.9125 - val_loss: 0.4098 - val_accuracy: 0.9039\n",
      "Epoch 13/15\n",
      "366/366 [==============================] - 2s 5ms/step - loss: 0.4125 - accuracy: 0.9161 - val_loss: 0.3967 - val_accuracy: 0.9105\n",
      "Epoch 14/15\n",
      "366/366 [==============================] - 2s 5ms/step - loss: 0.4000 - accuracy: 0.9194 - val_loss: 0.3844 - val_accuracy: 0.9126\n",
      "Epoch 15/15\n",
      "366/366 [==============================] - 2s 5ms/step - loss: 0.3880 - accuracy: 0.9220 - val_loss: 0.3728 - val_accuracy: 0.9151\n",
      "4,8 mostimportant\n",
      "Epoch 1/15\n",
      "  1/366 [..............................] - ETA: 1:28 - loss: 0.6901 - accuracy: 0.4375"
     ]
    },
    {
     "name": "stderr",
     "output_type": "stream",
     "text": [
      "2022-01-07 11:39:11.650610: I tensorflow/core/grappler/optimizers/custom_graph_optimizer_registry.cc:112] Plugin optimizer for device_type GPU is enabled.\n"
     ]
    },
    {
     "name": "stdout",
     "output_type": "stream",
     "text": [
      "366/366 [==============================] - ETA: 0s - loss: 0.6109 - accuracy: 0.5453"
     ]
    },
    {
     "name": "stderr",
     "output_type": "stream",
     "text": [
      "2022-01-07 11:39:13.677122: I tensorflow/core/grappler/optimizers/custom_graph_optimizer_registry.cc:112] Plugin optimizer for device_type GPU is enabled.\n"
     ]
    },
    {
     "name": "stdout",
     "output_type": "stream",
     "text": [
      "366/366 [==============================] - 2s 6ms/step - loss: 0.6109 - accuracy: 0.5453 - val_loss: 0.5927 - val_accuracy: 0.6145\n",
      "Epoch 2/15\n",
      "366/366 [==============================] - 2s 5ms/step - loss: 0.5790 - accuracy: 0.6923 - val_loss: 0.5638 - val_accuracy: 0.7372\n",
      "Epoch 3/15\n",
      "366/366 [==============================] - 2s 5ms/step - loss: 0.5531 - accuracy: 0.7941 - val_loss: 0.5390 - val_accuracy: 0.8001\n",
      "Epoch 4/15\n",
      "366/366 [==============================] - 2s 5ms/step - loss: 0.5305 - accuracy: 0.8440 - val_loss: 0.5169 - val_accuracy: 0.8456\n",
      "Epoch 5/15\n",
      "366/366 [==============================] - 2s 5ms/step - loss: 0.5104 - accuracy: 0.8768 - val_loss: 0.4976 - val_accuracy: 0.8676\n",
      "Epoch 6/15\n",
      "366/366 [==============================] - 2s 5ms/step - loss: 0.4925 - accuracy: 0.8910 - val_loss: 0.4800 - val_accuracy: 0.8804\n",
      "Epoch 7/15\n",
      "366/366 [==============================] - 2s 5ms/step - loss: 0.4760 - accuracy: 0.8967 - val_loss: 0.4639 - val_accuracy: 0.8875\n",
      "Epoch 8/15\n",
      "366/366 [==============================] - 2s 5ms/step - loss: 0.4609 - accuracy: 0.9014 - val_loss: 0.4490 - val_accuracy: 0.8926\n",
      "Epoch 9/15\n",
      "366/366 [==============================] - 2s 5ms/step - loss: 0.4468 - accuracy: 0.9036 - val_loss: 0.4352 - val_accuracy: 0.8972\n",
      "Epoch 10/15\n",
      "366/366 [==============================] - 2s 5ms/step - loss: 0.4337 - accuracy: 0.9057 - val_loss: 0.4223 - val_accuracy: 0.9003\n",
      "Epoch 11/15\n",
      "366/366 [==============================] - 2s 5ms/step - loss: 0.4216 - accuracy: 0.9082 - val_loss: 0.4105 - val_accuracy: 0.9018\n",
      "Epoch 12/15\n",
      "366/366 [==============================] - 2s 5ms/step - loss: 0.4103 - accuracy: 0.9088 - val_loss: 0.3996 - val_accuracy: 0.9029\n",
      "Epoch 13/15\n",
      "366/366 [==============================] - 2s 5ms/step - loss: 0.3997 - accuracy: 0.9088 - val_loss: 0.3893 - val_accuracy: 0.9034\n",
      "Epoch 14/15\n",
      "366/366 [==============================] - 2s 5ms/step - loss: 0.3898 - accuracy: 0.9087 - val_loss: 0.3797 - val_accuracy: 0.9049\n",
      "Epoch 15/15\n",
      "366/366 [==============================] - 2s 5ms/step - loss: 0.3805 - accuracy: 0.9097 - val_loss: 0.3707 - val_accuracy: 0.9054\n",
      "0,7 pca\n",
      "Epoch 1/15\n",
      "  1/381 [..............................] - ETA: 1:30 - loss: 0.7475 - accuracy: 0.3750"
     ]
    },
    {
     "name": "stderr",
     "output_type": "stream",
     "text": [
      "2022-01-07 11:39:37.592295: I tensorflow/core/grappler/optimizers/custom_graph_optimizer_registry.cc:112] Plugin optimizer for device_type GPU is enabled.\n"
     ]
    },
    {
     "name": "stdout",
     "output_type": "stream",
     "text": [
      "381/381 [==============================] - ETA: 0s - loss: 0.7152 - accuracy: 0.4298"
     ]
    },
    {
     "name": "stderr",
     "output_type": "stream",
     "text": [
      "2022-01-07 11:39:39.704696: I tensorflow/core/grappler/optimizers/custom_graph_optimizer_registry.cc:112] Plugin optimizer for device_type GPU is enabled.\n"
     ]
    },
    {
     "name": "stdout",
     "output_type": "stream",
     "text": [
      "381/381 [==============================] - 3s 6ms/step - loss: 0.7152 - accuracy: 0.4298 - val_loss: 0.6911 - val_accuracy: 0.5378\n",
      "Epoch 2/15\n",
      "381/381 [==============================] - 2s 5ms/step - loss: 0.6708 - accuracy: 0.6481 - val_loss: 0.6463 - val_accuracy: 0.7600\n",
      "Epoch 3/15\n",
      "381/381 [==============================] - 2s 5ms/step - loss: 0.6294 - accuracy: 0.8298 - val_loss: 0.6045 - val_accuracy: 0.9049\n",
      "Epoch 4/15\n",
      "381/381 [==============================] - 2s 4ms/step - loss: 0.5908 - accuracy: 0.9106 - val_loss: 0.5657 - val_accuracy: 0.9482\n",
      "Epoch 5/15\n",
      "381/381 [==============================] - 2s 5ms/step - loss: 0.5549 - accuracy: 0.9449 - val_loss: 0.5299 - val_accuracy: 0.9592\n",
      "Epoch 6/15\n",
      "381/381 [==============================] - 2s 5ms/step - loss: 0.5217 - accuracy: 0.9584 - val_loss: 0.4968 - val_accuracy: 0.9671\n",
      "Epoch 7/15\n",
      "381/381 [==============================] - 2s 5ms/step - loss: 0.4909 - accuracy: 0.9655 - val_loss: 0.4662 - val_accuracy: 0.9701\n",
      "Epoch 8/15\n",
      "381/381 [==============================] - 2s 5ms/step - loss: 0.4621 - accuracy: 0.9687 - val_loss: 0.4377 - val_accuracy: 0.9766\n",
      "Epoch 9/15\n",
      "381/381 [==============================] - 2s 5ms/step - loss: 0.4356 - accuracy: 0.9729 - val_loss: 0.4115 - val_accuracy: 0.9751\n",
      "Epoch 10/15\n",
      "381/381 [==============================] - 2s 5ms/step - loss: 0.4108 - accuracy: 0.9747 - val_loss: 0.3872 - val_accuracy: 0.9756\n",
      "Epoch 11/15\n",
      "381/381 [==============================] - 2s 5ms/step - loss: 0.3878 - accuracy: 0.9755 - val_loss: 0.3647 - val_accuracy: 0.9761\n",
      "Epoch 12/15\n",
      "381/381 [==============================] - 2s 5ms/step - loss: 0.3664 - accuracy: 0.9763 - val_loss: 0.3438 - val_accuracy: 0.9791\n",
      "Epoch 13/15\n",
      "381/381 [==============================] - 2s 5ms/step - loss: 0.3466 - accuracy: 0.9777 - val_loss: 0.3244 - val_accuracy: 0.9776\n",
      "Epoch 14/15\n",
      "381/381 [==============================] - 2s 5ms/step - loss: 0.3280 - accuracy: 0.9784 - val_loss: 0.3064 - val_accuracy: 0.9791\n",
      "Epoch 15/15\n",
      "381/381 [==============================] - 2s 5ms/step - loss: 0.3107 - accuracy: 0.9791 - val_loss: 0.2897 - val_accuracy: 0.9791\n",
      "0,7 mostimportant\n",
      "Epoch 1/15\n",
      "  1/381 [..............................] - ETA: 1:30 - loss: 0.8555 - accuracy: 0.4688"
     ]
    },
    {
     "name": "stderr",
     "output_type": "stream",
     "text": [
      "2022-01-07 11:40:04.653026: I tensorflow/core/grappler/optimizers/custom_graph_optimizer_registry.cc:112] Plugin optimizer for device_type GPU is enabled.\n"
     ]
    },
    {
     "name": "stdout",
     "output_type": "stream",
     "text": [
      "381/381 [==============================] - ETA: 0s - loss: 0.8152 - accuracy: 0.3102"
     ]
    },
    {
     "name": "stderr",
     "output_type": "stream",
     "text": [
      "2022-01-07 11:40:06.752044: I tensorflow/core/grappler/optimizers/custom_graph_optimizer_registry.cc:112] Plugin optimizer for device_type GPU is enabled.\n"
     ]
    },
    {
     "name": "stdout",
     "output_type": "stream",
     "text": [
      "381/381 [==============================] - 2s 6ms/step - loss: 0.8152 - accuracy: 0.3102 - val_loss: 0.7918 - val_accuracy: 0.0857\n",
      "Epoch 2/15\n",
      "381/381 [==============================] - 2s 5ms/step - loss: 0.7645 - accuracy: 0.0423 - val_loss: 0.7459 - val_accuracy: 0.0174\n",
      "Epoch 3/15\n",
      "381/381 [==============================] - 2s 5ms/step - loss: 0.7237 - accuracy: 0.1429 - val_loss: 0.7046 - val_accuracy: 0.4512\n",
      "Epoch 4/15\n",
      "381/381 [==============================] - 2s 5ms/step - loss: 0.6853 - accuracy: 0.5178 - val_loss: 0.6650 - val_accuracy: 0.7206\n",
      "Epoch 5/15\n",
      "381/381 [==============================] - 2s 5ms/step - loss: 0.6483 - accuracy: 0.8887 - val_loss: 0.6273 - val_accuracy: 0.9622\n",
      "Epoch 6/15\n",
      "381/381 [==============================] - 2s 5ms/step - loss: 0.6131 - accuracy: 0.9654 - val_loss: 0.5915 - val_accuracy: 0.9741\n",
      "Epoch 7/15\n",
      "381/381 [==============================] - 2s 5ms/step - loss: 0.5797 - accuracy: 0.9728 - val_loss: 0.5577 - val_accuracy: 0.9791\n",
      "Epoch 8/15\n",
      "381/381 [==============================] - 2s 5ms/step - loss: 0.5480 - accuracy: 0.9732 - val_loss: 0.5258 - val_accuracy: 0.9801\n",
      "Epoch 9/15\n",
      "381/381 [==============================] - 2s 5ms/step - loss: 0.5183 - accuracy: 0.9733 - val_loss: 0.4960 - val_accuracy: 0.9801\n",
      "Epoch 10/15\n",
      "381/381 [==============================] - 2s 5ms/step - loss: 0.4903 - accuracy: 0.9737 - val_loss: 0.4680 - val_accuracy: 0.9796\n",
      "Epoch 11/15\n",
      "381/381 [==============================] - 2s 5ms/step - loss: 0.4640 - accuracy: 0.9724 - val_loss: 0.4418 - val_accuracy: 0.9806\n",
      "Epoch 12/15\n",
      "381/381 [==============================] - 2s 5ms/step - loss: 0.4394 - accuracy: 0.9719 - val_loss: 0.4173 - val_accuracy: 0.9811\n",
      "Epoch 13/15\n",
      "381/381 [==============================] - 2s 5ms/step - loss: 0.4164 - accuracy: 0.9723 - val_loss: 0.3944 - val_accuracy: 0.9821\n",
      "Epoch 14/15\n",
      "381/381 [==============================] - 2s 5ms/step - loss: 0.3948 - accuracy: 0.9714 - val_loss: 0.3730 - val_accuracy: 0.9821\n",
      "Epoch 15/15\n",
      "381/381 [==============================] - 2s 5ms/step - loss: 0.3746 - accuracy: 0.9714 - val_loss: 0.3531 - val_accuracy: 0.9831\n",
      "2,3 pca\n",
      "Epoch 1/15\n",
      "  1/378 [..............................] - ETA: 1:29 - loss: 0.7047 - accuracy: 0.5312"
     ]
    },
    {
     "name": "stderr",
     "output_type": "stream",
     "text": [
      "2022-01-07 11:40:31.608293: I tensorflow/core/grappler/optimizers/custom_graph_optimizer_registry.cc:112] Plugin optimizer for device_type GPU is enabled.\n"
     ]
    },
    {
     "name": "stdout",
     "output_type": "stream",
     "text": [
      "378/378 [==============================] - ETA: 0s - loss: 0.6565 - accuracy: 0.5166"
     ]
    },
    {
     "name": "stderr",
     "output_type": "stream",
     "text": [
      "2022-01-07 11:40:33.708068: I tensorflow/core/grappler/optimizers/custom_graph_optimizer_registry.cc:112] Plugin optimizer for device_type GPU is enabled.\n"
     ]
    },
    {
     "name": "stdout",
     "output_type": "stream",
     "text": [
      "378/378 [==============================] - 3s 6ms/step - loss: 0.6565 - accuracy: 0.5166 - val_loss: 0.6053 - val_accuracy: 0.7027\n",
      "Epoch 2/15\n",
      "378/378 [==============================] - 2s 5ms/step - loss: 0.5976 - accuracy: 0.7730 - val_loss: 0.5680 - val_accuracy: 0.9001\n",
      "Epoch 3/15\n",
      "378/378 [==============================] - 2s 4ms/step - loss: 0.5636 - accuracy: 0.8949 - val_loss: 0.5383 - val_accuracy: 0.9084\n",
      "Epoch 4/15\n",
      "378/378 [==============================] - 2s 5ms/step - loss: 0.5355 - accuracy: 0.9208 - val_loss: 0.5115 - val_accuracy: 0.9123\n",
      "Epoch 5/15\n",
      "378/378 [==============================] - 2s 5ms/step - loss: 0.5105 - accuracy: 0.9265 - val_loss: 0.4868 - val_accuracy: 0.9123\n",
      "Epoch 6/15\n",
      "378/378 [==============================] - 2s 5ms/step - loss: 0.4877 - accuracy: 0.9298 - val_loss: 0.4647 - val_accuracy: 0.9123\n",
      "Epoch 7/15\n",
      "378/378 [==============================] - 2s 5ms/step - loss: 0.4669 - accuracy: 0.9323 - val_loss: 0.4445 - val_accuracy: 0.9133\n",
      "Epoch 8/15\n",
      "378/378 [==============================] - 2s 5ms/step - loss: 0.4477 - accuracy: 0.9323 - val_loss: 0.4265 - val_accuracy: 0.9123\n",
      "Epoch 9/15\n",
      "378/378 [==============================] - 2s 5ms/step - loss: 0.4301 - accuracy: 0.9321 - val_loss: 0.4091 - val_accuracy: 0.9177\n",
      "Epoch 10/15\n",
      "378/378 [==============================] - 2s 5ms/step - loss: 0.4139 - accuracy: 0.9330 - val_loss: 0.3949 - val_accuracy: 0.9148\n",
      "Epoch 11/15\n",
      "378/378 [==============================] - 2s 5ms/step - loss: 0.3990 - accuracy: 0.9332 - val_loss: 0.3804 - val_accuracy: 0.9163\n",
      "Epoch 12/15\n",
      "378/378 [==============================] - 2s 5ms/step - loss: 0.3851 - accuracy: 0.9331 - val_loss: 0.3663 - val_accuracy: 0.9172\n",
      "Epoch 13/15\n",
      "378/378 [==============================] - 2s 5ms/step - loss: 0.3723 - accuracy: 0.9344 - val_loss: 0.3553 - val_accuracy: 0.9167\n",
      "Epoch 14/15\n",
      "378/378 [==============================] - 2s 5ms/step - loss: 0.3602 - accuracy: 0.9337 - val_loss: 0.3442 - val_accuracy: 0.9163\n",
      "Epoch 15/15\n",
      "378/378 [==============================] - 2s 5ms/step - loss: 0.3490 - accuracy: 0.9336 - val_loss: 0.3342 - val_accuracy: 0.9163\n",
      "2,3 mostimportant\n",
      "Epoch 1/15\n",
      "  1/378 [..............................] - ETA: 4:49 - loss: 0.6549 - accuracy: 0.5312"
     ]
    },
    {
     "name": "stderr",
     "output_type": "stream",
     "text": [
      "2022-01-07 11:40:59.727477: I tensorflow/core/grappler/optimizers/custom_graph_optimizer_registry.cc:112] Plugin optimizer for device_type GPU is enabled.\n"
     ]
    },
    {
     "name": "stdout",
     "output_type": "stream",
     "text": [
      "378/378 [==============================] - ETA: 0s - loss: 0.6428 - accuracy: 0.5651"
     ]
    },
    {
     "name": "stderr",
     "output_type": "stream",
     "text": [
      "2022-01-07 11:41:01.942091: I tensorflow/core/grappler/optimizers/custom_graph_optimizer_registry.cc:112] Plugin optimizer for device_type GPU is enabled.\n"
     ]
    },
    {
     "name": "stdout",
     "output_type": "stream",
     "text": [
      "378/378 [==============================] - 3s 6ms/step - loss: 0.6428 - accuracy: 0.5651 - val_loss: 0.6190 - val_accuracy: 0.7811\n",
      "Epoch 2/15\n",
      "378/378 [==============================] - 2s 5ms/step - loss: 0.6176 - accuracy: 0.7590 - val_loss: 0.5944 - val_accuracy: 0.8737\n",
      "Epoch 3/15\n",
      "378/378 [==============================] - 2s 5ms/step - loss: 0.5955 - accuracy: 0.8325 - val_loss: 0.5724 - val_accuracy: 0.8790\n",
      "Epoch 4/15\n",
      "378/378 [==============================] - 2s 5ms/step - loss: 0.5754 - accuracy: 0.8634 - val_loss: 0.5520 - val_accuracy: 0.8781\n",
      "Epoch 5/15\n",
      "378/378 [==============================] - 2s 5ms/step - loss: 0.5570 - accuracy: 0.8711 - val_loss: 0.5330 - val_accuracy: 0.8727\n",
      "Epoch 6/15\n",
      "378/378 [==============================] - 2s 5ms/step - loss: 0.5400 - accuracy: 0.8747 - val_loss: 0.5158 - val_accuracy: 0.8727\n",
      "Epoch 7/15\n",
      "378/378 [==============================] - 2s 5ms/step - loss: 0.5244 - accuracy: 0.8752 - val_loss: 0.4999 - val_accuracy: 0.8727\n",
      "Epoch 8/15\n",
      "378/378 [==============================] - 2s 5ms/step - loss: 0.5099 - accuracy: 0.8767 - val_loss: 0.4855 - val_accuracy: 0.8717\n",
      "Epoch 9/15\n",
      "378/378 [==============================] - 2s 5ms/step - loss: 0.4964 - accuracy: 0.8769 - val_loss: 0.4719 - val_accuracy: 0.8722\n",
      "Epoch 10/15\n",
      "378/378 [==============================] - 2s 5ms/step - loss: 0.4841 - accuracy: 0.8771 - val_loss: 0.4600 - val_accuracy: 0.8712\n",
      "Epoch 11/15\n",
      "378/378 [==============================] - 2s 5ms/step - loss: 0.4726 - accuracy: 0.8781 - val_loss: 0.4486 - val_accuracy: 0.8697\n",
      "Epoch 12/15\n",
      "378/378 [==============================] - 2s 5ms/step - loss: 0.4619 - accuracy: 0.8768 - val_loss: 0.4377 - val_accuracy: 0.8707\n",
      "Epoch 13/15\n",
      "378/378 [==============================] - 2s 5ms/step - loss: 0.4519 - accuracy: 0.8773 - val_loss: 0.4281 - val_accuracy: 0.8707\n",
      "Epoch 14/15\n",
      "378/378 [==============================] - 2s 5ms/step - loss: 0.4424 - accuracy: 0.8777 - val_loss: 0.4191 - val_accuracy: 0.8697\n",
      "Epoch 15/15\n",
      "378/378 [==============================] - 2s 5ms/step - loss: 0.4336 - accuracy: 0.8777 - val_loss: 0.4108 - val_accuracy: 0.8697\n",
      "0,9 pca\n",
      "Epoch 1/15\n",
      "  7/371 [..............................] - ETA: 3s - loss: 0.6019 - accuracy: 0.9464  "
     ]
    },
    {
     "name": "stderr",
     "output_type": "stream",
     "text": [
      "2022-01-07 11:41:27.310465: I tensorflow/core/grappler/optimizers/custom_graph_optimizer_registry.cc:112] Plugin optimizer for device_type GPU is enabled.\n"
     ]
    },
    {
     "name": "stdout",
     "output_type": "stream",
     "text": [
      "366/371 [============================>.] - ETA: 0s - loss: 0.5800 - accuracy: 0.9602"
     ]
    },
    {
     "name": "stderr",
     "output_type": "stream",
     "text": [
      "2022-01-07 11:41:28.962228: I tensorflow/core/grappler/optimizers/custom_graph_optimizer_registry.cc:112] Plugin optimizer for device_type GPU is enabled.\n"
     ]
    },
    {
     "name": "stdout",
     "output_type": "stream",
     "text": [
      "371/371 [==============================] - 2s 5ms/step - loss: 0.5798 - accuracy: 0.9602 - val_loss: 0.5556 - val_accuracy: 0.9532\n",
      "Epoch 2/15\n",
      "371/371 [==============================] - 1s 4ms/step - loss: 0.5435 - accuracy: 0.9670 - val_loss: 0.5198 - val_accuracy: 0.9613\n",
      "Epoch 3/15\n",
      "371/371 [==============================] - 1s 4ms/step - loss: 0.5102 - accuracy: 0.9709 - val_loss: 0.4875 - val_accuracy: 0.9613\n",
      "Epoch 4/15\n",
      "371/371 [==============================] - 1s 4ms/step - loss: 0.4798 - accuracy: 0.9712 - val_loss: 0.4575 - val_accuracy: 0.9653\n",
      "Epoch 5/15\n",
      "371/371 [==============================] - 1s 4ms/step - loss: 0.4519 - accuracy: 0.9730 - val_loss: 0.4304 - val_accuracy: 0.9668\n",
      "Epoch 6/15\n",
      "371/371 [==============================] - 1s 4ms/step - loss: 0.4261 - accuracy: 0.9725 - val_loss: 0.4053 - val_accuracy: 0.9673\n",
      "Epoch 7/15\n",
      "371/371 [==============================] - 1s 4ms/step - loss: 0.4024 - accuracy: 0.9733 - val_loss: 0.3822 - val_accuracy: 0.9668\n",
      "Epoch 8/15\n",
      "371/371 [==============================] - 1s 4ms/step - loss: 0.3804 - accuracy: 0.9732 - val_loss: 0.3611 - val_accuracy: 0.9658\n",
      "Epoch 9/15\n",
      "371/371 [==============================] - 1s 4ms/step - loss: 0.3600 - accuracy: 0.9730 - val_loss: 0.3415 - val_accuracy: 0.9658\n",
      "Epoch 10/15\n",
      "371/371 [==============================] - 1s 4ms/step - loss: 0.3411 - accuracy: 0.9730 - val_loss: 0.3229 - val_accuracy: 0.9673\n",
      "Epoch 11/15\n",
      "371/371 [==============================] - 1s 4ms/step - loss: 0.3235 - accuracy: 0.9731 - val_loss: 0.3061 - val_accuracy: 0.9678\n",
      "Epoch 12/15\n",
      "371/371 [==============================] - 1s 4ms/step - loss: 0.3072 - accuracy: 0.9733 - val_loss: 0.2900 - val_accuracy: 0.9683\n",
      "Epoch 13/15\n",
      "371/371 [==============================] - 1s 4ms/step - loss: 0.2921 - accuracy: 0.9734 - val_loss: 0.2755 - val_accuracy: 0.9683\n",
      "Epoch 14/15\n",
      "371/371 [==============================] - 1s 4ms/step - loss: 0.2780 - accuracy: 0.9733 - val_loss: 0.2620 - val_accuracy: 0.9683\n",
      "Epoch 15/15\n",
      "371/371 [==============================] - 1s 4ms/step - loss: 0.2648 - accuracy: 0.9733 - val_loss: 0.2489 - val_accuracy: 0.9693\n",
      "0,9 mostimportant\n",
      "Epoch 1/15\n",
      "  6/371 [..............................] - ETA: 3s - loss: 0.9025 - accuracy: 0.5104  "
     ]
    },
    {
     "name": "stderr",
     "output_type": "stream",
     "text": [
      "2022-01-07 11:41:49.279861: I tensorflow/core/grappler/optimizers/custom_graph_optimizer_registry.cc:112] Plugin optimizer for device_type GPU is enabled.\n"
     ]
    },
    {
     "name": "stdout",
     "output_type": "stream",
     "text": [
      "359/371 [============================>.] - ETA: 0s - loss: 0.8667 - accuracy: 0.3263"
     ]
    },
    {
     "name": "stderr",
     "output_type": "stream",
     "text": [
      "2022-01-07 11:41:50.883510: I tensorflow/core/grappler/optimizers/custom_graph_optimizer_registry.cc:112] Plugin optimizer for device_type GPU is enabled.\n"
     ]
    },
    {
     "name": "stdout",
     "output_type": "stream",
     "text": [
      "371/371 [==============================] - 2s 5ms/step - loss: 0.8657 - accuracy: 0.3197 - val_loss: 0.8294 - val_accuracy: 0.0910\n",
      "Epoch 2/15\n",
      "371/371 [==============================] - 1s 4ms/step - loss: 0.8058 - accuracy: 0.0566 - val_loss: 0.7836 - val_accuracy: 0.0458\n",
      "Epoch 3/15\n",
      "371/371 [==============================] - 2s 4ms/step - loss: 0.7638 - accuracy: 0.0935 - val_loss: 0.7454 - val_accuracy: 0.1931\n",
      "Epoch 4/15\n",
      "371/371 [==============================] - 1s 4ms/step - loss: 0.7263 - accuracy: 0.3562 - val_loss: 0.7086 - val_accuracy: 0.4927\n",
      "Epoch 5/15\n",
      "371/371 [==============================] - 1s 4ms/step - loss: 0.6901 - accuracy: 0.4989 - val_loss: 0.6729 - val_accuracy: 0.4927\n",
      "Epoch 6/15\n",
      "371/371 [==============================] - 1s 4ms/step - loss: 0.6551 - accuracy: 0.5987 - val_loss: 0.6383 - val_accuracy: 0.8240\n",
      "Epoch 7/15\n",
      "371/371 [==============================] - 1s 4ms/step - loss: 0.6215 - accuracy: 0.8878 - val_loss: 0.6052 - val_accuracy: 0.9407\n",
      "Epoch 8/15\n",
      "371/371 [==============================] - 1s 4ms/step - loss: 0.5895 - accuracy: 0.9394 - val_loss: 0.5739 - val_accuracy: 0.9563\n",
      "Epoch 9/15\n",
      "371/371 [==============================] - 1s 4ms/step - loss: 0.5591 - accuracy: 0.9533 - val_loss: 0.5441 - val_accuracy: 0.9623\n",
      "Epoch 10/15\n",
      "371/371 [==============================] - 1s 4ms/step - loss: 0.5304 - accuracy: 0.9562 - val_loss: 0.5160 - val_accuracy: 0.9633\n",
      "Epoch 11/15\n",
      "371/371 [==============================] - 1s 4ms/step - loss: 0.5033 - accuracy: 0.9577 - val_loss: 0.4896 - val_accuracy: 0.9623\n",
      "Epoch 12/15\n",
      "371/371 [==============================] - 1s 4ms/step - loss: 0.4779 - accuracy: 0.9570 - val_loss: 0.4648 - val_accuracy: 0.9618\n",
      "Epoch 13/15\n",
      "371/371 [==============================] - 1s 4ms/step - loss: 0.4541 - accuracy: 0.9565 - val_loss: 0.4416 - val_accuracy: 0.9598\n",
      "Epoch 14/15\n",
      "371/371 [==============================] - 1s 4ms/step - loss: 0.4318 - accuracy: 0.9575 - val_loss: 0.4199 - val_accuracy: 0.9598\n",
      "Epoch 15/15\n",
      "371/371 [==============================] - 1s 4ms/step - loss: 0.4109 - accuracy: 0.9561 - val_loss: 0.3995 - val_accuracy: 0.9598\n",
      "2,4 pca\n",
      "Epoch 1/15\n",
      "  1/369 [..............................] - ETA: 1:34 - loss: 0.7597 - accuracy: 0.4375"
     ]
    },
    {
     "name": "stderr",
     "output_type": "stream",
     "text": [
      "2022-01-07 11:42:11.341170: I tensorflow/core/grappler/optimizers/custom_graph_optimizer_registry.cc:112] Plugin optimizer for device_type GPU is enabled.\n"
     ]
    },
    {
     "name": "stdout",
     "output_type": "stream",
     "text": [
      "369/369 [==============================] - ETA: 0s - loss: 0.6942 - accuracy: 0.5236"
     ]
    },
    {
     "name": "stderr",
     "output_type": "stream",
     "text": [
      "2022-01-07 11:42:13.361224: I tensorflow/core/grappler/optimizers/custom_graph_optimizer_registry.cc:112] Plugin optimizer for device_type GPU is enabled.\n"
     ]
    },
    {
     "name": "stdout",
     "output_type": "stream",
     "text": [
      "369/369 [==============================] - 2s 6ms/step - loss: 0.6942 - accuracy: 0.5236 - val_loss: 0.6750 - val_accuracy: 0.5586\n",
      "Epoch 2/15\n",
      "369/369 [==============================] - 2s 5ms/step - loss: 0.6623 - accuracy: 0.6161 - val_loss: 0.6440 - val_accuracy: 0.6946\n",
      "Epoch 3/15\n",
      "369/369 [==============================] - 2s 5ms/step - loss: 0.6342 - accuracy: 0.7247 - val_loss: 0.6143 - val_accuracy: 0.8054\n",
      "Epoch 4/15\n",
      "369/369 [==============================] - 2s 5ms/step - loss: 0.6069 - accuracy: 0.8186 - val_loss: 0.5857 - val_accuracy: 0.8739\n",
      "Epoch 5/15\n",
      "369/369 [==============================] - 2s 5ms/step - loss: 0.5809 - accuracy: 0.8738 - val_loss: 0.5587 - val_accuracy: 0.9191\n",
      "Epoch 6/15\n",
      "369/369 [==============================] - 2s 5ms/step - loss: 0.5562 - accuracy: 0.9114 - val_loss: 0.5331 - val_accuracy: 0.9335\n",
      "Epoch 7/15\n",
      "369/369 [==============================] - 2s 5ms/step - loss: 0.5327 - accuracy: 0.9306 - val_loss: 0.5089 - val_accuracy: 0.9414\n",
      "Epoch 8/15\n",
      "369/369 [==============================] - 2s 5ms/step - loss: 0.5105 - accuracy: 0.9390 - val_loss: 0.4861 - val_accuracy: 0.9494\n",
      "Epoch 9/15\n",
      "369/369 [==============================] - 2s 5ms/step - loss: 0.4896 - accuracy: 0.9450 - val_loss: 0.4647 - val_accuracy: 0.9558\n",
      "Epoch 10/15\n",
      "369/369 [==============================] - 2s 5ms/step - loss: 0.4698 - accuracy: 0.9475 - val_loss: 0.4445 - val_accuracy: 0.9573\n",
      "Epoch 11/15\n",
      "369/369 [==============================] - 2s 5ms/step - loss: 0.4511 - accuracy: 0.9497 - val_loss: 0.4255 - val_accuracy: 0.9578\n",
      "Epoch 12/15\n",
      "369/369 [==============================] - 2s 5ms/step - loss: 0.4334 - accuracy: 0.9504 - val_loss: 0.4076 - val_accuracy: 0.9598\n",
      "Epoch 13/15\n",
      "369/369 [==============================] - 2s 5ms/step - loss: 0.4167 - accuracy: 0.9518 - val_loss: 0.3907 - val_accuracy: 0.9588\n",
      "Epoch 14/15\n",
      "369/369 [==============================] - 2s 5ms/step - loss: 0.4008 - accuracy: 0.9539 - val_loss: 0.3747 - val_accuracy: 0.9598\n",
      "Epoch 15/15\n",
      "369/369 [==============================] - 2s 5ms/step - loss: 0.3859 - accuracy: 0.9545 - val_loss: 0.3597 - val_accuracy: 0.9598\n",
      "2,4 mostimportant\n",
      "Epoch 1/15\n",
      "  1/369 [..............................] - ETA: 1:33 - loss: 0.9749 - accuracy: 0.4375"
     ]
    },
    {
     "name": "stderr",
     "output_type": "stream",
     "text": [
      "2022-01-07 11:42:38.168044: I tensorflow/core/grappler/optimizers/custom_graph_optimizer_registry.cc:112] Plugin optimizer for device_type GPU is enabled.\n"
     ]
    },
    {
     "name": "stdout",
     "output_type": "stream",
     "text": [
      "369/369 [==============================] - ETA: 0s - loss: 0.8879 - accuracy: 0.4443"
     ]
    },
    {
     "name": "stderr",
     "output_type": "stream",
     "text": [
      "2022-01-07 11:42:40.261581: I tensorflow/core/grappler/optimizers/custom_graph_optimizer_registry.cc:112] Plugin optimizer for device_type GPU is enabled.\n"
     ]
    },
    {
     "name": "stdout",
     "output_type": "stream",
     "text": [
      "369/369 [==============================] - 3s 6ms/step - loss: 0.8879 - accuracy: 0.4443 - val_loss: 0.8605 - val_accuracy: 0.2602\n",
      "Epoch 2/15\n",
      "369/369 [==============================] - 2s 5ms/step - loss: 0.8231 - accuracy: 0.1358 - val_loss: 0.8098 - val_accuracy: 0.0313\n",
      "Epoch 3/15\n",
      "369/369 [==============================] - 2s 5ms/step - loss: 0.7860 - accuracy: 0.0577 - val_loss: 0.7756 - val_accuracy: 0.1053\n",
      "Epoch 4/15\n",
      "369/369 [==============================] - 2s 5ms/step - loss: 0.7565 - accuracy: 0.2082 - val_loss: 0.7446 - val_accuracy: 0.3322\n",
      "Epoch 5/15\n",
      "369/369 [==============================] - 2s 5ms/step - loss: 0.7284 - accuracy: 0.4681 - val_loss: 0.7145 - val_accuracy: 0.5124\n",
      "Epoch 6/15\n",
      "369/369 [==============================] - 2s 5ms/step - loss: 0.7003 - accuracy: 0.5049 - val_loss: 0.6846 - val_accuracy: 0.5124\n",
      "Epoch 7/15\n",
      "369/369 [==============================] - 2s 5ms/step - loss: 0.6724 - accuracy: 0.5049 - val_loss: 0.6551 - val_accuracy: 0.5144\n",
      "Epoch 8/15\n",
      "369/369 [==============================] - 2s 5ms/step - loss: 0.6452 - accuracy: 0.5863 - val_loss: 0.6265 - val_accuracy: 0.7532\n",
      "Epoch 9/15\n",
      "369/369 [==============================] - 2s 5ms/step - loss: 0.6186 - accuracy: 0.7973 - val_loss: 0.5989 - val_accuracy: 0.9052\n",
      "Epoch 10/15\n",
      "369/369 [==============================] - 2s 5ms/step - loss: 0.5931 - accuracy: 0.9054 - val_loss: 0.5723 - val_accuracy: 0.9434\n",
      "Epoch 11/15\n",
      "369/369 [==============================] - 2s 5ms/step - loss: 0.5685 - accuracy: 0.9405 - val_loss: 0.5469 - val_accuracy: 0.9608\n",
      "Epoch 12/15\n",
      "369/369 [==============================] - 2s 5ms/step - loss: 0.5449 - accuracy: 0.9561 - val_loss: 0.5226 - val_accuracy: 0.9657\n",
      "Epoch 13/15\n",
      "369/369 [==============================] - 2s 5ms/step - loss: 0.5223 - accuracy: 0.9603 - val_loss: 0.4996 - val_accuracy: 0.9677\n",
      "Epoch 14/15\n",
      "369/369 [==============================] - 2s 5ms/step - loss: 0.5008 - accuracy: 0.9651 - val_loss: 0.4775 - val_accuracy: 0.9707\n",
      "Epoch 15/15\n",
      "369/369 [==============================] - 2s 5ms/step - loss: 0.4803 - accuracy: 0.9658 - val_loss: 0.4566 - val_accuracy: 0.9687\n",
      "4,9 pca\n",
      "Epoch 1/15\n",
      "  1/369 [..............................] - ETA: 1:41 - loss: 0.7971 - accuracy: 0.5000"
     ]
    },
    {
     "name": "stderr",
     "output_type": "stream",
     "text": [
      "2022-01-07 11:43:05.096852: I tensorflow/core/grappler/optimizers/custom_graph_optimizer_registry.cc:112] Plugin optimizer for device_type GPU is enabled.\n"
     ]
    },
    {
     "name": "stdout",
     "output_type": "stream",
     "text": [
      "369/369 [==============================] - ETA: 0s - loss: 0.7427 - accuracy: 0.5045"
     ]
    },
    {
     "name": "stderr",
     "output_type": "stream",
     "text": [
      "2022-01-07 11:43:07.202717: I tensorflow/core/grappler/optimizers/custom_graph_optimizer_registry.cc:112] Plugin optimizer for device_type GPU is enabled.\n"
     ]
    },
    {
     "name": "stdout",
     "output_type": "stream",
     "text": [
      "369/369 [==============================] - 3s 6ms/step - loss: 0.7427 - accuracy: 0.5045 - val_loss: 0.7026 - val_accuracy: 0.5073\n",
      "Epoch 2/15\n",
      "369/369 [==============================] - 2s 5ms/step - loss: 0.6909 - accuracy: 0.5262 - val_loss: 0.6833 - val_accuracy: 0.5460\n",
      "Epoch 3/15\n",
      "369/369 [==============================] - 2s 5ms/step - loss: 0.6781 - accuracy: 0.5921 - val_loss: 0.6712 - val_accuracy: 0.6213\n",
      "Epoch 4/15\n",
      "369/369 [==============================] - 2s 5ms/step - loss: 0.6674 - accuracy: 0.6392 - val_loss: 0.6592 - val_accuracy: 0.6595\n",
      "Epoch 5/15\n",
      "369/369 [==============================] - 2s 4ms/step - loss: 0.6569 - accuracy: 0.6602 - val_loss: 0.6478 - val_accuracy: 0.6866\n",
      "Epoch 6/15\n",
      "369/369 [==============================] - 2s 5ms/step - loss: 0.6471 - accuracy: 0.6764 - val_loss: 0.6372 - val_accuracy: 0.6936\n",
      "Epoch 7/15\n",
      "369/369 [==============================] - 2s 5ms/step - loss: 0.6380 - accuracy: 0.6842 - val_loss: 0.6277 - val_accuracy: 0.6986\n",
      "Epoch 8/15\n",
      "369/369 [==============================] - 2s 5ms/step - loss: 0.6297 - accuracy: 0.6876 - val_loss: 0.6188 - val_accuracy: 0.6991\n",
      "Epoch 9/15\n",
      "369/369 [==============================] - 2s 4ms/step - loss: 0.6220 - accuracy: 0.6933 - val_loss: 0.6107 - val_accuracy: 0.7002\n",
      "Epoch 10/15\n",
      "369/369 [==============================] - 2s 5ms/step - loss: 0.6151 - accuracy: 0.6954 - val_loss: 0.6037 - val_accuracy: 0.7037\n",
      "Epoch 11/15\n",
      "369/369 [==============================] - 2s 5ms/step - loss: 0.6088 - accuracy: 0.6976 - val_loss: 0.5970 - val_accuracy: 0.7027\n",
      "Epoch 12/15\n",
      "369/369 [==============================] - 2s 4ms/step - loss: 0.6031 - accuracy: 0.6981 - val_loss: 0.5912 - val_accuracy: 0.7027\n",
      "Epoch 13/15\n",
      "369/369 [==============================] - 2s 5ms/step - loss: 0.5979 - accuracy: 0.6988 - val_loss: 0.5862 - val_accuracy: 0.7047\n",
      "Epoch 14/15\n",
      "369/369 [==============================] - 2s 5ms/step - loss: 0.5933 - accuracy: 0.6999 - val_loss: 0.5813 - val_accuracy: 0.7072\n",
      "Epoch 15/15\n",
      "369/369 [==============================] - 2s 5ms/step - loss: 0.5891 - accuracy: 0.7005 - val_loss: 0.5773 - val_accuracy: 0.7052\n",
      "4,9 mostimportant\n",
      "Epoch 1/15\n",
      "  1/369 [..............................] - ETA: 1:40 - loss: 0.7950 - accuracy: 0.5000"
     ]
    },
    {
     "name": "stderr",
     "output_type": "stream",
     "text": [
      "2022-01-07 11:43:31.308113: I tensorflow/core/grappler/optimizers/custom_graph_optimizer_registry.cc:112] Plugin optimizer for device_type GPU is enabled.\n"
     ]
    },
    {
     "name": "stdout",
     "output_type": "stream",
     "text": [
      "369/369 [==============================] - ETA: 0s - loss: 0.7774 - accuracy: 0.4838"
     ]
    },
    {
     "name": "stderr",
     "output_type": "stream",
     "text": [
      "2022-01-07 11:43:33.460856: I tensorflow/core/grappler/optimizers/custom_graph_optimizer_registry.cc:112] Plugin optimizer for device_type GPU is enabled.\n"
     ]
    },
    {
     "name": "stdout",
     "output_type": "stream",
     "text": [
      "369/369 [==============================] - 3s 6ms/step - loss: 0.7774 - accuracy: 0.4838 - val_loss: 0.7609 - val_accuracy: 0.4410\n",
      "Epoch 2/15\n",
      "369/369 [==============================] - 2s 5ms/step - loss: 0.7394 - accuracy: 0.4158 - val_loss: 0.7381 - val_accuracy: 0.3887\n",
      "Epoch 3/15\n",
      "369/369 [==============================] - 2s 5ms/step - loss: 0.7266 - accuracy: 0.3869 - val_loss: 0.7287 - val_accuracy: 0.3737\n",
      "Epoch 4/15\n",
      "369/369 [==============================] - 2s 5ms/step - loss: 0.7204 - accuracy: 0.3772 - val_loss: 0.7221 - val_accuracy: 0.3656\n",
      "Epoch 5/15\n",
      "369/369 [==============================] - 2s 5ms/step - loss: 0.7149 - accuracy: 0.3827 - val_loss: 0.7156 - val_accuracy: 0.3707\n",
      "Epoch 6/15\n",
      "369/369 [==============================] - 2s 4ms/step - loss: 0.7097 - accuracy: 0.3867 - val_loss: 0.7095 - val_accuracy: 0.3772\n",
      "Epoch 7/15\n",
      "369/369 [==============================] - 2s 4ms/step - loss: 0.7046 - accuracy: 0.3923 - val_loss: 0.7036 - val_accuracy: 0.3988\n",
      "Epoch 8/15\n",
      "369/369 [==============================] - 2s 5ms/step - loss: 0.6997 - accuracy: 0.4554 - val_loss: 0.6980 - val_accuracy: 0.4877\n",
      "Epoch 9/15\n",
      "369/369 [==============================] - 2s 5ms/step - loss: 0.6950 - accuracy: 0.4955 - val_loss: 0.6927 - val_accuracy: 0.4932\n",
      "Epoch 10/15\n",
      "369/369 [==============================] - 2s 5ms/step - loss: 0.6906 - accuracy: 0.5140 - val_loss: 0.6877 - val_accuracy: 0.5359\n",
      "Epoch 11/15\n",
      "369/369 [==============================] - 2s 5ms/step - loss: 0.6865 - accuracy: 0.5676 - val_loss: 0.6831 - val_accuracy: 0.5987\n",
      "Epoch 12/15\n",
      "369/369 [==============================] - 2s 5ms/step - loss: 0.6828 - accuracy: 0.5982 - val_loss: 0.6788 - val_accuracy: 0.6077\n",
      "Epoch 13/15\n",
      "369/369 [==============================] - 2s 5ms/step - loss: 0.6792 - accuracy: 0.6063 - val_loss: 0.6749 - val_accuracy: 0.6123\n",
      "Epoch 14/15\n",
      "369/369 [==============================] - 2s 4ms/step - loss: 0.6760 - accuracy: 0.6093 - val_loss: 0.6712 - val_accuracy: 0.6203\n",
      "Epoch 15/15\n",
      "369/369 [==============================] - 2s 5ms/step - loss: 0.6731 - accuracy: 0.6140 - val_loss: 0.6679 - val_accuracy: 0.6218\n",
      "4,7 pca\n",
      "Epoch 1/15\n",
      "  1/379 [..............................] - ETA: 1:35 - loss: 0.8476 - accuracy: 0.5000"
     ]
    },
    {
     "name": "stderr",
     "output_type": "stream",
     "text": [
      "2022-01-07 11:43:57.603570: I tensorflow/core/grappler/optimizers/custom_graph_optimizer_registry.cc:112] Plugin optimizer for device_type GPU is enabled.\n"
     ]
    },
    {
     "name": "stdout",
     "output_type": "stream",
     "text": [
      "379/379 [==============================] - ETA: 0s - loss: 0.7530 - accuracy: 0.4897"
     ]
    },
    {
     "name": "stderr",
     "output_type": "stream",
     "text": [
      "2022-01-07 11:43:59.724230: I tensorflow/core/grappler/optimizers/custom_graph_optimizer_registry.cc:112] Plugin optimizer for device_type GPU is enabled.\n"
     ]
    },
    {
     "name": "stdout",
     "output_type": "stream",
     "text": [
      "379/379 [==============================] - 3s 6ms/step - loss: 0.7530 - accuracy: 0.4897 - val_loss: 0.6866 - val_accuracy: 0.5527\n",
      "Epoch 2/15\n",
      "379/379 [==============================] - 2s 5ms/step - loss: 0.6706 - accuracy: 0.5974 - val_loss: 0.6409 - val_accuracy: 0.6612\n",
      "Epoch 3/15\n",
      "379/379 [==============================] - 2s 5ms/step - loss: 0.6274 - accuracy: 0.7009 - val_loss: 0.6048 - val_accuracy: 0.7289\n",
      "Epoch 4/15\n",
      "379/379 [==============================] - 2s 4ms/step - loss: 0.5921 - accuracy: 0.7696 - val_loss: 0.5719 - val_accuracy: 0.7896\n",
      "Epoch 5/15\n",
      "379/379 [==============================] - 2s 4ms/step - loss: 0.5603 - accuracy: 0.8198 - val_loss: 0.5414 - val_accuracy: 0.8388\n",
      "Epoch 6/15\n",
      "379/379 [==============================] - 2s 5ms/step - loss: 0.5307 - accuracy: 0.8578 - val_loss: 0.5125 - val_accuracy: 0.8876\n",
      "Epoch 7/15\n",
      "379/379 [==============================] - 2s 5ms/step - loss: 0.5030 - accuracy: 0.8887 - val_loss: 0.4856 - val_accuracy: 0.9189\n",
      "Epoch 8/15\n",
      "379/379 [==============================] - 2s 4ms/step - loss: 0.4773 - accuracy: 0.9081 - val_loss: 0.4607 - val_accuracy: 0.9363\n",
      "Epoch 9/15\n",
      "379/379 [==============================] - 2s 5ms/step - loss: 0.4534 - accuracy: 0.9238 - val_loss: 0.4374 - val_accuracy: 0.9483\n",
      "Epoch 10/15\n",
      "379/379 [==============================] - 2s 5ms/step - loss: 0.4313 - accuracy: 0.9342 - val_loss: 0.4160 - val_accuracy: 0.9582\n",
      "Epoch 11/15\n",
      "379/379 [==============================] - 2s 5ms/step - loss: 0.4107 - accuracy: 0.9414 - val_loss: 0.3963 - val_accuracy: 0.9627\n",
      "Epoch 12/15\n",
      "379/379 [==============================] - 2s 4ms/step - loss: 0.3915 - accuracy: 0.9471 - val_loss: 0.3776 - val_accuracy: 0.9632\n",
      "Epoch 13/15\n",
      "379/379 [==============================] - 2s 5ms/step - loss: 0.3736 - accuracy: 0.9522 - val_loss: 0.3603 - val_accuracy: 0.9652\n",
      "Epoch 14/15\n",
      "379/379 [==============================] - 2s 4ms/step - loss: 0.3568 - accuracy: 0.9549 - val_loss: 0.3439 - val_accuracy: 0.9662\n",
      "Epoch 15/15\n",
      "379/379 [==============================] - 2s 5ms/step - loss: 0.3411 - accuracy: 0.9578 - val_loss: 0.3292 - val_accuracy: 0.9701\n",
      "4,7 mostimportant\n",
      "Epoch 1/15\n",
      "  1/379 [..............................] - ETA: 1:36 - loss: 0.7309 - accuracy: 0.5000"
     ]
    },
    {
     "name": "stderr",
     "output_type": "stream",
     "text": [
      "2022-01-07 11:44:24.480370: I tensorflow/core/grappler/optimizers/custom_graph_optimizer_registry.cc:112] Plugin optimizer for device_type GPU is enabled.\n"
     ]
    },
    {
     "name": "stdout",
     "output_type": "stream",
     "text": [
      "379/379 [==============================] - ETA: 0s - loss: 0.7188 - accuracy: 0.4281"
     ]
    },
    {
     "name": "stderr",
     "output_type": "stream",
     "text": [
      "2022-01-07 11:44:26.561184: I tensorflow/core/grappler/optimizers/custom_graph_optimizer_registry.cc:112] Plugin optimizer for device_type GPU is enabled.\n"
     ]
    },
    {
     "name": "stdout",
     "output_type": "stream",
     "text": [
      "379/379 [==============================] - 2s 6ms/step - loss: 0.7188 - accuracy: 0.4281 - val_loss: 0.7056 - val_accuracy: 0.2552\n",
      "Epoch 2/15\n",
      "379/379 [==============================] - 2s 4ms/step - loss: 0.6935 - accuracy: 0.5068 - val_loss: 0.6817 - val_accuracy: 0.7547\n",
      "Epoch 3/15\n",
      "379/379 [==============================] - 2s 4ms/step - loss: 0.6713 - accuracy: 0.7672 - val_loss: 0.6594 - val_accuracy: 0.8617\n",
      "Epoch 4/15\n",
      "379/379 [==============================] - 2s 5ms/step - loss: 0.6502 - accuracy: 0.8417 - val_loss: 0.6382 - val_accuracy: 0.8672\n",
      "Epoch 5/15\n",
      "379/379 [==============================] - 2s 5ms/step - loss: 0.6302 - accuracy: 0.8505 - val_loss: 0.6180 - val_accuracy: 0.8806\n",
      "Epoch 6/15\n",
      "379/379 [==============================] - 2s 4ms/step - loss: 0.6110 - accuracy: 0.8564 - val_loss: 0.5988 - val_accuracy: 0.8796\n",
      "Epoch 7/15\n",
      "379/379 [==============================] - 2s 4ms/step - loss: 0.5928 - accuracy: 0.8591 - val_loss: 0.5805 - val_accuracy: 0.8751\n",
      "Epoch 8/15\n",
      "379/379 [==============================] - 2s 4ms/step - loss: 0.5757 - accuracy: 0.8600 - val_loss: 0.5633 - val_accuracy: 0.8746\n",
      "Epoch 9/15\n",
      "379/379 [==============================] - 2s 4ms/step - loss: 0.5595 - accuracy: 0.8588 - val_loss: 0.5471 - val_accuracy: 0.8771\n",
      "Epoch 10/15\n",
      "379/379 [==============================] - 2s 5ms/step - loss: 0.5444 - accuracy: 0.8603 - val_loss: 0.5320 - val_accuracy: 0.8756\n",
      "Epoch 11/15\n",
      "379/379 [==============================] - 2s 4ms/step - loss: 0.5303 - accuracy: 0.8594 - val_loss: 0.5179 - val_accuracy: 0.8766\n",
      "Epoch 12/15\n",
      "379/379 [==============================] - 2s 4ms/step - loss: 0.5170 - accuracy: 0.8602 - val_loss: 0.5044 - val_accuracy: 0.8776\n",
      "Epoch 13/15\n",
      "379/379 [==============================] - 2s 4ms/step - loss: 0.5045 - accuracy: 0.8593 - val_loss: 0.4919 - val_accuracy: 0.8776\n",
      "Epoch 14/15\n",
      "379/379 [==============================] - 2s 4ms/step - loss: 0.4927 - accuracy: 0.8593 - val_loss: 0.4798 - val_accuracy: 0.8776\n",
      "Epoch 15/15\n",
      "379/379 [==============================] - 2s 4ms/step - loss: 0.4816 - accuracy: 0.8603 - val_loss: 0.4689 - val_accuracy: 0.8736\n"
     ]
    }
   ],
   "source": [
    "\n",
    "for subsetname in ['6,9','4,6','4,8','0,7','2,3','0,9','2,4','4,9','4,7']:\n",
    "\n",
    "    print(subsetname,\"pca\")\n",
    "    tf.compat.v1.reset_default_graph()\n",
    "\n",
    "    with tf.device(\"/gpu:0\"):\n",
    "        model  = tf.keras.models.Sequential([\n",
    "            tf.keras.layers.Dense(1, activation='sigmoid', input_shape=(4,))])\n",
    "\n",
    "        model.compile(optimizer='adam',loss=\"binary_crossentropy\", metrics=['accuracy'])\n",
    "\n",
    "        hist = model.fit(\n",
    "            x=pca[subsetname][\"x_train\"],\n",
    "            y=pca[subsetname][\"y_train_binary\"],\n",
    "            epochs=15,\n",
    "            batch_size = 32,\n",
    "            validation_data=(pca[subsetname][\"x_test\"],pca[subsetname][\"y_test_binary\"])).history\n",
    "\n",
    "    h.store(hist,\"measure/4vs1/pca/{}\".format(subsetname),\"hist\")\n",
    "\n",
    "    del model\n",
    "    tf.compat.v1.reset_default_graph()\n",
    "\n",
    "    reduced_train = pca[subsetname][\"x_train\"][:,np.argmax(d[\"PCA\"][subsetname][\"importance\"])]\n",
    "    reduced_test = pca[subsetname][\"x_test\"][:,np.argmax(d[\"PCA\"][subsetname][\"importance\"])]\n",
    "\n",
    "    print(subsetname,\"mostimportant\")\n",
    "\n",
    "    with tf.device(\"/gpu:0\"):\n",
    "        \n",
    "        model  = tf.keras.models.Sequential([\n",
    "            tf.keras.layers.Dense(1, activation='sigmoid', input_shape=(1,))])\n",
    "\n",
    "        model.compile(optimizer='adam',loss=\"binary_crossentropy\", metrics=['accuracy'])\n",
    "\n",
    "        hist = model.fit(\n",
    "            x=reduced_train,\n",
    "            y=pca[subsetname][\"y_train_binary\"],\n",
    "            epochs=15,\n",
    "            batch_size = 32,\n",
    "            validation_data=(reduced_test,pca[subsetname][\"y_test_binary\"])).history\n",
    "    \n",
    "    h.store(hist,\"measure/4vs1/one/{}\".format(subsetname),\"hist\")\n",
    "    \n",
    "    weights = model.get_weights()[0]\n",
    "    bias = model.get_weights()[1]\n",
    "    \n",
    "    h.store(weights,\"measure/4vs1/one/{}\".format(subsetname),\"weights.npy\")\n",
    "    h.store(bias,\"measure/4vs1/one/{}\".format(subsetname),\"bias.npy\")"
   ]
  },
  {
   "cell_type": "code",
   "execution_count": 17,
   "metadata": {},
   "outputs": [
    {
     "data": {
      "image/png": "[encoded data removed]",
      "text/plain": [
       "<Figure size 1440x720 with 1 Axes>"
      ]
     },
     "metadata": {
      "needs_background": "light"
     },
     "output_type": "display_data"
    }
   ],
   "source": [
    "plt.figure(figsize=(20,10))\n",
    "for k in r:\n",
    "    diff = np.array(r[k][\"pca\"].history[\"val_accuracy\"])-np.array(r[k][\"single\"].history[\"val_accuracy\"])\n",
    "    diff_abs = abs(r[k][\"pca\"].history[\"val_accuracy\"][-1]-r[k][\"single\"].history[\"val_accuracy\"][-1])\n",
    "    plt.plot(diff,label=k+\" diff: \"+\"{:.3f}\".format(diff_abs))\n",
    "\n",
    "plt.legend()\n",
    "plt.grid(axis=\"y\")\n",
    "plt.show()"
   ]
  },
  {
   "cell_type": "markdown",
   "metadata": {},
   "source": [
    "# Interpretation\n",
    "\n",
    "Wie man in dem Schaubild darüber sieht, gibt es bei dem Datensatz, der mit PCA preprocessed wurde, tendenziell ein 1 Feature, das ein hohes Gewicht im Vergleich zu den anderen bekommt. (Hohes gewicht -> beeinflusst maßgeblich welche klasse predictet wird)\n",
    "  \n",
    "Bei Autoencoder stimmt das nicht ganz so.\n",
    "  \n",
    "\n",
    "Wir hatten ja immer davon gesprochen, dass Fischer die schwäche hat, keine Kombiniationen betrachten zu können. Da aber bei den aller meisten Fällen nur ein Feature überhaupt \"relevant\" ist, kann muss man diese \"Schwäche\" vllt nochmals überdenken"
   ]
  },
  {
   "cell_type": "markdown",
   "metadata": {},
   "source": [
    "# RAW"
   ]
  },
  {
   "cell_type": "code",
   "execution_count": 3,
   "metadata": {},
   "outputs": [],
   "source": [
    "raw = Datasets.get_preprocessed_datasets(\"RAW\")[\"RAW\"]"
   ]
  },
  {
   "cell_type": "code",
   "execution_count": 4,
   "metadata": {},
   "outputs": [
    {
     "data": {
      "text/plain": [
       "(11867, 784)"
      ]
     },
     "execution_count": 4,
     "metadata": {},
     "output_type": "execute_result"
    }
   ],
   "source": [
    "subset = raw[\"6,9\"]\n",
    "subset[\"x_train\"].shape"
   ]
  },
  {
   "cell_type": "code",
   "execution_count": 5,
   "metadata": {},
   "outputs": [
    {
     "name": "stdout",
     "output_type": "stream",
     "text": [
      "Metal device set to: Apple M1 Pro\n",
      "\n",
      "systemMemory: 16.00 GB\n",
      "maxCacheSize: 5.33 GB\n",
      "\n"
     ]
    },
    {
     "name": "stderr",
     "output_type": "stream",
     "text": [
      "2022-01-13 10:08:49.519620: I tensorflow/core/common_runtime/pluggable_device/pluggable_device_factory.cc:305] Could not identify NUMA node of platform GPU ID 0, defaulting to 0. Your kernel may not have been built with NUMA support.\n",
      "2022-01-13 10:08:49.520308: I tensorflow/core/common_runtime/pluggable_device/pluggable_device_factory.cc:271] Created TensorFlow device (/job:localhost/replica:0/task:0/device:GPU:0 with 0 MB memory) -> physical PluggableDevice (device: 0, name: METAL, pci bus id: <undefined>)\n",
      "2022-01-13 10:08:50.123917: I tensorflow/compiler/mlir/mlir_graph_optimization_pass.cc:185] None of the MLIR Optimization Passes are enabled (registered 2)\n",
      "2022-01-13 10:08:50.126698: W tensorflow/core/platform/profile_utils/cpu_utils.cc:128] Failed to get CPU frequency: 0 Hz\n",
      "2022-01-13 10:08:50.250994: I tensorflow/core/grappler/optimizers/custom_graph_optimizer_registry.cc:112] Plugin optimizer for device_type GPU is enabled.\n"
     ]
    },
    {
     "name": "stdout",
     "output_type": "stream",
     "text": [
      "Epoch 1/10\n",
      "371/371 [==============================] - 2s 5ms/step - loss: 0.1507 - accuracy: 0.9732 - val_loss: 0.0461 - val_accuracy: 0.9929\n"
     ]
    },
    {
     "name": "stderr",
     "output_type": "stream",
     "text": [
      "2022-01-13 10:08:52.084798: I tensorflow/core/grappler/optimizers/custom_graph_optimizer_registry.cc:112] Plugin optimizer for device_type GPU is enabled.\n"
     ]
    },
    {
     "name": "stdout",
     "output_type": "stream",
     "text": [
      "Epoch 2/10\n",
      "371/371 [==============================] - 2s 5ms/step - loss: 0.0312 - accuracy: 0.9966 - val_loss: 0.0266 - val_accuracy: 0.9954\n",
      "Epoch 3/10\n",
      "288/371 [======================>.......] - ETA: 0s - loss: 0.0195 - accuracy: 0.9974"
     ]
    },
    {
     "ename": "KeyboardInterrupt",
     "evalue": "",
     "output_type": "error",
     "traceback": [
      "\u001b[0;31m---------------------------------------------------------------------------\u001b[0m",
      "\u001b[0;31mKeyboardInterrupt\u001b[0m                         Traceback (most recent call last)",
      "\u001b[0;32m/var/folders/09/d62qr57n6dl6znjwx73740hw0000gn/T/ipykernel_75672/160832026.py\u001b[0m in \u001b[0;36m<module>\u001b[0;34m\u001b[0m\n\u001b[1;32m     10\u001b[0m     \u001b[0mmodel\u001b[0m\u001b[0;34m.\u001b[0m\u001b[0mcompile\u001b[0m\u001b[0;34m(\u001b[0m\u001b[0moptimizer\u001b[0m\u001b[0;34m=\u001b[0m\u001b[0;34m'adam'\u001b[0m\u001b[0;34m,\u001b[0m\u001b[0mloss\u001b[0m\u001b[0;34m=\u001b[0m\u001b[0;34m\"binary_crossentropy\"\u001b[0m\u001b[0;34m,\u001b[0m \u001b[0mmetrics\u001b[0m\u001b[0;34m=\u001b[0m\u001b[0;34m[\u001b[0m\u001b[0;34m'accuracy'\u001b[0m\u001b[0;34m]\u001b[0m\u001b[0;34m)\u001b[0m\u001b[0;34m\u001b[0m\u001b[0;34m\u001b[0m\u001b[0m\n\u001b[1;32m     11\u001b[0m \u001b[0;34m\u001b[0m\u001b[0m\n\u001b[0;32m---> 12\u001b[0;31m     hist = model.fit(\n\u001b[0m\u001b[1;32m     13\u001b[0m         \u001b[0mx\u001b[0m\u001b[0;34m=\u001b[0m\u001b[0msubset\u001b[0m\u001b[0;34m[\u001b[0m\u001b[0;34m\"x_train\"\u001b[0m\u001b[0;34m]\u001b[0m\u001b[0;34m/\u001b[0m\u001b[0;36m255\u001b[0m\u001b[0;34m,\u001b[0m\u001b[0;34m\u001b[0m\u001b[0;34m\u001b[0m\u001b[0m\n\u001b[1;32m     14\u001b[0m         \u001b[0my\u001b[0m\u001b[0;34m=\u001b[0m\u001b[0msubset\u001b[0m\u001b[0;34m[\u001b[0m\u001b[0;34m\"y_train_binary\"\u001b[0m\u001b[0;34m]\u001b[0m\u001b[0;34m,\u001b[0m\u001b[0;34m\u001b[0m\u001b[0;34m\u001b[0m\u001b[0m\n",
      "\u001b[0;32m~/miniforge3/envs/tfm1/lib/python3.9/site-packages/keras/engine/training.py\u001b[0m in \u001b[0;36mfit\u001b[0;34m(self, x, y, batch_size, epochs, verbose, callbacks, validation_split, validation_data, shuffle, class_weight, sample_weight, initial_epoch, steps_per_epoch, validation_steps, validation_batch_size, validation_freq, max_queue_size, workers, use_multiprocessing)\u001b[0m\n\u001b[1;32m   1187\u001b[0m               \u001b[0mlogs\u001b[0m \u001b[0;34m=\u001b[0m \u001b[0mtmp_logs\u001b[0m  \u001b[0;31m# No error, now safe to assign to logs.\u001b[0m\u001b[0;34m\u001b[0m\u001b[0;34m\u001b[0m\u001b[0m\n\u001b[1;32m   1188\u001b[0m               \u001b[0mend_step\u001b[0m \u001b[0;34m=\u001b[0m \u001b[0mstep\u001b[0m \u001b[0;34m+\u001b[0m \u001b[0mdata_handler\u001b[0m\u001b[0;34m.\u001b[0m\u001b[0mstep_increment\u001b[0m\u001b[0;34m\u001b[0m\u001b[0;34m\u001b[0m\u001b[0m\n\u001b[0;32m-> 1189\u001b[0;31m               \u001b[0mcallbacks\u001b[0m\u001b[0;34m.\u001b[0m\u001b[0mon_train_batch_end\u001b[0m\u001b[0;34m(\u001b[0m\u001b[0mend_step\u001b[0m\u001b[0;34m,\u001b[0m \u001b[0mlogs\u001b[0m\u001b[0;34m)\u001b[0m\u001b[0;34m\u001b[0m\u001b[0;34m\u001b[0m\u001b[0m\n\u001b[0m\u001b[1;32m   1190\u001b[0m               \u001b[0;32mif\u001b[0m \u001b[0mself\u001b[0m\u001b[0;34m.\u001b[0m\u001b[0mstop_training\u001b[0m\u001b[0;34m:\u001b[0m\u001b[0;34m\u001b[0m\u001b[0;34m\u001b[0m\u001b[0m\n\u001b[1;32m   1191\u001b[0m                 \u001b[0;32mbreak\u001b[0m\u001b[0;34m\u001b[0m\u001b[0;34m\u001b[0m\u001b[0m\n",
      "\u001b[0;32m~/miniforge3/envs/tfm1/lib/python3.9/site-packages/keras/callbacks.py\u001b[0m in \u001b[0;36mon_train_batch_end\u001b[0;34m(self, batch, logs)\u001b[0m\n\u001b[1;32m    433\u001b[0m     \"\"\"\n\u001b[1;32m    434\u001b[0m     \u001b[0;32mif\u001b[0m \u001b[0mself\u001b[0m\u001b[0;34m.\u001b[0m\u001b[0m_should_call_train_batch_hooks\u001b[0m\u001b[0;34m:\u001b[0m\u001b[0;34m\u001b[0m\u001b[0;34m\u001b[0m\u001b[0m\n\u001b[0;32m--> 435\u001b[0;31m       \u001b[0mself\u001b[0m\u001b[0;34m.\u001b[0m\u001b[0m_call_batch_hook\u001b[0m\u001b[0;34m(\u001b[0m\u001b[0mModeKeys\u001b[0m\u001b[0;34m.\u001b[0m\u001b[0mTRAIN\u001b[0m\u001b[0;34m,\u001b[0m \u001b[0;34m'end'\u001b[0m\u001b[0;34m,\u001b[0m \u001b[0mbatch\u001b[0m\u001b[0;34m,\u001b[0m \u001b[0mlogs\u001b[0m\u001b[0;34m=\u001b[0m\u001b[0mlogs\u001b[0m\u001b[0;34m)\u001b[0m\u001b[0;34m\u001b[0m\u001b[0;34m\u001b[0m\u001b[0m\n\u001b[0m\u001b[1;32m    436\u001b[0m \u001b[0;34m\u001b[0m\u001b[0m\n\u001b[1;32m    437\u001b[0m   \u001b[0;32mdef\u001b[0m \u001b[0mon_test_batch_begin\u001b[0m\u001b[0;34m(\u001b[0m\u001b[0mself\u001b[0m\u001b[0;34m,\u001b[0m \u001b[0mbatch\u001b[0m\u001b[0;34m,\u001b[0m \u001b[0mlogs\u001b[0m\u001b[0;34m=\u001b[0m\u001b[0;32mNone\u001b[0m\u001b[0;34m)\u001b[0m\u001b[0;34m:\u001b[0m\u001b[0;34m\u001b[0m\u001b[0;34m\u001b[0m\u001b[0m\n",
      "\u001b[0;32m~/miniforge3/envs/tfm1/lib/python3.9/site-packages/keras/callbacks.py\u001b[0m in \u001b[0;36m_call_batch_hook\u001b[0;34m(self, mode, hook, batch, logs)\u001b[0m\n\u001b[1;32m    293\u001b[0m       \u001b[0mself\u001b[0m\u001b[0;34m.\u001b[0m\u001b[0m_call_batch_begin_hook\u001b[0m\u001b[0;34m(\u001b[0m\u001b[0mmode\u001b[0m\u001b[0;34m,\u001b[0m \u001b[0mbatch\u001b[0m\u001b[0;34m,\u001b[0m \u001b[0mlogs\u001b[0m\u001b[0;34m)\u001b[0m\u001b[0;34m\u001b[0m\u001b[0;34m\u001b[0m\u001b[0m\n\u001b[1;32m    294\u001b[0m     \u001b[0;32melif\u001b[0m \u001b[0mhook\u001b[0m \u001b[0;34m==\u001b[0m \u001b[0;34m'end'\u001b[0m\u001b[0;34m:\u001b[0m\u001b[0;34m\u001b[0m\u001b[0;34m\u001b[0m\u001b[0m\n\u001b[0;32m--> 295\u001b[0;31m       \u001b[0mself\u001b[0m\u001b[0;34m.\u001b[0m\u001b[0m_call_batch_end_hook\u001b[0m\u001b[0;34m(\u001b[0m\u001b[0mmode\u001b[0m\u001b[0;34m,\u001b[0m \u001b[0mbatch\u001b[0m\u001b[0;34m,\u001b[0m \u001b[0mlogs\u001b[0m\u001b[0;34m)\u001b[0m\u001b[0;34m\u001b[0m\u001b[0;34m\u001b[0m\u001b[0m\n\u001b[0m\u001b[1;32m    296\u001b[0m     \u001b[0;32melse\u001b[0m\u001b[0;34m:\u001b[0m\u001b[0;34m\u001b[0m\u001b[0;34m\u001b[0m\u001b[0m\n\u001b[1;32m    297\u001b[0m       \u001b[0;32mraise\u001b[0m \u001b[0mValueError\u001b[0m\u001b[0;34m(\u001b[0m\u001b[0;34m'Unrecognized hook: {}'\u001b[0m\u001b[0;34m.\u001b[0m\u001b[0mformat\u001b[0m\u001b[0;34m(\u001b[0m\u001b[0mhook\u001b[0m\u001b[0;34m)\u001b[0m\u001b[0;34m)\u001b[0m\u001b[0;34m\u001b[0m\u001b[0;34m\u001b[0m\u001b[0m\n",
      "\u001b[0;32m~/miniforge3/envs/tfm1/lib/python3.9/site-packages/keras/callbacks.py\u001b[0m in \u001b[0;36m_call_batch_end_hook\u001b[0;34m(self, mode, batch, logs)\u001b[0m\n\u001b[1;32m    313\u001b[0m       \u001b[0mself\u001b[0m\u001b[0;34m.\u001b[0m\u001b[0m_batch_times\u001b[0m\u001b[0;34m.\u001b[0m\u001b[0mappend\u001b[0m\u001b[0;34m(\u001b[0m\u001b[0mbatch_time\u001b[0m\u001b[0;34m)\u001b[0m\u001b[0;34m\u001b[0m\u001b[0;34m\u001b[0m\u001b[0m\n\u001b[1;32m    314\u001b[0m \u001b[0;34m\u001b[0m\u001b[0m\n\u001b[0;32m--> 315\u001b[0;31m     \u001b[0mself\u001b[0m\u001b[0;34m.\u001b[0m\u001b[0m_call_batch_hook_helper\u001b[0m\u001b[0;34m(\u001b[0m\u001b[0mhook_name\u001b[0m\u001b[0;34m,\u001b[0m \u001b[0mbatch\u001b[0m\u001b[0;34m,\u001b[0m \u001b[0mlogs\u001b[0m\u001b[0;34m)\u001b[0m\u001b[0;34m\u001b[0m\u001b[0;34m\u001b[0m\u001b[0m\n\u001b[0m\u001b[1;32m    316\u001b[0m \u001b[0;34m\u001b[0m\u001b[0m\n\u001b[1;32m    317\u001b[0m     \u001b[0;32mif\u001b[0m \u001b[0mlen\u001b[0m\u001b[0;34m(\u001b[0m\u001b[0mself\u001b[0m\u001b[0;34m.\u001b[0m\u001b[0m_batch_times\u001b[0m\u001b[0;34m)\u001b[0m \u001b[0;34m>=\u001b[0m \u001b[0mself\u001b[0m\u001b[0;34m.\u001b[0m\u001b[0m_num_batches_for_timing_check\u001b[0m\u001b[0;34m:\u001b[0m\u001b[0;34m\u001b[0m\u001b[0;34m\u001b[0m\u001b[0m\n",
      "\u001b[0;32m~/miniforge3/envs/tfm1/lib/python3.9/site-packages/keras/callbacks.py\u001b[0m in \u001b[0;36m_call_batch_hook_helper\u001b[0;34m(self, hook_name, batch, logs)\u001b[0m\n\u001b[1;32m    351\u001b[0m     \u001b[0;32mfor\u001b[0m \u001b[0mcallback\u001b[0m \u001b[0;32min\u001b[0m \u001b[0mself\u001b[0m\u001b[0;34m.\u001b[0m\u001b[0mcallbacks\u001b[0m\u001b[0;34m:\u001b[0m\u001b[0;34m\u001b[0m\u001b[0;34m\u001b[0m\u001b[0m\n\u001b[1;32m    352\u001b[0m       \u001b[0mhook\u001b[0m \u001b[0;34m=\u001b[0m \u001b[0mgetattr\u001b[0m\u001b[0;34m(\u001b[0m\u001b[0mcallback\u001b[0m\u001b[0;34m,\u001b[0m \u001b[0mhook_name\u001b[0m\u001b[0;34m)\u001b[0m\u001b[0;34m\u001b[0m\u001b[0;34m\u001b[0m\u001b[0m\n\u001b[0;32m--> 353\u001b[0;31m       \u001b[0mhook\u001b[0m\u001b[0;34m(\u001b[0m\u001b[0mbatch\u001b[0m\u001b[0;34m,\u001b[0m \u001b[0mlogs\u001b[0m\u001b[0;34m)\u001b[0m\u001b[0;34m\u001b[0m\u001b[0;34m\u001b[0m\u001b[0m\n\u001b[0m\u001b[1;32m    354\u001b[0m \u001b[0;34m\u001b[0m\u001b[0m\n\u001b[1;32m    355\u001b[0m     \u001b[0;32mif\u001b[0m \u001b[0mself\u001b[0m\u001b[0;34m.\u001b[0m\u001b[0m_check_timing\u001b[0m\u001b[0;34m:\u001b[0m\u001b[0;34m\u001b[0m\u001b[0;34m\u001b[0m\u001b[0m\n",
      "\u001b[0;32m~/miniforge3/envs/tfm1/lib/python3.9/site-packages/keras/callbacks.py\u001b[0m in \u001b[0;36mon_train_batch_end\u001b[0;34m(self, batch, logs)\u001b[0m\n\u001b[1;32m   1026\u001b[0m \u001b[0;34m\u001b[0m\u001b[0m\n\u001b[1;32m   1027\u001b[0m   \u001b[0;32mdef\u001b[0m \u001b[0mon_train_batch_end\u001b[0m\u001b[0;34m(\u001b[0m\u001b[0mself\u001b[0m\u001b[0;34m,\u001b[0m \u001b[0mbatch\u001b[0m\u001b[0;34m,\u001b[0m \u001b[0mlogs\u001b[0m\u001b[0;34m=\u001b[0m\u001b[0;32mNone\u001b[0m\u001b[0;34m)\u001b[0m\u001b[0;34m:\u001b[0m\u001b[0;34m\u001b[0m\u001b[0;34m\u001b[0m\u001b[0m\n\u001b[0;32m-> 1028\u001b[0;31m     \u001b[0mself\u001b[0m\u001b[0;34m.\u001b[0m\u001b[0m_batch_update_progbar\u001b[0m\u001b[0;34m(\u001b[0m\u001b[0mbatch\u001b[0m\u001b[0;34m,\u001b[0m \u001b[0mlogs\u001b[0m\u001b[0;34m)\u001b[0m\u001b[0;34m\u001b[0m\u001b[0;34m\u001b[0m\u001b[0m\n\u001b[0m\u001b[1;32m   1029\u001b[0m \u001b[0;34m\u001b[0m\u001b[0m\n\u001b[1;32m   1030\u001b[0m   \u001b[0;32mdef\u001b[0m \u001b[0mon_test_batch_end\u001b[0m\u001b[0;34m(\u001b[0m\u001b[0mself\u001b[0m\u001b[0;34m,\u001b[0m \u001b[0mbatch\u001b[0m\u001b[0;34m,\u001b[0m \u001b[0mlogs\u001b[0m\u001b[0;34m=\u001b[0m\u001b[0;32mNone\u001b[0m\u001b[0;34m)\u001b[0m\u001b[0;34m:\u001b[0m\u001b[0;34m\u001b[0m\u001b[0;34m\u001b[0m\u001b[0m\n",
      "\u001b[0;32m~/miniforge3/envs/tfm1/lib/python3.9/site-packages/keras/callbacks.py\u001b[0m in \u001b[0;36m_batch_update_progbar\u001b[0;34m(self, batch, logs)\u001b[0m\n\u001b[1;32m   1098\u001b[0m     \u001b[0;32mif\u001b[0m \u001b[0mself\u001b[0m\u001b[0;34m.\u001b[0m\u001b[0mverbose\u001b[0m \u001b[0;34m==\u001b[0m \u001b[0;36m1\u001b[0m\u001b[0;34m:\u001b[0m\u001b[0;34m\u001b[0m\u001b[0;34m\u001b[0m\u001b[0m\n\u001b[1;32m   1099\u001b[0m       \u001b[0;31m# Only block async when verbose = 1.\u001b[0m\u001b[0;34m\u001b[0m\u001b[0;34m\u001b[0m\u001b[0m\n\u001b[0;32m-> 1100\u001b[0;31m       \u001b[0mlogs\u001b[0m \u001b[0;34m=\u001b[0m \u001b[0mtf_utils\u001b[0m\u001b[0;34m.\u001b[0m\u001b[0msync_to_numpy_or_python_type\u001b[0m\u001b[0;34m(\u001b[0m\u001b[0mlogs\u001b[0m\u001b[0;34m)\u001b[0m\u001b[0;34m\u001b[0m\u001b[0;34m\u001b[0m\u001b[0m\n\u001b[0m\u001b[1;32m   1101\u001b[0m       \u001b[0mself\u001b[0m\u001b[0;34m.\u001b[0m\u001b[0mprogbar\u001b[0m\u001b[0;34m.\u001b[0m\u001b[0mupdate\u001b[0m\u001b[0;34m(\u001b[0m\u001b[0mself\u001b[0m\u001b[0;34m.\u001b[0m\u001b[0mseen\u001b[0m\u001b[0;34m,\u001b[0m \u001b[0mlist\u001b[0m\u001b[0;34m(\u001b[0m\u001b[0mlogs\u001b[0m\u001b[0;34m.\u001b[0m\u001b[0mitems\u001b[0m\u001b[0;34m(\u001b[0m\u001b[0;34m)\u001b[0m\u001b[0;34m)\u001b[0m\u001b[0;34m,\u001b[0m \u001b[0mfinalize\u001b[0m\u001b[0;34m=\u001b[0m\u001b[0;32mFalse\u001b[0m\u001b[0;34m)\u001b[0m\u001b[0;34m\u001b[0m\u001b[0;34m\u001b[0m\u001b[0m\n\u001b[1;32m   1102\u001b[0m \u001b[0;34m\u001b[0m\u001b[0m\n",
      "\u001b[0;32m~/miniforge3/envs/tfm1/lib/python3.9/site-packages/keras/utils/tf_utils.py\u001b[0m in \u001b[0;36msync_to_numpy_or_python_type\u001b[0;34m(tensors)\u001b[0m\n\u001b[1;32m    514\u001b[0m     \u001b[0;32mreturn\u001b[0m \u001b[0mt\u001b[0m  \u001b[0;31m# Don't turn ragged or sparse tensors to NumPy.\u001b[0m\u001b[0;34m\u001b[0m\u001b[0;34m\u001b[0m\u001b[0m\n\u001b[1;32m    515\u001b[0m \u001b[0;34m\u001b[0m\u001b[0m\n\u001b[0;32m--> 516\u001b[0;31m   \u001b[0;32mreturn\u001b[0m \u001b[0mtf\u001b[0m\u001b[0;34m.\u001b[0m\u001b[0mnest\u001b[0m\u001b[0;34m.\u001b[0m\u001b[0mmap_structure\u001b[0m\u001b[0;34m(\u001b[0m\u001b[0m_to_single_numpy_or_python_type\u001b[0m\u001b[0;34m,\u001b[0m \u001b[0mtensors\u001b[0m\u001b[0;34m)\u001b[0m\u001b[0;34m\u001b[0m\u001b[0;34m\u001b[0m\u001b[0m\n\u001b[0m\u001b[1;32m    517\u001b[0m \u001b[0;34m\u001b[0m\u001b[0m\n\u001b[1;32m    518\u001b[0m \u001b[0;34m\u001b[0m\u001b[0m\n",
      "\u001b[0;32m~/miniforge3/envs/tfm1/lib/python3.9/site-packages/tensorflow/python/util/nest.py\u001b[0m in \u001b[0;36mmap_structure\u001b[0;34m(func, *structure, **kwargs)\u001b[0m\n\u001b[1;32m    867\u001b[0m \u001b[0;34m\u001b[0m\u001b[0m\n\u001b[1;32m    868\u001b[0m   return pack_sequence_as(\n\u001b[0;32m--> 869\u001b[0;31m       \u001b[0mstructure\u001b[0m\u001b[0;34m[\u001b[0m\u001b[0;36m0\u001b[0m\u001b[0;34m]\u001b[0m\u001b[0;34m,\u001b[0m \u001b[0;34m[\u001b[0m\u001b[0mfunc\u001b[0m\u001b[0;34m(\u001b[0m\u001b[0;34m*\u001b[0m\u001b[0mx\u001b[0m\u001b[0;34m)\u001b[0m \u001b[0;32mfor\u001b[0m \u001b[0mx\u001b[0m \u001b[0;32min\u001b[0m \u001b[0mentries\u001b[0m\u001b[0;34m]\u001b[0m\u001b[0;34m,\u001b[0m\u001b[0;34m\u001b[0m\u001b[0;34m\u001b[0m\u001b[0m\n\u001b[0m\u001b[1;32m    870\u001b[0m       expand_composites=expand_composites)\n\u001b[1;32m    871\u001b[0m \u001b[0;34m\u001b[0m\u001b[0m\n",
      "\u001b[0;32m~/miniforge3/envs/tfm1/lib/python3.9/site-packages/tensorflow/python/util/nest.py\u001b[0m in \u001b[0;36m<listcomp>\u001b[0;34m(.0)\u001b[0m\n\u001b[1;32m    867\u001b[0m \u001b[0;34m\u001b[0m\u001b[0m\n\u001b[1;32m    868\u001b[0m   return pack_sequence_as(\n\u001b[0;32m--> 869\u001b[0;31m       \u001b[0mstructure\u001b[0m\u001b[0;34m[\u001b[0m\u001b[0;36m0\u001b[0m\u001b[0;34m]\u001b[0m\u001b[0;34m,\u001b[0m \u001b[0;34m[\u001b[0m\u001b[0mfunc\u001b[0m\u001b[0;34m(\u001b[0m\u001b[0;34m*\u001b[0m\u001b[0mx\u001b[0m\u001b[0;34m)\u001b[0m \u001b[0;32mfor\u001b[0m \u001b[0mx\u001b[0m \u001b[0;32min\u001b[0m \u001b[0mentries\u001b[0m\u001b[0;34m]\u001b[0m\u001b[0;34m,\u001b[0m\u001b[0;34m\u001b[0m\u001b[0;34m\u001b[0m\u001b[0m\n\u001b[0m\u001b[1;32m    870\u001b[0m       expand_composites=expand_composites)\n\u001b[1;32m    871\u001b[0m \u001b[0;34m\u001b[0m\u001b[0m\n",
      "\u001b[0;32m~/miniforge3/envs/tfm1/lib/python3.9/site-packages/keras/utils/tf_utils.py\u001b[0m in \u001b[0;36m_to_single_numpy_or_python_type\u001b[0;34m(t)\u001b[0m\n\u001b[1;32m    510\u001b[0m   \u001b[0;32mdef\u001b[0m \u001b[0m_to_single_numpy_or_python_type\u001b[0m\u001b[0;34m(\u001b[0m\u001b[0mt\u001b[0m\u001b[0;34m)\u001b[0m\u001b[0;34m:\u001b[0m\u001b[0;34m\u001b[0m\u001b[0;34m\u001b[0m\u001b[0m\n\u001b[1;32m    511\u001b[0m     \u001b[0;32mif\u001b[0m \u001b[0misinstance\u001b[0m\u001b[0;34m(\u001b[0m\u001b[0mt\u001b[0m\u001b[0;34m,\u001b[0m \u001b[0mtf\u001b[0m\u001b[0;34m.\u001b[0m\u001b[0mTensor\u001b[0m\u001b[0;34m)\u001b[0m\u001b[0;34m:\u001b[0m\u001b[0;34m\u001b[0m\u001b[0;34m\u001b[0m\u001b[0m\n\u001b[0;32m--> 512\u001b[0;31m       \u001b[0mx\u001b[0m \u001b[0;34m=\u001b[0m \u001b[0mt\u001b[0m\u001b[0;34m.\u001b[0m\u001b[0mnumpy\u001b[0m\u001b[0;34m(\u001b[0m\u001b[0;34m)\u001b[0m\u001b[0;34m\u001b[0m\u001b[0;34m\u001b[0m\u001b[0m\n\u001b[0m\u001b[1;32m    513\u001b[0m       \u001b[0;32mreturn\u001b[0m \u001b[0mx\u001b[0m\u001b[0;34m.\u001b[0m\u001b[0mitem\u001b[0m\u001b[0;34m(\u001b[0m\u001b[0;34m)\u001b[0m \u001b[0;32mif\u001b[0m \u001b[0mnp\u001b[0m\u001b[0;34m.\u001b[0m\u001b[0mndim\u001b[0m\u001b[0;34m(\u001b[0m\u001b[0mx\u001b[0m\u001b[0;34m)\u001b[0m \u001b[0;34m==\u001b[0m \u001b[0;36m0\u001b[0m \u001b[0;32melse\u001b[0m \u001b[0mx\u001b[0m\u001b[0;34m\u001b[0m\u001b[0;34m\u001b[0m\u001b[0m\n\u001b[1;32m    514\u001b[0m     \u001b[0;32mreturn\u001b[0m \u001b[0mt\u001b[0m  \u001b[0;31m# Don't turn ragged or sparse tensors to NumPy.\u001b[0m\u001b[0;34m\u001b[0m\u001b[0;34m\u001b[0m\u001b[0m\n",
      "\u001b[0;32m~/miniforge3/envs/tfm1/lib/python3.9/site-packages/tensorflow/python/framework/ops.py\u001b[0m in \u001b[0;36mnumpy\u001b[0;34m(self)\u001b[0m\n\u001b[1;32m   1092\u001b[0m     \"\"\"\n\u001b[1;32m   1093\u001b[0m     \u001b[0;31m# TODO(slebedev): Consider avoiding a copy for non-CPU or remote tensors.\u001b[0m\u001b[0;34m\u001b[0m\u001b[0;34m\u001b[0m\u001b[0m\n\u001b[0;32m-> 1094\u001b[0;31m     \u001b[0mmaybe_arr\u001b[0m \u001b[0;34m=\u001b[0m \u001b[0mself\u001b[0m\u001b[0;34m.\u001b[0m\u001b[0m_numpy\u001b[0m\u001b[0;34m(\u001b[0m\u001b[0;34m)\u001b[0m  \u001b[0;31m# pylint: disable=protected-access\u001b[0m\u001b[0;34m\u001b[0m\u001b[0;34m\u001b[0m\u001b[0m\n\u001b[0m\u001b[1;32m   1095\u001b[0m     \u001b[0;32mreturn\u001b[0m \u001b[0mmaybe_arr\u001b[0m\u001b[0;34m.\u001b[0m\u001b[0mcopy\u001b[0m\u001b[0;34m(\u001b[0m\u001b[0;34m)\u001b[0m \u001b[0;32mif\u001b[0m \u001b[0misinstance\u001b[0m\u001b[0;34m(\u001b[0m\u001b[0mmaybe_arr\u001b[0m\u001b[0;34m,\u001b[0m \u001b[0mnp\u001b[0m\u001b[0;34m.\u001b[0m\u001b[0mndarray\u001b[0m\u001b[0;34m)\u001b[0m \u001b[0;32melse\u001b[0m \u001b[0mmaybe_arr\u001b[0m\u001b[0;34m\u001b[0m\u001b[0;34m\u001b[0m\u001b[0m\n\u001b[1;32m   1096\u001b[0m \u001b[0;34m\u001b[0m\u001b[0m\n",
      "\u001b[0;32m~/miniforge3/envs/tfm1/lib/python3.9/site-packages/tensorflow/python/framework/ops.py\u001b[0m in \u001b[0;36m_numpy\u001b[0;34m(self)\u001b[0m\n\u001b[1;32m   1058\u001b[0m   \u001b[0;32mdef\u001b[0m \u001b[0m_numpy\u001b[0m\u001b[0;34m(\u001b[0m\u001b[0mself\u001b[0m\u001b[0;34m)\u001b[0m\u001b[0;34m:\u001b[0m\u001b[0;34m\u001b[0m\u001b[0;34m\u001b[0m\u001b[0m\n\u001b[1;32m   1059\u001b[0m     \u001b[0;32mtry\u001b[0m\u001b[0;34m:\u001b[0m\u001b[0;34m\u001b[0m\u001b[0;34m\u001b[0m\u001b[0m\n\u001b[0;32m-> 1060\u001b[0;31m       \u001b[0;32mreturn\u001b[0m \u001b[0mself\u001b[0m\u001b[0;34m.\u001b[0m\u001b[0m_numpy_internal\u001b[0m\u001b[0;34m(\u001b[0m\u001b[0;34m)\u001b[0m\u001b[0;34m\u001b[0m\u001b[0;34m\u001b[0m\u001b[0m\n\u001b[0m\u001b[1;32m   1061\u001b[0m     \u001b[0;32mexcept\u001b[0m \u001b[0mcore\u001b[0m\u001b[0;34m.\u001b[0m\u001b[0m_NotOkStatusException\u001b[0m \u001b[0;32mas\u001b[0m \u001b[0me\u001b[0m\u001b[0;34m:\u001b[0m  \u001b[0;31m# pylint: disable=protected-access\u001b[0m\u001b[0;34m\u001b[0m\u001b[0;34m\u001b[0m\u001b[0m\n\u001b[1;32m   1062\u001b[0m       \u001b[0msix\u001b[0m\u001b[0;34m.\u001b[0m\u001b[0mraise_from\u001b[0m\u001b[0;34m(\u001b[0m\u001b[0mcore\u001b[0m\u001b[0;34m.\u001b[0m\u001b[0m_status_to_exception\u001b[0m\u001b[0;34m(\u001b[0m\u001b[0me\u001b[0m\u001b[0;34m.\u001b[0m\u001b[0mcode\u001b[0m\u001b[0;34m,\u001b[0m \u001b[0me\u001b[0m\u001b[0;34m.\u001b[0m\u001b[0mmessage\u001b[0m\u001b[0;34m)\u001b[0m\u001b[0;34m,\u001b[0m \u001b[0;32mNone\u001b[0m\u001b[0;34m)\u001b[0m  \u001b[0;31m# pylint: disable=protected-access\u001b[0m\u001b[0;34m\u001b[0m\u001b[0;34m\u001b[0m\u001b[0m\n",
      "\u001b[0;31mKeyboardInterrupt\u001b[0m: "
     ]
    }
   ],
   "source": [
    "tf.compat.v1.reset_default_graph()\n",
    "tf.keras.backend.clear_session()\n",
    "\n",
    "with tf.device('/gpu:0'):\n",
    "  \n",
    "    model  = tf.keras.models.Sequential([\n",
    "        tf.keras.layers.Dense(1, activation='sigmoid', input_shape=(784,))])\n",
    "\n",
    "\n",
    "    model.compile(optimizer='adam',loss=\"binary_crossentropy\", metrics=['accuracy'])\n",
    "\n",
    "    hist = model.fit(\n",
    "        x=subset[\"x_train\"]/255,\n",
    "        y=subset[\"y_train_binary\"],\n",
    "        epochs=10,\n",
    "        batch_size = 32,\n",
    "        validation_data=(subset[\"x_test\"]/255,subset[\"y_test_binary\"]))\n",
    "\n",
    "\n",
    "   \n",
    "    weights = model.trainable_weights[0].numpy()\n",
    "    bias = model.trainable_weights[1].numpy()\n",
    "\n",
    "\n",
    "    "
   ]
  },
  {
   "cell_type": "code",
   "execution_count": 17,
   "metadata": {},
   "outputs": [
    {
     "data": {
      "text/plain": [
       "[<matplotlib.lines.Line2D at 0x2d7419640>]"
      ]
     },
     "execution_count": 17,
     "metadata": {},
     "output_type": "execute_result"
    },
    {
     "data": {
      "image/png": "[encoded data removed]",
      "text/plain": [
       "<Figure size 432x288 with 1 Axes>"
      ]
     },
     "metadata": {
      "needs_background": "light"
     },
     "output_type": "display_data"
    }
   ],
   "source": [
    "plt.plot(hist.history['accuracy'])\n",
    "plt.plot(hist.history['val_accuracy'])"
   ]
  },
  {
   "cell_type": "code",
   "execution_count": 18,
   "metadata": {},
   "outputs": [
    {
     "data": {
      "text/plain": [
       "<matplotlib.legend.Legend at 0x2d7478f10>"
      ]
     },
     "execution_count": 18,
     "metadata": {},
     "output_type": "execute_result"
    },
    {
     "data": {
      "image/png": "[encoded data removed]",
      "text/plain": [
       "<Figure size 432x288 with 1 Axes>"
      ]
     },
     "metadata": {
      "needs_background": "light"
     },
     "output_type": "display_data"
    }
   ],
   "source": [
    "plt.plot(hist.history['loss'])\n",
    "plt.plot(hist.history['val_loss'],label=\"val\")\n",
    "plt.legend()"
   ]
  },
  {
   "cell_type": "code",
   "execution_count": 6,
   "metadata": {},
   "outputs": [],
   "source": [
    "weights = np.load(\"measure/nncheck/raw/6,9/weights.npy\")\n",
    "bias = np.load(\"measure/nncheck/raw/6,9/bias.npy\")\n",
    "\n",
    "\n",
    "input = subset[\"x_train\"]\n",
    "importance = np.abs(input.mean(axis=0).reshape(784,1) * weights)\n",
    "ranks = importance.reshape(784).argsort().argsort()"
   ]
  },
  {
   "cell_type": "code",
   "execution_count": 7,
   "metadata": {},
   "outputs": [
    {
     "name": "stdout",
     "output_type": "stream",
     "text": [
      "0\n"
     ]
    },
    {
     "data": {
      "image/png": "[encoded data removed]",
      "text/plain": [
       "<Figure size 432x288 with 1 Axes>"
      ]
     },
     "metadata": {
      "needs_background": "light"
     },
     "output_type": "display_data"
    },
    {
     "name": "stdout",
     "output_type": "stream",
     "text": [
      "130\n"
     ]
    },
    {
     "data": {
      "image/png": "[encoded data removed]",
      "text/plain": [
       "<Figure size 432x288 with 1 Axes>"
      ]
     },
     "metadata": {
      "needs_background": "light"
     },
     "output_type": "display_data"
    },
    {
     "name": "stdout",
     "output_type": "stream",
     "text": [
      "260\n"
     ]
    },
    {
     "data": {
      "image/png": "[encoded data removed]",
      "text/plain": [
       "<Figure size 432x288 with 1 Axes>"
      ]
     },
     "metadata": {
      "needs_background": "light"
     },
     "output_type": "display_data"
    },
    {
     "name": "stdout",
     "output_type": "stream",
     "text": [
      "390\n"
     ]
    },
    {
     "data": {
      "image/png": "[encoded data removed]",
      "text/plain": [
       "<Figure size 432x288 with 1 Axes>"
      ]
     },
     "metadata": {
      "needs_background": "light"
     },
     "output_type": "display_data"
    },
    {
     "name": "stdout",
     "output_type": "stream",
     "text": [
      "520\n"
     ]
    },
    {
     "data": {
      "image/png": "[encoded data removed]",
      "text/plain": [
       "<Figure size 432x288 with 1 Axes>"
      ]
     },
     "metadata": {
      "needs_background": "light"
     },
     "output_type": "display_data"
    },
    {
     "name": "stdout",
     "output_type": "stream",
     "text": [
      "650\n"
     ]
    },
    {
     "data": {
      "image/png": "[encoded data removed]",
      "text/plain": [
       "<Figure size 432x288 with 1 Axes>"
      ]
     },
     "metadata": {
      "needs_background": "light"
     },
     "output_type": "display_data"
    },
    {
     "name": "stdout",
     "output_type": "stream",
     "text": [
      "780\n"
     ]
    },
    {
     "data": {
      "image/png": "[encoded data removed]",
      "text/plain": [
       "<Figure size 432x288 with 1 Axes>"
      ]
     },
     "metadata": {
      "needs_background": "light"
     },
     "output_type": "display_data"
    }
   ],
   "source": [
    "for i in range(0,790,130):\n",
    "    print(i)\n",
    "\n",
    "    index = np.where(ranks >= i)\n",
    "\n",
    "    blank = np.zeros(784)\n",
    "    blank[index] = 255\n",
    "\n",
    "    plt.imshow(blank.reshape(28,28),cmap=\"gray\")\n",
    "    plt.show()"
   ]
  },
  {
   "cell_type": "code",
   "execution_count": 40,
   "metadata": {},
   "outputs": [
    {
     "name": "stdout",
     "output_type": "stream",
     "text": [
      "744 (11867, 40)\n",
      "Epoch 1/10\n",
      " 22/371 [>.............................] - ETA: 1s - loss: 0.6962 - accuracy: 0.5938"
     ]
    },
    {
     "name": "stderr",
     "output_type": "stream",
     "text": [
      "2022-01-05 17:06:58.421113: I tensorflow/core/grappler/optimizers/custom_graph_optimizer_registry.cc:112] Plugin optimizer for device_type GPU is enabled.\n"
     ]
    },
    {
     "name": "stdout",
     "output_type": "stream",
     "text": [
      "371/371 [==============================] - ETA: 0s - loss: 0.4118 - accuracy: 0.8660"
     ]
    },
    {
     "name": "stderr",
     "output_type": "stream",
     "text": [
      "2022-01-05 17:07:00.451368: I tensorflow/core/grappler/optimizers/custom_graph_optimizer_registry.cc:112] Plugin optimizer for device_type GPU is enabled.\n"
     ]
    },
    {
     "name": "stdout",
     "output_type": "stream",
     "text": [
      "371/371 [==============================] - 2s 6ms/step - loss: 0.4118 - accuracy: 0.8660 - val_loss: 0.2428 - val_accuracy: 0.9558\n",
      "Epoch 2/10\n",
      "371/371 [==============================] - 2s 6ms/step - loss: 0.1949 - accuracy: 0.9617 - val_loss: 0.1524 - val_accuracy: 0.9659\n",
      "Epoch 3/10\n",
      "371/371 [==============================] - 2s 6ms/step - loss: 0.1365 - accuracy: 0.9708 - val_loss: 0.1185 - val_accuracy: 0.9720\n",
      "Epoch 4/10\n",
      "371/371 [==============================] - 2s 6ms/step - loss: 0.1102 - accuracy: 0.9731 - val_loss: 0.1010 - val_accuracy: 0.9731\n",
      "Epoch 5/10\n",
      "371/371 [==============================] - 2s 5ms/step - loss: 0.0952 - accuracy: 0.9751 - val_loss: 0.0906 - val_accuracy: 0.9756\n",
      "Epoch 6/10\n",
      "371/371 [==============================] - 2s 6ms/step - loss: 0.0857 - accuracy: 0.9765 - val_loss: 0.0835 - val_accuracy: 0.9751\n",
      "Epoch 7/10\n",
      "371/371 [==============================] - 2s 6ms/step - loss: 0.0789 - accuracy: 0.9776 - val_loss: 0.0785 - val_accuracy: 0.9766\n",
      "Epoch 8/10\n",
      "371/371 [==============================] - 2s 6ms/step - loss: 0.0740 - accuracy: 0.9785 - val_loss: 0.0748 - val_accuracy: 0.9771\n",
      "Epoch 9/10\n",
      "371/371 [==============================] - 2s 5ms/step - loss: 0.0702 - accuracy: 0.9790 - val_loss: 0.0720 - val_accuracy: 0.9776\n",
      "Epoch 10/10\n",
      "371/371 [==============================] - 2s 5ms/step - loss: 0.0672 - accuracy: 0.9796 - val_loss: 0.0696 - val_accuracy: 0.9781\n",
      "754 (11867, 30)\n",
      "Epoch 1/10\n",
      " 25/371 [=>............................] - ETA: 1s - loss: 0.4497 - accuracy: 0.9112"
     ]
    },
    {
     "name": "stderr",
     "output_type": "stream",
     "text": [
      "2022-01-05 17:07:19.193419: I tensorflow/core/grappler/optimizers/custom_graph_optimizer_registry.cc:112] Plugin optimizer for device_type GPU is enabled.\n"
     ]
    },
    {
     "name": "stdout",
     "output_type": "stream",
     "text": [
      "371/371 [==============================] - 2s 5ms/step - loss: 0.3025 - accuracy: 0.9483 - val_loss: 0.2036 - val_accuracy: 0.9553\n",
      "Epoch 2/10\n",
      "  1/371 [..............................] - ETA: 1s - loss: 0.2189 - accuracy: 0.9688"
     ]
    },
    {
     "name": "stderr",
     "output_type": "stream",
     "text": [
      "2022-01-05 17:07:20.845458: I tensorflow/core/grappler/optimizers/custom_graph_optimizer_registry.cc:112] Plugin optimizer for device_type GPU is enabled.\n"
     ]
    },
    {
     "name": "stdout",
     "output_type": "stream",
     "text": [
      "371/371 [==============================] - 2s 5ms/step - loss: 0.1764 - accuracy: 0.9638 - val_loss: 0.1480 - val_accuracy: 0.9568\n",
      "Epoch 3/10\n",
      "371/371 [==============================] - 2s 5ms/step - loss: 0.1382 - accuracy: 0.9661 - val_loss: 0.1258 - val_accuracy: 0.9573\n",
      "Epoch 4/10\n",
      "371/371 [==============================] - 2s 5ms/step - loss: 0.1201 - accuracy: 0.9671 - val_loss: 0.1139 - val_accuracy: 0.9578\n",
      "Epoch 5/10\n",
      "371/371 [==============================] - 2s 6ms/step - loss: 0.1096 - accuracy: 0.9673 - val_loss: 0.1069 - val_accuracy: 0.9593\n",
      "Epoch 6/10\n",
      "371/371 [==============================] - 2s 6ms/step - loss: 0.1026 - accuracy: 0.9681 - val_loss: 0.1018 - val_accuracy: 0.9598\n",
      "Epoch 7/10\n",
      "371/371 [==============================] - 2s 5ms/step - loss: 0.0976 - accuracy: 0.9686 - val_loss: 0.0980 - val_accuracy: 0.9619\n",
      "Epoch 8/10\n",
      "371/371 [==============================] - 2s 5ms/step - loss: 0.0939 - accuracy: 0.9690 - val_loss: 0.0955 - val_accuracy: 0.9593\n",
      "Epoch 9/10\n",
      "371/371 [==============================] - 2s 5ms/step - loss: 0.0911 - accuracy: 0.9694 - val_loss: 0.0930 - val_accuracy: 0.9619\n",
      "Epoch 10/10\n",
      "371/371 [==============================] - 2s 5ms/step - loss: 0.0888 - accuracy: 0.9693 - val_loss: 0.0914 - val_accuracy: 0.9629\n",
      "759 (11867, 25)\n",
      "Epoch 1/10\n",
      " 21/371 [>.............................] - ETA: 1s - loss: 0.6631 - accuracy: 0.5893"
     ]
    },
    {
     "name": "stderr",
     "output_type": "stream",
     "text": [
      "2022-01-05 17:07:38.551237: I tensorflow/core/grappler/optimizers/custom_graph_optimizer_registry.cc:112] Plugin optimizer for device_type GPU is enabled.\n"
     ]
    },
    {
     "name": "stdout",
     "output_type": "stream",
     "text": [
      "371/371 [==============================] - ETA: 0s - loss: 0.4589 - accuracy: 0.8203"
     ]
    },
    {
     "name": "stderr",
     "output_type": "stream",
     "text": [
      "2022-01-05 17:07:40.503587: I tensorflow/core/grappler/optimizers/custom_graph_optimizer_registry.cc:112] Plugin optimizer for device_type GPU is enabled.\n"
     ]
    },
    {
     "name": "stdout",
     "output_type": "stream",
     "text": [
      "371/371 [==============================] - 2s 6ms/step - loss: 0.4589 - accuracy: 0.8203 - val_loss: 0.3167 - val_accuracy: 0.9237\n",
      "Epoch 2/10\n",
      "371/371 [==============================] - 2s 6ms/step - loss: 0.2665 - accuracy: 0.9341 - val_loss: 0.2147 - val_accuracy: 0.9415\n",
      "Epoch 3/10\n",
      "371/371 [==============================] - 2s 5ms/step - loss: 0.1967 - accuracy: 0.9500 - val_loss: 0.1707 - val_accuracy: 0.9532\n",
      "Epoch 4/10\n",
      "371/371 [==============================] - 2s 5ms/step - loss: 0.1621 - accuracy: 0.9554 - val_loss: 0.1475 - val_accuracy: 0.9527\n",
      "Epoch 5/10\n",
      "371/371 [==============================] - 2s 6ms/step - loss: 0.1421 - accuracy: 0.9594 - val_loss: 0.1323 - val_accuracy: 0.9553\n",
      "Epoch 6/10\n",
      "371/371 [==============================] - 2s 6ms/step - loss: 0.1288 - accuracy: 0.9608 - val_loss: 0.1226 - val_accuracy: 0.9563\n",
      "Epoch 7/10\n",
      "371/371 [==============================] - 2s 6ms/step - loss: 0.1196 - accuracy: 0.9622 - val_loss: 0.1154 - val_accuracy: 0.9588\n",
      "Epoch 8/10\n",
      "371/371 [==============================] - 2s 6ms/step - loss: 0.1128 - accuracy: 0.9634 - val_loss: 0.1101 - val_accuracy: 0.9603\n",
      "Epoch 9/10\n",
      "371/371 [==============================] - 2s 6ms/step - loss: 0.1075 - accuracy: 0.9644 - val_loss: 0.1060 - val_accuracy: 0.9593\n",
      "Epoch 10/10\n",
      "371/371 [==============================] - 2s 6ms/step - loss: 0.1032 - accuracy: 0.9649 - val_loss: 0.1028 - val_accuracy: 0.9598\n",
      "764 (11867, 20)\n",
      "Epoch 1/10\n",
      " 19/371 [>.............................] - ETA: 1s - loss: 0.5849 - accuracy: 0.6908"
     ]
    },
    {
     "name": "stderr",
     "output_type": "stream",
     "text": [
      "2022-01-05 17:07:59.981111: I tensorflow/core/grappler/optimizers/custom_graph_optimizer_registry.cc:112] Plugin optimizer for device_type GPU is enabled.\n"
     ]
    },
    {
     "name": "stdout",
     "output_type": "stream",
     "text": [
      "365/371 [============================>.] - ETA: 0s - loss: 0.4162 - accuracy: 0.8746"
     ]
    },
    {
     "name": "stderr",
     "output_type": "stream",
     "text": [
      "2022-01-05 17:08:01.902456: I tensorflow/core/grappler/optimizers/custom_graph_optimizer_registry.cc:112] Plugin optimizer for device_type GPU is enabled.\n"
     ]
    },
    {
     "name": "stdout",
     "output_type": "stream",
     "text": [
      "371/371 [==============================] - 2s 6ms/step - loss: 0.4145 - accuracy: 0.8755 - val_loss: 0.2936 - val_accuracy: 0.9314\n",
      "Epoch 2/10\n",
      "371/371 [==============================] - 2s 5ms/step - loss: 0.2550 - accuracy: 0.9367 - val_loss: 0.2089 - val_accuracy: 0.9481\n",
      "Epoch 3/10\n",
      "371/371 [==============================] - 2s 5ms/step - loss: 0.1963 - accuracy: 0.9478 - val_loss: 0.1715 - val_accuracy: 0.9548\n",
      "Epoch 4/10\n",
      "371/371 [==============================] - 2s 5ms/step - loss: 0.1663 - accuracy: 0.9526 - val_loss: 0.1508 - val_accuracy: 0.9573\n",
      "Epoch 5/10\n",
      "371/371 [==============================] - 2s 5ms/step - loss: 0.1483 - accuracy: 0.9550 - val_loss: 0.1380 - val_accuracy: 0.9588\n",
      "Epoch 6/10\n",
      "371/371 [==============================] - 2s 5ms/step - loss: 0.1363 - accuracy: 0.9566 - val_loss: 0.1294 - val_accuracy: 0.9593\n",
      "Epoch 7/10\n",
      "371/371 [==============================] - 2s 5ms/step - loss: 0.1277 - accuracy: 0.9580 - val_loss: 0.1231 - val_accuracy: 0.9573\n",
      "Epoch 8/10\n",
      "371/371 [==============================] - 2s 5ms/step - loss: 0.1212 - accuracy: 0.9596 - val_loss: 0.1184 - val_accuracy: 0.9583\n",
      "Epoch 9/10\n",
      "371/371 [==============================] - 2s 6ms/step - loss: 0.1161 - accuracy: 0.9615 - val_loss: 0.1148 - val_accuracy: 0.9583\n",
      "Epoch 10/10\n",
      "371/371 [==============================] - 2s 6ms/step - loss: 0.1120 - accuracy: 0.9628 - val_loss: 0.1116 - val_accuracy: 0.9573\n",
      "779 (11867, 5)\n",
      "Epoch 1/10\n",
      " 21/371 [>.............................] - ETA: 1s - loss: 0.6937 - accuracy: 0.5253"
     ]
    },
    {
     "name": "stderr",
     "output_type": "stream",
     "text": [
      "2022-01-05 17:08:19.895533: I tensorflow/core/grappler/optimizers/custom_graph_optimizer_registry.cc:112] Plugin optimizer for device_type GPU is enabled.\n"
     ]
    },
    {
     "name": "stdout",
     "output_type": "stream",
     "text": [
      "371/371 [==============================] - ETA: 0s - loss: 0.6178 - accuracy: 0.7078"
     ]
    },
    {
     "name": "stderr",
     "output_type": "stream",
     "text": [
      "2022-01-05 17:08:21.862269: I tensorflow/core/grappler/optimizers/custom_graph_optimizer_registry.cc:112] Plugin optimizer for device_type GPU is enabled.\n"
     ]
    },
    {
     "name": "stdout",
     "output_type": "stream",
     "text": [
      "371/371 [==============================] - 2s 6ms/step - loss: 0.6178 - accuracy: 0.7078 - val_loss: 0.5452 - val_accuracy: 0.7895\n",
      "Epoch 2/10\n",
      "371/371 [==============================] - 2s 5ms/step - loss: 0.5244 - accuracy: 0.7684 - val_loss: 0.4740 - val_accuracy: 0.8022\n",
      "Epoch 3/10\n",
      "371/371 [==============================] - 2s 5ms/step - loss: 0.4679 - accuracy: 0.7861 - val_loss: 0.4282 - val_accuracy: 0.8129\n",
      "Epoch 4/10\n",
      "371/371 [==============================] - 2s 6ms/step - loss: 0.4304 - accuracy: 0.8034 - val_loss: 0.3982 - val_accuracy: 0.8297\n",
      "Epoch 5/10\n",
      "371/371 [==============================] - 2s 6ms/step - loss: 0.4045 - accuracy: 0.8174 - val_loss: 0.3769 - val_accuracy: 0.8383\n",
      "Epoch 6/10\n",
      "371/371 [==============================] - 2s 5ms/step - loss: 0.3857 - accuracy: 0.8311 - val_loss: 0.3617 - val_accuracy: 0.8454\n",
      "Epoch 7/10\n",
      "371/371 [==============================] - 2s 6ms/step - loss: 0.3716 - accuracy: 0.8412 - val_loss: 0.3505 - val_accuracy: 0.8551\n",
      "Epoch 8/10\n",
      "371/371 [==============================] - 2s 5ms/step - loss: 0.3607 - accuracy: 0.8508 - val_loss: 0.3419 - val_accuracy: 0.8617\n",
      "Epoch 9/10\n",
      "371/371 [==============================] - 2s 5ms/step - loss: 0.3521 - accuracy: 0.8573 - val_loss: 0.3352 - val_accuracy: 0.8693\n",
      "Epoch 10/10\n",
      "371/371 [==============================] - 2s 5ms/step - loss: 0.3452 - accuracy: 0.8609 - val_loss: 0.3299 - val_accuracy: 0.8714\n",
      "780 (11867, 4)\n",
      "Epoch 1/10\n",
      " 22/371 [>.............................] - ETA: 1s - loss: 0.9187 - accuracy: 0.1918"
     ]
    },
    {
     "name": "stderr",
     "output_type": "stream",
     "text": [
      "2022-01-05 17:08:40.315254: I tensorflow/core/grappler/optimizers/custom_graph_optimizer_registry.cc:112] Plugin optimizer for device_type GPU is enabled.\n"
     ]
    },
    {
     "name": "stdout",
     "output_type": "stream",
     "text": [
      "366/371 [============================>.] - ETA: 0s - loss: 0.8490 - accuracy: 0.2280"
     ]
    },
    {
     "name": "stderr",
     "output_type": "stream",
     "text": [
      "2022-01-05 17:08:42.143739: I tensorflow/core/grappler/optimizers/custom_graph_optimizer_registry.cc:112] Plugin optimizer for device_type GPU is enabled.\n"
     ]
    },
    {
     "name": "stdout",
     "output_type": "stream",
     "text": [
      "371/371 [==============================] - 2s 5ms/step - loss: 0.8479 - accuracy: 0.2306 - val_loss: 0.7762 - val_accuracy: 0.4037\n",
      "Epoch 2/10\n",
      "371/371 [==============================] - 2s 6ms/step - loss: 0.7247 - accuracy: 0.5062 - val_loss: 0.6655 - val_accuracy: 0.7336\n",
      "Epoch 3/10\n",
      "371/371 [==============================] - 2s 6ms/step - loss: 0.6351 - accuracy: 0.7183 - val_loss: 0.5857 - val_accuracy: 0.7651\n",
      "Epoch 4/10\n",
      "371/371 [==============================] - 2s 6ms/step - loss: 0.5695 - accuracy: 0.7478 - val_loss: 0.5274 - val_accuracy: 0.7824\n",
      "Epoch 5/10\n",
      "371/371 [==============================] - 2s 5ms/step - loss: 0.5205 - accuracy: 0.7629 - val_loss: 0.4845 - val_accuracy: 0.7956\n",
      "Epoch 6/10\n",
      "371/371 [==============================] - 2s 5ms/step - loss: 0.4828 - accuracy: 0.7750 - val_loss: 0.4515 - val_accuracy: 0.8073\n",
      "Epoch 7/10\n",
      "371/371 [==============================] - 2s 6ms/step - loss: 0.4531 - accuracy: 0.7860 - val_loss: 0.4249 - val_accuracy: 0.8155\n",
      "Epoch 8/10\n",
      "371/371 [==============================] - 2s 6ms/step - loss: 0.4288 - accuracy: 0.7989 - val_loss: 0.4033 - val_accuracy: 0.8200\n",
      "Epoch 9/10\n",
      "371/371 [==============================] - 2s 6ms/step - loss: 0.4085 - accuracy: 0.8077 - val_loss: 0.3854 - val_accuracy: 0.8297\n",
      "Epoch 10/10\n",
      "371/371 [==============================] - 2s 6ms/step - loss: 0.3911 - accuracy: 0.8170 - val_loss: 0.3705 - val_accuracy: 0.8368\n"
     ]
    }
   ],
   "source": [
    "d = dict()\n",
    "\n",
    "for j in [744,754,759,764,779,780]:\n",
    "\n",
    "    d[j] = dict()\n",
    "\n",
    "    indices = np.where(ranks < j)\n",
    "    blank = np.zeros(784)\n",
    "    blank[indices] = 255\n",
    "    d[j][\"image\"] = blank.reshape(28,28)\n",
    "\n",
    "    tf.compat.v1.reset_default_graph()\n",
    "    with tf.device('/gpu:0'):\n",
    "    \n",
    "        model  = tf.keras.models.Sequential([\n",
    "            tf.keras.layers.Dense(1, activation='sigmoid', input_shape=(784-len(indices[0]),))])\n",
    "\n",
    "\n",
    "        model.compile(optimizer='adam',loss=\"binary_crossentropy\", metrics=['accuracy'])\n",
    "\n",
    "\n",
    "        delete_train = np.delete(subset[\"x_train\"]/255,indices,axis=1)\n",
    "        delete_test = np.delete(subset[\"x_test\"]/255,indices,axis=1)\n",
    "        d[j][\"features\"] = delete_train.shape\n",
    "        print(j,delete_train.shape)\n",
    "\n",
    "\n",
    "   \n",
    "        hist = model.fit(\n",
    "            x=delete_train,\n",
    "            y=subset[\"y_train_binary\"],\n",
    "            epochs=10,\n",
    "            batch_size = 32,\n",
    "            validation_data=(delete_test,subset[\"y_test_binary\"]))\n",
    "\n",
    "        d[j][\"hist\"] = hist\n",
    "\n",
    "\n",
    "        del model"
   ]
  },
  {
   "cell_type": "code",
   "execution_count": 97,
   "metadata": {},
   "outputs": [],
   "source": [
    "h.store(np.array([\"hi\"]),folder=\"test/6,9\",filename=\"test2\")"
   ]
  },
  {
   "cell_type": "code",
   "execution_count": 92,
   "metadata": {},
   "outputs": [
    {
     "data": {
      "text/plain": [
       "True"
      ]
     },
     "execution_count": 92,
     "metadata": {},
     "output_type": "execute_result"
    }
   ],
   "source": [
    "type(hist.history)==dict"
   ]
  },
  {
   "cell_type": "code",
   "execution_count": 27,
   "metadata": {},
   "outputs": [
    {
     "data": {
      "image/png": "[encoded data removed]",
      "text/plain": [
       "<Figure size 720x360 with 2 Axes>"
      ]
     },
     "metadata": {
      "needs_background": "light"
     },
     "output_type": "display_data"
    }
   ],
   "source": [
    "input = subset[\"x_train\"]/255\n",
    "\n",
    "plt.figure(figsize=(10,5))\n",
    "plt.title(\"Feature Importance\")\n",
    "plt.imshow(np.abs(input.mean(axis=0).reshape(784,1) * weights).reshape(28,28),cmap=\"gray\")\n",
    "plt.colorbar()\n",
    "plt.axis(\"off\")\n",
    "plt.show()"
   ]
  },
  {
   "cell_type": "code",
   "execution_count": 15,
   "metadata": {},
   "outputs": [
    {
     "data": {
      "image/png": "[encoded data removed]",
      "text/plain": [
       "<Figure size 432x288 with 2 Axes>"
      ]
     },
     "metadata": {
      "needs_background": "light"
     },
     "output_type": "display_data"
    }
   ],
   "source": [
    "plt.imshow(pp.minmax_scaler(weights.reshape(28,28)),cmap=\"gray\")\n",
    "plt.colorbar()\n",
    "plt.axis(\"off\")\n",
    "plt.show()"
   ]
  },
  {
   "cell_type": "code",
   "execution_count": 14,
   "metadata": {},
   "outputs": [
    {
     "data": {
      "image/png": "[encoded data removed]",
      "text/plain": [
       "<Figure size 432x288 with 2 Axes>"
      ]
     },
     "metadata": {
      "needs_background": "light"
     },
     "output_type": "display_data"
    }
   ],
   "source": [
    "plt.imshow(weights.reshape(28,28),cmap=\"viridis\")\n",
    "plt.colorbar()\n",
    "plt.axis(\"off\")\n",
    "plt.show()"
   ]
  },
  {
   "cell_type": "code",
   "execution_count": 10,
   "metadata": {},
   "outputs": [
    {
     "data": {
      "image/png": "[encoded data removed]",
      "text/plain": [
       "<Figure size 432x288 with 2 Axes>"
      ]
     },
     "metadata": {
      "needs_background": "light"
     },
     "output_type": "display_data"
    }
   ],
   "source": [
    "plt.imshow(np.abs(weights).reshape(28,28),cmap=\"gray\")\n",
    "plt.colorbar()\n",
    "plt.axis(\"off\")\n",
    "plt.show()"
   ]
  },
  {
   "cell_type": "code",
   "execution_count": 58,
   "metadata": {},
   "outputs": [
    {
     "data": {
      "image/png": "[encoded data removed]",
      "text/plain": [
       "<Figure size 720x360 with 2 Axes>"
      ]
     },
     "metadata": {
      "needs_background": "light"
     },
     "output_type": "display_data"
    }
   ],
   "source": [
    "fig, ax = plt.subplots(1,2,figsize=(10,5))\n",
    "\n",
    "ax[0].hist(np.round(np.abs(weights),4),bins=30)\n",
    "ax[0].axvline(x=np.abs(weights[0]), color='magenta', label='Linker Oberer Pixel')\n",
    "ax[0].axvline(x=np.abs(weights[-1]), color='magenta', label='Rechts Unten Pixel')\n",
    "ax[0].legend()\n",
    "\n",
    "\n",
    "ax[1].hist(subset[\"x_train\"][:,-1])\n",
    "plt.show()"
   ]
  },
  {
   "cell_type": "code",
   "execution_count": 57,
   "metadata": {},
   "outputs": [
    {
     "data": {
      "image/png": "[encoded data removed]",
      "text/plain": [
       "<Figure size 1296x792 with 6 Axes>"
      ]
     },
     "metadata": {
      "needs_background": "light"
     },
     "output_type": "display_data"
    }
   ],
   "source": [
    "fig,ax = plt.subplots(2,3,figsize=(18,11))\n",
    "\n",
    "i = 0\n",
    "for r in range(2):\n",
    "    for c in range(3):\n",
    "        ci = list(d.keys())[i]\n",
    "        ax[r][c].imshow(d[ci][\"image\"],cmap=\"gray\")\n",
    "        ax[r][c].set_title(\"{:.0f} most important features\".format(784-ci,d[ci][\"features\"][1]))\n",
    "        ax[r][c].set_xlabel(\"accuracy: {:.3f}\".format(d[ci][\"hist\"].history[\"val_accuracy\"][-1]))\n",
    "\n",
    "        i+=1\n",
    "\n",
    "\n",
    "plt.show()"
   ]
  },
  {
   "cell_type": "code",
   "execution_count": 103,
   "metadata": {},
   "outputs": [],
   "source": [
    "#pick random 5 zahlenpaare\n",
    "\n",
    "from random import randint\n",
    "\n",
    "zahlenpaare = os.listdir(\"data/PCA/\")\n",
    "choice = list()\n",
    "for _ in range(5):\n",
    "    r = randint(0,len(zahlenpaare)-1)\n",
    "    choice.append(zahlenpaare[r])\n",
    "    zahlenpaare.remove(zahlenpaare[r])\n",
    "\n",
    "\n",
    "choice.append(\"6,9\")"
   ]
  },
  {
   "cell_type": "code",
   "execution_count": 110,
   "metadata": {},
   "outputs": [
    {
     "name": "stdout",
     "output_type": "stream",
     "text": [
      "Epoch 1/10\n",
      " 11/377 [..............................] - ETA: 1s - loss: 7.5788 - accuracy: 0.7784   "
     ]
    },
    {
     "name": "stderr",
     "output_type": "stream",
     "text": [
      "2022-01-05 21:27:50.502747: I tensorflow/core/grappler/optimizers/custom_graph_optimizer_registry.cc:112] Plugin optimizer for device_type GPU is enabled.\n"
     ]
    },
    {
     "name": "stdout",
     "output_type": "stream",
     "text": [
      "377/377 [==============================] - ETA: 0s - loss: 1.0568 - accuracy: 0.9722"
     ]
    },
    {
     "name": "stderr",
     "output_type": "stream",
     "text": [
      "2022-01-05 21:27:52.314332: I tensorflow/core/grappler/optimizers/custom_graph_optimizer_registry.cc:112] Plugin optimizer for device_type GPU is enabled.\n"
     ]
    },
    {
     "name": "stdout",
     "output_type": "stream",
     "text": [
      "377/377 [==============================] - 2s 5ms/step - loss: 1.0568 - accuracy: 0.9722 - val_loss: 0.2849 - val_accuracy: 0.9919\n",
      "Epoch 2/10\n",
      "377/377 [==============================] - 2s 5ms/step - loss: 0.2749 - accuracy: 0.9915 - val_loss: 0.2037 - val_accuracy: 0.9939\n",
      "Epoch 3/10\n",
      "377/377 [==============================] - 2s 5ms/step - loss: 0.2153 - accuracy: 0.9929 - val_loss: 0.2420 - val_accuracy: 0.9919\n",
      "Epoch 4/10\n",
      "377/377 [==============================] - 2s 5ms/step - loss: 0.1574 - accuracy: 0.9948 - val_loss: 0.2061 - val_accuracy: 0.9939\n",
      "Epoch 5/10\n",
      "377/377 [==============================] - 2s 5ms/step - loss: 0.1274 - accuracy: 0.9948 - val_loss: 0.2538 - val_accuracy: 0.9919\n",
      "Epoch 6/10\n",
      "377/377 [==============================] - 2s 5ms/step - loss: 0.0983 - accuracy: 0.9961 - val_loss: 0.7322 - val_accuracy: 0.9792\n",
      "Epoch 7/10\n",
      "377/377 [==============================] - 2s 5ms/step - loss: 0.1138 - accuracy: 0.9959 - val_loss: 0.2068 - val_accuracy: 0.9934\n",
      "Epoch 8/10\n",
      "377/377 [==============================] - 2s 5ms/step - loss: 0.0937 - accuracy: 0.9965 - val_loss: 0.1493 - val_accuracy: 0.9944\n",
      "Epoch 9/10\n",
      "377/377 [==============================] - 2s 5ms/step - loss: 0.1007 - accuracy: 0.9967 - val_loss: 0.3526 - val_accuracy: 0.9939\n",
      "Epoch 10/10\n",
      "377/377 [==============================] - 2s 5ms/step - loss: 0.0907 - accuracy: 0.9964 - val_loss: 0.1850 - val_accuracy: 0.9954\n",
      "Epoch 1/10\n",
      " 22/381 [>.............................] - ETA: 1s - loss: 44.4356 - accuracy: 0.5668  "
     ]
    },
    {
     "name": "stderr",
     "output_type": "stream",
     "text": [
      "2022-01-05 21:28:09.256254: I tensorflow/core/grappler/optimizers/custom_graph_optimizer_registry.cc:112] Plugin optimizer for device_type GPU is enabled.\n"
     ]
    },
    {
     "name": "stdout",
     "output_type": "stream",
     "text": [
      "381/381 [==============================] - 2s 5ms/step - loss: 3.2899 - accuracy: 0.9564 - val_loss: 0.2330 - val_accuracy: 0.9910\n"
     ]
    },
    {
     "name": "stderr",
     "output_type": "stream",
     "text": [
      "2022-01-05 21:28:11.023249: I tensorflow/core/grappler/optimizers/custom_graph_optimizer_registry.cc:112] Plugin optimizer for device_type GPU is enabled.\n"
     ]
    },
    {
     "name": "stdout",
     "output_type": "stream",
     "text": [
      "Epoch 2/10\n",
      "381/381 [==============================] - 2s 5ms/step - loss: 0.2906 - accuracy: 0.9920 - val_loss: 0.2619 - val_accuracy: 0.9915\n",
      "Epoch 3/10\n",
      "381/381 [==============================] - 2s 5ms/step - loss: 0.1672 - accuracy: 0.9950 - val_loss: 0.1992 - val_accuracy: 0.9925\n",
      "Epoch 4/10\n",
      "381/381 [==============================] - ETA: 0s - loss: 0.1240 - accuracy: 0.9953"
     ]
    },
    {
     "ename": "KeyboardInterrupt",
     "evalue": "",
     "output_type": "error",
     "traceback": [
      "\u001b[0;31m---------------------------------------------------------------------------\u001b[0m",
      "\u001b[0;31mKeyboardInterrupt\u001b[0m                         Traceback (most recent call last)",
      "\u001b[0;32m/var/folders/09/d62qr57n6dl6znjwx73740hw0000gn/T/ipykernel_27089/2632467083.py\u001b[0m in \u001b[0;36m<module>\u001b[0;34m\u001b[0m\n\u001b[1;32m     14\u001b[0m \u001b[0;34m\u001b[0m\u001b[0m\n\u001b[1;32m     15\u001b[0m \u001b[0;34m\u001b[0m\u001b[0m\n\u001b[0;32m---> 16\u001b[0;31m         hist = model.fit(\n\u001b[0m\u001b[1;32m     17\u001b[0m             \u001b[0mx\u001b[0m\u001b[0;34m=\u001b[0m\u001b[0msubset_raw\u001b[0m\u001b[0;34m[\u001b[0m\u001b[0;34m\"x_train\"\u001b[0m\u001b[0;34m]\u001b[0m\u001b[0;34m,\u001b[0m\u001b[0;34m\u001b[0m\u001b[0;34m\u001b[0m\u001b[0m\n\u001b[1;32m     18\u001b[0m             \u001b[0my\u001b[0m\u001b[0;34m=\u001b[0m\u001b[0msubset_raw\u001b[0m\u001b[0;34m[\u001b[0m\u001b[0;34m\"y_train_binary\"\u001b[0m\u001b[0;34m]\u001b[0m\u001b[0;34m,\u001b[0m\u001b[0;34m\u001b[0m\u001b[0;34m\u001b[0m\u001b[0m\n",
      "\u001b[0;32m~/miniforge3/envs/tfm1/lib/python3.9/site-packages/keras/engine/training.py\u001b[0m in \u001b[0;36mfit\u001b[0;34m(self, x, y, batch_size, epochs, verbose, callbacks, validation_split, validation_data, shuffle, class_weight, sample_weight, initial_epoch, steps_per_epoch, validation_steps, validation_batch_size, validation_freq, max_queue_size, workers, use_multiprocessing)\u001b[0m\n\u001b[1;32m   1213\u001b[0m                 \u001b[0mmodel\u001b[0m\u001b[0;34m=\u001b[0m\u001b[0mself\u001b[0m\u001b[0;34m,\u001b[0m\u001b[0;34m\u001b[0m\u001b[0;34m\u001b[0m\u001b[0m\n\u001b[1;32m   1214\u001b[0m                 steps_per_execution=self._steps_per_execution)\n\u001b[0;32m-> 1215\u001b[0;31m           val_logs = self.evaluate(\n\u001b[0m\u001b[1;32m   1216\u001b[0m               \u001b[0mx\u001b[0m\u001b[0;34m=\u001b[0m\u001b[0mval_x\u001b[0m\u001b[0;34m,\u001b[0m\u001b[0;34m\u001b[0m\u001b[0;34m\u001b[0m\u001b[0m\n\u001b[1;32m   1217\u001b[0m               \u001b[0my\u001b[0m\u001b[0;34m=\u001b[0m\u001b[0mval_y\u001b[0m\u001b[0;34m,\u001b[0m\u001b[0;34m\u001b[0m\u001b[0;34m\u001b[0m\u001b[0m\n",
      "\u001b[0;32m~/miniforge3/envs/tfm1/lib/python3.9/site-packages/keras/engine/training.py\u001b[0m in \u001b[0;36mevaluate\u001b[0;34m(self, x, y, batch_size, verbose, sample_weight, steps, callbacks, max_queue_size, workers, use_multiprocessing, return_dict, **kwargs)\u001b[0m\n\u001b[1;32m   1499\u001b[0m             \u001b[0;32mwith\u001b[0m \u001b[0mtf\u001b[0m\u001b[0;34m.\u001b[0m\u001b[0mprofiler\u001b[0m\u001b[0;34m.\u001b[0m\u001b[0mexperimental\u001b[0m\u001b[0;34m.\u001b[0m\u001b[0mTrace\u001b[0m\u001b[0;34m(\u001b[0m\u001b[0;34m'test'\u001b[0m\u001b[0;34m,\u001b[0m \u001b[0mstep_num\u001b[0m\u001b[0;34m=\u001b[0m\u001b[0mstep\u001b[0m\u001b[0;34m,\u001b[0m \u001b[0m_r\u001b[0m\u001b[0;34m=\u001b[0m\u001b[0;36m1\u001b[0m\u001b[0;34m)\u001b[0m\u001b[0;34m:\u001b[0m\u001b[0;34m\u001b[0m\u001b[0;34m\u001b[0m\u001b[0m\n\u001b[1;32m   1500\u001b[0m               \u001b[0mcallbacks\u001b[0m\u001b[0;34m.\u001b[0m\u001b[0mon_test_batch_begin\u001b[0m\u001b[0;34m(\u001b[0m\u001b[0mstep\u001b[0m\u001b[0;34m)\u001b[0m\u001b[0;34m\u001b[0m\u001b[0;34m\u001b[0m\u001b[0m\n\u001b[0;32m-> 1501\u001b[0;31m               \u001b[0mtmp_logs\u001b[0m \u001b[0;34m=\u001b[0m \u001b[0mself\u001b[0m\u001b[0;34m.\u001b[0m\u001b[0mtest_function\u001b[0m\u001b[0;34m(\u001b[0m\u001b[0miterator\u001b[0m\u001b[0;34m)\u001b[0m\u001b[0;34m\u001b[0m\u001b[0;34m\u001b[0m\u001b[0m\n\u001b[0m\u001b[1;32m   1502\u001b[0m               \u001b[0;32mif\u001b[0m \u001b[0mdata_handler\u001b[0m\u001b[0;34m.\u001b[0m\u001b[0mshould_sync\u001b[0m\u001b[0;34m:\u001b[0m\u001b[0;34m\u001b[0m\u001b[0;34m\u001b[0m\u001b[0m\n\u001b[1;32m   1503\u001b[0m                 \u001b[0mcontext\u001b[0m\u001b[0;34m.\u001b[0m\u001b[0masync_wait\u001b[0m\u001b[0;34m(\u001b[0m\u001b[0;34m)\u001b[0m\u001b[0;34m\u001b[0m\u001b[0;34m\u001b[0m\u001b[0m\n",
      "\u001b[0;32m~/miniforge3/envs/tfm1/lib/python3.9/site-packages/tensorflow/python/eager/def_function.py\u001b[0m in \u001b[0;36m__call__\u001b[0;34m(self, *args, **kwds)\u001b[0m\n\u001b[1;32m    883\u001b[0m \u001b[0;34m\u001b[0m\u001b[0m\n\u001b[1;32m    884\u001b[0m       \u001b[0;32mwith\u001b[0m \u001b[0mOptionalXlaContext\u001b[0m\u001b[0;34m(\u001b[0m\u001b[0mself\u001b[0m\u001b[0;34m.\u001b[0m\u001b[0m_jit_compile\u001b[0m\u001b[0;34m)\u001b[0m\u001b[0;34m:\u001b[0m\u001b[0;34m\u001b[0m\u001b[0;34m\u001b[0m\u001b[0m\n\u001b[0;32m--> 885\u001b[0;31m         \u001b[0mresult\u001b[0m \u001b[0;34m=\u001b[0m \u001b[0mself\u001b[0m\u001b[0;34m.\u001b[0m\u001b[0m_call\u001b[0m\u001b[0;34m(\u001b[0m\u001b[0;34m*\u001b[0m\u001b[0margs\u001b[0m\u001b[0;34m,\u001b[0m \u001b[0;34m**\u001b[0m\u001b[0mkwds\u001b[0m\u001b[0;34m)\u001b[0m\u001b[0;34m\u001b[0m\u001b[0;34m\u001b[0m\u001b[0m\n\u001b[0m\u001b[1;32m    886\u001b[0m \u001b[0;34m\u001b[0m\u001b[0m\n\u001b[1;32m    887\u001b[0m       \u001b[0mnew_tracing_count\u001b[0m \u001b[0;34m=\u001b[0m \u001b[0mself\u001b[0m\u001b[0;34m.\u001b[0m\u001b[0mexperimental_get_tracing_count\u001b[0m\u001b[0;34m(\u001b[0m\u001b[0;34m)\u001b[0m\u001b[0;34m\u001b[0m\u001b[0;34m\u001b[0m\u001b[0m\n",
      "\u001b[0;32m~/miniforge3/envs/tfm1/lib/python3.9/site-packages/tensorflow/python/eager/def_function.py\u001b[0m in \u001b[0;36m_call\u001b[0;34m(self, *args, **kwds)\u001b[0m\n\u001b[1;32m    922\u001b[0m       \u001b[0;31m# In this case we have not created variables on the first call. So we can\u001b[0m\u001b[0;34m\u001b[0m\u001b[0;34m\u001b[0m\u001b[0m\n\u001b[1;32m    923\u001b[0m       \u001b[0;31m# run the first trace but we should fail if variables are created.\u001b[0m\u001b[0;34m\u001b[0m\u001b[0;34m\u001b[0m\u001b[0m\n\u001b[0;32m--> 924\u001b[0;31m       \u001b[0mresults\u001b[0m \u001b[0;34m=\u001b[0m \u001b[0mself\u001b[0m\u001b[0;34m.\u001b[0m\u001b[0m_stateful_fn\u001b[0m\u001b[0;34m(\u001b[0m\u001b[0;34m*\u001b[0m\u001b[0margs\u001b[0m\u001b[0;34m,\u001b[0m \u001b[0;34m**\u001b[0m\u001b[0mkwds\u001b[0m\u001b[0;34m)\u001b[0m\u001b[0;34m\u001b[0m\u001b[0;34m\u001b[0m\u001b[0m\n\u001b[0m\u001b[1;32m    925\u001b[0m       \u001b[0;32mif\u001b[0m \u001b[0mself\u001b[0m\u001b[0;34m.\u001b[0m\u001b[0m_created_variables\u001b[0m \u001b[0;32mand\u001b[0m \u001b[0;32mnot\u001b[0m \u001b[0mALLOW_DYNAMIC_VARIABLE_CREATION\u001b[0m\u001b[0;34m:\u001b[0m\u001b[0;34m\u001b[0m\u001b[0;34m\u001b[0m\u001b[0m\n\u001b[1;32m    926\u001b[0m         raise ValueError(\"Creating variables on a non-first call to a function\"\n",
      "\u001b[0;32m~/miniforge3/envs/tfm1/lib/python3.9/site-packages/tensorflow/python/eager/function.py\u001b[0m in \u001b[0;36m__call__\u001b[0;34m(self, *args, **kwargs)\u001b[0m\n\u001b[1;32m   3037\u001b[0m       (graph_function,\n\u001b[1;32m   3038\u001b[0m        filtered_flat_args) = self._maybe_define_function(args, kwargs)\n\u001b[0;32m-> 3039\u001b[0;31m     return graph_function._call_flat(\n\u001b[0m\u001b[1;32m   3040\u001b[0m         filtered_flat_args, captured_inputs=graph_function.captured_inputs)  # pylint: disable=protected-access\n\u001b[1;32m   3041\u001b[0m \u001b[0;34m\u001b[0m\u001b[0m\n",
      "\u001b[0;32m~/miniforge3/envs/tfm1/lib/python3.9/site-packages/tensorflow/python/eager/function.py\u001b[0m in \u001b[0;36m_call_flat\u001b[0;34m(self, args, captured_inputs, cancellation_manager)\u001b[0m\n\u001b[1;32m   1961\u001b[0m         and executing_eagerly):\n\u001b[1;32m   1962\u001b[0m       \u001b[0;31m# No tape is watching; skip to running the function.\u001b[0m\u001b[0;34m\u001b[0m\u001b[0;34m\u001b[0m\u001b[0m\n\u001b[0;32m-> 1963\u001b[0;31m       return self._build_call_outputs(self._inference_function.call(\n\u001b[0m\u001b[1;32m   1964\u001b[0m           ctx, args, cancellation_manager=cancellation_manager))\n\u001b[1;32m   1965\u001b[0m     forward_backward = self._select_forward_and_backward_functions(\n",
      "\u001b[0;32m~/miniforge3/envs/tfm1/lib/python3.9/site-packages/tensorflow/python/eager/function.py\u001b[0m in \u001b[0;36mcall\u001b[0;34m(self, ctx, args, cancellation_manager)\u001b[0m\n\u001b[1;32m    589\u001b[0m       \u001b[0;32mwith\u001b[0m \u001b[0m_InterpolateFunctionError\u001b[0m\u001b[0;34m(\u001b[0m\u001b[0mself\u001b[0m\u001b[0;34m)\u001b[0m\u001b[0;34m:\u001b[0m\u001b[0;34m\u001b[0m\u001b[0;34m\u001b[0m\u001b[0m\n\u001b[1;32m    590\u001b[0m         \u001b[0;32mif\u001b[0m \u001b[0mcancellation_manager\u001b[0m \u001b[0;32mis\u001b[0m \u001b[0;32mNone\u001b[0m\u001b[0;34m:\u001b[0m\u001b[0;34m\u001b[0m\u001b[0;34m\u001b[0m\u001b[0m\n\u001b[0;32m--> 591\u001b[0;31m           outputs = execute.execute(\n\u001b[0m\u001b[1;32m    592\u001b[0m               \u001b[0mstr\u001b[0m\u001b[0;34m(\u001b[0m\u001b[0mself\u001b[0m\u001b[0;34m.\u001b[0m\u001b[0msignature\u001b[0m\u001b[0;34m.\u001b[0m\u001b[0mname\u001b[0m\u001b[0;34m)\u001b[0m\u001b[0;34m,\u001b[0m\u001b[0;34m\u001b[0m\u001b[0;34m\u001b[0m\u001b[0m\n\u001b[1;32m    593\u001b[0m               \u001b[0mnum_outputs\u001b[0m\u001b[0;34m=\u001b[0m\u001b[0mself\u001b[0m\u001b[0;34m.\u001b[0m\u001b[0m_num_outputs\u001b[0m\u001b[0;34m,\u001b[0m\u001b[0;34m\u001b[0m\u001b[0;34m\u001b[0m\u001b[0m\n",
      "\u001b[0;32m~/miniforge3/envs/tfm1/lib/python3.9/site-packages/tensorflow/python/eager/execute.py\u001b[0m in \u001b[0;36mquick_execute\u001b[0;34m(op_name, num_outputs, inputs, attrs, ctx, name)\u001b[0m\n\u001b[1;32m     57\u001b[0m   \u001b[0;32mtry\u001b[0m\u001b[0;34m:\u001b[0m\u001b[0;34m\u001b[0m\u001b[0;34m\u001b[0m\u001b[0m\n\u001b[1;32m     58\u001b[0m     \u001b[0mctx\u001b[0m\u001b[0;34m.\u001b[0m\u001b[0mensure_initialized\u001b[0m\u001b[0;34m(\u001b[0m\u001b[0;34m)\u001b[0m\u001b[0;34m\u001b[0m\u001b[0;34m\u001b[0m\u001b[0m\n\u001b[0;32m---> 59\u001b[0;31m     tensors = pywrap_tfe.TFE_Py_Execute(ctx._handle, device_name, op_name,\n\u001b[0m\u001b[1;32m     60\u001b[0m                                         inputs, attrs, num_outputs)\n\u001b[1;32m     61\u001b[0m   \u001b[0;32mexcept\u001b[0m \u001b[0mcore\u001b[0m\u001b[0;34m.\u001b[0m\u001b[0m_NotOkStatusException\u001b[0m \u001b[0;32mas\u001b[0m \u001b[0me\u001b[0m\u001b[0;34m:\u001b[0m\u001b[0;34m\u001b[0m\u001b[0;34m\u001b[0m\u001b[0m\n",
      "\u001b[0;31mKeyboardInterrupt\u001b[0m: "
     ]
    }
   ],
   "source": [
    "for subsetname in choice:\n",
    "\n",
    "    #raw\n",
    "    subset_raw = raw[subsetname]\n",
    "\n",
    "    tf.compat.v1.reset_default_graph()\n",
    "    with tf.device('/gpu:0'):\n",
    "        \n",
    "        model  = tf.keras.models.Sequential([\n",
    "            tf.keras.layers.Dense(1, activation='sigmoid', input_shape=(784,))])\n",
    "\n",
    "\n",
    "        model.compile(optimizer='adam',loss=\"binary_crossentropy\", metrics=['accuracy'])\n",
    "\n",
    "\n",
    "        hist = model.fit(\n",
    "            x=subset_raw[\"x_train\"],\n",
    "            y=subset_raw[\"y_train_binary\"],\n",
    "            epochs=10,\n",
    "            batch_size = 32,\n",
    "            validation_data=(subset_raw[\"x_test\"],subset_raw[\"y_test_binary\"])).history\n",
    "\n",
    "        h.store(hist,folder=\"featureimportance_pca/\"+subsetname,filename=\"hist\")\n",
    "\n",
    "        weights = model.trainable_weights[0].numpy()\n",
    "        bias = model.trainable_weights[1].numpy()\n",
    "\n",
    "        h.store(weights,folder=\"featureimportance_pca/\"+subsetname,filename=\"weights\")\n",
    "        h.store(bias,folder=\"featureimportance_pca/\"+subsetname,filename=\"bias\")\n",
    "\n",
    "        del model\n",
    "\n",
    "\n",
    "\n",
    "    \n",
    "\n"
   ]
  },
  {
   "cell_type": "markdown",
   "metadata": {},
   "source": [
    "# TODO PCA auf 30 wichtigste Feature anwenden und mit echtem PCA vergleichen"
   ]
  },
  {
   "cell_type": "code",
   "execution_count": 37,
   "metadata": {},
   "outputs": [
    {
     "name": "stdout",
     "output_type": "stream",
     "text": [
      "0,7\n"
     ]
    },
    {
     "data": {
      "image/png": "[encoded data removed]",
      "text/plain": [
       "<Figure size 720x360 with 2 Axes>"
      ]
     },
     "metadata": {
      "needs_background": "light"
     },
     "output_type": "display_data"
    },
    {
     "name": "stdout",
     "output_type": "stream",
     "text": [
      "Epoch 1/10\n",
      " 25/381 [>.............................] - ETA: 1s - loss: 34.0131 - accuracy: 0.7000"
     ]
    },
    {
     "name": "stderr",
     "output_type": "stream",
     "text": [
      "2022-01-06 12:55:28.431042: I tensorflow/core/grappler/optimizers/custom_graph_optimizer_registry.cc:112] Plugin optimizer for device_type GPU is enabled.\n"
     ]
    },
    {
     "name": "stdout",
     "output_type": "stream",
     "text": [
      "381/381 [==============================] - 2s 5ms/step - loss: 9.9462 - accuracy: 0.8774 - val_loss: 3.4001 - val_accuracy: 0.9363\n",
      "Epoch 2/10\n",
      "  1/381 [..............................] - ETA: 1s - loss: 3.9452 - accuracy: 0.8750"
     ]
    },
    {
     "name": "stderr",
     "output_type": "stream",
     "text": [
      "2022-01-06 12:55:30.285887: I tensorflow/core/grappler/optimizers/custom_graph_optimizer_registry.cc:112] Plugin optimizer for device_type GPU is enabled.\n"
     ]
    },
    {
     "name": "stdout",
     "output_type": "stream",
     "text": [
      "381/381 [==============================] - 2s 4ms/step - loss: 3.4019 - accuracy: 0.9363 - val_loss: 2.1099 - val_accuracy: 0.9547\n",
      "Epoch 3/10\n",
      "381/381 [==============================] - 2s 4ms/step - loss: 2.2063 - accuracy: 0.9537 - val_loss: 1.5973 - val_accuracy: 0.9626\n",
      "Epoch 4/10\n",
      "381/381 [==============================] - 2s 4ms/step - loss: 1.6443 - accuracy: 0.9621 - val_loss: 1.2186 - val_accuracy: 0.9686\n",
      "Epoch 5/10\n",
      "381/381 [==============================] - 2s 5ms/step - loss: 1.2842 - accuracy: 0.9673 - val_loss: 1.0141 - val_accuracy: 0.9751\n",
      "Epoch 6/10\n",
      "381/381 [==============================] - 2s 4ms/step - loss: 1.0326 - accuracy: 0.9714 - val_loss: 0.8752 - val_accuracy: 0.9761\n",
      "Epoch 7/10\n",
      "381/381 [==============================] - 2s 5ms/step - loss: 0.8465 - accuracy: 0.9731 - val_loss: 0.7122 - val_accuracy: 0.9776\n",
      "Epoch 8/10\n",
      "381/381 [==============================] - 2s 4ms/step - loss: 0.7061 - accuracy: 0.9751 - val_loss: 0.5902 - val_accuracy: 0.9801\n",
      "Epoch 9/10\n",
      "381/381 [==============================] - 2s 5ms/step - loss: 0.5915 - accuracy: 0.9766 - val_loss: 0.5259 - val_accuracy: 0.9816\n",
      "Epoch 10/10\n",
      "381/381 [==============================] - 2s 4ms/step - loss: 0.5063 - accuracy: 0.9780 - val_loss: 0.4684 - val_accuracy: 0.9791\n",
      "3,6\n"
     ]
    },
    {
     "data": {
      "image/png": "[encoded data removed]",
      "text/plain": [
       "<Figure size 720x360 with 2 Axes>"
      ]
     },
     "metadata": {
      "needs_background": "light"
     },
     "output_type": "display_data"
    },
    {
     "name": "stdout",
     "output_type": "stream",
     "text": [
      "Epoch 1/10\n",
      " 25/377 [>.............................] - ETA: 1s - loss: 45.5125 - accuracy: 0.5362 "
     ]
    },
    {
     "name": "stderr",
     "output_type": "stream",
     "text": [
      "2022-01-06 12:55:46.290688: I tensorflow/core/grappler/optimizers/custom_graph_optimizer_registry.cc:112] Plugin optimizer for device_type GPU is enabled.\n"
     ]
    },
    {
     "name": "stdout",
     "output_type": "stream",
     "text": [
      "377/377 [==============================] - 2s 5ms/step - loss: 17.2825 - accuracy: 0.7759 - val_loss: 6.3386 - val_accuracy: 0.8882\n",
      "Epoch 2/10\n",
      "  1/377 [..............................] - ETA: 1s - loss: 7.3803 - accuracy: 0.8438"
     ]
    },
    {
     "name": "stderr",
     "output_type": "stream",
     "text": [
      "2022-01-06 12:55:47.999484: I tensorflow/core/grappler/optimizers/custom_graph_optimizer_registry.cc:112] Plugin optimizer for device_type GPU is enabled.\n"
     ]
    },
    {
     "name": "stdout",
     "output_type": "stream",
     "text": [
      "377/377 [==============================] - 2s 4ms/step - loss: 5.6550 - accuracy: 0.9030 - val_loss: 3.1405 - val_accuracy: 0.9309\n",
      "Epoch 3/10\n",
      "377/377 [==============================] - 2s 4ms/step - loss: 3.2303 - accuracy: 0.9306 - val_loss: 2.0359 - val_accuracy: 0.9466\n",
      "Epoch 4/10\n",
      "377/377 [==============================] - 2s 4ms/step - loss: 2.0625 - accuracy: 0.9465 - val_loss: 1.4834 - val_accuracy: 0.9568\n",
      "Epoch 5/10\n",
      "377/377 [==============================] - 2s 5ms/step - loss: 1.3966 - accuracy: 0.9544 - val_loss: 1.2231 - val_accuracy: 0.9588\n",
      "Epoch 6/10\n",
      "377/377 [==============================] - 2s 5ms/step - loss: 1.0345 - accuracy: 0.9598 - val_loss: 0.8901 - val_accuracy: 0.9675\n",
      "Epoch 7/10\n",
      "377/377 [==============================] - 2s 5ms/step - loss: 0.7675 - accuracy: 0.9646 - val_loss: 0.7589 - val_accuracy: 0.9675\n",
      "Epoch 8/10\n",
      "377/377 [==============================] - 2s 5ms/step - loss: 0.6028 - accuracy: 0.9675 - val_loss: 0.6252 - val_accuracy: 0.9690\n",
      "Epoch 9/10\n",
      "377/377 [==============================] - 2s 5ms/step - loss: 0.4897 - accuracy: 0.9677 - val_loss: 0.5036 - val_accuracy: 0.9675\n",
      "Epoch 10/10\n",
      "377/377 [==============================] - 2s 5ms/step - loss: 0.4117 - accuracy: 0.9682 - val_loss: 0.3907 - val_accuracy: 0.9700\n",
      "0,5\n"
     ]
    },
    {
     "data": {
      "image/png": "[encoded data removed]",
      "text/plain": [
       "<Figure size 720x360 with 2 Axes>"
      ]
     },
     "metadata": {
      "needs_background": "light"
     },
     "output_type": "display_data"
    },
    {
     "name": "stdout",
     "output_type": "stream",
     "text": [
      "Epoch 1/10\n",
      " 24/355 [=>............................] - ETA: 1s - loss: 110.9298 - accuracy: 0.4753"
     ]
    },
    {
     "name": "stderr",
     "output_type": "stream",
     "text": [
      "2022-01-06 12:56:04.359050: I tensorflow/core/grappler/optimizers/custom_graph_optimizer_registry.cc:112] Plugin optimizer for device_type GPU is enabled.\n"
     ]
    },
    {
     "name": "stdout",
     "output_type": "stream",
     "text": [
      "355/355 [==============================] - 2s 5ms/step - loss: 52.4051 - accuracy: 0.5154 - val_loss: 19.6728 - val_accuracy: 0.6859\n",
      "Epoch 2/10\n",
      "  1/355 [..............................] - ETA: 1s - loss: 26.1340 - accuracy: 0.6250"
     ]
    },
    {
     "name": "stderr",
     "output_type": "stream",
     "text": [
      "2022-01-06 12:56:06.074086: I tensorflow/core/grappler/optimizers/custom_graph_optimizer_registry.cc:112] Plugin optimizer for device_type GPU is enabled.\n"
     ]
    },
    {
     "name": "stdout",
     "output_type": "stream",
     "text": [
      "355/355 [==============================] - 2s 4ms/step - loss: 12.7586 - accuracy: 0.7577 - val_loss: 6.0108 - val_accuracy: 0.8574\n",
      "Epoch 3/10\n",
      "355/355 [==============================] - 2s 4ms/step - loss: 5.3191 - accuracy: 0.8620 - val_loss: 2.7091 - val_accuracy: 0.9065\n",
      "Epoch 4/10\n",
      "355/355 [==============================] - 2s 4ms/step - loss: 2.8923 - accuracy: 0.8965 - val_loss: 1.5802 - val_accuracy: 0.9348\n",
      "Epoch 5/10\n",
      "355/355 [==============================] - 2s 5ms/step - loss: 1.8384 - accuracy: 0.9147 - val_loss: 1.1096 - val_accuracy: 0.9444\n",
      "Epoch 6/10\n",
      "355/355 [==============================] - 2s 5ms/step - loss: 1.3650 - accuracy: 0.9209 - val_loss: 0.8405 - val_accuracy: 0.9460\n",
      "Epoch 7/10\n",
      "355/355 [==============================] - 2s 5ms/step - loss: 1.0780 - accuracy: 0.9219 - val_loss: 0.6865 - val_accuracy: 0.9407\n",
      "Epoch 8/10\n",
      "355/355 [==============================] - 2s 4ms/step - loss: 0.8529 - accuracy: 0.9239 - val_loss: 0.5366 - val_accuracy: 0.9396\n",
      "Epoch 9/10\n",
      "355/355 [==============================] - 1s 4ms/step - loss: 0.6579 - accuracy: 0.9224 - val_loss: 0.3747 - val_accuracy: 0.9423\n",
      "Epoch 10/10\n",
      "355/355 [==============================] - 2s 4ms/step - loss: 0.4462 - accuracy: 0.9242 - val_loss: 0.2376 - val_accuracy: 0.9423\n",
      "6,9\n"
     ]
    },
    {
     "data": {
      "image/png": "[encoded data removed]",
      "text/plain": [
       "<Figure size 720x360 with 2 Axes>"
      ]
     },
     "metadata": {
      "needs_background": "light"
     },
     "output_type": "display_data"
    },
    {
     "name": "stdout",
     "output_type": "stream",
     "text": [
      "Epoch 1/10\n",
      " 26/371 [=>............................] - ETA: 1s - loss: 49.4383 - accuracy: 0.4014"
     ]
    },
    {
     "name": "stderr",
     "output_type": "stream",
     "text": [
      "2022-01-06 12:56:20.468586: I tensorflow/core/grappler/optimizers/custom_graph_optimizer_registry.cc:112] Plugin optimizer for device_type GPU is enabled.\n"
     ]
    },
    {
     "name": "stdout",
     "output_type": "stream",
     "text": [
      "371/371 [==============================] - 2s 6ms/step - loss: 17.2303 - accuracy: 0.7367 - val_loss: 5.4852 - val_accuracy: 0.8887\n",
      "Epoch 2/10\n",
      "  1/371 [..............................] - ETA: 1s - loss: 14.3851 - accuracy: 0.8438"
     ]
    },
    {
     "name": "stderr",
     "output_type": "stream",
     "text": [
      "2022-01-06 12:56:22.425259: I tensorflow/core/grappler/optimizers/custom_graph_optimizer_registry.cc:112] Plugin optimizer for device_type GPU is enabled.\n"
     ]
    },
    {
     "name": "stdout",
     "output_type": "stream",
     "text": [
      "371/371 [==============================] - 2s 5ms/step - loss: 3.7503 - accuracy: 0.9169 - val_loss: 2.6306 - val_accuracy: 0.9395\n",
      "Epoch 3/10\n",
      "371/371 [==============================] - 2s 5ms/step - loss: 1.9780 - accuracy: 0.9463 - val_loss: 1.7459 - val_accuracy: 0.9553\n",
      "Epoch 4/10\n",
      "371/371 [==============================] - 2s 4ms/step - loss: 1.3042 - accuracy: 0.9601 - val_loss: 1.3518 - val_accuracy: 0.9629\n",
      "Epoch 5/10\n",
      "371/371 [==============================] - 2s 4ms/step - loss: 0.9688 - accuracy: 0.9669 - val_loss: 1.0552 - val_accuracy: 0.9680\n",
      "Epoch 6/10\n",
      "371/371 [==============================] - 2s 4ms/step - loss: 0.7648 - accuracy: 0.9704 - val_loss: 0.8694 - val_accuracy: 0.9710\n",
      "Epoch 7/10\n",
      "371/371 [==============================] - 2s 4ms/step - loss: 0.6294 - accuracy: 0.9723 - val_loss: 0.7247 - val_accuracy: 0.9720\n",
      "Epoch 8/10\n",
      "371/371 [==============================] - 2s 5ms/step - loss: 0.5262 - accuracy: 0.9733 - val_loss: 0.6136 - val_accuracy: 0.9731\n",
      "Epoch 9/10\n",
      "371/371 [==============================] - 2s 4ms/step - loss: 0.4437 - accuracy: 0.9740 - val_loss: 0.5253 - val_accuracy: 0.9756\n",
      "Epoch 10/10\n",
      "371/371 [==============================] - 2s 4ms/step - loss: 0.3829 - accuracy: 0.9740 - val_loss: 0.4559 - val_accuracy: 0.9736\n",
      "5,6\n"
     ]
    },
    {
     "data": {
      "image/png": "[encoded data removed]",
      "text/plain": [
       "<Figure size 720x360 with 2 Axes>"
      ]
     },
     "metadata": {
      "needs_background": "light"
     },
     "output_type": "display_data"
    },
    {
     "name": "stdout",
     "output_type": "stream",
     "text": [
      "Epoch 1/10\n",
      " 28/355 [=>............................] - ETA: 1s - loss: 95.4572 - accuracy: 0.5279 "
     ]
    },
    {
     "name": "stderr",
     "output_type": "stream",
     "text": [
      "2022-01-06 12:56:37.410101: I tensorflow/core/grappler/optimizers/custom_graph_optimizer_registry.cc:112] Plugin optimizer for device_type GPU is enabled.\n"
     ]
    },
    {
     "name": "stdout",
     "output_type": "stream",
     "text": [
      "355/355 [==============================] - 2s 5ms/step - loss: 37.4642 - accuracy: 0.6590 - val_loss: 16.8014 - val_accuracy: 0.7584\n",
      "Epoch 2/10\n",
      "  1/355 [..............................] - ETA: 1s - loss: 8.6051 - accuracy: 0.8438"
     ]
    },
    {
     "name": "stderr",
     "output_type": "stream",
     "text": [
      "2022-01-06 12:56:39.100703: I tensorflow/core/grappler/optimizers/custom_graph_optimizer_registry.cc:112] Plugin optimizer for device_type GPU is enabled.\n"
     ]
    },
    {
     "name": "stdout",
     "output_type": "stream",
     "text": [
      "355/355 [==============================] - 1s 4ms/step - loss: 10.8414 - accuracy: 0.8189 - val_loss: 7.6829 - val_accuracy: 0.8584\n",
      "Epoch 3/10\n",
      "355/355 [==============================] - 1s 4ms/step - loss: 6.3716 - accuracy: 0.8732 - val_loss: 5.2639 - val_accuracy: 0.8886\n",
      "Epoch 4/10\n",
      "355/355 [==============================] - 1s 4ms/step - loss: 4.6573 - accuracy: 0.8954 - val_loss: 4.1316 - val_accuracy: 0.9038\n",
      "Epoch 5/10\n",
      "355/355 [==============================] - 1s 4ms/step - loss: 3.6823 - accuracy: 0.9078 - val_loss: 3.4941 - val_accuracy: 0.9119\n",
      "Epoch 6/10\n",
      "355/355 [==============================] - 1s 4ms/step - loss: 3.0182 - accuracy: 0.9118 - val_loss: 2.8316 - val_accuracy: 0.9200\n",
      "Epoch 7/10\n",
      "355/355 [==============================] - 1s 4ms/step - loss: 2.4804 - accuracy: 0.9157 - val_loss: 2.3403 - val_accuracy: 0.9216\n",
      "Epoch 8/10\n",
      "355/355 [==============================] - 1s 4ms/step - loss: 2.0280 - accuracy: 0.9175 - val_loss: 1.9261 - val_accuracy: 0.9205\n",
      "Epoch 9/10\n",
      "355/355 [==============================] - 1s 4ms/step - loss: 1.6233 - accuracy: 0.9180 - val_loss: 1.4811 - val_accuracy: 0.9211\n",
      "Epoch 10/10\n",
      "355/355 [==============================] - 1s 4ms/step - loss: 1.2295 - accuracy: 0.9182 - val_loss: 1.0889 - val_accuracy: 0.9232\n",
      "1,6\n"
     ]
    },
    {
     "data": {
      "image/png": "[encoded data removed]",
      "text/plain": [
       "<Figure size 720x360 with 2 Axes>"
      ]
     },
     "metadata": {
      "needs_background": "light"
     },
     "output_type": "display_data"
    },
    {
     "name": "stdout",
     "output_type": "stream",
     "text": [
      "Epoch 1/10\n",
      " 24/396 [>.............................] - ETA: 1s - loss: 83.7333 - accuracy: 0.5352 "
     ]
    },
    {
     "name": "stderr",
     "output_type": "stream",
     "text": [
      "2022-01-06 12:56:52.852523: I tensorflow/core/grappler/optimizers/custom_graph_optimizer_registry.cc:112] Plugin optimizer for device_type GPU is enabled.\n"
     ]
    },
    {
     "name": "stdout",
     "output_type": "stream",
     "text": [
      "396/396 [==============================] - 2s 5ms/step - loss: 19.9188 - accuracy: 0.7558 - val_loss: 4.6835 - val_accuracy: 0.9040\n",
      "Epoch 2/10\n",
      "  1/396 [..............................] - ETA: 1s - loss: 1.1258 - accuracy: 0.9375"
     ]
    },
    {
     "name": "stderr",
     "output_type": "stream",
     "text": [
      "2022-01-06 12:56:54.710650: I tensorflow/core/grappler/optimizers/custom_graph_optimizer_registry.cc:112] Plugin optimizer for device_type GPU is enabled.\n"
     ]
    },
    {
     "name": "stdout",
     "output_type": "stream",
     "text": [
      "396/396 [==============================] - 2s 4ms/step - loss: 3.7380 - accuracy: 0.9269 - val_loss: 2.4612 - val_accuracy: 0.9474\n",
      "Epoch 3/10\n",
      "396/396 [==============================] - 2s 4ms/step - loss: 2.3467 - accuracy: 0.9536 - val_loss: 1.5902 - val_accuracy: 0.9642\n",
      "Epoch 4/10\n",
      "396/396 [==============================] - 2s 4ms/step - loss: 1.6435 - accuracy: 0.9645 - val_loss: 1.1085 - val_accuracy: 0.9718\n",
      "Epoch 5/10\n",
      "396/396 [==============================] - 2s 4ms/step - loss: 1.2364 - accuracy: 0.9730 - val_loss: 0.8412 - val_accuracy: 0.9766\n",
      "Epoch 6/10\n",
      "396/396 [==============================] - 2s 4ms/step - loss: 0.9702 - accuracy: 0.9767 - val_loss: 0.6558 - val_accuracy: 0.9828\n",
      "Epoch 7/10\n",
      "396/396 [==============================] - 2s 4ms/step - loss: 0.7889 - accuracy: 0.9799 - val_loss: 0.5665 - val_accuracy: 0.9861\n",
      "Epoch 8/10\n",
      "396/396 [==============================] - 2s 4ms/step - loss: 0.6328 - accuracy: 0.9821 - val_loss: 0.5188 - val_accuracy: 0.9871\n",
      "Epoch 9/10\n",
      "396/396 [==============================] - 2s 4ms/step - loss: 0.5480 - accuracy: 0.9838 - val_loss: 0.4560 - val_accuracy: 0.9885\n",
      "Epoch 10/10\n",
      "396/396 [==============================] - 2s 4ms/step - loss: 0.4501 - accuracy: 0.9858 - val_loss: 0.4139 - val_accuracy: 0.9895\n"
     ]
    }
   ],
   "source": [
    "for subset in os.listdir(\"measure/featureimportance_pca/raw\"):\n",
    "    print(subset)\n",
    "\n",
    "    weights = np.load(\"measure/featureimportance_pca/raw/\"+subset+\"/weights.npy\")\n",
    "    input = raw[subset][\"x_train\"]/255\n",
    "\n",
    "    importance = np.abs(input.mean(axis=0).reshape(784,1) * weights)\n",
    "\n",
    "\n",
    "    fig,ax = plt.subplots(1,2,figsize=(10,5))\n",
    "    ax[0].imshow(importance.reshape(28,28),cmap=\"gray\")\n",
    "    \n",
    "\n",
    "    rank = importance.reshape(784).argsort().argsort()\n",
    "\n",
    "    #get top 30\n",
    "    top30index= np.where(rank>=784-30)[0]\n",
    "\n",
    "    x_trainnew = raw[subset][\"x_train\"][:,top30index]\n",
    "    x_testnew = raw[subset][\"x_test\"][:,top30index]\n",
    "\n",
    "    h.store(x_trainnew,folder=\"data/top30/\"+subset,filename=\"x_train\")\n",
    "    h.store(x_testnew,folder=\"data/top30/\"+subset,filename=\"x_test\")\n",
    "\n",
    "\n",
    "    blanks = np.zeros(784)\n",
    "    blanks[top30index] = 255\n",
    "    ax[1].imshow(blanks.reshape(28,28),cmap=\"gray\")\n",
    "    plt.show()\n",
    "\n",
    "    \n",
    "\n",
    "    tf.compat.v1.reset_default_graph()\n",
    "    with tf.device('/gpu:0'):\n",
    "            \n",
    "        model  = tf.keras.models.Sequential([\n",
    "            tf.keras.layers.Dense(1, activation='sigmoid', input_shape=(30,))])\n",
    "\n",
    "\n",
    "        model.compile(optimizer='adam',loss=\"binary_crossentropy\", metrics=['accuracy'])\n",
    "\n",
    "\n",
    "        hist = model.fit(\n",
    "            x=x_trainnew,\n",
    "            y=raw[subset][\"y_train_binary\"],\n",
    "            epochs=10,\n",
    "            batch_size = 32,\n",
    "            validation_data=(x_testnew,raw[subset][\"y_test_binary\"])).history\n",
    "\n",
    "        h.store(hist,folder=\"measure/featureimportance_pca/top30/\"+subset,filename=\"hist\")\n",
    "        \n",
    "        weights = model.trainable_weights[0].numpy()\n",
    "        bias = model.trainable_weights[1].numpy()\n",
    "\n",
    "        h.store(weights,folder=\"measure/featureimportance_pca/top30/\"+subset,filename=\"weights\")\n",
    "        h.store(bias,folder=\"measure/featureimportance_pca/top30/\"+subset,filename=\"bias\")"
   ]
  },
  {
   "cell_type": "code",
   "execution_count": 16,
   "metadata": {},
   "outputs": [],
   "source": [
    "import json"
   ]
  },
  {
   "cell_type": "code",
   "execution_count": 53,
   "metadata": {},
   "outputs": [
    {
     "data": {
      "image/png": "[encoded data removed]",
      "text/plain": [
       "<Figure size 720x576 with 1 Axes>"
      ]
     },
     "metadata": {
      "needs_background": "light"
     },
     "output_type": "display_data"
    }
   ],
   "source": [
    "plt.figure(figsize=(10,8))\n",
    "for subsetname in os.listdir(\"measure/featureimportance_pca/raw\"):\n",
    "    hist_raw = json.load(open(\"measure/featureimportance_pca/raw/\"+subsetname+\"/hist.json\"))\n",
    "    hist_top30 = json.load(open(\"measure/featureimportance_pca/top30/\"+subsetname+\"/hist.json\"))\n",
    "\n",
    "\n",
    "    val_acc_raw = np.array(hist_raw[\"val_accuracy\"])\n",
    "    val_acc_top30 = np.array(hist_top30[\"val_accuracy\"])\n",
    "\n",
    "    plt.plot(val_acc_raw-val_acc_top30,label=subsetname+\" diff:{:.3f}\".format(val_acc_raw[-1]-val_acc_top30[-1]))\n",
    "\n",
    "\n",
    "plt.ylabel(\"Val Accuracy: Raw - Top30\")\n",
    "plt.xlabel(\"Epochs\")\n",
    "plt.grid(axis=\"y\")\n",
    "plt.legend()\n",
    "plt.show()\n"
   ]
  },
  {
   "cell_type": "code",
   "execution_count": 41,
   "metadata": {},
   "outputs": [
    {
     "name": "stdout",
     "output_type": "stream",
     "text": [
      "0,7\n",
      "Epoch 1/10\n",
      " 25/381 [>.............................] - ETA: 1s - loss: 208.9538 - accuracy: 0.2100"
     ]
    },
    {
     "name": "stderr",
     "output_type": "stream",
     "text": [
      "2022-01-06 13:06:46.291084: I tensorflow/core/grappler/optimizers/custom_graph_optimizer_registry.cc:112] Plugin optimizer for device_type GPU is enabled.\n"
     ]
    },
    {
     "name": "stdout",
     "output_type": "stream",
     "text": [
      "381/381 [==============================] - 2s 5ms/step - loss: 149.8963 - accuracy: 0.2488 - val_loss: 96.3327 - val_accuracy: 0.3187\n",
      "Epoch 2/10\n",
      "  1/381 [..............................] - ETA: 1s - loss: 95.8758 - accuracy: 0.2812"
     ]
    },
    {
     "name": "stderr",
     "output_type": "stream",
     "text": [
      "2022-01-06 13:06:48.118028: I tensorflow/core/grappler/optimizers/custom_graph_optimizer_registry.cc:112] Plugin optimizer for device_type GPU is enabled.\n"
     ]
    },
    {
     "name": "stdout",
     "output_type": "stream",
     "text": [
      "381/381 [==============================] - 2s 4ms/step - loss: 50.3777 - accuracy: 0.4421 - val_loss: 13.1791 - val_accuracy: 0.6345\n",
      "Epoch 3/10\n",
      "381/381 [==============================] - 2s 4ms/step - loss: 3.1949 - accuracy: 0.8477 - val_loss: 0.5397 - val_accuracy: 0.9472\n",
      "Epoch 4/10\n",
      "381/381 [==============================] - 2s 4ms/step - loss: 0.3811 - accuracy: 0.9580 - val_loss: 0.2071 - val_accuracy: 0.9641\n",
      "Epoch 5/10\n",
      "381/381 [==============================] - 2s 4ms/step - loss: 0.2732 - accuracy: 0.9635 - val_loss: 0.1893 - val_accuracy: 0.9622\n",
      "Epoch 6/10\n",
      "381/381 [==============================] - 2s 4ms/step - loss: 0.2413 - accuracy: 0.9627 - val_loss: 0.1818 - val_accuracy: 0.9622\n",
      "Epoch 7/10\n",
      "381/381 [==============================] - 2s 5ms/step - loss: 0.2084 - accuracy: 0.9633 - val_loss: 0.1342 - val_accuracy: 0.9656\n",
      "Epoch 8/10\n",
      "381/381 [==============================] - 2s 4ms/step - loss: 0.1676 - accuracy: 0.9636 - val_loss: 0.1345 - val_accuracy: 0.9617\n",
      "Epoch 9/10\n",
      "381/381 [==============================] - 2s 5ms/step - loss: 0.1291 - accuracy: 0.9633 - val_loss: 0.0857 - val_accuracy: 0.9661\n",
      "Epoch 10/10\n",
      "381/381 [==============================] - 2s 4ms/step - loss: 0.1001 - accuracy: 0.9644 - val_loss: 0.0789 - val_accuracy: 0.9656\n",
      "3,6\n",
      "Epoch 1/10\n",
      " 26/377 [=>............................] - ETA: 1s - loss: 83.8279 - accuracy: 0.5541"
     ]
    },
    {
     "name": "stderr",
     "output_type": "stream",
     "text": [
      "2022-01-06 13:07:03.811349: I tensorflow/core/grappler/optimizers/custom_graph_optimizer_registry.cc:112] Plugin optimizer for device_type GPU is enabled.\n"
     ]
    },
    {
     "name": "stdout",
     "output_type": "stream",
     "text": [
      "377/377 [==============================] - 2s 5ms/step - loss: 55.3397 - accuracy: 0.6451 - val_loss: 36.1696 - val_accuracy: 0.7104\n",
      "Epoch 2/10\n",
      "  1/377 [..............................] - ETA: 1s - loss: 40.7516 - accuracy: 0.7812"
     ]
    },
    {
     "name": "stderr",
     "output_type": "stream",
     "text": [
      "2022-01-06 13:07:05.660996: I tensorflow/core/grappler/optimizers/custom_graph_optimizer_registry.cc:112] Plugin optimizer for device_type GPU is enabled.\n"
     ]
    },
    {
     "name": "stdout",
     "output_type": "stream",
     "text": [
      "377/377 [==============================] - 2s 4ms/step - loss: 19.9420 - accuracy: 0.8069 - val_loss: 14.0092 - val_accuracy: 0.8455\n",
      "Epoch 3/10\n",
      "377/377 [==============================] - 2s 4ms/step - loss: 8.8131 - accuracy: 0.8861 - val_loss: 7.1227 - val_accuracy: 0.9019\n",
      "Epoch 4/10\n",
      "377/377 [==============================] - 2s 4ms/step - loss: 5.0122 - accuracy: 0.9222 - val_loss: 4.3288 - val_accuracy: 0.9294\n",
      "Epoch 5/10\n",
      "377/377 [==============================] - 2s 4ms/step - loss: 3.3819 - accuracy: 0.9375 - val_loss: 3.0413 - val_accuracy: 0.9400\n",
      "Epoch 6/10\n",
      "377/377 [==============================] - 2s 4ms/step - loss: 2.5666 - accuracy: 0.9457 - val_loss: 2.2868 - val_accuracy: 0.9456\n",
      "Epoch 7/10\n",
      "377/377 [==============================] - 2s 4ms/step - loss: 2.0715 - accuracy: 0.9487 - val_loss: 1.7527 - val_accuracy: 0.9487\n",
      "Epoch 8/10\n",
      "377/377 [==============================] - ETA: 0s - loss: 1.6367 - accuracy: 0.94 - 2s 4ms/step - loss: 1.6357 - accuracy: 0.9495 - val_loss: 1.3151 - val_accuracy: 0.9512\n",
      "Epoch 9/10\n",
      "377/377 [==============================] - 2s 4ms/step - loss: 1.1890 - accuracy: 0.9505 - val_loss: 0.8734 - val_accuracy: 0.9507\n",
      "Epoch 10/10\n",
      "377/377 [==============================] - 2s 4ms/step - loss: 0.6875 - accuracy: 0.9510 - val_loss: 0.3804 - val_accuracy: 0.9512\n",
      "0,5\n",
      "Epoch 1/10\n",
      " 26/355 [=>............................] - ETA: 1s - loss: 154.1312 - accuracy: 0.2404"
     ]
    },
    {
     "name": "stderr",
     "output_type": "stream",
     "text": [
      "2022-01-06 13:07:20.664706: I tensorflow/core/grappler/optimizers/custom_graph_optimizer_registry.cc:112] Plugin optimizer for device_type GPU is enabled.\n"
     ]
    },
    {
     "name": "stdout",
     "output_type": "stream",
     "text": [
      "355/355 [==============================] - 2s 5ms/step - loss: 115.7096 - accuracy: 0.2698 - val_loss: 77.3940 - val_accuracy: 0.3088\n",
      "Epoch 2/10\n",
      "  1/355 [..............................] - ETA: 1s - loss: 48.3204 - accuracy: 0.2812"
     ]
    },
    {
     "name": "stderr",
     "output_type": "stream",
     "text": [
      "2022-01-06 13:07:22.308786: I tensorflow/core/grappler/optimizers/custom_graph_optimizer_registry.cc:112] Plugin optimizer for device_type GPU is enabled.\n"
     ]
    },
    {
     "name": "stdout",
     "output_type": "stream",
     "text": [
      "355/355 [==============================] - 2s 4ms/step - loss: 37.9187 - accuracy: 0.4684 - val_loss: 16.5554 - val_accuracy: 0.5962\n",
      "Epoch 3/10\n",
      "355/355 [==============================] - 2s 5ms/step - loss: 6.0346 - accuracy: 0.7572 - val_loss: 2.0256 - val_accuracy: 0.8381\n",
      "Epoch 4/10\n",
      "355/355 [==============================] - 2s 5ms/step - loss: 1.2167 - accuracy: 0.8724 - val_loss: 0.5620 - val_accuracy: 0.8825\n",
      "Epoch 5/10\n",
      "355/355 [==============================] - 2s 4ms/step - loss: 0.3789 - accuracy: 0.8813 - val_loss: 0.2908 - val_accuracy: 0.8771\n",
      "Epoch 6/10\n",
      "355/355 [==============================] - 2s 5ms/step - loss: 0.3061 - accuracy: 0.8798 - val_loss: 0.2950 - val_accuracy: 0.8798\n",
      "Epoch 7/10\n",
      "355/355 [==============================] - 2s 5ms/step - loss: 0.3060 - accuracy: 0.8796 - val_loss: 0.2847 - val_accuracy: 0.8830\n",
      "Epoch 8/10\n",
      "355/355 [==============================] - 2s 4ms/step - loss: 0.3068 - accuracy: 0.8789 - val_loss: 0.2880 - val_accuracy: 0.8825\n",
      "Epoch 9/10\n",
      "355/355 [==============================] - 2s 5ms/step - loss: 0.3081 - accuracy: 0.8781 - val_loss: 0.2944 - val_accuracy: 0.8787\n",
      "Epoch 10/10\n",
      "355/355 [==============================] - 2s 4ms/step - loss: 0.3083 - accuracy: 0.8766 - val_loss: 0.2836 - val_accuracy: 0.8841\n",
      "6,9\n",
      "Epoch 1/10\n",
      " 26/371 [=>............................] - ETA: 1s - loss: 34.8751 - accuracy: 0.7728"
     ]
    },
    {
     "name": "stderr",
     "output_type": "stream",
     "text": [
      "2022-01-06 13:07:37.203811: I tensorflow/core/grappler/optimizers/custom_graph_optimizer_registry.cc:112] Plugin optimizer for device_type GPU is enabled.\n"
     ]
    },
    {
     "name": "stdout",
     "output_type": "stream",
     "text": [
      "371/371 [==============================] - 2s 5ms/step - loss: 21.7361 - accuracy: 0.8396 - val_loss: 13.5030 - val_accuracy: 0.8917\n",
      "Epoch 2/10\n",
      "  1/371 [..............................] - ETA: 1s - loss: 10.8625 - accuracy: 0.9688"
     ]
    },
    {
     "name": "stderr",
     "output_type": "stream",
     "text": [
      "2022-01-06 13:07:38.984546: I tensorflow/core/grappler/optimizers/custom_graph_optimizer_registry.cc:112] Plugin optimizer for device_type GPU is enabled.\n"
     ]
    },
    {
     "name": "stdout",
     "output_type": "stream",
     "text": [
      "371/371 [==============================] - 2s 4ms/step - loss: 9.6535 - accuracy: 0.9147 - val_loss: 7.5625 - val_accuracy: 0.9278\n",
      "Epoch 3/10\n",
      "371/371 [==============================] - 2s 4ms/step - loss: 5.8325 - accuracy: 0.9404 - val_loss: 4.9835 - val_accuracy: 0.9487\n",
      "Epoch 4/10\n",
      "371/371 [==============================] - 2s 4ms/step - loss: 3.9632 - accuracy: 0.9537 - val_loss: 3.5871 - val_accuracy: 0.9568\n",
      "Epoch 5/10\n",
      "371/371 [==============================] - 2s 4ms/step - loss: 2.9656 - accuracy: 0.9606 - val_loss: 2.8316 - val_accuracy: 0.9614\n",
      "Epoch 6/10\n",
      "371/371 [==============================] - 2s 4ms/step - loss: 2.3927 - accuracy: 0.9633 - val_loss: 2.3325 - val_accuracy: 0.9644\n",
      "Epoch 7/10\n",
      "371/371 [==============================] - 2s 4ms/step - loss: 1.9848 - accuracy: 0.9629 - val_loss: 1.9556 - val_accuracy: 0.9664\n",
      "Epoch 8/10\n",
      "371/371 [==============================] - 2s 4ms/step - loss: 1.6562 - accuracy: 0.9633 - val_loss: 1.6027 - val_accuracy: 0.9680\n",
      "Epoch 9/10\n",
      "371/371 [==============================] - 2s 4ms/step - loss: 1.3241 - accuracy: 0.9635 - val_loss: 1.2345 - val_accuracy: 0.9670\n",
      "Epoch 10/10\n",
      "371/371 [==============================] - 2s 4ms/step - loss: 0.9785 - accuracy: 0.9628 - val_loss: 0.8511 - val_accuracy: 0.9680\n",
      "5,6\n",
      "Epoch 1/10\n",
      " 26/355 [=>............................] - ETA: 1s - loss: 119.9104 - accuracy: 0.3582"
     ]
    },
    {
     "name": "stderr",
     "output_type": "stream",
     "text": [
      "2022-01-06 13:07:53.890278: I tensorflow/core/grappler/optimizers/custom_graph_optimizer_registry.cc:112] Plugin optimizer for device_type GPU is enabled.\n"
     ]
    },
    {
     "name": "stdout",
     "output_type": "stream",
     "text": [
      "355/355 [==============================] - 2s 5ms/step - loss: 107.6244 - accuracy: 0.3508 - val_loss: 79.9043 - val_accuracy: 0.3514\n",
      "Epoch 2/10\n",
      "  1/355 [..............................] - ETA: 1s - loss: 86.5408 - accuracy: 0.4688"
     ]
    },
    {
     "name": "stderr",
     "output_type": "stream",
     "text": [
      "2022-01-06 13:07:55.525831: I tensorflow/core/grappler/optimizers/custom_graph_optimizer_registry.cc:112] Plugin optimizer for device_type GPU is enabled.\n"
     ]
    },
    {
     "name": "stdout",
     "output_type": "stream",
     "text": [
      "355/355 [==============================] - 2s 4ms/step - loss: 53.6510 - accuracy: 0.3693 - val_loss: 26.3697 - val_accuracy: 0.3719\n",
      "Epoch 3/10\n",
      "355/355 [==============================] - 2s 4ms/step - loss: 6.7647 - accuracy: 0.6445 - val_loss: 0.2331 - val_accuracy: 0.9054\n",
      "Epoch 4/10\n",
      "355/355 [==============================] - 2s 5ms/step - loss: 0.2270 - accuracy: 0.9011 - val_loss: 0.2292 - val_accuracy: 0.9059\n",
      "Epoch 5/10\n",
      "355/355 [==============================] - 2s 4ms/step - loss: 0.2274 - accuracy: 0.9018 - val_loss: 0.2338 - val_accuracy: 0.9043\n",
      "Epoch 6/10\n",
      "355/355 [==============================] - 2s 5ms/step - loss: 0.2265 - accuracy: 0.9007 - val_loss: 0.2266 - val_accuracy: 0.9081\n",
      "Epoch 7/10\n",
      "355/355 [==============================] - 2s 5ms/step - loss: 0.2271 - accuracy: 0.9012 - val_loss: 0.2268 - val_accuracy: 0.9092\n",
      "Epoch 8/10\n",
      "355/355 [==============================] - 2s 4ms/step - loss: 0.2267 - accuracy: 0.9016 - val_loss: 0.2374 - val_accuracy: 0.8995\n",
      "Epoch 9/10\n",
      "355/355 [==============================] - 2s 4ms/step - loss: 0.2269 - accuracy: 0.9030 - val_loss: 0.2341 - val_accuracy: 0.9043\n",
      "Epoch 10/10\n",
      "355/355 [==============================] - 1s 4ms/step - loss: 0.2278 - accuracy: 0.9017 - val_loss: 0.2301 - val_accuracy: 0.9092\n",
      "1,6\n",
      "Epoch 1/10\n",
      " 25/396 [>.............................] - ETA: 1s - loss: 126.7857 - accuracy: 0.5475"
     ]
    },
    {
     "name": "stderr",
     "output_type": "stream",
     "text": [
      "2022-01-06 13:08:09.923536: I tensorflow/core/grappler/optimizers/custom_graph_optimizer_registry.cc:112] Plugin optimizer for device_type GPU is enabled.\n"
     ]
    },
    {
     "name": "stdout",
     "output_type": "stream",
     "text": [
      "396/396 [==============================] - 2s 5ms/step - loss: 82.5107 - accuracy: 0.6305 - val_loss: 52.1756 - val_accuracy: 0.6813\n"
     ]
    },
    {
     "name": "stderr",
     "output_type": "stream",
     "text": [
      "2022-01-06 13:08:11.834821: I tensorflow/core/grappler/optimizers/custom_graph_optimizer_registry.cc:112] Plugin optimizer for device_type GPU is enabled.\n"
     ]
    },
    {
     "name": "stdout",
     "output_type": "stream",
     "text": [
      "Epoch 2/10\n",
      "396/396 [==============================] - 2s 5ms/step - loss: 28.4243 - accuracy: 0.7699 - val_loss: 12.8492 - val_accuracy: 0.8294\n",
      "Epoch 3/10\n",
      "396/396 [==============================] - 2s 4ms/step - loss: 6.3362 - accuracy: 0.8882 - val_loss: 2.7302 - val_accuracy: 0.9393\n",
      "Epoch 4/10\n",
      "396/396 [==============================] - 2s 4ms/step - loss: 2.9305 - accuracy: 0.9454 - val_loss: 1.7711 - val_accuracy: 0.9608\n",
      "Epoch 5/10\n",
      "396/396 [==============================] - 2s 5ms/step - loss: 2.2466 - accuracy: 0.9579 - val_loss: 1.3206 - val_accuracy: 0.9704\n",
      "Epoch 6/10\n",
      "396/396 [==============================] - 2s 4ms/step - loss: 1.7988 - accuracy: 0.9645 - val_loss: 1.0323 - val_accuracy: 0.9752\n",
      "Epoch 7/10\n",
      "396/396 [==============================] - 2s 4ms/step - loss: 1.4318 - accuracy: 0.9683 - val_loss: 0.8020 - val_accuracy: 0.9775\n",
      "Epoch 8/10\n",
      "396/396 [==============================] - 2s 5ms/step - loss: 1.0995 - accuracy: 0.9724 - val_loss: 0.6042 - val_accuracy: 0.9809\n",
      "Epoch 9/10\n",
      "396/396 [==============================] - 2s 4ms/step - loss: 0.8251 - accuracy: 0.9750 - val_loss: 0.4700 - val_accuracy: 0.9833\n",
      "Epoch 10/10\n",
      "396/396 [==============================] - 2s 4ms/step - loss: 0.6114 - accuracy: 0.9754 - val_loss: 0.3710 - val_accuracy: 0.9833\n"
     ]
    }
   ],
   "source": [
    "for subsetname in os.listdir(\"measure/featureimportance_pca/raw\"):\n",
    "    \n",
    "    #apply pca\n",
    "    print(subsetname)\n",
    "\n",
    "    xtrain = np.load(\"data/top30/\"+subsetname+\"/x_train.npy\")\n",
    "    xtest = np.load(\"data/top30/\"+subsetname+\"/x_test.npy\")\n",
    "\n",
    "    pca = PCA(n_components=4).fit(xtrain)\n",
    "    xtrain_pca = pca.transform(xtrain)\n",
    "    xtest_pca = pca.transform(xtest)\n",
    "\n",
    "    h.store(xtrain_pca,folder=\"data/top30pca/\"+subsetname,filename=\"x_train\")\n",
    "    h.store(xtest_pca,folder=\"data/top30pca/\"+subsetname,filename=\"x_test\")\n",
    "\n",
    "    tf.compat.v1.reset_default_graph()\n",
    "    with tf.device('/gpu:0'):\n",
    "            \n",
    "        model  = tf.keras.models.Sequential([\n",
    "            tf.keras.layers.Dense(1, activation='sigmoid', input_shape=(4,))])\n",
    "\n",
    "\n",
    "        model.compile(optimizer='adam',loss=\"binary_crossentropy\", metrics=['accuracy'])\n",
    "\n",
    "\n",
    "        hist = model.fit(\n",
    "            x=xtrain_pca,\n",
    "            y=raw[subsetname][\"y_train_binary\"],\n",
    "            epochs=10,\n",
    "            batch_size = 32,\n",
    "            validation_data=(xtest_pca,raw[subsetname][\"y_test_binary\"])).history\n",
    "\n",
    "        h.store(hist,folder=\"measure/featureimportance_pca/top30pca/\"+subsetname,filename=\"hist\")\n",
    "        \n",
    "        weights = model.trainable_weights[0].numpy()\n",
    "        bias = model.trainable_weights[1].numpy()\n",
    "\n",
    "        h.store(weights,folder=\"measure/featureimportance_pca/top30pca/\"+subsetname,filename=\"weights\")\n",
    "        h.store(bias,folder=\"measure/featureimportance_pca/top30pca/\"+subsetname,filename=\"bias\")\n",
    "\n"
   ]
  },
  {
   "cell_type": "code",
   "execution_count": 52,
   "metadata": {},
   "outputs": [
    {
     "data": {
      "image/png": "[encoded data removed]",
      "text/plain": [
       "<Figure size 720x576 with 1 Axes>"
      ]
     },
     "metadata": {
      "needs_background": "light"
     },
     "output_type": "display_data"
    }
   ],
   "source": [
    "# plot difference between top30 and top30pca\n",
    "plt.figure(figsize=(10,8))\n",
    "for subsetname in os.listdir(\"measure/featureimportance_pca/top30\"):\n",
    "\n",
    "    hist_top30 = json.load(open(\"measure/featureimportance_pca/top30/\"+subsetname+\"/hist.json\"))\n",
    "    hist_top30pca = json.load(open(\"measure/featureimportance_pca/top30pca/\"+subsetname+\"/hist.json\"))\n",
    "\n",
    "\n",
    "    val_acc_top30 = np.array(hist_top30[\"val_accuracy\"])\n",
    "    val_acc_top30pca = np.array(hist_top30pca[\"val_accuracy\"])\n",
    "\n",
    "    plt.plot(val_acc_top30-val_acc_top30pca,label=subsetname+\" diff:{:.3f}\".format(val_acc_top30[-1]-val_acc_top30pca[-1]))\n",
    "\n",
    "\n",
    "plt.yticks(np.arange(0,0.7,0.05))\n",
    "plt.grid(axis=\"y\")\n",
    "plt.legend()\n",
    "plt.ylabel(\"Val Accuracy: Top30 - Top30PCA\")\n",
    "plt.xlabel(\"Epochs\")\n",
    "plt.show()"
   ]
  },
  {
   "cell_type": "code",
   "execution_count": 54,
   "metadata": {},
   "outputs": [
    {
     "data": {
      "image/png": "[encoded data removed]",
      "text/plain": [
       "<Figure size 720x576 with 1 Axes>"
      ]
     },
     "metadata": {
      "needs_background": "light"
     },
     "output_type": "display_data"
    }
   ],
   "source": [
    "#plot diff between raw and top30pca\n",
    "plt.figure(figsize=(10,8))\n",
    "for subsetname in os.listdir(\"measure/featureimportance_pca/raw\"):\n",
    "    \n",
    "    hist_raw = json.load(open(\"measure/featureimportance_pca/raw/\"+subsetname+\"/hist.json\"))\n",
    "    hist_top30pca = json.load(open(\"measure/featureimportance_pca/top30pca/\"+subsetname+\"/hist.json\"))\n",
    "\n",
    "\n",
    "    val_acc_raw = np.array(hist_raw[\"val_accuracy\"])\n",
    "    val_acc_top30pca = np.array(hist_top30pca[\"val_accuracy\"])\n",
    "\n",
    "    plt.plot(val_acc_raw-val_acc_top30pca,label=subsetname+\" diff:{:.3f}\".format(val_acc_raw[-1]-val_acc_top30pca[-1]))\n",
    "\n",
    "\n",
    "\n",
    "plt.yticks(np.arange(0,0.7,0.05))\n",
    "plt.grid(axis=\"y\")\n",
    "plt.legend()\n",
    "plt.ylabel(\"Val Accuracy: Raw - Top30PCA\")\n",
    "plt.xlabel(\"Epochs\")\n",
    "plt.show()\n"
   ]
  },
  {
   "cell_type": "code",
   "execution_count": 57,
   "metadata": {},
   "outputs": [
    {
     "name": "stderr",
     "output_type": "stream",
     "text": [
      "2022-01-06 13:18:14.655967: I tensorflow/core/grappler/optimizers/custom_graph_optimizer_registry.cc:112] Plugin optimizer for device_type GPU is enabled.\n",
      "2022-01-06 13:18:15.961498: I tensorflow/core/grappler/optimizers/custom_graph_optimizer_registry.cc:112] Plugin optimizer for device_type GPU is enabled.\n",
      "2022-01-06 13:18:28.529625: I tensorflow/core/grappler/optimizers/custom_graph_optimizer_registry.cc:112] Plugin optimizer for device_type GPU is enabled.\n",
      "2022-01-06 13:18:29.929238: I tensorflow/core/grappler/optimizers/custom_graph_optimizer_registry.cc:112] Plugin optimizer for device_type GPU is enabled.\n",
      "2022-01-06 13:18:42.167344: I tensorflow/core/grappler/optimizers/custom_graph_optimizer_registry.cc:112] Plugin optimizer for device_type GPU is enabled.\n",
      "2022-01-06 13:18:43.460884: I tensorflow/core/grappler/optimizers/custom_graph_optimizer_registry.cc:112] Plugin optimizer for device_type GPU is enabled.\n",
      "2022-01-06 13:18:55.142194: I tensorflow/core/grappler/optimizers/custom_graph_optimizer_registry.cc:112] Plugin optimizer for device_type GPU is enabled.\n",
      "2022-01-06 13:18:56.583191: I tensorflow/core/grappler/optimizers/custom_graph_optimizer_registry.cc:112] Plugin optimizer for device_type GPU is enabled.\n",
      "2022-01-06 13:19:08.790442: I tensorflow/core/grappler/optimizers/custom_graph_optimizer_registry.cc:112] Plugin optimizer for device_type GPU is enabled.\n",
      "2022-01-06 13:19:10.198388: I tensorflow/core/grappler/optimizers/custom_graph_optimizer_registry.cc:112] Plugin optimizer for device_type GPU is enabled.\n",
      "2022-01-06 13:19:21.781689: I tensorflow/core/grappler/optimizers/custom_graph_optimizer_registry.cc:112] Plugin optimizer for device_type GPU is enabled.\n",
      "2022-01-06 13:19:23.335696: I tensorflow/core/grappler/optimizers/custom_graph_optimizer_registry.cc:112] Plugin optimizer for device_type GPU is enabled.\n"
     ]
    }
   ],
   "source": [
    "for subsetname in os.listdir(\"measure/featureimportance_pca/raw\"):\n",
    "    #apply pca\n",
    "    \n",
    "    xtrain_pca = pca[subsetname][\"x_train\"]\n",
    "    xtest_pca = pca[subsetname][\"x_test\"]\n",
    "\n",
    "    tf.compat.v1.reset_default_graph()\n",
    "    with tf.device('/gpu:0'):\n",
    "            \n",
    "        model  = tf.keras.models.Sequential([\n",
    "            tf.keras.layers.Dense(1, activation='sigmoid', input_shape=(4,))])\n",
    "\n",
    "\n",
    "        model.compile(optimizer='adam',loss=\"binary_crossentropy\", metrics=['accuracy'])\n",
    "\n",
    "\n",
    "        hist = model.fit(\n",
    "            x=xtrain_pca,\n",
    "            y=pca[subsetname][\"y_train_binary\"],\n",
    "            epochs=10,\n",
    "            batch_size = 32,\n",
    "            verbose=0,\n",
    "            validation_data=(xtest_pca,pca[subsetname][\"y_test_binary\"])).history\n",
    "\n",
    "        h.store(hist,folder=\"measure/featureimportance_pca/pca/\"+subsetname,filename=\"hist\")\n",
    "        \n",
    "        weights = model.trainable_weights[0].numpy()\n",
    "        bias = model.trainable_weights[1].numpy()\n",
    "\n",
    "        h.store(weights,folder=\"measure/featureimportance_pca/pca/\"+subsetname,filename=\"weights\")\n",
    "        h.store(bias,folder=\"measure/featureimportance_pca/pca/\"+subsetname,filename=\"bias\")"
   ]
  },
  {
   "cell_type": "code",
   "execution_count": 314,
   "metadata": {},
   "outputs": [],
   "source": [
    "pca = list()\n",
    "raw = list()\n",
    "top30 = list()\n",
    "top30pca = list()\n",
    "\n",
    "for subsetname in os.listdir(\"measure/featureimportance_pca/raw\"):\n",
    "    raw.append(json.load(open(\"measure/featureimportance_pca/raw/\"+subsetname+\"/hist.json\"))[\"val_accuracy\"])\n",
    "    top30.append(json.load(open(\"measure/featureimportance_pca/top30/\"+subsetname+\"/hist.json\"))[\"val_accuracy\"])\n",
    "    top30pca.append(json.load(open(\"measure/featureimportance_pca/top30pca/\"+subsetname+\"/hist.json\"))[\"val_accuracy\"])\n",
    "    pca.append(json.load(open(\"measure/featureimportance_pca/pca/\"+subsetname+\"/hist.json\"))[\"val_accuracy\"])\n"
   ]
  },
  {
   "cell_type": "code",
   "execution_count": 316,
   "metadata": {},
   "outputs": [
    {
     "data": {
      "image/png": "[encoded data removed]",
      "text/plain": [
       "<Figure size 864x576 with 1 Axes>"
      ]
     },
     "metadata": {
      "needs_background": "light"
     },
     "output_type": "display_data"
    }
   ],
   "source": [
    "pca_mean = np.array(pca).mean(axis=0)\n",
    "raw_mean = np.array(raw).mean(axis=0)\n",
    "top30_mean = np.array(top30).mean(axis=0)\n",
    "top30pca_mean = np.array(top30pca).mean(axis=0)\n",
    "\n",
    "plt.figure(figsize=(12,8))\n",
    "plt.plot(raw_mean,label=\"Raw (mean acc {:.3f} & mean std {:.3f})\".format(raw_mean[-1],np.std(raw,axis=0).mean()))\n",
    "plt.plot(top30_mean,label=\"Top30 (mean acc {:.3f} & mean std {:.3f})\".format(top30_mean[-1],np.std(top30,axis=0).mean()))\n",
    "plt.plot(pca_mean,label=\"PCA (mean acc {:.3f} & mean std {:.3f})\".format(pca_mean[-1],np.std(pca,axis=0).mean()))\n",
    "plt.plot(top30pca_mean,label=\"Top30PCA (mean acc {:.3f} & mean std {:.3f})\".format(top30pca_mean[-1],np.std(top30pca,axis=0).mean()))\n",
    "plt.legend()\n",
    "plt.ylabel(\"Mean Val Accuracy\")\n",
    "plt.xlabel(\"Epochs\")\n",
    "plt.yticks(np.arange(0.5,1.05,0.05))\n",
    "plt.grid(axis=\"y\")\n",
    "plt.savefig(\"plots/raw_vs_top30_vs_pca_vs_top30pca.png\")\n",
    "plt.show()"
   ]
  },
  {
   "cell_type": "markdown",
   "metadata": {},
   "source": [
    "# PCA vs Autoencoder wenn man Latent Dim stetig vergrößert\n"
   ]
  },
  {
   "cell_type": "code",
   "execution_count": 87,
   "metadata": {},
   "outputs": [],
   "source": [
    "# Zufällige Auswahl von 5 paaren da sie ja doch sehr unterscheidlich sind\n",
    "\n",
    "from random import randint\n",
    "\n",
    "zahlenpaare = os.listdir(\"data/PCA/\")\n",
    "choice = list()\n",
    "for _ in range(5):\n",
    "    r = randint(0,len(zahlenpaare)-1)\n",
    "    choice.append(zahlenpaare[r])\n",
    "    zahlenpaare.remove(zahlenpaare[r])\n",
    "\n",
    "\n",
    "choice.append(\"6,9\")\n"
   ]
  },
  {
   "cell_type": "code",
   "execution_count": 86,
   "metadata": {},
   "outputs": [
    {
     "data": {
      "text/plain": [
       "dict_keys(['y_test_binary', 'y_train', 'y_train_binary', 'y_test', 'x_test', 'x_train'])"
      ]
     },
     "execution_count": 86,
     "metadata": {},
     "output_type": "execute_result"
    }
   ],
   "source": [
    "raw[\"6,9\"].keys()"
   ]
  },
  {
   "cell_type": "code",
   "execution_count": 102,
   "metadata": {},
   "outputs": [
    {
     "name": "stdout",
     "output_type": "stream",
     "text": [
      "3,9 6 pca\n"
     ]
    },
    {
     "name": "stderr",
     "output_type": "stream",
     "text": [
      "2022-01-06 14:35:23.556208: I tensorflow/core/grappler/optimizers/custom_graph_optimizer_registry.cc:112] Plugin optimizer for device_type GPU is enabled.\n",
      "2022-01-06 14:35:25.060029: I tensorflow/core/grappler/optimizers/custom_graph_optimizer_registry.cc:112] Plugin optimizer for device_type GPU is enabled.\n"
     ]
    },
    {
     "name": "stdout",
     "output_type": "stream",
     "text": [
      "0,3 6 pca\n"
     ]
    },
    {
     "name": "stderr",
     "output_type": "stream",
     "text": [
      "2022-01-06 14:35:38.486378: I tensorflow/core/grappler/optimizers/custom_graph_optimizer_registry.cc:112] Plugin optimizer for device_type GPU is enabled.\n",
      "2022-01-06 14:35:40.030057: I tensorflow/core/grappler/optimizers/custom_graph_optimizer_registry.cc:112] Plugin optimizer for device_type GPU is enabled.\n"
     ]
    },
    {
     "name": "stdout",
     "output_type": "stream",
     "text": [
      "6,8 6 pca\n"
     ]
    },
    {
     "name": "stderr",
     "output_type": "stream",
     "text": [
      "2022-01-06 14:35:54.523096: I tensorflow/core/grappler/optimizers/custom_graph_optimizer_registry.cc:112] Plugin optimizer for device_type GPU is enabled.\n",
      "2022-01-06 14:35:56.408952: I tensorflow/core/grappler/optimizers/custom_graph_optimizer_registry.cc:112] Plugin optimizer for device_type GPU is enabled.\n"
     ]
    },
    {
     "name": "stdout",
     "output_type": "stream",
     "text": [
      "6,9 6 pca\n"
     ]
    },
    {
     "name": "stderr",
     "output_type": "stream",
     "text": [
      "2022-01-06 14:36:09.816342: I tensorflow/core/grappler/optimizers/custom_graph_optimizer_registry.cc:112] Plugin optimizer for device_type GPU is enabled.\n",
      "2022-01-06 14:36:11.339576: I tensorflow/core/grappler/optimizers/custom_graph_optimizer_registry.cc:112] Plugin optimizer for device_type GPU is enabled.\n"
     ]
    },
    {
     "name": "stdout",
     "output_type": "stream",
     "text": [
      "5,8 6 pca\n"
     ]
    },
    {
     "name": "stderr",
     "output_type": "stream",
     "text": [
      "2022-01-06 14:36:24.435798: I tensorflow/core/grappler/optimizers/custom_graph_optimizer_registry.cc:112] Plugin optimizer for device_type GPU is enabled.\n",
      "2022-01-06 14:36:25.911031: I tensorflow/core/grappler/optimizers/custom_graph_optimizer_registry.cc:112] Plugin optimizer for device_type GPU is enabled.\n"
     ]
    },
    {
     "name": "stdout",
     "output_type": "stream",
     "text": [
      "1,6 6 pca\n"
     ]
    },
    {
     "name": "stderr",
     "output_type": "stream",
     "text": [
      "2022-01-06 14:36:38.176997: I tensorflow/core/grappler/optimizers/custom_graph_optimizer_registry.cc:112] Plugin optimizer for device_type GPU is enabled.\n",
      "2022-01-06 14:36:39.789830: I tensorflow/core/grappler/optimizers/custom_graph_optimizer_registry.cc:112] Plugin optimizer for device_type GPU is enabled.\n"
     ]
    },
    {
     "name": "stdout",
     "output_type": "stream",
     "text": [
      "3,9 6 autoencoder\n"
     ]
    },
    {
     "name": "stderr",
     "output_type": "stream",
     "text": [
      "2022-01-06 14:36:53.337059: I tensorflow/core/grappler/optimizers/custom_graph_optimizer_registry.cc:112] Plugin optimizer for device_type GPU is enabled.\n",
      "2022-01-06 14:36:54.764075: I tensorflow/core/grappler/optimizers/custom_graph_optimizer_registry.cc:112] Plugin optimizer for device_type GPU is enabled.\n"
     ]
    },
    {
     "name": "stdout",
     "output_type": "stream",
     "text": [
      "0,3 6 autoencoder\n"
     ]
    },
    {
     "name": "stderr",
     "output_type": "stream",
     "text": [
      "2022-01-06 14:37:06.830850: I tensorflow/core/grappler/optimizers/custom_graph_optimizer_registry.cc:112] Plugin optimizer for device_type GPU is enabled.\n",
      "2022-01-06 14:37:08.294073: I tensorflow/core/grappler/optimizers/custom_graph_optimizer_registry.cc:112] Plugin optimizer for device_type GPU is enabled.\n"
     ]
    },
    {
     "name": "stdout",
     "output_type": "stream",
     "text": [
      "6,8 6 autoencoder\n"
     ]
    },
    {
     "name": "stderr",
     "output_type": "stream",
     "text": [
      "2022-01-06 14:37:20.261747: I tensorflow/core/grappler/optimizers/custom_graph_optimizer_registry.cc:112] Plugin optimizer for device_type GPU is enabled.\n",
      "2022-01-06 14:37:21.641742: I tensorflow/core/grappler/optimizers/custom_graph_optimizer_registry.cc:112] Plugin optimizer for device_type GPU is enabled.\n"
     ]
    },
    {
     "name": "stdout",
     "output_type": "stream",
     "text": [
      "6,9 6 autoencoder\n"
     ]
    },
    {
     "name": "stderr",
     "output_type": "stream",
     "text": [
      "2022-01-06 14:37:33.540496: I tensorflow/core/grappler/optimizers/custom_graph_optimizer_registry.cc:112] Plugin optimizer for device_type GPU is enabled.\n",
      "2022-01-06 14:37:35.013922: I tensorflow/core/grappler/optimizers/custom_graph_optimizer_registry.cc:112] Plugin optimizer for device_type GPU is enabled.\n"
     ]
    },
    {
     "name": "stdout",
     "output_type": "stream",
     "text": [
      "5,8 6 autoencoder\n"
     ]
    },
    {
     "name": "stderr",
     "output_type": "stream",
     "text": [
      "2022-01-06 14:37:47.035154: I tensorflow/core/grappler/optimizers/custom_graph_optimizer_registry.cc:112] Plugin optimizer for device_type GPU is enabled.\n",
      "2022-01-06 14:37:48.457965: I tensorflow/core/grappler/optimizers/custom_graph_optimizer_registry.cc:112] Plugin optimizer for device_type GPU is enabled.\n"
     ]
    },
    {
     "name": "stdout",
     "output_type": "stream",
     "text": [
      "1,6 6 autoencoder\n"
     ]
    },
    {
     "name": "stderr",
     "output_type": "stream",
     "text": [
      "2022-01-06 14:37:59.915083: I tensorflow/core/grappler/optimizers/custom_graph_optimizer_registry.cc:112] Plugin optimizer for device_type GPU is enabled.\n",
      "2022-01-06 14:38:01.461798: I tensorflow/core/grappler/optimizers/custom_graph_optimizer_registry.cc:112] Plugin optimizer for device_type GPU is enabled.\n"
     ]
    },
    {
     "name": "stdout",
     "output_type": "stream",
     "text": [
      "3,9 10 pca\n"
     ]
    },
    {
     "name": "stderr",
     "output_type": "stream",
     "text": [
      "2022-01-06 14:38:14.358344: I tensorflow/core/grappler/optimizers/custom_graph_optimizer_registry.cc:112] Plugin optimizer for device_type GPU is enabled.\n",
      "2022-01-06 14:38:15.794923: I tensorflow/core/grappler/optimizers/custom_graph_optimizer_registry.cc:112] Plugin optimizer for device_type GPU is enabled.\n"
     ]
    },
    {
     "name": "stdout",
     "output_type": "stream",
     "text": [
      "0,3 10 pca\n"
     ]
    },
    {
     "name": "stderr",
     "output_type": "stream",
     "text": [
      "2022-01-06 14:38:28.042185: I tensorflow/core/grappler/optimizers/custom_graph_optimizer_registry.cc:112] Plugin optimizer for device_type GPU is enabled.\n",
      "2022-01-06 14:38:29.512006: I tensorflow/core/grappler/optimizers/custom_graph_optimizer_registry.cc:112] Plugin optimizer for device_type GPU is enabled.\n"
     ]
    },
    {
     "name": "stdout",
     "output_type": "stream",
     "text": [
      "6,8 10 pca\n"
     ]
    },
    {
     "name": "stderr",
     "output_type": "stream",
     "text": [
      "2022-01-06 14:38:41.603616: I tensorflow/core/grappler/optimizers/custom_graph_optimizer_registry.cc:112] Plugin optimizer for device_type GPU is enabled.\n",
      "2022-01-06 14:38:43.148563: I tensorflow/core/grappler/optimizers/custom_graph_optimizer_registry.cc:112] Plugin optimizer for device_type GPU is enabled.\n"
     ]
    },
    {
     "name": "stdout",
     "output_type": "stream",
     "text": [
      "6,9 10 pca\n"
     ]
    },
    {
     "name": "stderr",
     "output_type": "stream",
     "text": [
      "2022-01-06 14:38:55.029016: I tensorflow/core/grappler/optimizers/custom_graph_optimizer_registry.cc:112] Plugin optimizer for device_type GPU is enabled.\n",
      "2022-01-06 14:38:56.697449: I tensorflow/core/grappler/optimizers/custom_graph_optimizer_registry.cc:112] Plugin optimizer for device_type GPU is enabled.\n"
     ]
    },
    {
     "name": "stdout",
     "output_type": "stream",
     "text": [
      "5,8 10 pca\n"
     ]
    },
    {
     "name": "stderr",
     "output_type": "stream",
     "text": [
      "2022-01-06 14:39:08.691641: I tensorflow/core/grappler/optimizers/custom_graph_optimizer_registry.cc:112] Plugin optimizer for device_type GPU is enabled.\n",
      "2022-01-06 14:39:10.093710: I tensorflow/core/grappler/optimizers/custom_graph_optimizer_registry.cc:112] Plugin optimizer for device_type GPU is enabled.\n"
     ]
    },
    {
     "name": "stdout",
     "output_type": "stream",
     "text": [
      "1,6 10 pca\n"
     ]
    },
    {
     "name": "stderr",
     "output_type": "stream",
     "text": [
      "2022-01-06 14:39:21.570383: I tensorflow/core/grappler/optimizers/custom_graph_optimizer_registry.cc:112] Plugin optimizer for device_type GPU is enabled.\n",
      "2022-01-06 14:39:23.101659: I tensorflow/core/grappler/optimizers/custom_graph_optimizer_registry.cc:112] Plugin optimizer for device_type GPU is enabled.\n"
     ]
    },
    {
     "name": "stdout",
     "output_type": "stream",
     "text": [
      "3,9 10 autoencoder\n"
     ]
    },
    {
     "name": "stderr",
     "output_type": "stream",
     "text": [
      "2022-01-06 14:39:35.919716: I tensorflow/core/grappler/optimizers/custom_graph_optimizer_registry.cc:112] Plugin optimizer for device_type GPU is enabled.\n",
      "2022-01-06 14:39:37.380074: I tensorflow/core/grappler/optimizers/custom_graph_optimizer_registry.cc:112] Plugin optimizer for device_type GPU is enabled.\n"
     ]
    },
    {
     "name": "stdout",
     "output_type": "stream",
     "text": [
      "0,3 10 autoencoder\n"
     ]
    },
    {
     "name": "stderr",
     "output_type": "stream",
     "text": [
      "2022-01-06 14:39:49.746646: I tensorflow/core/grappler/optimizers/custom_graph_optimizer_registry.cc:112] Plugin optimizer for device_type GPU is enabled.\n",
      "2022-01-06 14:39:51.256668: I tensorflow/core/grappler/optimizers/custom_graph_optimizer_registry.cc:112] Plugin optimizer for device_type GPU is enabled.\n"
     ]
    },
    {
     "name": "stdout",
     "output_type": "stream",
     "text": [
      "6,8 10 autoencoder\n"
     ]
    },
    {
     "name": "stderr",
     "output_type": "stream",
     "text": [
      "2022-01-06 14:40:03.529158: I tensorflow/core/grappler/optimizers/custom_graph_optimizer_registry.cc:112] Plugin optimizer for device_type GPU is enabled.\n",
      "2022-01-06 14:40:05.043314: I tensorflow/core/grappler/optimizers/custom_graph_optimizer_registry.cc:112] Plugin optimizer for device_type GPU is enabled.\n"
     ]
    },
    {
     "name": "stdout",
     "output_type": "stream",
     "text": [
      "6,9 10 autoencoder\n"
     ]
    },
    {
     "name": "stderr",
     "output_type": "stream",
     "text": [
      "2022-01-06 14:40:17.079758: I tensorflow/core/grappler/optimizers/custom_graph_optimizer_registry.cc:112] Plugin optimizer for device_type GPU is enabled.\n",
      "2022-01-06 14:40:18.552173: I tensorflow/core/grappler/optimizers/custom_graph_optimizer_registry.cc:112] Plugin optimizer for device_type GPU is enabled.\n"
     ]
    },
    {
     "name": "stdout",
     "output_type": "stream",
     "text": [
      "5,8 10 autoencoder\n"
     ]
    },
    {
     "name": "stderr",
     "output_type": "stream",
     "text": [
      "2022-01-06 14:40:30.685253: I tensorflow/core/grappler/optimizers/custom_graph_optimizer_registry.cc:112] Plugin optimizer for device_type GPU is enabled.\n",
      "2022-01-06 14:40:32.098099: I tensorflow/core/grappler/optimizers/custom_graph_optimizer_registry.cc:112] Plugin optimizer for device_type GPU is enabled.\n"
     ]
    },
    {
     "name": "stdout",
     "output_type": "stream",
     "text": [
      "1,6 10 autoencoder\n"
     ]
    },
    {
     "name": "stderr",
     "output_type": "stream",
     "text": [
      "2022-01-06 14:40:43.671205: I tensorflow/core/grappler/optimizers/custom_graph_optimizer_registry.cc:112] Plugin optimizer for device_type GPU is enabled.\n",
      "2022-01-06 14:40:45.265803: I tensorflow/core/grappler/optimizers/custom_graph_optimizer_registry.cc:112] Plugin optimizer for device_type GPU is enabled.\n"
     ]
    },
    {
     "name": "stdout",
     "output_type": "stream",
     "text": [
      "3,9 8 pca\n"
     ]
    },
    {
     "name": "stderr",
     "output_type": "stream",
     "text": [
      "2022-01-06 14:40:58.155389: I tensorflow/core/grappler/optimizers/custom_graph_optimizer_registry.cc:112] Plugin optimizer for device_type GPU is enabled.\n",
      "2022-01-06 14:40:59.604293: I tensorflow/core/grappler/optimizers/custom_graph_optimizer_registry.cc:112] Plugin optimizer for device_type GPU is enabled.\n"
     ]
    },
    {
     "name": "stdout",
     "output_type": "stream",
     "text": [
      "0,3 8 pca\n"
     ]
    },
    {
     "name": "stderr",
     "output_type": "stream",
     "text": [
      "2022-01-06 14:41:11.902567: I tensorflow/core/grappler/optimizers/custom_graph_optimizer_registry.cc:112] Plugin optimizer for device_type GPU is enabled.\n",
      "2022-01-06 14:41:13.441533: I tensorflow/core/grappler/optimizers/custom_graph_optimizer_registry.cc:112] Plugin optimizer for device_type GPU is enabled.\n"
     ]
    },
    {
     "name": "stdout",
     "output_type": "stream",
     "text": [
      "6,8 8 pca\n"
     ]
    },
    {
     "name": "stderr",
     "output_type": "stream",
     "text": [
      "2022-01-06 14:41:25.638187: I tensorflow/core/grappler/optimizers/custom_graph_optimizer_registry.cc:112] Plugin optimizer for device_type GPU is enabled.\n",
      "2022-01-06 14:41:27.103750: I tensorflow/core/grappler/optimizers/custom_graph_optimizer_registry.cc:112] Plugin optimizer for device_type GPU is enabled.\n"
     ]
    },
    {
     "name": "stdout",
     "output_type": "stream",
     "text": [
      "6,9 8 pca\n"
     ]
    },
    {
     "name": "stderr",
     "output_type": "stream",
     "text": [
      "2022-01-06 14:41:39.266636: I tensorflow/core/grappler/optimizers/custom_graph_optimizer_registry.cc:112] Plugin optimizer for device_type GPU is enabled.\n",
      "2022-01-06 14:41:40.743679: I tensorflow/core/grappler/optimizers/custom_graph_optimizer_registry.cc:112] Plugin optimizer for device_type GPU is enabled.\n"
     ]
    },
    {
     "name": "stdout",
     "output_type": "stream",
     "text": [
      "5,8 8 pca\n"
     ]
    },
    {
     "name": "stderr",
     "output_type": "stream",
     "text": [
      "2022-01-06 14:41:53.173928: I tensorflow/core/grappler/optimizers/custom_graph_optimizer_registry.cc:112] Plugin optimizer for device_type GPU is enabled.\n",
      "2022-01-06 14:41:54.590860: I tensorflow/core/grappler/optimizers/custom_graph_optimizer_registry.cc:112] Plugin optimizer for device_type GPU is enabled.\n"
     ]
    },
    {
     "name": "stdout",
     "output_type": "stream",
     "text": [
      "1,6 8 pca\n"
     ]
    },
    {
     "name": "stderr",
     "output_type": "stream",
     "text": [
      "2022-01-06 14:42:06.225823: I tensorflow/core/grappler/optimizers/custom_graph_optimizer_registry.cc:112] Plugin optimizer for device_type GPU is enabled.\n",
      "2022-01-06 14:42:07.805797: I tensorflow/core/grappler/optimizers/custom_graph_optimizer_registry.cc:112] Plugin optimizer for device_type GPU is enabled.\n"
     ]
    },
    {
     "name": "stdout",
     "output_type": "stream",
     "text": [
      "3,9 8 autoencoder\n"
     ]
    },
    {
     "name": "stderr",
     "output_type": "stream",
     "text": [
      "2022-01-06 14:42:21.170114: I tensorflow/core/grappler/optimizers/custom_graph_optimizer_registry.cc:112] Plugin optimizer for device_type GPU is enabled.\n",
      "2022-01-06 14:42:22.685031: I tensorflow/core/grappler/optimizers/custom_graph_optimizer_registry.cc:112] Plugin optimizer for device_type GPU is enabled.\n"
     ]
    },
    {
     "name": "stdout",
     "output_type": "stream",
     "text": [
      "0,3 8 autoencoder\n"
     ]
    },
    {
     "name": "stderr",
     "output_type": "stream",
     "text": [
      "2022-01-06 14:42:35.322581: I tensorflow/core/grappler/optimizers/custom_graph_optimizer_registry.cc:112] Plugin optimizer for device_type GPU is enabled.\n",
      "2022-01-06 14:42:36.856116: I tensorflow/core/grappler/optimizers/custom_graph_optimizer_registry.cc:112] Plugin optimizer for device_type GPU is enabled.\n"
     ]
    },
    {
     "name": "stdout",
     "output_type": "stream",
     "text": [
      "6,8 8 autoencoder\n"
     ]
    },
    {
     "name": "stderr",
     "output_type": "stream",
     "text": [
      "2022-01-06 14:42:49.876092: I tensorflow/core/grappler/optimizers/custom_graph_optimizer_registry.cc:112] Plugin optimizer for device_type GPU is enabled.\n",
      "2022-01-06 14:42:51.315005: I tensorflow/core/grappler/optimizers/custom_graph_optimizer_registry.cc:112] Plugin optimizer for device_type GPU is enabled.\n"
     ]
    },
    {
     "name": "stdout",
     "output_type": "stream",
     "text": [
      "6,9 8 autoencoder\n"
     ]
    },
    {
     "name": "stderr",
     "output_type": "stream",
     "text": [
      "2022-01-06 14:43:03.321005: I tensorflow/core/grappler/optimizers/custom_graph_optimizer_registry.cc:112] Plugin optimizer for device_type GPU is enabled.\n",
      "2022-01-06 14:43:04.772166: I tensorflow/core/grappler/optimizers/custom_graph_optimizer_registry.cc:112] Plugin optimizer for device_type GPU is enabled.\n"
     ]
    },
    {
     "name": "stdout",
     "output_type": "stream",
     "text": [
      "5,8 8 autoencoder\n"
     ]
    },
    {
     "name": "stderr",
     "output_type": "stream",
     "text": [
      "2022-01-06 14:43:16.927361: I tensorflow/core/grappler/optimizers/custom_graph_optimizer_registry.cc:112] Plugin optimizer for device_type GPU is enabled.\n",
      "2022-01-06 14:43:18.381875: I tensorflow/core/grappler/optimizers/custom_graph_optimizer_registry.cc:112] Plugin optimizer for device_type GPU is enabled.\n"
     ]
    },
    {
     "name": "stdout",
     "output_type": "stream",
     "text": [
      "1,6 8 autoencoder\n"
     ]
    },
    {
     "name": "stderr",
     "output_type": "stream",
     "text": [
      "2022-01-06 14:43:30.137543: I tensorflow/core/grappler/optimizers/custom_graph_optimizer_registry.cc:112] Plugin optimizer for device_type GPU is enabled.\n",
      "2022-01-06 14:43:31.638155: I tensorflow/core/grappler/optimizers/custom_graph_optimizer_registry.cc:112] Plugin optimizer for device_type GPU is enabled.\n"
     ]
    },
    {
     "name": "stdout",
     "output_type": "stream",
     "text": [
      "3,9 4 pca\n"
     ]
    },
    {
     "name": "stderr",
     "output_type": "stream",
     "text": [
      "2022-01-06 14:43:45.218903: I tensorflow/core/grappler/optimizers/custom_graph_optimizer_registry.cc:112] Plugin optimizer for device_type GPU is enabled.\n",
      "2022-01-06 14:43:46.759346: I tensorflow/core/grappler/optimizers/custom_graph_optimizer_registry.cc:112] Plugin optimizer for device_type GPU is enabled.\n"
     ]
    },
    {
     "name": "stdout",
     "output_type": "stream",
     "text": [
      "0,3 4 pca\n"
     ]
    },
    {
     "name": "stderr",
     "output_type": "stream",
     "text": [
      "2022-01-06 14:43:59.430061: I tensorflow/core/grappler/optimizers/custom_graph_optimizer_registry.cc:112] Plugin optimizer for device_type GPU is enabled.\n",
      "2022-01-06 14:44:01.173421: I tensorflow/core/grappler/optimizers/custom_graph_optimizer_registry.cc:112] Plugin optimizer for device_type GPU is enabled.\n"
     ]
    },
    {
     "name": "stdout",
     "output_type": "stream",
     "text": [
      "6,8 4 pca\n"
     ]
    },
    {
     "name": "stderr",
     "output_type": "stream",
     "text": [
      "2022-01-06 14:44:13.481318: I tensorflow/core/grappler/optimizers/custom_graph_optimizer_registry.cc:112] Plugin optimizer for device_type GPU is enabled.\n",
      "2022-01-06 14:44:14.926937: I tensorflow/core/grappler/optimizers/custom_graph_optimizer_registry.cc:112] Plugin optimizer for device_type GPU is enabled.\n"
     ]
    },
    {
     "name": "stdout",
     "output_type": "stream",
     "text": [
      "6,9 4 pca\n"
     ]
    },
    {
     "name": "stderr",
     "output_type": "stream",
     "text": [
      "2022-01-06 14:44:27.625851: I tensorflow/core/grappler/optimizers/custom_graph_optimizer_registry.cc:112] Plugin optimizer for device_type GPU is enabled.\n",
      "2022-01-06 14:44:29.125029: I tensorflow/core/grappler/optimizers/custom_graph_optimizer_registry.cc:112] Plugin optimizer for device_type GPU is enabled.\n"
     ]
    },
    {
     "name": "stdout",
     "output_type": "stream",
     "text": [
      "5,8 4 pca\n"
     ]
    },
    {
     "name": "stderr",
     "output_type": "stream",
     "text": [
      "2022-01-06 14:44:41.357120: I tensorflow/core/grappler/optimizers/custom_graph_optimizer_registry.cc:112] Plugin optimizer for device_type GPU is enabled.\n",
      "2022-01-06 14:44:42.824680: I tensorflow/core/grappler/optimizers/custom_graph_optimizer_registry.cc:112] Plugin optimizer for device_type GPU is enabled.\n"
     ]
    },
    {
     "name": "stdout",
     "output_type": "stream",
     "text": [
      "1,6 4 pca\n"
     ]
    },
    {
     "name": "stderr",
     "output_type": "stream",
     "text": [
      "2022-01-06 14:44:54.799415: I tensorflow/core/grappler/optimizers/custom_graph_optimizer_registry.cc:112] Plugin optimizer for device_type GPU is enabled.\n",
      "2022-01-06 14:44:56.354968: I tensorflow/core/grappler/optimizers/custom_graph_optimizer_registry.cc:112] Plugin optimizer for device_type GPU is enabled.\n"
     ]
    },
    {
     "name": "stdout",
     "output_type": "stream",
     "text": [
      "3,9 4 autoencoder\n"
     ]
    },
    {
     "name": "stderr",
     "output_type": "stream",
     "text": [
      "2022-01-06 14:45:09.387437: I tensorflow/core/grappler/optimizers/custom_graph_optimizer_registry.cc:112] Plugin optimizer for device_type GPU is enabled.\n",
      "2022-01-06 14:45:10.922502: I tensorflow/core/grappler/optimizers/custom_graph_optimizer_registry.cc:112] Plugin optimizer for device_type GPU is enabled.\n"
     ]
    },
    {
     "name": "stdout",
     "output_type": "stream",
     "text": [
      "0,3 4 autoencoder\n"
     ]
    },
    {
     "name": "stderr",
     "output_type": "stream",
     "text": [
      "2022-01-06 14:45:23.118998: I tensorflow/core/grappler/optimizers/custom_graph_optimizer_registry.cc:112] Plugin optimizer for device_type GPU is enabled.\n",
      "2022-01-06 14:45:24.634988: I tensorflow/core/grappler/optimizers/custom_graph_optimizer_registry.cc:112] Plugin optimizer for device_type GPU is enabled.\n"
     ]
    },
    {
     "name": "stdout",
     "output_type": "stream",
     "text": [
      "6,8 4 autoencoder\n"
     ]
    },
    {
     "name": "stderr",
     "output_type": "stream",
     "text": [
      "2022-01-06 14:45:36.729827: I tensorflow/core/grappler/optimizers/custom_graph_optimizer_registry.cc:112] Plugin optimizer for device_type GPU is enabled.\n",
      "2022-01-06 14:45:38.231457: I tensorflow/core/grappler/optimizers/custom_graph_optimizer_registry.cc:112] Plugin optimizer for device_type GPU is enabled.\n"
     ]
    },
    {
     "name": "stdout",
     "output_type": "stream",
     "text": [
      "6,9 4 autoencoder\n"
     ]
    },
    {
     "name": "stderr",
     "output_type": "stream",
     "text": [
      "2022-01-06 14:45:49.987089: I tensorflow/core/grappler/optimizers/custom_graph_optimizer_registry.cc:112] Plugin optimizer for device_type GPU is enabled.\n",
      "2022-01-06 14:45:51.438409: I tensorflow/core/grappler/optimizers/custom_graph_optimizer_registry.cc:112] Plugin optimizer for device_type GPU is enabled.\n"
     ]
    },
    {
     "name": "stdout",
     "output_type": "stream",
     "text": [
      "5,8 4 autoencoder\n"
     ]
    },
    {
     "name": "stderr",
     "output_type": "stream",
     "text": [
      "2022-01-06 14:46:03.409579: I tensorflow/core/grappler/optimizers/custom_graph_optimizer_registry.cc:112] Plugin optimizer for device_type GPU is enabled.\n",
      "2022-01-06 14:46:04.807951: I tensorflow/core/grappler/optimizers/custom_graph_optimizer_registry.cc:112] Plugin optimizer for device_type GPU is enabled.\n"
     ]
    },
    {
     "name": "stdout",
     "output_type": "stream",
     "text": [
      "1,6 4 autoencoder\n"
     ]
    },
    {
     "name": "stderr",
     "output_type": "stream",
     "text": [
      "2022-01-06 14:46:16.311472: I tensorflow/core/grappler/optimizers/custom_graph_optimizer_registry.cc:112] Plugin optimizer for device_type GPU is enabled.\n",
      "2022-01-06 14:46:17.897380: I tensorflow/core/grappler/optimizers/custom_graph_optimizer_registry.cc:112] Plugin optimizer for device_type GPU is enabled.\n"
     ]
    },
    {
     "name": "stdout",
     "output_type": "stream",
     "text": [
      "3,9 2 pca\n"
     ]
    },
    {
     "name": "stderr",
     "output_type": "stream",
     "text": [
      "2022-01-06 14:46:30.819241: I tensorflow/core/grappler/optimizers/custom_graph_optimizer_registry.cc:112] Plugin optimizer for device_type GPU is enabled.\n",
      "2022-01-06 14:46:32.357930: I tensorflow/core/grappler/optimizers/custom_graph_optimizer_registry.cc:112] Plugin optimizer for device_type GPU is enabled.\n"
     ]
    },
    {
     "name": "stdout",
     "output_type": "stream",
     "text": [
      "0,3 2 pca\n"
     ]
    },
    {
     "name": "stderr",
     "output_type": "stream",
     "text": [
      "2022-01-06 14:46:44.534727: I tensorflow/core/grappler/optimizers/custom_graph_optimizer_registry.cc:112] Plugin optimizer for device_type GPU is enabled.\n",
      "2022-01-06 14:46:46.061514: I tensorflow/core/grappler/optimizers/custom_graph_optimizer_registry.cc:112] Plugin optimizer for device_type GPU is enabled.\n"
     ]
    },
    {
     "name": "stdout",
     "output_type": "stream",
     "text": [
      "6,8 2 pca\n"
     ]
    },
    {
     "name": "stderr",
     "output_type": "stream",
     "text": [
      "2022-01-06 14:46:58.219295: I tensorflow/core/grappler/optimizers/custom_graph_optimizer_registry.cc:112] Plugin optimizer for device_type GPU is enabled.\n",
      "2022-01-06 14:46:59.681138: I tensorflow/core/grappler/optimizers/custom_graph_optimizer_registry.cc:112] Plugin optimizer for device_type GPU is enabled.\n"
     ]
    },
    {
     "name": "stdout",
     "output_type": "stream",
     "text": [
      "6,9 2 pca\n"
     ]
    },
    {
     "name": "stderr",
     "output_type": "stream",
     "text": [
      "2022-01-06 14:47:11.777880: I tensorflow/core/grappler/optimizers/custom_graph_optimizer_registry.cc:112] Plugin optimizer for device_type GPU is enabled.\n",
      "2022-01-06 14:47:13.258760: I tensorflow/core/grappler/optimizers/custom_graph_optimizer_registry.cc:112] Plugin optimizer for device_type GPU is enabled.\n"
     ]
    },
    {
     "name": "stdout",
     "output_type": "stream",
     "text": [
      "5,8 2 pca\n"
     ]
    },
    {
     "name": "stderr",
     "output_type": "stream",
     "text": [
      "2022-01-06 14:47:25.266508: I tensorflow/core/grappler/optimizers/custom_graph_optimizer_registry.cc:112] Plugin optimizer for device_type GPU is enabled.\n",
      "2022-01-06 14:47:26.701560: I tensorflow/core/grappler/optimizers/custom_graph_optimizer_registry.cc:112] Plugin optimizer for device_type GPU is enabled.\n"
     ]
    },
    {
     "name": "stdout",
     "output_type": "stream",
     "text": [
      "1,6 2 pca\n"
     ]
    },
    {
     "name": "stderr",
     "output_type": "stream",
     "text": [
      "2022-01-06 14:47:38.191892: I tensorflow/core/grappler/optimizers/custom_graph_optimizer_registry.cc:112] Plugin optimizer for device_type GPU is enabled.\n",
      "2022-01-06 14:47:39.757905: I tensorflow/core/grappler/optimizers/custom_graph_optimizer_registry.cc:112] Plugin optimizer for device_type GPU is enabled.\n"
     ]
    },
    {
     "name": "stdout",
     "output_type": "stream",
     "text": [
      "3,9 2 autoencoder\n"
     ]
    },
    {
     "name": "stderr",
     "output_type": "stream",
     "text": [
      "2022-01-06 14:47:52.503660: I tensorflow/core/grappler/optimizers/custom_graph_optimizer_registry.cc:112] Plugin optimizer for device_type GPU is enabled.\n",
      "2022-01-06 14:47:54.033065: I tensorflow/core/grappler/optimizers/custom_graph_optimizer_registry.cc:112] Plugin optimizer for device_type GPU is enabled.\n"
     ]
    },
    {
     "name": "stdout",
     "output_type": "stream",
     "text": [
      "0,3 2 autoencoder\n"
     ]
    },
    {
     "name": "stderr",
     "output_type": "stream",
     "text": [
      "2022-01-06 14:48:06.272445: I tensorflow/core/grappler/optimizers/custom_graph_optimizer_registry.cc:112] Plugin optimizer for device_type GPU is enabled.\n",
      "2022-01-06 14:48:07.796851: I tensorflow/core/grappler/optimizers/custom_graph_optimizer_registry.cc:112] Plugin optimizer for device_type GPU is enabled.\n"
     ]
    },
    {
     "name": "stdout",
     "output_type": "stream",
     "text": [
      "6,8 2 autoencoder\n"
     ]
    },
    {
     "name": "stderr",
     "output_type": "stream",
     "text": [
      "2022-01-06 14:48:20.085894: I tensorflow/core/grappler/optimizers/custom_graph_optimizer_registry.cc:112] Plugin optimizer for device_type GPU is enabled.\n",
      "2022-01-06 14:48:21.545811: I tensorflow/core/grappler/optimizers/custom_graph_optimizer_registry.cc:112] Plugin optimizer for device_type GPU is enabled.\n"
     ]
    },
    {
     "name": "stdout",
     "output_type": "stream",
     "text": [
      "6,9 2 autoencoder\n"
     ]
    },
    {
     "name": "stderr",
     "output_type": "stream",
     "text": [
      "2022-01-06 14:48:33.434290: I tensorflow/core/grappler/optimizers/custom_graph_optimizer_registry.cc:112] Plugin optimizer for device_type GPU is enabled.\n",
      "2022-01-06 14:48:34.902687: I tensorflow/core/grappler/optimizers/custom_graph_optimizer_registry.cc:112] Plugin optimizer for device_type GPU is enabled.\n"
     ]
    },
    {
     "name": "stdout",
     "output_type": "stream",
     "text": [
      "5,8 2 autoencoder\n"
     ]
    },
    {
     "name": "stderr",
     "output_type": "stream",
     "text": [
      "2022-01-06 14:48:46.802503: I tensorflow/core/grappler/optimizers/custom_graph_optimizer_registry.cc:112] Plugin optimizer for device_type GPU is enabled.\n",
      "2022-01-06 14:48:48.254714: I tensorflow/core/grappler/optimizers/custom_graph_optimizer_registry.cc:112] Plugin optimizer for device_type GPU is enabled.\n"
     ]
    },
    {
     "name": "stdout",
     "output_type": "stream",
     "text": [
      "1,6 2 autoencoder\n"
     ]
    },
    {
     "name": "stderr",
     "output_type": "stream",
     "text": [
      "2022-01-06 14:48:59.811591: I tensorflow/core/grappler/optimizers/custom_graph_optimizer_registry.cc:112] Plugin optimizer for device_type GPU is enabled.\n",
      "2022-01-06 14:49:01.404648: I tensorflow/core/grappler/optimizers/custom_graph_optimizer_registry.cc:112] Plugin optimizer for device_type GPU is enabled.\n"
     ]
    }
   ],
   "source": [
    "\n",
    "for latentdim in os.listdir(\"data/latentdimvergleich\"):\n",
    "    for preprocessing in os.listdir(\"data/latentdimvergleich/\"+latentdim):\n",
    "        for subsetname in os.listdir(\"data/latentdimvergleich/\"+latentdim+\"/\"+preprocessing):\n",
    "            print(subsetname,latentdim,preprocessing)\n",
    "\n",
    "            x_train = np.load(\"data/latentdimvergleich/\"+latentdim+\"/\"+preprocessing+\"/\"+subsetname+\"/x_train.npy\")\n",
    "            x_test = np.load(\"data/latentdimvergleich/\"+latentdim+\"/\"+preprocessing+\"/\"+subsetname+\"/x_test.npy\")\n",
    "\n",
    "            tf.compat.v1.reset_default_graph()\n",
    "            with tf.device('/gpu:0'):\n",
    "                model  = tf.keras.models.Sequential([\n",
    "                    tf.keras.layers.Dense(1, activation='sigmoid', input_shape=(int(latentdim),))])\n",
    "\n",
    "\n",
    "                model.compile(optimizer='adam',loss=\"binary_crossentropy\", metrics=['accuracy'])\n",
    "\n",
    "\n",
    "                hist = model.fit(\n",
    "                    x=x_train,\n",
    "                    y=raw[subsetname][\"y_train_binary\"],\n",
    "                    epochs=10,\n",
    "                    batch_size = 32,\n",
    "                    verbose=0,\n",
    "                    validation_data=(x_test,raw[subsetname][\"y_test_binary\"])).history\n",
    "\n",
    "                h.store(hist,\"measure/latentdimvergleich/\"+latentdim+\"/\"+preprocessing+\"/\"+subsetname,\"hist\")\n",
    "                \n",
    "                weights = model.trainable_weights[0].numpy()\n",
    "                bias = model.trainable_weights[1].numpy()\n",
    "\n",
    "                h.store(weights,\"measure/latentdimvergleich/\"+latentdim+\"/\"+preprocessing+\"/\"+subsetname,\"weights\")\n",
    "                h.store(bias,\"measure/latentdimvergleich/\"+latentdim+\"/\"+preprocessing+\"/\"+subsetname,\"bias\")\n",
    "\n",
    "            del model\n",
    "           "
   ]
  },
  {
   "cell_type": "markdown",
   "metadata": {},
   "source": [
    "# Ab wann kackt die accuracy ab"
   ]
  },
  {
   "cell_type": "code",
   "execution_count": 143,
   "metadata": {},
   "outputs": [],
   "source": [
    "raw  = Datasets.get_preprocessed_datasets(\"RAW\")[\"RAW\"]"
   ]
  },
  {
   "cell_type": "code",
   "execution_count": 175,
   "metadata": {},
   "outputs": [
    {
     "name": "stdout",
     "output_type": "stream",
     "text": [
      "21\n"
     ]
    }
   ],
   "source": [
    "l = list()\n",
    "i = 784\n",
    "while i >= 184:\n",
    "\n",
    "    l.append(i)\n",
    "    i -= 100\n",
    "\n",
    "while i >= 34:\n",
    "\n",
    "    l.append(i)\n",
    "    i -= 10\n",
    "\n",
    "while i >= 9:\n",
    "\n",
    "    l.append(i)\n",
    "    i -= 5\n",
    "\n",
    "while i >=1:\n",
    "\n",
    "    l.append(i)\n",
    "    i -= 1\n",
    "\n",
    "l\n",
    "print(len(l))"
   ]
  },
  {
   "cell_type": "code",
   "execution_count": 176,
   "metadata": {},
   "outputs": [
    {
     "data": {
      "text/plain": [
       "[784,\n",
       " 684,\n",
       " 584,\n",
       " 484,\n",
       " 384,\n",
       " 284,\n",
       " 184,\n",
       " 84,\n",
       " 74,\n",
       " 64,\n",
       " 54,\n",
       " 44,\n",
       " 34,\n",
       " 24,\n",
       " 19,\n",
       " 14,\n",
       " 9,\n",
       " 4,\n",
       " 3,\n",
       " 2,\n",
       " 1]"
      ]
     },
     "execution_count": 176,
     "metadata": {},
     "output_type": "execute_result"
    }
   ],
   "source": [
    "l"
   ]
  },
  {
   "cell_type": "code",
   "execution_count": 276,
   "metadata": {},
   "outputs": [
    {
     "name": "stdout",
     "output_type": "stream",
     "text": [
      "4\n",
      "14\n",
      "24\n",
      "34\n",
      "44\n",
      "54\n"
     ]
    }
   ],
   "source": [
    "for i in range(4,55,10):\n",
    "    print(i)"
   ]
  },
  {
   "cell_type": "code",
   "execution_count": 280,
   "metadata": {},
   "outputs": [
    {
     "name": "stdout",
     "output_type": "stream",
     "text": [
      "2\n",
      "7\n",
      "12\n",
      "17\n",
      "22\n",
      "27\n"
     ]
    }
   ],
   "source": [
    "for j in range(2,28,5):\n",
    "    print(j)\n"
   ]
  },
  {
   "cell_type": "code",
   "execution_count": 183,
   "metadata": {},
   "outputs": [],
   "source": [
    "for subsetname in os.listdir(\"measure/featureimportance_pca/raw\"):\n",
    "    weights = np.load(\"measure/featureimportance_pca/raw/\"+subsetname+\"/weights.npy\")\n",
    "    input = raw[subsetname][\"x_train\"]\n",
    "\n",
    "    importance = np.abs(input.mean(axis=0).reshape(784,1)*weights)\n",
    "    ranks = importance.reshape(784).argsort().argsort()\n",
    "\n",
    "    for featurenum in l:\n",
    "        topXindex= np.where(rank>=784-featurenum)[0]\n",
    "\n",
    "        x_trainnew = raw[subsetname][\"x_train\"][:,topXindex]\n",
    "        x_testnew = raw[subsetname][\"x_test\"][:,topXindex]\n",
    "\n",
    "        h.store(x_trainnew,\"data/featurecount/raw/\"+str(featurenum)+\"/\"+subsetname,\"x_train\")\n",
    "        h.store(x_testnew,\"data/featurecount/raw/\"+str(featurenum)+\"/\"+subsetname,\"x_test\")\n",
    "        \n",
    "\n",
    "    \n"
   ]
  },
  {
   "cell_type": "code",
   "execution_count": 296,
   "metadata": {},
   "outputs": [
    {
     "name": "stdout",
     "output_type": "stream",
     "text": [
      "0,7 3\n"
     ]
    },
    {
     "name": "stderr",
     "output_type": "stream",
     "text": [
      "2022-01-07 11:07:21.680499: I tensorflow/core/grappler/optimizers/custom_graph_optimizer_registry.cc:112] Plugin optimizer for device_type GPU is enabled.\n",
      "2022-01-07 11:07:23.556998: I tensorflow/core/grappler/optimizers/custom_graph_optimizer_registry.cc:112] Plugin optimizer for device_type GPU is enabled.\n"
     ]
    },
    {
     "name": "stdout",
     "output_type": "stream",
     "text": [
      "3,6 3\n"
     ]
    },
    {
     "name": "stderr",
     "output_type": "stream",
     "text": [
      "2022-01-07 11:07:38.134332: I tensorflow/core/grappler/optimizers/custom_graph_optimizer_registry.cc:112] Plugin optimizer for device_type GPU is enabled.\n",
      "2022-01-07 11:07:40.263633: I tensorflow/core/grappler/optimizers/custom_graph_optimizer_registry.cc:112] Plugin optimizer for device_type GPU is enabled.\n"
     ]
    },
    {
     "name": "stdout",
     "output_type": "stream",
     "text": [
      "0,5 3\n"
     ]
    },
    {
     "name": "stderr",
     "output_type": "stream",
     "text": [
      "2022-01-07 11:07:54.666154: I tensorflow/core/grappler/optimizers/custom_graph_optimizer_registry.cc:112] Plugin optimizer for device_type GPU is enabled.\n",
      "2022-01-07 11:07:56.500244: I tensorflow/core/grappler/optimizers/custom_graph_optimizer_registry.cc:112] Plugin optimizer for device_type GPU is enabled.\n"
     ]
    },
    {
     "name": "stdout",
     "output_type": "stream",
     "text": [
      "6,9 3\n"
     ]
    },
    {
     "name": "stderr",
     "output_type": "stream",
     "text": [
      "2022-01-07 11:08:10.191539: I tensorflow/core/grappler/optimizers/custom_graph_optimizer_registry.cc:112] Plugin optimizer for device_type GPU is enabled.\n",
      "2022-01-07 11:08:12.311002: I tensorflow/core/grappler/optimizers/custom_graph_optimizer_registry.cc:112] Plugin optimizer for device_type GPU is enabled.\n"
     ]
    },
    {
     "name": "stdout",
     "output_type": "stream",
     "text": [
      "5,6 3\n"
     ]
    },
    {
     "name": "stderr",
     "output_type": "stream",
     "text": [
      "2022-01-07 11:08:26.207002: I tensorflow/core/grappler/optimizers/custom_graph_optimizer_registry.cc:112] Plugin optimizer for device_type GPU is enabled.\n",
      "2022-01-07 11:08:28.096430: I tensorflow/core/grappler/optimizers/custom_graph_optimizer_registry.cc:112] Plugin optimizer for device_type GPU is enabled.\n"
     ]
    },
    {
     "name": "stdout",
     "output_type": "stream",
     "text": [
      "1,6 3\n"
     ]
    },
    {
     "name": "stderr",
     "output_type": "stream",
     "text": [
      "2022-01-07 11:08:40.687281: I tensorflow/core/grappler/optimizers/custom_graph_optimizer_registry.cc:112] Plugin optimizer for device_type GPU is enabled.\n",
      "2022-01-07 11:08:42.731709: I tensorflow/core/grappler/optimizers/custom_graph_optimizer_registry.cc:112] Plugin optimizer for device_type GPU is enabled.\n"
     ]
    }
   ],
   "source": [
    "for featurenum,hiddennum in zip([3],[2]):\n",
    "    featurenum = str(featurenum)\n",
    "    \n",
    "    for subset in os.listdir(\"data/featurecount/raw/\"+featurenum):\n",
    "\n",
    "\n",
    "        print(subset,featurenum)\n",
    "\n",
    "        x_train = np.load(\"data/featurecount/raw/\"+featurenum+\"/\"+subset+\"/x_train.npy\")\n",
    "        x_test = np.load(\"data/featurecount/raw/\"+featurenum+\"/\"+subset+\"/x_test.npy\")\n",
    "\n",
    "        tf.compat.v1.reset_default_graph()\n",
    "        with tf.device('/gpu:0'):\n",
    "            model  = tf.keras.models.Sequential([\n",
    "                tf.keras.layers.Dense(hiddennum, activation='relu', input_shape=(int(featurenum),)),\n",
    "                tf.keras.layers.Dense(1, activation='sigmoid'),])\n",
    "\n",
    "\n",
    "            model.compile(optimizer='adam',loss=\"binary_crossentropy\", metrics=['accuracy'])\n",
    "\n",
    "\n",
    "            hist = model.fit(\n",
    "                x=x_train,\n",
    "                y=raw[subset][\"y_train_binary\"],\n",
    "                epochs=10,\n",
    "                batch_size = 32,\n",
    "                verbose=0,\n",
    "                validation_data=(x_test,raw[subset][\"y_test_binary\"])).history\n",
    "\n",
    "            h.store(hist,\"measure/featurecount_hidden/raw/\"+featurenum+\"/\"+subset,\"hist\")\n",
    "            \n",
    "            weights = model.trainable_weights[0].numpy()\n",
    "            bias = model.trainable_weights[1].numpy()\n",
    "\n",
    "            h.store(weights,\"measure/featurecount_hidden/raw/\"+featurenum+\"/\"+subset,\"weights\")\n",
    "            h.store(bias,\"measure/featurecount_hidden/raw/\"+featurenum+\"/\"+subset,\"bias\")\n",
    "\n",
    "        del model\n",
    "        "
   ]
  },
  {
   "cell_type": "code",
   "execution_count": 285,
   "metadata": {},
   "outputs": [
    {
     "data": {
      "text/plain": [
       "1"
      ]
     },
     "execution_count": 285,
     "metadata": {},
     "output_type": "execute_result"
    }
   ],
   "source": [
    "raw[subset][\"y_train_binary\"][1]"
   ]
  },
  {
   "cell_type": "code",
   "execution_count": 215,
   "metadata": {},
   "outputs": [],
   "source": [
    "featurenums = os.listdir(\"measure/featurecount/raw\")\n",
    "featurenums = [int(a) for a in featurenums]\n",
    "featurenums.sort()"
   ]
  },
  {
   "cell_type": "code",
   "execution_count": 312,
   "metadata": {},
   "outputs": [
    {
     "data": {
      "image/png": "[encoded data removed]",
      "text/plain": [
       "<Figure size 1080x720 with 1 Axes>"
      ]
     },
     "metadata": {
      "needs_background": "light"
     },
     "output_type": "display_data"
    }
   ],
   "source": [
    "\n",
    "featurenums = os.listdir(\"measure/featurecount/raw\")\n",
    "featurenums = [int(a) for a in featurenums]\n",
    "featurenums.sort()\n",
    "\n",
    "score = list()\n",
    "stds = list()\n",
    "for featurenum in featurenums:\n",
    "\n",
    "    d = list()\n",
    "    for subset in os.listdir(\"measure/featurecount/raw/\"+str(featurenum)):\n",
    "        hist = json.load(open(\"measure/featurecount/raw/\"+str(featurenum)+\"/\"+subset+\"/hist.json\"))\n",
    "        d.append(hist[\"val_accuracy\"][-1])\n",
    "\n",
    "    d = np.array(d)\n",
    "    dmean = d.mean(axis=0)\n",
    "\n",
    "    score.append(dmean)\n",
    "    stds.append(1-d.std(axis=0))\n",
    "\n",
    "\n",
    "fig,ax = plt.subplots(1,1,figsize=(15,10))\n",
    "ax.plot(featurenums,score,label=\"Accuracy\")\n",
    "ax.plot(featurenums,stds,label=\"1-std\")\n",
    "ax.invert_xaxis()\n",
    "ax.set_xlim(784,1)\n",
    "ax.set_xticks(np.arange(1,784,50))\n",
    "ax.axvline(x=43, color='red', label='Death Point =43',ymax=0.874)\n",
    "plt.grid(axis=\"y\")\n",
    "plt.title(\"Bei welcher Feature Anzahl schmiert die Accuracy ab?\")\n",
    "plt.xlabel(\"Anzahl Features\")\n",
    "plt.legend()\n",
    "plt.savefig(\"plots/welche_feature_schmiert_ab.png\")\n",
    "plt.show()\n"
   ]
  },
  {
   "cell_type": "code",
   "execution_count": null,
   "metadata": {},
   "outputs": [],
   "source": []
  }
 ],
 "metadata": {
  "interpreter": {
   "hash": "66fbc7444ff33bf974f21d3d224fe531a78305e3f7b70f0cb67a92233fdb1f5a"
  },
  "kernelspec": {
   "display_name": "Python 3.9.7 64-bit ('tfm1': conda)",
   "language": "python",
   "name": "python3"
  },
  "language_info": {
   "codemirror_mode": {
    "name": "ipython",
    "version": 3
   },
   "file_extension": ".py",
   "mimetype": "text/x-python",
   "name": "python",
   "nbconvert_exporter": "python",
   "pygments_lexer": "ipython3",
   "version": "3.9.7"
  },
  "orig_nbformat": 4
 },
 "nbformat": 4,
 "nbformat_minor": 2
}
