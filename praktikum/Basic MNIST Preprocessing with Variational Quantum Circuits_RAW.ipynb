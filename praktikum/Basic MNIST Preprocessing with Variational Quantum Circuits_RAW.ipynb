{
 "cells": [
  {
   "cell_type": "code",
   "execution_count": 1,
   "id": "5bea04fe",
   "metadata": {},
   "outputs": [],
   "source": [
    "import random\n",
    "import pennylane as qml\n",
    "from pennylane import numpy as np\n",
    "import sys\n",
    "sys.path.insert(0,'..')\n",
    "from maskit.datasets import load_data"
   ]
  },
  {
   "cell_type": "code",
   "execution_count": 2,
   "id": "d3c4ab91",
   "metadata": {},
   "outputs": [],
   "source": [
    "# Setting seeds for reproducible results\n",
    "np.random.seed(1337)\n",
    "random.seed(1337)"
   ]
  },
  {
   "cell_type": "markdown",
   "id": "1d0bf851",
   "metadata": {},
   "source": [
    "# Loading the data\n",
    "\n",
    "Data of interest is MNIST data. As we want to go for reproducible results, we\n",
    "will first go with the option `shuffle=False`. For the rest of the parameters,\n",
    "we now go with the default options. This gives us data for two classes, the\n",
    "written numbers 6 and 9. We also only get a limited number of sampes, that is\n",
    "100 samples for training and 50 for testing. For further details see the\n",
    "appropriate docstring."
   ]
  },
  {
   "cell_type": "code",
   "execution_count": 3,
   "id": "c8e61734",
   "metadata": {},
   "outputs": [
    {
     "name": "stdout",
     "output_type": "stream",
     "text": [
      "Metal device set to: Apple M1 Pro\n",
      "\n",
      "systemMemory: 16.00 GB\n",
      "maxCacheSize: 5.33 GB\n",
      "\n"
     ]
    },
    {
     "name": "stderr",
     "output_type": "stream",
     "text": [
      "2022-01-18 23:04:17.587365: I tensorflow/core/common_runtime/pluggable_device/pluggable_device_factory.cc:305] Could not identify NUMA node of platform GPU ID 0, defaulting to 0. Your kernel may not have been built with NUMA support.\n",
      "2022-01-18 23:04:17.587482: I tensorflow/core/common_runtime/pluggable_device/pluggable_device_factory.cc:271] Created TensorFlow device (/job:localhost/replica:0/task:0/device:GPU:0 with 0 MB memory) -> physical PluggableDevice (device: 0, name: METAL, pci bus id: <undefined>)\n"
     ]
    }
   ],
   "source": [
    "data = load_data(\"mnist\", shuffle=False, target_length=2)"
   ]
  },
  {
   "cell_type": "markdown",
   "id": "89443bbe",
   "metadata": {},
   "source": [
    "# Setting up a Variational Quantum Circuit for training\n",
    "\n",
    "There is an example on the [PennyLane website](https://pennylane.ai/qml/demos/tutorial_variational_classifier.html#iris-classification) for iris data showing a setup for a variational classifier. That is variational quantum circuits that can be trained from labelled (classical) data."
   ]
  },
  {
   "cell_type": "code",
   "execution_count": 4,
   "id": "0cfc7b04",
   "metadata": {},
   "outputs": [],
   "source": [
    "wires = 4\n",
    "layers = 4\n",
    "epochs = 5\n",
    "parameters = np.random.uniform(low=-np.pi, high=np.pi, size=(layers, wires, 2))"
   ]
  },
  {
   "cell_type": "code",
   "execution_count": 5,
   "id": "976f7a35",
   "metadata": {},
   "outputs": [],
   "source": [
    "def variational_circuit(params):\n",
    "    for layer in range(layers):\n",
    "        for wire in range(wires):\n",
    "            qml.RX(params[layer][wire][0], wires=wire)\n",
    "            qml.RY(params[layer][wire][1], wires=wire)\n",
    "        for wire in range(0, wires - 1, 2):\n",
    "            qml.CZ(wires=[wire, wire + 1])\n",
    "        for wire in range(1, wires - 1, 2):\n",
    "            qml.CZ(wires=[wire, wire + 1])\n",
    "    return qml.expval(qml.PauliZ(0))"
   ]
  },
  {
   "cell_type": "code",
   "execution_count": 6,
   "id": "0830ad4d",
   "metadata": {},
   "outputs": [],
   "source": [
    "def variational_training_circuit(params, data):\n",
    "    qml.templates.embeddings.AngleEmbedding(\n",
    "        features=data, wires=range(wires), rotation=\"X\"\n",
    "    )\n",
    "    return variational_circuit(params)"
   ]
  },
  {
   "cell_type": "code",
   "execution_count": 7,
   "id": "cffaeaeb",
   "metadata": {},
   "outputs": [],
   "source": [
    "dev = qml.device('default.qubit', wires=wires, shots=1000)\n",
    "circuit = qml.QNode(func=variational_circuit, device=dev)\n",
    "training_circuit = qml.QNode(func=variational_training_circuit, device=dev)"
   ]
  },
  {
   "cell_type": "code",
   "execution_count": 8,
   "id": "c218bd56",
   "metadata": {},
   "outputs": [
    {
     "data": {
      "text/plain": [
       "tensor(-0.052, requires_grad=True)"
      ]
     },
     "execution_count": 8,
     "metadata": {},
     "output_type": "execute_result"
    }
   ],
   "source": [
    "circuit(parameters)"
   ]
  },
  {
   "cell_type": "code",
   "execution_count": 9,
   "id": "38a94850",
   "metadata": {},
   "outputs": [
    {
     "data": {
      "text/plain": [
       "tensor(0.014, requires_grad=True)"
      ]
     },
     "execution_count": 9,
     "metadata": {},
     "output_type": "execute_result"
    }
   ],
   "source": [
    "training_circuit(parameters, data.train_data[0])"
   ]
  },
  {
   "cell_type": "code",
   "execution_count": 10,
   "id": "4e74bd43",
   "metadata": {},
   "outputs": [
    {
     "ename": "AttributeError",
     "evalue": "'QNode' object has no attribute 'draw'",
     "output_type": "error",
     "traceback": [
      "\u001b[0;31m---------------------------------------------------------------------------\u001b[0m",
      "\u001b[0;31mAttributeError\u001b[0m                            Traceback (most recent call last)",
      "\u001b[0;32m/var/folders/09/d62qr57n6dl6znjwx73740hw0000gn/T/ipykernel_60826/3314390578.py\u001b[0m in \u001b[0;36m<module>\u001b[0;34m\u001b[0m\n\u001b[0;32m----> 1\u001b[0;31m \u001b[0mprint\u001b[0m\u001b[0;34m(\u001b[0m\u001b[0mtraining_circuit\u001b[0m\u001b[0;34m.\u001b[0m\u001b[0mdraw\u001b[0m\u001b[0;34m(\u001b[0m\u001b[0;34m)\u001b[0m\u001b[0;34m)\u001b[0m\u001b[0;34m\u001b[0m\u001b[0;34m\u001b[0m\u001b[0m\n\u001b[0m",
      "\u001b[0;31mAttributeError\u001b[0m: 'QNode' object has no attribute 'draw'"
     ]
    }
   ],
   "source": [
    "print(training_circuit.draw())"
   ]
  },
  {
   "cell_type": "code",
   "execution_count": 14,
   "id": "283f578b",
   "metadata": {},
   "outputs": [],
   "source": [
    "# some helpers\n",
    "def correctly_classified(params, data, target):\n",
    "    prediction = training_circuit(params, data)\n",
    "    if prediction < 0 and target[0] > 0:\n",
    "        return True\n",
    "    elif prediction > 0 and target[1] > 0:\n",
    "        return True\n",
    "    return False\n",
    "\n",
    "def overall_cost_and_correct(cost_fn, params, data, targets):\n",
    "    cost = correct_count = 0\n",
    "    for datum, target in zip(data, targets):\n",
    "        cost += cost_fn(params, datum, target)\n",
    "        correct_count += int(correctly_classified(params, datum, target))\n",
    "    return cost, correct_count"
   ]
  },
  {
   "cell_type": "code",
   "execution_count": 15,
   "id": "5f0fcc6c",
   "metadata": {},
   "outputs": [],
   "source": [
    "# Playing with different cost functions\n",
    "def crossentropy_cost(params, data, target):\n",
    "    prediction = training_circuit(params, data)\n",
    "    scaled_prediction = prediction + 1 / 2\n",
    "    predictions = np.array([1 - scaled_prediction, scaled_prediction])\n",
    "    return cross_entropy(predictions, target)\n",
    "\n",
    "def distributed_cost(params, data, target):\n",
    "    \"\"\"Cost function distributes probabilities to both classes.\"\"\"\n",
    "    prediction = training_circuit(params, data)\n",
    "    scaled_prediction = prediction + 1 / 2\n",
    "    predictions = np.array([1 - scaled_prediction, scaled_prediction])\n",
    "    return np.sum(np.abs(target - predictions))\n",
    "\n",
    "def cost(params, data, target):\n",
    "    \"\"\"Cost function penalizes choosing wrong class.\"\"\"\n",
    "    prediction = training_circuit(params, data)\n",
    "    predictions = np.array([0, prediction]) if prediction > 0 else np.array([prediction * -1, 0])\n",
    "    return np.sum(np.abs(target - predictions))"
   ]
  },
  {
   "cell_type": "code",
   "execution_count": 16,
   "id": "84836fd7",
   "metadata": {},
   "outputs": [],
   "source": [
    "optimizer = qml.AdamOptimizer()\n",
    "cost_fn = cost"
   ]
  },
  {
   "cell_type": "code",
   "execution_count": 17,
   "id": "e49ae234",
   "metadata": {},
   "outputs": [
    {
     "name": "stdout",
     "output_type": "stream",
     "text": [
      "start cost: 56.230000000000004, with 24/50 correct samples\n"
     ]
    }
   ],
   "source": [
    "start_cost, correct_count = overall_cost_and_correct(cost_fn, parameters, data.test_data, data.test_target)\n",
    "print(f\"start cost: {start_cost}, with {correct_count}/{len(data.test_target)} correct samples\")"
   ]
  },
  {
   "cell_type": "code",
   "execution_count": 23,
   "id": "f15cd2a3",
   "metadata": {},
   "outputs": [
    {
     "name": "stdout",
     "output_type": "stream",
     "text": [
      "epoch0 cost: 43.85400000000002, with 29/50 correct samples\n",
      "epoch1 cost: 38.38000000000001, with 34/50 correct samples\n",
      "epoch2 cost: 33.187999999999995, with 38/50 correct samples\n",
      "epoch3 cost: 31.218000000000004, with 39/50 correct samples\n",
      "epoch4 cost: 31.368, with 39/50 correct samples\n"
     ]
    }
   ],
   "source": [
    "params = parameters.copy()\n",
    "for _ in range(epochs):\n",
    "    for datum, target in zip(data.train_data, data.train_target):\n",
    "        params = optimizer.step(lambda weights: cost_fn(weights, datum, target), params)\n",
    "\n",
    "    cost, correct_count = overall_cost_and_correct(cost_fn, params, data.test_data, data.test_target)\n",
    "    print(f\"epoch{_} cost: {cost}, with {correct_count}/{len(data.test_target)} correct samples\")"
   ]
  },
  {
   "cell_type": "code",
   "execution_count": 24,
   "id": "06991932",
   "metadata": {},
   "outputs": [
    {
     "name": "stdout",
     "output_type": "stream",
     "text": [
      "final cost: 31.08, with 40/50 correct samples\n"
     ]
    }
   ],
   "source": [
    "final_cost, correct_count = overall_cost_and_correct(cost_fn, params, data.test_data, data.test_target)\n",
    "print(f\"final cost: {final_cost}, with {correct_count}/{len(data.test_target)} correct samples\")"
   ]
  },
  {
   "cell_type": "code",
   "execution_count": null,
   "id": "29e37ba5",
   "metadata": {},
   "outputs": [],
   "source": []
  }
 ],
 "metadata": {
  "interpreter": {
   "hash": "88e75e00cca6104550b192c3a69472ab1bd4ad5bb62fbc08ff10d3358391bfd4"
  },
  "kernelspec": {
   "display_name": "Python 3.8.11 64-bit ('venv': venv)",
   "name": "python3"
  },
  "language_info": {
   "codemirror_mode": {
    "name": "ipython",
    "version": 3
   },
   "file_extension": ".py",
   "mimetype": "text/x-python",
   "name": "python",
   "nbconvert_exporter": "python",
   "pygments_lexer": "ipython3",
   "version": "3.9.7"
  }
 },
 "nbformat": 4,
 "nbformat_minor": 5
}
