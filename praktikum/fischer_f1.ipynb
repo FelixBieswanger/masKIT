{
 "cells": [
  {
   "cell_type": "code",
   "execution_count": 17,
   "metadata": {},
   "outputs": [
    {
     "name": "stdout",
     "output_type": "stream",
     "text": [
      "The autoreload extension is already loaded. To reload it, use:\n",
      "  %reload_ext autoreload\n"
     ]
    }
   ],
   "source": [
    "from myutils import Datasets as ds\n",
    "from myutils import Helpers as h\n",
    "import numpy as np\n",
    "from matplotlib import pyplot as plt\n",
    "import math\n",
    "\n",
    "#Magic Command, so changes in myutils module are reloaded\n",
    "%load_ext autoreload\n",
    "%autoreload 1\n",
    "%aimport myutils"
   ]
  },
  {
   "cell_type": "markdown",
   "metadata": {},
   "source": [
    "Concat=True, combines the training and test dataset.\n",
    "\n",
    "Here to have more data to evalutate the complexity measures (no split is needed in this step, so why not use all of the data)"
   ]
  },
  {
   "cell_type": "code",
   "execution_count": 4,
   "metadata": {},
   "outputs": [
    {
     "name": "stdout",
     "output_type": "stream",
     "text": [
      "ALL_NUMBERS\n",
      "SIX_AND_NINES\n",
      "ONLY_SIXES\n",
      "RANDOM\n",
      "SAMEPICTURE\n"
     ]
    }
   ],
   "source": [
    "data = ds.get_all_data(concat=True)"
   ]
  },
  {
   "cell_type": "code",
   "execution_count": 5,
   "metadata": {},
   "outputs": [
    {
     "name": "stderr",
     "output_type": "stream",
     "text": [
      "/Users/felixbieswanger/miniforge3/envs/tfm1/lib/python3.9/site-packages/sklearn/decomposition/_pca.py:595: RuntimeWarning: invalid value encountered in true_divide\n",
      "  self.explained_variance_ratio_ = self.explained_variance_ / total_var.sum()\n"
     ]
    }
   ],
   "source": [
    "for dataset in data:\n",
    "    data[dataset][\"x_pca\"] = h.PCA(data[dataset][\"x\"],n_components=4, reshape=False)"
   ]
  },
  {
   "cell_type": "markdown",
   "metadata": {},
   "source": [
    "Die Formel aus dem Paper wurde benutzt  \n",
    "![F1 Formula](images/f1_formula.png)"
   ]
  },
  {
   "cell_type": "code",
<<<<<<< HEAD
   "execution_count": 59,
=======
   "execution_count": 12,
>>>>>>> 0fd930f (annote)
   "metadata": {},
   "outputs": [
    {
     "name": "stdout",
     "output_type": "stream",
     "text": [
      "ALL_NUMBERS\n",
<<<<<<< HEAD
      "[2.81173627 3.80091595 0.47742415 1.44197464]\n",
      "\n",
      "SIX_AND_NINES\n",
      "[8.5488589  0.06026788 0.02749829 0.01466895]\n",
=======
      "[2.81173474 3.80088988 0.47742798 1.4419392 ]\n",
      "\n",
      "SIX_AND_NINES\n",
      "[8.54885918 0.06026787 0.02749775 0.01467015]\n",
>>>>>>> 0fd930f (annote)
      "\n",
      "ONLY_SIXES\n",
      "[0. 0. 0. 0.]\n",
      "\n",
      "RANDOM\n",
<<<<<<< HEAD
      "[0.00012013 0.00018603 0.00041621 0.00020144]\n",
      "\n",
      "SAMEPICTURE\n",
      "[3.05274865e+27 3.85925850e-26 2.08798270e-35 1.09143906e-34]\n",
=======
      "[0.00022794 0.00012252 0.00024105 0.0001679 ]\n",
      "\n",
      "SAMEPICTURE\n",
      "[0. 0. 0. 0.]\n",
>>>>>>> 0fd930f (annote)
      "\n"
     ]
    }
   ],
   "source": [
    "for dataset in data:\n",
    "    x = data[dataset][\"x_pca\"]\n",
    "    y = data[dataset][\"y\"]\n",
    "\n",
    "    unique_y = np.unique(y)\n",
    "\n",
    "    classes = {}\n",
    "    for label in unique_y:\n",
    "        classes[label] = x[y == label]\n",
    "\n",
    "    fdr = np.zeros(4)\n",
    "    for fi in range(4):\n",
    "\n",
    "        zähler = list()\n",
    "        for j in unique_y:\n",
    "            for k in unique_y:\n",
    "                if j != k:\n",
    "                    p_cj = len(classes[j]) / len(x)\n",
    "                    p_ck = len(classes[k]) / len(x)\n",
    "\n",
    "                    u_cj = np.mean(classes[j][:,fi], axis=0)\n",
    "                    u_ck = np.mean(classes[k][:,fi], axis=0)\n",
    "\n",
    "                    zähler.append(p_cj*p_ck*(np.power((u_cj-u_ck),2)))\n",
    "\n",
    "\n",
    "        nenner = list()\n",
    "        for j in unique_y:\n",
    "            p_cj = len(classes[j]) / len(x)\n",
    "            sigma_cj = np.std(classes[j][:,fi], axis=0)\n",
    "            nenner.append(p_cj*(np.power(sigma_cj,2)))\n",
    "\n",
<<<<<<< HEAD
    "        \n",
    "        fdr[fi] = np.sum(zähler)/np.sum(nenner)\n",
    "    print(dataset)\n",
    "    print(fdr)\n",
    "    print()\n",
=======
    "        if np.sum(nenner) == 0.0:\n",
    "            fdr[fi] = 0\n",
    "        else:\n",
    "            fdr[fi] = np.sum(zähler)/np.sum(nenner)\n",
    "    print(dataset)\n",
>>>>>>> 0fd930f (annote)
    "    print(fdr)\n",
    "    print()\n",
    "    data[dataset][\"fdr\"] = fdr\n",
    "\n",
    "\n",
    "\n",
    "    "
   ]
  },
  {
   "cell_type": "markdown",
   "metadata": {},
   "source": [
    "Was hier auffällt, dass im Dataset Six and Nines der linke obere Pixel den größten Wert erhalten hat (genau der Pixel, der in der Test-Classification für die Unterscheidung genutzt wurde!!)"
   ]
  },
  {
   "cell_type": "code",
   "execution_count": 31,
   "metadata": {},
   "outputs": [
    {
     "data": {
      "image/png": "iVBORw0KGgoAAAANSUhEUgAAA3oAAAC/CAYAAAConq7iAAAAOXRFWHRTb2Z0d2FyZQBNYXRwbG90bGliIHZlcnNpb24zLjUuMCwgaHR0cHM6Ly9tYXRwbG90bGliLm9yZy8/fFQqAAAACXBIWXMAAAsTAAALEwEAmpwYAAA78ElEQVR4nO3deXwU9f3H8dcnm4M7QAC5BQQJRAXkUjyK9wV4K2oR6tn2V2utVm29bW09eljvWrV4oCCeQKn3VbWioCCHnIIQDrlvSLK7398fM8TNZpNsyCbZXd7Px2Mfyc585zvfmX1nMt+51pxziIiIiIiISPrIqO8GiIiIiIiISGKpoyciIiIiIpJm1NETERERERFJM+roiYiIiIiIpBl19ERERERERNKMOnoiIiIiIiJpRh09ERERERGRNKOOnoiIiEgtM7NlZrbLzLab2RozG2tmTSLGN/HH/aeCadeaWeOIYZeZ2QcR752Z7fDr2GBm75rZ+THqGmZmn/tlN5jZODPrGDF+jF/X36KmO90fPrbma0PqkpkdaWafmtkWM9toZp+Y2cCI8VVlr9jMWkUN/8rPQxf//Vi/3PaI1yx/XBe/7J7hy8zsxoi6nJl1j3h/oJlNNLP1fpu/NrNfm9mPIurYEVXndjPr7Nd9fFRbx5jZx/G0JWKZd0XV/VCNPoR6oo5eBczsAzPbZGY5EcPGmtkfKihfJqRx1L9nQ3p91PBCMxta0fwiAprpv9+bP8BtZjbDzH4U1Z5QVKi3m1n7iPlU9g+qo5m9HPFHOcfMxsS7PqT6KtpwR23Qmvif3UUR0zU1s+Vmdk6c87ndz9LgqOHxZPh2MyvxM7fNzBaa2UNm1i6O+Q71638kavjHe7IVuaz+++ruDO15Xe+Pa25mT/kZ39PeMv8ApO74n+9sM9vpfyaPmllzf9yeXJ4XUT4zxnbvDxHjLzOzb6K263l+Zk6uoi2/M7Olfl4KzWxCxLgPzOwy//fhfltbRow/3cxWmlmu/14Z3HcNd841AfoC/YDfRow7GygCTjCztjGmDQBXV1F/H7/+nsBY4CEzu23PSH+7/zxwP9AKKPDn+bGZtYioZwlwnvn7Gr7RwMIq5i9JxsyaAVOAB4GWQAfgDrzPfY+qsrcUuCCizoOBRjHK3eucaxLx6hM1vrmfzwuAW2Ntd83sAGAasAI42DmXC5wLDABm7akbL7uldfqv5ZWvjZhtOQe4xcxOiBo/PGpZflGNupOGOnox+DsJRwEOGFGLs9oIXG9mTWtYT7X+AIFmwKPAK2YWiBj/v6hQN3HOrYoYX9k/qGfx/ij3B/KAUcD3NVwuqUCcG26cc9uBK4H7zay1P/heYLpz7qU45mPAxXhZvThGkXgyPME519Rv55lAW2BGPJ09YAcwas+Oe5zi3hmKeN3rD/8b0AToBeTi/f0vrsa8JUHM7FrgHuA3eJ/FYXjbl7fNLNsvthG4I2o7ViHn3BPASuDWiMH3A1Odc29U0pbReNu04/1t4ADg3QrmMRl4Dy9L+B3TR4GfOee2RBRVBvdhzrk1wJt4/0/3GA08BnwN/DjGZPcB1+052FFF/eudc88CPwN+6x/QMOAvwB+cc88753b57bgM2A5cE1HFGmA2cBKAf+BiCDCpOsspSeFAAOfcC865kP+5v+Wc+zqiTFXZe5ay+wCjgWf2tkHOuf8Bc4GDYoy+A/jUOfdr59xqv/wC59yFzrnNezvPStoy3W9L30TXnQzU0YvtYuAzvKNho2txPt8A/wN+XcN6qvUH6JxzeEf0WgL7VXdmFfyDGgiMdc7tcM4FnXNfOefKXQIgCRPPhhu/zJvAv4EH/DNt5wE/j3M+RwHtgF8CIyN2sPeIO8POuRLn3FzgfGAdcG0c89+M93d4W+XFyoh7ZyiGgcDzzrlNzrmwc25+PB1iSSz/QMYdwFXOuTf87CzDy24XftgReQMoJvaOSUUuA35uZn3N7CTgOMru4MYyEHjTObcEvG2gc+7xSsr/EjjFr/9vwIfOuXh3kJXBfYB5l0qegt+JN7P9gaHAOP8V68DadOAD4LpqzOp1IBMYhHeWrzMwMbKAcy4MvAxEn9F4JqIdI/26ipBUsxAImdnTZnZK1JnbeLP3GdDMzHr5B9ZGAs/tTWPMcwTeGbmvYhQ5HqizbZ6ZHYbX4UzLA2rq6MV2MT8E/iQzq3ZnqBpuAX4VeZnPXqjWH6Bf5mK8M4HVPusW/Q8qog0Pm9lIM+tc3Tql2irdcMdwDd6G/CXgOr+zHo/RwGTgRf/98BhlqpVh51wIb4fhqDjbcBdwtpn1jLP83uwM7fEZcJeZ/cTMeuzF9JIYQ4AGwCuRA/0z1FP5YYfU4eXvNjPLiqdiv8N4K/AU3hHsnzvnNlUx2WfAxWb2GzMbUNUZROfceryzyuOAYXgdv3gpg+ntNTPbhncFzFp+OIg1CvjaOTcPGA8UmFm/GNPfClwVcYVGpZxzJcB6vAO7e27xWB2j6OqI8Xu8Cgz1Lzm+mBqcwZH645zbChyJt738J7DOzCZF7NvGm709JxVOwDvIuzJGmevMbHPE6+mo8evxrsR4ArjRORfryog8Ymc00dab2S68g9WPAK9FjX8talkur4M2JZw6elHM7Ei8y4NedM7NwLtO/cLamp9zbibwNnBDDauK+w8Q7xKN+4Fb/J3uPQ6LCvWSqOkr+gcF3vXT/8Xb6VpqZjMt4kZfSaw4NtzR5TfhXZrQiKid54qYWSO8z/V5f2fhJWIc6dvLDK/C2/Gokt8pfQy4sxr1V7Uz9GVU1k/yh1+Ft3P+C2CemS02s1OqMV9JjFbAeudcMMa4Mjuk/pmydXhn6uL1EFACzHTOvVZVYefcc3jZOAn4EFhrZlXl/TO8Sy/fcs6tizFeGdw3neFfyj4UyOeHLO85wIxzbiVezspdUeScm4N32X5c9236B0Ba4+1cr/cHx7psvl3E+D3z2oV3NcjNQJ5z7pN45inJxzn3jXNujHOuI97Zq/Z4+4EQZ/bw9jMvBMZQcaf/z8655hGv6HpaOedaOOd6OeceqKCODcTOaLyCQPSBvyy8bX6ZtuBdJn8t3t9j9DRnRC3LP2vQpnqjjl55o/H+Me/Z4D1P7V6+Cd5O6c9i7KRXFNaw/4oU9x8g3s7+AOC+qB2Iz6JCfUDU9BX9g8K/zOhG51wB3uWgM/E6hlZBW6SGqthwl2FmP8a75O0dvPue4nEmXgan+u/H4V2OFqvzVFGGK9IBb8cjXvfgnV2PvrE7pjh2hg6Nyvqb/nS7nHN/dM71xzuq+CIwsYZn3KX61gOtoh4EsUe5HVK8HdGb8M4CVsm/fP0bvIMfcXHOjXPOHQ80B34K/D6icxbL43jb4lPN7PAY45XBfZhz7kO8y9L/bGZDgB5499KtMbM1wGDgwgr+Bm4DLsfbjlbldLzt+OfAAqAQ7wBeKTPLwHsYR6yzK8/g7Qjv1WV6knycc/PxsndQdbLnnPsO70qwU4nzgPFeegcvj3trOd7+TqSuwHfRBf1bX/4K7Cb+W1pSijp6EcysId49ID+KCPw1QJ94dzD3hv9H9wrejkqkisK6wr+mPrKOuP8AnWcO8Alw2l60t/QfVAXj1/vj2hPnWRupmcgNd/Q4M2uDd5/Q5XgPZjnPzOK5bHI03tGu5f7fwkS8Aw3lznBXkuFy/J2K4XhngOPinNuA14n9fbzTUL2doVjz3Ar8EWiM93cnded/ePcCnRU50Lwn/Z5C1A6pc+5tvEvJa/0ftX+/4ES8hxbEepAAZnYp0Mlvz++AJ2Lc3xrPvJTB9HY/3lU4d+FdFdEb7973vnjZaoiX9zKcc4uBCVRySbCZtTTvacsPA/c45zb4BziuA242swvNrIF5T1h8Au8hbX+LUdWHfhsf3LtFlPpmZvlmdq1/2w1m1gnvAX6f4f2fjzt7wKXAsc65HbXY5NuAIWZ2n59PzKy7mT1n8d17PwHvdpJ8/37AAcAleJelVuRuvAfLxXWwMJWoo1fWGUCIsoHvhbdDuueStYC/cdzzivznnR01Lq4nwfnuAH6Cd7R4j5eB08zsRDMLmPdVBzdTcVjj/gM0s3y8S//iPqId5X68x/D28eu7x8wOMu/x5k3xnvS12N9BlwSrYsMd7SHgNefc+857gtX1wD8t4hHzMervgPeQimH88LfQB+/MWqwbtSF2hiPrzDSzXsALeE/e/GvlS1nOX/Hu3eoVT+F4doZitPEW876iItvf4F+N90CYBdVsq9SA855OeQfwoJmdbGZZ5j159UW8MxLPxpjsJrxsR6tsmx0X877m4TTzvpokw78SogDvEeDRZdvjPRDocudcEd5lxxuI4yCIP70yuI/wL+l9EW/7+qD/kJ89r6V4Oa/oiqI78Q4ARJtlZtvxDnxcBlzjnCt9yqxzbgLePVnX4OVyHt5O/RGx/l/7B4bfdc5V5woMSS7b8M7STTOzHXj7CXPwztSeRzWy55xb4rynVFbkeiv7tTHRV19UyXkPvToc70THXDPbgrc/PN1flqr8E/gX3vMFtuCdlb7JVfJkZbxLlDfhHRzeY3LUsrxa3WVJCs45vfwX3hPc/hJj+Hl4jxp+Du+eqMjXx36Z6OEOuKySeY3ZM23EsEf86YZGDBsOzMAL63d4OxANI8Yvw3vkd3T9mX5dXfz3Y/GeTrcd75H1y/GOFGdEtCfkj498DaxoPniPDH/Z//1BYJE/zTq8y+Z61fdnmq4vvLNUL+Ldi7nD//kPvKOypdnCO3ixCu/7YiKnfw+4q5L6bwRmxBjeHu8694PiyTBwu19+T+4W+WU6xLGMQ4HCqGHX+/WPicjtxxHjy+QU76zKbuCDiGHOb0tkzu/3x92M9w9wK96lpR8AQ+r7895XX3gHr+YAu/AeHPUPoEVEtp6LKj81xnavom32WLzHzMfTjrPwroDY5Gdj9p4M+uM/wN/e493Q/0jU9D3xtuEFyqBeeumll1519TLnHCIiIiIiIpI+anTppn8N+Ntmtsj/GfMR72YWMu8pjDPNTF+2KfVGmZVUpNxKqlFmJdUos5KOanqP3o3Au865Hng3x1f0hLtdzrm+/mtEDeeZMszssajre/e8Hqvvtu3DlNkIZja3goxeVEfz/10F8/9PXcw/hSi3tUxZTDhlVlKNMitpp0aXbprZArx7cVabWTu8+2DKfamxmW13zjWpQTtFEkKZlVSk3EqqUWYl1Sizko5q2tHb7LzvZcPMDNi0531UuSDe96oFgbtdBV9Qa2ZXAFcAWFaD/g1addrrtqW73Zs313cTkp7btW69c67Md74lOrN+2dLcYpn9rUHMqz0E6Nurc303Iakt/24Z69evL/fdk7W5rW3cuHH/nj3zE7QEsq/5rh4ySyC7vzVqk5gFSEP9esT7dab7pvrIrLazUhMVZTYesb6IswwzewfvUejRyjwq2jnnzKyiXuP+zrmVZtYNeM/MZjvv8allOOcex/uSWRq1P9B1v+yRKhdgX7Vo8mv13YSkVbz4dVxwJ0ATM5sTMSrhmfXrKc1tRqM2LqfneTVfiDT1yWf6KqaKnHbyCXwzbwdRmYVa3tb27z/AfTKtsqdli8R26knHs6MeMpvRrJPLOezqRCxCWvpk6nX13YSkVV+Z1XZWauKIwQP2etoqO3rOueMrGmdm35tZu4jT3GsrqGOl//NbM/sA6AfE3GkWqans7qcDsHvmw3Odc2X+OpRZSVb/fuNtjjhsIF/OmB7rS++VW0k6U998hyMGD2CGMispQpmVfU1NH8YyiR++UHE08Hp0ATNrYf4XM5tZK+AIvC/oFKkPyqykIuVWUo0yK6lGmZW0U9OO3t3ACWa2CDjef4+ZDTCzJ/wyvYDpZjYLeB/vemb9UUh9UWYlFSm3kmqUWUk1yqyknSov3ayMc24DcFyM4dOBy/zfPwUOrsl8RBJFmZVUpNxKqlFmJdUos5KOanpGT0RERERERJKMOnoiIiIiIiJpRh09ERERERGRNKOOnoiIiIiISJpRR09ERERERCTNqKMnIiIiIiKSZtTRExERERERSTPq6ImIiIiIiKQZdfRERERERETSjDp6IiIiIiIiaUYdPRERERERkTSjjp6IiIiIiEiaUUdPREREREQkzaijJyIiIiIikmbU0RMREREREUkz6uiJiIiIiIikGXX0RERERERE0ow6eiIiIiIiImlGHT0REREREZE0o46eiIiIiIhImlFHT0REREREJM2ooyciIiIiIpJm1NETERERERFJM2nT0SvespZvn7mOhY9eysJHL2P9tFfKlQnt3sGy8bew6B9XsvDRy9g4843ScUuf/y1z7z2DZeNvLjPN+i9eY8FDo5n9+xMI7txSOnzdpy+y6PErWfT4lSx87HJm/+Ekgru21t4C1pALBylaOJGi+eMpmv88JaunlS9TvI3ixa9RtGACRfPHE9q6rHRc8PsZFM17lqJvxhHaurx0eGjrdxR9M46iec8S/H7GD8O3Ffr1vEDxd+/gXLhWly9VBdfOpGj+8956WvYWLhwsO37DN+ye/aT/uY0nuGFemfEuVMzuuWMpKfyodFho00KK5r9A0fzxFC+ZjAvuAiC8az1FC1/y5vXtv3Gh4tpfwBp668036FOQz0G9evDne+8uN76oqIhRF47koF49OPqIw/hu2bLScbO//pqhRw2hf5+DGNjvEHbv3g3Al1/OYGC/QzioVw+uveaXOOcAuOO2Wxh0aB8GD+jH8FNPYtWqVXWyjKnmrTff4JCCnhTkd+e+Cj6TH194PgX53TlqyOAyn8l99/yJgvzuHFLQk7fferPKOpctXcpRQwZTkN+dH194PsXFqZFZrZ/kElo/n6JP7qXo47sJLn2v3HgXDlL89XMUfXw3RdMeILxrY+m44NL3vOGf3Eto/YIq6yye/bw3/NM/UzL3RVw4VLsLlyB1mdtHH36IgvzuNMwy1q9fX6vLlcq0Lamc1k980qajZxkB2p1wJQf+7EkOuOQBNkyfxO5135Ups2H66+S06kyPK/9Bt4v/zJq3HyccKgGg9eHn0umMG8rV27jjQXT98T1k5e5XZnjrIefR44p/0OOKf9D22EtovP8hZDZsVnsLWFMWIPuA08nJH0l2z/MJb1tOeMeaMkWC308no3l3cnqeT1aXEylZ4XUewrs3Etq0iOz8C8nqNpxg4Yc4F8a5MMHCj8jqNozs/AsJbVpEePdGnHOULH+XrP1PIif/Aiy7KaGN8+tjqZOaK95OaP3XZB94Hjn5FwBhQpsWlSsXaNGDnPyR5OSPJDOvd5lxwdXTyGjc/oc6XZiSlR+T3f0McvJHYg3zCK6bDUDJ8vfJan84OfkXkJHbleDar2p1+WoqFApxzdW/4LXJU/ly1lwmThjPN/PKdnTH/utJmrdozpxvFnHVL3/Fzb+7EYBgMMilY0bxwEOPMmPWHN54532ysrIAuPoXP+fhxx5n9ryFLF68mLfe9A74XHPtb/j8y1lMm/4Vp5x6Gn+66866XeAUEAqF+NUv/4/XJ/+Hr76ex8TxL5T/TJ56khbNWzB3/mKuuvoabvqdt139Zt48Jk4Yz5ez5jJpyhtcfdXPCYVCldZ50+9u4Kqrr2Hu/MW0aN6CsU89WefLXB1aP8nHuTDB+a+S1e9SsodcR2jNTMLbvy9TJrTycyyzITlH3kjm/kcTXDQVgPD27wmtmUn2kOvIOvQygvNf+eF/XwV1Btr2I3vIb8g+/FpcqITQyvIHVZNNXef28CFHMPWNd+i8//51vqypQtuSymn9xC9tOnpZTfNo2K4HAIGcRuS06kzJtugjRUa4eBfOOcLFuwg0bIplBABo0vVQMrIblau3YbvuZDdvW+m8N895n+YFxyRkOWqLmWGBbO+NC3uvWPac5QkVY1mNAQhvWUqgRQ8sI0BGTjMsJxe3cy1u51osJ5eMnFwsI0CgRQ/CW5ZCaDdmGWQ0aA5AoGknwpuX1PISpibnHISD3hnPcLB0nccjvHMtLriTjKadImsE5yBc4tUd8Tm6os2Y3ylMhc9k+hefc8AB3enarRvZ2dmcc975TJn8epky/548iR+PGg3AmWefwwfvv4tzjnfefouDDj6EQ/r0ASAvL49AIMDq1avZtnUrgwYfhplx0UWjmDzpNQCaNfvhQM2OHTsws7pZ0BTyxedlP5Nzzx9Z7jOZMvl1LvI/k7POPocP3vM+kymTX+fc80eSk5NDl65dOeCA7nzx+ecV1umc48P33+Oss88B4KJRo0s/q2Sl9ZN83JblWKNWZDTKwzIyCbTtS3jd3DJlwuvmEmjfH4CMNgcT3rjI209YN5dA275YRiYZDVtijVrhtiyvtM5A617e/1szMnI74Yq2lGtTsqnL3AL07deP/bt0qevFTCnallRO6yd+adPRi1S8eQ271yymUYf8MsPzBp5O0frlzL9/JIv+cQXtTvo5ZjVbBeGS3WxfMp1mvY6sUT11wbmwdwngnKfIaNqJjMZlO7CZbQcR2rSA3XPHUvztFLI6HuVNV7IDy2pSWs6ymuBKtuNKtscYvgMCDXAuTHjnWgBCm5fgSrbXwRKmFstuQmabvhTNe5qiOf+CQDaBZp3LlQttXuJdhrn0DVzxNsDrIJas/ISs9keUrdMCZHX6kfc5zx1LePdGAnm9vHENWnodcVLjM1m1ciUdOnYsfd+hQ0dWrVoZo4zX0c3MzKRZbi4bNmxg8aKFmBkjTjuZwwf1569/vtcrvyqqzo4dy1yiedstN9GjW2cmvPA8t9ymM3rRVq1aSceOPxxY6NChIytXrixfplP5z2TlyvLTrlq1ssI6N2zYQG7z5mRmZnrDO5b//JON1k/ycUVbsZzmpe8tJ7dc58vt3oL5ByYtI4BlNoCSnbiiLViD3Khpt8ZXZzhEaPWXBPJ6JnyZEq0ucyvx0bakclo/8UtIR8/MTjazBWa22MxujDE+x8wm+OOnmVmXRMw3llDxLr6beCftTvwZgZyyZ0e2L5lOg7YHkP+r8XS/4jFWvfEQoaIdNZrf1oWf0ahTQXJftukzy/AuAew9BrdzLeFdG8qMD21aRKBlPg0KxpDdbRgl371Tev9S9eZjZHc5iZKVH1O0cCIEsoDkOjuSDJl1wd2Etywlp/fF5Bw0BkJBQhsXlCkTyO3qjc8fSUbTjpQsfxeA0PrZBJrtj2U3KVunCxFaP4fsnueTUzCGjIatCH3/JQBZnY8ltGEORQtehHAx1PAgRzILBoN8+unHPPX0c7z7wX+Z9PprvP/eu1VOd8fv72LRt8s5/4ILeeyRh+qgpdWTDLkVqY59NbPB+a+Q0aIrGS261XdTpJr21cxKeqrxnp6ZBYCHgVOA3sAFZtY7qtilwCbnXHfgb8A9NZ1vLC4UZPnEO2h+8LHk9jqq3PhNs94kN/9IzIyclh3Ibt6WovUrajTPLXM/SPrLNqNZZg4ZTToQ3ra8zPDQxnkEmncH8M72uRAEd2FZjcuc/dlzJm/Pmb2ywxuXTp/T4yxyDjyXjMbtS4+WJoNkyWx4eyGW3QzLbIhZgEDzbuXum7TMBqWXFwfyehPeuc6bducagutns3vuMwRXfUpo43xKVv0Pt8u7XDkjJxczI9C8O+Edq71hDVqQfcAIcnqeR0bzA7GcXJJZ+w4dWFlYWPp+5cpC2rfvEKOM9zccDAbZumULeXl5dOjQkSOPPJpWrVrRqFEjTjr5FGZ+9SXt20fVWVhI+/btiTbygot4/dXyD3SqT8mQ2/btO1BY+MM2c+XKQjp06FC+zIpYn0n5adu371BhnXl5eWzZvJlg0HtAkfdZlZ1XstH6KSsZMms5zXBFm0vfu6It5bZ91iAXt9sr48IhXHA3ZDXyztTt3hI1bbMq6wwueQtXvIPMA4cnclFqTV3mNtklQ2ZB25KqaP3ELxGH9AcBi51z3zrnioHxwOlRZU4HnvZ/fwk4zhJ8A4xzjsLJfyGnVWdaH3ZOzDJZuW3YvtR7AEXJ9k0UbVhBdot2ez3P0O4d7Pjua5r1PHyv66grLrgLFyzyfg8HCW1bgeW0KFPGspoS2ubtBId3b/SeAJnZkIxmXQhtWoQLhwgXbfX+qTVqgzVqgyva4g0LhwhtWkRGsy7ePEp2+vMKEVr7JYG8g+puYauWFJm1rCaEd67B+ffThbYVYg3Kfiau5IczzuEty0rHZ+9/Ig0KRtOg4GIy2w8h0DKfrPaHe3Xu3lT6pM3QthWl05R+Js4R/H46gbyCRC5OwvUfMJDFixexbOlSiouLeenFCZw2bESZMqcOG85zz3of06svv8SPhh6LmXH8iScxZ85sdu7cSTAY5OP/fkR+r960a9eOps2a8fm0z3DOMW7cswwb7n30ixf98CCcKZNf58CeZS/9TgL1ntsBA8t+JhMnjC/3mZw2bATj/M/klZdf4kfHeJ/JacNGMHHCeIqKili2dCmLFy9i4KBBFdZpZhw99BheefklAMY9+3TpZ5WstH7KqffMWrNOuJ3rCe/y/qeF1swko3XZ/faM1r0JrfKeGh1eO5uMlt29e+xa9ya0ZiYuHPSm37key+1caZ3BwmmENiwk6+CLanxrSF2py9ymgHrPLGhbUhWtn/hlJqCODkDkabFCYHBFZZxzQTPbAuQBCXuu7s4Vc9k8+x0atOnKosevBGC/Yy6hZKt3n1he/+G0OeoiCifdx8LHLgeg7bGXkdnIOwq3ZOw1FG1YQbh4F9/cfwEdh/+apgcMZP3nr7Lu0xcJbt/Ion9cQdPug+g4/FoAti74mCbd+pOR3TBRi1FrXMkO77I/5wBHoHl3ArldKFk9jYxGbQjkdiWzwxGUrHif0LpZAGR1Ps67qbxhHoHm3Sme/zxYBpkdjy79B5bZ8ShKvp0EzhFo2YuMhnkABNd+RXjrd9688g4i0LRjBS2rF0mR2YzGbcnIPYDiBS+CZWANWxHIKyjzmQTXfU1461IgA8tsQFbn4yqt07Iak9l2IMWLXvXqzG5aOk1o8yJC670ncGbkHkCgZa9ELUqtyMzM5K/3P8iI004mFA5x8eif0LuggDtvv5VD+w9g2PARjPnJpVw65mIO6tWDFi1a8sxzLwDQokULfnn1NRx1+CDMjJNOPoVTTj0NgPsffJgrL/0Ju3bv4sSTTuakk08B4JabfsuihQvIyMigU+f9eeDhR+tt2StQ77nNzMzkb39/iOGnnUQoFGL0mEvKfyaXXMolY0ZRkN+dFi1a8uy48QD0Lijg7HPPo98hvcnMzOT+Bx4mEPDOVseqE+CuP97DqItGcsdtN9Onbz/GXHJpIhaj1mj9lFPvmbWMAJk9z6Dky3+CCxNoP4iMJm0pWfwmGc06EmhTQKD9IErmjKfo47shqxFZB18EQEaTtgT260Pxp/eBBcjMP9P732fErBO8SzatQXOKP38QgECbg8k84IRELEqtqevcPvzgA/z1L/fy/Zo1DDz0EE4++VQeffyJelv+KPWeWdC2pCpaP/GzvbkHq0wFZucAJzvnLvPfjwIGO+d+EVFmjl+m0H+/xC+zPqquK4ArALJy2/TP/+W4GrUtnS2a/Fp9NyHp7Z758Azn3IDo4YnMrD+uNLdkNenfoGB0bSxOWtjo7/xIbEccNpAvZ0yPeWS4tra1nTp37r9wSdmvohGJ1xGDBzCjjjNLg+b9Gxx1U20sTlrYNPW6+m5CUquPzGo7KzVRWWarkojrClYCkc937+gPi1nGzDKBXGBDVBmcc4875wY45wbsOdMmUgsSllkom1vLTP6zu5KyamVb27pV61pqrkjtZDbyac8iCabtrKSVRHT0vgB6mFlXM8sGRgKTospMAvac5jgHeM/V9FSiyN5TZiUVKbeSapRZSTXKrKSVGt+j51+f/AvgTSAAPOWcm2tmdwLTnXOTgCeBZ81sMbAR7w9HpF4os5KKlFtJNcqspBplVtJNIh7GgnNuKjA1atitEb/vBs5NxLxEEkGZlVSk3EqqUWYl1Sizkk5S49m/IiIiIiIiEjd19ERERERERNKMOnoiIiIiIiJpRh09ERERERGRNKOOnoiIiIiISJpRR09ERERERCTNqKMnIiIiIiKSZtTRExERERERSTPq6ImIiIiIiKQZdfRERERERETSjDp6IiIiIiIiaUYdPRERERERkTSjjp6IiIiIiEiaUUdPREREREQkzaijJyIiIiIikmbU0RMREREREUkz6uiJiIiIiIikGXX0RERERERE0ow6eiIiIiIiImlGHT0REREREZE0o46eiIiIiIhImlFHT0REREREJM2ooyciIiIiIpJm1NETERERERFJM+roiYiIiIiIpBl19ERERERERNKMOnoiIiIiIiJpJiEdPTM72cwWmNliM7sxxvgxZrbOzGb6r8sSMV+RvaXMSipSbiXVKLOSapRZSSeZNa3AzALAw8AJQCHwhZlNcs7Niyo6wTn3i5rOT6SmlFlJRcqtpBplVlKNMivpJhFn9AYBi51z3zrnioHxwOkJqFektiizkoqUW0k1yqykGmVW0kqNz+gBHYAVEe8LgcExyp1tZkcDC4FrnHMrYpQp1atdMz659fgENC89fTSyT303IemdVPBwRaNqJbMA/Xp15pNpD1W3qSIAWOWjay23IrWkdjIbLIJ1yxLVxrTzyCff1ncTktra7UWVjdZ2VtJKXT2MZTLQxTl3CPA28HSsQmZ2hZlNN7Pp69avq6OmicQUV2ZBuZWkom2tpJpqZ9YFd9VpA0WiaDsrKSMRHb2VQKeI9x39YaWccxucc3sOoTwB9I9VkXPucefcAOfcgNatWiegaSIxJSyzflnlVuqCtrWSamols5bZsFYaK4K2s5JmEtHR+wLoYWZdzSwbGAlMiixgZu0i3o4AvknAfEX2ljIrqUi5lVSjzEqqUWYlrdT4Hj3nXNDMfgG8CQSAp5xzc83sTmC6c24S8EszGwEEgY3AmJrOV2RvKbOSipRbSTXKrKQaZVbSTSIexoJzbiowNWrYrRG//xb4bSLmJZIIyqykIuVWUo0yK6lGmZV0UlcPYxEREREREZE6oo6eiIiIiIhImlFHT0REREREJM2ooyciIiIiIpJm1NETERERERFJM+roiYiIiIiIpBl19ERERERERNKMOnoiIiIiIiJpRh09ERERERGRNKOOnoiIiIiISJpRR09ERERERCTNqKMnIiIiIiKSZtTRExERERERSTPq6ImIiIiIiKQZdfRERERERETSjDp6IiIiIiIiaUYdPRERERERkTSjjp6IiIiIiEiaUUdPREREREQkzaijJyIiIiIikmbU0RMREREREUkz6uiJiIiIiIikGXX0RERERERE0kxadfTeevMNDinoSUF+d+679+4Ky736yss0zDJmTJ8OwAvPj2Nw/76lr0bZGcyaOZNt27aVGd6xbSuu+/WvKq0rmf3l5qs576jeXHH60ZWWWzD7K045pB3/fXNymeE7tm/jomP78NAfbiwd9q+//5GLjuvL6QO6lCn7/aoV3HDJ2fz0zB/xmzFnsG7NqoQtRzqpKrNFRUX8+MLzKcjvzlFDBvPdsmUAvPvO2wwZ1J8BfQ9myKD+fPD+ewCVZvbZp8fSqV3r0nH/evKJulrMvba362fDhg2cdPwxtGrehF/98hcx6z7nzBH073tQ6fsfX3h+6brp2b0Lg/v3rY1FSnl7+5kA3HfPnyjI784hBT15+603q6xz2dKlHDVkMAX53fnxhedTXFxcq8uWCFo/ySe09TuKvhlH0bxnCX4/o9x4Fw5RvOxNiuY9S9HCiYSLtpaOC34/wxv+zThCW5dXWWfxd295w+e/QMnyd3EuVLsLlyDzp33I3aOO548XHsO74x4rNz5YXMQzd1zFHy88hr//7Cw2ri4sHffuuEf544XHcPeo45n/+UdV1vncH67h7lHHc9+Ykxl/zw2EgiW1u3ApStuSymn9xCdtOnqhUIhf/fL/eH3yf/jq63lMHP8C38ybV67ctm3bePjBvzNw0ODSYRdceBHTZsxk2oyZPDn2Wbp07Uqfvn1p2rRp6fBpM2bSufP+nHHmWZXWlcxOPGMkd/1jfKVlQqEQT/719/QfMrTcuGcevJuD+h9eZthhQ0/kgfFvliv7z/tu5/gR5/LYqx9y0U+v5V/3/6FGbU9H8WR27FNP0qJ5C+bOX8xVV1/DTb+7AYC8vFa89Npkps+czT+feppLxowCqDKzZ597fum4n1x6Wd0t7F6oyfpp0KABt97+e/50z59j1v3aq6/QuEmTMsOee35C6bo548yzOT1ivYmnJp/JN/PmMXHCeL6cNZdJU97g6qt+TigUqrTOm353A1ddfQ1z5y+mRfMWjH3qyTpf5urQ+kk+zoUJFn5EVrdhZOdfSGjTIsK7N5YpE9o4DwvkkNN7FJmt+xJc/T8Awrs3Etq0iOz8C8nqNpxg4Yc4F660zkCLA8nOv5DsniNx4RChDd/U+TJXVzgU4pW/387l9zzF9U+/yVfvTWbNskVlykybOpFGTXL53fPvc/Q5P2HK4/cAsGbZIr56bwrXj32Dy+/9F6/cfxvhUKjSOvsfP4Ibnnmb6/71H0qKdjPt3y/W+TInO21LKqf1E7+06eh98fnnHHBAd7p260Z2djbnnj+SKZNfL1fujttu4drf3ECDBg1i1vPihBc497yR5YYvWriQtevWcsSRR8VdV7I5eMDhNM1tXmmZ18c9wZEnnEbzlq3KDF80dxabNqwr1wHs1WcAea33K1fPd0sW0mewt676DD6S/733Ro3ano7iyeyUya9z0ajRAJx19jl88N67OOfo268f7du3B6B3QQG7d+2iqKiozLSxMptKarJ+GjduzBFHHhnzb3P79u08cP9fufG3N8ecr3OOl196kfPOvyDxC5XiavKZTJn8OueeP5KcnBy6dO3KAQd054vPP6+wTuccH77/HmedfQ4AF40azeRJr9X1IleL1k/ycTvXYjm5ZOTkYhkBAi16EN6ytEyZ8JalBFrmA5DR/ADC2wpxznnDW/TAMgJk5DTDcnJxO9dWWmegWRfMDDMjo1EbXMn2Ol/m6lo+fxZ5HfYnr31nMrOy6XfsMOZ+8k6ZMnM+eYcBJ3sHvw750SksmvE/nHPM/eQd+h07jMzsHPLadSKvw/4snz+r0jp7HXZM6Trq3KsPm9etrvNlTnballRO6yd+adPRW7VqJR07dip936FDR1auXFmmzFdffklh4QpOOfW0Cut5aeKEmDt4E18czznnno+ZxV1Xqln//Wo+fXcqw0b+pMzwcDjM4/fdxuXX3R53Xd16FvDJO/8G4JN3/s3OHdvZunljFVPtW+LJ7KpVK+nYySuTmZlJs9xcNmzYUKbMq6+8TN9+h5KTk1NmeHRmAV5/9WUG9juEC84/hxUrViR6kRIqUesn2h233cLV11xLo0aNYo7/5OP/sl+b/ejeo0cNlyD91OQzWbmy/LSrVq2ssM4NGzaQ27w5mZmZ3vCOXvlkpvWTfFzJdizrh7P3ltUEV7IjqsyO0jJmGVggG0K7ywz/Ydrt8dXpQoQ2LSDQtHNtLFZCbVn3Pc1btyt9n9u6LVvWfV+mzNZ1a0rLBDIzadikKTu2bCo3bXN/2njqDAVLmPHWa+QP+lFtLFZK07akclo/8UtIR8/MnjKztWY2p4LxZmYPmNliM/vazA5NxHyrIxwOc8Nvfs099/6lwjKfT5tGo4aNKDjooHLjJr44vrQDGE9dqeixu2/m0l/fQkZG2VhMfuFfDDzqOFq3bR93XVf85nZmT/+Un599LLOn/49W+7UjIyOQ6CbvtVTIbDzmzZ3Lzb+7gYce+Ue5cZGZBTh12HDmL17GF199zXHHncDll4yuy6YmhVkzZ7L02yWcfsaZFZZ5cfwLnDsy+c7mpUtmZd+xL2c2uOIjMhq3J6NJ/P839zUv/+1Wuh0ykG6HDKzvppTalzMr6SkzQfWMBR4Cnqlg/ClAD/81GHjU/5kw7dt3oLDwhzMUK1cW0qFDh9L327ZtY97cOZx4/FAAvl+zhnPOGsFLr0yi/4ABgL9jHGMH7+tZswgGgxzav3/cdaWihXNn8afrrgRgy6YNfP7fdwlkBvhm1hfMmTGNKePHsmvnDoIlxTRs1JhLf31LhXXltWnLrX8fC8CuHdv5+O0pNGmWWxeLEa+xJHlmS8usWEHHjh0JBoNs3bKFvLw8AAoLCzn/3DN54qln6HbAAWWmi84sUDodwE8uvYybfnt9Ihcn4Wq6fmKZ9tn/mDFjOj27dyEYDLJu7VpOPG4ob737AQDBYJDXX3uFT6aVf2BDEhhLCme2Q4fy07Zv700bq868vDy2bN5MMBgkMzOTlYU/lE9WWj/ljKWeM7vnLNwe3tm4xlFlGnvDs5t49+CFiiHQoHR42WmblP5eUZ3BNZ/jgrvI6npKIhel1uS23q/M5ZNb1q0hN+qWjGat27J53Wqat2lHKBhk1/ZtNM5tUW7azRHTVlbnm2MfYPvmjYz5/V21tVh7ayz1nFnQtqQqWj/xS8gZPefcR0Bl1+WdDjzjPJ8Bzc2sXSXlq23AwIEsXryIZUuXUlxczMQJ4zlt2IjS8bm5uRSuWc+CxctYsHgZgwYfVqZjFg6HefmlF2Pen/fihBfKnBmpqq5U9cxb03nm7Rk88/YMjjpxOFfdfA9DjjuVG+99jOfe/Ypn3p7B5dfdznEjzqu0kwdeRzEcDgMw/okHOPHM5DpDkgqZBTht2AjGPfs0AK+8/BI/OuZYzIzNmzdz1ojT+P1ddzPkiCPK1R2dWYDVq3/4pztl8iR65vdK5OIkXE3WT0Wu+OnPWLp8FQsWL+O9Dz6mx4EHlnbyAN579x0O7JlPx44da2WZaiLVM3vasBFMnDCeoqIili1dyuLFixg4aFCFdZoZRw89hldefgmAcc8+zbDhpydycRJO66esZMisNWqDK9pCuGir93CUTYvIaNalTJmMZl0JbZwPQHjzEjKadvDusWvWhdCmRbhwyJu+aAvWqE2ldQY3zCO0dQVZXU6sdFuUTDr1PIT1hcvYsHoFwZJivnpvCgVDjitTpmDIcUx/4xUAvv7wP/Q49HDMjIIhx/HVe1MIFhexYfUK1hcuo3N+n0rr/GzKBBZ88RGjbv17uSuI6lsyZBa0LamK1k/8EnVGryodgMgbggr9YQm7AzczM5O//f0hhp92EqFQiNFjLqF3QQF33n4rh/YfwLDhIyqd/uP/fkTHjp3o2q1buXEvv/Qir02amqim1ps/XXclX3/xCVs2b+SiY/sw6v+uJ+g/1njY+WP2qs4n/nwH7099haLdu7jo2D6cfPZFjPq/6/n680956v4/YGYcPOBw/u/mir/uIkklRWbHXHIpl4wZRUF+d1q0aMmz47ynpj72yEMsWbKYP/3hTv70hzsBmPyft2jTpg0QO7OPPPQA/54yicxAJi1atuSfT45N1KLUipqsH4Ce3buwbetWiouLmTzpNaZMfYtevXtXOs+JE8an8kNYkjqzvQsKOPvc8+h3SG8yMzO5/4GHCQS8y7lj1Qlw1x/vYdRFI7njtpvp07cfYy65NFGLUiu0fqqt1jNrlkFmx6Mo+XYSOEegZS8yGuZRsnoaGY3aEMjtSiCvFyXfvUPRvGchswFZ+58IQEbDPALNu1M8/3mwDDI7Ho2Z1zGJVSdAcMUHWHZTihd6O4WB5geQ2TZ5Lk2MJZCZyVlX38bjvxmDC4cZdMo5tO16IG889Tc69jyYg444nsGnnsfzf7yWP154DI2aNWfUrX8HoG3XA+k79FTuHXMyGYEAZ/3qdjL83MaqE+Dlv95Ci7YdeODn3sMtDj76JE4cfVX9LHz11XpmQduSqmj9xM+cc4mpyKwLMMU5V+4GNzObAtztnPvYf/8ucINzbnpUuSuAKwA6de7cf+GS7xLStnT00cJ19d2EpHdSQZsZzrkKT7MmIrP+OOVWEuKIwQOYMWN6hacBlFlJNvWRWbKa9G9QsO/dYxyvu+7/dX03Ian97YrTWbFgtrazkjKq2s5Wpq7Oma8EOkW87+gPK8M597hzboBzbkDrVq3rqGkiMcWVWVBuJWkos5Jq9iqzltmwThonEoO2s5JS6qqjNwm42H9a0WHAFuecvjhFkpkyK6lGmZVUo8xKqlFmJaUk5B49M3sBGAq0MrNC4DYgC8A59xgwFTgVWAzsBH4SuyaRuqHMSqpRZiXVKLOSapRZSTcJ6eg55yp9eoHzbgT8v0TMSyQRlFlJNcqspBplVlKNMivpJrmeaysiIiIiIiI1po6eiIiIiIhImlFHT0REREREJM2ooyciIiIiIpJm1NETERERERFJM+roiYiIiIiIpBl19ERERERERNKMOnoiIiIiIiJpRh09ERERERGRNKOOnoiIiIiISJpRR09ERERERCTNqKMnIiIiIiKSZtTRExERERERSTPq6ImIiIiIiKQZdfRERERERETSjDp6IiIiIiIiaUYdPRERERERkTSjjp6IiIiIiEiaUUdPREREREQkzaijJyIiIiIikmbU0RMREREREUkz6uiJiIiIiIikGXX0RERERERE0ow6eiIiIiIiImlGHT0REREREZE0o46eiIiIiIhImlFHT0REREREJM2ooyciIiIiIpJmEtLRM7OnzGytmc2pYPxQM9tiZjP9162JmK/I3lJmJdUos5JqlFlJNcqspJvMBNUzFngIeKaSMv91zg1L0PxEamosyqyklrEos5JaxqLMSmoZizIraSQhZ/Sccx8BGxNRl0hdUGYl1SizkmqUWUk1yqykm0Sd0YvH4WY2C1gFXOecmxtdwMyuAK7w3xY1zIp96rwetQLW13cjIqg9letZw+mrzCwkfW6T7TNReyqnzCbfZ6L2VK5eMrt75sPKbAWuHfpwUrWHJFs/aDsLyfeZqD2V2+vMmnMuIS0wsy7AFOfcQTHGNQPCzrntZnYq8HfnXI8q6pvunBuQkMYlSLK1Se2pXFXtSXRm45lnXVN7Kpdq7VFm657aUzllVu2pSqq1R5mte2pP5WrSnjp56qZzbqtzbrv/+1Qgy8xa1cW8RfaGMiupRpmVVKPMSqpRZiXV1ElHz8zampn5vw/y57uhLuYtsjeUWUk1yqykGmVWUo0yK6kmIffomdkLwFCglZkVArcBWQDOuceAc4CfmVkQ2AWMdFVfM/p4ItqWYMnWJrWnchW2p5YyW+k864naU7mUaY8yW2/Unsops2pPVVKmPcpsvVF7KrfX7UnYPXoiIiIiIiKSHOrk0k0RERERERGpO+roiYiIiIiIpJmk6eiZWUsze9vMFvk/W1RQLmRmM/3XpFpox8lmtsDMFpvZjTHG55jZBH/8NP8xvLUmjvaMMbN1Eevkslpuz1NmttYs9vfBmOcBv71fm9mh9dyeoWa2JWL93Jrg+dd7bpXZKtujzJatv94z69ev3FbcFmW2bP3K7N61R5lVZpXZytuT/rl1ziXFC7gXuNH//UbgngrKba/FNgSAJUA3IBuYBfSOKvNz4DH/95HAhHpuzxjgoTr8nI4GDgXmVDD+VOA/gAGHAdPquT1D8b4PJy1zq8wqs3sxf21r9649dZZbZVaZTVB7lFllVpmtWU5SPrdJc0YPOB142v/9aeCMemjDIGCxc+5b51wxMN5vV6TIdr4EHGfmPWq3ntpTp5xzHwEbKylyOvCM83wGNDezdvXYntpW37lVZqugzJZT35kF5bZSymw5yuzetafOKLPlKLN71546tS/kNpk6evs551b7v68B9qugXAMzm25mn5nZGQluQwdgRcT7Qn9YzDLOuSCwBchLcDuq0x6As/1Tyi+ZWadaaku84m1zXTrczGaZ2X/MrCDBddd3bpXZmlNmY9O2trxkya0yG5syW54yWzFlVpmtSsrnNiHfoxcvM3sHaBtj1E2Rb5xzzswq+t6H/Z1zK82sG/Cemc12zi1JdFtTyGTgBedckZldiXdk5th6blMy+RIvM9vN7FTgNaBHdSpQbhNOma2cMpuclNuKKbPJSZmtmDKbnJTZylU7t3Xa0XPOHV/RODP73szaOedW+6dF11ZQx0r/57dm9gHQD++a30RYCUQePejoD4tVptDMMoFcYEOC5l/t9jjnIuf9BN514fUpnnVYZ5xzWyN+n2pmj5hZK+fc+mrUkcy5VWZrTpmNXYe2tRGSLLfKbOw6lNkIymzFlNlyZZTZ2FI+t8l06eYkYLT/+2jg9egCZtbCzHL831sBRwDzEtiGL4AeZtbVzLLxbkyNfgpSZDvPAd5zztXWt85X2Z6oa4VHAN/UUlviNQm42DyHAVsiLl+oc2bW1sy73tzMBuFlPpEbsfrOrTJbc8ps+TZoW5vcuVVmy7dBmVVm46bMxmynMlte6ufW1dGTbap64V0T/C6wCHgHaOkPHwA84f8+BJiN96Se2cCltdCOU4GFeEdUbvKH3QmM8H9vAEwEFgOfA91qeb1U1Z4/AXP9dfI+kF/L7XkBWA2U4F2rfCnwU+Cn/ngDHvbbOxsYUM/t+UXE+vkMGJJuuVVmldlUy6xyq8wqs8qsMqvM1mdm95Xcmj+hiIiIiIiIpIlkunRTREREREREEkAdPRERERERkTSjjp6IiIiIiEiaUUdPREREREQkzaijJyIiIiIikmbU0RMREREREUkz6uiJiIiIiIikmf8HbV21M+F1qb0AAAAASUVORK5CYII=",
      "text/plain": [
       "<Figure size 1080x720 with 5 Axes>"
      ]
     },
     "metadata": {
      "needs_background": "light"
     },
     "output_type": "display_data"
    }
   ],
   "source": [
    "i=0\n",
    "# plot fdr in grid\n",
    "fig, ax = plt.subplots(1,5,figsize=(15,10))\n",
    "for dataset in data:\n",
    "    ax[i].imshow(np.round(data[dataset][\"fdr\"],5).reshape(2,2),cmap=\"Blues\")\n",
    "    for j in range(2):\n",
    "        for k in range(2):\n",
    "            ax[i].annotate(\"{:.4f}\".format(data[dataset][\"fdr\"][j*2+k]),xy=(k-0.35,j))\n",
    "    ax[i].set_title(dataset)\n",
    "\n",
    "    i+=1"
   ]
  },
  {
   "cell_type": "code",
   "execution_count": 34,
   "metadata": {},
   "outputs": [
    {
     "name": "stdout",
     "output_type": "stream",
     "text": [
      "ALL_NUMBERS 0.2082947174428523\n",
      "SIX_AND_NINES 0.1047245520475795\n",
      "ONLY_SIXES 1.0\n",
      "RANDOM 0.9997590102457794\n",
      "SAMEPICTURE 1.0\n"
     ]
    }
   ],
   "source": [
    "for dataset in data:\n",
    "    F1 = 1 / (1 + np.amax(data[dataset][\"fdr\"]))\n",
    "    print(dataset, F1)"
   ]
  }
 ],
 "metadata": {
  "interpreter": {
   "hash": "66fbc7444ff33bf974f21d3d224fe531a78305e3f7b70f0cb67a92233fdb1f5a"
  },
  "kernelspec": {
   "display_name": "Python 3.9.7 64-bit ('tfm1': conda)",
   "language": "python",
   "name": "python3"
  },
  "language_info": {
   "codemirror_mode": {
    "name": "ipython",
    "version": 3
   },
   "file_extension": ".py",
   "mimetype": "text/x-python",
   "name": "python",
   "nbconvert_exporter": "python",
   "pygments_lexer": "ipython3",
   "version": "3.9.7"
  },
  "orig_nbformat": 4
 },
 "nbformat": 4,
 "nbformat_minor": 2
}
