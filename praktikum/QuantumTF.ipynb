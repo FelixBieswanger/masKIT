{
 "cells": [
  {
   "cell_type": "code",
   "execution_count": 32,
   "metadata": {},
   "outputs": [],
   "source": [
    "import pennylane as qml\n",
    "import tensorflow as tf\n",
    "import sklearn.datasets\n",
    "import numpy as np\n",
    "\n",
    "from myutils import Datasets\n",
    "from myutils import Preprocessing\n",
    "from myutils import Helpers\n",
    "from matplotlib import pyplot as plt"
   ]
  },
  {
   "cell_type": "markdown",
   "metadata": {},
   "source": [
    "# Import and Preprocess Data"
   ]
  },
  {
   "cell_type": "code",
   "execution_count": 23,
   "metadata": {},
   "outputs": [],
   "source": [
    "data_new= Datasets.get_preprocessed_datasets(\"RAW\")[\"RAW\"][\"6,9\"]\n",
    "\n",
    "#convert to binary -> nur schwarz oder weiss \n",
    "x_train , x_test = data_new[\"x_train\"] / 255, data_new[\"x_test\"] / 255\n",
    "x_train , x_test = np.rint(x_train), np.rint(x_test)\n",
    "\n",
    "x_train_pca, x_test_pca = Preprocessing.PCA(x_train,x_test,outputsize=4)\n",
    "\n",
    "#scale data 0, 2*np\n",
    "data_new[\"x_train_pca\"] = Preprocessing.minmax_scaler(x_train_pca, min = 0,max = 2 * np.pi)\n",
    "data_new[\"x_test_pca\"] = Preprocessing.minmax_scaler(x_test_pca, min = 0,max = 2 * np.pi)"
   ]
  },
  {
   "cell_type": "code",
   "execution_count": 24,
   "metadata": {},
   "outputs": [
    {
     "name": "stdout",
     "output_type": "stream",
     "text": [
      "train 750, test250\n"
     ]
    }
   ],
   "source": [
    "n = 1000\n",
    "split = 0.75\n",
    "data_new[\"x_train_pca\"] = data_new[\"x_train_pca\"][:int(n*split)]\n",
    "data_new[\"y_train_binary\"] = data_new[\"y_train_binary\"][:int(n*split)]\n",
    "data_new[\"x_test_pca\"] = data_new[\"x_test_pca\"][:int(n*(1-split))]\n",
    "data_new[\"y_test_binary\"] = data_new[\"y_test_binary\"][:int(n*(1-split))]\n",
    "\n",
    "print(\"train {}, test{}\".format(int(n*split),int(n*(1-split))))"
   ]
  },
  {
   "cell_type": "code",
   "execution_count": 25,
   "metadata": {},
   "outputs": [],
   "source": [
    "n_qubits = 4\n",
    "wires = 4\n",
    "layers = 4\n",
    "dev = qml.device(\"default.qubit\", wires=n_qubits)\n",
    "\n",
    "@qml.qnode(dev)\n",
    "def qnode(inputs, weights):\n",
    "    qml.templates.embeddings.AngleEmbedding(\n",
    "        features=inputs, wires=range(wires), rotation=\"X\"\n",
    "    )\n",
    "    for layer in range(layers):\n",
    "        for wire in range(wires):\n",
    "            qml.RX(weights[layer][wire][0], wires=wire)\n",
    "            qml.RY(weights[layer][wire][1], wires=wire)\n",
    "        for wire in range(0, wires - 1, 2):\n",
    "            qml.CZ(wires=[wire, wire + 1])\n",
    "        for wire in range(1, wires - 1, 2):\n",
    "            qml.CZ(wires=[wire, wire + 1])\n",
    "    return qml.expval(qml.PauliZ(0)), qml.expval(qml.PauliZ(1))"
   ]
  },
  {
   "cell_type": "code",
   "execution_count": 26,
   "metadata": {},
   "outputs": [],
   "source": [
    "weight_shapes = {\"weights\": (4, n_qubits, 4)}\n",
    "\n",
    "qlayer = qml.qnn.KerasLayer(qnode, weight_shapes, output_dim=2)\n",
    "clayer1 = tf.keras.layers.Dense(n_qubits)\n",
    "clayer2 = tf.keras.layers.Dense(2, activation=\"softmax\")\n",
    "model = tf.keras.models.Sequential([clayer1, qlayer, clayer2])\n",
    "\n",
    "\n",
    "X = tf.constant(data_new[\"x_train_pca\"], dtype=tf.float32)\n",
    "Y = tf.one_hot(data_new[\"y_train_binary\"], 2)\n",
    "\n",
    "X_test = tf.constant(data_new[\"x_test_pca\"], dtype=tf.float32)\n",
    "Y_test = tf.one_hot(data_new[\"y_test_binary\"], 2)\n",
    "\n",
    "\n",
    "opt = tf.keras.optimizers.Adam()\n",
    "model.compile(opt, loss=tf.keras.losses.BinaryCrossentropy(), metrics=[\"accuracy\"])"
   ]
  },
  {
   "cell_type": "code",
   "execution_count": 28,
   "metadata": {},
   "outputs": [
    {
     "name": "stdout",
     "output_type": "stream",
     "text": [
      "Epoch 1/5\n",
      "108/108 [==============================] - 411s 4s/step - loss: 0.5091 - accuracy: 0.8093 - val_loss: 0.4777 - val_accuracy: 0.8600\n",
      "Epoch 2/5\n",
      "108/108 [==============================] - 424s 4s/step - loss: 0.4120 - accuracy: 0.9093 - val_loss: 0.4029 - val_accuracy: 0.9240\n",
      "Epoch 3/5\n",
      "108/108 [==============================] - 404s 4s/step - loss: 0.3704 - accuracy: 0.9307 - val_loss: 0.3644 - val_accuracy: 0.9480\n",
      "Epoch 4/5\n",
      "108/108 [==============================] - 371s 3s/step - loss: 0.3353 - accuracy: 0.9467 - val_loss: 0.3312 - val_accuracy: 0.9720\n",
      "Epoch 5/5\n",
      "108/108 [==============================] - 376s 3s/step - loss: 0.3047 - accuracy: 0.9573 - val_loss: 0.3102 - val_accuracy: 0.9720\n",
      "CPU times: user 16min 8s, sys: 12min 43s, total: 28min 52s\n",
      "Wall time: 33min 5s\n"
     ]
    }
   ],
   "source": [
    "%%time\n",
    "tf.compat.v1.reset_default_graph()\n",
    "with tf.device(\"/device:GPU:0\"):\n",
    "    hist = model.fit(X, Y, epochs=5, batch_size=7, validation_data=(X_test, Y_test))"
   ]
  },
  {
   "cell_type": "code",
   "execution_count": 31,
   "metadata": {},
   "outputs": [],
   "source": [
    "Helpers.store(hist.history,\"measure/QML_TF/\",\"hist\")"
   ]
  },
  {
   "cell_type": "code",
   "execution_count": 52,
   "metadata": {},
   "outputs": [
    {
     "data": {
      "image/png": "[encoded data removed]",
      "text/plain": [
       "<Figure size 432x288 with 1 Axes>"
      ]
     },
     "metadata": {
      "needs_background": "light"
     },
     "output_type": "display_data"
    }
   ],
   "source": [
    "plt.plot(np.array(range(1,6)),hist.history[\"accuracy\"],label=\"accuracy\")\n",
    "plt.plot(np.array(range(1,6)),hist.history[\"val_accuracy\"],label=\"val_accuracy\")\n",
    "plt.title(\"Model accuracy\")\n",
    "plt.ylabel(\"Accuracy\")\n",
    "plt.xticks(np.array(range(1,6)),[\"1\",\"2\",\"3\",\"4\",\"5\"])\n",
    "plt.xlabel(\"Epoch\")\n",
    "plt.grid(axis=\"y\")\n",
    "plt.show()"
   ]
  },
  {
   "cell_type": "code",
   "execution_count": null,
   "metadata": {},
   "outputs": [],
   "source": []
  }
 ],
 "metadata": {
  "interpreter": {
   "hash": "66fbc7444ff33bf974f21d3d224fe531a78305e3f7b70f0cb67a92233fdb1f5a"
  },
  "kernelspec": {
   "display_name": "Python 3.9.7 64-bit ('tfm1': conda)",
   "language": "python",
   "name": "python3"
  },
  "language_info": {
   "codemirror_mode": {
    "name": "ipython",
    "version": 3
   },
   "file_extension": ".py",
   "mimetype": "text/x-python",
   "name": "python",
   "nbconvert_exporter": "python",
   "pygments_lexer": "ipython3",
   "version": "3.9.7"
  },
  "orig_nbformat": 4
 },
 "nbformat": 4,
 "nbformat_minor": 2
}
