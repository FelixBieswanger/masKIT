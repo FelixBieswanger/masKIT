{
 "cells": [
  {
   "cell_type": "code",
   "execution_count": 1,
   "metadata": {},
   "outputs": [],
   "source": [
    "import itertools\n",
    "from myutils import Preprocessing as pre\n",
    "from myutils import Datasets as ds\n",
    "from myutils import Helpers \n",
    "from myutils import Complexity_Measures as cm\n",
    "import numpy as np\n",
    "import os\n",
    "import pandas as pd\n",
    "import tensorflow as tf\n",
    "from matplotlib import pyplot as plt\n",
    "\n",
    "\n",
    "#Magic Command, so changes in myutils module are reloaded\n",
    "%load_ext autoreload\n",
    "%autoreload 1\n",
    "%aimport myutils"
   ]
  },
  {
   "cell_type": "code",
   "execution_count": 2,
   "metadata": {},
   "outputs": [],
   "source": [
    "x_train, y_train, x_test, y_test = ds.ALL_NUMBERS()"
   ]
  },
  {
   "cell_type": "markdown",
   "metadata": {},
   "source": [
    "# AutoEncoder"
   ]
  },
  {
   "cell_type": "code",
   "execution_count": 11,
   "metadata": {},
   "outputs": [
    {
     "name": "stdout",
     "output_type": "stream",
     "text": [
      "processing subset: 6,9 and outputsize 13\n",
      "Epoch 1/50\n",
      "371/371 [==============================] - 3s 6ms/step - loss: 0.1192\n",
      "Epoch 2/50\n",
      "371/371 [==============================] - 2s 6ms/step - loss: 0.1120\n",
      "Epoch 3/50\n",
      "371/371 [==============================] - 2s 6ms/step - loss: 0.1047\n",
      "Epoch 4/50\n",
      "371/371 [==============================] - 2s 6ms/step - loss: 0.0982\n",
      "Epoch 5/50\n",
      "371/371 [==============================] - 2s 6ms/step - loss: 0.0957\n",
      "Epoch 6/50\n",
      "371/371 [==============================] - 2s 6ms/step - loss: 0.0946\n",
      "Epoch 7/50\n",
      "371/371 [==============================] - 2s 6ms/step - loss: 0.0941\n",
      "Epoch 8/50\n",
      "371/371 [==============================] - 2s 6ms/step - loss: 0.0935\n",
      "Epoch 9/50\n",
      "371/371 [==============================] - 2s 6ms/step - loss: 0.0930\n",
      "Epoch 10/50\n",
      "371/371 [==============================] - 2s 6ms/step - loss: 0.0924\n",
      "Epoch 11/50\n",
      "371/371 [==============================] - 2s 5ms/step - loss: 0.0918\n",
      "Epoch 12/50\n",
      "371/371 [==============================] - 2s 6ms/step - loss: 0.0911\n",
      "Epoch 13/50\n",
      "371/371 [==============================] - 2s 6ms/step - loss: 0.0903\n",
      "Epoch 14/50\n",
      "371/371 [==============================] - 2s 6ms/step - loss: 0.0895\n",
      "Epoch 15/50\n",
      "371/371 [==============================] - 2s 6ms/step - loss: 0.0887\n",
      "Epoch 16/50\n",
      "371/371 [==============================] - 2s 6ms/step - loss: 0.0883\n",
      "Epoch 17/50\n",
      "371/371 [==============================] - 2s 6ms/step - loss: 0.0877\n",
      "Epoch 18/50\n",
      "371/371 [==============================] - 2s 6ms/step - loss: 0.0871\n",
      "Epoch 19/50\n",
      "371/371 [==============================] - 2s 6ms/step - loss: 0.0864\n",
      "Epoch 20/50\n",
      "371/371 [==============================] - 2s 6ms/step - loss: 0.0859\n",
      "Epoch 21/50\n",
      "371/371 [==============================] - 2s 6ms/step - loss: 0.0856\n",
      "Epoch 22/50\n",
      "371/371 [==============================] - 2s 5ms/step - loss: 0.0852\n",
      "Epoch 23/50\n",
      "371/371 [==============================] - 2s 6ms/step - loss: 0.0847\n",
      "Epoch 24/50\n",
      "371/371 [==============================] - 2s 6ms/step - loss: 0.0842\n",
      "Epoch 25/50\n",
      "371/371 [==============================] - 2s 6ms/step - loss: 0.0839\n",
      "Epoch 26/50\n",
      "371/371 [==============================] - 2s 6ms/step - loss: 0.0837\n",
      "Epoch 27/50\n",
      "371/371 [==============================] - 2s 6ms/step - loss: 0.0835\n",
      "Epoch 28/50\n",
      "371/371 [==============================] - 2s 6ms/step - loss: 0.0833\n",
      "Epoch 29/50\n",
      "371/371 [==============================] - 2s 6ms/step - loss: 0.0831\n",
      "Epoch 30/50\n",
      "371/371 [==============================] - 2s 6ms/step - loss: 0.0828\n",
      "Epoch 31/50\n",
      "371/371 [==============================] - 2s 6ms/step - loss: 0.0826\n",
      "Epoch 32/50\n",
      "371/371 [==============================] - 2s 6ms/step - loss: 0.0824\n",
      "Epoch 33/50\n",
      "371/371 [==============================] - 2s 6ms/step - loss: 0.0822\n",
      "Epoch 34/50\n",
      "371/371 [==============================] - 2s 6ms/step - loss: 0.0819\n",
      "Epoch 35/50\n",
      "371/371 [==============================] - 2s 6ms/step - loss: 0.0816\n",
      "Epoch 36/50\n",
      "371/371 [==============================] - 2s 6ms/step - loss: 0.0814\n",
      "Epoch 37/50\n",
      "371/371 [==============================] - 2s 6ms/step - loss: 0.0812\n",
      "Epoch 38/50\n",
      "371/371 [==============================] - 2s 6ms/step - loss: 0.0810\n",
      "Epoch 39/50\n",
      "371/371 [==============================] - 2s 6ms/step - loss: 0.0806\n",
      "Epoch 40/50\n",
      "371/371 [==============================] - 2s 6ms/step - loss: 0.0803\n",
      "Epoch 41/50\n",
      "371/371 [==============================] - 2s 6ms/step - loss: 0.0801\n",
      "Epoch 42/50\n",
      "371/371 [==============================] - 2s 6ms/step - loss: 0.0797\n",
      "Epoch 43/50\n",
      "371/371 [==============================] - 2s 6ms/step - loss: 0.0791\n",
      "Epoch 44/50\n",
      "371/371 [==============================] - 2s 6ms/step - loss: 0.0789\n",
      "Epoch 45/50\n",
      "371/371 [==============================] - 2s 6ms/step - loss: 0.0787\n",
      "Epoch 46/50\n",
      "371/371 [==============================] - 2s 6ms/step - loss: 0.0785\n",
      "Epoch 47/50\n",
      "371/371 [==============================] - 2s 6ms/step - loss: 0.0783\n",
      "Epoch 48/50\n",
      "371/371 [==============================] - 2s 6ms/step - loss: 0.0781\n",
      "Epoch 49/50\n",
      "371/371 [==============================] - 2s 6ms/step - loss: 0.0780\n",
      "Epoch 50/50\n",
      "371/371 [==============================] - 2s 6ms/step - loss: 0.0778\n"
     ]
    }
   ],
   "source": [
    "preprocessing_name = \"Autoencoder\"\n",
    "\n",
    "for subset in [(6,9)]:\n",
    "\n",
    "    for outputsize in [13]:\n",
    "\n",
    "        subset_name = str(subset).replace(\"(\",\"\").replace(\")\",\"\").replace(\" \",\"\")\n",
    "            \n",
    "        #log progress\n",
    "        print(\"processing subset: {} and outputsize {}\".format(subset_name,outputsize))\n",
    "        os.makedirs(\"data/increasingFeature/{}/{}/{}\".format(preprocessing_name,subset_name,outputsize),exist_ok=True)\n",
    "\n",
    "        x_train_subset = x_train[(y_train == subset[0]) | (y_train == subset[1])]\n",
    "        y_train_subset = y_train[(y_train == subset[0]) | (y_train == subset[1])]\n",
    "        y_train_subset_binary = np.where(y_train_subset == subset[0], 0, y_train_subset)\n",
    "        y_train_subset_binary = np.where(y_train_subset_binary == subset[1], 1, y_train_subset_binary)\n",
    "\n",
    "        x_test_subset = x_test[(y_test == subset[0]) | (y_test == subset[1])]\n",
    "        y_test_subset = y_test[(y_test == subset[0]) | (y_test == subset[1])]\n",
    "        y_test_subset_binary = np.where(y_test_subset == subset[0], 0, y_test_subset)\n",
    "        y_test_subset_binary = np.where(y_test_subset_binary == subset[1], 1, y_test_subset_binary)\n",
    "\n",
    "        x_train_subset = x_train_subset.reshape(x_train_subset.shape[0],784)\n",
    "        x_test_subset = x_test_subset.reshape(x_test_subset.shape[0],784)\n",
    "\n",
    "        x_train_pre , x_test_pre, hist = pre.Autoencoder(x_train_subset,x_test_subset,outputsize=outputsize,epochs=50,verbose=1)\n",
    "\n",
    "        for type, dataset in zip([\"x_train\",\"x_test\",\"y_train\",\"y_test\",\"y_train_binary\",\"y_test_binary\",\"hist\"],\n",
    "        [x_train_pre,x_test_pre,y_train_subset,y_test_subset,y_train_subset_binary,y_test_subset_binary,hist]):\n",
    "\n",
    "\n",
    "            Helpers.store(dataset,\"data/increasingFeature/{}/{}/{}\".format(preprocessing_name,outputsize,subset_name),type)\n",
    "\n",
    "        tf.keras.backend.clear_session()"
   ]
  },
  {
   "cell_type": "markdown",
   "metadata": {},
   "source": [
    "# PCA"
   ]
  },
  {
   "cell_type": "code",
   "execution_count": 11,
   "metadata": {},
   "outputs": [
    {
     "name": "stdout",
     "output_type": "stream",
     "text": [
      "processing subset: 6,9 and outputsize 5\n",
      "processing subset: 6,9 and outputsize 7\n",
      "processing subset: 6,9 and outputsize 9\n",
      "processing subset: 6,9 and outputsize 11\n",
      "processing subset: 6,9 and outputsize 13\n"
     ]
    }
   ],
   "source": [
    "preprocessing_name = \"PCA\"\n",
    "\n",
    "for subset in [(6,9)]:\n",
    "\n",
    "    for outputsize in range(5,14,2):\n",
    "\n",
    "        #mkdir\n",
    "        subset_name = str(subset).replace(\"(\",\"\").replace(\")\",\"\").replace(\" \",\"\")\n",
    "        \n",
    "        \n",
    "        #log progress\n",
    "        print(\"processing subset: {} and outputsize {}\".format(subset_name,outputsize))\n",
    "\n",
    "        x_train_subset = x_train[(y_train == subset[0]) | (y_train == subset[1])]\n",
    "        y_train_subset = y_train[(y_train == subset[0]) | (y_train == subset[1])]\n",
    "        y_train_subset_binary = np.where(y_train_subset == subset[0], 0, y_train_subset)\n",
    "        y_train_subset_binary = np.where(y_train_subset_binary == subset[1], 1, y_train_subset_binary)\n",
    "\n",
    "        x_test_subset = x_test[(y_test == subset[0]) | (y_test == subset[1])]\n",
    "        y_test_subset = y_test[(y_test == subset[0]) | (y_test == subset[1])]\n",
    "        y_test_subset_binary = np.where(y_test_subset == subset[0], 0, y_test_subset)\n",
    "        y_test_subset_binary = np.where(y_test_subset_binary == subset[1], 1, y_test_subset_binary)\n",
    "\n",
    "        x_train_subset = x_train_subset.reshape(x_train_subset.shape[0],784)\n",
    "        x_test_subset = x_test_subset.reshape(x_test_subset.shape[0],784)\n",
    "\n",
    "        x_train_pre , x_test_pre = pre.PCA(x_train_subset,x_test_subset,outputsize=outputsize)\n",
    "\n",
    "        x_train_pre = pre.minmax_scaler(x_train_pre,min=0,max=1)\n",
    "        x_test_pre = pre.minmax_scaler(x_test_pre,min=0,max=1)\n",
    "    \n",
    "\n",
    "        for type, dataset in zip([\"x_train\",\"x_test\",\"y_train\",\"y_test\",\"y_train_binary\",\"y_test_binary\"],\n",
    "        [x_train_pre,x_test_pre,y_train_subset,y_test_subset,y_train_subset_binary,y_test_subset_binary]):\n",
    "            Helpers.store(dataset,\"data/increasingFeature/{}/{}/{}\".format(preprocessing_name,outputsize,subset_name),type)"
   ]
  },
  {
   "cell_type": "code",
   "execution_count": 7,
   "metadata": {},
   "outputs": [
    {
     "name": "stdout",
     "output_type": "stream",
     "text": [
      "processing subset: 0,1\n",
      "processing subset: 0,2\n",
      "processing subset: 0,3\n",
      "processing subset: 0,4\n",
      "processing subset: 0,5\n",
      "processing subset: 0,6\n",
      "processing subset: 0,7\n",
      "processing subset: 0,8\n",
      "processing subset: 0,9\n",
      "processing subset: 1,2\n",
      "processing subset: 1,3\n",
      "processing subset: 1,4\n",
      "processing subset: 1,5\n",
      "processing subset: 1,6\n",
      "processing subset: 1,7\n",
      "processing subset: 1,8\n",
      "processing subset: 1,9\n",
      "processing subset: 2,3\n",
      "processing subset: 2,4\n",
      "processing subset: 2,5\n",
      "processing subset: 2,6\n",
      "processing subset: 2,7\n",
      "processing subset: 2,8\n",
      "processing subset: 2,9\n",
      "processing subset: 3,4\n",
      "processing subset: 3,5\n",
      "processing subset: 3,6\n",
      "processing subset: 3,7\n",
      "processing subset: 3,8\n",
      "processing subset: 3,9\n",
      "processing subset: 4,5\n",
      "processing subset: 4,6\n",
      "processing subset: 4,7\n",
      "processing subset: 4,8\n",
      "processing subset: 4,9\n",
      "processing subset: 5,6\n",
      "processing subset: 5,7\n",
      "processing subset: 5,8\n",
      "processing subset: 5,9\n",
      "processing subset: 6,7\n",
      "processing subset: 6,8\n",
      "processing subset: 6,9\n",
      "processing subset: 7,8\n",
      "processing subset: 7,9\n",
      "processing subset: 8,9\n"
     ]
    }
   ],
   "source": [
    "preprocessing_name = \"RAW\"\n",
    "\n",
    "os.system(\"rm -rf data/\"+preprocessing_name+\"/*\")\n",
    "\n",
    "for subset in itertools.combinations([i for i in range(10)],2):\n",
    "    #mkdir\n",
    "    subset_name = str(subset).replace(\"(\",\"\").replace(\")\",\"\").replace(\" \",\"\")\n",
    "    \n",
    "    os.makedirs(\"data/{}/{}\".format(preprocessing_name,subset_name))\n",
    "    \n",
    "    #log progress\n",
    "    print(\"processing subset:\",subset_name)\n",
    "\n",
    "    x_train_subset = x_train[(y_train == subset[0]) | (y_train == subset[1])]\n",
    "    y_train_subset = y_train[(y_train == subset[0]) | (y_train == subset[1])]\n",
    "\n",
    "    y_train_subset_binary = np.where(y_train_subset == subset[0], 0, y_train_subset)\n",
    "    y_train_subset_binary = np.where(y_train_subset_binary == subset[1], 1, y_train_subset_binary)\n",
    "\n",
    "    x_test_subset = x_test[(y_test == subset[0]) | (y_test == subset[1])]\n",
    "    y_test_subset = y_test[(y_test == subset[0]) | (y_test == subset[1])]\n",
    "    y_test_subset_binary = np.where(y_test_subset == subset[0], 0, y_test_subset)\n",
    "    y_test_subset_binary = np.where(y_test_subset_binary == subset[1], 1, y_test_subset_binary)\n",
    "\n",
    "    x_train_subset = x_train_subset.reshape(x_train_subset.shape[0],784)\n",
    "    x_test_subset = x_test_subset.reshape(x_test_subset.shape[0],784)\n",
    "\n",
    "    for type, dataset in zip(\n",
    "        [\"x_train\",\"x_test\",\"y_train\",\"y_test\",\"y_train_binary\",\"y_test_binary\"],\n",
    "        [x_train_subset,x_test_subset,y_train_subset,y_test_subset,y_train_subset_binary,y_test_subset_binary]):\n",
    "\n",
    "        np.save(\"data/\"+preprocessing_name+\"/\"+str(subset_name)+\"/\"+type+\".npy\",dataset)"
   ]
  },
  {
   "cell_type": "code",
   "execution_count": 2,
   "metadata": {},
   "outputs": [],
   "source": [
    "x_train, y_train, x_test, y_test = ds.ALL_NUMBERS()"
   ]
  },
  {
   "cell_type": "code",
   "execution_count": 143,
   "metadata": {},
   "outputs": [
    {
     "name": "stdout",
     "output_type": "stream",
     "text": [
      "processing subset: 0,6\n"
     ]
    }
   ],
   "source": [
    "subset_name = \"0,6\"\n",
    "subset = (0,6)\n",
    "preprocessing_name =\"Autoencoder_small\" \n",
    "\n",
    "#log progress\n",
    "print(\"processing subset:\",subset_name)\n",
    "\n",
    "x_train_subset = x_train[(y_train == subset[0]) | (y_train == subset[1])]\n",
    "y_train_subset = y_train[(y_train == subset[0]) | (y_train == subset[1])]\n",
    "y_train_subset_binary = np.where(y_train_subset == subset[0], 0, y_train_subset)\n",
    "y_train_subset_binary = np.where(y_train_subset_binary == subset[1], 1, y_train_subset_binary)\n",
    "\n",
    "x_test_subset = x_test[(y_test == subset[0]) | (y_test == subset[1])]\n",
    "y_test_subset = y_test[(y_test == subset[0]) | (y_test == subset[1])]\n",
    "y_test_subset_binary = np.where(y_test_subset == subset[0], 0, y_test_subset)\n",
    "y_test_subset_binary = np.where(y_test_subset_binary == subset[1], 1, y_test_subset_binary)\n",
    "\n",
    "x_train_subset = x_train_subset.reshape(x_train_subset.shape[0],784)\n",
    "x_test_subset = x_test_subset.reshape(x_test_subset.shape[0],784)\n",
    "\n",
    "x_train_pre , x_test_pre, hist = pre.Autoencoder(x_train_subset,x_test_subset,outputsize=4,epochs=15)\n",
    "\n",
    "for type, dataset in zip([\"x_train\",\"x_test\",\"y_train\",\"y_test\",\"y_train_binary\",\"y_test_binary\",\"hist\"],\n",
    "[x_train_pre,x_test_pre,y_train_subset,y_test_subset,y_train_subset_binary,y_test_subset_binary,hist]):\n",
    "\n",
    "\n",
    "    Helpers.store(dataset,\"data/{}/{}\".format(preprocessing_name,subset_name),type)\n",
    "\n",
    "tf.keras.backend.clear_session()"
   ]
  },
  {
   "cell_type": "code",
   "execution_count": 144,
   "metadata": {},
   "outputs": [
    {
     "data": {
      "image/png": "[encoded data removed]",
      "text/plain": [
       "<Figure size 1080x576 with 42 Axes>"
      ]
     },
     "metadata": {
      "needs_background": "light"
     },
     "output_type": "display_data"
    }
   ],
   "source": [
    "data = ds.get_preprocessed_datasets(\"Autoencoder_small\")[\"Autoencoder_small\"][\"0,6\"]\n",
    "Helpers.plot_grid(data[\"x_train\"],data[\"y_train\"],rows=7,cols=6)"
   ]
  },
  {
   "cell_type": "code",
   "execution_count": null,
   "metadata": {},
   "outputs": [],
   "source": []
  }
 ],
 "metadata": {
  "interpreter": {
   "hash": "66fbc7444ff33bf974f21d3d224fe531a78305e3f7b70f0cb67a92233fdb1f5a"
  },
  "kernelspec": {
   "display_name": "Python 3.9.7 64-bit ('tfm1': conda)",
   "language": "python",
   "name": "python3"
  },
  "language_info": {
   "codemirror_mode": {
    "name": "ipython",
    "version": 3
   },
   "file_extension": ".py",
   "mimetype": "text/x-python",
   "name": "python",
   "nbconvert_exporter": "python",
   "pygments_lexer": "ipython3",
   "version": "3.9.7"
  },
  "orig_nbformat": 4
 },
 "nbformat": 4,
 "nbformat_minor": 2
}
