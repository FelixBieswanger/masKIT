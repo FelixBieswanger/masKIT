{
 "cells": [
  {
   "cell_type": "code",
   "execution_count": 1,
   "id": "50659a9a",
   "metadata": {},
   "outputs": [],
   "source": [
    "import random\n",
    "import pennylane as qml\n",
    "from pennylane import numpy as np\n",
    "from myutils import *\n",
    "\n",
    "#Magic Command, so changes in myutils module are reloaded\n",
    "%load_ext autoreload\n",
    "%autoreload 1\n",
    "%aimport myutils"
   ]
  },
  {
   "cell_type": "markdown",
   "id": "339df97f",
   "metadata": {},
   "source": [
    "# Loading the data"
   ]
  },
  {
   "cell_type": "code",
   "execution_count": 27,
   "id": "1bf35809",
   "metadata": {},
   "outputs": [],
   "source": [
    "alldata=  Datasets.get_preprocessed_datasets(\"PCA\")[\"PCA\"]\n",
    "\n"
   ]
  },
  {
   "cell_type": "code",
   "execution_count": 28,
   "id": "ce46ca09",
   "metadata": {},
   "outputs": [],
   "source": [
    "subset_selection = [\"1,6\",\"3,8\",\"4,6\",\"0,1\",\"3,6\",\"6,9\"]"
   ]
  },
  {
   "cell_type": "markdown",
   "id": "12e192c5",
   "metadata": {},
   "source": [
    "- 1,6 -> easyiest\n",
    "- 3,8 -> schwerste\n",
    "- 4,9 -> schwere drittel\n",
    "- 0,1 -> leichte drittel\n",
    "- 3,6 -> mitte\n",
    "- 6,9 -> mitte unserzahlenpaar"
   ]
  },
  {
   "cell_type": "code",
   "execution_count": 30,
   "id": "3f8edd02",
   "metadata": {},
   "outputs": [],
   "source": [
    "n = 100\n",
    "n_test = 500\n",
    "\n",
    "\n",
    "for subset in subset_selection:\n",
    "    #scale data 0, 2*np\n",
    "    data = alldata[subset]\n",
    "    data[\"x_train\"] = Preprocessing.minmax_scaler(data[\"x_train\"] , min = 0,max = 2 * np.pi)\n",
    "    data[\"x_test\"] = Preprocessing.minmax_scaler(data[\"x_test\"], min = 0,max = 2 * np.pi)\n",
    "\n",
    "    for type in [\"y_train_binary\",\"y_test_binary\"]:\n",
    "        quantum_convert = []\n",
    "        for i in range(len(data[type])):\n",
    "            if data[type][i] == 0:\n",
    "                quantum_convert.append(np.array([0,1]))\n",
    "            else:\n",
    "                quantum_convert.append(np.array([1,0]))\n",
    "\n",
    "        data[type+\"_quantum\"] = np.array(quantum_convert)   \n",
    "\n",
    "    for round in range(3):\n",
    "          # get random sample and split data\n",
    "        training_indices = np.array(random.sample(range(len(data[\"x_train\"])), int(n))).numpy()\n",
    "        test_indices = np.array(random.sample(range(len(data[\"x_test\"])), int(n_test))).numpy()\n",
    "        \n",
    "\n",
    "        Helpers.store(training_indices,\"data/indices/{}/{}\" .format(subset,round), \"training_indices\")\n",
    "        Helpers.store(test_indices,\"data/indices/{}/{}\" .format(subset,round), \"test_indices\")\n",
    "    \n"
   ]
  },
  {
   "cell_type": "code",
   "execution_count": 32,
   "id": "99549f09",
   "metadata": {},
   "outputs": [
    {
     "name": "stdout",
     "output_type": "stream",
     "text": [
      "subset:  1,6 round:  0\n",
      "subset:  1,6 round:  1\n",
      "subset:  1,6 round:  2\n",
      "subset:  3,8 round:  0\n",
      "subset:  3,8 round:  1\n",
      "subset:  3,8 round:  2\n",
      "subset:  0,1 round:  0\n",
      "subset:  0,1 round:  1\n",
      "subset:  0,1 round:  2\n",
      "subset:  3,6 round:  0\n",
      "subset:  3,6 round:  1\n",
      "subset:  3,6 round:  2\n",
      "subset:  6,9 round:  0\n",
      "subset:  6,9 round:  1\n",
      "subset:  6,9 round:  2\n"
     ]
    }
   ],
   "source": [
    "for subset in [\"1,6\",\"3,8\",\"0,1\",\"3,6\",\"6,9\"]:\n",
    "\n",
    "    #scale data 0, 2*np\n",
    "    data = alldata[subset]\n",
    "    data[\"x_train\"] = Preprocessing.minmax_scaler(data[\"x_train\"] , min = 0,max = 2 * np.pi)\n",
    "    data[\"x_test\"] = Preprocessing.minmax_scaler(data[\"x_test\"], min = 0,max = 2 * np.pi)\n",
    "\n",
    "    for type in [\"y_train_binary\",\"y_test_binary\"]:\n",
    "        quantum_convert = []\n",
    "        for i in range(len(data[type])):\n",
    "            if data[type][i] == 0:\n",
    "                quantum_convert.append(np.array([0,1]))\n",
    "            else:\n",
    "                quantum_convert.append(np.array([1,0]))\n",
    "\n",
    "        data[type+\"_quantum\"] = np.array(quantum_convert)   \n",
    "\n",
    "    for round in range(3):\n",
    "\n",
    "\n",
    "        print(\"subset: \",subset,\"round: \",round)\n",
    "\n",
    "        # get random sample and split data\n",
    "        training_indices = np.load(\"data/indices/{}/{}/training_indices.npy\" .format(subset,round))\n",
    "        test_indices = np.load(\"data/indices/{}/{}/test_indices.npy\" .format(subset,round))\n",
    "\n",
    "        data[\"x_train_subset\"] = data[\"x_train\"][training_indices]\n",
    "        data[\"y_train_binary_quantum_subset\"] = data[\"y_train_binary_quantum\"][training_indices]\n",
    "\n",
    "        data[\"x_test_subset\"] = data[\"x_test\"][test_indices]\n",
    "        data[\"y_test_binary_quantum_subset\"] = data[\"y_test_binary_quantum\"][test_indices]\n",
    "    \n",
    "        # create and train circuit\n",
    "        qcircuit = QuatumCircuit()\n",
    "        hist,params = qcircuit.train(x_train=data[\"x_train_subset\"],\n",
    "        y_train=data[\"y_train_binary_quantum_subset\"],\n",
    "        x_test=data[\"x_test\"],\n",
    "        y_test=data[\"y_test_binary_quantum\"],\n",
    "        epochs=10,\n",
    "        verbose=0)\n",
    "\n",
    "        Helpers.store(hist,\"measure/QCircuit/PCA/{}/{}\".format(subset,round),\"hist\")\n",
    "        Helpers.store(params.numpy(),\"measure/QCircuit/PCA/{}/{}\".format(subset,round),\"params\")"
   ]
  },
  {
   "cell_type": "code",
   "execution_count": null,
   "id": "e8682f2d",
   "metadata": {},
   "outputs": [],
   "source": []
  }
 ],
 "metadata": {
  "interpreter": {
   "hash": "88e75e00cca6104550b192c3a69472ab1bd4ad5bb62fbc08ff10d3358391bfd4"
  },
  "kernelspec": {
   "display_name": "Python 3.8.11 64-bit ('venv': venv)",
   "name": "python3"
  },
  "language_info": {
   "codemirror_mode": {
    "name": "ipython",
    "version": 3
   },
   "file_extension": ".py",
   "mimetype": "text/x-python",
   "name": "python",
   "nbconvert_exporter": "python",
   "pygments_lexer": "ipython3",
   "version": "3.9.7"
  }
 },
 "nbformat": 4,
 "nbformat_minor": 5
}
