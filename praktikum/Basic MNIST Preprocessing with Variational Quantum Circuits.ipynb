{
 "cells": [
  {
   "cell_type": "code",
   "execution_count": 2,
   "id": "b00964fc",
   "metadata": {},
   "outputs": [],
   "source": [
    "import random\n",
    "import pennylane as qml\n",
    "from pennylane import numpy as np\n",
    "from myutils import Datasets\n",
    "from myutils import Preprocessing\n",
    "from myutils import Helpers\n",
    "import os\n",
    "import sys\n",
    "sys.path.insert(0,'..')\n",
    "from maskit.datasets import load_data\n",
    "from matplotlib import pyplot as plt\n",
    "\n",
    "#Magic Command, so changes in myutils module are reloaded\n",
    "%load_ext autoreload\n",
    "%autoreload 1\n",
    "%aimport myutils"
   ]
  },
  {
   "cell_type": "code",
   "execution_count": 3,
   "id": "b90a045f",
   "metadata": {},
   "outputs": [],
   "source": [
    "# Setting seeds for reproducible results\n",
    "np.random.seed(1337)\n",
    "random.seed(1337)"
   ]
  },
  {
   "cell_type": "markdown",
   "id": "318bb99a",
   "metadata": {},
   "source": [
    "# Loading the data\n",
    "\n",
    "Data of interest is MNIST data. As we want to go for reproducible results, we\n",
    "will first go with the option `shuffle=False`. For the rest of the parameters,\n",
    "we now go with the default options. This gives us data for two classes, the\n",
    "written numbers 6 and 9. We also only get a limited number of sampes, that is\n",
    "100 samples for training and 50 for testing. For further details see the\n",
    "appropriate docstring."
   ]
  },
  {
   "cell_type": "code",
   "execution_count": 4,
   "id": "d38b0d79",
   "metadata": {},
   "outputs": [],
   "source": [
    "data=  Datasets.get_preprocessed_datasets(\"Autoencoder_6Epochs\")[\"Autoencoder_6Epochs\"][\"6,9\"]"
   ]
  },
  {
   "cell_type": "code",
   "execution_count": 5,
   "id": "46ba2709",
   "metadata": {},
   "outputs": [
    {
     "name": "stdout",
     "output_type": "stream",
     "text": [
      "train 150, test50\n"
     ]
    }
   ],
   "source": [
    "data=  Datasets.get_preprocessed_datasets(\"PCA\")[\"PCA\"][\"6,9\"]\n",
    "\n",
    "#scale data 0, 2*np\n",
    "data[\"x_train\"] = Preprocessing.minmax_scaler(data[\"x_train\"] , min = 0,max = 2 * np.pi)\n",
    "data[\"x_test\"] = Preprocessing.minmax_scaler(data[\"x_test\"], min = 0,max = 2 * np.pi)\n",
    "\n",
    "for type in [\"y_train_binary\",\"y_test_binary\"]:\n",
    "    quantum_convert = []\n",
    "    for i in range(len(data[type])):\n",
    "        if data[type][i] == 0:\n",
    "            quantum_convert.append(np.array([0,1]))\n",
    "        else:\n",
    "            quantum_convert.append(np.array([1,0]))\n",
    "\n",
    "    data[type+\"_quantum\"] = np.array(quantum_convert)\n",
    "\n",
    "n = 200\n",
    "split = 0.75\n",
    "data[\"x_train\"] = data[\"x_train\"][:int(n*split)]\n",
    "data[\"y_train_binary_quantum\"] = data[\"y_train_binary_quantum\"][:int(n*split)]\n",
    "data[\"x_test\"] = data[\"x_test\"][:int(n*(1-split))]\n",
    "data[\"y_test_binary_quantum\"] = data[\"y_test_binary_quantum\"][:int(n*(1-split))]\n",
    "\n",
    "print(\"train {}, test{}\".format(int(n*split),int(n*(1-split))))"
   ]
  },
  {
   "cell_type": "code",
   "execution_count": 6,
   "id": "e87bd518",
   "metadata": {},
   "outputs": [],
   "source": [
    "for type in [\"y_train_binary\",\"y_test_binary\"]:\n",
    "    quantum_convert = []\n",
    "    for i in range(len(data[type])):\n",
    "        if data[type][i] == 0:\n",
    "            quantum_convert.append(np.array([0,1]))\n",
    "        else:\n",
    "            quantum_convert.append(np.array([1,0]))\n",
    "\n",
    "    data[type+\"_quantum\"] = np.array(quantum_convert)"
   ]
  },
  {
   "cell_type": "code",
   "execution_count": 7,
   "id": "12ddce55",
   "metadata": {},
   "outputs": [
    {
     "name": "stdout",
     "output_type": "stream",
     "text": [
      "train 150, test50\n"
     ]
    }
   ],
   "source": [
    "n = 200\n",
    "split = 0.75\n",
    "data[\"x_train\"] = data[\"x_train\"][:int(n*split)]\n",
    "data[\"y_train_binary_quantum\"] = data[\"y_train_binary_quantum\"][:int(n*split)]\n",
    "data[\"x_test\"] = data[\"x_test\"][:int(n*(1-split))]\n",
    "data[\"y_test_binary_quantum\"] = data[\"y_test_binary_quantum\"][:int(n*(1-split))]\n",
    "\n",
    "print(\"train {}, test{}\".format(int(n*split),int(n*(1-split))))"
   ]
  },
  {
   "cell_type": "markdown",
   "id": "2de1faad",
   "metadata": {},
   "source": [
    "# Setting up a Variational Quantum Circuit for training\n",
    "\n",
    "There is an example on the [PennyLane website](https://pennylane.ai/qml/demos/tutorial_variational_classifier.html#iris-classification) for iris data showing a setup for a variational classifier. That is variational quantum circuits that can be trained from labelled (classical) data."
   ]
  },
  {
   "cell_type": "code",
   "execution_count": 34,
   "id": "a861ca24",
   "metadata": {},
   "outputs": [],
   "source": [
    "wires = 4\n",
    "layers = 4\n",
    "epochs = 5\n",
    "parameters = np.random.uniform(low=-np.pi, high=np.pi, size=(layers, wires, 2))"
   ]
  },
  {
   "cell_type": "code",
   "execution_count": 35,
   "id": "bf9ca7b2",
   "metadata": {},
   "outputs": [],
   "source": [
    "def variational_circuit(params):\n",
    "    for layer in range(layers):\n",
    "        for wire in range(wires):\n",
    "            qml.RX(params[layer][wire][0], wires=wire)\n",
    "            qml.RY(params[layer][wire][1], wires=wire)\n",
    "        for wire in range(0, wires - 1, 2):\n",
    "            qml.CZ(wires=[wire, wire + 1])\n",
    "        for wire in range(1, wires - 1, 2):\n",
    "            qml.CZ(wires=[wire, wire + 1])\n",
    "    return qml.expval(qml.PauliZ(0))"
   ]
  },
  {
   "cell_type": "code",
   "execution_count": 36,
   "id": "c133f990",
   "metadata": {},
   "outputs": [],
   "source": [
    "def variational_training_circuit(params, data):\n",
    "    qml.templates.embeddings.AngleEmbedding(\n",
    "        features=data, wires=range(wires), rotation=\"X\"\n",
    "    )\n",
    "    return variational_circuit(params)"
   ]
  },
  {
   "cell_type": "code",
   "execution_count": 37,
   "id": "591eb539",
   "metadata": {},
   "outputs": [],
   "source": [
    "dev = qml.device('default.qubit', wires=wires, shots=1000)\n",
    "circuit = qml.QNode(func=variational_circuit, device=dev)\n",
    "training_circuit = qml.QNode(func=variational_training_circuit, device=dev)"
   ]
  },
  {
   "cell_type": "code",
   "execution_count": 38,
   "id": "a22b274a",
   "metadata": {},
   "outputs": [
    {
     "data": {
      "text/plain": [
       "tensor(-0.052, requires_grad=True)"
      ]
     },
     "execution_count": 38,
     "metadata": {},
     "output_type": "execute_result"
    }
   ],
   "source": [
    "circuit(parameters)"
   ]
  },
  {
   "cell_type": "code",
   "execution_count": 39,
   "id": "0e4cfc33",
   "metadata": {},
   "outputs": [
    {
     "name": "stdout",
     "output_type": "stream",
     "text": [
      " 0: ──RX(-1.5)───RY(-2.14)───╭C───RX(1.46)────RY(-2.42)──────────────╭C───RX(1.85)───RY(-0.872)─────────────╭C───RX(-0.00221)──RY(-2.02)──────────────╭C──────┤ ⟨Z⟩ \n",
      " 1: ──RX(-1.39)──RY(-0.256)──╰Z──╭C───────────RX(-0.715)──RY(0.807)──╰Z──╭C──────────RX(-0.527)──RY(0.529)──╰Z──╭C─────────────RX(-0.546)──RY(-1.89)──╰Z──╭C──┤     \n",
      " 2: ──RX(-1.12)──RY(0.116)───╭C──╰Z───────────RX(-2.36)───RY(3.04)───╭C──╰Z──────────RX(1.63)────RY(-1.96)──╭C──╰Z─────────────RX(0.199)───RY(2.09)───╭C──╰Z──┤     \n",
      " 3: ──RX(-1.5)───RY(2.99)────╰Z───RX(-0.357)──RY(1.82)───────────────╰Z───RX(-1.33)──RY(1.07)───────────────╰Z───RX(-1.98)─────RY(2.87)───────────────╰Z──────┤     \n",
      "\n"
     ]
    }
   ],
   "source": [
    "drawer = qml.draw(circuit)\n",
    "print(drawer(parameters))"
   ]
  },
  {
   "cell_type": "code",
   "execution_count": 40,
   "id": "1ed66072",
   "metadata": {},
   "outputs": [],
   "source": [
    "# some helpers\n",
    "def correctly_classified(params, data, target):\n",
    "    prediction = training_circuit(params, data)\n",
    "    if prediction < 0 and target[0] > 0:\n",
    "        return True\n",
    "    elif prediction > 0 and target[1] > 0:\n",
    "        return True\n",
    "    return False\n",
    "\n",
    "def overall_cost_and_correct(cost_fn, params, data, targets):\n",
    "    cost = correct_count = 0\n",
    "    for datum, target in zip(data, targets):\n",
    "        cost += cost_fn(params, datum, target)\n",
    "        correct_count += int(correctly_classified(params, datum, target))\n",
    "    return cost, correct_count"
   ]
  },
  {
   "cell_type": "code",
   "execution_count": 41,
   "id": "cd023ecf",
   "metadata": {},
   "outputs": [],
   "source": [
    "# Playing with different cost functions\n",
    "def crossentropy_cost(params, data, target):\n",
    "    prediction = training_circuit(params, data)\n",
    "    scaled_prediction = prediction + 1 / 2\n",
    "    predictions = np.array([1 - scaled_prediction, scaled_prediction])\n",
    "    return cross_entropy(predictions, target)\n",
    "\n",
    "def distributed_cost(params, data, target):\n",
    "    \"\"\"Cost function distributes probabilities to both classes.\"\"\"\n",
    "    prediction = training_circuit(params, data)\n",
    "    scaled_prediction = prediction + 1 / 2\n",
    "    predictions = np.array([1 - scaled_prediction, scaled_prediction])\n",
    "    return np.sum(np.abs(target - predictions))\n",
    "\n",
    "def cost(params, data, target):\n",
    "    \"\"\"Cost function penalizes choosing wrong class.\"\"\"\n",
    "    prediction = training_circuit(params, data)\n",
    "    predictions = np.array([0, prediction]) if prediction > 0 else np.array([prediction * -1, 0])\n",
    "    return np.sum(np.abs(target - predictions))"
   ]
  },
  {
   "cell_type": "code",
   "execution_count": 42,
   "id": "e4b757f4",
   "metadata": {},
   "outputs": [],
   "source": [
    "optimizer = qml.AdamOptimizer()\n",
    "cost_fn = distributed_cost"
   ]
  },
  {
   "cell_type": "code",
   "execution_count": 45,
   "id": "8bd95171",
   "metadata": {},
   "outputs": [
    {
     "name": "stdout",
     "output_type": "stream",
     "text": [
      "start cost: 32.647999999999996, with 38/50 correct samples\n"
     ]
    }
   ],
   "source": [
    "start_cost, correct_count = overall_cost_and_correct(cost_fn, parameters, data[\"x_test\"], data[\"y_test_binary_quantum\"])\n",
    "print(\"start cost: {}, with {}/{} correct samples\".format(start_cost,correct_count,len(data[\"y_test_binary_quantum\"])))"
   ]
  },
  {
   "cell_type": "code",
   "execution_count": 178,
   "id": "6407cd04",
   "metadata": {},
   "outputs": [
    {
     "name": "stdout",
     "output_type": "stream",
     "text": [
      "0\n",
      "cost: 40.616, with 2/30 correct samples\n",
      "1\n",
      "cost: 36.952000000000005, with 2/30 correct samples\n",
      "2\n",
      "cost: 33.104, with 9/30 correct samples\n",
      "3\n",
      "cost: 30.188000000000002, with 17/30 correct samples\n",
      "4\n",
      "cost: 29.412, with 17/30 correct samples\n"
     ]
    }
   ],
   "source": [
    "params = parameters.copy()\n",
    "for _ in range(epochs):\n",
    "    print(_)\n",
    "    for datum, target in zip(data_new[\"x_train_pca\"], data_new[\"y_test_binary_quantum\"]):\n",
    "        params = optimizer.step(lambda weights: cost_fn(weights, datum, target), params)\n",
    "\n",
    "    cost, correct_count = overall_cost_and_correct(cost_fn, params, data_new[\"x_test_pca\"], data_new[\"y_test_binary_quantum\"])\n",
    "    print(\"cost: {}, with {}/{} correct samples\".format(cost,correct_count,len(data_new[\"y_test_binary_quantum\"])))"
   ]
  },
  {
   "cell_type": "code",
   "execution_count": 179,
   "id": "72a73a25",
   "metadata": {},
   "outputs": [
    {
     "name": "stdout",
     "output_type": "stream",
     "text": [
      "final cost: 55.660000000000004, with 20/50 correct samples\n"
     ]
    }
   ],
   "source": [
    "final_cost, correct_count = overall_cost_and_correct(cost_fn, params, data.test_data, data.test_target)\n",
    "print(f\"final cost: {final_cost}, with {co rrect_count}/{len(data.test_target)} correct samples\")"
   ]
  },
  {
   "cell_type": "code",
   "execution_count": null,
   "id": "24e4913c",
   "metadata": {},
   "outputs": [],
   "source": []
  }
 ],
 "metadata": {
  "interpreter": {
   "hash": "88e75e00cca6104550b192c3a69472ab1bd4ad5bb62fbc08ff10d3358391bfd4"
  },
  "kernelspec": {
   "display_name": "Python 3.8.11 64-bit ('venv': venv)",
   "name": "python3"
  },
  "language_info": {
   "codemirror_mode": {
    "name": "ipython",
    "version": 3
   },
   "file_extension": ".py",
   "mimetype": "text/x-python",
   "name": "python",
   "nbconvert_exporter": "python",
   "pygments_lexer": "ipython3",
   "version": "3.9.7"
  }
 },
 "nbformat": 4,
 "nbformat_minor": 5
}
