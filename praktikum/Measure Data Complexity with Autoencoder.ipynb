{
 "cells": [
  {
   "cell_type": "code",
   "execution_count": 24,
   "metadata": {},
   "outputs": [
    {
     "name": "stdout",
     "output_type": "stream",
     "text": [
      "The autoreload extension is already loaded. To reload it, use:\n",
      "  %reload_ext autoreload\n"
     ]
    }
   ],
   "source": [
    "import tensorflow as tf\n",
    "from matplotlib import pyplot as plt\n",
    "import numpy as np\n",
    "from myutils import Helpers as h\n",
    "from myutils import Complexity_Measures as cm\n",
    "from myutils import Datasets as ds\n",
    "import math\n",
    "\n",
    "#Magic Command, so changes in myutils module are reloaded\n",
    "%load_ext autoreload\n",
    "%autoreload 1\n",
    "%aimport myutils\n"
   ]
  },
  {
   "cell_type": "code",
   "execution_count": 98,
   "metadata": {},
   "outputs": [],
   "source": [
    "data = ds.get_all_data()"
   ]
  },
  {
   "cell_type": "code",
   "execution_count": 101,
   "metadata": {},
   "outputs": [
    {
     "name": "stdout",
     "output_type": "stream",
     "text": [
      "ALL_NUMBERS (60000, 28, 28)\n",
      "SIX_AND_NINES (11867, 28, 28)\n",
      "ONLY_SIXES (5918, 28, 28)\n",
      "RANDOM (60000, 28, 28)\n",
      "SAMEPICTURE (60000, 28, 28)\n"
     ]
    }
   ],
   "source": [
    "for dataset in data:\n",
    "    print(dataset, data[dataset][\"x_train\"].shape)"
   ]
  },
  {
   "cell_type": "code",
   "execution_count": 102,
   "metadata": {},
   "outputs": [],
   "source": [
    "for dataset in data:\n",
    "    data[dataset][\"x_train\"] = data[dataset][\"x_train\"][:5918]\n",
    "    data[dataset][\"x_train\"] = data[dataset][\"x_train\"] / 255\n"
   ]
  },
  {
   "cell_type": "code",
   "execution_count": 103,
   "metadata": {},
   "outputs": [
    {
     "name": "stdout",
     "output_type": "stream",
     "text": [
      "ALL_NUMBERS (5918, 28, 28)\n",
      "SIX_AND_NINES (5918, 28, 28)\n",
      "ONLY_SIXES (5918, 28, 28)\n",
      "RANDOM (5918, 28, 28)\n",
      "SAMEPICTURE (5918, 28, 28)\n"
     ]
    }
   ],
   "source": [
    "for dataset in data:\n",
    "    print(dataset, data[dataset][\"x_train\"].shape)\n"
   ]
  },
  {
   "cell_type": "code",
   "execution_count": 57,
   "metadata": {},
   "outputs": [],
   "source": [
    "from sklearn.metrics import accuracy_score, precision_score, recall_score\n",
    "from sklearn.model_selection import train_test_split\n",
    "from tensorflow.keras import layers, losses\n",
    "from tensorflow.keras.datasets import fashion_mnist\n",
    "from tensorflow.keras.models import Model\n"
   ]
  },
  {
   "cell_type": "code",
   "execution_count": 58,
   "metadata": {},
   "outputs": [],
   "source": [
    "latent_dim = int((28*28)/2)\n",
    "\n",
    "\n",
    "class Autoencoder(Model):\n",
    "  def __init__(self, latent_dim):\n",
    "    super(Autoencoder, self).__init__()\n",
    "    self.latent_dim = latent_dim\n",
    "    self.encoder = tf.keras.Sequential([\n",
    "        layers.Flatten(),\n",
    "        layers.Dense(latent_dim, activation='relu'),\n",
    "    ])\n",
    "    self.decoder = tf.keras.Sequential([\n",
    "        layers.Dense(784, activation='sigmoid'),\n",
    "        layers.Reshape((28, 28))\n",
    "    ])\n",
    "\n",
    "  def call(self, x):\n",
    "    encoded = self.encoder(x)\n",
    "    decoded = self.decoder(encoded)\n",
    "    return decoded"
   ]
  },
  {
   "cell_type": "code",
   "execution_count": 105,
   "metadata": {},
   "outputs": [
    {
     "name": "stdout",
     "output_type": "stream",
     "text": [
      "fitting dataset ALL_NUMBERS\n",
      "5918/5918 [==============================] - 10s 2ms/step - loss: 0.0160\n",
      "fitting dataset SIX_AND_NINES\n",
      "5918/5918 [==============================] - 11s 2ms/step - loss: 0.0132\n",
      "fitting dataset ONLY_SIXES\n",
      "5918/5918 [==============================] - 12s 2ms/step - loss: 0.0121\n",
      "fitting dataset RANDOM\n",
      "5918/5918 [==============================] - 12s 2ms/step - loss: 0.0835\n",
      "fitting dataset SAMEPICTURE\n",
      "5918/5918 [==============================] - 11s 2ms/step - loss: 2.6329e-04\n"
     ]
    }
   ],
   "source": [
    "for dataset in data:\n",
    "\n",
    "    data_train = data[dataset][\"x_train\"]\n",
    "\n",
    "    autoencoder = Autoencoder(latent_dim)\n",
    "    autoencoder.compile(optimizer='adam', loss=losses.MeanSquaredError())\n",
    "\n",
    "    print(\"fitting dataset\",dataset)\n",
    "    hist = autoencoder.fit(data_train, data_train,\n",
    "                        epochs=1,\n",
    "                        batch_size=1,\n",
    "                        shuffle=False)\n",
    "    data[dataset][\"loss\"] = hist.history['loss'][0] * 100\n",
    "\n",
    "\n"
   ]
  },
  {
   "cell_type": "code",
   "execution_count": 108,
   "metadata": {},
   "outputs": [
    {
     "data": {
      "image/png": "[encoded data removed]",
      "text/plain": [
       "<Figure size 1080x360 with 1 Axes>"
      ]
     },
     "metadata": {
      "needs_background": "light"
     },
     "output_type": "display_data"
    }
   ],
   "source": [
    "plt.figure(figsize=(15, 5))\n",
    "for dataset in data:\n",
    "    plt.bar(dataset, data[dataset][\"loss\"])\n",
    "plt.ylabel(\"Loss-Measure\")\n",
    "plt.show()"
   ]
  },
  {
   "cell_type": "code",
   "execution_count": null,
   "metadata": {},
   "outputs": [],
   "source": []
  }
 ],
 "metadata": {
  "interpreter": {
   "hash": "ed478aae93aada4522e679fe7a4f3211ac34950c889d1141da8a40866d8eb496"
  },
  "kernelspec": {
   "display_name": "Python 3.8.4 64-bit ('venv': venv)",
   "language": "python",
   "name": "python3"
  },
  "language_info": {
   "codemirror_mode": {
    "name": "ipython",
    "version": 3
   },
   "file_extension": ".py",
   "mimetype": "text/x-python",
   "name": "python",
   "nbconvert_exporter": "python",
   "pygments_lexer": "ipython3",
   "version": "3.8.4"
  },
  "orig_nbformat": 4
 },
 "nbformat": 4,
 "nbformat_minor": 2
}
