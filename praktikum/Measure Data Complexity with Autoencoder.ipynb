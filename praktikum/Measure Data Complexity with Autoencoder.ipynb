{
 "cells": [
  {
   "cell_type": "code",
   "execution_count": 1,
   "metadata": {},
   "outputs": [],
   "source": [
    "import tensorflow as tf\n",
    "from matplotlib import pyplot as plt\n",
    "import numpy as np\n",
    "from myutils import Helpers as h\n",
    "from myutils import Complexity_Measures as cm\n",
    "from myutils import Datasets as ds\n",
    "\n",
    "\n",
    "#Magic Command, so changes in myutils module are reloaded\n",
    "%load_ext autoreload\n",
    "%autoreload 1\n",
    "%aimport myutils\n"
   ]
  },
  {
   "cell_type": "code",
   "execution_count": 36,
   "metadata": {},
   "outputs": [],
   "source": [
    "from tensorflow.keras import layers, losses\n",
    "from tensorflow.keras.models import Model\n",
    "\n",
    "class Autoencoder(Model):\n",
    "  def __init__(self, shape):\n",
    "    super(Autoencoder, self).__init__()\n",
    "    flattendim = shape[1] * shape[2]\n",
    "    latent_dim = int(flattendim/2)\n",
    "    print(\"latent_dim\",latent_dim)\n",
    "    self.encoder = tf.keras.Sequential([\n",
    "        layers.Flatten(),\n",
    "        layers.Dense(latent_dim, activation='relu'),\n",
    "    ])\n",
    "    self.decoder = tf.keras.Sequential([\n",
    "        layers.Dense(flattendim,activation='sigmoid'),\n",
    "        layers.Reshape((shape[1],shape[2]))\n",
    "    ])\n",
    "    self.compile(optimizer='adam', loss=losses.MeanSquaredError())\n",
    "    \n",
    "\n",
    "  def call(self, x):\n",
    "    encoded = self.encoder(x)\n",
    "    decoded = self.decoder(encoded)\n",
    "    return decoded\n"
   ]
  },
  {
   "cell_type": "code",
   "execution_count": 2,
   "metadata": {},
   "outputs": [],
   "source": [
    "data = ds.get_all_data()"
   ]
  },
  {
   "cell_type": "code",
   "execution_count": 3,
   "metadata": {},
   "outputs": [
    {
     "name": "stdout",
     "output_type": "stream",
     "text": [
      "ALL_NUMBERS (60000, 28, 28)\n",
      "SIX_AND_NINES (11867, 28, 28)\n",
      "ONLY_SIXES (5918, 28, 28)\n",
      "RANDOM (60000, 28, 28)\n",
      "SAMEPICTURE (60000, 28, 28)\n"
     ]
    }
   ],
   "source": [
    "for dataset in data:\n",
    "    print(dataset, data[dataset][\"x_train\"].shape)"
   ]
  },
  {
   "cell_type": "code",
   "execution_count": 43,
   "metadata": {},
   "outputs": [],
   "source": [
    "for dataset in data:\n",
    "    data[dataset][\"x_train\"] = data[dataset][\"x_train\"][:5918]\n",
    "    data[dataset][\"y_train\"] = data[dataset][\"y_train\"][:5918]\n",
    "    data[dataset][\"x_train\"] = data[dataset][\"x_train\"] / 255\n"
   ]
  },
  {
   "cell_type": "code",
   "execution_count": 5,
   "metadata": {},
   "outputs": [
    {
     "name": "stdout",
     "output_type": "stream",
     "text": [
      "ALL_NUMBERS (5918, 28, 28)\n",
      "SIX_AND_NINES (5918, 28, 28)\n",
      "ONLY_SIXES (5918, 28, 28)\n",
      "RANDOM (5918, 28, 28)\n",
      "SAMEPICTURE (5918, 28, 28)\n"
     ]
    }
   ],
   "source": [
    "for dataset in data:\n",
    "    print(dataset, data[dataset][\"x_train\"].shape)\n"
   ]
  },
  {
   "cell_type": "code",
   "execution_count": 6,
   "metadata": {},
   "outputs": [
    {
     "name": "stderr",
     "output_type": "stream",
     "text": [
      "2021-11-16 20:16:13.043899: I tensorflow/core/platform/cpu_feature_guard.cc:142] This TensorFlow binary is optimized with oneAPI Deep Neural Network Library (oneDNN) to use the following CPU instructions in performance-critical operations:  AVX2 FMA\n",
      "To enable them in other operations, rebuild TensorFlow with the appropriate compiler flags.\n",
      "2021-11-16 20:16:13.157534: I tensorflow/compiler/mlir/mlir_graph_optimization_pass.cc:185] None of the MLIR Optimization Passes are enabled (registered 2)\n"
     ]
    },
    {
     "name": "stdout",
     "output_type": "stream",
     "text": [
      "fitting dataset ALL_NUMBERS\n",
      "5918/5918 [==============================] - 13s 2ms/step - loss: 0.0158\n",
      "fitting dataset SIX_AND_NINES\n",
      "5918/5918 [==============================] - 13s 2ms/step - loss: 0.0132\n",
      "fitting dataset ONLY_SIXES\n",
      "5918/5918 [==============================] - 14s 2ms/step - loss: 0.0121\n",
      "fitting dataset RANDOM\n",
      "5918/5918 [==============================] - 15s 2ms/step - loss: 0.0834\n",
      "fitting dataset SAMEPICTURE\n",
      "5918/5918 [==============================] - 13s 2ms/step - loss: 2.5319e-04\n"
     ]
    }
   ],
   "source": [
    "for dataset in data:\n",
    "\n",
    "    data_train = data[dataset][\"x_train\"]\n",
    "\n",
    "    autoencoder = Autoencoder((28*28)/2)\n",
    "\n",
    "    print(\"fitting dataset\",dataset)\n",
    "    hist = autoencoder.fit(data_train, data_train,\n",
    "                        epochs=1,\n",
    "                        batch_size=1,\n",
    "                        shuffle=False)\n",
    "    data[dataset][\"loss\"] = hist.history['loss'][0] * 100\n",
    "\n",
    "\n"
   ]
  },
  {
   "cell_type": "code",
   "execution_count": 9,
   "metadata": {},
   "outputs": [
    {
     "data": {
      "image/png": "[encoded data removed]",
      "text/plain": [
       "<Figure size 1080x360 with 1 Axes>"
      ]
     },
     "metadata": {
      "needs_background": "light"
     },
     "output_type": "display_data"
    }
   ],
   "source": [
    "plt.figure(figsize=(15, 5))\n",
    "for dataset in data:\n",
    "    plt.bar(dataset, data[dataset][\"loss\"])\n",
    "plt.ylabel(\"Loss-Measure\")\n",
    "plt.show()"
   ]
  },
  {
   "cell_type": "markdown",
   "metadata": {},
   "source": [
    "Hier auch wieder keine Einbeziehung der Labels -> eher ein measure für wie unterschiedlich sind die Bilder\n",
    "\n",
    "Müssen label miteinbezogen werden?"
   ]
  },
  {
   "cell_type": "markdown",
   "metadata": {},
   "source": [
    "weitere expertiment: 6 und 9 sollte schwieriger sein als 1,8"
   ]
  },
  {
   "cell_type": "code",
   "execution_count": 40,
   "metadata": {},
   "outputs": [
    {
     "name": "stdout",
     "output_type": "stream",
     "text": [
      "latent_dim 2\n",
      "fitting dataset ALL_NUMBERS PCA\n",
      "5918/5918 [==============================] - 5s 730us/step - loss: 3.4336\n",
      "latent_dim 2\n",
      "fitting dataset SIX_AND_NINES PCA\n",
      "5918/5918 [==============================] - 5s 772us/step - loss: 3.7066\n",
      "latent_dim 2\n",
      "fitting dataset ONLY_SIXES PCA\n",
      "5918/5918 [==============================] - 5s 786us/step - loss: 3.8635\n",
      "latent_dim 2\n",
      "fitting dataset RANDOM PCA\n",
      "5918/5918 [==============================] - 5s 751us/step - loss: 0.1750\n"
     ]
    },
    {
     "name": "stderr",
     "output_type": "stream",
     "text": [
      "/Users/felixbieswanger/Desktop/Uni_Stuff/KIT/Master/Module/QML/Code/masKIT/venv/lib/python3.8/site-packages/sklearn/decomposition/_pca.py:595: RuntimeWarning: divide by zero encountered in true_divide\n",
      "  self.explained_variance_ratio_ = self.explained_variance_ / total_var.sum()\n"
     ]
    },
    {
     "name": "stdout",
     "output_type": "stream",
     "text": [
      "latent_dim 2\n",
      "fitting dataset SAMEPICTURE PCA\n",
      "5918/5918 [==============================] - 6s 922us/step - loss: 0.0189\n"
     ]
    }
   ],
   "source": [
    "for dataset in data:\n",
    "    data[dataset][\"x_train_pca\"] = h.PCA(data[dataset][\"x_train\"],n_components=4)\n",
    "    d_set_pca = data[dataset][\"x_train_pca\"]\n",
    "\n",
    "    autoencoder = Autoencoder(shape=d_set_pca.shape)\n",
    "\n",
    "    print(\"fitting dataset\", dataset, \"PCA\")\n",
    "    hist = autoencoder.fit(d_set_pca, d_set_pca,\n",
    "                           epochs=1,\n",
    "                           batch_size=1,\n",
    "                           shuffle=False)\n",
    "    data[dataset][\"loss_pca\"] = hist.history['loss'][0] * 100\n"
   ]
  },
  {
   "cell_type": "code",
   "execution_count": 49,
   "metadata": {},
   "outputs": [
    {
     "data": {
      "image/png": "[encoded data removed]",
      "text/plain": [
       "<Figure size 1080x576 with 60 Axes>"
      ]
     },
     "metadata": {
      "needs_background": "light"
     },
     "output_type": "display_data"
    }
   ],
   "source": [
    "# get sixes and plot them\n",
    "sechsen = data[\"SIX_AND_NINES\"][\"x_train_pca\"][(data[\"SIX_AND_NINES\"][\"y_train\"] == 6)]\n",
    "h.plot_grid(sechsen, labels=data[\"SIX_AND_NINES\"][\"y_train\"][(\n",
    "    data[\"SIX_AND_NINES\"][\"y_train\"] == 6)], rows=20, cols=3)\n"
   ]
  }
 ],
 "metadata": {
  "interpreter": {
   "hash": "ed478aae93aada4522e679fe7a4f3211ac34950c889d1141da8a40866d8eb496"
  },
  "kernelspec": {
   "display_name": "Python 3.8.4 64-bit ('venv': venv)",
   "language": "python",
   "name": "python3"
  },
  "language_info": {
   "codemirror_mode": {
    "name": "ipython",
    "version": 3
   },
   "file_extension": ".py",
   "mimetype": "text/x-python",
   "name": "python",
   "nbconvert_exporter": "python",
   "pygments_lexer": "ipython3",
   "version": "3.8.4"
  },
  "orig_nbformat": 4
 },
 "nbformat": 4,
 "nbformat_minor": 2
}
