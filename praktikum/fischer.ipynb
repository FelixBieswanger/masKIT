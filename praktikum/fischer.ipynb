{
 "cells": [
  {
   "cell_type": "code",
   "execution_count": 5,
   "metadata": {},
   "outputs": [],
   "source": [
    "import itertools\n",
    "from myutils import Preprocessing \n",
    "from myutils import Datasets \n",
    "from myutils import Helpers \n",
    "from myutils import Complexity_Measures as cm\n",
    "from myutils import QuatumCircuit\n",
    "import numpy as np\n",
    "import os\n",
    "import pandas as pd\n",
    "import tensorflow as tf\n",
    "import random\n",
    "import json\n",
    "from matplotlib import pyplot as plt\n",
    "import seaborn as sns\n",
    "\n",
    "#Magic Command, so changes in myutils module are reloaded\n",
    "%load_ext autoreload\n",
    "%autoreload 1\n",
    "%aimport myutils"
   ]
  },
  {
   "cell_type": "code",
   "execution_count": 379,
   "metadata": {},
   "outputs": [],
   "source": [
    "data = Datasets.get_preprocessed_datasets(\"PCA\",\"Autoencoder_small\")"
   ]
  },
  {
   "cell_type": "code",
   "execution_count": 399,
   "metadata": {},
   "outputs": [
    {
     "data": {
      "image/png": "[encoded data removed]",
      "text/plain": [
       "<Figure size 1080x576 with 10 Axes>"
      ]
     },
     "metadata": {
      "needs_background": "light"
     },
     "output_type": "display_data"
    }
   ],
   "source": [
    "Helpers.plot_grid(data[\"PCA\"][\"6,9\"][\"x_train\"],data[\"PCA\"][\"6,9\"][\"y_train\"])"
   ]
  },
  {
   "cell_type": "code",
   "execution_count": 425,
   "metadata": {},
   "outputs": [
    {
     "data": {
      "text/plain": [
       "tensor(0.72161126, requires_grad=True)"
      ]
     },
     "execution_count": 425,
     "metadata": {},
     "output_type": "execute_result"
    }
   ],
   "source": [
    "data[\"PCA\"][\"6,9\"][\"x_train\"][1][0]"
   ]
  },
  {
   "cell_type": "code",
   "execution_count": 426,
   "metadata": {},
   "outputs": [],
   "source": [
    "y_pred = list()\n",
    "for i in range(len(data[\"PCA\"][\"6,9\"][\"x_train\"])):\n",
    "    if data[\"PCA\"][\"6,9\"][\"x_train\"][i][1] > 0.6:\n",
    "        y_pred.append(6)\n",
    "    else:\n",
    "        y_pred.append(9)"
   ]
  },
  {
   "cell_type": "code",
   "execution_count": 427,
   "metadata": {},
   "outputs": [
    {
     "data": {
      "text/plain": [
       "5985"
      ]
     },
     "execution_count": 427,
     "metadata": {},
     "output_type": "execute_result"
    }
   ],
   "source": [
    "np.where(np.array(y_pred) == data[\"PCA\"][\"6,9\"][\"y_train\"])[0].size"
   ]
  },
  {
   "cell_type": "code",
   "execution_count": 326,
   "metadata": {},
   "outputs": [],
   "source": [
    "def fischer(x_train,y_train):\n",
    "    classes =dict() \n",
    "    for classname in np.unique(y_train):\n",
    "        classes[classname] = np.where(y_train == classname)[0]\n",
    "\n",
    "    featureCount = x_train.shape[1]\n",
    "    f = np.zeros(featureCount)\n",
    "    for feature in range(featureCount):\n",
    "        nenner = list()\n",
    "        zaehler = list()\n",
    "        for classname in classes:\n",
    "\n",
    "            nc = len(classes[classname])\n",
    "            x_class = x_train[classes[classname]]\n",
    "\n",
    "            ufci = x_class[:,feature].mean()\n",
    "            ufi = x_train[:,feature].mean()\n",
    "\n",
    "            xli = x_class[:,feature]\n",
    "\n",
    "            nenner.append(nc*(ufci-ufi)**2)\n",
    "            zaehler.append(np.sum((xli-ufci)**2))\n",
    "\n",
    "        f[feature] = np.sum(nenner)/np.sum(zaehler)\n",
    "    return 1/(1+f)\n",
    "\n"
   ]
  },
  {
   "cell_type": "code",
   "execution_count": 368,
   "metadata": {},
   "outputs": [],
   "source": [
    "l = list()\n",
    "for preprocessing in data:\n",
    "    for subset in data[preprocessing]:\n",
    "        datasubset = data[preprocessing][subset]\n",
    "        f = fischer(datasubset[\"x_train\"],datasubset[\"y_train\"])\n",
    "\n",
    "\n",
    "        l.append({\n",
    "            \"preprocessing\":preprocessing,\n",
    "            \"subset\":subset,\n",
    "            \"fisher\": f\n",
    "        })\n"
   ]
  },
  {
   "cell_type": "code",
   "execution_count": 369,
   "metadata": {},
   "outputs": [],
   "source": [
    "df = pd.DataFrame(l)\n",
    "df[\"count\"] = df[\"fisher\"].apply(lambda x: np.where(x < 0.5)[0].shape[0])"
   ]
  },
  {
   "cell_type": "code",
   "execution_count": 329,
   "metadata": {},
   "outputs": [
    {
     "data": {
      "text/plain": [
       "preprocessing\n",
       "Autoencoder_small    1.422222\n",
       "PCA                  0.844444\n",
       "Name: count, dtype: float64"
      ]
     },
     "execution_count": 329,
     "metadata": {},
     "output_type": "execute_result"
    }
   ],
   "source": [
    "df.groupby(\"preprocessing\")[\"count\"].mean()"
   ]
  },
  {
   "cell_type": "code",
   "execution_count": 370,
   "metadata": {},
   "outputs": [
    {
     "data": {
      "image/png": "[encoded data removed]",
      "text/plain": [
       "<Figure size 1080x720 with 1 Axes>"
      ]
     },
     "metadata": {
      "needs_background": "light"
     },
     "output_type": "display_data"
    }
   ],
   "source": [
    "plt.figure(figsize=(15,10))\n",
    "sns.histplot(data=df,hue=\"preprocessing\",x=\"count\")\n",
    "plt.xlabel(\"Number of Features\")\n",
    "plt.ylabel(\"Frequency\")\n",
    "plt.xticks(np.arange(0,4,1))\n",
    "plt.savefig(\"plots/histogram_fisher.png\",dpi=300,bbox_inches=\"tight\")\n",
    "plt.show()"
   ]
  },
  {
   "cell_type": "code",
   "execution_count": 371,
   "metadata": {},
   "outputs": [],
   "source": [
    "l = list()\n",
    "for preprocessing in data:\n",
    "    for subset in data[preprocessing]:\n",
    "        importance = np.load(\"measure/featureimportance/{}/{}/importance.npy\".format(preprocessing,subset))\n",
    "\n",
    "        l.append({\n",
    "            \"preprocessing\":preprocessing,\n",
    "            \"subset\":subset,\n",
    "            \"importance\": 1 / (1+importance.reshape(4,))\n",
    "            \"pixel\": np.arange(1,4)\n",
    "        })\n",
    "\n"
   ]
  },
  {
   "cell_type": "code",
   "execution_count": 377,
   "metadata": {},
   "outputs": [
    {
     "data": {
      "text/plain": [
       "preprocessing      argmax\n",
       "Autoencoder_small  1         23\n",
       "                   2         11\n",
       "                   0          6\n",
       "                   3          5\n",
       "PCA                0         39\n",
       "                   1          3\n",
       "                   3          2\n",
       "                   2          1\n",
       "Name: argmax, dtype: int64"
      ]
     },
     "execution_count": 377,
     "metadata": {},
     "output_type": "execute_result"
    }
   ],
   "source": [
    "df = pd.DataFrame(l)\n",
    "df[\"argmax\"] = df[\"importance\"].apply(lambda x: np.argmin(x))\n",
    "df.groupby(\"preprocessing\")[\"argmax\"].value_counts()"
   ]
  },
  {
   "cell_type": "code",
   "execution_count": 363,
   "metadata": {},
   "outputs": [],
   "source": [
    "df = pd.DataFrame(l)\n",
    "df[\"count\"] = df[\"importance\"].apply(lambda x: np.where(x < 0.5)[0].shape[0])"
   ]
  },
  {
   "cell_type": "code",
   "execution_count": 365,
   "metadata": {},
   "outputs": [
    {
     "data": {
      "text/plain": [
       "preprocessing\n",
       "Autoencoder_small    1.955556\n",
       "PCA                  0.822222\n",
       "Name: count, dtype: float64"
      ]
     },
     "execution_count": 365,
     "metadata": {},
     "output_type": "execute_result"
    }
   ],
   "source": [
    "df.groupby(\"preprocessing\")[\"count\"].mean()"
   ]
  },
  {
   "cell_type": "code",
   "execution_count": 367,
   "metadata": {},
   "outputs": [
    {
     "data": {
      "image/png": "[encoded data removed]",
      "text/plain": [
       "<Figure size 1080x720 with 1 Axes>"
      ]
     },
     "metadata": {
      "needs_background": "light"
     },
     "output_type": "display_data"
    }
   ],
   "source": [
    "plt.figure(figsize=(15,10))\n",
    "sns.histplot(data=df,hue=\"preprocessing\",x=\"count\")\n",
    "plt.xlabel(\"Number of Features\")\n",
    "plt.ylabel(\"Frequency\")\n",
    "plt.xticks(np.arange(0,5,1))\n",
    "plt.savefig(\"plots/histogram_importance.png\",dpi=300,bbox_inches=\"tight\")\n",
    "plt.show()"
   ]
  },
  {
   "cell_type": "markdown",
   "metadata": {},
   "source": [
    "# Check if perceptron yields similar results"
   ]
  },
  {
   "cell_type": "code",
   "execution_count": 55,
   "metadata": {},
   "outputs": [],
   "source": [
    "def perceptron(x_train,y_train):\n",
    "    tf.compat.v1.reset_default_graph()\n",
    "    with tf.device(\"/gpu:0\"):\n",
    "        model = tf.keras.models.Sequential(\n",
    "            [tf.keras.layers.Dense(1, activation='sigmoid', input_shape=(x_train.shape[1],))])\n",
    "\n",
    "        model.compile(optimizer='adam',loss=\"binary_crossentropy\", metrics=['accuracy'])\n",
    "\n",
    "        hist = model.fit(\n",
    "                x=x_train,\n",
    "                y=y_train,\n",
    "                epochs=10,\n",
    "                batch_size = 32,\n",
    "                verbose=1).history\n",
    "        \n",
    "    return np.array([a.numpy() for a in model.trainable_weights])[0]"
   ]
  },
  {
   "cell_type": "code",
   "execution_count": 354,
   "metadata": {},
   "outputs": [
    {
     "name": "stdout",
     "output_type": "stream",
     "text": [
      "PCA 4,6\n",
      "Epoch 1/10\n",
      " 20/368 [>.............................] - ETA: 1s - loss: 0.8388 - accuracy: 0.5000"
     ]
    },
    {
     "name": "stderr",
     "output_type": "stream",
     "text": [
      "2022-02-15 17:38:28.886547: I tensorflow/core/grappler/optimizers/custom_graph_optimizer_registry.cc:112] Plugin optimizer for device_type GPU is enabled.\n"
     ]
    },
    {
     "name": "stdout",
     "output_type": "stream",
     "text": [
      "368/368 [==============================] - 2s 5ms/step - loss: 0.7735 - accuracy: 0.4930\n",
      "Epoch 2/10\n",
      "368/368 [==============================] - 2s 4ms/step - loss: 0.7049 - accuracy: 0.4503\n",
      "Epoch 3/10\n",
      "368/368 [==============================] - 2s 5ms/step - loss: 0.6729 - accuracy: 0.6392\n",
      "Epoch 4/10\n",
      "368/368 [==============================] - 2s 5ms/step - loss: 0.6423 - accuracy: 0.7674\n",
      "Epoch 5/10\n",
      "368/368 [==============================] - 2s 5ms/step - loss: 0.6121 - accuracy: 0.8230\n",
      "Epoch 6/10\n",
      "368/368 [==============================] - 2s 4ms/step - loss: 0.5826 - accuracy: 0.8629\n",
      "Epoch 7/10\n",
      "368/368 [==============================] - 2s 4ms/step - loss: 0.5545 - accuracy: 0.8943\n",
      "Epoch 8/10\n",
      "368/368 [==============================] - 2s 4ms/step - loss: 0.5278 - accuracy: 0.9100\n",
      "Epoch 9/10\n",
      "368/368 [==============================] - 2s 5ms/step - loss: 0.5024 - accuracy: 0.9236\n",
      "Epoch 10/10\n",
      "368/368 [==============================] - 2s 4ms/step - loss: 0.4785 - accuracy: 0.9371\n",
      "PCA 4,8\n",
      "Epoch 1/10\n",
      "  1/366 [..............................] - ETA: 51s - loss: 0.7751 - accuracy: 0.3438"
     ]
    },
    {
     "name": "stderr",
     "output_type": "stream",
     "text": [
      "/var/folders/09/d62qr57n6dl6znjwx73740hw0000gn/T/ipykernel_7170/624121198.py:16: VisibleDeprecationWarning: Creating an ndarray from ragged nested sequences (which is a list-or-tuple of lists-or-tuples-or ndarrays with different lengths or shapes) is deprecated. If you meant to do this, you must specify 'dtype=object' when creating the ndarray\n",
      "  return np.array([a.numpy() for a in model.trainable_weights])[0]\n",
      "2022-02-15 17:38:45.983404: I tensorflow/core/grappler/optimizers/custom_graph_optimizer_registry.cc:112] Plugin optimizer for device_type GPU is enabled.\n"
     ]
    },
    {
     "name": "stdout",
     "output_type": "stream",
     "text": [
      "366/366 [==============================] - 2s 4ms/step - loss: 0.7285 - accuracy: 0.4037\n",
      "Epoch 2/10\n",
      "366/366 [==============================] - 2s 5ms/step - loss: 0.6972 - accuracy: 0.4861\n",
      "Epoch 3/10\n",
      "366/366 [==============================] - 2s 4ms/step - loss: 0.6697 - accuracy: 0.5853\n",
      "Epoch 4/10\n",
      "366/366 [==============================] - 2s 5ms/step - loss: 0.6432 - accuracy: 0.6835\n",
      "Epoch 5/10\n",
      "366/366 [==============================] - 2s 4ms/step - loss: 0.6179 - accuracy: 0.7639\n",
      "Epoch 6/10\n",
      "366/366 [==============================] - 2s 4ms/step - loss: 0.5940 - accuracy: 0.8296\n",
      "Epoch 7/10\n",
      "366/366 [==============================] - 2s 4ms/step - loss: 0.5713 - accuracy: 0.8610\n",
      "Epoch 8/10\n",
      "366/366 [==============================] - 2s 4ms/step - loss: 0.5498 - accuracy: 0.8871\n",
      "Epoch 9/10\n",
      "366/366 [==============================] - 2s 4ms/step - loss: 0.5294 - accuracy: 0.9018\n",
      "Epoch 10/10\n",
      "366/366 [==============================] - 2s 5ms/step - loss: 0.5102 - accuracy: 0.9130\n",
      "PCA 0,7\n",
      "Epoch 1/10\n",
      " 24/381 [>.............................] - ETA: 1s - loss: 0.8499 - accuracy: 0.2552"
     ]
    },
    {
     "name": "stderr",
     "output_type": "stream",
     "text": [
      "2022-02-15 17:39:02.447261: I tensorflow/core/grappler/optimizers/custom_graph_optimizer_registry.cc:112] Plugin optimizer for device_type GPU is enabled.\n"
     ]
    },
    {
     "name": "stdout",
     "output_type": "stream",
     "text": [
      "381/381 [==============================] - 2s 4ms/step - loss: 0.8221 - accuracy: 0.2403\n",
      "Epoch 2/10\n",
      "381/381 [==============================] - 2s 5ms/step - loss: 0.7723 - accuracy: 0.3200\n",
      "Epoch 3/10\n",
      "381/381 [==============================] - 2s 5ms/step - loss: 0.7261 - accuracy: 0.4397\n",
      "Epoch 4/10\n",
      "381/381 [==============================] - 2s 5ms/step - loss: 0.6824 - accuracy: 0.5736\n",
      "Epoch 5/10\n",
      "381/381 [==============================] - 2s 5ms/step - loss: 0.6413 - accuracy: 0.7009\n",
      "Epoch 6/10\n",
      "381/381 [==============================] - 2s 4ms/step - loss: 0.6029 - accuracy: 0.8174\n",
      "Epoch 7/10\n",
      "381/381 [==============================] - 2s 5ms/step - loss: 0.5670 - accuracy: 0.8860\n",
      "Epoch 8/10\n",
      "381/381 [==============================] - 2s 4ms/step - loss: 0.5335 - accuracy: 0.9252\n",
      "Epoch 9/10\n",
      "381/381 [==============================] - 2s 4ms/step - loss: 0.5022 - accuracy: 0.9458\n",
      "Epoch 10/10\n",
      "381/381 [==============================] - 2s 4ms/step - loss: 0.4730 - accuracy: 0.9581\n",
      "PCA 2,3\n",
      "Epoch 1/10\n",
      " 24/378 [>.............................] - ETA: 1s - loss: 0.6774 - accuracy: 0.5820"
     ]
    },
    {
     "name": "stderr",
     "output_type": "stream",
     "text": [
      "2022-02-15 17:39:19.899495: I tensorflow/core/grappler/optimizers/custom_graph_optimizer_registry.cc:112] Plugin optimizer for device_type GPU is enabled.\n"
     ]
    },
    {
     "name": "stdout",
     "output_type": "stream",
     "text": [
      "378/378 [==============================] - 2s 5ms/step - loss: 0.6624 - accuracy: 0.6300\n",
      "Epoch 2/10\n",
      "378/378 [==============================] - 2s 4ms/step - loss: 0.6306 - accuracy: 0.7357\n",
      "Epoch 3/10\n",
      "378/378 [==============================] - 2s 4ms/step - loss: 0.6011 - accuracy: 0.8070\n",
      "Epoch 4/10\n",
      "378/378 [==============================] - 2s 5ms/step - loss: 0.5740 - accuracy: 0.8484\n",
      "Epoch 5/10\n",
      "378/378 [==============================] - 2s 4ms/step - loss: 0.5490 - accuracy: 0.8728\n",
      "Epoch 6/10\n",
      "378/378 [==============================] - 2s 4ms/step - loss: 0.5257 - accuracy: 0.8906\n",
      "Epoch 7/10\n",
      "378/378 [==============================] - 2s 4ms/step - loss: 0.5040 - accuracy: 0.9010\n",
      "Epoch 8/10\n",
      "378/378 [==============================] - 2s 4ms/step - loss: 0.4837 - accuracy: 0.9076\n",
      "Epoch 9/10\n",
      "378/378 [==============================] - 2s 5ms/step - loss: 0.4649 - accuracy: 0.9135\n",
      "Epoch 10/10\n",
      "378/378 [==============================] - 2s 4ms/step - loss: 0.4474 - accuracy: 0.9169\n",
      "PCA 0,9\n",
      "Epoch 1/10\n",
      " 29/371 [=>............................] - ETA: 1s - loss: 0.6487 - accuracy: 0.5000"
     ]
    },
    {
     "name": "stderr",
     "output_type": "stream",
     "text": [
      "2022-02-15 17:39:36.948051: I tensorflow/core/grappler/optimizers/custom_graph_optimizer_registry.cc:112] Plugin optimizer for device_type GPU is enabled.\n"
     ]
    },
    {
     "name": "stdout",
     "output_type": "stream",
     "text": [
      "371/371 [==============================] - 2s 4ms/step - loss: 0.5965 - accuracy: 0.5770\n",
      "Epoch 2/10\n",
      "371/371 [==============================] - 1s 3ms/step - loss: 0.5301 - accuracy: 0.9415\n",
      "Epoch 3/10\n",
      "371/371 [==============================] - 1s 3ms/step - loss: 0.4902 - accuracy: 0.9661\n",
      "Epoch 4/10\n",
      "371/371 [==============================] - 1s 3ms/step - loss: 0.4576 - accuracy: 0.9673\n",
      "Epoch 5/10\n",
      "371/371 [==============================] - 1s 3ms/step - loss: 0.4290 - accuracy: 0.9679\n",
      "Epoch 6/10\n",
      "371/371 [==============================] - 1s 3ms/step - loss: 0.4034 - accuracy: 0.9690\n",
      "Epoch 7/10\n",
      "371/371 [==============================] - 1s 3ms/step - loss: 0.3800 - accuracy: 0.9683\n",
      "Epoch 8/10\n",
      "371/371 [==============================] - 1s 3ms/step - loss: 0.3587 - accuracy: 0.9691\n",
      "Epoch 9/10\n",
      "371/371 [==============================] - 1s 3ms/step - loss: 0.3392 - accuracy: 0.9706\n",
      "Epoch 10/10\n",
      "371/371 [==============================] - 1s 3ms/step - loss: 0.3212 - accuracy: 0.9708\n",
      "PCA 2,4\n",
      "Epoch 1/10\n",
      " 14/369 [>.............................] - ETA: 2s - loss: 0.7836 - accuracy: 0.4598"
     ]
    },
    {
     "name": "stderr",
     "output_type": "stream",
     "text": [
      "2022-02-15 17:39:49.586567: I tensorflow/core/grappler/optimizers/custom_graph_optimizer_registry.cc:112] Plugin optimizer for device_type GPU is enabled.\n"
     ]
    },
    {
     "name": "stdout",
     "output_type": "stream",
     "text": [
      "369/369 [==============================] - 2s 5ms/step - loss: 0.7001 - accuracy: 0.5049\n",
      "Epoch 2/10\n",
      "369/369 [==============================] - 2s 4ms/step - loss: 0.6301 - accuracy: 0.6068\n",
      "Epoch 3/10\n",
      "369/369 [==============================] - 2s 4ms/step - loss: 0.5898 - accuracy: 0.8653\n",
      "Epoch 4/10\n",
      "369/369 [==============================] - 2s 4ms/step - loss: 0.5582 - accuracy: 0.9496\n",
      "Epoch 5/10\n",
      "369/369 [==============================] - 2s 4ms/step - loss: 0.5307 - accuracy: 0.9604\n",
      "Epoch 6/10\n",
      "369/369 [==============================] - 2s 4ms/step - loss: 0.5060 - accuracy: 0.9625\n",
      "Epoch 7/10\n",
      "369/369 [==============================] - 2s 5ms/step - loss: 0.4835 - accuracy: 0.9615\n",
      "Epoch 8/10\n",
      "369/369 [==============================] - 2s 5ms/step - loss: 0.4626 - accuracy: 0.9612\n",
      "Epoch 9/10\n",
      "369/369 [==============================] - 2s 4ms/step - loss: 0.4433 - accuracy: 0.9615\n",
      "Epoch 10/10\n",
      "369/369 [==============================] - 2s 4ms/step - loss: 0.4252 - accuracy: 0.9607\n",
      "PCA 4,9\n",
      "Epoch 1/10\n",
      " 24/369 [>.............................] - ETA: 1s - loss: 0.6862 - accuracy: 0.5677"
     ]
    },
    {
     "name": "stderr",
     "output_type": "stream",
     "text": [
      "2022-02-15 17:40:06.245472: I tensorflow/core/grappler/optimizers/custom_graph_optimizer_registry.cc:112] Plugin optimizer for device_type GPU is enabled.\n"
     ]
    },
    {
     "name": "stdout",
     "output_type": "stream",
     "text": [
      "369/369 [==============================] - 2s 4ms/step - loss: 0.6807 - accuracy: 0.6145\n",
      "Epoch 2/10\n",
      "369/369 [==============================] - 2s 4ms/step - loss: 0.6669 - accuracy: 0.6678\n",
      "Epoch 3/10\n",
      "369/369 [==============================] - 2s 4ms/step - loss: 0.6549 - accuracy: 0.6817\n",
      "Epoch 4/10\n",
      "369/369 [==============================] - 2s 4ms/step - loss: 0.6443 - accuracy: 0.6887\n",
      "Epoch 5/10\n",
      "369/369 [==============================] - 2s 5ms/step - loss: 0.6347 - accuracy: 0.6926\n",
      "Epoch 6/10\n",
      "369/369 [==============================] - 2s 4ms/step - loss: 0.6261 - accuracy: 0.6964\n",
      "Epoch 7/10\n",
      "369/369 [==============================] - 2s 4ms/step - loss: 0.6185 - accuracy: 0.6993\n",
      "Epoch 8/10\n",
      "369/369 [==============================] - 2s 5ms/step - loss: 0.6118 - accuracy: 0.6991\n",
      "Epoch 9/10\n",
      "369/369 [==============================] - 2s 5ms/step - loss: 0.6058 - accuracy: 0.7005\n",
      "Epoch 10/10\n",
      "369/369 [==============================] - 2s 5ms/step - loss: 0.6004 - accuracy: 0.6996\n",
      "PCA 4,7\n",
      "Epoch 1/10\n",
      " 23/379 [>.............................] - ETA: 1s - loss: 0.7475 - accuracy: 0.3954"
     ]
    },
    {
     "name": "stderr",
     "output_type": "stream",
     "text": [
      "2022-02-15 17:40:23.118631: I tensorflow/core/grappler/optimizers/custom_graph_optimizer_registry.cc:112] Plugin optimizer for device_type GPU is enabled.\n"
     ]
    },
    {
     "name": "stdout",
     "output_type": "stream",
     "text": [
      "379/379 [==============================] - 2s 4ms/step - loss: 0.7196 - accuracy: 0.4336\n",
      "Epoch 2/10\n",
      "379/379 [==============================] - 2s 4ms/step - loss: 0.6779 - accuracy: 0.5756\n",
      "Epoch 3/10\n",
      "379/379 [==============================] - 2s 4ms/step - loss: 0.6415 - accuracy: 0.7233\n",
      "Epoch 4/10\n",
      "379/379 [==============================] - 2s 4ms/step - loss: 0.6078 - accuracy: 0.8365\n",
      "Epoch 5/10\n",
      "379/379 [==============================] - 2s 4ms/step - loss: 0.5766 - accuracy: 0.8995\n",
      "Epoch 6/10\n",
      "379/379 [==============================] - 2s 4ms/step - loss: 0.5474 - accuracy: 0.9257\n",
      "Epoch 7/10\n",
      "379/379 [==============================] - 2s 4ms/step - loss: 0.5203 - accuracy: 0.9409\n",
      "Epoch 8/10\n",
      "379/379 [==============================] - 2s 4ms/step - loss: 0.4950 - accuracy: 0.9504\n",
      "Epoch 9/10\n",
      "379/379 [==============================] - 2s 4ms/step - loss: 0.4713 - accuracy: 0.9551\n",
      "Epoch 10/10\n",
      "379/379 [==============================] - 2s 5ms/step - loss: 0.4492 - accuracy: 0.9602\n",
      "PCA 0,8\n",
      "Epoch 1/10\n",
      " 20/368 [>.............................] - ETA: 1s - loss: 0.6365 - accuracy: 0.4984"
     ]
    },
    {
     "name": "stderr",
     "output_type": "stream",
     "text": [
      "2022-02-15 17:40:39.688613: I tensorflow/core/grappler/optimizers/custom_graph_optimizer_registry.cc:112] Plugin optimizer for device_type GPU is enabled.\n"
     ]
    },
    {
     "name": "stdout",
     "output_type": "stream",
     "text": [
      "368/368 [==============================] - 2s 5ms/step - loss: 0.5981 - accuracy: 0.8219\n",
      "Epoch 2/10\n",
      "368/368 [==============================] - 2s 5ms/step - loss: 0.5595 - accuracy: 0.9422\n",
      "Epoch 3/10\n",
      "368/368 [==============================] - 2s 4ms/step - loss: 0.5278 - accuracy: 0.9493\n",
      "Epoch 4/10\n",
      "368/368 [==============================] - 2s 4ms/step - loss: 0.4976 - accuracy: 0.9586\n",
      "Epoch 5/10\n",
      "368/368 [==============================] - 2s 4ms/step - loss: 0.4693 - accuracy: 0.9608\n",
      "Epoch 6/10\n",
      "368/368 [==============================] - 2s 4ms/step - loss: 0.4429 - accuracy: 0.9625\n",
      "Epoch 7/10\n",
      "368/368 [==============================] - 2s 5ms/step - loss: 0.4184 - accuracy: 0.9649\n",
      "Epoch 8/10\n",
      "368/368 [==============================] - 2s 4ms/step - loss: 0.3956 - accuracy: 0.9665\n",
      "Epoch 9/10\n",
      "368/368 [==============================] - 2s 4ms/step - loss: 0.3744 - accuracy: 0.9674\n",
      "Epoch 10/10\n",
      "368/368 [==============================] - 2s 4ms/step - loss: 0.3547 - accuracy: 0.9678\n",
      "PCA 2,5\n",
      "Epoch 1/10\n",
      " 24/356 [=>............................] - ETA: 1s - loss: 0.7053 - accuracy: 0.4870"
     ]
    },
    {
     "name": "stderr",
     "output_type": "stream",
     "text": [
      "2022-02-15 17:40:56.432325: I tensorflow/core/grappler/optimizers/custom_graph_optimizer_registry.cc:112] Plugin optimizer for device_type GPU is enabled.\n"
     ]
    },
    {
     "name": "stdout",
     "output_type": "stream",
     "text": [
      "356/356 [==============================] - 2s 5ms/step - loss: 0.6530 - accuracy: 0.5934\n",
      "Epoch 2/10\n",
      "356/356 [==============================] - 2s 4ms/step - loss: 0.6085 - accuracy: 0.8160\n",
      "Epoch 3/10\n",
      "356/356 [==============================] - 2s 4ms/step - loss: 0.5888 - accuracy: 0.8191\n",
      "Epoch 4/10\n",
      "356/356 [==============================] - 2s 4ms/step - loss: 0.5694 - accuracy: 0.8351\n",
      "Epoch 5/10\n",
      "356/356 [==============================] - 2s 5ms/step - loss: 0.5500 - accuracy: 0.8488\n",
      "Epoch 6/10\n",
      "356/356 [==============================] - 2s 4ms/step - loss: 0.5310 - accuracy: 0.8605\n",
      "Epoch 7/10\n",
      "356/356 [==============================] - 2s 4ms/step - loss: 0.5128 - accuracy: 0.8699\n",
      "Epoch 8/10\n",
      "356/356 [==============================] - 2s 4ms/step - loss: 0.4954 - accuracy: 0.8773\n",
      "Epoch 9/10\n",
      "356/356 [==============================] - 2s 4ms/step - loss: 0.4788 - accuracy: 0.8807\n",
      "Epoch 10/10\n",
      "356/356 [==============================] - 2s 5ms/step - loss: 0.4630 - accuracy: 0.8862\n",
      "PCA 0,6\n",
      "Epoch 1/10\n",
      " 21/371 [>.............................] - ETA: 1s - loss: 0.7857 - accuracy: 0.4405"
     ]
    },
    {
     "name": "stderr",
     "output_type": "stream",
     "text": [
      "2022-02-15 17:41:12.598882: I tensorflow/core/grappler/optimizers/custom_graph_optimizer_registry.cc:112] Plugin optimizer for device_type GPU is enabled.\n"
     ]
    },
    {
     "name": "stdout",
     "output_type": "stream",
     "text": [
      "371/371 [==============================] - 2s 5ms/step - loss: 0.7116 - accuracy: 0.5277\n",
      "Epoch 2/10\n",
      "371/371 [==============================] - 2s 5ms/step - loss: 0.6661 - accuracy: 0.6428\n",
      "Epoch 3/10\n",
      "371/371 [==============================] - 2s 5ms/step - loss: 0.6341 - accuracy: 0.7627\n",
      "Epoch 4/10\n",
      "371/371 [==============================] - 2s 4ms/step - loss: 0.6032 - accuracy: 0.8357\n",
      "Epoch 5/10\n",
      "371/371 [==============================] - 2s 4ms/step - loss: 0.5735 - accuracy: 0.8846\n",
      "Epoch 6/10\n",
      "371/371 [==============================] - 2s 4ms/step - loss: 0.5453 - accuracy: 0.9116\n",
      "Epoch 7/10\n",
      "371/371 [==============================] - 2s 5ms/step - loss: 0.5188 - accuracy: 0.9264\n",
      "Epoch 8/10\n",
      "371/371 [==============================] - 2s 4ms/step - loss: 0.4937 - accuracy: 0.9343\n",
      "Epoch 9/10\n",
      "371/371 [==============================] - 2s 5ms/step - loss: 0.4703 - accuracy: 0.9387\n",
      "Epoch 10/10\n",
      "371/371 [==============================] - 2s 5ms/step - loss: 0.4483 - accuracy: 0.9435\n",
      "PCA 0,1\n",
      "Epoch 1/10\n",
      " 22/396 [>.............................] - ETA: 1s - loss: 1.0544 - accuracy: 0.4830"
     ]
    },
    {
     "name": "stderr",
     "output_type": "stream",
     "text": [
      "2022-02-15 17:41:29.760535: I tensorflow/core/grappler/optimizers/custom_graph_optimizer_registry.cc:112] Plugin optimizer for device_type GPU is enabled.\n"
     ]
    },
    {
     "name": "stdout",
     "output_type": "stream",
     "text": [
      "396/396 [==============================] - 2s 5ms/step - loss: 0.8897 - accuracy: 0.5242\n",
      "Epoch 2/10\n",
      "396/396 [==============================] - 2s 4ms/step - loss: 0.7770 - accuracy: 0.3286\n",
      "Epoch 3/10\n",
      "396/396 [==============================] - 2s 4ms/step - loss: 0.7257 - accuracy: 0.3565\n",
      "Epoch 4/10\n",
      "396/396 [==============================] - 2s 4ms/step - loss: 0.6816 - accuracy: 0.5057\n",
      "Epoch 5/10\n",
      "396/396 [==============================] - 2s 4ms/step - loss: 0.6386 - accuracy: 0.6835\n",
      "Epoch 6/10\n",
      "396/396 [==============================] - 2s 4ms/step - loss: 0.5974 - accuracy: 0.8253\n",
      "Epoch 7/10\n",
      "396/396 [==============================] - 2s 4ms/step - loss: 0.5584 - accuracy: 0.9278\n",
      "Epoch 8/10\n",
      "396/396 [==============================] - 2s 4ms/step - loss: 0.5217 - accuracy: 0.9679\n",
      "Epoch 9/10\n",
      "396/396 [==============================] - 2s 5ms/step - loss: 0.4874 - accuracy: 0.9787\n",
      "Epoch 10/10\n",
      "396/396 [==============================] - 2s 4ms/step - loss: 0.4554 - accuracy: 0.9844\n",
      "PCA 3,7\n",
      "Epoch 1/10\n",
      " 22/388 [>.............................] - ETA: 1s - loss: 0.7316 - accuracy: 0.5469"
     ]
    },
    {
     "name": "stderr",
     "output_type": "stream",
     "text": [
      "2022-02-15 17:41:47.450170: I tensorflow/core/grappler/optimizers/custom_graph_optimizer_registry.cc:112] Plugin optimizer for device_type GPU is enabled.\n"
     ]
    },
    {
     "name": "stdout",
     "output_type": "stream",
     "text": [
      "388/388 [==============================] - 2s 5ms/step - loss: 0.7118 - accuracy: 0.5659\n",
      "Epoch 2/10\n",
      "388/388 [==============================] - 2s 4ms/step - loss: 0.6692 - accuracy: 0.6676\n",
      "Epoch 3/10\n",
      "388/388 [==============================] - 2s 5ms/step - loss: 0.6314 - accuracy: 0.7442\n",
      "Epoch 4/10\n",
      "388/388 [==============================] - 2s 4ms/step - loss: 0.5969 - accuracy: 0.8077\n",
      "Epoch 5/10\n",
      "388/388 [==============================] - 2s 4ms/step - loss: 0.5652 - accuracy: 0.8554\n",
      "Epoch 6/10\n",
      "388/388 [==============================] - 2s 4ms/step - loss: 0.5357 - accuracy: 0.8928\n",
      "Epoch 7/10\n",
      "388/388 [==============================] - 2s 4ms/step - loss: 0.5085 - accuracy: 0.9209\n",
      "Epoch 8/10\n",
      "388/388 [==============================] - 2s 5ms/step - loss: 0.4831 - accuracy: 0.9364\n",
      "Epoch 9/10\n",
      "388/388 [==============================] - 2s 4ms/step - loss: 0.4595 - accuracy: 0.9447\n",
      "Epoch 10/10\n",
      "388/388 [==============================] - 2s 4ms/step - loss: 0.4377 - accuracy: 0.9494\n",
      "PCA 1,3\n",
      "Epoch 1/10\n",
      " 23/403 [>.............................] - ETA: 1s - loss: 0.7219 - accuracy: 0.5448"
     ]
    },
    {
     "name": "stderr",
     "output_type": "stream",
     "text": [
      "2022-02-15 17:42:04.909756: I tensorflow/core/grappler/optimizers/custom_graph_optimizer_registry.cc:112] Plugin optimizer for device_type GPU is enabled.\n"
     ]
    },
    {
     "name": "stdout",
     "output_type": "stream",
     "text": [
      "403/403 [==============================] - 2s 5ms/step - loss: 0.6948 - accuracy: 0.5249\n",
      "Epoch 2/10\n",
      "403/403 [==============================] - 2s 5ms/step - loss: 0.6487 - accuracy: 0.6600\n",
      "Epoch 3/10\n",
      "403/403 [==============================] - 2s 4ms/step - loss: 0.6077 - accuracy: 0.8568\n",
      "Epoch 4/10\n",
      "403/403 [==============================] - 2s 4ms/step - loss: 0.5705 - accuracy: 0.9138\n",
      "Epoch 5/10\n",
      "403/403 [==============================] - 2s 4ms/step - loss: 0.5363 - accuracy: 0.9267\n",
      "Epoch 6/10\n",
      "403/403 [==============================] - 2s 4ms/step - loss: 0.5050 - accuracy: 0.9414\n",
      "Epoch 7/10\n",
      "403/403 [==============================] - 2s 5ms/step - loss: 0.4761 - accuracy: 0.9470\n",
      "Epoch 8/10\n",
      "403/403 [==============================] - 2s 5ms/step - loss: 0.4495 - accuracy: 0.9502\n",
      "Epoch 9/10\n",
      "403/403 [==============================] - 2s 4ms/step - loss: 0.4250 - accuracy: 0.9539\n",
      "Epoch 10/10\n",
      "403/403 [==============================] - 2s 4ms/step - loss: 0.4022 - accuracy: 0.9566\n",
      "PCA 1,4\n",
      "Epoch 1/10\n",
      " 23/394 [>.............................] - ETA: 1s - loss: 0.7317 - accuracy: 0.4524"
     ]
    },
    {
     "name": "stderr",
     "output_type": "stream",
     "text": [
      "2022-02-15 17:42:23.184658: I tensorflow/core/grappler/optimizers/custom_graph_optimizer_registry.cc:112] Plugin optimizer for device_type GPU is enabled.\n"
     ]
    },
    {
     "name": "stdout",
     "output_type": "stream",
     "text": [
      "394/394 [==============================] - 2s 4ms/step - loss: 0.6732 - accuracy: 0.6337\n",
      "Epoch 2/10\n",
      "394/394 [==============================] - 2s 4ms/step - loss: 0.6094 - accuracy: 0.8460\n",
      "Epoch 3/10\n",
      "394/394 [==============================] - 2s 4ms/step - loss: 0.5671 - accuracy: 0.9123\n",
      "Epoch 4/10\n",
      "394/394 [==============================] - 2s 5ms/step - loss: 0.5311 - accuracy: 0.9537\n",
      "Epoch 5/10\n",
      "394/394 [==============================] - 2s 5ms/step - loss: 0.4989 - accuracy: 0.9681\n",
      "Epoch 6/10\n",
      "394/394 [==============================] - 2s 4ms/step - loss: 0.4697 - accuracy: 0.9743\n",
      "Epoch 7/10\n",
      "394/394 [==============================] - 2s 4ms/step - loss: 0.4430 - accuracy: 0.9770\n",
      "Epoch 8/10\n",
      "394/394 [==============================] - 2s 4ms/step - loss: 0.4184 - accuracy: 0.9771\n",
      "Epoch 9/10\n",
      "394/394 [==============================] - 2s 4ms/step - loss: 0.3957 - accuracy: 0.9777\n",
      "Epoch 10/10\n",
      "394/394 [==============================] - 2s 4ms/step - loss: 0.3747 - accuracy: 0.9781\n",
      "PCA 3,9\n",
      "Epoch 1/10\n",
      " 23/378 [>.............................] - ETA: 1s - loss: 0.6894 - accuracy: 0.4946"
     ]
    },
    {
     "name": "stderr",
     "output_type": "stream",
     "text": [
      "2022-02-15 17:42:40.747223: I tensorflow/core/grappler/optimizers/custom_graph_optimizer_registry.cc:112] Plugin optimizer for device_type GPU is enabled.\n"
     ]
    },
    {
     "name": "stdout",
     "output_type": "stream",
     "text": [
      "378/378 [==============================] - 2s 5ms/step - loss: 0.6624 - accuracy: 0.5594\n",
      "Epoch 2/10\n",
      "378/378 [==============================] - 2s 4ms/step - loss: 0.6215 - accuracy: 0.7202\n",
      "Epoch 3/10\n",
      "378/378 [==============================] - 2s 4ms/step - loss: 0.5886 - accuracy: 0.8090\n",
      "Epoch 4/10\n",
      "378/378 [==============================] - 2s 4ms/step - loss: 0.5590 - accuracy: 0.8546\n",
      "Epoch 5/10\n",
      "378/378 [==============================] - 2s 4ms/step - loss: 0.5319 - accuracy: 0.8874\n",
      "Epoch 6/10\n",
      "378/378 [==============================] - 2s 4ms/step - loss: 0.5071 - accuracy: 0.9051\n",
      "Epoch 7/10\n",
      "378/378 [==============================] - 2s 4ms/step - loss: 0.4840 - accuracy: 0.9172\n",
      "Epoch 8/10\n",
      "378/378 [==============================] - 2s 5ms/step - loss: 0.4627 - accuracy: 0.9275\n",
      "Epoch 9/10\n",
      "378/378 [==============================] - 2s 5ms/step - loss: 0.4429 - accuracy: 0.9325\n",
      "Epoch 10/10\n",
      "378/378 [==============================] - 2s 4ms/step - loss: 0.4245 - accuracy: 0.9356\n",
      "PCA 7,8\n",
      "Epoch 1/10\n",
      " 20/379 [>.............................] - ETA: 1s - loss: 0.7162 - accuracy: 0.4563"
     ]
    },
    {
     "name": "stderr",
     "output_type": "stream",
     "text": [
      "2022-02-15 17:42:58.003937: I tensorflow/core/grappler/optimizers/custom_graph_optimizer_registry.cc:112] Plugin optimizer for device_type GPU is enabled.\n"
     ]
    },
    {
     "name": "stdout",
     "output_type": "stream",
     "text": [
      "379/379 [==============================] - 2s 5ms/step - loss: 0.7034 - accuracy: 0.4818\n",
      "Epoch 2/10\n",
      "379/379 [==============================] - 2s 4ms/step - loss: 0.6653 - accuracy: 0.6250\n",
      "Epoch 3/10\n",
      "379/379 [==============================] - 2s 4ms/step - loss: 0.6297 - accuracy: 0.7536\n",
      "Epoch 4/10\n",
      "379/379 [==============================] - 2s 4ms/step - loss: 0.5966 - accuracy: 0.8448\n",
      "Epoch 5/10\n",
      "379/379 [==============================] - 2s 5ms/step - loss: 0.5658 - accuracy: 0.8905\n",
      "Epoch 6/10\n",
      "379/379 [==============================] - 2s 4ms/step - loss: 0.5371 - accuracy: 0.9165\n",
      "Epoch 7/10\n",
      "379/379 [==============================] - 2s 5ms/step - loss: 0.5105 - accuracy: 0.9265\n",
      "Epoch 8/10\n",
      "379/379 [==============================] - 2s 5ms/step - loss: 0.4857 - accuracy: 0.9335\n",
      "Epoch 9/10\n",
      "379/379 [==============================] - 2s 4ms/step - loss: 0.4625 - accuracy: 0.9382\n",
      "Epoch 10/10\n",
      "379/379 [==============================] - 2s 5ms/step - loss: 0.4409 - accuracy: 0.9410\n",
      "PCA 1,5\n",
      "Epoch 1/10\n",
      " 23/381 [>.............................] - ETA: 1s - loss: 0.8397 - accuracy: 0.5543"
     ]
    },
    {
     "name": "stderr",
     "output_type": "stream",
     "text": [
      "2022-02-15 17:43:15.301680: I tensorflow/core/grappler/optimizers/custom_graph_optimizer_registry.cc:112] Plugin optimizer for device_type GPU is enabled.\n"
     ]
    },
    {
     "name": "stdout",
     "output_type": "stream",
     "text": [
      "381/381 [==============================] - 2s 5ms/step - loss: 0.8078 - accuracy: 0.4322\n",
      "Epoch 2/10\n",
      "381/381 [==============================] - 2s 5ms/step - loss: 0.7608 - accuracy: 0.3258\n",
      "Epoch 3/10\n",
      "381/381 [==============================] - 2s 4ms/step - loss: 0.7217 - accuracy: 0.4482\n",
      "Epoch 4/10\n",
      "381/381 [==============================] - 2s 5ms/step - loss: 0.6846 - accuracy: 0.5543\n",
      "Epoch 5/10\n",
      "381/381 [==============================] - 2s 5ms/step - loss: 0.6492 - accuracy: 0.6472\n",
      "Epoch 6/10\n",
      "381/381 [==============================] - 2s 4ms/step - loss: 0.6162 - accuracy: 0.8742\n",
      "Epoch 7/10\n",
      "381/381 [==============================] - 2s 4ms/step - loss: 0.5850 - accuracy: 0.8930\n",
      "Epoch 8/10\n",
      "381/381 [==============================] - 2s 4ms/step - loss: 0.5559 - accuracy: 0.9147\n",
      "Epoch 9/10\n",
      "381/381 [==============================] - 2s 5ms/step - loss: 0.5287 - accuracy: 0.9269\n",
      "Epoch 10/10\n",
      "381/381 [==============================] - 2s 4ms/step - loss: 0.5032 - accuracy: 0.9299\n",
      "PCA 3,8\n",
      "Epoch 1/10\n",
      " 22/375 [>.............................] - ETA: 1s - loss: 0.6468 - accuracy: 0.5611"
     ]
    },
    {
     "name": "stderr",
     "output_type": "stream",
     "text": [
      "2022-02-15 17:43:32.632139: I tensorflow/core/grappler/optimizers/custom_graph_optimizer_registry.cc:112] Plugin optimizer for device_type GPU is enabled.\n"
     ]
    },
    {
     "name": "stdout",
     "output_type": "stream",
     "text": [
      "375/375 [==============================] - 2s 5ms/step - loss: 0.6252 - accuracy: 0.6698\n",
      "Epoch 2/10\n",
      "375/375 [==============================] - 2s 5ms/step - loss: 0.5977 - accuracy: 0.7757\n",
      "Epoch 3/10\n",
      "375/375 [==============================] - 2s 5ms/step - loss: 0.5775 - accuracy: 0.8082\n",
      "Epoch 4/10\n",
      "375/375 [==============================] - 2s 5ms/step - loss: 0.5584 - accuracy: 0.8279\n",
      "Epoch 5/10\n",
      "375/375 [==============================] - 2s 4ms/step - loss: 0.5404 - accuracy: 0.8405\n",
      "Epoch 6/10\n",
      "375/375 [==============================] - 2s 4ms/step - loss: 0.5239 - accuracy: 0.8479\n",
      "Epoch 7/10\n",
      "375/375 [==============================] - 2s 4ms/step - loss: 0.5086 - accuracy: 0.8538\n",
      "Epoch 8/10\n",
      "375/375 [==============================] - 2s 4ms/step - loss: 0.4946 - accuracy: 0.8560\n",
      "Epoch 9/10\n",
      "375/375 [==============================] - 2s 4ms/step - loss: 0.4817 - accuracy: 0.8587\n",
      "Epoch 10/10\n",
      "375/375 [==============================] - 2s 4ms/step - loss: 0.4699 - accuracy: 0.8600\n",
      "PCA 1,2\n",
      "Epoch 1/10\n",
      " 22/397 [>.............................] - ETA: 1s - loss: 0.6584 - accuracy: 0.5028"
     ]
    },
    {
     "name": "stderr",
     "output_type": "stream",
     "text": [
      "2022-02-15 17:43:49.734639: I tensorflow/core/grappler/optimizers/custom_graph_optimizer_registry.cc:112] Plugin optimizer for device_type GPU is enabled.\n"
     ]
    },
    {
     "name": "stdout",
     "output_type": "stream",
     "text": [
      "397/397 [==============================] - 2s 5ms/step - loss: 0.6278 - accuracy: 0.6413\n",
      "Epoch 2/10\n",
      "397/397 [==============================] - 2s 5ms/step - loss: 0.5693 - accuracy: 0.9070\n",
      "Epoch 3/10\n",
      "397/397 [==============================] - 2s 5ms/step - loss: 0.5331 - accuracy: 0.9217\n",
      "Epoch 4/10\n",
      "397/397 [==============================] - 2s 4ms/step - loss: 0.5025 - accuracy: 0.9303\n",
      "Epoch 5/10\n",
      "397/397 [==============================] - 2s 5ms/step - loss: 0.4753 - accuracy: 0.9328\n",
      "Epoch 6/10\n",
      "397/397 [==============================] - 2s 5ms/step - loss: 0.4507 - accuracy: 0.9351\n",
      "Epoch 7/10\n",
      "397/397 [==============================] - 2s 5ms/step - loss: 0.4284 - accuracy: 0.9380\n",
      "Epoch 8/10\n",
      "397/397 [==============================] - 2s 4ms/step - loss: 0.4079 - accuracy: 0.9391\n",
      "Epoch 9/10\n",
      "397/397 [==============================] - 2s 4ms/step - loss: 0.3890 - accuracy: 0.9394\n",
      "Epoch 10/10\n",
      "397/397 [==============================] - 2s 4ms/step - loss: 0.3714 - accuracy: 0.9426\n",
      "PCA 3,6\n",
      "Epoch 1/10\n",
      " 21/377 [>.............................] - ETA: 1s - loss: 0.6776 - accuracy: 0.4807"
     ]
    },
    {
     "name": "stderr",
     "output_type": "stream",
     "text": [
      "2022-02-15 17:44:08.446087: I tensorflow/core/grappler/optimizers/custom_graph_optimizer_registry.cc:112] Plugin optimizer for device_type GPU is enabled.\n"
     ]
    },
    {
     "name": "stdout",
     "output_type": "stream",
     "text": [
      "377/377 [==============================] - 2s 4ms/step - loss: 0.6151 - accuracy: 0.5483\n",
      "Epoch 2/10\n",
      "377/377 [==============================] - 2s 4ms/step - loss: 0.5493 - accuracy: 0.8694\n",
      "Epoch 3/10\n",
      "377/377 [==============================] - 1s 4ms/step - loss: 0.5108 - accuracy: 0.9421\n",
      "Epoch 4/10\n",
      "377/377 [==============================] - 2s 4ms/step - loss: 0.4804 - accuracy: 0.9597\n",
      "Epoch 5/10\n",
      "377/377 [==============================] - 2s 4ms/step - loss: 0.4541 - accuracy: 0.9620\n",
      "Epoch 6/10\n",
      "377/377 [==============================] - 2s 4ms/step - loss: 0.4307 - accuracy: 0.9632\n",
      "Epoch 7/10\n",
      "377/377 [==============================] - 2s 4ms/step - loss: 0.4095 - accuracy: 0.9655\n",
      "Epoch 8/10\n",
      "377/377 [==============================] - 2s 4ms/step - loss: 0.3900 - accuracy: 0.9649\n",
      "Epoch 9/10\n",
      "377/377 [==============================] - 2s 4ms/step - loss: 0.3722 - accuracy: 0.9656\n",
      "Epoch 10/10\n",
      "377/377 [==============================] - 2s 4ms/step - loss: 0.3556 - accuracy: 0.9666\n",
      "PCA 7,9\n",
      "Epoch 1/10\n",
      " 22/382 [>.............................] - ETA: 1s - loss: 0.6526 - accuracy: 0.5298"
     ]
    },
    {
     "name": "stderr",
     "output_type": "stream",
     "text": [
      "2022-02-15 17:44:24.528798: I tensorflow/core/grappler/optimizers/custom_graph_optimizer_registry.cc:112] Plugin optimizer for device_type GPU is enabled.\n"
     ]
    },
    {
     "name": "stdout",
     "output_type": "stream",
     "text": [
      "382/382 [==============================] - 2s 4ms/step - loss: 0.6270 - accuracy: 0.7089\n",
      "Epoch 2/10\n",
      "382/382 [==============================] - 2s 4ms/step - loss: 0.5970 - accuracy: 0.8303\n",
      "Epoch 3/10\n",
      "382/382 [==============================] - 2s 4ms/step - loss: 0.5720 - accuracy: 0.8511\n",
      "Epoch 4/10\n",
      "382/382 [==============================] - 2s 4ms/step - loss: 0.5492 - accuracy: 0.8637\n",
      "Epoch 5/10\n",
      "382/382 [==============================] - 2s 4ms/step - loss: 0.5284 - accuracy: 0.8715\n",
      "Epoch 6/10\n",
      "382/382 [==============================] - 2s 4ms/step - loss: 0.5092 - accuracy: 0.8759\n",
      "Epoch 7/10\n",
      "382/382 [==============================] - 2s 4ms/step - loss: 0.4915 - accuracy: 0.8806\n",
      "Epoch 8/10\n",
      "382/382 [==============================] - 2s 4ms/step - loss: 0.4752 - accuracy: 0.8857\n",
      "Epoch 9/10\n",
      "382/382 [==============================] - 2s 4ms/step - loss: 0.4601 - accuracy: 0.8876\n",
      "Epoch 10/10\n",
      "382/382 [==============================] - 2s 4ms/step - loss: 0.4462 - accuracy: 0.8883\n",
      "PCA 2,9\n",
      "Epoch 1/10\n",
      " 22/373 [>.............................] - ETA: 1s - loss: 0.7595 - accuracy: 0.5213"
     ]
    },
    {
     "name": "stderr",
     "output_type": "stream",
     "text": [
      "2022-02-15 17:44:41.012455: I tensorflow/core/grappler/optimizers/custom_graph_optimizer_registry.cc:112] Plugin optimizer for device_type GPU is enabled.\n"
     ]
    },
    {
     "name": "stdout",
     "output_type": "stream",
     "text": [
      "373/373 [==============================] - 2s 5ms/step - loss: 0.7198 - accuracy: 0.5081\n",
      "Epoch 2/10\n",
      "373/373 [==============================] - 2s 5ms/step - loss: 0.6717 - accuracy: 0.5829\n",
      "Epoch 3/10\n",
      "373/373 [==============================] - 2s 4ms/step - loss: 0.6440 - accuracy: 0.7007\n",
      "Epoch 4/10\n",
      "373/373 [==============================] - 2s 4ms/step - loss: 0.6165 - accuracy: 0.7876\n",
      "Epoch 5/10\n",
      "373/373 [==============================] - 2s 4ms/step - loss: 0.5897 - accuracy: 0.8523\n",
      "Epoch 6/10\n",
      "373/373 [==============================] - 2s 4ms/step - loss: 0.5639 - accuracy: 0.8974\n",
      "Epoch 7/10\n",
      "373/373 [==============================] - 2s 4ms/step - loss: 0.5392 - accuracy: 0.9223\n",
      "Epoch 8/10\n",
      "373/373 [==============================] - 2s 4ms/step - loss: 0.5158 - accuracy: 0.9337\n",
      "Epoch 9/10\n",
      "373/373 [==============================] - 2s 4ms/step - loss: 0.4935 - accuracy: 0.9456\n",
      "Epoch 10/10\n",
      "373/373 [==============================] - 2s 5ms/step - loss: 0.4725 - accuracy: 0.9494\n",
      "PCA 0,4\n",
      "Epoch 1/10\n",
      " 23/368 [>.............................] - ETA: 1s - loss: 0.5998 - accuracy: 0.8397"
     ]
    },
    {
     "name": "stderr",
     "output_type": "stream",
     "text": [
      "2022-02-15 17:44:57.540287: I tensorflow/core/grappler/optimizers/custom_graph_optimizer_registry.cc:112] Plugin optimizer for device_type GPU is enabled.\n"
     ]
    },
    {
     "name": "stdout",
     "output_type": "stream",
     "text": [
      "368/368 [==============================] - 2s 5ms/step - loss: 0.5815 - accuracy: 0.8707\n",
      "Epoch 2/10\n",
      "368/368 [==============================] - 2s 4ms/step - loss: 0.5442 - accuracy: 0.9249\n",
      "Epoch 3/10\n",
      "368/368 [==============================] - 2s 4ms/step - loss: 0.5098 - accuracy: 0.9482\n",
      "Epoch 4/10\n",
      "368/368 [==============================] - 2s 4ms/step - loss: 0.4782 - accuracy: 0.9622\n",
      "Epoch 5/10\n",
      "368/368 [==============================] - 2s 4ms/step - loss: 0.4491 - accuracy: 0.9663\n",
      "Epoch 6/10\n",
      "368/368 [==============================] - 2s 4ms/step - loss: 0.4223 - accuracy: 0.9742\n",
      "Epoch 7/10\n",
      "368/368 [==============================] - 2s 4ms/step - loss: 0.3975 - accuracy: 0.9760\n",
      "Epoch 8/10\n",
      "368/368 [==============================] - 2s 5ms/step - loss: 0.3746 - accuracy: 0.9780\n",
      "Epoch 9/10\n",
      "368/368 [==============================] - 2s 4ms/step - loss: 0.3535 - accuracy: 0.9794\n",
      "Epoch 10/10\n",
      "368/368 [==============================] - 2s 4ms/step - loss: 0.3338 - accuracy: 0.9809\n",
      "PCA 0,3\n",
      "Epoch 1/10\n",
      " 24/377 [>.............................] - ETA: 1s - loss: 0.7216 - accuracy: 0.4727"
     ]
    },
    {
     "name": "stderr",
     "output_type": "stream",
     "text": [
      "2022-02-15 17:45:14.273401: I tensorflow/core/grappler/optimizers/custom_graph_optimizer_registry.cc:112] Plugin optimizer for device_type GPU is enabled.\n"
     ]
    },
    {
     "name": "stdout",
     "output_type": "stream",
     "text": [
      "377/377 [==============================] - 2s 4ms/step - loss: 0.6478 - accuracy: 0.4974\n",
      "Epoch 2/10\n",
      "377/377 [==============================] - 2s 4ms/step - loss: 0.5756 - accuracy: 0.7778\n",
      "Epoch 3/10\n",
      "377/377 [==============================] - 2s 4ms/step - loss: 0.5358 - accuracy: 0.9081\n",
      "Epoch 4/10\n",
      "377/377 [==============================] - 2s 4ms/step - loss: 0.5050 - accuracy: 0.9265\n",
      "Epoch 5/10\n",
      "377/377 [==============================] - 2s 4ms/step - loss: 0.4786 - accuracy: 0.9336\n",
      "Epoch 6/10\n",
      "377/377 [==============================] - 2s 4ms/step - loss: 0.4547 - accuracy: 0.9374\n",
      "Epoch 7/10\n",
      "377/377 [==============================] - 2s 4ms/step - loss: 0.4330 - accuracy: 0.9399\n",
      "Epoch 8/10\n",
      "377/377 [==============================] - 2s 4ms/step - loss: 0.4132 - accuracy: 0.9437\n",
      "Epoch 9/10\n",
      "377/377 [==============================] - 2s 5ms/step - loss: 0.3948 - accuracy: 0.9460\n",
      "Epoch 10/10\n",
      "377/377 [==============================] - 2s 5ms/step - loss: 0.3779 - accuracy: 0.9472\n",
      "PCA 2,7\n",
      "Epoch 1/10\n",
      " 22/382 [>.............................] - ETA: 1s - loss: 0.6814 - accuracy: 0.5696"
     ]
    },
    {
     "name": "stderr",
     "output_type": "stream",
     "text": [
      "2022-02-15 17:45:31.183845: I tensorflow/core/grappler/optimizers/custom_graph_optimizer_registry.cc:112] Plugin optimizer for device_type GPU is enabled.\n"
     ]
    },
    {
     "name": "stdout",
     "output_type": "stream",
     "text": [
      "382/382 [==============================] - 2s 5ms/step - loss: 0.6626 - accuracy: 0.6811\n",
      "Epoch 2/10\n",
      "382/382 [==============================] - 2s 5ms/step - loss: 0.6285 - accuracy: 0.8098\n",
      "Epoch 3/10\n",
      "382/382 [==============================] - 2s 4ms/step - loss: 0.5969 - accuracy: 0.8697\n",
      "Epoch 4/10\n",
      "382/382 [==============================] - 2s 5ms/step - loss: 0.5671 - accuracy: 0.9037\n",
      "Epoch 5/10\n",
      "382/382 [==============================] - 2s 5ms/step - loss: 0.5394 - accuracy: 0.9161\n",
      "Epoch 6/10\n",
      "382/382 [==============================] - 2s 5ms/step - loss: 0.5135 - accuracy: 0.9275\n",
      "Epoch 7/10\n",
      "382/382 [==============================] - 2s 5ms/step - loss: 0.4893 - accuracy: 0.9322\n",
      "Epoch 8/10\n",
      "382/382 [==============================] - 2s 5ms/step - loss: 0.4665 - accuracy: 0.9379\n",
      "Epoch 9/10\n",
      "382/382 [==============================] - 2s 4ms/step - loss: 0.4454 - accuracy: 0.9387\n",
      "Epoch 10/10\n",
      "382/382 [==============================] - 2s 5ms/step - loss: 0.4255 - accuracy: 0.9413\n",
      "PCA 8,9\n",
      "Epoch 1/10\n",
      " 23/369 [>.............................] - ETA: 1s - loss: 0.8583 - accuracy: 0.4905"
     ]
    },
    {
     "name": "stderr",
     "output_type": "stream",
     "text": [
      "2022-02-15 17:45:49.418000: I tensorflow/core/grappler/optimizers/custom_graph_optimizer_registry.cc:112] Plugin optimizer for device_type GPU is enabled.\n"
     ]
    },
    {
     "name": "stdout",
     "output_type": "stream",
     "text": [
      "369/369 [==============================] - 2s 5ms/step - loss: 0.7823 - accuracy: 0.5036\n",
      "Epoch 2/10\n",
      "369/369 [==============================] - 2s 4ms/step - loss: 0.7213 - accuracy: 0.2775\n",
      "Epoch 3/10\n",
      "369/369 [==============================] - 2s 4ms/step - loss: 0.6952 - accuracy: 0.4865\n",
      "Epoch 4/10\n",
      "369/369 [==============================] - 2s 4ms/step - loss: 0.6701 - accuracy: 0.5868\n",
      "Epoch 5/10\n",
      "369/369 [==============================] - 2s 4ms/step - loss: 0.6449 - accuracy: 0.7156\n",
      "Epoch 6/10\n",
      "369/369 [==============================] - 2s 5ms/step - loss: 0.6199 - accuracy: 0.8217\n",
      "Epoch 7/10\n",
      "369/369 [==============================] - 2s 5ms/step - loss: 0.5958 - accuracy: 0.8499\n",
      "Epoch 8/10\n",
      "369/369 [==============================] - 2s 5ms/step - loss: 0.5727 - accuracy: 0.8739\n",
      "Epoch 9/10\n",
      "369/369 [==============================] - 2s 5ms/step - loss: 0.5506 - accuracy: 0.8856\n",
      "Epoch 10/10\n",
      "369/369 [==============================] - 2s 4ms/step - loss: 0.5298 - accuracy: 0.8966\n",
      "PCA 4,5\n",
      "Epoch 1/10\n",
      " 23/352 [>.............................] - ETA: 1s - loss: 0.6485 - accuracy: 0.5448"
     ]
    },
    {
     "name": "stderr",
     "output_type": "stream",
     "text": [
      "2022-02-15 17:46:06.187322: I tensorflow/core/grappler/optimizers/custom_graph_optimizer_registry.cc:112] Plugin optimizer for device_type GPU is enabled.\n"
     ]
    },
    {
     "name": "stdout",
     "output_type": "stream",
     "text": [
      "352/352 [==============================] - 2s 5ms/step - loss: 0.6289 - accuracy: 0.6489\n",
      "Epoch 2/10\n",
      "352/352 [==============================] - 2s 5ms/step - loss: 0.5925 - accuracy: 0.8023\n",
      "Epoch 3/10\n",
      "352/352 [==============================] - 2s 5ms/step - loss: 0.5658 - accuracy: 0.8528\n",
      "Epoch 4/10\n",
      "352/352 [==============================] - 2s 4ms/step - loss: 0.5422 - accuracy: 0.8773\n",
      "Epoch 5/10\n",
      "352/352 [==============================] - 2s 4ms/step - loss: 0.5207 - accuracy: 0.8947\n",
      "Epoch 6/10\n",
      "352/352 [==============================] - 2s 5ms/step - loss: 0.5009 - accuracy: 0.9035\n",
      "Epoch 7/10\n",
      "352/352 [==============================] - 2s 4ms/step - loss: 0.4825 - accuracy: 0.9109\n",
      "Epoch 8/10\n",
      "352/352 [==============================] - 1s 4ms/step - loss: 0.4655 - accuracy: 0.9154\n",
      "Epoch 9/10\n",
      "352/352 [==============================] - 2s 4ms/step - loss: 0.4496 - accuracy: 0.9179\n",
      "Epoch 10/10\n",
      "352/352 [==============================] - 2s 4ms/step - loss: 0.4346 - accuracy: 0.9200\n",
      "PCA 6,8\n",
      "Epoch 1/10\n",
      " 22/368 [>.............................] - ETA: 1s - loss: 0.6490 - accuracy: 0.6648"
     ]
    },
    {
     "name": "stderr",
     "output_type": "stream",
     "text": [
      "2022-02-15 17:46:22.090643: I tensorflow/core/grappler/optimizers/custom_graph_optimizer_registry.cc:112] Plugin optimizer for device_type GPU is enabled.\n"
     ]
    },
    {
     "name": "stdout",
     "output_type": "stream",
     "text": [
      "368/368 [==============================] - 2s 5ms/step - loss: 0.6315 - accuracy: 0.7312\n",
      "Epoch 2/10\n",
      "368/368 [==============================] - 2s 4ms/step - loss: 0.5986 - accuracy: 0.8115\n",
      "Epoch 3/10\n",
      "368/368 [==============================] - 2s 5ms/step - loss: 0.5684 - accuracy: 0.8642\n",
      "Epoch 4/10\n",
      "368/368 [==============================] - 2s 5ms/step - loss: 0.5407 - accuracy: 0.9040\n",
      "Epoch 5/10\n",
      "368/368 [==============================] - 2s 4ms/step - loss: 0.5149 - accuracy: 0.9218\n",
      "Epoch 6/10\n",
      "368/368 [==============================] - 2s 4ms/step - loss: 0.4908 - accuracy: 0.9357\n",
      "Epoch 7/10\n",
      "368/368 [==============================] - 2s 5ms/step - loss: 0.4683 - accuracy: 0.9447\n",
      "Epoch 8/10\n",
      "368/368 [==============================] - 2s 5ms/step - loss: 0.4473 - accuracy: 0.9492\n",
      "Epoch 9/10\n",
      "368/368 [==============================] - 2s 5ms/step - loss: 0.4277 - accuracy: 0.9521\n",
      "Epoch 10/10\n",
      "368/368 [==============================] - 2s 4ms/step - loss: 0.4092 - accuracy: 0.9557\n",
      "PCA 2,6\n",
      "Epoch 1/10\n",
      " 22/372 [>.............................] - ETA: 1s - loss: 0.7562 - accuracy: 0.2003"
     ]
    },
    {
     "name": "stderr",
     "output_type": "stream",
     "text": [
      "2022-02-15 17:46:39.017756: I tensorflow/core/grappler/optimizers/custom_graph_optimizer_registry.cc:112] Plugin optimizer for device_type GPU is enabled.\n"
     ]
    },
    {
     "name": "stdout",
     "output_type": "stream",
     "text": [
      "372/372 [==============================] - 2s 5ms/step - loss: 0.7366 - accuracy: 0.2449\n",
      "Epoch 2/10\n",
      "372/372 [==============================] - 2s 5ms/step - loss: 0.7068 - accuracy: 0.4953\n",
      "Epoch 3/10\n",
      "372/372 [==============================] - 2s 5ms/step - loss: 0.6790 - accuracy: 0.6582\n",
      "Epoch 4/10\n",
      "372/372 [==============================] - 2s 4ms/step - loss: 0.6524 - accuracy: 0.7439\n",
      "Epoch 5/10\n",
      "372/372 [==============================] - 2s 5ms/step - loss: 0.6271 - accuracy: 0.7996\n",
      "Epoch 6/10\n",
      "372/372 [==============================] - 2s 5ms/step - loss: 0.6033 - accuracy: 0.8350\n",
      "Epoch 7/10\n",
      "372/372 [==============================] - 2s 5ms/step - loss: 0.5807 - accuracy: 0.8591\n",
      "Epoch 8/10\n",
      "372/372 [==============================] - 2s 4ms/step - loss: 0.5594 - accuracy: 0.8734\n",
      "Epoch 9/10\n",
      "372/372 [==============================] - 2s 4ms/step - loss: 0.5392 - accuracy: 0.8847\n",
      "Epoch 10/10\n",
      "372/372 [==============================] - 2s 4ms/step - loss: 0.5202 - accuracy: 0.8907\n",
      "PCA 0,2\n",
      "Epoch 1/10\n",
      " 22/372 [>.............................] - ETA: 1s - loss: 0.6835 - accuracy: 0.5270"
     ]
    },
    {
     "name": "stderr",
     "output_type": "stream",
     "text": [
      "2022-02-15 17:46:55.804379: I tensorflow/core/grappler/optimizers/custom_graph_optimizer_registry.cc:112] Plugin optimizer for device_type GPU is enabled.\n"
     ]
    },
    {
     "name": "stdout",
     "output_type": "stream",
     "text": [
      "372/372 [==============================] - 2s 4ms/step - loss: 0.6589 - accuracy: 0.6141\n",
      "Epoch 2/10\n",
      "372/372 [==============================] - 2s 4ms/step - loss: 0.6189 - accuracy: 0.7461\n",
      "Epoch 3/10\n",
      "372/372 [==============================] - 2s 5ms/step - loss: 0.5832 - accuracy: 0.8378\n",
      "Epoch 4/10\n",
      "372/372 [==============================] - 2s 4ms/step - loss: 0.5505 - accuracy: 0.8990\n",
      "Epoch 5/10\n",
      "372/372 [==============================] - 2s 4ms/step - loss: 0.5205 - accuracy: 0.9304\n",
      "Epoch 6/10\n",
      "372/372 [==============================] - 2s 4ms/step - loss: 0.4930 - accuracy: 0.9455\n",
      "Epoch 7/10\n",
      "372/372 [==============================] - 2s 4ms/step - loss: 0.4676 - accuracy: 0.9533\n",
      "Epoch 8/10\n",
      "372/372 [==============================] - 2s 4ms/step - loss: 0.4442 - accuracy: 0.9583\n",
      "Epoch 9/10\n",
      "372/372 [==============================] - 2s 4ms/step - loss: 0.4225 - accuracy: 0.9608\n",
      "Epoch 10/10\n",
      "372/372 [==============================] - 2s 5ms/step - loss: 0.4023 - accuracy: 0.9624\n",
      "PCA 2,8\n",
      "Epoch 1/10\n",
      " 23/370 [>.............................] - ETA: 1s - loss: 0.9533 - accuracy: 0.4823"
     ]
    },
    {
     "name": "stderr",
     "output_type": "stream",
     "text": [
      "2022-02-15 17:47:12.537586: I tensorflow/core/grappler/optimizers/custom_graph_optimizer_registry.cc:112] Plugin optimizer for device_type GPU is enabled.\n"
     ]
    },
    {
     "name": "stdout",
     "output_type": "stream",
     "text": [
      "370/370 [==============================] - 2s 5ms/step - loss: 0.8435 - accuracy: 0.4955\n",
      "Epoch 2/10\n",
      "370/370 [==============================] - 2s 4ms/step - loss: 0.7439 - accuracy: 0.4292\n",
      "Epoch 3/10\n",
      "370/370 [==============================] - 2s 4ms/step - loss: 0.7146 - accuracy: 0.3786\n",
      "Epoch 4/10\n",
      "370/370 [==============================] - 2s 4ms/step - loss: 0.6921 - accuracy: 0.4944\n",
      "Epoch 5/10\n",
      "370/370 [==============================] - 2s 4ms/step - loss: 0.6692 - accuracy: 0.6395\n",
      "Epoch 6/10\n",
      "370/370 [==============================] - 2s 4ms/step - loss: 0.6463 - accuracy: 0.7444\n",
      "Epoch 7/10\n",
      "370/370 [==============================] - 2s 5ms/step - loss: 0.6237 - accuracy: 0.8054\n",
      "Epoch 8/10\n",
      "370/370 [==============================] - 2s 4ms/step - loss: 0.6016 - accuracy: 0.8383\n",
      "Epoch 9/10\n",
      "370/370 [==============================] - 2s 4ms/step - loss: 0.5804 - accuracy: 0.8641\n",
      "Epoch 10/10\n",
      "370/370 [==============================] - 2s 4ms/step - loss: 0.5600 - accuracy: 0.8782\n",
      "PCA 0,5\n",
      "Epoch 1/10\n",
      " 23/355 [>.............................] - ETA: 1s - loss: 0.6666 - accuracy: 0.5965"
     ]
    },
    {
     "name": "stderr",
     "output_type": "stream",
     "text": [
      "2022-02-15 17:47:29.149057: I tensorflow/core/grappler/optimizers/custom_graph_optimizer_registry.cc:112] Plugin optimizer for device_type GPU is enabled.\n"
     ]
    },
    {
     "name": "stdout",
     "output_type": "stream",
     "text": [
      "355/355 [==============================] - 2s 5ms/step - loss: 0.6406 - accuracy: 0.6797\n",
      "Epoch 2/10\n",
      "355/355 [==============================] - 2s 5ms/step - loss: 0.6154 - accuracy: 0.7056\n",
      "Epoch 3/10\n",
      "355/355 [==============================] - 2s 4ms/step - loss: 0.5961 - accuracy: 0.7236\n",
      "Epoch 4/10\n",
      "355/355 [==============================] - 2s 5ms/step - loss: 0.5774 - accuracy: 0.7603\n",
      "Epoch 5/10\n",
      "355/355 [==============================] - 2s 5ms/step - loss: 0.5595 - accuracy: 0.7874\n",
      "Epoch 6/10\n",
      "355/355 [==============================] - 2s 5ms/step - loss: 0.5424 - accuracy: 0.8087\n",
      "Epoch 7/10\n",
      "355/355 [==============================] - 2s 4ms/step - loss: 0.5264 - accuracy: 0.8216\n",
      "Epoch 8/10\n",
      "355/355 [==============================] - 2s 4ms/step - loss: 0.5111 - accuracy: 0.8337\n",
      "Epoch 9/10\n",
      "355/355 [==============================] - 2s 4ms/step - loss: 0.4967 - accuracy: 0.8473\n",
      "Epoch 10/10\n",
      "355/355 [==============================] - 2s 5ms/step - loss: 0.4831 - accuracy: 0.8535\n",
      "PCA 6,7\n",
      "Epoch 1/10\n",
      " 22/381 [>.............................] - ETA: 1s - loss: 0.6489 - accuracy: 0.5582"
     ]
    },
    {
     "name": "stderr",
     "output_type": "stream",
     "text": [
      "2022-02-15 17:47:45.583314: I tensorflow/core/grappler/optimizers/custom_graph_optimizer_registry.cc:112] Plugin optimizer for device_type GPU is enabled.\n"
     ]
    },
    {
     "name": "stdout",
     "output_type": "stream",
     "text": [
      "381/381 [==============================] - 2s 5ms/step - loss: 0.5939 - accuracy: 0.6868\n",
      "Epoch 2/10\n",
      "381/381 [==============================] - 2s 5ms/step - loss: 0.5308 - accuracy: 0.8514\n",
      "Epoch 3/10\n",
      "381/381 [==============================] - 2s 4ms/step - loss: 0.4914 - accuracy: 0.9091\n",
      "Epoch 4/10\n",
      "381/381 [==============================] - 2s 4ms/step - loss: 0.4593 - accuracy: 0.9342\n",
      "Epoch 5/10\n",
      "381/381 [==============================] - 2s 4ms/step - loss: 0.4311 - accuracy: 0.9489\n",
      "Epoch 6/10\n",
      "381/381 [==============================] - 2s 4ms/step - loss: 0.4058 - accuracy: 0.9574\n",
      "Epoch 7/10\n",
      "381/381 [==============================] - 2s 4ms/step - loss: 0.3829 - accuracy: 0.9643\n",
      "Epoch 8/10\n",
      "381/381 [==============================] - 2s 4ms/step - loss: 0.3620 - accuracy: 0.9679\n",
      "Epoch 9/10\n",
      "381/381 [==============================] - 2s 5ms/step - loss: 0.3427 - accuracy: 0.9710\n",
      "Epoch 10/10\n",
      "381/381 [==============================] - 2s 4ms/step - loss: 0.3249 - accuracy: 0.9732\n",
      "PCA 6,9\n",
      "Epoch 1/10\n",
      " 22/371 [>.............................] - ETA: 1s - loss: 0.7195 - accuracy: 0.3736"
     ]
    },
    {
     "name": "stderr",
     "output_type": "stream",
     "text": [
      "2022-02-15 17:48:02.610369: I tensorflow/core/grappler/optimizers/custom_graph_optimizer_registry.cc:112] Plugin optimizer for device_type GPU is enabled.\n"
     ]
    },
    {
     "name": "stdout",
     "output_type": "stream",
     "text": [
      "371/371 [==============================] - 2s 5ms/step - loss: 0.7015 - accuracy: 0.4627\n",
      "Epoch 2/10\n",
      "371/371 [==============================] - 2s 4ms/step - loss: 0.6612 - accuracy: 0.6187\n",
      "Epoch 3/10\n",
      "371/371 [==============================] - 2s 4ms/step - loss: 0.6234 - accuracy: 0.7472\n",
      "Epoch 4/10\n",
      "371/371 [==============================] - 2s 5ms/step - loss: 0.5876 - accuracy: 0.8309\n",
      "Epoch 5/10\n",
      "371/371 [==============================] - 2s 4ms/step - loss: 0.5541 - accuracy: 0.8790\n",
      "Epoch 6/10\n",
      "371/371 [==============================] - 2s 5ms/step - loss: 0.5227 - accuracy: 0.9143\n",
      "Epoch 7/10\n",
      "371/371 [==============================] - 2s 5ms/step - loss: 0.4934 - accuracy: 0.9392\n",
      "Epoch 8/10\n",
      "371/371 [==============================] - 2s 5ms/step - loss: 0.4662 - accuracy: 0.9510\n",
      "Epoch 9/10\n",
      "371/371 [==============================] - 2s 5ms/step - loss: 0.4407 - accuracy: 0.9639\n",
      "Epoch 10/10\n",
      "371/371 [==============================] - 2s 4ms/step - loss: 0.4168 - accuracy: 0.9707\n",
      "PCA 5,8\n",
      "Epoch 1/10\n",
      " 22/353 [>.............................] - ETA: 1s - loss: 0.7964 - accuracy: 0.1676"
     ]
    },
    {
     "name": "stderr",
     "output_type": "stream",
     "text": [
      "2022-02-15 17:48:19.845538: I tensorflow/core/grappler/optimizers/custom_graph_optimizer_registry.cc:112] Plugin optimizer for device_type GPU is enabled.\n"
     ]
    },
    {
     "name": "stdout",
     "output_type": "stream",
     "text": [
      "353/353 [==============================] - 2s 5ms/step - loss: 0.7743 - accuracy: 0.1708\n",
      "Epoch 2/10\n",
      "353/353 [==============================] - 2s 5ms/step - loss: 0.7418 - accuracy: 0.2125\n",
      "Epoch 3/10\n",
      "353/353 [==============================] - 2s 4ms/step - loss: 0.7110 - accuracy: 0.3681\n",
      "Epoch 4/10\n",
      "353/353 [==============================] - 2s 5ms/step - loss: 0.6821 - accuracy: 0.6225\n",
      "Epoch 5/10\n",
      "353/353 [==============================] - 2s 5ms/step - loss: 0.6548 - accuracy: 0.7873\n",
      "Epoch 6/10\n",
      "353/353 [==============================] - 2s 4ms/step - loss: 0.6289 - accuracy: 0.8599\n",
      "Epoch 7/10\n",
      "353/353 [==============================] - 2s 5ms/step - loss: 0.6046 - accuracy: 0.8956\n",
      "Epoch 8/10\n",
      "353/353 [==============================] - 2s 4ms/step - loss: 0.5820 - accuracy: 0.9047\n",
      "Epoch 9/10\n",
      "353/353 [==============================] - 2s 4ms/step - loss: 0.5606 - accuracy: 0.9118\n",
      "Epoch 10/10\n",
      "353/353 [==============================] - 2s 5ms/step - loss: 0.5407 - accuracy: 0.9156\n",
      "PCA 5,6\n",
      "Epoch 1/10\n",
      " 21/355 [>.............................] - ETA: 1s - loss: 0.7382 - accuracy: 0.5045"
     ]
    },
    {
     "name": "stderr",
     "output_type": "stream",
     "text": [
      "2022-02-15 17:48:36.082465: I tensorflow/core/grappler/optimizers/custom_graph_optimizer_registry.cc:112] Plugin optimizer for device_type GPU is enabled.\n"
     ]
    },
    {
     "name": "stdout",
     "output_type": "stream",
     "text": [
      "355/355 [==============================] - 2s 5ms/step - loss: 0.7125 - accuracy: 0.5482\n",
      "Epoch 2/10\n",
      "355/355 [==============================] - 2s 5ms/step - loss: 0.6776 - accuracy: 0.6260\n",
      "Epoch 3/10\n",
      "355/355 [==============================] - 2s 4ms/step - loss: 0.6464 - accuracy: 0.6987\n",
      "Epoch 4/10\n",
      "355/355 [==============================] - 2s 4ms/step - loss: 0.6176 - accuracy: 0.7529\n",
      "Epoch 5/10\n",
      "355/355 [==============================] - 2s 4ms/step - loss: 0.5908 - accuracy: 0.7935\n",
      "Epoch 6/10\n",
      "355/355 [==============================] - 2s 5ms/step - loss: 0.5657 - accuracy: 0.8227\n",
      "Epoch 7/10\n",
      "355/355 [==============================] - 2s 5ms/step - loss: 0.5423 - accuracy: 0.8420\n",
      "Epoch 8/10\n",
      "355/355 [==============================] - 2s 4ms/step - loss: 0.5204 - accuracy: 0.8594\n",
      "Epoch 9/10\n",
      "355/355 [==============================] - 2s 5ms/step - loss: 0.5000 - accuracy: 0.8725\n",
      "Epoch 10/10\n",
      "355/355 [==============================] - 2s 4ms/step - loss: 0.4808 - accuracy: 0.8852\n",
      "PCA 3,4\n",
      "Epoch 1/10\n",
      " 22/375 [>.............................] - ETA: 1s - loss: 0.7187 - accuracy: 0.5156"
     ]
    },
    {
     "name": "stderr",
     "output_type": "stream",
     "text": [
      "2022-02-15 17:48:52.373211: I tensorflow/core/grappler/optimizers/custom_graph_optimizer_registry.cc:112] Plugin optimizer for device_type GPU is enabled.\n"
     ]
    },
    {
     "name": "stdout",
     "output_type": "stream",
     "text": [
      "375/375 [==============================] - 2s 5ms/step - loss: 0.6614 - accuracy: 0.5124\n",
      "Epoch 2/10\n",
      "375/375 [==============================] - 2s 4ms/step - loss: 0.5934 - accuracy: 0.7113\n",
      "Epoch 3/10\n",
      "375/375 [==============================] - 2s 5ms/step - loss: 0.5523 - accuracy: 0.8677\n",
      "Epoch 4/10\n",
      "375/375 [==============================] - 2s 4ms/step - loss: 0.5199 - accuracy: 0.9276\n",
      "Epoch 5/10\n",
      "375/375 [==============================] - 2s 4ms/step - loss: 0.4921 - accuracy: 0.9449\n",
      "Epoch 6/10\n",
      "375/375 [==============================] - 2s 5ms/step - loss: 0.4672 - accuracy: 0.9531\n",
      "Epoch 7/10\n",
      "375/375 [==============================] - 2s 4ms/step - loss: 0.4446 - accuracy: 0.9572\n",
      "Epoch 8/10\n",
      "375/375 [==============================] - 2s 4ms/step - loss: 0.4237 - accuracy: 0.9584\n",
      "Epoch 9/10\n",
      "375/375 [==============================] - 2s 4ms/step - loss: 0.4045 - accuracy: 0.9612\n",
      "Epoch 10/10\n",
      "375/375 [==============================] - 2s 5ms/step - loss: 0.3867 - accuracy: 0.9617\n",
      "PCA 1,9\n",
      "Epoch 1/10\n",
      " 22/397 [>.............................] - ETA: 1s - loss: 0.7427 - accuracy: 0.2344"
     ]
    },
    {
     "name": "stderr",
     "output_type": "stream",
     "text": [
      "2022-02-15 17:49:09.321577: I tensorflow/core/grappler/optimizers/custom_graph_optimizer_registry.cc:112] Plugin optimizer for device_type GPU is enabled.\n"
     ]
    },
    {
     "name": "stdout",
     "output_type": "stream",
     "text": [
      "397/397 [==============================] - 2s 5ms/step - loss: 0.7191 - accuracy: 0.2302\n",
      "Epoch 2/10\n",
      "397/397 [==============================] - 2s 4ms/step - loss: 0.6770 - accuracy: 0.7085\n",
      "Epoch 3/10\n",
      "397/397 [==============================] - 2s 5ms/step - loss: 0.6377 - accuracy: 0.9497\n",
      "Epoch 4/10\n",
      "397/397 [==============================] - 2s 5ms/step - loss: 0.6011 - accuracy: 0.9656\n",
      "Epoch 5/10\n",
      "397/397 [==============================] - 2s 4ms/step - loss: 0.5670 - accuracy: 0.9656\n",
      "Epoch 6/10\n",
      "397/397 [==============================] - 2s 5ms/step - loss: 0.5353 - accuracy: 0.9679\n",
      "Epoch 7/10\n",
      "397/397 [==============================] - 2s 5ms/step - loss: 0.5058 - accuracy: 0.9682\n",
      "Epoch 8/10\n",
      "397/397 [==============================] - 2s 4ms/step - loss: 0.4782 - accuracy: 0.9683\n",
      "Epoch 9/10\n",
      "397/397 [==============================] - 2s 4ms/step - loss: 0.4526 - accuracy: 0.9693\n",
      "Epoch 10/10\n",
      "397/397 [==============================] - 2s 5ms/step - loss: 0.4286 - accuracy: 0.9704\n",
      "PCA 1,7\n",
      "Epoch 1/10\n",
      " 22/407 [>.............................] - ETA: 1s - loss: 0.9479 - accuracy: 0.5142"
     ]
    },
    {
     "name": "stderr",
     "output_type": "stream",
     "text": [
      "2022-02-15 17:49:27.724977: I tensorflow/core/grappler/optimizers/custom_graph_optimizer_registry.cc:112] Plugin optimizer for device_type GPU is enabled.\n"
     ]
    },
    {
     "name": "stdout",
     "output_type": "stream",
     "text": [
      "407/407 [==============================] - 2s 5ms/step - loss: 0.8600 - accuracy: 0.4810\n",
      "Epoch 2/10\n",
      "407/407 [==============================] - 2s 5ms/step - loss: 0.7769 - accuracy: 0.3886\n",
      "Epoch 3/10\n",
      "407/407 [==============================] - 2s 5ms/step - loss: 0.7332 - accuracy: 0.4322\n",
      "Epoch 4/10\n",
      "407/407 [==============================] - 2s 4ms/step - loss: 0.6910 - accuracy: 0.5419\n",
      "Epoch 5/10\n",
      "407/407 [==============================] - 2s 4ms/step - loss: 0.6502 - accuracy: 0.6643\n",
      "Epoch 6/10\n",
      "407/407 [==============================] - 2s 5ms/step - loss: 0.6115 - accuracy: 0.8037\n",
      "Epoch 7/10\n",
      "407/407 [==============================] - 2s 4ms/step - loss: 0.5752 - accuracy: 0.9002\n",
      "Epoch 8/10\n",
      "407/407 [==============================] - 2s 4ms/step - loss: 0.5410 - accuracy: 0.9402\n",
      "Epoch 9/10\n",
      "407/407 [==============================] - 2s 4ms/step - loss: 0.5092 - accuracy: 0.9542\n",
      "Epoch 10/10\n",
      "407/407 [==============================] - 2s 4ms/step - loss: 0.4796 - accuracy: 0.9622\n",
      "PCA 5,7\n",
      "Epoch 1/10\n",
      " 19/366 [>.............................] - ETA: 2s - loss: 0.8684 - accuracy: 0.5395"
     ]
    },
    {
     "name": "stderr",
     "output_type": "stream",
     "text": [
      "2022-02-15 17:49:46.035983: I tensorflow/core/grappler/optimizers/custom_graph_optimizer_registry.cc:112] Plugin optimizer for device_type GPU is enabled.\n"
     ]
    },
    {
     "name": "stdout",
     "output_type": "stream",
     "text": [
      "366/366 [==============================] - 2s 5ms/step - loss: 0.7939 - accuracy: 0.5361\n",
      "Epoch 2/10\n",
      "366/366 [==============================] - 2s 5ms/step - loss: 0.7231 - accuracy: 0.5318\n",
      "Epoch 3/10\n",
      "366/366 [==============================] - 2s 5ms/step - loss: 0.6923 - accuracy: 0.5201\n",
      "Epoch 4/10\n",
      "366/366 [==============================] - 2s 5ms/step - loss: 0.6638 - accuracy: 0.6074\n",
      "Epoch 5/10\n",
      "366/366 [==============================] - 2s 4ms/step - loss: 0.6357 - accuracy: 0.7236\n",
      "Epoch 6/10\n",
      "366/366 [==============================] - 2s 5ms/step - loss: 0.6083 - accuracy: 0.8086\n",
      "Epoch 7/10\n",
      "366/366 [==============================] - 2s 5ms/step - loss: 0.5818 - accuracy: 0.8692\n",
      "Epoch 8/10\n",
      "366/366 [==============================] - 2s 5ms/step - loss: 0.5563 - accuracy: 0.9043\n",
      "Epoch 9/10\n",
      "366/366 [==============================] - 2s 4ms/step - loss: 0.5321 - accuracy: 0.9205\n",
      "Epoch 10/10\n",
      "366/366 [==============================] - 2s 5ms/step - loss: 0.5091 - accuracy: 0.9313\n",
      "PCA 5,9\n",
      "Epoch 1/10\n",
      " 20/356 [>.............................] - ETA: 1s - loss: 0.7441 - accuracy: 0.4781"
     ]
    },
    {
     "name": "stderr",
     "output_type": "stream",
     "text": [
      "2022-02-15 17:50:03.090112: I tensorflow/core/grappler/optimizers/custom_graph_optimizer_registry.cc:112] Plugin optimizer for device_type GPU is enabled.\n"
     ]
    },
    {
     "name": "stdout",
     "output_type": "stream",
     "text": [
      "356/356 [==============================] - 2s 5ms/step - loss: 0.7061 - accuracy: 0.5289\n",
      "Epoch 2/10\n",
      "356/356 [==============================] - 2s 4ms/step - loss: 0.6692 - accuracy: 0.6726\n",
      "Epoch 3/10\n",
      "356/356 [==============================] - 2s 4ms/step - loss: 0.6440 - accuracy: 0.7501\n",
      "Epoch 4/10\n",
      "356/356 [==============================] - 1s 4ms/step - loss: 0.6199 - accuracy: 0.7842\n",
      "Epoch 5/10\n",
      "356/356 [==============================] - 1s 4ms/step - loss: 0.5971 - accuracy: 0.8229\n",
      "Epoch 6/10\n",
      "356/356 [==============================] - 2s 4ms/step - loss: 0.5753 - accuracy: 0.8474\n",
      "Epoch 7/10\n",
      "356/356 [==============================] - 2s 5ms/step - loss: 0.5548 - accuracy: 0.8555\n",
      "Epoch 8/10\n",
      "356/356 [==============================] - 2s 5ms/step - loss: 0.5355 - accuracy: 0.8671\n",
      "Epoch 9/10\n",
      "356/356 [==============================] - 2s 4ms/step - loss: 0.5172 - accuracy: 0.8807\n",
      "Epoch 10/10\n",
      "356/356 [==============================] - 2s 5ms/step - loss: 0.5000 - accuracy: 0.8825\n",
      "PCA 1,6\n",
      "Epoch 1/10\n",
      " 18/396 [>.............................] - ETA: 2s - loss: 0.8442 - accuracy: 0.1753"
     ]
    },
    {
     "name": "stderr",
     "output_type": "stream",
     "text": [
      "2022-02-15 17:50:19.326823: I tensorflow/core/grappler/optimizers/custom_graph_optimizer_registry.cc:112] Plugin optimizer for device_type GPU is enabled.\n"
     ]
    },
    {
     "name": "stdout",
     "output_type": "stream",
     "text": [
      "396/396 [==============================] - 2s 5ms/step - loss: 0.7971 - accuracy: 0.1022\n",
      "Epoch 2/10\n",
      "396/396 [==============================] - 2s 4ms/step - loss: 0.7404 - accuracy: 0.1985\n",
      "Epoch 3/10\n",
      "396/396 [==============================] - 2s 4ms/step - loss: 0.6932 - accuracy: 0.4878\n",
      "Epoch 4/10\n",
      "396/396 [==============================] - 2s 4ms/step - loss: 0.6502 - accuracy: 0.7344\n",
      "Epoch 5/10\n",
      "396/396 [==============================] - 2s 5ms/step - loss: 0.6106 - accuracy: 0.9080\n",
      "Epoch 6/10\n",
      "396/396 [==============================] - 2s 4ms/step - loss: 0.5739 - accuracy: 0.9439\n",
      "Epoch 7/10\n",
      "396/396 [==============================] - 2s 4ms/step - loss: 0.5399 - accuracy: 0.9533\n",
      "Epoch 8/10\n",
      "396/396 [==============================] - 2s 4ms/step - loss: 0.5083 - accuracy: 0.9632\n",
      "Epoch 9/10\n",
      "396/396 [==============================] - 2s 5ms/step - loss: 0.4790 - accuracy: 0.9648\n",
      "Epoch 10/10\n",
      "396/396 [==============================] - 2s 4ms/step - loss: 0.4518 - accuracy: 0.9679\n",
      "PCA 3,5\n",
      "Epoch 1/10\n",
      " 28/361 [=>............................] - ETA: 1s - loss: 0.7476 - accuracy: 0.4554"
     ]
    },
    {
     "name": "stderr",
     "output_type": "stream",
     "text": [
      "2022-02-15 17:50:36.849049: I tensorflow/core/grappler/optimizers/custom_graph_optimizer_registry.cc:112] Plugin optimizer for device_type GPU is enabled.\n"
     ]
    },
    {
     "name": "stdout",
     "output_type": "stream",
     "text": [
      "361/361 [==============================] - 1s 4ms/step - loss: 0.7125 - accuracy: 0.4455\n",
      "Epoch 2/10\n",
      "361/361 [==============================] - 1s 3ms/step - loss: 0.6743 - accuracy: 0.5802\n",
      "Epoch 3/10\n",
      "361/361 [==============================] - 1s 4ms/step - loss: 0.6494 - accuracy: 0.6824\n",
      "Epoch 4/10\n",
      "361/361 [==============================] - 1s 4ms/step - loss: 0.6263 - accuracy: 0.7461\n",
      "Epoch 5/10\n",
      "361/361 [==============================] - 1s 3ms/step - loss: 0.6050 - accuracy: 0.7883\n",
      "Epoch 6/10\n",
      "361/361 [==============================] - 1s 3ms/step - loss: 0.5852 - accuracy: 0.8161\n",
      "Epoch 7/10\n",
      "361/361 [==============================] - 1s 3ms/step - loss: 0.5668 - accuracy: 0.8334\n",
      "Epoch 8/10\n",
      "361/361 [==============================] - 1s 3ms/step - loss: 0.5497 - accuracy: 0.8493\n",
      "Epoch 9/10\n",
      "361/361 [==============================] - 1s 4ms/step - loss: 0.5339 - accuracy: 0.8588\n",
      "Epoch 10/10\n",
      "361/361 [==============================] - 1s 3ms/step - loss: 0.5192 - accuracy: 0.8629\n",
      "PCA 1,8\n",
      "Epoch 1/10\n",
      " 21/394 [>.............................] - ETA: 1s - loss: 0.7326 - accuracy: 0.4821"
     ]
    },
    {
     "name": "stderr",
     "output_type": "stream",
     "text": [
      "2022-02-15 17:50:49.515752: I tensorflow/core/grappler/optimizers/custom_graph_optimizer_registry.cc:112] Plugin optimizer for device_type GPU is enabled.\n"
     ]
    },
    {
     "name": "stdout",
     "output_type": "stream",
     "text": [
      "394/394 [==============================] - 2s 4ms/step - loss: 0.6816 - accuracy: 0.5241\n",
      "Epoch 2/10\n",
      "394/394 [==============================] - 2s 5ms/step - loss: 0.6126 - accuracy: 0.8437\n",
      "Epoch 3/10\n",
      "394/394 [==============================] - 2s 4ms/step - loss: 0.5747 - accuracy: 0.9034\n",
      "Epoch 4/10\n",
      "394/394 [==============================] - 2s 4ms/step - loss: 0.5437 - accuracy: 0.9140\n",
      "Epoch 5/10\n",
      "394/394 [==============================] - 2s 4ms/step - loss: 0.5163 - accuracy: 0.9248\n",
      "Epoch 6/10\n",
      "394/394 [==============================] - 2s 4ms/step - loss: 0.4915 - accuracy: 0.9288\n",
      "Epoch 7/10\n",
      "394/394 [==============================] - 2s 4ms/step - loss: 0.4688 - accuracy: 0.9315\n",
      "Epoch 8/10\n",
      "394/394 [==============================] - 2s 4ms/step - loss: 0.4479 - accuracy: 0.9336\n",
      "Epoch 9/10\n",
      "394/394 [==============================] - 2s 5ms/step - loss: 0.4286 - accuracy: 0.9350\n",
      "Epoch 10/10\n",
      "394/394 [==============================] - 2s 5ms/step - loss: 0.4106 - accuracy: 0.9360\n",
      "Autoencoder_small 4,6\n",
      "Epoch 1/10\n",
      " 20/368 [>.............................] - ETA: 1s - loss: 0.7394 - accuracy: 0.5109"
     ]
    },
    {
     "name": "stderr",
     "output_type": "stream",
     "text": [
      "2022-02-15 17:51:07.411155: I tensorflow/core/grappler/optimizers/custom_graph_optimizer_registry.cc:112] Plugin optimizer for device_type GPU is enabled.\n"
     ]
    },
    {
     "name": "stdout",
     "output_type": "stream",
     "text": [
      "368/368 [==============================] - 2s 5ms/step - loss: 0.6721 - accuracy: 0.5988\n",
      "Epoch 2/10\n",
      "368/368 [==============================] - 2s 5ms/step - loss: 0.5939 - accuracy: 0.7593\n",
      "Epoch 3/10\n",
      "368/368 [==============================] - 2s 5ms/step - loss: 0.5308 - accuracy: 0.8464\n",
      "Epoch 4/10\n",
      "368/368 [==============================] - 2s 4ms/step - loss: 0.4774 - accuracy: 0.8910\n",
      "Epoch 5/10\n",
      "368/368 [==============================] - 2s 4ms/step - loss: 0.4319 - accuracy: 0.9178\n",
      "Epoch 6/10\n",
      "368/368 [==============================] - 2s 4ms/step - loss: 0.3929 - accuracy: 0.9355\n",
      "Epoch 7/10\n",
      "368/368 [==============================] - 2s 5ms/step - loss: 0.3592 - accuracy: 0.9492\n",
      "Epoch 8/10\n",
      "368/368 [==============================] - 2s 4ms/step - loss: 0.3299 - accuracy: 0.9577\n",
      "Epoch 9/10\n",
      "368/368 [==============================] - 2s 5ms/step - loss: 0.3043 - accuracy: 0.9616\n",
      "Epoch 10/10\n",
      "368/368 [==============================] - 2s 5ms/step - loss: 0.2819 - accuracy: 0.9648\n",
      "Autoencoder_small 4,8\n",
      "Epoch 1/10\n",
      " 20/366 [>.............................] - ETA: 1s - loss: 1.0869 - accuracy: 0.5172"
     ]
    },
    {
     "name": "stderr",
     "output_type": "stream",
     "text": [
      "2022-02-15 17:51:24.212432: I tensorflow/core/grappler/optimizers/custom_graph_optimizer_registry.cc:112] Plugin optimizer for device_type GPU is enabled.\n"
     ]
    },
    {
     "name": "stdout",
     "output_type": "stream",
     "text": [
      "366/366 [==============================] - 2s 5ms/step - loss: 0.9457 - accuracy: 0.4996\n",
      "Epoch 2/10\n",
      "366/366 [==============================] - 2s 4ms/step - loss: 0.7009 - accuracy: 0.4997\n",
      "Epoch 3/10\n",
      "366/366 [==============================] - 2s 5ms/step - loss: 0.5710 - accuracy: 0.6946\n",
      "Epoch 4/10\n",
      "366/366 [==============================] - 2s 4ms/step - loss: 0.4959 - accuracy: 0.9191\n",
      "Epoch 5/10\n",
      "366/366 [==============================] - 2s 5ms/step - loss: 0.4445 - accuracy: 0.9439\n",
      "Epoch 6/10\n",
      "366/366 [==============================] - 2s 5ms/step - loss: 0.4042 - accuracy: 0.9451\n",
      "Epoch 7/10\n",
      "366/366 [==============================] - 2s 5ms/step - loss: 0.3707 - accuracy: 0.9473\n",
      "Epoch 8/10\n",
      "366/366 [==============================] - 2s 5ms/step - loss: 0.3419 - accuracy: 0.9502\n",
      "Epoch 9/10\n",
      "366/366 [==============================] - 2s 5ms/step - loss: 0.3168 - accuracy: 0.9529\n",
      "Epoch 10/10\n",
      "366/366 [==============================] - 2s 5ms/step - loss: 0.2947 - accuracy: 0.9548\n",
      "Autoencoder_small 0,7\n",
      "Epoch 1/10\n",
      " 21/381 [>.............................] - ETA: 1s - loss: 0.8208 - accuracy: 0.3646"
     ]
    },
    {
     "name": "stderr",
     "output_type": "stream",
     "text": [
      "2022-02-15 17:51:41.084323: I tensorflow/core/grappler/optimizers/custom_graph_optimizer_registry.cc:112] Plugin optimizer for device_type GPU is enabled.\n"
     ]
    },
    {
     "name": "stdout",
     "output_type": "stream",
     "text": [
      "381/381 [==============================] - 2s 5ms/step - loss: 0.7538 - accuracy: 0.4539\n",
      "Epoch 2/10\n",
      "381/381 [==============================] - 2s 4ms/step - loss: 0.6492 - accuracy: 0.6476\n",
      "Epoch 3/10\n",
      "381/381 [==============================] - 2s 4ms/step - loss: 0.5643 - accuracy: 0.7717\n",
      "Epoch 4/10\n",
      "381/381 [==============================] - 2s 4ms/step - loss: 0.4943 - accuracy: 0.8482\n",
      "Epoch 5/10\n",
      "381/381 [==============================] - 2s 4ms/step - loss: 0.4361 - accuracy: 0.8991\n",
      "Epoch 6/10\n",
      "381/381 [==============================] - 2s 4ms/step - loss: 0.3875 - accuracy: 0.9299\n",
      "Epoch 7/10\n",
      "381/381 [==============================] - 2s 4ms/step - loss: 0.3465 - accuracy: 0.9491\n",
      "Epoch 8/10\n",
      "381/381 [==============================] - 2s 5ms/step - loss: 0.3116 - accuracy: 0.9611\n",
      "Epoch 9/10\n",
      "381/381 [==============================] - 2s 5ms/step - loss: 0.2816 - accuracy: 0.9707\n",
      "Epoch 10/10\n",
      "381/381 [==============================] - 2s 5ms/step - loss: 0.2557 - accuracy: 0.9774\n",
      "Autoencoder_small 2,3\n",
      "Epoch 1/10\n",
      " 21/378 [>.............................] - ETA: 1s - loss: 0.8338 - accuracy: 0.4881"
     ]
    },
    {
     "name": "stderr",
     "output_type": "stream",
     "text": [
      "2022-02-15 17:51:58.352539: I tensorflow/core/grappler/optimizers/custom_graph_optimizer_registry.cc:112] Plugin optimizer for device_type GPU is enabled.\n"
     ]
    },
    {
     "name": "stdout",
     "output_type": "stream",
     "text": [
      "378/378 [==============================] - 2s 5ms/step - loss: 0.7196 - accuracy: 0.5076\n",
      "Epoch 2/10\n",
      "378/378 [==============================] - 2s 4ms/step - loss: 0.5900 - accuracy: 0.7515\n",
      "Epoch 3/10\n",
      "378/378 [==============================] - 2s 5ms/step - loss: 0.5230 - accuracy: 0.8914\n",
      "Epoch 4/10\n",
      "378/378 [==============================] - 2s 5ms/step - loss: 0.4749 - accuracy: 0.9156\n",
      "Epoch 5/10\n",
      "378/378 [==============================] - 2s 4ms/step - loss: 0.4360 - accuracy: 0.9227\n",
      "Epoch 6/10\n",
      "378/378 [==============================] - 2s 4ms/step - loss: 0.4035 - accuracy: 0.9265\n",
      "Epoch 7/10\n",
      "378/378 [==============================] - 2s 4ms/step - loss: 0.3759 - accuracy: 0.9284\n",
      "Epoch 8/10\n",
      "378/378 [==============================] - 2s 4ms/step - loss: 0.3521 - accuracy: 0.9304\n",
      "Epoch 9/10\n",
      "378/378 [==============================] - 2s 5ms/step - loss: 0.3316 - accuracy: 0.9323\n",
      "Epoch 10/10\n",
      "378/378 [==============================] - 2s 5ms/step - loss: 0.3140 - accuracy: 0.9332\n",
      "Autoencoder_small 0,9\n",
      "Epoch 1/10\n",
      " 26/371 [=>............................] - ETA: 1s - loss: 0.7476 - accuracy: 0.4724"
     ]
    },
    {
     "name": "stderr",
     "output_type": "stream",
     "text": [
      "2022-02-15 17:52:15.632079: I tensorflow/core/grappler/optimizers/custom_graph_optimizer_registry.cc:112] Plugin optimizer for device_type GPU is enabled.\n"
     ]
    },
    {
     "name": "stdout",
     "output_type": "stream",
     "text": [
      "371/371 [==============================] - 1s 4ms/step - loss: 0.6980 - accuracy: 0.5693\n",
      "Epoch 2/10\n",
      "371/371 [==============================] - 1s 4ms/step - loss: 0.6110 - accuracy: 0.7549\n",
      "Epoch 3/10\n",
      "371/371 [==============================] - 1s 4ms/step - loss: 0.5398 - accuracy: 0.8549\n",
      "Epoch 4/10\n",
      "371/371 [==============================] - 1s 4ms/step - loss: 0.4813 - accuracy: 0.8950\n",
      "Epoch 5/10\n",
      "371/371 [==============================] - 1s 4ms/step - loss: 0.4325 - accuracy: 0.9161\n",
      "Epoch 6/10\n",
      "371/371 [==============================] - 1s 4ms/step - loss: 0.3917 - accuracy: 0.9292\n",
      "Epoch 7/10\n",
      "371/371 [==============================] - 1s 4ms/step - loss: 0.3574 - accuracy: 0.9375\n",
      "Epoch 8/10\n",
      "371/371 [==============================] - 1s 4ms/step - loss: 0.3281 - accuracy: 0.9444\n",
      "Epoch 9/10\n",
      "371/371 [==============================] - 1s 4ms/step - loss: 0.3031 - accuracy: 0.9494\n",
      "Epoch 10/10\n",
      "371/371 [==============================] - 1s 4ms/step - loss: 0.2813 - accuracy: 0.9534\n",
      "Autoencoder_small 2,4\n",
      "Epoch 1/10\n",
      " 21/369 [>.............................] - ETA: 1s - loss: 0.8406 - accuracy: 0.0491"
     ]
    },
    {
     "name": "stderr",
     "output_type": "stream",
     "text": [
      "2022-02-15 17:52:29.215416: I tensorflow/core/grappler/optimizers/custom_graph_optimizer_registry.cc:112] Plugin optimizer for device_type GPU is enabled.\n"
     ]
    },
    {
     "name": "stdout",
     "output_type": "stream",
     "text": [
      "369/369 [==============================] - 2s 5ms/step - loss: 0.8017 - accuracy: 0.0627\n",
      "Epoch 2/10\n",
      "369/369 [==============================] - 2s 4ms/step - loss: 0.7339 - accuracy: 0.3219\n",
      "Epoch 3/10\n",
      "369/369 [==============================] - 2s 4ms/step - loss: 0.6750 - accuracy: 0.5816\n",
      "Epoch 4/10\n",
      "369/369 [==============================] - 2s 5ms/step - loss: 0.6226 - accuracy: 0.8270\n",
      "Epoch 5/10\n",
      "369/369 [==============================] - 2s 5ms/step - loss: 0.5763 - accuracy: 0.8888\n",
      "Epoch 6/10\n",
      "369/369 [==============================] - 2s 5ms/step - loss: 0.5348 - accuracy: 0.9242\n",
      "Epoch 7/10\n",
      "369/369 [==============================] - 2s 5ms/step - loss: 0.4976 - accuracy: 0.9304\n",
      "Epoch 8/10\n",
      "369/369 [==============================] - 2s 5ms/step - loss: 0.4645 - accuracy: 0.9375\n",
      "Epoch 9/10\n",
      "369/369 [==============================] - 2s 5ms/step - loss: 0.4349 - accuracy: 0.9435\n",
      "Epoch 10/10\n",
      "369/369 [==============================] - 2s 5ms/step - loss: 0.4084 - accuracy: 0.9458\n",
      "Autoencoder_small 4,9\n",
      "Epoch 1/10\n",
      " 19/369 [>.............................] - ETA: 1s - loss: 0.7512 - accuracy: 0.4934"
     ]
    },
    {
     "name": "stderr",
     "output_type": "stream",
     "text": [
      "2022-02-15 17:52:46.281570: I tensorflow/core/grappler/optimizers/custom_graph_optimizer_registry.cc:112] Plugin optimizer for device_type GPU is enabled.\n"
     ]
    },
    {
     "name": "stdout",
     "output_type": "stream",
     "text": [
      "369/369 [==============================] - 2s 5ms/step - loss: 0.7287 - accuracy: 0.3743\n",
      "Epoch 2/10\n",
      "369/369 [==============================] - 2s 4ms/step - loss: 0.6990 - accuracy: 0.4658\n",
      "Epoch 3/10\n",
      "369/369 [==============================] - 2s 4ms/step - loss: 0.6738 - accuracy: 0.6566\n",
      "Epoch 4/10\n",
      "369/369 [==============================] - 2s 5ms/step - loss: 0.6506 - accuracy: 0.8055\n",
      "Epoch 5/10\n",
      "369/369 [==============================] - 2s 5ms/step - loss: 0.6291 - accuracy: 0.8595\n",
      "Epoch 6/10\n",
      "369/369 [==============================] - 2s 4ms/step - loss: 0.6090 - accuracy: 0.8855\n",
      "Epoch 7/10\n",
      "369/369 [==============================] - 2s 5ms/step - loss: 0.5901 - accuracy: 0.8948\n",
      "Epoch 8/10\n",
      "369/369 [==============================] - 2s 4ms/step - loss: 0.5723 - accuracy: 0.9016\n",
      "Epoch 9/10\n",
      "369/369 [==============================] - 2s 4ms/step - loss: 0.5556 - accuracy: 0.9044\n",
      "Epoch 10/10\n",
      "369/369 [==============================] - 2s 5ms/step - loss: 0.5398 - accuracy: 0.9032\n",
      "Autoencoder_small 4,7\n",
      "Epoch 1/10\n",
      " 19/379 [>.............................] - ETA: 2s - loss: 0.6609 - accuracy: 0.5247"
     ]
    },
    {
     "name": "stderr",
     "output_type": "stream",
     "text": [
      "2022-02-15 17:53:03.203295: I tensorflow/core/grappler/optimizers/custom_graph_optimizer_registry.cc:112] Plugin optimizer for device_type GPU is enabled.\n"
     ]
    },
    {
     "name": "stdout",
     "output_type": "stream",
     "text": [
      "379/379 [==============================] - 2s 4ms/step - loss: 0.6254 - accuracy: 0.6246\n",
      "Epoch 2/10\n",
      "379/379 [==============================] - 2s 5ms/step - loss: 0.5771 - accuracy: 0.8647\n",
      "Epoch 3/10\n",
      "379/379 [==============================] - 2s 4ms/step - loss: 0.5387 - accuracy: 0.9152\n",
      "Epoch 4/10\n",
      "379/379 [==============================] - 2s 4ms/step - loss: 0.5035 - accuracy: 0.9277\n",
      "Epoch 5/10\n",
      "379/379 [==============================] - 2s 5ms/step - loss: 0.4716 - accuracy: 0.9362\n",
      "Epoch 6/10\n",
      "379/379 [==============================] - 2s 4ms/step - loss: 0.4426 - accuracy: 0.9422\n",
      "Epoch 7/10\n",
      "379/379 [==============================] - 2s 4ms/step - loss: 0.4163 - accuracy: 0.9457\n",
      "Epoch 8/10\n",
      "379/379 [==============================] - 2s 4ms/step - loss: 0.3924 - accuracy: 0.9490\n",
      "Epoch 9/10\n",
      "379/379 [==============================] - 2s 5ms/step - loss: 0.3707 - accuracy: 0.9513\n",
      "Epoch 10/10\n",
      "379/379 [==============================] - 2s 4ms/step - loss: 0.3508 - accuracy: 0.9548\n",
      "Autoencoder_small 0,8\n",
      "Epoch 1/10\n",
      " 20/368 [>.............................] - ETA: 1s - loss: 0.6755 - accuracy: 0.5656"
     ]
    },
    {
     "name": "stderr",
     "output_type": "stream",
     "text": [
      "2022-02-15 17:53:20.456592: I tensorflow/core/grappler/optimizers/custom_graph_optimizer_registry.cc:112] Plugin optimizer for device_type GPU is enabled.\n"
     ]
    },
    {
     "name": "stdout",
     "output_type": "stream",
     "text": [
      "368/368 [==============================] - 2s 5ms/step - loss: 0.6287 - accuracy: 0.6855\n",
      "Epoch 2/10\n",
      "368/368 [==============================] - 2s 4ms/step - loss: 0.5610 - accuracy: 0.8018\n",
      "Epoch 3/10\n",
      "368/368 [==============================] - 2s 4ms/step - loss: 0.5073 - accuracy: 0.8560\n",
      "Epoch 4/10\n",
      "368/368 [==============================] - 2s 4ms/step - loss: 0.4618 - accuracy: 0.8861\n",
      "Epoch 5/10\n",
      "368/368 [==============================] - 2s 4ms/step - loss: 0.4228 - accuracy: 0.9068\n",
      "Epoch 6/10\n",
      "368/368 [==============================] - 2s 5ms/step - loss: 0.3894 - accuracy: 0.9197\n",
      "Epoch 7/10\n",
      "368/368 [==============================] - 2s 5ms/step - loss: 0.3603 - accuracy: 0.9315\n",
      "Epoch 8/10\n",
      "368/368 [==============================] - 2s 5ms/step - loss: 0.3350 - accuracy: 0.9386\n",
      "Epoch 9/10\n",
      "368/368 [==============================] - 2s 5ms/step - loss: 0.3127 - accuracy: 0.9448\n",
      "Epoch 10/10\n",
      "368/368 [==============================] - 2s 4ms/step - loss: 0.2931 - accuracy: 0.9511\n",
      "Autoencoder_small 2,5\n",
      "Epoch 1/10\n",
      " 19/356 [>.............................] - ETA: 2s - loss: 0.7935 - accuracy: 0.1990"
     ]
    },
    {
     "name": "stderr",
     "output_type": "stream",
     "text": [
      "2022-02-15 17:53:37.138993: I tensorflow/core/grappler/optimizers/custom_graph_optimizer_registry.cc:112] Plugin optimizer for device_type GPU is enabled.\n"
     ]
    },
    {
     "name": "stdout",
     "output_type": "stream",
     "text": [
      "356/356 [==============================] - 2s 5ms/step - loss: 0.7486 - accuracy: 0.3180\n",
      "Epoch 2/10\n",
      "356/356 [==============================] - 2s 4ms/step - loss: 0.6718 - accuracy: 0.6659\n",
      "Epoch 3/10\n",
      "356/356 [==============================] - 2s 4ms/step - loss: 0.6053 - accuracy: 0.8165\n",
      "Epoch 4/10\n",
      "356/356 [==============================] - 2s 5ms/step - loss: 0.5481 - accuracy: 0.8514\n",
      "Epoch 5/10\n",
      "356/356 [==============================] - 2s 5ms/step - loss: 0.4988 - accuracy: 0.8793\n",
      "Epoch 6/10\n",
      "356/356 [==============================] - 2s 4ms/step - loss: 0.4561 - accuracy: 0.8964\n",
      "Epoch 7/10\n",
      "356/356 [==============================] - 2s 4ms/step - loss: 0.4193 - accuracy: 0.9095\n",
      "Epoch 8/10\n",
      "356/356 [==============================] - 2s 4ms/step - loss: 0.3872 - accuracy: 0.9162\n",
      "Epoch 9/10\n",
      "356/356 [==============================] - 2s 4ms/step - loss: 0.3592 - accuracy: 0.9219\n",
      "Epoch 10/10\n",
      "356/356 [==============================] - 2s 5ms/step - loss: 0.3346 - accuracy: 0.9289\n",
      "Autoencoder_small 0,6\n",
      "Epoch 1/10\n",
      " 20/371 [>.............................] - ETA: 1s - loss: 0.6905 - accuracy: 0.4906"
     ]
    },
    {
     "name": "stderr",
     "output_type": "stream",
     "text": [
      "2022-02-15 17:53:53.422325: I tensorflow/core/grappler/optimizers/custom_graph_optimizer_registry.cc:112] Plugin optimizer for device_type GPU is enabled.\n"
     ]
    },
    {
     "name": "stdout",
     "output_type": "stream",
     "text": [
      "371/371 [==============================] - 2s 5ms/step - loss: 0.6243 - accuracy: 0.6213\n",
      "Epoch 2/10\n",
      "371/371 [==============================] - 2s 4ms/step - loss: 0.5554 - accuracy: 0.8802\n",
      "Epoch 3/10\n",
      "371/371 [==============================] - 2s 4ms/step - loss: 0.5158 - accuracy: 0.9100\n",
      "Epoch 4/10\n",
      "371/371 [==============================] - 2s 5ms/step - loss: 0.4833 - accuracy: 0.9259\n",
      "Epoch 5/10\n",
      "371/371 [==============================] - 2s 4ms/step - loss: 0.4551 - accuracy: 0.9348\n",
      "Epoch 6/10\n",
      "371/371 [==============================] - 2s 4ms/step - loss: 0.4305 - accuracy: 0.9397\n",
      "Epoch 7/10\n",
      "371/371 [==============================] - 2s 4ms/step - loss: 0.4090 - accuracy: 0.9439\n",
      "Epoch 8/10\n",
      "371/371 [==============================] - 2s 4ms/step - loss: 0.3899 - accuracy: 0.9456\n",
      "Epoch 9/10\n",
      "371/371 [==============================] - 2s 5ms/step - loss: 0.3729 - accuracy: 0.9458\n",
      "Epoch 10/10\n",
      "371/371 [==============================] - 2s 4ms/step - loss: 0.3579 - accuracy: 0.9466\n",
      "Autoencoder_small 0,1\n",
      "Epoch 1/10\n",
      " 19/396 [>.............................] - ETA: 2s - loss: 0.7085 - accuracy: 0.4770"
     ]
    },
    {
     "name": "stderr",
     "output_type": "stream",
     "text": [
      "2022-02-15 17:54:10.185002: I tensorflow/core/grappler/optimizers/custom_graph_optimizer_registry.cc:112] Plugin optimizer for device_type GPU is enabled.\n"
     ]
    },
    {
     "name": "stdout",
     "output_type": "stream",
     "text": [
      "396/396 [==============================] - 2s 5ms/step - loss: 0.6318 - accuracy: 0.7278\n",
      "Epoch 2/10\n",
      "396/396 [==============================] - 2s 4ms/step - loss: 0.5211 - accuracy: 0.9307\n",
      "Epoch 3/10\n",
      "396/396 [==============================] - 2s 4ms/step - loss: 0.4427 - accuracy: 0.9755\n",
      "Epoch 4/10\n",
      "396/396 [==============================] - 2s 5ms/step - loss: 0.3798 - accuracy: 0.9872\n",
      "Epoch 5/10\n",
      "396/396 [==============================] - 2s 5ms/step - loss: 0.3282 - accuracy: 0.9916\n",
      "Epoch 6/10\n",
      "396/396 [==============================] - 2s 5ms/step - loss: 0.2855 - accuracy: 0.9941\n",
      "Epoch 7/10\n",
      "396/396 [==============================] - 2s 4ms/step - loss: 0.2500 - accuracy: 0.9957\n",
      "Epoch 8/10\n",
      "396/396 [==============================] - 2s 4ms/step - loss: 0.2201 - accuracy: 0.9965\n",
      "Epoch 9/10\n",
      "396/396 [==============================] - 2s 4ms/step - loss: 0.1946 - accuracy: 0.9968\n",
      "Epoch 10/10\n",
      "396/396 [==============================] - 2s 4ms/step - loss: 0.1730 - accuracy: 0.9970\n",
      "Autoencoder_small 3,7\n",
      "Epoch 1/10\n",
      " 18/388 [>.............................] - ETA: 2s - loss: 0.7393 - accuracy: 0.3715"
     ]
    },
    {
     "name": "stderr",
     "output_type": "stream",
     "text": [
      "2022-02-15 17:54:28.252587: I tensorflow/core/grappler/optimizers/custom_graph_optimizer_registry.cc:112] Plugin optimizer for device_type GPU is enabled.\n"
     ]
    },
    {
     "name": "stdout",
     "output_type": "stream",
     "text": [
      "388/388 [==============================] - 2s 5ms/step - loss: 0.6851 - accuracy: 0.5131\n",
      "Epoch 2/10\n",
      "388/388 [==============================] - 2s 4ms/step - loss: 0.5890 - accuracy: 0.7942\n",
      "Epoch 3/10\n",
      "388/388 [==============================] - 2s 5ms/step - loss: 0.5099 - accuracy: 0.9124\n",
      "Epoch 4/10\n",
      "388/388 [==============================] - 2s 5ms/step - loss: 0.4456 - accuracy: 0.9471\n",
      "Epoch 5/10\n",
      "388/388 [==============================] - 2s 4ms/step - loss: 0.3933 - accuracy: 0.9589\n",
      "Epoch 6/10\n",
      "388/388 [==============================] - 2s 4ms/step - loss: 0.3504 - accuracy: 0.9644\n",
      "Epoch 7/10\n",
      "388/388 [==============================] - 2s 5ms/step - loss: 0.3149 - accuracy: 0.9670\n",
      "Epoch 8/10\n",
      "388/388 [==============================] - 2s 5ms/step - loss: 0.2855 - accuracy: 0.9688\n",
      "Epoch 9/10\n",
      "388/388 [==============================] - 2s 5ms/step - loss: 0.2607 - accuracy: 0.9697\n",
      "Epoch 10/10\n",
      "388/388 [==============================] - 2s 5ms/step - loss: 0.2398 - accuracy: 0.9703\n",
      "Autoencoder_small 1,3\n",
      "Epoch 1/10\n",
      " 19/403 [>.............................] - ETA: 2s - loss: 0.9527 - accuracy: 0.0329    "
     ]
    },
    {
     "name": "stderr",
     "output_type": "stream",
     "text": [
      "2022-02-15 17:54:46.067235: I tensorflow/core/grappler/optimizers/custom_graph_optimizer_registry.cc:112] Plugin optimizer for device_type GPU is enabled.\n"
     ]
    },
    {
     "name": "stdout",
     "output_type": "stream",
     "text": [
      "403/403 [==============================] - 2s 5ms/step - loss: 0.8669 - accuracy: 0.0447\n",
      "Epoch 2/10\n",
      "403/403 [==============================] - 2s 4ms/step - loss: 0.7235 - accuracy: 0.3171\n",
      "Epoch 3/10\n",
      "403/403 [==============================] - 2s 5ms/step - loss: 0.6073 - accuracy: 0.9303\n",
      "Epoch 4/10\n",
      "403/403 [==============================] - 2s 5ms/step - loss: 0.5141 - accuracy: 0.9799\n",
      "Epoch 5/10\n",
      "403/403 [==============================] - 2s 4ms/step - loss: 0.4394 - accuracy: 0.9826\n",
      "Epoch 6/10\n",
      "403/403 [==============================] - 2s 5ms/step - loss: 0.3794 - accuracy: 0.9831\n",
      "Epoch 7/10\n",
      "403/403 [==============================] - 2s 4ms/step - loss: 0.3307 - accuracy: 0.9836\n",
      "Epoch 8/10\n",
      "403/403 [==============================] - 2s 4ms/step - loss: 0.2910 - accuracy: 0.9836\n",
      "Epoch 9/10\n",
      "403/403 [==============================] - 2s 4ms/step - loss: 0.2584 - accuracy: 0.9837\n",
      "Epoch 10/10\n",
      "403/403 [==============================] - 2s 4ms/step - loss: 0.2312 - accuracy: 0.9837\n",
      "Autoencoder_small 1,4\n",
      "Epoch 1/10\n",
      " 19/394 [>.............................] - ETA: 2s - loss: 0.8653 - accuracy: 0.5296"
     ]
    },
    {
     "name": "stderr",
     "output_type": "stream",
     "text": [
      "2022-02-15 17:55:04.340209: I tensorflow/core/grappler/optimizers/custom_graph_optimizer_registry.cc:112] Plugin optimizer for device_type GPU is enabled.\n"
     ]
    },
    {
     "name": "stdout",
     "output_type": "stream",
     "text": [
      "394/394 [==============================] - 2s 5ms/step - loss: 0.7761 - accuracy: 0.5358\n",
      "Epoch 2/10\n",
      "394/394 [==============================] - 2s 4ms/step - loss: 0.6558 - accuracy: 0.5452\n",
      "Epoch 3/10\n",
      "394/394 [==============================] - 2s 5ms/step - loss: 0.5677 - accuracy: 0.8082\n",
      "Epoch 4/10\n",
      "394/394 [==============================] - 2s 5ms/step - loss: 0.4962 - accuracy: 0.9557\n",
      "Epoch 5/10\n",
      "394/394 [==============================] - 2s 5ms/step - loss: 0.4370 - accuracy: 0.9688\n",
      "Epoch 6/10\n",
      "394/394 [==============================] - 2s 5ms/step - loss: 0.3879 - accuracy: 0.9747\n",
      "Epoch 7/10\n",
      "394/394 [==============================] - 2s 5ms/step - loss: 0.3468 - accuracy: 0.9771\n",
      "Epoch 8/10\n",
      "394/394 [==============================] - 2s 4ms/step - loss: 0.3123 - accuracy: 0.9789\n",
      "Epoch 9/10\n",
      "394/394 [==============================] - 2s 4ms/step - loss: 0.2831 - accuracy: 0.9797\n",
      "Epoch 10/10\n",
      "394/394 [==============================] - 2s 5ms/step - loss: 0.2583 - accuracy: 0.9801\n",
      "Autoencoder_small 3,9\n",
      "Epoch 1/10\n",
      " 20/378 [>.............................] - ETA: 2s - loss: 0.7690 - accuracy: 0.3047"
     ]
    },
    {
     "name": "stderr",
     "output_type": "stream",
     "text": [
      "2022-02-15 17:55:23.093519: I tensorflow/core/grappler/optimizers/custom_graph_optimizer_registry.cc:112] Plugin optimizer for device_type GPU is enabled.\n"
     ]
    },
    {
     "name": "stdout",
     "output_type": "stream",
     "text": [
      "378/378 [==============================] - 3s 4ms/step - loss: 0.7194 - accuracy: 0.4469\n",
      "Epoch 2/10\n",
      "378/378 [==============================] - 2s 5ms/step - loss: 0.6295 - accuracy: 0.7531\n",
      "Epoch 3/10\n",
      "378/378 [==============================] - 2s 4ms/step - loss: 0.5563 - accuracy: 0.8924\n",
      "Epoch 4/10\n",
      "378/378 [==============================] - 2s 4ms/step - loss: 0.4964 - accuracy: 0.9281\n",
      "Epoch 5/10\n",
      "378/378 [==============================] - 2s 5ms/step - loss: 0.4474 - accuracy: 0.9387\n",
      "Epoch 6/10\n",
      "378/378 [==============================] - 2s 4ms/step - loss: 0.4072 - accuracy: 0.9428\n",
      "Epoch 7/10\n",
      "378/378 [==============================] - 2s 5ms/step - loss: 0.3739 - accuracy: 0.9453\n",
      "Epoch 8/10\n",
      "378/378 [==============================] - 2s 4ms/step - loss: 0.3462 - accuracy: 0.9474\n",
      "Epoch 9/10\n",
      "378/378 [==============================] - 2s 5ms/step - loss: 0.3229 - accuracy: 0.9483\n",
      "Epoch 10/10\n",
      "378/378 [==============================] - 2s 5ms/step - loss: 0.3033 - accuracy: 0.9491\n",
      "Autoencoder_small 7,8\n",
      "Epoch 1/10\n",
      " 20/379 [>.............................] - ETA: 1s - loss: 0.7818 - accuracy: 0.4703"
     ]
    },
    {
     "name": "stderr",
     "output_type": "stream",
     "text": [
      "2022-02-15 17:55:40.392411: I tensorflow/core/grappler/optimizers/custom_graph_optimizer_registry.cc:112] Plugin optimizer for device_type GPU is enabled.\n"
     ]
    },
    {
     "name": "stdout",
     "output_type": "stream",
     "text": [
      "379/379 [==============================] - 2s 5ms/step - loss: 0.6681 - accuracy: 0.5446\n",
      "Epoch 2/10\n",
      "379/379 [==============================] - 2s 5ms/step - loss: 0.5484 - accuracy: 0.8500\n",
      "Epoch 3/10\n",
      "379/379 [==============================] - 2s 4ms/step - loss: 0.4820 - accuracy: 0.9621\n",
      "Epoch 4/10\n",
      "379/379 [==============================] - 2s 5ms/step - loss: 0.4305 - accuracy: 0.9727\n",
      "Epoch 5/10\n",
      "379/379 [==============================] - 2s 5ms/step - loss: 0.3878 - accuracy: 0.9741\n",
      "Epoch 6/10\n",
      "379/379 [==============================] - 2s 4ms/step - loss: 0.3519 - accuracy: 0.9748\n",
      "Epoch 7/10\n",
      "379/379 [==============================] - 2s 5ms/step - loss: 0.3213 - accuracy: 0.9755\n",
      "Epoch 8/10\n",
      "379/379 [==============================] - 2s 4ms/step - loss: 0.2953 - accuracy: 0.9757\n",
      "Epoch 9/10\n",
      "379/379 [==============================] - 2s 5ms/step - loss: 0.2728 - accuracy: 0.9759\n",
      "Epoch 10/10\n",
      "379/379 [==============================] - 2s 4ms/step - loss: 0.2534 - accuracy: 0.9760\n",
      "Autoencoder_small 1,5\n",
      "Epoch 1/10\n",
      " 20/381 [>.............................] - ETA: 1s - loss: 0.8059 - accuracy: 0.4391"
     ]
    },
    {
     "name": "stderr",
     "output_type": "stream",
     "text": [
      "2022-02-15 17:55:57.729536: I tensorflow/core/grappler/optimizers/custom_graph_optimizer_registry.cc:112] Plugin optimizer for device_type GPU is enabled.\n"
     ]
    },
    {
     "name": "stdout",
     "output_type": "stream",
     "text": [
      "381/381 [==============================] - 2s 5ms/step - loss: 0.6777 - accuracy: 0.5105\n",
      "Epoch 2/10\n",
      "381/381 [==============================] - 2s 4ms/step - loss: 0.5174 - accuracy: 0.9256\n",
      "Epoch 3/10\n",
      "381/381 [==============================] - 2s 5ms/step - loss: 0.4342 - accuracy: 0.9642\n",
      "Epoch 4/10\n",
      "381/381 [==============================] - 2s 5ms/step - loss: 0.3786 - accuracy: 0.9620\n",
      "Epoch 5/10\n",
      "381/381 [==============================] - 2s 5ms/step - loss: 0.3360 - accuracy: 0.9646\n",
      "Epoch 6/10\n",
      "381/381 [==============================] - 2s 4ms/step - loss: 0.3016 - accuracy: 0.9657\n",
      "Epoch 7/10\n",
      "381/381 [==============================] - 2s 5ms/step - loss: 0.2732 - accuracy: 0.9685\n",
      "Epoch 8/10\n",
      "381/381 [==============================] - 2s 4ms/step - loss: 0.2493 - accuracy: 0.9694\n",
      "Epoch 9/10\n",
      "381/381 [==============================] - 2s 4ms/step - loss: 0.2291 - accuracy: 0.9707\n",
      "Epoch 10/10\n",
      "381/381 [==============================] - 2s 4ms/step - loss: 0.2118 - accuracy: 0.9716\n",
      "Autoencoder_small 3,8\n",
      "Epoch 1/10\n",
      " 21/375 [>.............................] - ETA: 1s - loss: 0.6940 - accuracy: 0.4836"
     ]
    },
    {
     "name": "stderr",
     "output_type": "stream",
     "text": [
      "2022-02-15 17:56:15.148323: I tensorflow/core/grappler/optimizers/custom_graph_optimizer_registry.cc:112] Plugin optimizer for device_type GPU is enabled.\n"
     ]
    },
    {
     "name": "stdout",
     "output_type": "stream",
     "text": [
      "375/375 [==============================] - 2s 5ms/step - loss: 0.6814 - accuracy: 0.5568\n",
      "Epoch 2/10\n",
      "375/375 [==============================] - 2s 4ms/step - loss: 0.6402 - accuracy: 0.6851\n",
      "Epoch 3/10\n",
      "375/375 [==============================] - 2s 4ms/step - loss: 0.6046 - accuracy: 0.7515\n",
      "Epoch 4/10\n",
      "375/375 [==============================] - 2s 5ms/step - loss: 0.5741 - accuracy: 0.7896\n",
      "Epoch 5/10\n",
      "375/375 [==============================] - 2s 5ms/step - loss: 0.5480 - accuracy: 0.8128\n",
      "Epoch 6/10\n",
      "375/375 [==============================] - 2s 4ms/step - loss: 0.5256 - accuracy: 0.8297\n",
      "Epoch 7/10\n",
      "375/375 [==============================] - 2s 4ms/step - loss: 0.5062 - accuracy: 0.8365\n",
      "Epoch 8/10\n",
      "375/375 [==============================] - 2s 4ms/step - loss: 0.4895 - accuracy: 0.8408\n",
      "Epoch 9/10\n",
      "375/375 [==============================] - 2s 4ms/step - loss: 0.4751 - accuracy: 0.8416\n",
      "Epoch 10/10\n",
      "375/375 [==============================] - 2s 4ms/step - loss: 0.4628 - accuracy: 0.8442\n",
      "Autoencoder_small 1,2\n",
      "Epoch 1/10\n",
      " 19/397 [>.............................] - ETA: 2s - loss: 0.7332 - accuracy: 0.5164"
     ]
    },
    {
     "name": "stderr",
     "output_type": "stream",
     "text": [
      "2022-02-15 17:56:31.763227: I tensorflow/core/grappler/optimizers/custom_graph_optimizer_registry.cc:112] Plugin optimizer for device_type GPU is enabled.\n"
     ]
    },
    {
     "name": "stdout",
     "output_type": "stream",
     "text": [
      "397/397 [==============================] - 2s 5ms/step - loss: 0.6345 - accuracy: 0.5610\n",
      "Epoch 2/10\n",
      "397/397 [==============================] - 2s 4ms/step - loss: 0.5314 - accuracy: 0.8443\n",
      "Epoch 3/10\n",
      "397/397 [==============================] - 2s 4ms/step - loss: 0.4671 - accuracy: 0.9326\n",
      "Epoch 4/10\n",
      "397/397 [==============================] - 2s 4ms/step - loss: 0.4180 - accuracy: 0.9448\n",
      "Epoch 5/10\n",
      "397/397 [==============================] - 2s 5ms/step - loss: 0.3794 - accuracy: 0.9468\n",
      "Epoch 6/10\n",
      "397/397 [==============================] - 2s 4ms/step - loss: 0.3484 - accuracy: 0.9487\n",
      "Epoch 7/10\n",
      "397/397 [==============================] - 2s 4ms/step - loss: 0.3234 - accuracy: 0.9487\n",
      "Epoch 8/10\n",
      "397/397 [==============================] - 2s 4ms/step - loss: 0.3028 - accuracy: 0.9498\n",
      "Epoch 9/10\n",
      "397/397 [==============================] - 2s 4ms/step - loss: 0.2856 - accuracy: 0.9496\n",
      "Epoch 10/10\n",
      "397/397 [==============================] - 2s 4ms/step - loss: 0.2712 - accuracy: 0.9492\n",
      "Autoencoder_small 3,6\n",
      "Epoch 1/10\n",
      " 20/377 [>.............................] - ETA: 1s - loss: 0.6506 - accuracy: 0.5641"
     ]
    },
    {
     "name": "stderr",
     "output_type": "stream",
     "text": [
      "2022-02-15 17:56:49.487290: I tensorflow/core/grappler/optimizers/custom_graph_optimizer_registry.cc:112] Plugin optimizer for device_type GPU is enabled.\n"
     ]
    },
    {
     "name": "stdout",
     "output_type": "stream",
     "text": [
      "377/377 [==============================] - 2s 5ms/step - loss: 0.5944 - accuracy: 0.8519\n",
      "Epoch 2/10\n",
      "377/377 [==============================] - 2s 4ms/step - loss: 0.5156 - accuracy: 0.9780\n",
      "Epoch 3/10\n",
      "377/377 [==============================] - 2s 4ms/step - loss: 0.4540 - accuracy: 0.9823\n",
      "Epoch 4/10\n",
      "377/377 [==============================] - 2s 4ms/step - loss: 0.4037 - accuracy: 0.9802\n",
      "Epoch 5/10\n",
      "377/377 [==============================] - 2s 4ms/step - loss: 0.3621 - accuracy: 0.9799\n",
      "Epoch 6/10\n",
      "377/377 [==============================] - 2s 5ms/step - loss: 0.3274 - accuracy: 0.9806\n",
      "Epoch 7/10\n",
      "377/377 [==============================] - 2s 4ms/step - loss: 0.2983 - accuracy: 0.9796\n",
      "Epoch 8/10\n",
      "377/377 [==============================] - 2s 4ms/step - loss: 0.2735 - accuracy: 0.9805\n",
      "Epoch 9/10\n",
      "377/377 [==============================] - 2s 4ms/step - loss: 0.2523 - accuracy: 0.9803\n",
      "Epoch 10/10\n",
      "377/377 [==============================] - 2s 4ms/step - loss: 0.2339 - accuracy: 0.9812\n",
      "Autoencoder_small 7,9\n",
      "Epoch 1/10\n",
      " 19/382 [>.............................] - ETA: 2s - loss: 0.7878 - accuracy: 0.4655"
     ]
    },
    {
     "name": "stderr",
     "output_type": "stream",
     "text": [
      "2022-02-15 17:57:06.458641: I tensorflow/core/grappler/optimizers/custom_graph_optimizer_registry.cc:112] Plugin optimizer for device_type GPU is enabled.\n"
     ]
    },
    {
     "name": "stdout",
     "output_type": "stream",
     "text": [
      "382/382 [==============================] - 2s 5ms/step - loss: 0.7234 - accuracy: 0.4888\n",
      "Epoch 2/10\n",
      "382/382 [==============================] - 2s 4ms/step - loss: 0.6867 - accuracy: 0.5695\n",
      "Epoch 3/10\n",
      "382/382 [==============================] - 2s 4ms/step - loss: 0.6716 - accuracy: 0.6476\n",
      "Epoch 4/10\n",
      "382/382 [==============================] - 2s 4ms/step - loss: 0.6605 - accuracy: 0.6712\n",
      "Epoch 5/10\n",
      "382/382 [==============================] - 2s 4ms/step - loss: 0.6521 - accuracy: 0.6745\n",
      "Epoch 6/10\n",
      "382/382 [==============================] - 2s 4ms/step - loss: 0.6457 - accuracy: 0.6712\n",
      "Epoch 7/10\n",
      "382/382 [==============================] - 2s 5ms/step - loss: 0.6407 - accuracy: 0.6692\n",
      "Epoch 8/10\n",
      "382/382 [==============================] - 2s 5ms/step - loss: 0.6369 - accuracy: 0.6650\n",
      "Epoch 9/10\n",
      "382/382 [==============================] - 2s 4ms/step - loss: 0.6342 - accuracy: 0.6651\n",
      "Epoch 10/10\n",
      "382/382 [==============================] - 2s 4ms/step - loss: 0.6321 - accuracy: 0.6642\n",
      "Autoencoder_small 2,9\n",
      "Epoch 1/10\n",
      " 21/373 [>.............................] - ETA: 1s - loss: 0.7246 - accuracy: 0.4851"
     ]
    },
    {
     "name": "stderr",
     "output_type": "stream",
     "text": [
      "2022-02-15 17:57:23.349484: I tensorflow/core/grappler/optimizers/custom_graph_optimizer_registry.cc:112] Plugin optimizer for device_type GPU is enabled.\n"
     ]
    },
    {
     "name": "stdout",
     "output_type": "stream",
     "text": [
      "373/373 [==============================] - 2s 5ms/step - loss: 0.6837 - accuracy: 0.5997\n",
      "Epoch 2/10\n",
      "373/373 [==============================] - 2s 4ms/step - loss: 0.6089 - accuracy: 0.7863\n",
      "Epoch 3/10\n",
      "373/373 [==============================] - 2s 4ms/step - loss: 0.5467 - accuracy: 0.8661\n",
      "Epoch 4/10\n",
      "373/373 [==============================] - 2s 4ms/step - loss: 0.4941 - accuracy: 0.8985\n",
      "Epoch 5/10\n",
      "373/373 [==============================] - 2s 4ms/step - loss: 0.4497 - accuracy: 0.9126\n",
      "Epoch 6/10\n",
      "373/373 [==============================] - 2s 4ms/step - loss: 0.4120 - accuracy: 0.9210\n",
      "Epoch 7/10\n",
      "373/373 [==============================] - 2s 4ms/step - loss: 0.3799 - accuracy: 0.9252\n",
      "Epoch 8/10\n",
      "373/373 [==============================] - 2s 5ms/step - loss: 0.3524 - accuracy: 0.9301\n",
      "Epoch 9/10\n",
      "373/373 [==============================] - 2s 5ms/step - loss: 0.3289 - accuracy: 0.9336\n",
      "Epoch 10/10\n",
      "373/373 [==============================] - 2s 5ms/step - loss: 0.3086 - accuracy: 0.9357\n",
      "Autoencoder_small 0,4\n",
      "Epoch 1/10\n",
      " 19/368 [>.............................] - ETA: 1s - loss: 0.5251 - accuracy: 0.8257"
     ]
    },
    {
     "name": "stderr",
     "output_type": "stream",
     "text": [
      "2022-02-15 17:57:40.058290: I tensorflow/core/grappler/optimizers/custom_graph_optimizer_registry.cc:112] Plugin optimizer for device_type GPU is enabled.\n"
     ]
    },
    {
     "name": "stdout",
     "output_type": "stream",
     "text": [
      "368/368 [==============================] - 2s 5ms/step - loss: 0.4828 - accuracy: 0.9073\n",
      "Epoch 2/10\n",
      "368/368 [==============================] - 2s 4ms/step - loss: 0.4109 - accuracy: 0.9659\n",
      "Epoch 3/10\n",
      "368/368 [==============================] - 2s 4ms/step - loss: 0.3557 - accuracy: 0.9789\n",
      "Epoch 4/10\n",
      "368/368 [==============================] - 2s 4ms/step - loss: 0.3119 - accuracy: 0.9821\n",
      "Epoch 5/10\n",
      "368/368 [==============================] - 2s 4ms/step - loss: 0.2762 - accuracy: 0.9838\n",
      "Epoch 6/10\n",
      "368/368 [==============================] - 2s 5ms/step - loss: 0.2469 - accuracy: 0.9848\n",
      "Epoch 7/10\n",
      "368/368 [==============================] - 2s 4ms/step - loss: 0.2224 - accuracy: 0.9856\n",
      "Epoch 8/10\n",
      "368/368 [==============================] - 2s 5ms/step - loss: 0.2015 - accuracy: 0.9867\n",
      "Epoch 9/10\n",
      "368/368 [==============================] - 2s 4ms/step - loss: 0.1837 - accuracy: 0.9871\n",
      "Epoch 10/10\n",
      "368/368 [==============================] - 2s 5ms/step - loss: 0.1682 - accuracy: 0.9878\n",
      "Autoencoder_small 0,3\n",
      "Epoch 1/10\n",
      " 18/377 [>.............................] - ETA: 2s - loss: 1.0672 - accuracy: 0.5052"
     ]
    },
    {
     "name": "stderr",
     "output_type": "stream",
     "text": [
      "2022-02-15 17:57:56.557668: I tensorflow/core/grappler/optimizers/custom_graph_optimizer_registry.cc:112] Plugin optimizer for device_type GPU is enabled.\n"
     ]
    },
    {
     "name": "stdout",
     "output_type": "stream",
     "text": [
      "377/377 [==============================] - 2s 5ms/step - loss: 0.9409 - accuracy: 0.4959\n",
      "Epoch 2/10\n",
      "377/377 [==============================] - 2s 5ms/step - loss: 0.7550 - accuracy: 0.4804\n",
      "Epoch 3/10\n",
      "377/377 [==============================] - 2s 5ms/step - loss: 0.6430 - accuracy: 0.7763\n",
      "Epoch 4/10\n",
      "377/377 [==============================] - 2s 4ms/step - loss: 0.5613 - accuracy: 0.9723\n",
      "Epoch 5/10\n",
      "377/377 [==============================] - 2s 4ms/step - loss: 0.4957 - accuracy: 0.9735\n",
      "Epoch 6/10\n",
      "377/377 [==============================] - 2s 4ms/step - loss: 0.4413 - accuracy: 0.9735\n",
      "Epoch 7/10\n",
      "377/377 [==============================] - 2s 4ms/step - loss: 0.3958 - accuracy: 0.9740\n",
      "Epoch 8/10\n",
      "377/377 [==============================] - 2s 4ms/step - loss: 0.3574 - accuracy: 0.9746\n",
      "Epoch 9/10\n",
      "377/377 [==============================] - 2s 5ms/step - loss: 0.3247 - accuracy: 0.9745\n",
      "Epoch 10/10\n",
      "377/377 [==============================] - 2s 5ms/step - loss: 0.2968 - accuracy: 0.9749\n",
      "Autoencoder_small 2,7\n",
      "Epoch 1/10\n",
      " 21/382 [>.............................] - ETA: 1s - loss: 0.6000 - accuracy: 0.7812"
     ]
    },
    {
     "name": "stderr",
     "output_type": "stream",
     "text": [
      "2022-02-15 17:58:13.770017: I tensorflow/core/grappler/optimizers/custom_graph_optimizer_registry.cc:112] Plugin optimizer for device_type GPU is enabled.\n"
     ]
    },
    {
     "name": "stdout",
     "output_type": "stream",
     "text": [
      "382/382 [==============================] - 2s 5ms/step - loss: 0.5614 - accuracy: 0.8385\n",
      "Epoch 2/10\n",
      "382/382 [==============================] - 2s 5ms/step - loss: 0.4967 - accuracy: 0.9190\n",
      "Epoch 3/10\n",
      "382/382 [==============================] - 2s 4ms/step - loss: 0.4433 - accuracy: 0.9494\n",
      "Epoch 4/10\n",
      "382/382 [==============================] - 2s 4ms/step - loss: 0.3994 - accuracy: 0.9582\n",
      "Epoch 5/10\n",
      "382/382 [==============================] - 2s 5ms/step - loss: 0.3632 - accuracy: 0.9601\n",
      "Epoch 6/10\n",
      "382/382 [==============================] - 2s 4ms/step - loss: 0.3331 - accuracy: 0.9607\n",
      "Epoch 7/10\n",
      "382/382 [==============================] - 2s 4ms/step - loss: 0.3079 - accuracy: 0.9618\n",
      "Epoch 8/10\n",
      "382/382 [==============================] - 2s 4ms/step - loss: 0.2867 - accuracy: 0.9622\n",
      "Epoch 9/10\n",
      "382/382 [==============================] - 2s 4ms/step - loss: 0.2685 - accuracy: 0.9624\n",
      "Epoch 10/10\n",
      "382/382 [==============================] - 2s 5ms/step - loss: 0.2530 - accuracy: 0.9619\n",
      "Autoencoder_small 8,9\n",
      "Epoch 1/10\n",
      " 20/369 [>.............................] - ETA: 1s - loss: 0.7972 - accuracy: 0.5125"
     ]
    },
    {
     "name": "stderr",
     "output_type": "stream",
     "text": [
      "2022-02-15 17:58:30.972924: I tensorflow/core/grappler/optimizers/custom_graph_optimizer_registry.cc:112] Plugin optimizer for device_type GPU is enabled.\n"
     ]
    },
    {
     "name": "stdout",
     "output_type": "stream",
     "text": [
      "369/369 [==============================] - 2s 5ms/step - loss: 0.7250 - accuracy: 0.4973\n",
      "Epoch 2/10\n",
      "369/369 [==============================] - 2s 4ms/step - loss: 0.6545 - accuracy: 0.6253\n",
      "Epoch 3/10\n",
      "369/369 [==============================] - 2s 5ms/step - loss: 0.6228 - accuracy: 0.8126\n",
      "Epoch 4/10\n",
      "369/369 [==============================] - 2s 5ms/step - loss: 0.5952 - accuracy: 0.8702\n",
      "Epoch 5/10\n",
      "369/369 [==============================] - 2s 5ms/step - loss: 0.5700 - accuracy: 0.8768\n",
      "Epoch 6/10\n",
      "369/369 [==============================] - 2s 4ms/step - loss: 0.5470 - accuracy: 0.8869\n",
      "Epoch 7/10\n",
      "369/369 [==============================] - 2s 5ms/step - loss: 0.5261 - accuracy: 0.8862\n",
      "Epoch 8/10\n",
      "369/369 [==============================] - 2s 5ms/step - loss: 0.5072 - accuracy: 0.8882\n",
      "Epoch 9/10\n",
      "369/369 [==============================] - 2s 5ms/step - loss: 0.4900 - accuracy: 0.8881\n",
      "Epoch 10/10\n",
      "369/369 [==============================] - 2s 5ms/step - loss: 0.4743 - accuracy: 0.8889\n",
      "Autoencoder_small 4,5\n",
      "Epoch 1/10\n",
      " 19/352 [>.............................] - ETA: 1s - loss: 0.5764 - accuracy: 0.8602"
     ]
    },
    {
     "name": "stderr",
     "output_type": "stream",
     "text": [
      "2022-02-15 17:58:48.615315: I tensorflow/core/grappler/optimizers/custom_graph_optimizer_registry.cc:112] Plugin optimizer for device_type GPU is enabled.\n"
     ]
    },
    {
     "name": "stdout",
     "output_type": "stream",
     "text": [
      "352/352 [==============================] - 2s 5ms/step - loss: 0.5432 - accuracy: 0.8837\n",
      "Epoch 2/10\n",
      "352/352 [==============================] - 2s 5ms/step - loss: 0.4865 - accuracy: 0.8984\n",
      "Epoch 3/10\n",
      "352/352 [==============================] - 2s 5ms/step - loss: 0.4395 - accuracy: 0.9139\n",
      "Epoch 4/10\n",
      "352/352 [==============================] - 2s 4ms/step - loss: 0.4005 - accuracy: 0.9177\n",
      "Epoch 5/10\n",
      "352/352 [==============================] - 2s 4ms/step - loss: 0.3675 - accuracy: 0.9212\n",
      "Epoch 6/10\n",
      "352/352 [==============================] - 2s 4ms/step - loss: 0.3394 - accuracy: 0.9265\n",
      "Epoch 7/10\n",
      "352/352 [==============================] - 2s 4ms/step - loss: 0.3152 - accuracy: 0.9299\n",
      "Epoch 8/10\n",
      "352/352 [==============================] - 2s 4ms/step - loss: 0.2941 - accuracy: 0.9333\n",
      "Epoch 9/10\n",
      "352/352 [==============================] - 2s 5ms/step - loss: 0.2757 - accuracy: 0.9369\n",
      "Epoch 10/10\n",
      "352/352 [==============================] - 2s 4ms/step - loss: 0.2595 - accuracy: 0.9401\n",
      "Autoencoder_small 6,8\n",
      "Epoch 1/10\n",
      " 20/368 [>.............................] - ETA: 1s - loss: 1.0034 - accuracy: 0.3672"
     ]
    },
    {
     "name": "stderr",
     "output_type": "stream",
     "text": [
      "2022-02-15 17:59:04.784761: I tensorflow/core/grappler/optimizers/custom_graph_optimizer_registry.cc:112] Plugin optimizer for device_type GPU is enabled.\n"
     ]
    },
    {
     "name": "stdout",
     "output_type": "stream",
     "text": [
      "368/368 [==============================] - 2s 5ms/step - loss: 0.9032 - accuracy: 0.2894\n",
      "Epoch 2/10\n",
      "368/368 [==============================] - 2s 5ms/step - loss: 0.7642 - accuracy: 0.2381\n",
      "Epoch 3/10\n",
      "368/368 [==============================] - 2s 4ms/step - loss: 0.6684 - accuracy: 0.6504\n",
      "Epoch 4/10\n",
      "368/368 [==============================] - 2s 4ms/step - loss: 0.5912 - accuracy: 0.8971\n",
      "Epoch 5/10\n",
      "368/368 [==============================] - 2s 5ms/step - loss: 0.5263 - accuracy: 0.9601\n",
      "Epoch 6/10\n",
      "368/368 [==============================] - 2s 4ms/step - loss: 0.4715 - accuracy: 0.9738\n",
      "Epoch 7/10\n",
      "368/368 [==============================] - 2s 4ms/step - loss: 0.4248 - accuracy: 0.9774\n",
      "Epoch 8/10\n",
      "368/368 [==============================] - 2s 4ms/step - loss: 0.3853 - accuracy: 0.9787\n",
      "Epoch 9/10\n",
      "368/368 [==============================] - 2s 4ms/step - loss: 0.3514 - accuracy: 0.9790\n",
      "Epoch 10/10\n",
      "368/368 [==============================] - 2s 5ms/step - loss: 0.3222 - accuracy: 0.9784\n",
      "Autoencoder_small 2,6\n",
      "Epoch 1/10\n",
      " 19/372 [>.............................] - ETA: 2s - loss: 0.6422 - accuracy: 0.7500"
     ]
    },
    {
     "name": "stderr",
     "output_type": "stream",
     "text": [
      "2022-02-15 17:59:21.605145: I tensorflow/core/grappler/optimizers/custom_graph_optimizer_registry.cc:112] Plugin optimizer for device_type GPU is enabled.\n"
     ]
    },
    {
     "name": "stdout",
     "output_type": "stream",
     "text": [
      "372/372 [==============================] - 2s 5ms/step - loss: 0.6229 - accuracy: 0.8072\n",
      "Epoch 2/10\n",
      "372/372 [==============================] - 2s 4ms/step - loss: 0.5897 - accuracy: 0.8339\n",
      "Epoch 3/10\n",
      "372/372 [==============================] - 2s 4ms/step - loss: 0.5616 - accuracy: 0.8377\n",
      "Epoch 4/10\n",
      "372/372 [==============================] - 2s 5ms/step - loss: 0.5375 - accuracy: 0.8377\n",
      "Epoch 5/10\n",
      "372/372 [==============================] - 2s 5ms/step - loss: 0.5164 - accuracy: 0.8380\n",
      "Epoch 6/10\n",
      "372/372 [==============================] - 2s 5ms/step - loss: 0.4979 - accuracy: 0.8388\n",
      "Epoch 7/10\n",
      "372/372 [==============================] - 2s 5ms/step - loss: 0.4820 - accuracy: 0.8409\n",
      "Epoch 8/10\n",
      "372/372 [==============================] - 2s 4ms/step - loss: 0.4680 - accuracy: 0.8419\n",
      "Epoch 9/10\n",
      "372/372 [==============================] - 2s 5ms/step - loss: 0.4556 - accuracy: 0.8441\n",
      "Epoch 10/10\n",
      "372/372 [==============================] - 2s 4ms/step - loss: 0.4447 - accuracy: 0.8438\n",
      "Autoencoder_small 0,2\n",
      "Epoch 1/10\n",
      " 20/372 [>.............................] - ETA: 1s - loss: 0.9660 - accuracy: 0.4938"
     ]
    },
    {
     "name": "stderr",
     "output_type": "stream",
     "text": [
      "2022-02-15 17:59:38.475000: I tensorflow/core/grappler/optimizers/custom_graph_optimizer_registry.cc:112] Plugin optimizer for device_type GPU is enabled.\n"
     ]
    },
    {
     "name": "stdout",
     "output_type": "stream",
     "text": [
      "372/372 [==============================] - 2s 5ms/step - loss: 0.8616 - accuracy: 0.4960\n",
      "Epoch 2/10\n",
      "372/372 [==============================] - 2s 4ms/step - loss: 0.7202 - accuracy: 0.4966\n",
      "Epoch 3/10\n",
      "372/372 [==============================] - 2s 4ms/step - loss: 0.6265 - accuracy: 0.7626\n",
      "Epoch 4/10\n",
      "372/372 [==============================] - 2s 5ms/step - loss: 0.5521 - accuracy: 0.8989\n",
      "Epoch 5/10\n",
      "372/372 [==============================] - 2s 4ms/step - loss: 0.4909 - accuracy: 0.9270\n",
      "Epoch 6/10\n",
      "372/372 [==============================] - 2s 4ms/step - loss: 0.4402 - accuracy: 0.9376\n",
      "Epoch 7/10\n",
      "372/372 [==============================] - 2s 4ms/step - loss: 0.3978 - accuracy: 0.9434\n",
      "Epoch 8/10\n",
      "372/372 [==============================] - 2s 5ms/step - loss: 0.3620 - accuracy: 0.9451\n",
      "Epoch 9/10\n",
      "372/372 [==============================] - 2s 5ms/step - loss: 0.3316 - accuracy: 0.9478\n",
      "Epoch 10/10\n",
      "372/372 [==============================] - 2s 5ms/step - loss: 0.3055 - accuracy: 0.9494\n",
      "Autoencoder_small 2,8\n",
      "Epoch 1/10\n",
      " 20/370 [>.............................] - ETA: 1s - loss: 0.6302 - accuracy: 0.6125"
     ]
    },
    {
     "name": "stderr",
     "output_type": "stream",
     "text": [
      "2022-02-15 17:59:55.360795: I tensorflow/core/grappler/optimizers/custom_graph_optimizer_registry.cc:112] Plugin optimizer for device_type GPU is enabled.\n"
     ]
    },
    {
     "name": "stdout",
     "output_type": "stream",
     "text": [
      "370/370 [==============================] - 2s 5ms/step - loss: 0.6024 - accuracy: 0.7769\n",
      "Epoch 2/10\n",
      "370/370 [==============================] - 2s 4ms/step - loss: 0.5692 - accuracy: 0.8455\n",
      "Epoch 3/10\n",
      "370/370 [==============================] - 2s 5ms/step - loss: 0.5437 - accuracy: 0.8496\n",
      "Epoch 4/10\n",
      "370/370 [==============================] - 2s 5ms/step - loss: 0.5224 - accuracy: 0.8504\n",
      "Epoch 5/10\n",
      "370/370 [==============================] - 2s 5ms/step - loss: 0.5045 - accuracy: 0.8503\n",
      "Epoch 6/10\n",
      "370/370 [==============================] - 2s 4ms/step - loss: 0.4890 - accuracy: 0.8483\n",
      "Epoch 7/10\n",
      "370/370 [==============================] - 2s 5ms/step - loss: 0.4756 - accuracy: 0.8494\n",
      "Epoch 8/10\n",
      "370/370 [==============================] - 2s 4ms/step - loss: 0.4641 - accuracy: 0.8493\n",
      "Epoch 9/10\n",
      "370/370 [==============================] - 2s 4ms/step - loss: 0.4540 - accuracy: 0.8506\n",
      "Epoch 10/10\n",
      "370/370 [==============================] - 2s 4ms/step - loss: 0.4453 - accuracy: 0.8509\n",
      "Autoencoder_small 0,5\n",
      "Epoch 1/10\n",
      " 20/355 [>.............................] - ETA: 1s - loss: 0.6069 - accuracy: 0.7563"
     ]
    },
    {
     "name": "stderr",
     "output_type": "stream",
     "text": [
      "2022-02-15 18:00:12.228037: I tensorflow/core/grappler/optimizers/custom_graph_optimizer_registry.cc:112] Plugin optimizer for device_type GPU is enabled.\n"
     ]
    },
    {
     "name": "stdout",
     "output_type": "stream",
     "text": [
      "355/355 [==============================] - 2s 5ms/step - loss: 0.5845 - accuracy: 0.7795\n",
      "Epoch 2/10\n",
      "355/355 [==============================] - 2s 5ms/step - loss: 0.5487 - accuracy: 0.8013\n",
      "Epoch 3/10\n",
      "355/355 [==============================] - 2s 5ms/step - loss: 0.5187 - accuracy: 0.8196\n",
      "Epoch 4/10\n",
      "355/355 [==============================] - 2s 5ms/step - loss: 0.4925 - accuracy: 0.8377\n",
      "Epoch 5/10\n",
      "355/355 [==============================] - 2s 5ms/step - loss: 0.4693 - accuracy: 0.8493\n",
      "Epoch 6/10\n",
      "355/355 [==============================] - 2s 4ms/step - loss: 0.4485 - accuracy: 0.8615\n",
      "Epoch 7/10\n",
      "355/355 [==============================] - 2s 5ms/step - loss: 0.4299 - accuracy: 0.8697\n",
      "Epoch 8/10\n",
      "355/355 [==============================] - 2s 5ms/step - loss: 0.4131 - accuracy: 0.8760\n",
      "Epoch 9/10\n",
      "355/355 [==============================] - 2s 5ms/step - loss: 0.3979 - accuracy: 0.8837\n",
      "Epoch 10/10\n",
      "355/355 [==============================] - 2s 5ms/step - loss: 0.3843 - accuracy: 0.8884\n",
      "Autoencoder_small 6,7\n",
      "Epoch 1/10\n",
      " 19/381 [>.............................] - ETA: 2s - loss: 0.8750 - accuracy: 0.4819"
     ]
    },
    {
     "name": "stderr",
     "output_type": "stream",
     "text": [
      "2022-02-15 18:00:28.538019: I tensorflow/core/grappler/optimizers/custom_graph_optimizer_registry.cc:112] Plugin optimizer for device_type GPU is enabled.\n"
     ]
    },
    {
     "name": "stdout",
     "output_type": "stream",
     "text": [
      "381/381 [==============================] - 2s 5ms/step - loss: 0.8112 - accuracy: 0.3629\n",
      "Epoch 2/10\n",
      "381/381 [==============================] - 2s 4ms/step - loss: 0.6834 - accuracy: 0.5323\n",
      "Epoch 3/10\n",
      "381/381 [==============================] - 2s 4ms/step - loss: 0.5825 - accuracy: 0.8847\n",
      "Epoch 4/10\n",
      "381/381 [==============================] - 2s 4ms/step - loss: 0.4995 - accuracy: 0.9688\n",
      "Epoch 5/10\n",
      "381/381 [==============================] - 2s 5ms/step - loss: 0.4312 - accuracy: 0.9831\n",
      "Epoch 6/10\n",
      "381/381 [==============================] - 2s 4ms/step - loss: 0.3749 - accuracy: 0.9889\n",
      "Epoch 7/10\n",
      "381/381 [==============================] - 2s 4ms/step - loss: 0.3279 - accuracy: 0.9911\n",
      "Epoch 8/10\n",
      "381/381 [==============================] - 2s 5ms/step - loss: 0.2886 - accuracy: 0.9926\n",
      "Epoch 9/10\n",
      "381/381 [==============================] - 2s 5ms/step - loss: 0.2554 - accuracy: 0.9931\n",
      "Epoch 10/10\n",
      "381/381 [==============================] - 2s 5ms/step - loss: 0.2272 - accuracy: 0.9938\n",
      "Autoencoder_small 6,9\n",
      "Epoch 1/10\n",
      " 20/371 [>.............................] - ETA: 1s - loss: 0.6037 - accuracy: 0.5188"
     ]
    },
    {
     "name": "stderr",
     "output_type": "stream",
     "text": [
      "2022-02-15 18:00:45.864286: I tensorflow/core/grappler/optimizers/custom_graph_optimizer_registry.cc:112] Plugin optimizer for device_type GPU is enabled.\n"
     ]
    },
    {
     "name": "stdout",
     "output_type": "stream",
     "text": [
      "371/371 [==============================] - 2s 5ms/step - loss: 0.5544 - accuracy: 0.8061\n",
      "Epoch 2/10\n",
      "371/371 [==============================] - 2s 5ms/step - loss: 0.4686 - accuracy: 0.9872\n",
      "Epoch 3/10\n",
      "371/371 [==============================] - 2s 5ms/step - loss: 0.4050 - accuracy: 0.9906\n",
      "Epoch 4/10\n",
      "371/371 [==============================] - 2s 5ms/step - loss: 0.3545 - accuracy: 0.9917\n",
      "Epoch 5/10\n",
      "371/371 [==============================] - 2s 5ms/step - loss: 0.3136 - accuracy: 0.9922\n",
      "Epoch 6/10\n",
      "371/371 [==============================] - 2s 4ms/step - loss: 0.2801 - accuracy: 0.9923\n",
      "Epoch 7/10\n",
      "371/371 [==============================] - 2s 4ms/step - loss: 0.2522 - accuracy: 0.9924\n",
      "Epoch 8/10\n",
      "371/371 [==============================] - 2s 4ms/step - loss: 0.2286 - accuracy: 0.9927\n",
      "Epoch 9/10\n",
      "371/371 [==============================] - 2s 4ms/step - loss: 0.2086 - accuracy: 0.9927\n",
      "Epoch 10/10\n",
      "371/371 [==============================] - 2s 4ms/step - loss: 0.1913 - accuracy: 0.9928\n",
      "Autoencoder_small 5,8\n",
      "Epoch 1/10\n",
      " 20/353 [>.............................] - ETA: 1s - loss: 0.6849 - accuracy: 0.5063"
     ]
    },
    {
     "name": "stderr",
     "output_type": "stream",
     "text": [
      "2022-02-15 18:01:02.502483: I tensorflow/core/grappler/optimizers/custom_graph_optimizer_registry.cc:112] Plugin optimizer for device_type GPU is enabled.\n"
     ]
    },
    {
     "name": "stdout",
     "output_type": "stream",
     "text": [
      "353/353 [==============================] - 2s 5ms/step - loss: 0.6360 - accuracy: 0.6544\n",
      "Epoch 2/10\n",
      "353/353 [==============================] - 2s 5ms/step - loss: 0.5708 - accuracy: 0.8099\n",
      "Epoch 3/10\n",
      "353/353 [==============================] - 1s 4ms/step - loss: 0.5214 - accuracy: 0.8464\n",
      "Epoch 4/10\n",
      "353/353 [==============================] - 2s 4ms/step - loss: 0.4810 - accuracy: 0.8644\n",
      "Epoch 5/10\n",
      "353/353 [==============================] - 1s 4ms/step - loss: 0.4473 - accuracy: 0.8733\n",
      "Epoch 6/10\n",
      "353/353 [==============================] - 2s 4ms/step - loss: 0.4193 - accuracy: 0.8783\n",
      "Epoch 7/10\n",
      "353/353 [==============================] - 1s 4ms/step - loss: 0.3959 - accuracy: 0.8851\n",
      "Epoch 8/10\n",
      "353/353 [==============================] - 2s 4ms/step - loss: 0.3763 - accuracy: 0.8868\n",
      "Epoch 9/10\n",
      "353/353 [==============================] - 2s 5ms/step - loss: 0.3599 - accuracy: 0.8895\n",
      "Epoch 10/10\n",
      "353/353 [==============================] - 2s 5ms/step - loss: 0.3460 - accuracy: 0.8934\n",
      "Autoencoder_small 5,6\n",
      "Epoch 1/10\n",
      " 18/355 [>.............................] - ETA: 2s - loss: 0.7621 - accuracy: 0.1771"
     ]
    },
    {
     "name": "stderr",
     "output_type": "stream",
     "text": [
      "2022-02-15 18:01:18.297606: I tensorflow/core/grappler/optimizers/custom_graph_optimizer_registry.cc:112] Plugin optimizer for device_type GPU is enabled.\n"
     ]
    },
    {
     "name": "stdout",
     "output_type": "stream",
     "text": [
      "355/355 [==============================] - 2s 5ms/step - loss: 0.7225 - accuracy: 0.3887\n",
      "Epoch 2/10\n",
      "355/355 [==============================] - 2s 4ms/step - loss: 0.6467 - accuracy: 0.6536\n",
      "Epoch 3/10\n",
      "355/355 [==============================] - 2s 4ms/step - loss: 0.5837 - accuracy: 0.8493\n",
      "Epoch 4/10\n",
      "355/355 [==============================] - 2s 4ms/step - loss: 0.5314 - accuracy: 0.9101\n",
      "Epoch 5/10\n",
      "355/355 [==============================] - 2s 5ms/step - loss: 0.4877 - accuracy: 0.9221\n",
      "Epoch 6/10\n",
      "355/355 [==============================] - 2s 5ms/step - loss: 0.4510 - accuracy: 0.9269\n",
      "Epoch 7/10\n",
      "355/355 [==============================] - 2s 5ms/step - loss: 0.4198 - accuracy: 0.9288\n",
      "Epoch 8/10\n",
      "355/355 [==============================] - 2s 5ms/step - loss: 0.3931 - accuracy: 0.9293\n",
      "Epoch 9/10\n",
      "355/355 [==============================] - 2s 4ms/step - loss: 0.3699 - accuracy: 0.9299\n",
      "Epoch 10/10\n",
      "355/355 [==============================] - 2s 5ms/step - loss: 0.3498 - accuracy: 0.9297\n",
      "Autoencoder_small 3,4\n",
      "Epoch 1/10\n",
      " 18/375 [>.............................] - ETA: 2s - loss: 0.7541 - accuracy: 0.1285"
     ]
    },
    {
     "name": "stderr",
     "output_type": "stream",
     "text": [
      "2022-02-15 18:01:34.859740: I tensorflow/core/grappler/optimizers/custom_graph_optimizer_registry.cc:112] Plugin optimizer for device_type GPU is enabled.\n"
     ]
    },
    {
     "name": "stdout",
     "output_type": "stream",
     "text": [
      "375/375 [==============================] - 2s 5ms/step - loss: 0.7024 - accuracy: 0.4214\n",
      "Epoch 2/10\n",
      "375/375 [==============================] - 2s 5ms/step - loss: 0.6021 - accuracy: 0.9555\n",
      "Epoch 3/10\n",
      "375/375 [==============================] - 2s 5ms/step - loss: 0.5198 - accuracy: 0.9795\n",
      "Epoch 4/10\n",
      "375/375 [==============================] - 2s 4ms/step - loss: 0.4524 - accuracy: 0.9830\n",
      "Epoch 5/10\n",
      "375/375 [==============================] - 2s 4ms/step - loss: 0.3970 - accuracy: 0.9834\n",
      "Epoch 6/10\n",
      "375/375 [==============================] - 2s 4ms/step - loss: 0.3512 - accuracy: 0.9839\n",
      "Epoch 7/10\n",
      "375/375 [==============================] - 2s 4ms/step - loss: 0.3131 - accuracy: 0.9844\n",
      "Epoch 8/10\n",
      "375/375 [==============================] - 2s 4ms/step - loss: 0.2811 - accuracy: 0.9845\n",
      "Epoch 9/10\n",
      "375/375 [==============================] - 2s 4ms/step - loss: 0.2540 - accuracy: 0.9849\n",
      "Epoch 10/10\n",
      "375/375 [==============================] - 2s 4ms/step - loss: 0.2309 - accuracy: 0.9849\n",
      "Autoencoder_small 1,9\n",
      "Epoch 1/10\n",
      " 20/397 [>.............................] - ETA: 2s - loss: 0.6857 - accuracy: 0.5703"
     ]
    },
    {
     "name": "stderr",
     "output_type": "stream",
     "text": [
      "2022-02-15 18:01:51.685482: I tensorflow/core/grappler/optimizers/custom_graph_optimizer_registry.cc:112] Plugin optimizer for device_type GPU is enabled.\n"
     ]
    },
    {
     "name": "stdout",
     "output_type": "stream",
     "text": [
      "397/397 [==============================] - 2s 5ms/step - loss: 0.6481 - accuracy: 0.6149\n",
      "Epoch 2/10\n",
      "397/397 [==============================] - 2s 5ms/step - loss: 0.5775 - accuracy: 0.7567\n",
      "Epoch 3/10\n",
      "397/397 [==============================] - 2s 5ms/step - loss: 0.5184 - accuracy: 0.8613\n",
      "Epoch 4/10\n",
      "397/397 [==============================] - 2s 4ms/step - loss: 0.4676 - accuracy: 0.9112\n",
      "Epoch 5/10\n",
      "397/397 [==============================] - 2s 4ms/step - loss: 0.4238 - accuracy: 0.9332\n",
      "Epoch 6/10\n",
      "397/397 [==============================] - 2s 4ms/step - loss: 0.3858 - accuracy: 0.9477\n",
      "Epoch 7/10\n",
      "397/397 [==============================] - 2s 5ms/step - loss: 0.3527 - accuracy: 0.9548\n",
      "Epoch 8/10\n",
      "397/397 [==============================] - 2s 4ms/step - loss: 0.3237 - accuracy: 0.9608\n",
      "Epoch 9/10\n",
      "397/397 [==============================] - 2s 5ms/step - loss: 0.2982 - accuracy: 0.9647\n",
      "Epoch 10/10\n",
      "397/397 [==============================] - 2s 5ms/step - loss: 0.2756 - accuracy: 0.9671\n",
      "Autoencoder_small 1,7\n",
      "Epoch 1/10\n",
      " 20/407 [>.............................] - ETA: 2s - loss: 0.5825 - accuracy: 0.7906"
     ]
    },
    {
     "name": "stderr",
     "output_type": "stream",
     "text": [
      "2022-02-15 18:02:09.810800: I tensorflow/core/grappler/optimizers/custom_graph_optimizer_registry.cc:112] Plugin optimizer for device_type GPU is enabled.\n"
     ]
    },
    {
     "name": "stdout",
     "output_type": "stream",
     "text": [
      "407/407 [==============================] - 2s 5ms/step - loss: 0.5217 - accuracy: 0.8707\n",
      "Epoch 2/10\n",
      "407/407 [==============================] - 2s 5ms/step - loss: 0.4302 - accuracy: 0.9336\n",
      "Epoch 3/10\n",
      "407/407 [==============================] - 2s 4ms/step - loss: 0.3649 - accuracy: 0.9536\n",
      "Epoch 4/10\n",
      "407/407 [==============================] - 2s 4ms/step - loss: 0.3166 - accuracy: 0.9603\n",
      "Epoch 5/10\n",
      "407/407 [==============================] - 2s 5ms/step - loss: 0.2803 - accuracy: 0.9636\n",
      "Epoch 6/10\n",
      "407/407 [==============================] - 2s 5ms/step - loss: 0.2527 - accuracy: 0.9653\n",
      "Epoch 7/10\n",
      "407/407 [==============================] - 2s 5ms/step - loss: 0.2314 - accuracy: 0.9665\n",
      "Epoch 8/10\n",
      "407/407 [==============================] - 2s 5ms/step - loss: 0.2146 - accuracy: 0.9672\n",
      "Epoch 9/10\n",
      "407/407 [==============================] - 2s 5ms/step - loss: 0.2012 - accuracy: 0.9684\n",
      "Epoch 10/10\n",
      "407/407 [==============================] - 2s 4ms/step - loss: 0.1906 - accuracy: 0.9688\n",
      "Autoencoder_small 5,7\n",
      "Epoch 1/10\n",
      " 18/366 [>.............................] - ETA: 2s - loss: 0.6771 - accuracy: 0.4410"
     ]
    },
    {
     "name": "stderr",
     "output_type": "stream",
     "text": [
      "2022-02-15 18:02:29.265343: I tensorflow/core/grappler/optimizers/custom_graph_optimizer_registry.cc:112] Plugin optimizer for device_type GPU is enabled.\n"
     ]
    },
    {
     "name": "stdout",
     "output_type": "stream",
     "text": [
      "366/366 [==============================] - 2s 5ms/step - loss: 0.6035 - accuracy: 0.7501\n",
      "Epoch 2/10\n",
      "366/366 [==============================] - 2s 4ms/step - loss: 0.5136 - accuracy: 0.9409\n",
      "Epoch 3/10\n",
      "366/366 [==============================] - 2s 4ms/step - loss: 0.4548 - accuracy: 0.9444\n",
      "Epoch 4/10\n",
      "366/366 [==============================] - 2s 4ms/step - loss: 0.4080 - accuracy: 0.9517\n",
      "Epoch 5/10\n",
      "366/366 [==============================] - 2s 4ms/step - loss: 0.3697 - accuracy: 0.9546\n",
      "Epoch 6/10\n",
      "366/366 [==============================] - 2s 4ms/step - loss: 0.3381 - accuracy: 0.9574\n",
      "Epoch 7/10\n",
      "366/366 [==============================] - 2s 4ms/step - loss: 0.3117 - accuracy: 0.9580\n",
      "Epoch 8/10\n",
      "366/366 [==============================] - 2s 4ms/step - loss: 0.2897 - accuracy: 0.9589\n",
      "Epoch 9/10\n",
      "366/366 [==============================] - 2s 4ms/step - loss: 0.2711 - accuracy: 0.9592\n",
      "Epoch 10/10\n",
      "366/366 [==============================] - 2s 4ms/step - loss: 0.2553 - accuracy: 0.9594\n",
      "Autoencoder_small 5,9\n",
      "Epoch 1/10\n",
      " 19/356 [>.............................] - ETA: 1s - loss: 0.5680 - accuracy: 0.8832"
     ]
    },
    {
     "name": "stderr",
     "output_type": "stream",
     "text": [
      "2022-02-15 18:02:45.612602: I tensorflow/core/grappler/optimizers/custom_graph_optimizer_registry.cc:112] Plugin optimizer for device_type GPU is enabled.\n"
     ]
    },
    {
     "name": "stdout",
     "output_type": "stream",
     "text": [
      "356/356 [==============================] - 2s 5ms/step - loss: 0.5381 - accuracy: 0.8785\n",
      "Epoch 2/10\n",
      "356/356 [==============================] - 2s 4ms/step - loss: 0.4770 - accuracy: 0.8976\n",
      "Epoch 3/10\n",
      "356/356 [==============================] - 2s 5ms/step - loss: 0.4297 - accuracy: 0.9078\n",
      "Epoch 4/10\n",
      "356/356 [==============================] - 2s 5ms/step - loss: 0.3924 - accuracy: 0.9137\n",
      "Epoch 5/10\n",
      "356/356 [==============================] - 2s 5ms/step - loss: 0.3627 - accuracy: 0.9196\n",
      "Epoch 6/10\n",
      "356/356 [==============================] - 2s 4ms/step - loss: 0.3388 - accuracy: 0.9206\n",
      "Epoch 7/10\n",
      "356/356 [==============================] - 2s 5ms/step - loss: 0.3192 - accuracy: 0.9236\n",
      "Epoch 8/10\n",
      "356/356 [==============================] - 2s 4ms/step - loss: 0.3032 - accuracy: 0.9275\n",
      "Epoch 9/10\n",
      "356/356 [==============================] - 2s 4ms/step - loss: 0.2900 - accuracy: 0.9286\n",
      "Epoch 10/10\n",
      "356/356 [==============================] - 1s 4ms/step - loss: 0.2789 - accuracy: 0.9300\n",
      "Autoencoder_small 1,6\n",
      "Epoch 1/10\n",
      " 19/396 [>.............................] - ETA: 2s - loss: 0.6876 - accuracy: 0.5329"
     ]
    },
    {
     "name": "stderr",
     "output_type": "stream",
     "text": [
      "2022-02-15 18:03:01.878152: I tensorflow/core/grappler/optimizers/custom_graph_optimizer_registry.cc:112] Plugin optimizer for device_type GPU is enabled.\n"
     ]
    },
    {
     "name": "stdout",
     "output_type": "stream",
     "text": [
      "396/396 [==============================] - 2s 5ms/step - loss: 0.6557 - accuracy: 0.6507\n",
      "Epoch 2/10\n",
      "396/396 [==============================] - 2s 5ms/step - loss: 0.6010 - accuracy: 0.8617\n",
      "Epoch 3/10\n",
      "396/396 [==============================] - 2s 5ms/step - loss: 0.5582 - accuracy: 0.8768\n",
      "Epoch 4/10\n",
      "396/396 [==============================] - 2s 5ms/step - loss: 0.5242 - accuracy: 0.8838\n",
      "Epoch 5/10\n",
      "396/396 [==============================] - 2s 5ms/step - loss: 0.4962 - accuracy: 0.8830\n",
      "Epoch 6/10\n",
      "396/396 [==============================] - 2s 5ms/step - loss: 0.4725 - accuracy: 0.8881\n",
      "Epoch 7/10\n",
      "396/396 [==============================] - 2s 4ms/step - loss: 0.4516 - accuracy: 0.8882\n",
      "Epoch 8/10\n",
      "396/396 [==============================] - 2s 4ms/step - loss: 0.4327 - accuracy: 0.8889\n",
      "Epoch 9/10\n",
      "396/396 [==============================] - 2s 4ms/step - loss: 0.4151 - accuracy: 0.8909\n",
      "Epoch 10/10\n",
      "396/396 [==============================] - 2s 4ms/step - loss: 0.3988 - accuracy: 0.8928\n",
      "Autoencoder_small 3,5\n",
      "Epoch 1/10\n",
      " 26/361 [=>............................] - ETA: 1s - loss: 0.7266 - accuracy: 0.5349"
     ]
    },
    {
     "name": "stderr",
     "output_type": "stream",
     "text": [
      "2022-02-15 18:03:19.790621: I tensorflow/core/grappler/optimizers/custom_graph_optimizer_registry.cc:112] Plugin optimizer for device_type GPU is enabled.\n"
     ]
    },
    {
     "name": "stdout",
     "output_type": "stream",
     "text": [
      "361/361 [==============================] - 2s 4ms/step - loss: 0.7059 - accuracy: 0.5362\n",
      "Epoch 2/10\n",
      "361/361 [==============================] - 1s 4ms/step - loss: 0.6725 - accuracy: 0.5771\n",
      "Epoch 3/10\n",
      "361/361 [==============================] - 1s 4ms/step - loss: 0.6462 - accuracy: 0.6379\n",
      "Epoch 4/10\n",
      "361/361 [==============================] - 1s 3ms/step - loss: 0.6252 - accuracy: 0.6970\n",
      "Epoch 5/10\n",
      "361/361 [==============================] - 1s 3ms/step - loss: 0.6083 - accuracy: 0.7260\n",
      "Epoch 6/10\n",
      "361/361 [==============================] - 1s 3ms/step - loss: 0.5946 - accuracy: 0.7378\n",
      "Epoch 7/10\n",
      "361/361 [==============================] - 1s 4ms/step - loss: 0.5836 - accuracy: 0.7500\n",
      "Epoch 8/10\n",
      "361/361 [==============================] - 1s 3ms/step - loss: 0.5746 - accuracy: 0.7503\n",
      "Epoch 9/10\n",
      "361/361 [==============================] - 1s 3ms/step - loss: 0.5673 - accuracy: 0.7541\n",
      "Epoch 10/10\n",
      "361/361 [==============================] - 1s 4ms/step - loss: 0.5613 - accuracy: 0.7551\n",
      "Autoencoder_small 1,8\n",
      "Epoch 1/10\n",
      " 19/394 [>.............................] - ETA: 2s - loss: 0.9240 - accuracy: 0.4638"
     ]
    },
    {
     "name": "stderr",
     "output_type": "stream",
     "text": [
      "2022-02-15 18:03:32.926672: I tensorflow/core/grappler/optimizers/custom_graph_optimizer_registry.cc:112] Plugin optimizer for device_type GPU is enabled.\n"
     ]
    },
    {
     "name": "stdout",
     "output_type": "stream",
     "text": [
      "394/394 [==============================] - 2s 5ms/step - loss: 0.7904 - accuracy: 0.4648\n",
      "Epoch 2/10\n",
      "394/394 [==============================] - 2s 4ms/step - loss: 0.6518 - accuracy: 0.6950\n",
      "Epoch 3/10\n",
      "394/394 [==============================] - 2s 4ms/step - loss: 0.5891 - accuracy: 0.9281\n",
      "Epoch 4/10\n",
      "394/394 [==============================] - 2s 4ms/step - loss: 0.5372 - accuracy: 0.9404\n",
      "Epoch 5/10\n",
      "394/394 [==============================] - 2s 4ms/step - loss: 0.4909 - accuracy: 0.9471\n",
      "Epoch 6/10\n",
      "394/394 [==============================] - 2s 5ms/step - loss: 0.4498 - accuracy: 0.9499\n",
      "Epoch 7/10\n",
      "394/394 [==============================] - 2s 5ms/step - loss: 0.4134 - accuracy: 0.9519\n",
      "Epoch 8/10\n",
      "394/394 [==============================] - 2s 4ms/step - loss: 0.3812 - accuracy: 0.9528\n",
      "Epoch 9/10\n",
      "394/394 [==============================] - 2s 4ms/step - loss: 0.3527 - accuracy: 0.9537\n",
      "Epoch 10/10\n",
      "394/394 [==============================] - 2s 5ms/step - loss: 0.3276 - accuracy: 0.9539\n"
     ]
    }
   ],
   "source": [
    "for preprocessing in data:\n",
    "    for subset in data[preprocessing]:\n",
    "        print(preprocessing,subset)\n",
    "        datasubset = data[preprocessing][subset]\n",
    "        w = perceptron(datasubset[\"x_train\"],datasubset[\"y_train_binary\"])\n",
    "\n",
    "        mean = datasubset[\"x_train\"].mean(axis=0).reshape(-1,1)\n",
    "\n",
    "\n",
    "        Helpers.store((abs(w)*mean).numpy(),\"measure/featureimportance/{}/{}\".format(preprocessing,subset),\"importance\")\n"
   ]
  },
  {
   "cell_type": "code",
   "execution_count": 343,
   "metadata": {},
   "outputs": [],
   "source": [
    "def calc_featureimportance(data,weights):\n",
    "    return abs(weights*data[\"x_train\"].mean(axis=0).reshape(-1,1))\n",
    "    "
   ]
  },
  {
   "cell_type": "code",
   "execution_count": 257,
   "metadata": {},
   "outputs": [
    {
     "data": {
      "image/png": "[encoded data removed]",
      "text/plain": [
       "<Figure size 720x720 with 1 Axes>"
      ]
     },
     "metadata": {
      "needs_background": "light"
     },
     "output_type": "display_data"
    }
   ],
   "source": [
    "plt.figure(figsize=(10,10))\n",
    "plt.imshow(Preprocessing.minmax_scaler(calc_featureimportance(data[\"x_train\"],w)).reshape(2,2),cmap=\"gray\",vmin=0)\n",
    "plt.axis(\"off\")\n",
    "plt.show()"
   ]
  }
 ],
 "metadata": {
  "interpreter": {
   "hash": "66fbc7444ff33bf974f21d3d224fe531a78305e3f7b70f0cb67a92233fdb1f5a"
  },
  "kernelspec": {
   "display_name": "Python 3.9.7 ('tfm1')",
   "language": "python",
   "name": "python3"
  },
  "language_info": {
   "codemirror_mode": {
    "name": "ipython",
    "version": 3
   },
   "file_extension": ".py",
   "mimetype": "text/x-python",
   "name": "python",
   "nbconvert_exporter": "python",
   "pygments_lexer": "ipython3",
   "version": "3.9.7"
  },
  "orig_nbformat": 4
 },
 "nbformat": 4,
 "nbformat_minor": 2
}
