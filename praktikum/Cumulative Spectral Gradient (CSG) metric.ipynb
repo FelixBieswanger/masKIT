{
 "cells": [
  {
   "cell_type": "markdown",
   "metadata": {},
   "source": [
    "# Cumulative Spectral Gradient (CSG) metric\n",
    "from https://github.com/Dref360/spectral_metric"
   ]
  },
  {
   "cell_type": "code",
   "execution_count": 44,
   "metadata": {},
   "outputs": [],
   "source": [
    "from spectral_metric.estimator import CumulativeGradientEstimator\n",
    "from myutils import Datasets\n",
    "import os \n",
    "import numpy as np\n",
    "from matplotlib import pyplot as plt"
   ]
  },
  {
   "cell_type": "code",
   "execution_count": 4,
   "metadata": {},
   "outputs": [],
   "source": [
    "pca = Datasets.get_preprocessed_datasets(\"PCA\")[\"PCA\"]"
   ]
  },
  {
   "cell_type": "code",
   "execution_count": 71,
   "metadata": {},
   "outputs": [],
   "source": [
    "d = dict()\n",
    "\n",
    "for subset in os.listdir(\"data/PCA\"):\n",
    "    X = pca[subset][\"x_train\"]\n",
    "    y = pca[subset][\"y_train_binary\"]\n",
    "    estimator = CumulativeGradientEstimator(M_sample=5000, k_nearest=2)\n",
    "    estimator.fit(data=X, target=y)\n",
    "    d[subset] =estimator.csg "
   ]
  },
  {
   "cell_type": "code",
   "execution_count": 72,
   "metadata": {},
   "outputs": [],
   "source": [
    "arr = np.array(list(d.values()))"
   ]
  },
  {
   "cell_type": "code",
   "execution_count": 31,
   "metadata": {},
   "outputs": [],
   "source": [
    "ae = Datasets.get_preprocessed_datasets(\"Autoencoder\")[\"Autoencoder\"]"
   ]
  },
  {
   "cell_type": "code",
   "execution_count": 73,
   "metadata": {},
   "outputs": [],
   "source": [
    "dae = dict()\n",
    "\n",
    "for subset in os.listdir(\"data/PCA\"):\n",
    "    X = ae[subset][\"x_train\"]\n",
    "    y = ae[subset][\"y_train_binary\"]\n",
    "    estimator = CumulativeGradientEstimator(M_sample=5000, k_nearest=2)\n",
    "    estimator.fit(data=X, target=y)\n",
    "    dae[subset] =estimator.csg "
   ]
  },
  {
   "cell_type": "code",
   "execution_count": 74,
   "metadata": {},
   "outputs": [],
   "source": [
    "arr2 = np.array(list(dae.values()))"
   ]
  },
  {
   "cell_type": "code",
   "execution_count": 65,
   "metadata": {},
   "outputs": [],
   "source": [
    "raw = Datasets.get_preprocessed_datasets(\"RAW\")[\"RAW\"]\n"
   ]
  },
  {
   "cell_type": "code",
   "execution_count": 75,
   "metadata": {},
   "outputs": [],
   "source": [
    "draw = dict()\n",
    "\n",
    "for subset in os.listdir(\"data/PCA\"):\n",
    "    X = raw[subset][\"x_train\"]\n",
    "    y = raw[subset][\"y_train_binary\"]\n",
    "    estimator = CumulativeGradientEstimator(M_sample=5000, k_nearest=2)\n",
    "    estimator.fit(data=X, target=y)\n",
    "    draw[subset] =estimator.csg "
   ]
  },
  {
   "cell_type": "code",
   "execution_count": 76,
   "metadata": {},
   "outputs": [],
   "source": [
    "arr3 = np.array(list(draw.values()))"
   ]
  },
  {
   "cell_type": "code",
   "execution_count": 78,
   "metadata": {},
   "outputs": [
    {
     "data": {
      "image/png": "[encoded data removed]",
      "text/plain": [
       "<Figure size 1080x504 with 3 Axes>"
      ]
     },
     "metadata": {
      "needs_background": "light"
     },
     "output_type": "display_data"
    }
   ],
   "source": [
    "fig,ax = plt.subplots(1,3,figsize=(15,7))\n",
    "ax[0].hist(arr, bins=10)\n",
    "ax[0].set_title(\"PCA mean:{:.3f} & std {:.3f}\".format(np.mean(arr), np.std(arr)))\n",
    "\n",
    "ax[1].hist(arr2, bins=10)\n",
    "ax[1].set_title(\"Autoencoder mean:{:.3f} & std {:.3f}\" .format(np.mean(arr2), np.std(arr2)))\n",
    "ax[1].set_xlabel(\"CSG\")\n",
    "ax[2].hist(arr3, bins=10)\n",
    "ax[2].set_title(\"RAW mean:{:.3f} & std {:.3f}\" .format(np.mean(arr3), np.std(arr3)))\n",
    "plt.savefig(\"plots/cumulative_spectral_gradient.png\")\n",
    "plt.show()"
   ]
  },
  {
   "cell_type": "code",
   "execution_count": null,
   "metadata": {},
   "outputs": [],
   "source": []
  }
 ],
 "metadata": {
  "interpreter": {
   "hash": "66fbc7444ff33bf974f21d3d224fe531a78305e3f7b70f0cb67a92233fdb1f5a"
  },
  "kernelspec": {
   "display_name": "Python 3.9.7 64-bit ('tfm1': conda)",
   "language": "python",
   "name": "python3"
  },
  "language_info": {
   "codemirror_mode": {
    "name": "ipython",
    "version": 3
   },
   "file_extension": ".py",
   "mimetype": "text/x-python",
   "name": "python",
   "nbconvert_exporter": "python",
   "pygments_lexer": "ipython3",
   "version": "3.9.7"
  },
  "orig_nbformat": 4
 },
 "nbformat": 4,
 "nbformat_minor": 2
}
