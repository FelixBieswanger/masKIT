{
 "cells": [
  {
   "cell_type": "code",
   "execution_count": 49,
   "metadata": {},
   "outputs": [
    {
     "name": "stdout",
     "output_type": "stream",
     "text": [
      "The autoreload extension is already loaded. To reload it, use:\n",
      "  %reload_ext autoreload\n"
     ]
    }
   ],
   "source": [
    "import numpy as np\n",
    "import os\n",
    "from myutils import Datasets as ds\n",
    "import pandas as pd\n",
    "from myutils import Helpers as h\n",
    "from myutils import Complexity_Measures as cm\n",
    "\n",
    "#Magic Command, so changes in myutils module are reloaded\n",
    "%load_ext autoreload\n",
    "%autoreload 1\n",
    "%aimport myutils"
   ]
  },
  {
   "cell_type": "code",
   "execution_count": 51,
   "metadata": {},
   "outputs": [
    {
     "data": {
      "text/html": [
       "<div>\n",
       "<style scoped>\n",
       "    .dataframe tbody tr th:only-of-type {\n",
       "        vertical-align: middle;\n",
       "    }\n",
       "\n",
       "    .dataframe tbody tr th {\n",
       "        vertical-align: top;\n",
       "    }\n",
       "\n",
       "    .dataframe thead th {\n",
       "        text-align: right;\n",
       "    }\n",
       "</style>\n",
       "<table border=\"1\" class=\"dataframe\">\n",
       "  <thead>\n",
       "    <tr style=\"text-align: right;\">\n",
       "      <th></th>\n",
       "      <th>PCA</th>\n",
       "      <th>Autoencoder</th>\n",
       "      <th>Diff</th>\n",
       "    </tr>\n",
       "  </thead>\n",
       "  <tbody>\n",
       "    <tr>\n",
       "      <th>0,1</th>\n",
       "      <td>0.057234</td>\n",
       "      <td>0.754133</td>\n",
       "      <td>0.696899</td>\n",
       "    </tr>\n",
       "    <tr>\n",
       "      <th>0,2</th>\n",
       "      <td>0.143830</td>\n",
       "      <td>0.407335</td>\n",
       "      <td>0.263504</td>\n",
       "    </tr>\n",
       "    <tr>\n",
       "      <th>0,3</th>\n",
       "      <td>0.142892</td>\n",
       "      <td>0.345170</td>\n",
       "      <td>0.202278</td>\n",
       "    </tr>\n",
       "    <tr>\n",
       "      <th>0,4</th>\n",
       "      <td>0.107911</td>\n",
       "      <td>NaN</td>\n",
       "      <td>NaN</td>\n",
       "    </tr>\n",
       "    <tr>\n",
       "      <th>Total Mean</th>\n",
       "      <td>0.112967</td>\n",
       "      <td>0.502213</td>\n",
       "      <td>0.387560</td>\n",
       "    </tr>\n",
       "  </tbody>\n",
       "</table>\n",
       "</div>"
      ],
      "text/plain": [
       "                 PCA  Autoencoder      Diff\n",
       "0,1         0.057234     0.754133  0.696899\n",
       "0,2         0.143830     0.407335  0.263504\n",
       "0,3         0.142892     0.345170  0.202278\n",
       "0,4         0.107911          NaN       NaN\n",
       "Total Mean  0.112967     0.502213  0.387560"
      ]
     },
     "execution_count": 51,
     "metadata": {},
     "output_type": "execute_result"
    }
   ],
   "source": [
    "data = ds.get_preprocessed_datasets()\n",
    "\n",
    "dfs = list()\n",
    "\n",
    "for preprocessing in data:\n",
    "    result = dict()\n",
    "\n",
    "    if preprocessing != \"RAW\":\n",
    "\n",
    "        for dataset in data[preprocessing]:\n",
    "            x_train = data[preprocessing][dataset]['x_train']\n",
    "            y_train = data[preprocessing][dataset]['y_train']\n",
    "            x_test = data[preprocessing][dataset]['x_test']\n",
    "            y_test = data[preprocessing][dataset]['y_test']\n",
    "\n",
    "            x = np.concatenate((x_train, x_test), axis=0)\n",
    "            y = np.concatenate((y_train, y_test), axis=0)\n",
    "        \n",
    "            fischer = cm.fischer_discriminat_ratio(x, y)\n",
    "            max_fischer = 1 / (1+ np.amax(fischer))\n",
    "            result[dataset] = max_fischer\n",
    "        df = pd.DataFrame.from_dict(result, orient='index')\n",
    "        df.columns = [preprocessing]\n",
    "        dfs.append(df)\n",
    "\n",
    "df = pd.concat(dfs,axis=1).sort_index()\n",
    "df[\"Diff\"] = abs(df[\"PCA\"]-df[\"Autoencoder\"])\n",
    "#Total sum per row: \n",
    "df.loc['Total Mean',:] = df.mean(axis=0)\n",
    "df"
   ]
  },
  {
   "cell_type": "code",
   "execution_count": 41,
   "metadata": {},
   "outputs": [
    {
     "name": "stdout",
     "output_type": "stream",
     "text": [
      "reshape_shape (12665, 2, 2)\n"
     ]
    },
    {
     "data": {
      "image/png": "[encoded data removed]",
      "text/plain": [
       "<Figure size 1080x576 with 25 Axes>"
      ]
     },
     "metadata": {
      "needs_background": "light"
     },
     "output_type": "display_data"
    }
   ],
   "source": [
    "h.plot_grid(h.reshape(data[\"Autoencoder\"][\"0,1\"][\"x_train\"],(2,2)),data[\"Autoencoder\"][\"0,1\"][\"y_train\"],rows=5)"
   ]
  },
  {
   "cell_type": "code",
   "execution_count": 56,
   "metadata": {},
   "outputs": [
    {
     "name": "stdout",
     "output_type": "stream",
     "text": [
      "reshape_shape (12665, 2, 2)\n"
     ]
    },
    {
     "data": {
      "image/png": "[encoded data removed]",
      "text/plain": [
       "<Figure size 1080x576 with 10 Axes>"
      ]
     },
     "metadata": {
      "needs_background": "light"
     },
     "output_type": "display_data"
    }
   ],
   "source": [
    "h.plot_grid(h.reshape(data[\"PCA\"][\"0,1\"][\"x_train\"],(2,2)),data[\"PCA\"][\"0,1\"][\"y_train\"])"
   ]
  }
 ],
 "metadata": {
  "interpreter": {
   "hash": "66fbc7444ff33bf974f21d3d224fe531a78305e3f7b70f0cb67a92233fdb1f5a"
  },
  "kernelspec": {
   "display_name": "Python 3.9.7 64-bit ('tfm1': conda)",
   "language": "python",
   "name": "python3"
  },
  "language_info": {
   "codemirror_mode": {
    "name": "ipython",
    "version": 3
   },
   "file_extension": ".py",
   "mimetype": "text/x-python",
   "name": "python",
   "nbconvert_exporter": "python",
   "pygments_lexer": "ipython3",
   "version": "3.9.7"
  },
  "orig_nbformat": 4
 },
 "nbformat": 4,
 "nbformat_minor": 2
}
