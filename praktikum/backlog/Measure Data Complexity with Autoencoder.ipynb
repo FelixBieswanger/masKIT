{
 "cells": [
  {
   "cell_type": "code",
   "execution_count": 9,
   "metadata": {},
   "outputs": [
    {
     "name": "stdout",
     "output_type": "stream",
     "text": [
      "The autoreload extension is already loaded. To reload it, use:\n",
      "  %reload_ext autoreload\n"
     ]
    }
   ],
   "source": [
    "import tensorflow as tf\n",
    "from matplotlib import pyplot as plt\n",
    "import numpy as np\n",
    "from myutils import Helpers as h\n",
    "from myutils import Complexity_Measures as cm\n",
    "from myutils import Datasets as ds\n",
    "\n",
    "\n",
    "#Magic Command, so changes in myutils module are reloaded\n",
    "%load_ext autoreload\n",
    "%autoreload 1\n",
    "%aimport myutils\n"
   ]
  },
  {
   "cell_type": "code",
   "execution_count": 16,
   "metadata": {},
   "outputs": [
    {
     "data": {
      "text/plain": [
       "[PhysicalDevice(name='/physical_device:CPU:0', device_type='CPU'),\n",
       " PhysicalDevice(name='/physical_device:GPU:0', device_type='GPU')]"
      ]
     },
     "execution_count": 16,
     "metadata": {},
     "output_type": "execute_result"
    }
   ],
   "source": [
    "tf.config.list_physical_devices()"
   ]
  },
  {
   "cell_type": "code",
   "execution_count": 10,
   "metadata": {},
   "outputs": [],
   "source": [
    "from tensorflow.keras import layers, losses\n",
    "from tensorflow.keras.models import Model\n",
    "\n",
    "class Autoencoder(Model):\n",
    "  def __init__(self, shape):\n",
    "    super(Autoencoder, self).__init__()\n",
    "    flattendim = shape[1] * shape[2]\n",
    "    latent_dim = int(flattendim/2)\n",
    "    print(\"latent_dim\",latent_dim)\n",
    "    self.encoder = tf.keras.Sequential([\n",
    "        layers.Flatten(),\n",
    "        layers.Dense(latent_dim, activation='relu'),\n",
    "    ])\n",
    "    self.decoder = tf.keras.Sequential([\n",
    "        layers.Dense(flattendim,activation='sigmoid'),\n",
    "        layers.Reshape((shape[1],shape[2]))\n",
    "    ])\n",
    "    self.compile(optimizer='adam', loss=losses.MeanSquaredError())\n",
    "    \n",
    "\n",
    "  def call(self, x):\n",
    "    encoded = self.encoder(x)\n",
    "    decoded = self.decoder(encoded)\n",
    "    return decoded\n"
   ]
  },
  {
   "cell_type": "code",
   "execution_count": 11,
   "metadata": {},
   "outputs": [],
   "source": [
    "data = ds.get_all_data()"
   ]
  },
  {
   "cell_type": "code",
   "execution_count": 12,
   "metadata": {},
   "outputs": [
    {
     "name": "stdout",
     "output_type": "stream",
     "text": [
      "ALL_NUMBERS (60000, 28, 28)\n",
      "SIX_AND_NINES (11867, 28, 28)\n",
      "ONLY_SIXES (5918, 28, 28)\n",
      "RANDOM (60000, 28, 28)\n",
      "SAMEPICTURE (60000, 28, 28)\n"
     ]
    }
   ],
   "source": [
    "for dataset in data:\n",
    "    print(dataset, data[dataset][\"x_train\"].shape)"
   ]
  },
  {
   "cell_type": "code",
   "execution_count": 13,
   "metadata": {},
   "outputs": [],
   "source": [
    "for dataset in data:\n",
    "    data[dataset][\"x_train\"] = data[dataset][\"x_train\"][:5918]\n",
    "    data[dataset][\"y_train\"] = data[dataset][\"y_train\"][:5918]\n",
    "    data[dataset][\"x_train\"] = data[dataset][\"x_train\"] / 255\n"
   ]
  },
  {
   "cell_type": "code",
   "execution_count": 14,
   "metadata": {},
   "outputs": [
    {
     "name": "stdout",
     "output_type": "stream",
     "text": [
      "ALL_NUMBERS (5918, 28, 28)\n",
      "SIX_AND_NINES (5918, 28, 28)\n",
      "ONLY_SIXES (5918, 28, 28)\n",
      "RANDOM (5918, 28, 28)\n",
      "SAMEPICTURE (5918, 28, 28)\n"
     ]
    }
   ],
   "source": [
    "for dataset in data:\n",
    "    print(dataset, data[dataset][\"x_train\"].shape)\n"
   ]
  },
  {
   "cell_type": "code",
   "execution_count": 15,
   "metadata": {},
   "outputs": [
    {
     "name": "stdout",
     "output_type": "stream",
     "text": [
      "latent_dim 392\n",
      "fitting dataset ALL_NUMBERS\n",
      " 24/185 [==>...........................] - ETA: 0s - loss: 0.1079"
     ]
    },
    {
     "name": "stderr",
     "output_type": "stream",
     "text": [
      "2021-11-18 21:10:31.531873: I tensorflow/core/grappler/optimizers/custom_graph_optimizer_registry.cc:112] Plugin optimizer for device_type GPU is enabled.\n"
     ]
    },
    {
     "name": "stdout",
     "output_type": "stream",
     "text": [
      "185/185 [==============================] - 1s 4ms/step - loss: 0.0487\n",
      "latent_dim 392\n",
      "fitting dataset SIX_AND_NINES\n",
      " 39/185 [=====>........................] - ETA: 0s - loss: 0.0809"
     ]
    },
    {
     "name": "stderr",
     "output_type": "stream",
     "text": [
      "2021-11-18 21:10:32.475781: I tensorflow/core/grappler/optimizers/custom_graph_optimizer_registry.cc:112] Plugin optimizer for device_type GPU is enabled.\n"
     ]
    },
    {
     "name": "stdout",
     "output_type": "stream",
     "text": [
      "185/185 [==============================] - 1s 4ms/step - loss: 0.0420\n",
      "latent_dim 392\n",
      "fitting dataset ONLY_SIXES\n",
      " 38/185 [=====>........................] - ETA: 0s - loss: 0.0790"
     ]
    },
    {
     "name": "stderr",
     "output_type": "stream",
     "text": [
      "2021-11-18 21:10:33.385947: I tensorflow/core/grappler/optimizers/custom_graph_optimizer_registry.cc:112] Plugin optimizer for device_type GPU is enabled.\n"
     ]
    },
    {
     "name": "stdout",
     "output_type": "stream",
     "text": [
      "185/185 [==============================] - 1s 4ms/step - loss: 0.0384\n",
      "latent_dim 392\n",
      "fitting dataset RANDOM\n",
      " 38/185 [=====>........................] - ETA: 0s - loss: 0.0837"
     ]
    },
    {
     "name": "stderr",
     "output_type": "stream",
     "text": [
      "2021-11-18 21:10:34.307191: I tensorflow/core/grappler/optimizers/custom_graph_optimizer_registry.cc:112] Plugin optimizer for device_type GPU is enabled.\n"
     ]
    },
    {
     "name": "stdout",
     "output_type": "stream",
     "text": [
      "185/185 [==============================] - 1s 4ms/step - loss: 0.0835\n",
      "latent_dim 392\n",
      "fitting dataset SAMEPICTURE\n",
      " 38/185 [=====>........................] - ETA: 0s - loss: 0.0384"
     ]
    },
    {
     "name": "stderr",
     "output_type": "stream",
     "text": [
      "2021-11-18 21:10:35.215459: I tensorflow/core/grappler/optimizers/custom_graph_optimizer_registry.cc:112] Plugin optimizer for device_type GPU is enabled.\n"
     ]
    },
    {
     "name": "stdout",
     "output_type": "stream",
     "text": [
      "185/185 [==============================] - 1s 4ms/step - loss: 0.0080\n"
     ]
    }
   ],
   "source": [
    "for dataset in data:\n",
    "\n",
    "    data_train = data[dataset][\"x_train\"]\n",
    "\n",
    "    autoencoder = Autoencoder(data_train.shape)\n",
    "\n",
    "    print(\"fitting dataset\",dataset)\n",
    "    hist = autoencoder.fit(data_train, data_train,\n",
    "                        epochs=1,\n",
    "                        batch_size=32,\n",
    "                        shuffle=False)\n",
    "    data[dataset][\"loss\"] = hist.history['loss'][0] * 100\n",
    "\n",
    "\n"
   ]
  },
  {
   "cell_type": "code",
   "execution_count": 8,
   "metadata": {},
   "outputs": [
    {
     "data": {
      "image/png": "[encoded data removed]",
      "text/plain": [
       "<Figure size 1080x360 with 1 Axes>"
      ]
     },
     "metadata": {
      "needs_background": "light"
     },
     "output_type": "display_data"
    }
   ],
   "source": [
    "plt.figure(figsize=(15, 5))\n",
    "for dataset in data:\n",
    "    plt.bar(dataset, data[dataset][\"loss\"])\n",
    "plt.ylabel(\"Loss-Measure\")\n",
    "plt.show()"
   ]
  },
  {
   "cell_type": "markdown",
   "metadata": {},
   "source": [
    "Hier auch wieder keine Einbeziehung der Labels -> eher ein measure für wie unterschiedlich sind die Bilder\n",
    "\n",
    "Müssen label miteinbezogen werden?"
   ]
  },
  {
   "cell_type": "markdown",
   "metadata": {},
   "source": [
    "weitere expertiment: 6 und 9 sollte schwieriger sein als 1,8"
   ]
  },
  {
   "cell_type": "code",
   "execution_count": 40,
   "metadata": {},
   "outputs": [
    {
     "name": "stdout",
     "output_type": "stream",
     "text": [
      "latent_dim 2\n",
      "fitting dataset ALL_NUMBERS PCA\n",
      "5918/5918 [==============================] - 5s 730us/step - loss: 3.4336\n",
      "latent_dim 2\n",
      "fitting dataset SIX_AND_NINES PCA\n",
      "5918/5918 [==============================] - 5s 772us/step - loss: 3.7066\n",
      "latent_dim 2\n",
      "fitting dataset ONLY_SIXES PCA\n",
      "5918/5918 [==============================] - 5s 786us/step - loss: 3.8635\n",
      "latent_dim 2\n",
      "fitting dataset RANDOM PCA\n",
      "5918/5918 [==============================] - 5s 751us/step - loss: 0.1750\n"
     ]
    },
    {
     "name": "stderr",
     "output_type": "stream",
     "text": [
      "/Users/felixbieswanger/Desktop/Uni_Stuff/KIT/Master/Module/QML/Code/masKIT/venv/lib/python3.8/site-packages/sklearn/decomposition/_pca.py:595: RuntimeWarning: divide by zero encountered in true_divide\n",
      "  self.explained_variance_ratio_ = self.explained_variance_ / total_var.sum()\n"
     ]
    },
    {
     "name": "stdout",
     "output_type": "stream",
     "text": [
      "latent_dim 2\n",
      "fitting dataset SAMEPICTURE PCA\n",
      "5918/5918 [==============================] - 6s 922us/step - loss: 0.0189\n"
     ]
    }
   ],
   "source": [
    "for dataset in data:\n",
    "    data[dataset][\"x_train_pca\"] = h.PCA(data[dataset][\"x_train\"],n_components=4)\n",
    "    d_set_pca = data[dataset][\"x_train_pca\"]\n",
    "\n",
    "    autoencoder = Autoencoder(shape=d_set_pca.shape)\n",
    "\n",
    "    print(\"fitting dataset\", dataset, \"PCA\")\n",
    "    hist = autoencoder.fit(d_set_pca, d_set_pca,\n",
    "                           epochs=1,\n",
    "                           batch_size=1,\n",
    "                           shuffle=False)\n",
    "    data[dataset][\"loss_pca\"] = hist.history['loss'][0] * 100\n"
   ]
  },
  {
   "cell_type": "code",
   "execution_count": 49,
   "metadata": {},
   "outputs": [
    {
     "data": {
      "image/png": "[encoded data removed]",
      "text/plain": [
       "<Figure size 1080x576 with 60 Axes>"
      ]
     },
     "metadata": {
      "needs_background": "light"
     },
     "output_type": "display_data"
    }
   ],
   "source": [
    "# get sixes and plot them\n",
    "sechsen = data[\"SIX_AND_NINES\"][\"x_train_pca\"][(data[\"SIX_AND_NINES\"][\"y_train\"] == 6)]\n",
    "h.plot_grid(sechsen, labels=data[\"SIX_AND_NINES\"][\"y_train\"][(\n",
    "    data[\"SIX_AND_NINES\"][\"y_train\"] == 6)], rows=20, cols=3)\n"
   ]
  }
 ],
 "metadata": {
  "interpreter": {
   "hash": "ed478aae93aada4522e679fe7a4f3211ac34950c889d1141da8a40866d8eb496"
  },
  "kernelspec": {
   "display_name": "Python 3.8.4 64-bit ('venv': venv)",
   "language": "python",
   "name": "python3"
  },
  "language_info": {
   "codemirror_mode": {
    "name": "ipython",
    "version": 3
   },
   "file_extension": ".py",
   "mimetype": "text/x-python",
   "name": "python",
   "nbconvert_exporter": "python",
   "pygments_lexer": "ipython3",
   "version": "3.9.7"
  },
  "orig_nbformat": 4
 },
 "nbformat": 4,
 "nbformat_minor": 2
}
