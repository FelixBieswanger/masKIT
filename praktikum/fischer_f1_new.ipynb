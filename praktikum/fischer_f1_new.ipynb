{
 "cells": [
  {
   "cell_type": "code",
   "execution_count": 2,
   "metadata": {},
   "outputs": [],
   "source": [
    "from myutils import Datasets as ds\n",
    "from myutils import Helpers as h\n",
    "import numpy as np\n",
    "from matplotlib import pyplot as plt\n",
    "\n",
    "#Magic Command, so changes in myutils module are reloaded\n",
    "%load_ext autoreload\n",
    "%autoreload 1\n",
    "%aimport myutils"
   ]
  },
  {
   "cell_type": "markdown",
   "metadata": {},
   "source": [
    "Concat=True, combines the training and test dataset.\n",
    "\n",
    "Here to have more data to evalutate the complexity measures (no split is needed in this step, so why not use all of the data)"
   ]
  },
  {
   "cell_type": "code",
   "execution_count": 3,
   "metadata": {},
   "outputs": [
    {
     "name": "stdout",
     "output_type": "stream",
     "text": [
      "ALL_NUMBERS\n",
      "SIX_AND_NINES\n",
      "ONLY_SIXES\n",
      "RANDOM\n",
      "SAMEPICTURE\n"
     ]
    }
   ],
   "source": [
    "data = ds.get_all_data(concat=True)"
   ]
  },
  {
   "cell_type": "code",
   "execution_count": 4,
   "metadata": {},
   "outputs": [
    {
     "name": "stderr",
     "output_type": "stream",
     "text": [
      "/Users/felixbieswanger/miniforge3/envs/tfm1/lib/python3.9/site-packages/sklearn/decomposition/_pca.py:595: RuntimeWarning: invalid value encountered in true_divide\n",
      "  self.explained_variance_ratio_ = self.explained_variance_ / total_var.sum()\n"
     ]
    }
   ],
   "source": [
    "for dataset in data:\n",
    "    data[dataset][\"x_pca\"] = h.PCA(data[dataset][\"x\"],n_components=4, reshape=False)"
   ]
  },
  {
   "cell_type": "code",
   "execution_count": 59,
   "metadata": {},
   "outputs": [
    {
     "name": "stdout",
     "output_type": "stream",
     "text": [
      "ALL_NUMBERS\n",
      "[2.81173627 3.80091595 0.47742415 1.44197464]\n",
      "\n",
      "SIX_AND_NINES\n",
      "[8.5488589  0.06026788 0.02749829 0.01466895]\n",
      "\n",
      "ONLY_SIXES\n",
      "[0. 0. 0. 0.]\n",
      "\n",
      "RANDOM\n",
      "[0.00012013 0.00018603 0.00041621 0.00020144]\n",
      "\n",
      "SAMEPICTURE\n",
      "[3.05274865e+27 3.85925850e-26 2.08798270e-35 1.09143906e-34]\n",
      "\n"
     ]
    }
   ],
   "source": [
    "for dataset in data:\n",
    "    x = data[dataset][\"x_pca\"]\n",
    "    y = data[dataset][\"y\"]\n",
    "\n",
    "    unique_y = np.unique(y)\n",
    "\n",
    "    classes = {}\n",
    "    for label in unique_y:\n",
    "        classes[label] = x[y == label]\n",
    "\n",
    "    fdr = np.zeros(4)\n",
    "    for fi in range(4):\n",
    "\n",
    "        zähler = list()\n",
    "        for j in unique_y:\n",
    "            for k in unique_y:\n",
    "                if j != k:\n",
    "                    p_cj = len(classes[j]) / len(x)\n",
    "                    p_ck = len(classes[k]) / len(x)\n",
    "\n",
    "                    u_cj = np.mean(classes[j][:,fi], axis=0)\n",
    "                    u_ck = np.mean(classes[k][:,fi], axis=0)\n",
    "\n",
    "                    zähler.append(p_cj*p_ck*(np.power((u_cj-u_ck),2)))\n",
    "\n",
    "\n",
    "        nenner = list()\n",
    "        for j in unique_y:\n",
    "            p_cj = len(classes[j]) / len(x)\n",
    "            sigma_cj = np.std(classes[j][:,fi], axis=0)\n",
    "            nenner.append(p_cj*(np.power(sigma_cj,2)))\n",
    "\n",
    "        \n",
    "        fdr[fi] = np.sum(zähler)/np.sum(nenner)\n",
    "    print(dataset)\n",
    "    print(fdr)\n",
    "    print()\n",
    "    data[dataset][\"fdr\"] = fdr\n",
    "\n",
    "\n",
    "\n",
    "    "
   ]
  },
  {
   "cell_type": "code",
   "execution_count": 6,
   "metadata": {},
   "outputs": [
    {
     "name": "stdout",
     "output_type": "stream",
     "text": [
      "ALL_NUMBERS\n",
      "[2.81173356 3.80089085 0.47742534 1.44199669]\n",
      "\n",
      "SIX_AND_NINES\n",
      "[8.54885911 0.06026788 0.02749874 0.01467177]\n",
      "\n",
      "ONLY_SIXES\n",
      "[0. 0. 0. 0.]\n",
      "\n",
      "RANDOM\n",
      "[0.00036497 0.00013435 0.00017651 0.00040311]\n",
      "\n",
      "SAMEPICTURE\n",
      "[0. 0. 0. 0.]\n",
      "\n"
     ]
    }
   ],
   "source": [
    "for dataset in data:\n",
    "    x = data[dataset][\"x_pca\"]\n",
    "    y = data[dataset][\"y\"]\n",
    "    \n",
    "    unique_y = np.unique(y)\n",
    "    \n",
    "    classes = {}\n",
    "    for label in unique_y:\n",
    "        classes[label] = x[y == label]\n",
    "    \n",
    "    fdr = np.zeros(4)\n",
    "    for fi in range(4):\n",
    "    \n",
    "        zähler = list()\n",
    "        for j in unique_y:\n",
    "            for k in unique_y:\n",
    "                if j != k:\n",
    "                    p_cj = len(classes[j]) / len(x)\n",
    "                    p_ck = len(classes[k]) / len(x)\n",
    "    \n",
    "                    u_cj = np.mean(classes[j][:,fi], axis=0)\n",
    "                    u_ck = np.mean(classes[k][:,fi], axis=0)\n",
    "    \n",
    "                    zähler.append(p_cj*p_ck*(np.power((u_cj-u_ck),2)))\n",
    "    \n",
    "    \n",
    "        nenner = list()\n",
    "        for j in unique_y:\n",
    "            p_cj = len(classes[j]) / len(x)\n",
    "            sigma_cj = np.std(classes[j][:,fi], axis=0)\n",
    "            nenner.append(p_cj*(np.power(sigma_cj,2)))\n",
    "    \n",
    "        if np.sum(nenner) == 0.0:\n",
    "            fdr[fi] = 0\n",
    "        else:\n",
    "            fdr[fi] = np.sum(zähler)/np.sum(nenner)\n",
    "    print(dataset)\n",
    "    print(fdr)\n",
    "    print()\n",
    "    data[dataset][\"fdr\"] = fdr"
   ]
  },
  {
   "cell_type": "code",
   "execution_count": 9,
   "metadata": {},
   "outputs": [
    {
     "data": {
      "image/png": "[encoded data removed]",
      "text/plain": [
       "<Figure size 1080x720 with 5 Axes>"
      ]
     },
     "metadata": {
      "needs_background": "light"
     },
     "output_type": "display_data"
    }
   ],
   "source": [
    "i=0\n",
    "# plot fdr in grid\n",
    "fig, ax = plt.subplots(1,5,figsize=(15,10))\n",
    "for dataset in data:\n",
    "    ax[i].imshow(np.round(data[dataset][\"fdr\"],5).reshape(2,2),cmap=\"Blues\")\n",
    "    for j in range(2):\n",
    "        for k in range(2):\n",
    "            ax[i].annotate(\"{:.4f}\".format(data[dataset][\"fdr\"][j*2+k]),xy=(k-0.35,j))\n",
    "    ax[i].set_title(dataset)\n",
    "    i+=1"
   ]
  },
  {
   "cell_type": "code",
   "execution_count": null,
   "metadata": {},
   "outputs": [],
   "source": []
  }
 ],
 "metadata": {
  "interpreter": {
   "hash": "66fbc7444ff33bf974f21d3d224fe531a78305e3f7b70f0cb67a92233fdb1f5a"
  },
  "kernelspec": {
   "display_name": "Python 3.9.7 64-bit ('tfm1': conda)",
   "language": "python",
   "name": "python3"
  },
  "language_info": {
   "codemirror_mode": {
    "name": "ipython",
    "version": 3
   },
   "file_extension": ".py",
   "mimetype": "text/x-python",
   "name": "python",
   "nbconvert_exporter": "python",
   "pygments_lexer": "ipython3",
   "version": "3.9.7"
  },
  "orig_nbformat": 4
 },
 "nbformat": 4,
 "nbformat_minor": 2
}
