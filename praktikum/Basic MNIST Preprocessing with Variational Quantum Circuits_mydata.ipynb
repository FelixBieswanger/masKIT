{
 "cells": [
  {
   "cell_type": "code",
   "execution_count": 1,
   "id": "50659a9a",
   "metadata": {},
   "outputs": [],
   "source": [
    "import random\n",
    "import pennylane as qml\n",
    "from pennylane import numpy as np\n",
    "from myutils import *\n",
    "\n",
    "#Magic Command, so changes in myutils module are reloaded\n",
    "%load_ext autoreload\n",
    "%autoreload 1\n",
    "%aimport myutils"
   ]
  },
  {
   "cell_type": "code",
   "execution_count": 2,
   "id": "1c27ca6f",
   "metadata": {},
   "outputs": [],
   "source": [
    "# Setting seeds for reproducible results\n",
    "np.random.seed(1337)\n",
    "random.seed(1337)"
   ]
  },
  {
   "cell_type": "markdown",
   "id": "339df97f",
   "metadata": {},
   "source": [
    "# Loading the data"
   ]
  },
  {
   "cell_type": "code",
   "execution_count": 46,
   "id": "1bf35809",
   "metadata": {},
   "outputs": [],
   "source": [
    "data=  Datasets.get_preprocessed_datasets(\"PCA\")[\"PCA\"][\"6,9\"]\n",
    "\n",
    "#scale data 0, 2*np\n",
    "data[\"x_train\"] = Preprocessing.minmax_scaler(data[\"x_train\"] , min = 0,max = 2 * np.pi)\n",
    "data[\"x_test\"] = Preprocessing.minmax_scaler(data[\"x_test\"], min = 0,max = 2 * np.pi)\n",
    "\n",
    "for type in [\"y_train_binary\",\"y_test_binary\"]:\n",
    "    quantum_convert = []\n",
    "    for i in range(len(data[type])):\n",
    "        if data[type][i] == 0:\n",
    "            quantum_convert.append(np.array([0,1]))\n",
    "        else:\n",
    "            quantum_convert.append(np.array([1,0]))\n",
    "\n",
    "    data[type+\"_quantum\"] = np.array(quantum_convert)"
   ]
  },
  {
   "cell_type": "code",
   "execution_count": 47,
   "id": "4f9820bd",
   "metadata": {},
   "outputs": [
    {
     "name": "stdout",
     "output_type": "stream",
     "text": [
      "train 35, test15\n"
     ]
    }
   ],
   "source": [
    "# sampling and splitting \n",
    "\n",
    "n = 50\n",
    "split = 0.7\n",
    "\n",
    "training_indices = random.sample(range(len(data[\"x_train\"])), int(n*split))\n",
    "test_indices =  random.sample(range(len(data[\"x_test\"])), int(n*(1-split)))\n",
    "\n",
    "data[\"x_train_subset\"] = data[\"x_train\"][training_indices]\n",
    "data[\"y_train_binary_quantum_subset\"] = data[\"y_train_binary_quantum\"][training_indices]\n",
    "\n",
    "data[\"x_test_subset\"] = data[\"x_test\"][test_indices]\n",
    "data[\"y_test_binary_quantum_subset\"] = data[\"y_test_binary_quantum\"][test_indices]\n",
    "\n",
    "\n",
    "print(\"train {}, test{}\".format(len(data[\"x_train_subset\"]),len(data[\"x_test_subset\"])))"
   ]
  },
  {
   "cell_type": "code",
   "execution_count": 48,
   "id": "7c1dfc57",
   "metadata": {},
   "outputs": [
    {
     "name": "stdout",
     "output_type": "stream",
     "text": [
      "epoch 0: train_cost:0.880 train_acc:0.571 test_cost:0.535  test_acc:0.933\n",
      "epoch 1: train_cost:0.405 train_acc:0.886 test_cost:0.244  test_acc:0.933\n",
      "epoch 2: train_cost:0.288 train_acc:0.943 test_cost:0.257  test_acc:0.933\n",
      "epoch 3: train_cost:0.257 train_acc:0.943 test_cost:0.232  test_acc:1.000\n",
      "epoch 4: train_cost:0.256 train_acc:0.971 test_cost:0.215  test_acc:1.000\n",
      "CPU times: user 27.3 s, sys: 85.6 ms, total: 27.4 s\n",
      "Wall time: 27.4 s\n"
     ]
    }
   ],
   "source": [
    "%%time\n",
    "qcircuit = QuatumCircuit()\n",
    "hist = qcircuit.train(x_train=data[\"x_train_subset\"],\n",
    "y_train=data[\"y_train_binary_quantum_subset\"],\n",
    "x_test=data[\"x_test_subset\"],\n",
    "y_test=data[\"y_test_binary_quantum_subset\"],\n",
    "epochs=5)"
   ]
  },
  {
   "cell_type": "code",
   "execution_count": 56,
   "id": "fb740c2c",
   "metadata": {},
   "outputs": [
    {
     "name": "stdout",
     "output_type": "stream",
     "text": [
      "accuracy: 0.9578 auf 1952 Validation-Daten\n"
     ]
    }
   ],
   "source": [
    "correct = 0\n",
    "validation_data = np.delete(data[\"x_test\"],test_indices,axis=0)\n",
    "validation_labels = np.delete(data[\"y_test_binary_quantum\"],test_indices,axis=0)\n",
    "\n",
    "for i in range(len(validation_data)):\n",
    "    prediction = qcircuit.predict(validation_data[i])\n",
    "    \n",
    "    if prediction == validation_labels[i].tolist():\n",
    "        correct+=1\n",
    "\n",
    "print(\"accuracy: {:.4f} auf {} Validation-Daten\".format(correct/len(data[\"x_test\"]), len(validation_data)))"
   ]
  },
  {
   "cell_type": "code",
   "execution_count": null,
   "metadata": {},
   "outputs": [],
   "source": []
  }
 ],
 "metadata": {
  "interpreter": {
   "hash": "88e75e00cca6104550b192c3a69472ab1bd4ad5bb62fbc08ff10d3358391bfd4"
  },
  "kernelspec": {
   "display_name": "Python 3.8.11 64-bit ('venv': venv)",
   "name": "python3"
  },
  "language_info": {
   "codemirror_mode": {
    "name": "ipython",
    "version": 3
   },
   "file_extension": ".py",
   "mimetype": "text/x-python",
   "name": "python",
   "nbconvert_exporter": "python",
   "pygments_lexer": "ipython3",
   "version": "3.9.7"
  }
 },
 "nbformat": 4,
 "nbformat_minor": 5
}
