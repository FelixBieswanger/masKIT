{
 "cells": [
  {
   "cell_type": "code",
   "execution_count": 1,
   "metadata": {},
   "outputs": [],
   "source": [
    "import itertools\n",
    "from myutils import Preprocessing \n",
    "from myutils import Datasets as ds\n",
    "from myutils import Helpers \n",
    "from myutils import Complexity_Measures as cm\n",
    "from myutils import QuatumCircuit\n",
    "import numpy as np\n",
    "import os\n",
    "import pandas as pd\n",
    "import tensorflow as tf\n",
    "import json\n",
    "from matplotlib import pyplot as plt\n",
    "import seaborn as sns\n",
    "\n",
    "#Magic Command, so changes in myutils module are reloaded\n",
    "%load_ext autoreload\n",
    "%autoreload 1\n",
    "%aimport myutils"
   ]
  },
  {
   "cell_type": "code",
   "execution_count": 2,
   "metadata": {},
   "outputs": [],
   "source": [
    "n_training = 100\n",
    "n_test = 1000\n",
    "np.random.seed(1337)"
   ]
  },
  {
   "cell_type": "code",
   "execution_count": 3,
   "metadata": {},
   "outputs": [
    {
     "name": "stdout",
     "output_type": "stream",
     "text": [
      "5,8\n",
      "epoch 0: train_cost:93.120 train_acc:0.670 test_cost:795.440  test_acc:0.645\n",
      "epoch 1: train_cost:78.188 train_acc:0.650 test_cost:797.128  test_acc:0.644\n",
      "epoch 2: train_cost:75.140 train_acc:0.670 test_cost:792.452  test_acc:0.642\n",
      "epoch 3: train_cost:74.684 train_acc:0.680 test_cost:782.848  test_acc:0.646\n",
      "epoch 4: train_cost:73.776 train_acc:0.680 test_cost:768.160  test_acc:0.654\n"
     ]
    }
   ],
   "source": [
    "data = ds.get_preprocessed_datasets(\"PCA\")[\"PCA\"]\n",
    "for subset in [(\"5,8\")]:\n",
    "\n",
    "    print(subset)\n",
    "\n",
    "    data_subset = data[subset]\n",
    "    \n",
    "    #select training and test data\n",
    "    data_subset[\"x_train\"], data_subset[\"y_train_binary\"]= Preprocessing.select_nExamples(data_subset[\"x_train\"],data_subset[\"y_train_binary\"], n_training)\n",
    "    data_subset[\"x_test\"], data_subset[\"y_test_binary\"]= Preprocessing.select_nExamples(data_subset[\"x_test\"],data_subset[\"y_test_binary\"], n_test)\n",
    "    \n",
    "    #scale data 0, 2*np\n",
    "    data_subset[\"x_train\"] = Preprocessing.minmax_scaler(data_subset[\"x_train\"] , min = 0,max = 2 * np.pi)\n",
    "    data_subset[\"x_test\"] = Preprocessing.minmax_scaler(data_subset[\"x_test\"], min = 0,max = 2 * np.pi)\n",
    "\n",
    "\n",
    "    #convert label from 0/1 to [0,1]/[1,0]\n",
    "    data_subset[\"y_train_quantum\"] = Preprocessing.convertlabel_to_quantumstates(data_subset[\"y_train_binary\"])\n",
    "    data_subset[\"y_test_quantum\"] = Preprocessing.convertlabel_to_quantumstates(data_subset[\"y_test_binary\"])\n",
    "\n",
    "   \n",
    "    qcircuit = QuatumCircuit()\n",
    "    hist,params = qcircuit.train(\n",
    "        x_train=data_subset[\"x_train\"],\n",
    "        y_train=data_subset[\"y_train_quantum\"],\n",
    "        x_test=data_subset[\"x_test\"],\n",
    "        y_test=data_subset[\"y_test_quantum\"],\n",
    "        epochs=5,\n",
    "        verbose=1)\n",
    "\n",
    "\n",
    "    #save the hist\n",
    "\n",
    "    Helpers.store(hist, \"measure/qcircuit_loop/pca/{}\" .format(subset),\"hist\")\n",
    "   \n",
    "\n"
   ]
  },
  {
   "cell_type": "code",
   "execution_count": null,
   "metadata": {},
   "outputs": [],
   "source": []
  }
 ],
 "metadata": {
  "interpreter": {
   "hash": "66fbc7444ff33bf974f21d3d224fe531a78305e3f7b70f0cb67a92233fdb1f5a"
  },
  "kernelspec": {
   "display_name": "Python 3.9.7 64-bit ('tfm1': conda)",
   "language": "python",
   "name": "python3"
  },
  "language_info": {
   "codemirror_mode": {
    "name": "ipython",
    "version": 3
   },
   "file_extension": ".py",
   "mimetype": "text/x-python",
   "name": "python",
   "nbconvert_exporter": "python",
   "pygments_lexer": "ipython3",
   "version": "3.9.7"
  },
  "orig_nbformat": 4
 },
 "nbformat": 4,
 "nbformat_minor": 2
}
